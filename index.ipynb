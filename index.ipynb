{
 "cells": [
  {
   "cell_type": "markdown",
   "metadata": {
    "papermill": {
     "duration": 0.011709,
     "end_time": "2020-08-26T19:32:04.205523",
     "exception": false,
     "start_time": "2020-08-26T19:32:04.193814",
     "status": "completed"
    },
    "tags": []
   },
   "source": [
    "# Daily COVID monitoring data for Santa Barbara county"
   ]
  },
  {
   "cell_type": "code",
   "execution_count": 1,
   "metadata": {
    "execution": {
     "iopub.execute_input": "2020-08-26T19:32:04.231635Z",
     "iopub.status.busy": "2020-08-26T19:32:04.231090Z",
     "iopub.status.idle": "2020-08-26T19:32:04.344801Z",
     "shell.execute_reply": "2020-08-26T19:32:04.343863Z"
    },
    "papermill": {
     "duration": 0.129465,
     "end_time": "2020-08-26T19:32:04.344955",
     "exception": false,
     "start_time": "2020-08-26T19:32:04.215490",
     "status": "completed"
    },
    "tags": [
     "remove_cell"
    ]
   },
   "outputs": [
    {
     "name": "stdout",
     "output_type": "stream",
     "text": [
      "/bin/sh: 1: jt: not found\r\n"
     ]
    }
   ],
   "source": [
    "! jt -t grade3 -tf robotosans -cellw 1100"
   ]
  },
  {
   "cell_type": "markdown",
   "metadata": {
    "papermill": {
     "duration": 0.009905,
     "end_time": "2020-08-26T19:32:04.365300",
     "exception": false,
     "start_time": "2020-08-26T19:32:04.355395",
     "status": "completed"
    },
    "tags": []
   },
   "source": [
    "This table is automatically updated with new daily COVID data for the county of Santa Barbara, CA. Every day, the California Department of Public Health publishes COVID tracking metrics for each county, but does not save the previous day's data. This tool keeps track of the daily metrics that are used to monitor progress towards safe reopening in California."
   ]
  },
  {
   "cell_type": "code",
   "execution_count": 2,
   "metadata": {
    "execution": {
     "iopub.execute_input": "2020-08-26T19:32:04.391551Z",
     "iopub.status.busy": "2020-08-26T19:32:04.391015Z",
     "iopub.status.idle": "2020-08-26T19:32:07.685321Z",
     "shell.execute_reply": "2020-08-26T19:32:07.686205Z"
    },
    "papermill": {
     "duration": 3.310866,
     "end_time": "2020-08-26T19:32:07.686375",
     "exception": false,
     "start_time": "2020-08-26T19:32:04.375509",
     "status": "completed"
    },
    "slideshow": {
     "slide_type": "skip"
    },
    "tags": [
     "remove_cell"
    ]
   },
   "outputs": [],
   "source": [
    "# Preamble\n",
    "import os\n",
    "from IPython.display import Markdown as md\n",
    "import IPython\n",
    "import requests\n",
    "from bs4 import BeautifulSoup\n",
    "import re\n",
    "import pandas as pd\n",
    "import datetime\n",
    "import gspread\n",
    "from oauth2client.service_account import ServiceAccountCredentials"
   ]
  },
  {
   "cell_type": "code",
   "execution_count": 3,
   "metadata": {
    "execution": {
     "iopub.execute_input": "2020-08-26T19:32:07.712419Z",
     "iopub.status.busy": "2020-08-26T19:32:07.711835Z",
     "iopub.status.idle": "2020-08-26T19:32:07.713276Z",
     "shell.execute_reply": "2020-08-26T19:32:07.712852Z"
    },
    "papermill": {
     "duration": 0.016537,
     "end_time": "2020-08-26T19:32:07.713389",
     "exception": false,
     "start_time": "2020-08-26T19:32:07.696852",
     "status": "completed"
    },
    "tags": []
   },
   "outputs": [],
   "source": [
    "# Set working directory\n",
    "os.chdir(\"/home/alice_lepissier/cron-job\")"
   ]
  },
  {
   "cell_type": "code",
   "execution_count": 4,
   "metadata": {
    "execution": {
     "iopub.execute_input": "2020-08-26T19:32:07.738880Z",
     "iopub.status.busy": "2020-08-26T19:32:07.738333Z",
     "iopub.status.idle": "2020-08-26T19:32:08.060549Z",
     "shell.execute_reply": "2020-08-26T19:32:08.061414Z"
    },
    "papermill": {
     "duration": 0.338553,
     "end_time": "2020-08-26T19:32:08.061579",
     "exception": false,
     "start_time": "2020-08-26T19:32:07.723026",
     "status": "completed"
    },
    "slideshow": {
     "slide_type": "skip"
    },
    "tags": [
     "remove_cell"
    ]
   },
   "outputs": [],
   "source": [
    "# Request content from URL\n",
    "html_string = requests.get('https://www.cdph.ca.gov/Programs/CID/DCDC/Pages/COVID-19/COVID19CountyDataTable.aspx').content"
   ]
  },
  {
   "cell_type": "code",
   "execution_count": 5,
   "metadata": {
    "execution": {
     "iopub.execute_input": "2020-08-26T19:32:08.087515Z",
     "iopub.status.busy": "2020-08-26T19:32:08.087011Z",
     "iopub.status.idle": "2020-08-26T19:32:08.175070Z",
     "shell.execute_reply": "2020-08-26T19:32:08.175882Z"
    },
    "papermill": {
     "duration": 0.104029,
     "end_time": "2020-08-26T19:32:08.176045",
     "exception": false,
     "start_time": "2020-08-26T19:32:08.072016",
     "status": "completed"
    },
    "slideshow": {
     "slide_type": "skip"
    },
    "tags": [
     "remove_cell"
    ]
   },
   "outputs": [],
   "source": [
    "# Parse HTML\n",
    "soup = BeautifulSoup(html_string, 'html.parser')"
   ]
  },
  {
   "cell_type": "code",
   "execution_count": 6,
   "metadata": {
    "execution": {
     "iopub.execute_input": "2020-08-26T19:32:08.203318Z",
     "iopub.status.busy": "2020-08-26T19:32:08.202806Z",
     "iopub.status.idle": "2020-08-26T19:32:08.211916Z",
     "shell.execute_reply": "2020-08-26T19:32:08.212629Z"
    },
    "papermill": {
     "duration": 0.02649,
     "end_time": "2020-08-26T19:32:08.212780",
     "exception": false,
     "start_time": "2020-08-26T19:32:08.186290",
     "status": "completed"
    },
    "slideshow": {
     "slide_type": "skip"
    },
    "tags": [
     "remove_cell"
    ]
   },
   "outputs": [],
   "source": [
    "# Extract data for Santa Barbara\n",
    "table = soup.find_all(\"tr\", class_=\"ms-rteTableEvenRow-3\")\n",
    "SB = table[21]"
   ]
  },
  {
   "cell_type": "code",
   "execution_count": 7,
   "metadata": {
    "execution": {
     "iopub.execute_input": "2020-08-26T19:32:08.243557Z",
     "iopub.status.busy": "2020-08-26T19:32:08.243043Z",
     "iopub.status.idle": "2020-08-26T19:32:08.252191Z",
     "shell.execute_reply": "2020-08-26T19:32:08.252954Z"
    },
    "papermill": {
     "duration": 0.030413,
     "end_time": "2020-08-26T19:32:08.253109",
     "exception": false,
     "start_time": "2020-08-26T19:32:08.222696",
     "status": "completed"
    },
    "slideshow": {
     "slide_type": "skip"
    },
    "tags": [
     "remove_cell"
    ]
   },
   "outputs": [],
   "source": [
    "# Avg # tests per day (per 100,000 population)\n",
    "daily_tests = SB.find_all(\"td\", class_=\"ms-rteTableOddCol-3\")[0].text\n",
    "\n",
    "# Case rate per 100,000\n",
    "case_rate = SB.find_all(\"td\", class_=\"ms-rteTableEvenCol-3\")[1].text\n",
    "\n",
    "# Testing positivity (%)\n",
    "test_positivity = SB.find_all(\"td\", class_=\"ms-rteTableOddCol-3\")[1].text\n",
    "\n",
    "# % Change in 3-day avg COVID+ hospitalized patients\n",
    "change_hospit = SB.find_all(\"td\", class_=\"ms-rteTableEvenCol-3\")[2].text\n",
    "\n",
    "# % ICU beds currently available\n",
    "ICU_beds = SB.find_all(\"td\", class_=\"ms-rteTableOddCol-3\")[2].text\n",
    "\n",
    "# % Ventilators currently available\n",
    "ventilators = SB.find_all(\"td\", class_=\"ms-rteTableEvenCol-3\")[3].text\n",
    "\n",
    "# Extract date of last update\n",
    "update_date = soup.find_all(\"span\", class_=\"ms-rteStyle-Accent1\")[1]\\\n",
    "    .find(\"em\").text"
   ]
  },
  {
   "cell_type": "code",
   "execution_count": 8,
   "metadata": {
    "execution": {
     "iopub.execute_input": "2020-08-26T19:32:08.278665Z",
     "iopub.status.busy": "2020-08-26T19:32:08.278001Z",
     "iopub.status.idle": "2020-08-26T19:32:08.279514Z",
     "shell.execute_reply": "2020-08-26T19:32:08.279096Z"
    },
    "papermill": {
     "duration": 0.016531,
     "end_time": "2020-08-26T19:32:08.279631",
     "exception": false,
     "start_time": "2020-08-26T19:32:08.263100",
     "status": "completed"
    },
    "tags": [
     "remove_cell"
    ]
   },
   "outputs": [],
   "source": [
    "# Create updated date string\n",
    "update_tag = \"Table last updated by CDPH on \" + update_date.split(\" on \", 1)[1] + \".\""
   ]
  },
  {
   "cell_type": "code",
   "execution_count": 9,
   "metadata": {
    "execution": {
     "iopub.execute_input": "2020-08-26T19:32:08.303855Z",
     "iopub.status.busy": "2020-08-26T19:32:08.303353Z",
     "iopub.status.idle": "2020-08-26T19:32:08.312516Z",
     "shell.execute_reply": "2020-08-26T19:32:08.313305Z"
    },
    "papermill": {
     "duration": 0.024076,
     "end_time": "2020-08-26T19:32:08.313490",
     "exception": false,
     "start_time": "2020-08-26T19:32:08.289414",
     "status": "completed"
    },
    "slideshow": {
     "slide_type": "skip"
    },
    "tags": [
     "remove_cell"
    ]
   },
   "outputs": [],
   "source": [
    "# Set up Google Sheet API\n",
    "scope = [\"https://spreadsheets.google.com/feeds\",'https://www.googleapis.com/auth/spreadsheets',\"https://www.googleapis.com/auth/drive.file\",\"https://www.googleapis.com/auth/drive\"]\n",
    "creds = ServiceAccountCredentials.from_json_keyfile_name(\"credentials.json\", scope)\n",
    "client = gspread.authorize(creds)"
   ]
  },
  {
   "cell_type": "code",
   "execution_count": 10,
   "metadata": {
    "execution": {
     "iopub.execute_input": "2020-08-26T19:32:08.339535Z",
     "iopub.status.busy": "2020-08-26T19:32:08.339031Z",
     "iopub.status.idle": "2020-08-26T19:32:09.307910Z",
     "shell.execute_reply": "2020-08-26T19:32:09.308705Z"
    },
    "papermill": {
     "duration": 0.985339,
     "end_time": "2020-08-26T19:32:09.308870",
     "exception": false,
     "start_time": "2020-08-26T19:32:08.323531",
     "status": "completed"
    },
    "slideshow": {
     "slide_type": "skip"
    },
    "tags": [
     "remove_cell"
    ]
   },
   "outputs": [
    {
     "data": {
      "text/plain": [
       "{'spreadsheetId': '1pcqdMzKtea2Oq3BDmdAOQ21gZjCssieKI0692VfNLXU',\n",
       " 'updatedRange': 'Sheet1!A2:G2',\n",
       " 'updatedRows': 1,\n",
       " 'updatedColumns': 7,\n",
       " 'updatedCells': 7}"
      ]
     },
     "execution_count": 10,
     "metadata": {},
     "output_type": "execute_result"
    }
   ],
   "source": [
    "# Append daily data as a new row in Google Sheet\n",
    "sheet = client.open(\"Test cron job\").sheet1\n",
    "insertRow = [datetime.date.today().strftime(\"%Y-%m-%d\"),\n",
    "             daily_tests,\n",
    "             case_rate,\n",
    "             test_positivity,\n",
    "             change_hospit,\n",
    "             ICU_beds,\n",
    "             ventilators]\n",
    "sheet.insert_row(insertRow, 2)"
   ]
  },
  {
   "cell_type": "code",
   "execution_count": 11,
   "metadata": {
    "execution": {
     "iopub.execute_input": "2020-08-26T19:32:09.334842Z",
     "iopub.status.busy": "2020-08-26T19:32:09.334335Z",
     "iopub.status.idle": "2020-08-26T19:32:09.871757Z",
     "shell.execute_reply": "2020-08-26T19:32:09.872556Z"
    },
    "papermill": {
     "duration": 0.553165,
     "end_time": "2020-08-26T19:32:09.872722",
     "exception": false,
     "start_time": "2020-08-26T19:32:09.319557",
     "status": "completed"
    },
    "scrolled": true,
    "slideshow": {
     "slide_type": "slide"
    },
    "tags": [
     "remove_cell"
    ]
   },
   "outputs": [],
   "source": [
    "# Extract data from Google Sheet as pandas dataframe\n",
    "sheet = client.open(\"Test cron job\").sheet1\n",
    "data = sheet.get_all_records()\n",
    "result = pd.DataFrame(data).set_index(\"Date\")"
   ]
  },
  {
   "cell_type": "code",
   "execution_count": 12,
   "metadata": {
    "execution": {
     "iopub.execute_input": "2020-08-26T19:32:09.899412Z",
     "iopub.status.busy": "2020-08-26T19:32:09.898921Z",
     "iopub.status.idle": "2020-08-26T19:32:11.020003Z",
     "shell.execute_reply": "2020-08-26T19:32:11.020813Z"
    },
    "papermill": {
     "duration": 1.137937,
     "end_time": "2020-08-26T19:32:11.020980",
     "exception": false,
     "start_time": "2020-08-26T19:32:09.883043",
     "status": "completed"
    },
    "scrolled": true,
    "tags": [
     "remove_input"
    ]
   },
   "outputs": [
    {
     "data": {
      "text/html": [
       "<style  type=\"text/css\" >\n",
       "    #T_d624dc22_e7d2_11ea_b609_42010a8a0004 th {\n",
       "          text-align: center;\n",
       "    }#T_d624dc22_e7d2_11ea_b609_42010a8a0004row0_col0,#T_d624dc22_e7d2_11ea_b609_42010a8a0004row1_col0,#T_d624dc22_e7d2_11ea_b609_42010a8a0004row2_col0,#T_d624dc22_e7d2_11ea_b609_42010a8a0004row3_col0,#T_d624dc22_e7d2_11ea_b609_42010a8a0004row4_col0,#T_d624dc22_e7d2_11ea_b609_42010a8a0004row5_col0,#T_d624dc22_e7d2_11ea_b609_42010a8a0004row6_col0{\n",
       "            width:  20em;\n",
       "            text-align:  center;\n",
       "            font-weight:  bold;\n",
       "        }#T_d624dc22_e7d2_11ea_b609_42010a8a0004row0_col1,#T_d624dc22_e7d2_11ea_b609_42010a8a0004row0_col2,#T_d624dc22_e7d2_11ea_b609_42010a8a0004row0_col3,#T_d624dc22_e7d2_11ea_b609_42010a8a0004row0_col4,#T_d624dc22_e7d2_11ea_b609_42010a8a0004row0_col5,#T_d624dc22_e7d2_11ea_b609_42010a8a0004row0_col6,#T_d624dc22_e7d2_11ea_b609_42010a8a0004row1_col1,#T_d624dc22_e7d2_11ea_b609_42010a8a0004row1_col2,#T_d624dc22_e7d2_11ea_b609_42010a8a0004row1_col3,#T_d624dc22_e7d2_11ea_b609_42010a8a0004row1_col4,#T_d624dc22_e7d2_11ea_b609_42010a8a0004row1_col5,#T_d624dc22_e7d2_11ea_b609_42010a8a0004row1_col6,#T_d624dc22_e7d2_11ea_b609_42010a8a0004row2_col1,#T_d624dc22_e7d2_11ea_b609_42010a8a0004row2_col2,#T_d624dc22_e7d2_11ea_b609_42010a8a0004row2_col3,#T_d624dc22_e7d2_11ea_b609_42010a8a0004row2_col4,#T_d624dc22_e7d2_11ea_b609_42010a8a0004row2_col5,#T_d624dc22_e7d2_11ea_b609_42010a8a0004row2_col6,#T_d624dc22_e7d2_11ea_b609_42010a8a0004row3_col1,#T_d624dc22_e7d2_11ea_b609_42010a8a0004row3_col2,#T_d624dc22_e7d2_11ea_b609_42010a8a0004row3_col3,#T_d624dc22_e7d2_11ea_b609_42010a8a0004row3_col4,#T_d624dc22_e7d2_11ea_b609_42010a8a0004row3_col5,#T_d624dc22_e7d2_11ea_b609_42010a8a0004row3_col6,#T_d624dc22_e7d2_11ea_b609_42010a8a0004row4_col1,#T_d624dc22_e7d2_11ea_b609_42010a8a0004row4_col2,#T_d624dc22_e7d2_11ea_b609_42010a8a0004row4_col3,#T_d624dc22_e7d2_11ea_b609_42010a8a0004row4_col4,#T_d624dc22_e7d2_11ea_b609_42010a8a0004row4_col5,#T_d624dc22_e7d2_11ea_b609_42010a8a0004row4_col6,#T_d624dc22_e7d2_11ea_b609_42010a8a0004row5_col1,#T_d624dc22_e7d2_11ea_b609_42010a8a0004row5_col2,#T_d624dc22_e7d2_11ea_b609_42010a8a0004row5_col3,#T_d624dc22_e7d2_11ea_b609_42010a8a0004row5_col4,#T_d624dc22_e7d2_11ea_b609_42010a8a0004row5_col5,#T_d624dc22_e7d2_11ea_b609_42010a8a0004row5_col6,#T_d624dc22_e7d2_11ea_b609_42010a8a0004row6_col1,#T_d624dc22_e7d2_11ea_b609_42010a8a0004row6_col2,#T_d624dc22_e7d2_11ea_b609_42010a8a0004row6_col3,#T_d624dc22_e7d2_11ea_b609_42010a8a0004row6_col4,#T_d624dc22_e7d2_11ea_b609_42010a8a0004row6_col5,#T_d624dc22_e7d2_11ea_b609_42010a8a0004row6_col6{\n",
       "            width:  20em;\n",
       "            text-align:  center;\n",
       "        }</style><table id=\"T_d624dc22_e7d2_11ea_b609_42010a8a0004\" ><thead>    <tr>        <th class=\"col_heading level0 col0\" >Date</th>        <th class=\"col_heading level0 col1\" >Daily tests (per 100,000)¹</th>        <th class=\"col_heading level0 col2\" >Case rate (per 100,000)²</th>        <th class=\"col_heading level0 col3\" >Testing positivity (%)³</th>        <th class=\"col_heading level0 col4\" >Change in hospitalizations (%)⁴</th>        <th class=\"col_heading level0 col5\" >ICU beds available (%)</th>        <th class=\"col_heading level0 col6\" >Ventilators (available (%)</th>    </tr></thead><tbody>\n",
       "                <tr>\n",
       "                                <td id=\"T_d624dc22_e7d2_11ea_b609_42010a8a0004row0_col0\" class=\"data row0 col0\" >2020-08-26</td>\n",
       "                        <td id=\"T_d624dc22_e7d2_11ea_b609_42010a8a0004row0_col1\" class=\"data row0 col1\" >219.7</td>\n",
       "                        <td id=\"T_d624dc22_e7d2_11ea_b609_42010a8a0004row0_col2\" class=\"data row0 col2\" >133.2</td>\n",
       "                        <td id=\"T_d624dc22_e7d2_11ea_b609_42010a8a0004row0_col3\" class=\"data row0 col3\" > ✔</td>\n",
       "                        <td id=\"T_d624dc22_e7d2_11ea_b609_42010a8a0004row0_col4\" class=\"data row0 col4\" > ✔</td>\n",
       "                        <td id=\"T_d624dc22_e7d2_11ea_b609_42010a8a0004row0_col5\" class=\"data row0 col5\" > ✔</td>\n",
       "                        <td id=\"T_d624dc22_e7d2_11ea_b609_42010a8a0004row0_col6\" class=\"data row0 col6\" > ✔</td>\n",
       "            </tr>\n",
       "            <tr>\n",
       "                                <td id=\"T_d624dc22_e7d2_11ea_b609_42010a8a0004row1_col0\" class=\"data row1 col0\" >2020-08-26</td>\n",
       "                        <td id=\"T_d624dc22_e7d2_11ea_b609_42010a8a0004row1_col1\" class=\"data row1 col1\" >219.7</td>\n",
       "                        <td id=\"T_d624dc22_e7d2_11ea_b609_42010a8a0004row1_col2\" class=\"data row1 col2\" >133.2</td>\n",
       "                        <td id=\"T_d624dc22_e7d2_11ea_b609_42010a8a0004row1_col3\" class=\"data row1 col3\" > ✔</td>\n",
       "                        <td id=\"T_d624dc22_e7d2_11ea_b609_42010a8a0004row1_col4\" class=\"data row1 col4\" > ✔</td>\n",
       "                        <td id=\"T_d624dc22_e7d2_11ea_b609_42010a8a0004row1_col5\" class=\"data row1 col5\" > ✔</td>\n",
       "                        <td id=\"T_d624dc22_e7d2_11ea_b609_42010a8a0004row1_col6\" class=\"data row1 col6\" > ✔</td>\n",
       "            </tr>\n",
       "            <tr>\n",
       "                                <td id=\"T_d624dc22_e7d2_11ea_b609_42010a8a0004row2_col0\" class=\"data row2 col0\" >2020-08-26</td>\n",
       "                        <td id=\"T_d624dc22_e7d2_11ea_b609_42010a8a0004row2_col1\" class=\"data row2 col1\" >219.7</td>\n",
       "                        <td id=\"T_d624dc22_e7d2_11ea_b609_42010a8a0004row2_col2\" class=\"data row2 col2\" >133.2</td>\n",
       "                        <td id=\"T_d624dc22_e7d2_11ea_b609_42010a8a0004row2_col3\" class=\"data row2 col3\" > ✔</td>\n",
       "                        <td id=\"T_d624dc22_e7d2_11ea_b609_42010a8a0004row2_col4\" class=\"data row2 col4\" > ✔</td>\n",
       "                        <td id=\"T_d624dc22_e7d2_11ea_b609_42010a8a0004row2_col5\" class=\"data row2 col5\" > ✔</td>\n",
       "                        <td id=\"T_d624dc22_e7d2_11ea_b609_42010a8a0004row2_col6\" class=\"data row2 col6\" > ✔</td>\n",
       "            </tr>\n",
       "            <tr>\n",
       "                                <td id=\"T_d624dc22_e7d2_11ea_b609_42010a8a0004row3_col0\" class=\"data row3 col0\" >2020-08-26</td>\n",
       "                        <td id=\"T_d624dc22_e7d2_11ea_b609_42010a8a0004row3_col1\" class=\"data row3 col1\" >219.7</td>\n",
       "                        <td id=\"T_d624dc22_e7d2_11ea_b609_42010a8a0004row3_col2\" class=\"data row3 col2\" >133.2</td>\n",
       "                        <td id=\"T_d624dc22_e7d2_11ea_b609_42010a8a0004row3_col3\" class=\"data row3 col3\" > ✔</td>\n",
       "                        <td id=\"T_d624dc22_e7d2_11ea_b609_42010a8a0004row3_col4\" class=\"data row3 col4\" > ✔</td>\n",
       "                        <td id=\"T_d624dc22_e7d2_11ea_b609_42010a8a0004row3_col5\" class=\"data row3 col5\" > ✔</td>\n",
       "                        <td id=\"T_d624dc22_e7d2_11ea_b609_42010a8a0004row3_col6\" class=\"data row3 col6\" > ✔</td>\n",
       "            </tr>\n",
       "            <tr>\n",
       "                                <td id=\"T_d624dc22_e7d2_11ea_b609_42010a8a0004row4_col0\" class=\"data row4 col0\" >2020-08-26</td>\n",
       "                        <td id=\"T_d624dc22_e7d2_11ea_b609_42010a8a0004row4_col1\" class=\"data row4 col1\" >219.7</td>\n",
       "                        <td id=\"T_d624dc22_e7d2_11ea_b609_42010a8a0004row4_col2\" class=\"data row4 col2\" >133.2</td>\n",
       "                        <td id=\"T_d624dc22_e7d2_11ea_b609_42010a8a0004row4_col3\" class=\"data row4 col3\" > ✔</td>\n",
       "                        <td id=\"T_d624dc22_e7d2_11ea_b609_42010a8a0004row4_col4\" class=\"data row4 col4\" > ✔</td>\n",
       "                        <td id=\"T_d624dc22_e7d2_11ea_b609_42010a8a0004row4_col5\" class=\"data row4 col5\" > ✔</td>\n",
       "                        <td id=\"T_d624dc22_e7d2_11ea_b609_42010a8a0004row4_col6\" class=\"data row4 col6\" > ✔</td>\n",
       "            </tr>\n",
       "            <tr>\n",
       "                                <td id=\"T_d624dc22_e7d2_11ea_b609_42010a8a0004row5_col0\" class=\"data row5 col0\" >2020-08-26</td>\n",
       "                        <td id=\"T_d624dc22_e7d2_11ea_b609_42010a8a0004row5_col1\" class=\"data row5 col1\" >219.7</td>\n",
       "                        <td id=\"T_d624dc22_e7d2_11ea_b609_42010a8a0004row5_col2\" class=\"data row5 col2\" >133.2</td>\n",
       "                        <td id=\"T_d624dc22_e7d2_11ea_b609_42010a8a0004row5_col3\" class=\"data row5 col3\" > ✔</td>\n",
       "                        <td id=\"T_d624dc22_e7d2_11ea_b609_42010a8a0004row5_col4\" class=\"data row5 col4\" > ✔</td>\n",
       "                        <td id=\"T_d624dc22_e7d2_11ea_b609_42010a8a0004row5_col5\" class=\"data row5 col5\" > ✔</td>\n",
       "                        <td id=\"T_d624dc22_e7d2_11ea_b609_42010a8a0004row5_col6\" class=\"data row5 col6\" > ✔</td>\n",
       "            </tr>\n",
       "            <tr>\n",
       "                                <td id=\"T_d624dc22_e7d2_11ea_b609_42010a8a0004row6_col0\" class=\"data row6 col0\" >2020-08-26</td>\n",
       "                        <td id=\"T_d624dc22_e7d2_11ea_b609_42010a8a0004row6_col1\" class=\"data row6 col1\" >219.7</td>\n",
       "                        <td id=\"T_d624dc22_e7d2_11ea_b609_42010a8a0004row6_col2\" class=\"data row6 col2\" >133.2</td>\n",
       "                        <td id=\"T_d624dc22_e7d2_11ea_b609_42010a8a0004row6_col3\" class=\"data row6 col3\" > ✔</td>\n",
       "                        <td id=\"T_d624dc22_e7d2_11ea_b609_42010a8a0004row6_col4\" class=\"data row6 col4\" > ✔</td>\n",
       "                        <td id=\"T_d624dc22_e7d2_11ea_b609_42010a8a0004row6_col5\" class=\"data row6 col5\" > ✔</td>\n",
       "                        <td id=\"T_d624dc22_e7d2_11ea_b609_42010a8a0004row6_col6\" class=\"data row6 col6\" > ✔</td>\n",
       "            </tr>\n",
       "    </tbody></table>"
      ],
      "text/plain": [
       "<pandas.io.formats.style.Styler at 0x7f07d9e20a90>"
      ]
     },
     "execution_count": 12,
     "metadata": {},
     "output_type": "execute_result"
    }
   ],
   "source": [
    "# Style the pandas dataframe\n",
    "d = dict(selector=\"th\",\n",
    "         props=[('text-align', 'center')])\n",
    "\n",
    "result.reset_index().style\\\n",
    "    .set_properties(**{'width':'20em', 'text-align':'center'})\\\n",
    "    .set_properties(subset=['Date'], **{'font-weight': 'bold'})\\\n",
    "    .set_table_styles([d])\\\n",
    "    .set_precision(1)\\\n",
    "    .hide_index()"
   ]
  },
  {
   "cell_type": "markdown",
   "metadata": {
    "papermill": {
     "duration": 0.010685,
     "end_time": "2020-08-26T19:32:11.043183",
     "exception": false,
     "start_time": "2020-08-26T19:32:11.032498",
     "status": "completed"
    },
    "tags": []
   },
   "source": [
    "<sup>Notes: (1) 7 day average with a 7-day lag. (2) 14 day average. (3) 7 day average with a 7-day lag. (4) Change in 3 day average.</sup>"
   ]
  },
  {
   "cell_type": "code",
   "execution_count": 13,
   "metadata": {
    "execution": {
     "iopub.execute_input": "2020-08-26T19:32:11.070074Z",
     "iopub.status.busy": "2020-08-26T19:32:11.069571Z",
     "iopub.status.idle": "2020-08-26T19:32:11.073186Z",
     "shell.execute_reply": "2020-08-26T19:32:11.072758Z"
    },
    "papermill": {
     "duration": 0.019564,
     "end_time": "2020-08-26T19:32:11.073306",
     "exception": false,
     "start_time": "2020-08-26T19:32:11.053742",
     "status": "completed"
    },
    "tags": [
     "remove_input"
    ]
   },
   "outputs": [
    {
     "data": {
      "text/markdown": [
       "Table last updated by CDPH on August 25, 2020."
      ],
      "text/plain": [
       "<IPython.core.display.Markdown object>"
      ]
     },
     "execution_count": 13,
     "metadata": {},
     "output_type": "execute_result"
    }
   ],
   "source": [
    "md(update_tag)"
   ]
  },
  {
   "cell_type": "markdown",
   "metadata": {
    "papermill": {
     "duration": 0.010814,
     "end_time": "2020-08-26T19:32:11.095071",
     "exception": false,
     "start_time": "2020-08-26T19:32:11.084257",
     "status": "completed"
    },
    "tags": []
   },
   "source": [
    "## Tracking county closures in Santa Barbara"
   ]
  },
  {
   "cell_type": "markdown",
   "metadata": {
    "papermill": {
     "duration": 0.011499,
     "end_time": "2020-08-26T19:32:11.118685",
     "exception": false,
     "start_time": "2020-08-26T19:32:11.107186",
     "status": "completed"
    },
    "tags": []
   },
   "source": [
    "The state of California is using a data-driven approach informed by scientific evidence to tailor its response to COVID-19. Three dimensions of concern are monitored to assess whether a county should be placed on the County Monitoring List:\n",
    " 1. Elevated Disease Transmission\n",
    " 2. Increasing Hospitalization\n",
    " 3. Limited Hospital Capacity\n",
    "\n",
    "Once a county appears on the County Monitoring List for three consecutive days, indoor operations in the sectors listed in Section 3 of the [July 13th State Health Officer Order](https://www.cdph.ca.gov/Programs/CID/DCDC/CDPH%20Document%20Library/COVID-19/SHO%20Order%20Dimming%20Entire%20State%207-13-2020.pdf) must close.\n",
    "\n",
    "This table tracks where Santa Barbara stands in terms of the criteria for inclusion on the County Monitoring List. As of 20 August 2020, the criteria for inclusion on the monitoring list are:\n",
    "\n",
    "* Case rate >100 OR (Case rate >25 AND Positivity >8%)\n",
    "* \\>10% increase in hospitalizations\n",
    "* <20% ICU beds available OR <25% ventilators available\n",
    "\n",
    "If Santa Barbara meets the criteria for removal from the County Monitoring List for a certain metric, then a checkmark ✔ is displayed in the table.\n",
    "\n",
    "Read more at <https://covid19.ca.gov/roadmap-counties/>.\n",
    "\n",
    "Data source for county metrics: https://www.cdph.ca.gov/Programs/CID/DCDC/Pages/COVID-19/COVID19CountyDataTable.aspx."
   ]
  },
  {
   "cell_type": "markdown",
   "metadata": {
    "papermill": {
     "duration": 0.01064,
     "end_time": "2020-08-26T19:32:11.140306",
     "exception": false,
     "start_time": "2020-08-26T19:32:11.129666",
     "status": "completed"
    },
    "tags": []
   },
   "source": [
    "**See the code used to scrape the data: https://github.com/walice/COVID-SB/.**"
   ]
  },
  {
   "cell_type": "code",
   "execution_count": 14,
   "metadata": {
    "execution": {
     "iopub.execute_input": "2020-08-26T19:32:11.167494Z",
     "iopub.status.busy": "2020-08-26T19:32:11.167015Z",
     "iopub.status.idle": "2020-08-26T19:32:11.171148Z",
     "shell.execute_reply": "2020-08-26T19:32:11.171552Z"
    },
    "papermill": {
     "duration": 0.020266,
     "end_time": "2020-08-26T19:32:11.171711",
     "exception": false,
     "start_time": "2020-08-26T19:32:11.151445",
     "status": "completed"
    },
    "tags": [
     "remove_cell"
    ]
   },
   "outputs": [
    {
     "data": {
      "application/javascript": [
       "IPython.notebook.save_notebook()\n"
      ],
      "text/plain": [
       "<IPython.core.display.Javascript object>"
      ]
     },
     "metadata": {},
     "output_type": "display_data"
    }
   ],
   "source": [
    "%%javascript\n",
    "IPython.notebook.save_notebook()"
   ]
  },
  {
   "cell_type": "code",
   "execution_count": 15,
   "metadata": {
    "execution": {
     "iopub.execute_input": "2020-08-26T19:32:11.199527Z",
     "iopub.status.busy": "2020-08-26T19:32:11.199020Z",
     "iopub.status.idle": "2020-08-26T19:32:11.318796Z",
     "shell.execute_reply": "2020-08-26T19:32:11.317842Z"
    },
    "papermill": {
     "duration": 0.136359,
     "end_time": "2020-08-26T19:32:11.318930",
     "exception": false,
     "start_time": "2020-08-26T19:32:11.182571",
     "status": "completed"
    },
    "slideshow": {
     "slide_type": "skip"
    },
    "tags": [
     "remove_cell"
    ]
   },
   "outputs": [
    {
     "name": "stdout",
     "output_type": "stream",
     "text": [
      "/bin/sh: 1: jupyter: not found\r\n"
     ]
    }
   ],
   "source": [
    "# Convert Jupyter Notebook to HTML\n",
    "! jupyter nbconvert \"index.ipynb\" --to html --TagRemovePreprocessor.enabled=True --TagRemovePreprocessor.remove_cell_tags=\"['remove_cell']\" --TagRemovePreprocessor.remove_input_tags=\"['remove_input']\" --no-prompt"
   ]
  },
  {
   "cell_type": "code",
   "execution_count": 16,
   "metadata": {
    "execution": {
     "iopub.execute_input": "2020-08-26T19:32:11.347188Z",
     "iopub.status.busy": "2020-08-26T19:32:11.346677Z",
     "iopub.status.idle": "2020-08-26T19:32:11.348979Z",
     "shell.execute_reply": "2020-08-26T19:32:11.349328Z"
    },
    "papermill": {
     "duration": 0.01878,
     "end_time": "2020-08-26T19:32:11.349471",
     "exception": false,
     "start_time": "2020-08-26T19:32:11.330691",
     "status": "completed"
    },
    "tags": [
     "remove_cell"
    ]
   },
   "outputs": [],
   "source": [
    "# Create daily commit message\n",
    "now = datetime.datetime.now()\n",
    "commit_message = \"Last scraped on \" + str(now)"
   ]
  },
  {
   "cell_type": "code",
   "execution_count": null,
   "metadata": {
    "execution": {
     "iopub.execute_input": "2020-08-26T19:29:29.096340Z",
     "iopub.status.busy": "2020-08-26T19:29:29.095829Z",
     "iopub.status.idle": "2020-08-26T19:29:33.951566Z",
     "shell.execute_reply": "2020-08-26T19:29:33.950271Z"
    },
    "papermill": {
     "duration": null,
     "end_time": null,
     "exception": false,
     "start_time": "2020-08-26T19:32:11.360491",
     "status": "running"
    },
    "tags": [
     "remove_cell"
    ]
   },
   "outputs": [],
   "source": [
    "# Deploy to GitHub\n",
    "! git add .\n",
    "! echo $commit_message > commit_message.txt\n",
    "! git commit -F commit_message.txt\n",
    "! git push"
   ]
  }
 ],
 "metadata": {
  "celltoolbar": "Tags",
  "kernelspec": {
   "display_name": "Python 3",
   "language": "python",
   "name": "python3"
  },
  "language_info": {
   "codemirror_mode": {
    "name": "ipython",
    "version": 3
   },
   "file_extension": ".py",
   "mimetype": "text/x-python",
   "name": "python",
   "nbconvert_exporter": "python",
   "pygments_lexer": "ipython3",
   "version": "3.7.3"
  },
  "papermill": {
   "duration": null,
   "end_time": null,
   "environment_variables": {},
   "exception": null,
   "input_path": "/home/alice_lepissier/cron-job/index.ipynb",
   "output_path": "/home/alice_lepissier/cron-job/index.ipynb",
   "parameters": {},
   "start_time": "2020-08-26T19:32:02.929011",
   "version": "2.1.3"
  }
 },
 "nbformat": 4,
 "nbformat_minor": 4
}