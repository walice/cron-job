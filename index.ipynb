{
 "cells": [
  {
   "cell_type": "markdown",
   "metadata": {
    "papermill": {
     "duration": 0.012508,
     "end_time": "2020-08-26T19:29:18.016956",
     "exception": false,
     "start_time": "2020-08-26T19:29:18.004448",
     "status": "completed"
    },
    "tags": []
   },
   "source": [
    "# Daily COVID monitoring data for Santa Barbara county"
   ]
  },
  {
   "cell_type": "code",
   "execution_count": 1,
   "metadata": {
    "execution": {
     "iopub.execute_input": "2020-08-26T19:29:18.043768Z",
     "iopub.status.busy": "2020-08-26T19:29:18.043226Z",
     "iopub.status.idle": "2020-08-26T19:29:19.931122Z",
     "shell.execute_reply": "2020-08-26T19:29:19.932042Z"
    },
    "papermill": {
     "duration": 1.905177,
     "end_time": "2020-08-26T19:29:19.932244",
     "exception": false,
     "start_time": "2020-08-26T19:29:18.027067",
     "status": "completed"
    },
    "tags": [
     "remove_cell"
    ]
   },
   "outputs": [],
   "source": [
    "! jt -t grade3 -tf robotosans -cellw 1100"
   ]
  },
  {
   "cell_type": "markdown",
   "metadata": {
    "papermill": {
     "duration": 0.009352,
     "end_time": "2020-08-26T19:29:19.951605",
     "exception": false,
     "start_time": "2020-08-26T19:29:19.942253",
     "status": "completed"
    },
    "tags": []
   },
   "source": [
    "This table is automatically updated with new daily COVID data for the county of Santa Barbara, CA. Every day, the California Department of Public Health publishes COVID tracking metrics for each county, but does not save the previous day's data. This tool keeps track of the daily metrics that are used to monitor progress towards safe reopening in California."
   ]
  },
  {
   "cell_type": "code",
   "execution_count": 2,
   "metadata": {
    "execution": {
     "iopub.execute_input": "2020-08-26T19:29:19.979646Z",
     "iopub.status.busy": "2020-08-26T19:29:19.979116Z",
     "iopub.status.idle": "2020-08-26T19:29:22.955569Z",
     "shell.execute_reply": "2020-08-26T19:29:22.956427Z"
    },
    "papermill": {
     "duration": 2.995513,
     "end_time": "2020-08-26T19:29:22.956601",
     "exception": false,
     "start_time": "2020-08-26T19:29:19.961088",
     "status": "completed"
    },
    "slideshow": {
     "slide_type": "skip"
    },
    "tags": [
     "remove_cell"
    ]
   },
   "outputs": [],
   "source": [
    "# Preamble\n",
    "import os\n",
    "from IPython.display import Markdown as md\n",
    "import IPython\n",
    "import requests\n",
    "from bs4 import BeautifulSoup\n",
    "import re\n",
    "import pandas as pd\n",
    "import datetime\n",
    "import gspread\n",
    "from oauth2client.service_account import ServiceAccountCredentials"
   ]
  },
  {
   "cell_type": "code",
   "execution_count": 3,
   "metadata": {
    "execution": {
     "iopub.execute_input": "2020-08-26T19:29:22.983147Z",
     "iopub.status.busy": "2020-08-26T19:29:22.982560Z",
     "iopub.status.idle": "2020-08-26T19:29:22.983996Z",
     "shell.execute_reply": "2020-08-26T19:29:22.983587Z"
    },
    "papermill": {
     "duration": 0.016317,
     "end_time": "2020-08-26T19:29:22.984110",
     "exception": false,
     "start_time": "2020-08-26T19:29:22.967793",
     "status": "completed"
    },
    "tags": []
   },
   "outputs": [],
   "source": [
    "# Set working directory\n",
    "os.chdir(\"/home/alice_lepissier/cron-job\")"
   ]
  },
  {
   "cell_type": "code",
   "execution_count": 4,
   "metadata": {
    "execution": {
     "iopub.execute_input": "2020-08-26T19:29:23.009131Z",
     "iopub.status.busy": "2020-08-26T19:29:23.008590Z",
     "iopub.status.idle": "2020-08-26T19:29:23.259332Z",
     "shell.execute_reply": "2020-08-26T19:29:23.260128Z"
    },
    "papermill": {
     "duration": 0.266953,
     "end_time": "2020-08-26T19:29:23.260395",
     "exception": false,
     "start_time": "2020-08-26T19:29:22.993442",
     "status": "completed"
    },
    "slideshow": {
     "slide_type": "skip"
    },
    "tags": [
     "remove_cell"
    ]
   },
   "outputs": [],
   "source": [
    "# Request content from URL\n",
    "html_string = requests.get('https://www.cdph.ca.gov/Programs/CID/DCDC/Pages/COVID-19/COVID19CountyDataTable.aspx').content"
   ]
  },
  {
   "cell_type": "code",
   "execution_count": 5,
   "metadata": {
    "execution": {
     "iopub.execute_input": "2020-08-26T19:29:23.287477Z",
     "iopub.status.busy": "2020-08-26T19:29:23.286994Z",
     "iopub.status.idle": "2020-08-26T19:29:23.375605Z",
     "shell.execute_reply": "2020-08-26T19:29:23.376549Z"
    },
    "papermill": {
     "duration": 0.106309,
     "end_time": "2020-08-26T19:29:23.376734",
     "exception": false,
     "start_time": "2020-08-26T19:29:23.270425",
     "status": "completed"
    },
    "slideshow": {
     "slide_type": "skip"
    },
    "tags": [
     "remove_cell"
    ]
   },
   "outputs": [],
   "source": [
    "# Parse HTML\n",
    "soup = BeautifulSoup(html_string, 'html.parser')"
   ]
  },
  {
   "cell_type": "code",
   "execution_count": 6,
   "metadata": {
    "execution": {
     "iopub.execute_input": "2020-08-26T19:29:23.403563Z",
     "iopub.status.busy": "2020-08-26T19:29:23.403056Z",
     "iopub.status.idle": "2020-08-26T19:29:23.412426Z",
     "shell.execute_reply": "2020-08-26T19:29:23.413230Z"
    },
    "papermill": {
     "duration": 0.026403,
     "end_time": "2020-08-26T19:29:23.413389",
     "exception": false,
     "start_time": "2020-08-26T19:29:23.386986",
     "status": "completed"
    },
    "slideshow": {
     "slide_type": "skip"
    },
    "tags": [
     "remove_cell"
    ]
   },
   "outputs": [],
   "source": [
    "# Extract data for Santa Barbara\n",
    "table = soup.find_all(\"tr\", class_=\"ms-rteTableEvenRow-3\")\n",
    "SB = table[21]"
   ]
  },
  {
   "cell_type": "code",
   "execution_count": 7,
   "metadata": {
    "execution": {
     "iopub.execute_input": "2020-08-26T19:29:23.439540Z",
     "iopub.status.busy": "2020-08-26T19:29:23.439022Z",
     "iopub.status.idle": "2020-08-26T19:29:23.451706Z",
     "shell.execute_reply": "2020-08-26T19:29:23.452558Z"
    },
    "papermill": {
     "duration": 0.029376,
     "end_time": "2020-08-26T19:29:23.452733",
     "exception": false,
     "start_time": "2020-08-26T19:29:23.423357",
     "status": "completed"
    },
    "slideshow": {
     "slide_type": "skip"
    },
    "tags": [
     "remove_cell"
    ]
   },
   "outputs": [],
   "source": [
    "# Avg # tests per day (per 100,000 population)\n",
    "daily_tests = SB.find_all(\"td\", class_=\"ms-rteTableOddCol-3\")[0].text\n",
    "\n",
    "# Case rate per 100,000\n",
    "case_rate = SB.find_all(\"td\", class_=\"ms-rteTableEvenCol-3\")[1].text\n",
    "\n",
    "# Testing positivity (%)\n",
    "test_positivity = SB.find_all(\"td\", class_=\"ms-rteTableOddCol-3\")[1].text\n",
    "\n",
    "# % Change in 3-day avg COVID+ hospitalized patients\n",
    "change_hospit = SB.find_all(\"td\", class_=\"ms-rteTableEvenCol-3\")[2].text\n",
    "\n",
    "# % ICU beds currently available\n",
    "ICU_beds = SB.find_all(\"td\", class_=\"ms-rteTableOddCol-3\")[2].text\n",
    "\n",
    "# % Ventilators currently available\n",
    "ventilators = SB.find_all(\"td\", class_=\"ms-rteTableEvenCol-3\")[3].text\n",
    "\n",
    "# Extract date of last update\n",
    "update_date = soup.find_all(\"span\", class_=\"ms-rteStyle-Accent1\")[1]\\\n",
    "    .find(\"em\").text"
   ]
  },
  {
   "cell_type": "code",
   "execution_count": 8,
   "metadata": {
    "execution": {
     "iopub.execute_input": "2020-08-26T19:29:23.479232Z",
     "iopub.status.busy": "2020-08-26T19:29:23.478614Z",
     "iopub.status.idle": "2020-08-26T19:29:23.480073Z",
     "shell.execute_reply": "2020-08-26T19:29:23.479664Z"
    },
    "papermill": {
     "duration": 0.01627,
     "end_time": "2020-08-26T19:29:23.480193",
     "exception": false,
     "start_time": "2020-08-26T19:29:23.463923",
     "status": "completed"
    },
    "tags": [
     "remove_cell"
    ]
   },
   "outputs": [],
   "source": [
    "# Create updated date string\n",
    "update_tag = \"Table last updated by CDPH on \" + update_date.split(\" on \", 1)[1] + \".\""
   ]
  },
  {
   "cell_type": "code",
   "execution_count": 9,
   "metadata": {
    "execution": {
     "iopub.execute_input": "2020-08-26T19:29:23.503785Z",
     "iopub.status.busy": "2020-08-26T19:29:23.503285Z",
     "iopub.status.idle": "2020-08-26T19:29:23.520255Z",
     "shell.execute_reply": "2020-08-26T19:29:23.521098Z"
    },
    "papermill": {
     "duration": 0.031473,
     "end_time": "2020-08-26T19:29:23.521271",
     "exception": false,
     "start_time": "2020-08-26T19:29:23.489798",
     "status": "completed"
    },
    "slideshow": {
     "slide_type": "skip"
    },
    "tags": [
     "remove_cell"
    ]
   },
   "outputs": [],
   "source": [
    "# Set up Google Sheet API\n",
    "scope = [\"https://spreadsheets.google.com/feeds\",'https://www.googleapis.com/auth/spreadsheets',\"https://www.googleapis.com/auth/drive.file\",\"https://www.googleapis.com/auth/drive\"]\n",
    "creds = ServiceAccountCredentials.from_json_keyfile_name(\"credentials.json\", scope)\n",
    "client = gspread.authorize(creds)"
   ]
  },
  {
   "cell_type": "code",
   "execution_count": 10,
   "metadata": {
    "execution": {
     "iopub.execute_input": "2020-08-26T19:29:23.547489Z",
     "iopub.status.busy": "2020-08-26T19:29:23.547004Z",
     "iopub.status.idle": "2020-08-26T19:29:24.446533Z",
     "shell.execute_reply": "2020-08-26T19:29:24.447259Z"
    },
    "papermill": {
     "duration": 0.916274,
     "end_time": "2020-08-26T19:29:24.447419",
     "exception": false,
     "start_time": "2020-08-26T19:29:23.531145",
     "status": "completed"
    },
    "slideshow": {
     "slide_type": "skip"
    },
    "tags": [
     "remove_cell"
    ]
   },
   "outputs": [
    {
     "data": {
      "text/plain": [
       "{'spreadsheetId': '1pcqdMzKtea2Oq3BDmdAOQ21gZjCssieKI0692VfNLXU',\n",
       " 'updatedRange': 'Sheet1!A2:G2',\n",
       " 'updatedRows': 1,\n",
       " 'updatedColumns': 7,\n",
       " 'updatedCells': 7}"
      ]
     },
     "execution_count": 10,
     "metadata": {},
     "output_type": "execute_result"
    }
   ],
   "source": [
    "# Append daily data as a new row in Google Sheet\n",
    "sheet = client.open(\"Test cron job\").sheet1\n",
    "insertRow = [datetime.date.today().strftime(\"%Y-%m-%d\"),\n",
    "             daily_tests,\n",
    "             case_rate,\n",
    "             test_positivity,\n",
    "             change_hospit,\n",
    "             ICU_beds,\n",
    "             ventilators]\n",
    "sheet.insert_row(insertRow, 2)"
   ]
  },
  {
   "cell_type": "code",
   "execution_count": 11,
   "metadata": {
    "execution": {
     "iopub.execute_input": "2020-08-26T19:29:24.473252Z",
     "iopub.status.busy": "2020-08-26T19:29:24.472745Z",
     "iopub.status.idle": "2020-08-26T19:29:24.998521Z",
     "shell.execute_reply": "2020-08-26T19:29:24.999353Z"
    },
    "papermill": {
     "duration": 0.541958,
     "end_time": "2020-08-26T19:29:24.999520",
     "exception": false,
     "start_time": "2020-08-26T19:29:24.457562",
     "status": "completed"
    },
    "scrolled": true,
    "slideshow": {
     "slide_type": "slide"
    },
    "tags": [
     "remove_cell"
    ]
   },
   "outputs": [],
   "source": [
    "# Extract data from Google Sheet as pandas dataframe\n",
    "sheet = client.open(\"Test cron job\").sheet1\n",
    "data = sheet.get_all_records()\n",
    "result = pd.DataFrame(data).set_index(\"Date\")"
   ]
  },
  {
   "cell_type": "code",
   "execution_count": 12,
   "metadata": {
    "execution": {
     "iopub.execute_input": "2020-08-26T19:29:25.026050Z",
     "iopub.status.busy": "2020-08-26T19:29:25.025525Z",
     "iopub.status.idle": "2020-08-26T19:29:25.947618Z",
     "shell.execute_reply": "2020-08-26T19:29:25.948363Z"
    },
    "papermill": {
     "duration": 0.938378,
     "end_time": "2020-08-26T19:29:25.948528",
     "exception": false,
     "start_time": "2020-08-26T19:29:25.010150",
     "status": "completed"
    },
    "scrolled": true,
    "tags": [
     "remove_input"
    ]
   },
   "outputs": [
    {
     "data": {
      "text/html": [
       "<style  type=\"text/css\" >\n",
       "    #T_73c0eb20_e7d2_11ea_add5_42010a8a0004 th {\n",
       "          text-align: center;\n",
       "    }#T_73c0eb20_e7d2_11ea_add5_42010a8a0004row0_col0,#T_73c0eb20_e7d2_11ea_add5_42010a8a0004row1_col0,#T_73c0eb20_e7d2_11ea_add5_42010a8a0004row2_col0,#T_73c0eb20_e7d2_11ea_add5_42010a8a0004row3_col0,#T_73c0eb20_e7d2_11ea_add5_42010a8a0004row4_col0,#T_73c0eb20_e7d2_11ea_add5_42010a8a0004row5_col0{\n",
       "            width:  20em;\n",
       "            text-align:  center;\n",
       "            font-weight:  bold;\n",
       "        }#T_73c0eb20_e7d2_11ea_add5_42010a8a0004row0_col1,#T_73c0eb20_e7d2_11ea_add5_42010a8a0004row0_col2,#T_73c0eb20_e7d2_11ea_add5_42010a8a0004row0_col3,#T_73c0eb20_e7d2_11ea_add5_42010a8a0004row0_col4,#T_73c0eb20_e7d2_11ea_add5_42010a8a0004row0_col5,#T_73c0eb20_e7d2_11ea_add5_42010a8a0004row0_col6,#T_73c0eb20_e7d2_11ea_add5_42010a8a0004row1_col1,#T_73c0eb20_e7d2_11ea_add5_42010a8a0004row1_col2,#T_73c0eb20_e7d2_11ea_add5_42010a8a0004row1_col3,#T_73c0eb20_e7d2_11ea_add5_42010a8a0004row1_col4,#T_73c0eb20_e7d2_11ea_add5_42010a8a0004row1_col5,#T_73c0eb20_e7d2_11ea_add5_42010a8a0004row1_col6,#T_73c0eb20_e7d2_11ea_add5_42010a8a0004row2_col1,#T_73c0eb20_e7d2_11ea_add5_42010a8a0004row2_col2,#T_73c0eb20_e7d2_11ea_add5_42010a8a0004row2_col3,#T_73c0eb20_e7d2_11ea_add5_42010a8a0004row2_col4,#T_73c0eb20_e7d2_11ea_add5_42010a8a0004row2_col5,#T_73c0eb20_e7d2_11ea_add5_42010a8a0004row2_col6,#T_73c0eb20_e7d2_11ea_add5_42010a8a0004row3_col1,#T_73c0eb20_e7d2_11ea_add5_42010a8a0004row3_col2,#T_73c0eb20_e7d2_11ea_add5_42010a8a0004row3_col3,#T_73c0eb20_e7d2_11ea_add5_42010a8a0004row3_col4,#T_73c0eb20_e7d2_11ea_add5_42010a8a0004row3_col5,#T_73c0eb20_e7d2_11ea_add5_42010a8a0004row3_col6,#T_73c0eb20_e7d2_11ea_add5_42010a8a0004row4_col1,#T_73c0eb20_e7d2_11ea_add5_42010a8a0004row4_col2,#T_73c0eb20_e7d2_11ea_add5_42010a8a0004row4_col3,#T_73c0eb20_e7d2_11ea_add5_42010a8a0004row4_col4,#T_73c0eb20_e7d2_11ea_add5_42010a8a0004row4_col5,#T_73c0eb20_e7d2_11ea_add5_42010a8a0004row4_col6,#T_73c0eb20_e7d2_11ea_add5_42010a8a0004row5_col1,#T_73c0eb20_e7d2_11ea_add5_42010a8a0004row5_col2,#T_73c0eb20_e7d2_11ea_add5_42010a8a0004row5_col3,#T_73c0eb20_e7d2_11ea_add5_42010a8a0004row5_col4,#T_73c0eb20_e7d2_11ea_add5_42010a8a0004row5_col5,#T_73c0eb20_e7d2_11ea_add5_42010a8a0004row5_col6{\n",
       "            width:  20em;\n",
       "            text-align:  center;\n",
       "        }</style><table id=\"T_73c0eb20_e7d2_11ea_add5_42010a8a0004\" ><thead>    <tr>        <th class=\"col_heading level0 col0\" >Date</th>        <th class=\"col_heading level0 col1\" >Daily tests (per 100,000)¹</th>        <th class=\"col_heading level0 col2\" >Case rate (per 100,000)²</th>        <th class=\"col_heading level0 col3\" >Testing positivity (%)³</th>        <th class=\"col_heading level0 col4\" >Change in hospitalizations (%)⁴</th>        <th class=\"col_heading level0 col5\" >ICU beds available (%)</th>        <th class=\"col_heading level0 col6\" >Ventilators (available (%)</th>    </tr></thead><tbody>\n",
       "                <tr>\n",
       "                                <td id=\"T_73c0eb20_e7d2_11ea_add5_42010a8a0004row0_col0\" class=\"data row0 col0\" >2020-08-26</td>\n",
       "                        <td id=\"T_73c0eb20_e7d2_11ea_add5_42010a8a0004row0_col1\" class=\"data row0 col1\" >219.7</td>\n",
       "                        <td id=\"T_73c0eb20_e7d2_11ea_add5_42010a8a0004row0_col2\" class=\"data row0 col2\" >133.2</td>\n",
       "                        <td id=\"T_73c0eb20_e7d2_11ea_add5_42010a8a0004row0_col3\" class=\"data row0 col3\" > ✔</td>\n",
       "                        <td id=\"T_73c0eb20_e7d2_11ea_add5_42010a8a0004row0_col4\" class=\"data row0 col4\" > ✔</td>\n",
       "                        <td id=\"T_73c0eb20_e7d2_11ea_add5_42010a8a0004row0_col5\" class=\"data row0 col5\" > ✔</td>\n",
       "                        <td id=\"T_73c0eb20_e7d2_11ea_add5_42010a8a0004row0_col6\" class=\"data row0 col6\" > ✔</td>\n",
       "            </tr>\n",
       "            <tr>\n",
       "                                <td id=\"T_73c0eb20_e7d2_11ea_add5_42010a8a0004row1_col0\" class=\"data row1 col0\" >2020-08-26</td>\n",
       "                        <td id=\"T_73c0eb20_e7d2_11ea_add5_42010a8a0004row1_col1\" class=\"data row1 col1\" >219.7</td>\n",
       "                        <td id=\"T_73c0eb20_e7d2_11ea_add5_42010a8a0004row1_col2\" class=\"data row1 col2\" >133.2</td>\n",
       "                        <td id=\"T_73c0eb20_e7d2_11ea_add5_42010a8a0004row1_col3\" class=\"data row1 col3\" > ✔</td>\n",
       "                        <td id=\"T_73c0eb20_e7d2_11ea_add5_42010a8a0004row1_col4\" class=\"data row1 col4\" > ✔</td>\n",
       "                        <td id=\"T_73c0eb20_e7d2_11ea_add5_42010a8a0004row1_col5\" class=\"data row1 col5\" > ✔</td>\n",
       "                        <td id=\"T_73c0eb20_e7d2_11ea_add5_42010a8a0004row1_col6\" class=\"data row1 col6\" > ✔</td>\n",
       "            </tr>\n",
       "            <tr>\n",
       "                                <td id=\"T_73c0eb20_e7d2_11ea_add5_42010a8a0004row2_col0\" class=\"data row2 col0\" >2020-08-26</td>\n",
       "                        <td id=\"T_73c0eb20_e7d2_11ea_add5_42010a8a0004row2_col1\" class=\"data row2 col1\" >219.7</td>\n",
       "                        <td id=\"T_73c0eb20_e7d2_11ea_add5_42010a8a0004row2_col2\" class=\"data row2 col2\" >133.2</td>\n",
       "                        <td id=\"T_73c0eb20_e7d2_11ea_add5_42010a8a0004row2_col3\" class=\"data row2 col3\" > ✔</td>\n",
       "                        <td id=\"T_73c0eb20_e7d2_11ea_add5_42010a8a0004row2_col4\" class=\"data row2 col4\" > ✔</td>\n",
       "                        <td id=\"T_73c0eb20_e7d2_11ea_add5_42010a8a0004row2_col5\" class=\"data row2 col5\" > ✔</td>\n",
       "                        <td id=\"T_73c0eb20_e7d2_11ea_add5_42010a8a0004row2_col6\" class=\"data row2 col6\" > ✔</td>\n",
       "            </tr>\n",
       "            <tr>\n",
       "                                <td id=\"T_73c0eb20_e7d2_11ea_add5_42010a8a0004row3_col0\" class=\"data row3 col0\" >2020-08-26</td>\n",
       "                        <td id=\"T_73c0eb20_e7d2_11ea_add5_42010a8a0004row3_col1\" class=\"data row3 col1\" >219.7</td>\n",
       "                        <td id=\"T_73c0eb20_e7d2_11ea_add5_42010a8a0004row3_col2\" class=\"data row3 col2\" >133.2</td>\n",
       "                        <td id=\"T_73c0eb20_e7d2_11ea_add5_42010a8a0004row3_col3\" class=\"data row3 col3\" > ✔</td>\n",
       "                        <td id=\"T_73c0eb20_e7d2_11ea_add5_42010a8a0004row3_col4\" class=\"data row3 col4\" > ✔</td>\n",
       "                        <td id=\"T_73c0eb20_e7d2_11ea_add5_42010a8a0004row3_col5\" class=\"data row3 col5\" > ✔</td>\n",
       "                        <td id=\"T_73c0eb20_e7d2_11ea_add5_42010a8a0004row3_col6\" class=\"data row3 col6\" > ✔</td>\n",
       "            </tr>\n",
       "            <tr>\n",
       "                                <td id=\"T_73c0eb20_e7d2_11ea_add5_42010a8a0004row4_col0\" class=\"data row4 col0\" >2020-08-26</td>\n",
       "                        <td id=\"T_73c0eb20_e7d2_11ea_add5_42010a8a0004row4_col1\" class=\"data row4 col1\" >219.7</td>\n",
       "                        <td id=\"T_73c0eb20_e7d2_11ea_add5_42010a8a0004row4_col2\" class=\"data row4 col2\" >133.2</td>\n",
       "                        <td id=\"T_73c0eb20_e7d2_11ea_add5_42010a8a0004row4_col3\" class=\"data row4 col3\" > ✔</td>\n",
       "                        <td id=\"T_73c0eb20_e7d2_11ea_add5_42010a8a0004row4_col4\" class=\"data row4 col4\" > ✔</td>\n",
       "                        <td id=\"T_73c0eb20_e7d2_11ea_add5_42010a8a0004row4_col5\" class=\"data row4 col5\" > ✔</td>\n",
       "                        <td id=\"T_73c0eb20_e7d2_11ea_add5_42010a8a0004row4_col6\" class=\"data row4 col6\" > ✔</td>\n",
       "            </tr>\n",
       "            <tr>\n",
       "                                <td id=\"T_73c0eb20_e7d2_11ea_add5_42010a8a0004row5_col0\" class=\"data row5 col0\" >2020-08-26</td>\n",
       "                        <td id=\"T_73c0eb20_e7d2_11ea_add5_42010a8a0004row5_col1\" class=\"data row5 col1\" >219.7</td>\n",
       "                        <td id=\"T_73c0eb20_e7d2_11ea_add5_42010a8a0004row5_col2\" class=\"data row5 col2\" >133.2</td>\n",
       "                        <td id=\"T_73c0eb20_e7d2_11ea_add5_42010a8a0004row5_col3\" class=\"data row5 col3\" > ✔</td>\n",
       "                        <td id=\"T_73c0eb20_e7d2_11ea_add5_42010a8a0004row5_col4\" class=\"data row5 col4\" > ✔</td>\n",
       "                        <td id=\"T_73c0eb20_e7d2_11ea_add5_42010a8a0004row5_col5\" class=\"data row5 col5\" > ✔</td>\n",
       "                        <td id=\"T_73c0eb20_e7d2_11ea_add5_42010a8a0004row5_col6\" class=\"data row5 col6\" > ✔</td>\n",
       "            </tr>\n",
       "    </tbody></table>"
      ],
      "text/plain": [
       "<pandas.io.formats.style.Styler at 0x7f3a70dd7c88>"
      ]
     },
     "execution_count": 12,
     "metadata": {},
     "output_type": "execute_result"
    }
   ],
   "source": [
    "# Style the pandas dataframe\n",
    "d = dict(selector=\"th\",\n",
    "         props=[('text-align', 'center')])\n",
    "\n",
    "result.reset_index().style\\\n",
    "    .set_properties(**{'width':'20em', 'text-align':'center'})\\\n",
    "    .set_properties(subset=['Date'], **{'font-weight': 'bold'})\\\n",
    "    .set_table_styles([d])\\\n",
    "    .set_precision(1)\\\n",
    "    .hide_index()"
   ]
  },
  {
   "cell_type": "markdown",
   "metadata": {
    "papermill": {
     "duration": 0.010299,
     "end_time": "2020-08-26T19:29:25.969656",
     "exception": false,
     "start_time": "2020-08-26T19:29:25.959357",
     "status": "completed"
    },
    "tags": []
   },
   "source": [
    "<sup>Notes: (1) 7 day average with a 7-day lag. (2) 14 day average. (3) 7 day average with a 7-day lag. (4) Change in 3 day average.</sup>"
   ]
  },
  {
   "cell_type": "code",
   "execution_count": 13,
   "metadata": {
    "execution": {
     "iopub.execute_input": "2020-08-26T19:29:25.995731Z",
     "iopub.status.busy": "2020-08-26T19:29:25.995227Z",
     "iopub.status.idle": "2020-08-26T19:29:25.998233Z",
     "shell.execute_reply": "2020-08-26T19:29:25.998603Z"
    },
    "papermill": {
     "duration": 0.018904,
     "end_time": "2020-08-26T19:29:25.998759",
     "exception": false,
     "start_time": "2020-08-26T19:29:25.979855",
     "status": "completed"
    },
    "tags": [
     "remove_input"
    ]
   },
   "outputs": [
    {
     "data": {
      "text/markdown": [
       "Table last updated by CDPH on August 25, 2020."
      ],
      "text/plain": [
       "<IPython.core.display.Markdown object>"
      ]
     },
     "execution_count": 13,
     "metadata": {},
     "output_type": "execute_result"
    }
   ],
   "source": [
    "md(update_tag)"
   ]
  },
  {
   "cell_type": "markdown",
   "metadata": {
    "papermill": {
     "duration": 0.010469,
     "end_time": "2020-08-26T19:29:26.019541",
     "exception": false,
     "start_time": "2020-08-26T19:29:26.009072",
     "status": "completed"
    },
    "tags": []
   },
   "source": [
    "## Tracking county closures in Santa Barbara"
   ]
  },
  {
   "cell_type": "markdown",
   "metadata": {
    "papermill": {
     "duration": 0.010484,
     "end_time": "2020-08-26T19:29:26.040555",
     "exception": false,
     "start_time": "2020-08-26T19:29:26.030071",
     "status": "completed"
    },
    "tags": []
   },
   "source": [
    "The state of California is using a data-driven approach informed by scientific evidence to tailor its response to COVID-19. Three dimensions of concern are monitored to assess whether a county should be placed on the County Monitoring List:\n",
    " 1. Elevated Disease Transmission\n",
    " 2. Increasing Hospitalization\n",
    " 3. Limited Hospital Capacity\n",
    "\n",
    "Once a county appears on the County Monitoring List for three consecutive days, indoor operations in the sectors listed in Section 3 of the [July 13th State Health Officer Order](https://www.cdph.ca.gov/Programs/CID/DCDC/CDPH%20Document%20Library/COVID-19/SHO%20Order%20Dimming%20Entire%20State%207-13-2020.pdf) must close.\n",
    "\n",
    "This table tracks where Santa Barbara stands in terms of the criteria for inclusion on the County Monitoring List. As of 20 August 2020, the criteria for inclusion on the monitoring list are:\n",
    "\n",
    "* Case rate >100 OR (Case rate >25 AND Positivity >8%)\n",
    "* \\>10% increase in hospitalizations\n",
    "* <20% ICU beds available OR <25% ventilators available\n",
    "\n",
    "If Santa Barbara meets the criteria for removal from the County Monitoring List for a certain metric, then a checkmark ✔ is displayed in the table.\n",
    "\n",
    "Read more at <https://covid19.ca.gov/roadmap-counties/>.\n",
    "\n",
    "Data source for county metrics: https://www.cdph.ca.gov/Programs/CID/DCDC/Pages/COVID-19/COVID19CountyDataTable.aspx."
   ]
  },
  {
   "cell_type": "markdown",
   "metadata": {
    "papermill": {
     "duration": 0.010444,
     "end_time": "2020-08-26T19:29:26.061555",
     "exception": false,
     "start_time": "2020-08-26T19:29:26.051111",
     "status": "completed"
    },
    "tags": []
   },
   "source": [
    "**See the code used to scrape the data: https://github.com/walice/COVID-SB/.**"
   ]
  },
  {
   "cell_type": "code",
   "execution_count": 14,
   "metadata": {
    "execution": {
     "iopub.execute_input": "2020-08-26T19:29:26.087859Z",
     "iopub.status.busy": "2020-08-26T19:29:26.087376Z",
     "iopub.status.idle": "2020-08-26T19:29:26.091207Z",
     "shell.execute_reply": "2020-08-26T19:29:26.091577Z"
    },
    "papermill": {
     "duration": 0.019421,
     "end_time": "2020-08-26T19:29:26.091721",
     "exception": false,
     "start_time": "2020-08-26T19:29:26.072300",
     "status": "completed"
    },
    "tags": [
     "remove_cell"
    ]
   },
   "outputs": [
    {
     "data": {
      "application/javascript": [
       "IPython.notebook.save_notebook()\n"
      ],
      "text/plain": [
       "<IPython.core.display.Javascript object>"
      ]
     },
     "metadata": {},
     "output_type": "display_data"
    }
   ],
   "source": [
    "%%javascript\n",
    "IPython.notebook.save_notebook()"
   ]
  },
  {
   "cell_type": "code",
   "execution_count": 15,
   "metadata": {
    "execution": {
     "iopub.execute_input": "2020-08-26T19:29:26.119563Z",
     "iopub.status.busy": "2020-08-26T19:29:26.119046Z",
     "iopub.status.idle": "2020-08-26T19:29:29.036750Z",
     "shell.execute_reply": "2020-08-26T19:29:29.037660Z"
    },
    "papermill": {
     "duration": 2.935679,
     "end_time": "2020-08-26T19:29:29.037849",
     "exception": false,
     "start_time": "2020-08-26T19:29:26.102170",
     "status": "completed"
    },
    "slideshow": {
     "slide_type": "skip"
    },
    "tags": [
     "remove_cell"
    ]
   },
   "outputs": [
    {
     "name": "stdout",
     "output_type": "stream",
     "text": [
      "[NbConvertApp] Converting notebook index.ipynb to html\r\n"
     ]
    },
    {
     "name": "stdout",
     "output_type": "stream",
     "text": [
      "[NbConvertApp] Writing 357004 bytes to index.html\r\n"
     ]
    }
   ],
   "source": [
    "# Convert Jupyter Notebook to HTML\n",
    "! jupyter nbconvert \"index.ipynb\" --to html --TagRemovePreprocessor.enabled=True --TagRemovePreprocessor.remove_cell_tags=\"['remove_cell']\" --TagRemovePreprocessor.remove_input_tags=\"['remove_input']\" --no-prompt"
   ]
  },
  {
   "cell_type": "code",
   "execution_count": 16,
   "metadata": {
    "execution": {
     "iopub.execute_input": "2020-08-26T19:29:29.065884Z",
     "iopub.status.busy": "2020-08-26T19:29:29.065368Z",
     "iopub.status.idle": "2020-08-26T19:29:29.067746Z",
     "shell.execute_reply": "2020-08-26T19:29:29.068106Z"
    },
    "papermill": {
     "duration": 0.018622,
     "end_time": "2020-08-26T19:29:29.068250",
     "exception": false,
     "start_time": "2020-08-26T19:29:29.049628",
     "status": "completed"
    },
    "tags": [
     "remove_cell"
    ]
   },
   "outputs": [],
   "source": [
    "# Create daily commit message\n",
    "now = datetime.datetime.now()\n",
    "commit_message = \"Last scraped on \" + str(now)"
   ]
  },
  {
   "cell_type": "code",
   "execution_count": null,
   "metadata": {
    "execution": {
     "iopub.execute_input": "2020-08-26T19:28:28.827482Z",
     "iopub.status.busy": "2020-08-26T19:28:28.826996Z",
     "iopub.status.idle": "2020-08-26T19:28:34.382582Z",
     "shell.execute_reply": "2020-08-26T19:28:34.381357Z"
    },
    "papermill": {
     "duration": null,
     "end_time": null,
     "exception": false,
     "start_time": "2020-08-26T19:29:29.079382",
     "status": "running"
    },
    "tags": [
     "remove_cell"
    ]
   },
   "outputs": [],
   "source": [
    "# Deploy to GitHub\n",
    "! git add .\n",
    "! echo $commit_message > commit_message.txt\n",
    "! git commit -F commit_message.txt\n",
    "! git push"
   ]
  }
 ],
 "metadata": {
  "celltoolbar": "Tags",
  "kernelspec": {
   "display_name": "Python 3",
   "language": "python",
   "name": "python3"
  },
  "language_info": {
   "codemirror_mode": {
    "name": "ipython",
    "version": 3
   },
   "file_extension": ".py",
   "mimetype": "text/x-python",
   "name": "python",
   "nbconvert_exporter": "python",
   "pygments_lexer": "ipython3",
   "version": "3.7.3"
  },
  "papermill": {
   "duration": null,
   "end_time": null,
   "environment_variables": {},
   "exception": null,
   "input_path": "/home/alice_lepissier/cron-job/index.ipynb",
   "output_path": "/home/alice_lepissier/cron-job/index.ipynb",
   "parameters": {},
   "start_time": "2020-08-26T19:29:16.839124",
   "version": "2.1.3"
  }
 },
 "nbformat": 4,
 "nbformat_minor": 4
}