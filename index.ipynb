{
 "cells": [
  {
   "cell_type": "markdown",
   "metadata": {
    "papermill": {
     "duration": 0.010884,
     "end_time": "2020-08-26T19:59:04.799205",
     "exception": false,
     "start_time": "2020-08-26T19:59:04.788321",
     "status": "completed"
    },
    "tags": []
   },
   "source": [
    "# Daily COVID monitoring data for Santa Barbara county"
   ]
  },
  {
   "cell_type": "code",
   "execution_count": 1,
   "metadata": {
    "execution": {
     "iopub.execute_input": "2020-08-26T19:59:04.826671Z",
     "iopub.status.busy": "2020-08-26T19:59:04.826092Z",
     "iopub.status.idle": "2020-08-26T19:59:04.938854Z",
     "shell.execute_reply": "2020-08-26T19:59:04.937822Z"
    },
    "papermill": {
     "duration": 0.129498,
     "end_time": "2020-08-26T19:59:04.939006",
     "exception": false,
     "start_time": "2020-08-26T19:59:04.809508",
     "status": "completed"
    },
    "tags": [
     "remove_cell"
    ]
   },
   "outputs": [
    {
     "name": "stdout",
     "output_type": "stream",
     "text": [
      "/bin/sh: 1: jt: not found\r\n"
     ]
    }
   ],
   "source": [
    "! jt -t grade3 -tf robotosans -cellw 1100"
   ]
  },
  {
   "cell_type": "markdown",
   "metadata": {
    "papermill": {
     "duration": 0.009921,
     "end_time": "2020-08-26T19:59:04.959395",
     "exception": false,
     "start_time": "2020-08-26T19:59:04.949474",
     "status": "completed"
    },
    "tags": []
   },
   "source": [
    "This table is automatically updated with new daily COVID data for the county of Santa Barbara, CA. Every day, the California Department of Public Health publishes COVID tracking metrics for each county, but does not save the previous day's data. This tool keeps track of the daily metrics that are used to monitor progress towards safe reopening in California."
   ]
  },
  {
   "cell_type": "code",
   "execution_count": 2,
   "metadata": {
    "execution": {
     "iopub.execute_input": "2020-08-26T19:59:04.987559Z",
     "iopub.status.busy": "2020-08-26T19:59:04.987017Z",
     "iopub.status.idle": "2020-08-26T19:59:08.020476Z",
     "shell.execute_reply": "2020-08-26T19:59:08.021361Z"
    },
    "papermill": {
     "duration": 3.052186,
     "end_time": "2020-08-26T19:59:08.021526",
     "exception": false,
     "start_time": "2020-08-26T19:59:04.969340",
     "status": "completed"
    },
    "slideshow": {
     "slide_type": "skip"
    },
    "tags": [
     "remove_cell"
    ]
   },
   "outputs": [],
   "source": [
    "# Preamble\n",
    "import os\n",
    "from IPython.display import Markdown as md\n",
    "import IPython\n",
    "import requests\n",
    "from bs4 import BeautifulSoup\n",
    "import re\n",
    "import pandas as pd\n",
    "import datetime\n",
    "import gspread\n",
    "from oauth2client.service_account import ServiceAccountCredentials"
   ]
  },
  {
   "cell_type": "code",
   "execution_count": 3,
   "metadata": {
    "execution": {
     "iopub.execute_input": "2020-08-26T19:59:08.048062Z",
     "iopub.status.busy": "2020-08-26T19:59:08.047394Z",
     "iopub.status.idle": "2020-08-26T19:59:08.048912Z",
     "shell.execute_reply": "2020-08-26T19:59:08.048492Z"
    },
    "papermill": {
     "duration": 0.016834,
     "end_time": "2020-08-26T19:59:08.049027",
     "exception": false,
     "start_time": "2020-08-26T19:59:08.032193",
     "status": "completed"
    },
    "tags": []
   },
   "outputs": [],
   "source": [
    "# Set working directory\n",
    "os.chdir(\"/home/alice_lepissier/cron-job\")"
   ]
  },
  {
   "cell_type": "code",
   "execution_count": 4,
   "metadata": {
    "execution": {
     "iopub.execute_input": "2020-08-26T19:59:08.074877Z",
     "iopub.status.busy": "2020-08-26T19:59:08.074286Z",
     "iopub.status.idle": "2020-08-26T19:59:08.375236Z",
     "shell.execute_reply": "2020-08-26T19:59:08.376105Z"
    },
    "papermill": {
     "duration": 0.317282,
     "end_time": "2020-08-26T19:59:08.376273",
     "exception": false,
     "start_time": "2020-08-26T19:59:08.058991",
     "status": "completed"
    },
    "slideshow": {
     "slide_type": "skip"
    },
    "tags": [
     "remove_cell"
    ]
   },
   "outputs": [],
   "source": [
    "# Request content from URL\n",
    "html_string = requests.get('https://www.cdph.ca.gov/Programs/CID/DCDC/Pages/COVID-19/COVID19CountyDataTable.aspx').content"
   ]
  },
  {
   "cell_type": "code",
   "execution_count": 5,
   "metadata": {
    "execution": {
     "iopub.execute_input": "2020-08-26T19:59:08.403455Z",
     "iopub.status.busy": "2020-08-26T19:59:08.402985Z",
     "iopub.status.idle": "2020-08-26T19:59:08.489242Z",
     "shell.execute_reply": "2020-08-26T19:59:08.490033Z"
    },
    "papermill": {
     "duration": 0.103391,
     "end_time": "2020-08-26T19:59:08.490212",
     "exception": false,
     "start_time": "2020-08-26T19:59:08.386821",
     "status": "completed"
    },
    "slideshow": {
     "slide_type": "skip"
    },
    "tags": [
     "remove_cell"
    ]
   },
   "outputs": [],
   "source": [
    "# Parse HTML\n",
    "soup = BeautifulSoup(html_string, 'html.parser')"
   ]
  },
  {
   "cell_type": "code",
   "execution_count": 6,
   "metadata": {
    "execution": {
     "iopub.execute_input": "2020-08-26T19:59:08.520769Z",
     "iopub.status.busy": "2020-08-26T19:59:08.520264Z",
     "iopub.status.idle": "2020-08-26T19:59:08.525325Z",
     "shell.execute_reply": "2020-08-26T19:59:08.526080Z"
    },
    "papermill": {
     "duration": 0.025743,
     "end_time": "2020-08-26T19:59:08.526254",
     "exception": false,
     "start_time": "2020-08-26T19:59:08.500511",
     "status": "completed"
    },
    "slideshow": {
     "slide_type": "skip"
    },
    "tags": [
     "remove_cell"
    ]
   },
   "outputs": [],
   "source": [
    "# Extract data for Santa Barbara\n",
    "table = soup.find_all(\"tr\", class_=\"ms-rteTableEvenRow-3\")\n",
    "SB = table[21]"
   ]
  },
  {
   "cell_type": "code",
   "execution_count": 7,
   "metadata": {
    "execution": {
     "iopub.execute_input": "2020-08-26T19:59:08.557093Z",
     "iopub.status.busy": "2020-08-26T19:59:08.556548Z",
     "iopub.status.idle": "2020-08-26T19:59:08.566471Z",
     "shell.execute_reply": "2020-08-26T19:59:08.567208Z"
    },
    "papermill": {
     "duration": 0.030982,
     "end_time": "2020-08-26T19:59:08.567373",
     "exception": false,
     "start_time": "2020-08-26T19:59:08.536391",
     "status": "completed"
    },
    "slideshow": {
     "slide_type": "skip"
    },
    "tags": [
     "remove_cell"
    ]
   },
   "outputs": [],
   "source": [
    "# Avg # tests per day (per 100,000 population)\n",
    "daily_tests = SB.find_all(\"td\", class_=\"ms-rteTableOddCol-3\")[0].text\n",
    "\n",
    "# Case rate per 100,000\n",
    "case_rate = SB.find_all(\"td\", class_=\"ms-rteTableEvenCol-3\")[1].text\n",
    "\n",
    "# Testing positivity (%)\n",
    "test_positivity = SB.find_all(\"td\", class_=\"ms-rteTableOddCol-3\")[1].text\n",
    "\n",
    "# % Change in 3-day avg COVID+ hospitalized patients\n",
    "change_hospit = SB.find_all(\"td\", class_=\"ms-rteTableEvenCol-3\")[2].text\n",
    "\n",
    "# % ICU beds currently available\n",
    "ICU_beds = SB.find_all(\"td\", class_=\"ms-rteTableOddCol-3\")[2].text\n",
    "\n",
    "# % Ventilators currently available\n",
    "ventilators = SB.find_all(\"td\", class_=\"ms-rteTableEvenCol-3\")[3].text\n",
    "\n",
    "# Extract date of last update\n",
    "update_date = soup.find_all(\"span\", class_=\"ms-rteStyle-Accent1\")[1]\\\n",
    "    .find(\"em\").text"
   ]
  },
  {
   "cell_type": "code",
   "execution_count": 8,
   "metadata": {
    "execution": {
     "iopub.execute_input": "2020-08-26T19:59:08.593568Z",
     "iopub.status.busy": "2020-08-26T19:59:08.592949Z",
     "iopub.status.idle": "2020-08-26T19:59:08.594499Z",
     "shell.execute_reply": "2020-08-26T19:59:08.594015Z"
    },
    "papermill": {
     "duration": 0.016971,
     "end_time": "2020-08-26T19:59:08.594617",
     "exception": false,
     "start_time": "2020-08-26T19:59:08.577646",
     "status": "completed"
    },
    "tags": [
     "remove_cell"
    ]
   },
   "outputs": [],
   "source": [
    "# Create updated date string\n",
    "update_tag = \"Table last updated by CDPH on \" + update_date.split(\" on \", 1)[1] + \".\""
   ]
  },
  {
   "cell_type": "code",
   "execution_count": 9,
   "metadata": {
    "execution": {
     "iopub.execute_input": "2020-08-26T19:59:08.619145Z",
     "iopub.status.busy": "2020-08-26T19:59:08.618659Z",
     "iopub.status.idle": "2020-08-26T19:59:08.642682Z",
     "shell.execute_reply": "2020-08-26T19:59:08.643458Z"
    },
    "papermill": {
     "duration": 0.038903,
     "end_time": "2020-08-26T19:59:08.643616",
     "exception": false,
     "start_time": "2020-08-26T19:59:08.604713",
     "status": "completed"
    },
    "slideshow": {
     "slide_type": "skip"
    },
    "tags": [
     "remove_cell"
    ]
   },
   "outputs": [],
   "source": [
    "# Set up Google Sheet API\n",
    "scope = [\"https://spreadsheets.google.com/feeds\",'https://www.googleapis.com/auth/spreadsheets',\"https://www.googleapis.com/auth/drive.file\",\"https://www.googleapis.com/auth/drive\"]\n",
    "creds = ServiceAccountCredentials.from_json_keyfile_name(\"credentials.json\", scope)\n",
    "client = gspread.authorize(creds)"
   ]
  },
  {
   "cell_type": "code",
   "execution_count": 10,
   "metadata": {
    "execution": {
     "iopub.execute_input": "2020-08-26T19:59:08.670917Z",
     "iopub.status.busy": "2020-08-26T19:59:08.670405Z",
     "iopub.status.idle": "2020-08-26T19:59:09.606612Z",
     "shell.execute_reply": "2020-08-26T19:59:09.607378Z"
    },
    "papermill": {
     "duration": 0.953631,
     "end_time": "2020-08-26T19:59:09.607546",
     "exception": false,
     "start_time": "2020-08-26T19:59:08.653915",
     "status": "completed"
    },
    "slideshow": {
     "slide_type": "skip"
    },
    "tags": [
     "remove_cell"
    ]
   },
   "outputs": [
    {
     "data": {
      "text/plain": [
       "{'spreadsheetId': '1pcqdMzKtea2Oq3BDmdAOQ21gZjCssieKI0692VfNLXU',\n",
       " 'updatedRange': 'Sheet1!A2:G2',\n",
       " 'updatedRows': 1,\n",
       " 'updatedColumns': 7,\n",
       " 'updatedCells': 7}"
      ]
     },
     "execution_count": 10,
     "metadata": {},
     "output_type": "execute_result"
    }
   ],
   "source": [
    "# Append daily data as a new row in Google Sheet\n",
    "sheet = client.open(\"Test cron job\").sheet1\n",
    "insertRow = [datetime.date.today().strftime(\"%Y-%m-%d\"),\n",
    "             daily_tests,\n",
    "             case_rate,\n",
    "             test_positivity,\n",
    "             change_hospit,\n",
    "             ICU_beds,\n",
    "             ventilators]\n",
    "sheet.insert_row(insertRow, 2)"
   ]
  },
  {
   "cell_type": "code",
   "execution_count": 11,
   "metadata": {
    "execution": {
     "iopub.execute_input": "2020-08-26T19:59:09.636718Z",
     "iopub.status.busy": "2020-08-26T19:59:09.636218Z",
     "iopub.status.idle": "2020-08-26T19:59:10.111788Z",
     "shell.execute_reply": "2020-08-26T19:59:10.112598Z"
    },
    "papermill": {
     "duration": 0.491572,
     "end_time": "2020-08-26T19:59:10.112755",
     "exception": false,
     "start_time": "2020-08-26T19:59:09.621183",
     "status": "completed"
    },
    "scrolled": true,
    "slideshow": {
     "slide_type": "slide"
    },
    "tags": [
     "remove_cell"
    ]
   },
   "outputs": [],
   "source": [
    "# Extract data from Google Sheet as pandas dataframe\n",
    "sheet = client.open(\"Test cron job\").sheet1\n",
    "data = sheet.get_all_records()\n",
    "result = pd.DataFrame(data).set_index(\"Date\")"
   ]
  },
  {
   "cell_type": "code",
   "execution_count": 12,
   "metadata": {
    "execution": {
     "iopub.execute_input": "2020-08-26T19:59:10.139875Z",
     "iopub.status.busy": "2020-08-26T19:59:10.139341Z",
     "iopub.status.idle": "2020-08-26T19:59:10.956808Z",
     "shell.execute_reply": "2020-08-26T19:59:10.957565Z"
    },
    "papermill": {
     "duration": 0.834311,
     "end_time": "2020-08-26T19:59:10.957732",
     "exception": false,
     "start_time": "2020-08-26T19:59:10.123421",
     "status": "completed"
    },
    "scrolled": true,
    "tags": [
     "remove_input"
    ]
   },
   "outputs": [
    {
     "data": {
      "text/html": [
       "<style  type=\"text/css\" >\n",
       "    #T_9bb3133e_e7d6_11ea_aa11_42010a8a0004 th {\n",
       "          text-align: center;\n",
       "    }#T_9bb3133e_e7d6_11ea_aa11_42010a8a0004row0_col0,#T_9bb3133e_e7d6_11ea_aa11_42010a8a0004row1_col0,#T_9bb3133e_e7d6_11ea_aa11_42010a8a0004row2_col0,#T_9bb3133e_e7d6_11ea_aa11_42010a8a0004row3_col0,#T_9bb3133e_e7d6_11ea_aa11_42010a8a0004row4_col0,#T_9bb3133e_e7d6_11ea_aa11_42010a8a0004row5_col0,#T_9bb3133e_e7d6_11ea_aa11_42010a8a0004row6_col0,#T_9bb3133e_e7d6_11ea_aa11_42010a8a0004row7_col0,#T_9bb3133e_e7d6_11ea_aa11_42010a8a0004row8_col0,#T_9bb3133e_e7d6_11ea_aa11_42010a8a0004row9_col0,#T_9bb3133e_e7d6_11ea_aa11_42010a8a0004row10_col0,#T_9bb3133e_e7d6_11ea_aa11_42010a8a0004row11_col0,#T_9bb3133e_e7d6_11ea_aa11_42010a8a0004row12_col0,#T_9bb3133e_e7d6_11ea_aa11_42010a8a0004row13_col0,#T_9bb3133e_e7d6_11ea_aa11_42010a8a0004row14_col0,#T_9bb3133e_e7d6_11ea_aa11_42010a8a0004row15_col0,#T_9bb3133e_e7d6_11ea_aa11_42010a8a0004row16_col0{\n",
       "            width:  20em;\n",
       "            text-align:  center;\n",
       "            font-weight:  bold;\n",
       "        }#T_9bb3133e_e7d6_11ea_aa11_42010a8a0004row0_col1,#T_9bb3133e_e7d6_11ea_aa11_42010a8a0004row0_col2,#T_9bb3133e_e7d6_11ea_aa11_42010a8a0004row0_col3,#T_9bb3133e_e7d6_11ea_aa11_42010a8a0004row0_col4,#T_9bb3133e_e7d6_11ea_aa11_42010a8a0004row0_col5,#T_9bb3133e_e7d6_11ea_aa11_42010a8a0004row0_col6,#T_9bb3133e_e7d6_11ea_aa11_42010a8a0004row1_col1,#T_9bb3133e_e7d6_11ea_aa11_42010a8a0004row1_col2,#T_9bb3133e_e7d6_11ea_aa11_42010a8a0004row1_col3,#T_9bb3133e_e7d6_11ea_aa11_42010a8a0004row1_col4,#T_9bb3133e_e7d6_11ea_aa11_42010a8a0004row1_col5,#T_9bb3133e_e7d6_11ea_aa11_42010a8a0004row1_col6,#T_9bb3133e_e7d6_11ea_aa11_42010a8a0004row2_col1,#T_9bb3133e_e7d6_11ea_aa11_42010a8a0004row2_col2,#T_9bb3133e_e7d6_11ea_aa11_42010a8a0004row2_col3,#T_9bb3133e_e7d6_11ea_aa11_42010a8a0004row2_col4,#T_9bb3133e_e7d6_11ea_aa11_42010a8a0004row2_col5,#T_9bb3133e_e7d6_11ea_aa11_42010a8a0004row2_col6,#T_9bb3133e_e7d6_11ea_aa11_42010a8a0004row3_col1,#T_9bb3133e_e7d6_11ea_aa11_42010a8a0004row3_col2,#T_9bb3133e_e7d6_11ea_aa11_42010a8a0004row3_col3,#T_9bb3133e_e7d6_11ea_aa11_42010a8a0004row3_col4,#T_9bb3133e_e7d6_11ea_aa11_42010a8a0004row3_col5,#T_9bb3133e_e7d6_11ea_aa11_42010a8a0004row3_col6,#T_9bb3133e_e7d6_11ea_aa11_42010a8a0004row4_col1,#T_9bb3133e_e7d6_11ea_aa11_42010a8a0004row4_col2,#T_9bb3133e_e7d6_11ea_aa11_42010a8a0004row4_col3,#T_9bb3133e_e7d6_11ea_aa11_42010a8a0004row4_col4,#T_9bb3133e_e7d6_11ea_aa11_42010a8a0004row4_col5,#T_9bb3133e_e7d6_11ea_aa11_42010a8a0004row4_col6,#T_9bb3133e_e7d6_11ea_aa11_42010a8a0004row5_col1,#T_9bb3133e_e7d6_11ea_aa11_42010a8a0004row5_col2,#T_9bb3133e_e7d6_11ea_aa11_42010a8a0004row5_col3,#T_9bb3133e_e7d6_11ea_aa11_42010a8a0004row5_col4,#T_9bb3133e_e7d6_11ea_aa11_42010a8a0004row5_col5,#T_9bb3133e_e7d6_11ea_aa11_42010a8a0004row5_col6,#T_9bb3133e_e7d6_11ea_aa11_42010a8a0004row6_col1,#T_9bb3133e_e7d6_11ea_aa11_42010a8a0004row6_col2,#T_9bb3133e_e7d6_11ea_aa11_42010a8a0004row6_col3,#T_9bb3133e_e7d6_11ea_aa11_42010a8a0004row6_col4,#T_9bb3133e_e7d6_11ea_aa11_42010a8a0004row6_col5,#T_9bb3133e_e7d6_11ea_aa11_42010a8a0004row6_col6,#T_9bb3133e_e7d6_11ea_aa11_42010a8a0004row7_col1,#T_9bb3133e_e7d6_11ea_aa11_42010a8a0004row7_col2,#T_9bb3133e_e7d6_11ea_aa11_42010a8a0004row7_col3,#T_9bb3133e_e7d6_11ea_aa11_42010a8a0004row7_col4,#T_9bb3133e_e7d6_11ea_aa11_42010a8a0004row7_col5,#T_9bb3133e_e7d6_11ea_aa11_42010a8a0004row7_col6,#T_9bb3133e_e7d6_11ea_aa11_42010a8a0004row8_col1,#T_9bb3133e_e7d6_11ea_aa11_42010a8a0004row8_col2,#T_9bb3133e_e7d6_11ea_aa11_42010a8a0004row8_col3,#T_9bb3133e_e7d6_11ea_aa11_42010a8a0004row8_col4,#T_9bb3133e_e7d6_11ea_aa11_42010a8a0004row8_col5,#T_9bb3133e_e7d6_11ea_aa11_42010a8a0004row8_col6,#T_9bb3133e_e7d6_11ea_aa11_42010a8a0004row9_col1,#T_9bb3133e_e7d6_11ea_aa11_42010a8a0004row9_col2,#T_9bb3133e_e7d6_11ea_aa11_42010a8a0004row9_col3,#T_9bb3133e_e7d6_11ea_aa11_42010a8a0004row9_col4,#T_9bb3133e_e7d6_11ea_aa11_42010a8a0004row9_col5,#T_9bb3133e_e7d6_11ea_aa11_42010a8a0004row9_col6,#T_9bb3133e_e7d6_11ea_aa11_42010a8a0004row10_col1,#T_9bb3133e_e7d6_11ea_aa11_42010a8a0004row10_col2,#T_9bb3133e_e7d6_11ea_aa11_42010a8a0004row10_col3,#T_9bb3133e_e7d6_11ea_aa11_42010a8a0004row10_col4,#T_9bb3133e_e7d6_11ea_aa11_42010a8a0004row10_col5,#T_9bb3133e_e7d6_11ea_aa11_42010a8a0004row10_col6,#T_9bb3133e_e7d6_11ea_aa11_42010a8a0004row11_col1,#T_9bb3133e_e7d6_11ea_aa11_42010a8a0004row11_col2,#T_9bb3133e_e7d6_11ea_aa11_42010a8a0004row11_col3,#T_9bb3133e_e7d6_11ea_aa11_42010a8a0004row11_col4,#T_9bb3133e_e7d6_11ea_aa11_42010a8a0004row11_col5,#T_9bb3133e_e7d6_11ea_aa11_42010a8a0004row11_col6,#T_9bb3133e_e7d6_11ea_aa11_42010a8a0004row12_col1,#T_9bb3133e_e7d6_11ea_aa11_42010a8a0004row12_col2,#T_9bb3133e_e7d6_11ea_aa11_42010a8a0004row12_col3,#T_9bb3133e_e7d6_11ea_aa11_42010a8a0004row12_col4,#T_9bb3133e_e7d6_11ea_aa11_42010a8a0004row12_col5,#T_9bb3133e_e7d6_11ea_aa11_42010a8a0004row12_col6,#T_9bb3133e_e7d6_11ea_aa11_42010a8a0004row13_col1,#T_9bb3133e_e7d6_11ea_aa11_42010a8a0004row13_col2,#T_9bb3133e_e7d6_11ea_aa11_42010a8a0004row13_col3,#T_9bb3133e_e7d6_11ea_aa11_42010a8a0004row13_col4,#T_9bb3133e_e7d6_11ea_aa11_42010a8a0004row13_col5,#T_9bb3133e_e7d6_11ea_aa11_42010a8a0004row13_col6,#T_9bb3133e_e7d6_11ea_aa11_42010a8a0004row14_col1,#T_9bb3133e_e7d6_11ea_aa11_42010a8a0004row14_col2,#T_9bb3133e_e7d6_11ea_aa11_42010a8a0004row14_col3,#T_9bb3133e_e7d6_11ea_aa11_42010a8a0004row14_col4,#T_9bb3133e_e7d6_11ea_aa11_42010a8a0004row14_col5,#T_9bb3133e_e7d6_11ea_aa11_42010a8a0004row14_col6,#T_9bb3133e_e7d6_11ea_aa11_42010a8a0004row15_col1,#T_9bb3133e_e7d6_11ea_aa11_42010a8a0004row15_col2,#T_9bb3133e_e7d6_11ea_aa11_42010a8a0004row15_col3,#T_9bb3133e_e7d6_11ea_aa11_42010a8a0004row15_col4,#T_9bb3133e_e7d6_11ea_aa11_42010a8a0004row15_col5,#T_9bb3133e_e7d6_11ea_aa11_42010a8a0004row15_col6,#T_9bb3133e_e7d6_11ea_aa11_42010a8a0004row16_col1,#T_9bb3133e_e7d6_11ea_aa11_42010a8a0004row16_col2,#T_9bb3133e_e7d6_11ea_aa11_42010a8a0004row16_col3,#T_9bb3133e_e7d6_11ea_aa11_42010a8a0004row16_col4,#T_9bb3133e_e7d6_11ea_aa11_42010a8a0004row16_col5,#T_9bb3133e_e7d6_11ea_aa11_42010a8a0004row16_col6{\n",
       "            width:  20em;\n",
       "            text-align:  center;\n",
       "        }</style><table id=\"T_9bb3133e_e7d6_11ea_aa11_42010a8a0004\" ><thead>    <tr>        <th class=\"col_heading level0 col0\" >Date</th>        <th class=\"col_heading level0 col1\" >Daily tests (per 100,000)¹</th>        <th class=\"col_heading level0 col2\" >Case rate (per 100,000)²</th>        <th class=\"col_heading level0 col3\" >Testing positivity (%)³</th>        <th class=\"col_heading level0 col4\" >Change in hospitalizations (%)⁴</th>        <th class=\"col_heading level0 col5\" >ICU beds available (%)</th>        <th class=\"col_heading level0 col6\" >Ventilators (available (%)</th>    </tr></thead><tbody>\n",
       "                <tr>\n",
       "                                <td id=\"T_9bb3133e_e7d6_11ea_aa11_42010a8a0004row0_col0\" class=\"data row0 col0\" >2020-08-26</td>\n",
       "                        <td id=\"T_9bb3133e_e7d6_11ea_aa11_42010a8a0004row0_col1\" class=\"data row0 col1\" >219.7</td>\n",
       "                        <td id=\"T_9bb3133e_e7d6_11ea_aa11_42010a8a0004row0_col2\" class=\"data row0 col2\" >133.2</td>\n",
       "                        <td id=\"T_9bb3133e_e7d6_11ea_aa11_42010a8a0004row0_col3\" class=\"data row0 col3\" > ✔</td>\n",
       "                        <td id=\"T_9bb3133e_e7d6_11ea_aa11_42010a8a0004row0_col4\" class=\"data row0 col4\" > ✔</td>\n",
       "                        <td id=\"T_9bb3133e_e7d6_11ea_aa11_42010a8a0004row0_col5\" class=\"data row0 col5\" > ✔</td>\n",
       "                        <td id=\"T_9bb3133e_e7d6_11ea_aa11_42010a8a0004row0_col6\" class=\"data row0 col6\" > ✔</td>\n",
       "            </tr>\n",
       "            <tr>\n",
       "                                <td id=\"T_9bb3133e_e7d6_11ea_aa11_42010a8a0004row1_col0\" class=\"data row1 col0\" >2020-08-26</td>\n",
       "                        <td id=\"T_9bb3133e_e7d6_11ea_aa11_42010a8a0004row1_col1\" class=\"data row1 col1\" >219.7</td>\n",
       "                        <td id=\"T_9bb3133e_e7d6_11ea_aa11_42010a8a0004row1_col2\" class=\"data row1 col2\" >133.2</td>\n",
       "                        <td id=\"T_9bb3133e_e7d6_11ea_aa11_42010a8a0004row1_col3\" class=\"data row1 col3\" > ✔</td>\n",
       "                        <td id=\"T_9bb3133e_e7d6_11ea_aa11_42010a8a0004row1_col4\" class=\"data row1 col4\" > ✔</td>\n",
       "                        <td id=\"T_9bb3133e_e7d6_11ea_aa11_42010a8a0004row1_col5\" class=\"data row1 col5\" > ✔</td>\n",
       "                        <td id=\"T_9bb3133e_e7d6_11ea_aa11_42010a8a0004row1_col6\" class=\"data row1 col6\" > ✔</td>\n",
       "            </tr>\n",
       "            <tr>\n",
       "                                <td id=\"T_9bb3133e_e7d6_11ea_aa11_42010a8a0004row2_col0\" class=\"data row2 col0\" >2020-08-26</td>\n",
       "                        <td id=\"T_9bb3133e_e7d6_11ea_aa11_42010a8a0004row2_col1\" class=\"data row2 col1\" >219.7</td>\n",
       "                        <td id=\"T_9bb3133e_e7d6_11ea_aa11_42010a8a0004row2_col2\" class=\"data row2 col2\" >133.2</td>\n",
       "                        <td id=\"T_9bb3133e_e7d6_11ea_aa11_42010a8a0004row2_col3\" class=\"data row2 col3\" > ✔</td>\n",
       "                        <td id=\"T_9bb3133e_e7d6_11ea_aa11_42010a8a0004row2_col4\" class=\"data row2 col4\" > ✔</td>\n",
       "                        <td id=\"T_9bb3133e_e7d6_11ea_aa11_42010a8a0004row2_col5\" class=\"data row2 col5\" > ✔</td>\n",
       "                        <td id=\"T_9bb3133e_e7d6_11ea_aa11_42010a8a0004row2_col6\" class=\"data row2 col6\" > ✔</td>\n",
       "            </tr>\n",
       "            <tr>\n",
       "                                <td id=\"T_9bb3133e_e7d6_11ea_aa11_42010a8a0004row3_col0\" class=\"data row3 col0\" >2020-08-26</td>\n",
       "                        <td id=\"T_9bb3133e_e7d6_11ea_aa11_42010a8a0004row3_col1\" class=\"data row3 col1\" >219.7</td>\n",
       "                        <td id=\"T_9bb3133e_e7d6_11ea_aa11_42010a8a0004row3_col2\" class=\"data row3 col2\" >133.2</td>\n",
       "                        <td id=\"T_9bb3133e_e7d6_11ea_aa11_42010a8a0004row3_col3\" class=\"data row3 col3\" > ✔</td>\n",
       "                        <td id=\"T_9bb3133e_e7d6_11ea_aa11_42010a8a0004row3_col4\" class=\"data row3 col4\" > ✔</td>\n",
       "                        <td id=\"T_9bb3133e_e7d6_11ea_aa11_42010a8a0004row3_col5\" class=\"data row3 col5\" > ✔</td>\n",
       "                        <td id=\"T_9bb3133e_e7d6_11ea_aa11_42010a8a0004row3_col6\" class=\"data row3 col6\" > ✔</td>\n",
       "            </tr>\n",
       "            <tr>\n",
       "                                <td id=\"T_9bb3133e_e7d6_11ea_aa11_42010a8a0004row4_col0\" class=\"data row4 col0\" >2020-08-26</td>\n",
       "                        <td id=\"T_9bb3133e_e7d6_11ea_aa11_42010a8a0004row4_col1\" class=\"data row4 col1\" >219.7</td>\n",
       "                        <td id=\"T_9bb3133e_e7d6_11ea_aa11_42010a8a0004row4_col2\" class=\"data row4 col2\" >133.2</td>\n",
       "                        <td id=\"T_9bb3133e_e7d6_11ea_aa11_42010a8a0004row4_col3\" class=\"data row4 col3\" > ✔</td>\n",
       "                        <td id=\"T_9bb3133e_e7d6_11ea_aa11_42010a8a0004row4_col4\" class=\"data row4 col4\" > ✔</td>\n",
       "                        <td id=\"T_9bb3133e_e7d6_11ea_aa11_42010a8a0004row4_col5\" class=\"data row4 col5\" > ✔</td>\n",
       "                        <td id=\"T_9bb3133e_e7d6_11ea_aa11_42010a8a0004row4_col6\" class=\"data row4 col6\" > ✔</td>\n",
       "            </tr>\n",
       "            <tr>\n",
       "                                <td id=\"T_9bb3133e_e7d6_11ea_aa11_42010a8a0004row5_col0\" class=\"data row5 col0\" >2020-08-26</td>\n",
       "                        <td id=\"T_9bb3133e_e7d6_11ea_aa11_42010a8a0004row5_col1\" class=\"data row5 col1\" >219.7</td>\n",
       "                        <td id=\"T_9bb3133e_e7d6_11ea_aa11_42010a8a0004row5_col2\" class=\"data row5 col2\" >133.2</td>\n",
       "                        <td id=\"T_9bb3133e_e7d6_11ea_aa11_42010a8a0004row5_col3\" class=\"data row5 col3\" > ✔</td>\n",
       "                        <td id=\"T_9bb3133e_e7d6_11ea_aa11_42010a8a0004row5_col4\" class=\"data row5 col4\" > ✔</td>\n",
       "                        <td id=\"T_9bb3133e_e7d6_11ea_aa11_42010a8a0004row5_col5\" class=\"data row5 col5\" > ✔</td>\n",
       "                        <td id=\"T_9bb3133e_e7d6_11ea_aa11_42010a8a0004row5_col6\" class=\"data row5 col6\" > ✔</td>\n",
       "            </tr>\n",
       "            <tr>\n",
       "                                <td id=\"T_9bb3133e_e7d6_11ea_aa11_42010a8a0004row6_col0\" class=\"data row6 col0\" >2020-08-26</td>\n",
       "                        <td id=\"T_9bb3133e_e7d6_11ea_aa11_42010a8a0004row6_col1\" class=\"data row6 col1\" >219.7</td>\n",
       "                        <td id=\"T_9bb3133e_e7d6_11ea_aa11_42010a8a0004row6_col2\" class=\"data row6 col2\" >133.2</td>\n",
       "                        <td id=\"T_9bb3133e_e7d6_11ea_aa11_42010a8a0004row6_col3\" class=\"data row6 col3\" > ✔</td>\n",
       "                        <td id=\"T_9bb3133e_e7d6_11ea_aa11_42010a8a0004row6_col4\" class=\"data row6 col4\" > ✔</td>\n",
       "                        <td id=\"T_9bb3133e_e7d6_11ea_aa11_42010a8a0004row6_col5\" class=\"data row6 col5\" > ✔</td>\n",
       "                        <td id=\"T_9bb3133e_e7d6_11ea_aa11_42010a8a0004row6_col6\" class=\"data row6 col6\" > ✔</td>\n",
       "            </tr>\n",
       "            <tr>\n",
       "                                <td id=\"T_9bb3133e_e7d6_11ea_aa11_42010a8a0004row7_col0\" class=\"data row7 col0\" >2020-08-26</td>\n",
       "                        <td id=\"T_9bb3133e_e7d6_11ea_aa11_42010a8a0004row7_col1\" class=\"data row7 col1\" >219.7</td>\n",
       "                        <td id=\"T_9bb3133e_e7d6_11ea_aa11_42010a8a0004row7_col2\" class=\"data row7 col2\" >133.2</td>\n",
       "                        <td id=\"T_9bb3133e_e7d6_11ea_aa11_42010a8a0004row7_col3\" class=\"data row7 col3\" > ✔</td>\n",
       "                        <td id=\"T_9bb3133e_e7d6_11ea_aa11_42010a8a0004row7_col4\" class=\"data row7 col4\" > ✔</td>\n",
       "                        <td id=\"T_9bb3133e_e7d6_11ea_aa11_42010a8a0004row7_col5\" class=\"data row7 col5\" > ✔</td>\n",
       "                        <td id=\"T_9bb3133e_e7d6_11ea_aa11_42010a8a0004row7_col6\" class=\"data row7 col6\" > ✔</td>\n",
       "            </tr>\n",
       "            <tr>\n",
       "                                <td id=\"T_9bb3133e_e7d6_11ea_aa11_42010a8a0004row8_col0\" class=\"data row8 col0\" >2020-08-26</td>\n",
       "                        <td id=\"T_9bb3133e_e7d6_11ea_aa11_42010a8a0004row8_col1\" class=\"data row8 col1\" >219.7</td>\n",
       "                        <td id=\"T_9bb3133e_e7d6_11ea_aa11_42010a8a0004row8_col2\" class=\"data row8 col2\" >133.2</td>\n",
       "                        <td id=\"T_9bb3133e_e7d6_11ea_aa11_42010a8a0004row8_col3\" class=\"data row8 col3\" > ✔</td>\n",
       "                        <td id=\"T_9bb3133e_e7d6_11ea_aa11_42010a8a0004row8_col4\" class=\"data row8 col4\" > ✔</td>\n",
       "                        <td id=\"T_9bb3133e_e7d6_11ea_aa11_42010a8a0004row8_col5\" class=\"data row8 col5\" > ✔</td>\n",
       "                        <td id=\"T_9bb3133e_e7d6_11ea_aa11_42010a8a0004row8_col6\" class=\"data row8 col6\" > ✔</td>\n",
       "            </tr>\n",
       "            <tr>\n",
       "                                <td id=\"T_9bb3133e_e7d6_11ea_aa11_42010a8a0004row9_col0\" class=\"data row9 col0\" >2020-08-26</td>\n",
       "                        <td id=\"T_9bb3133e_e7d6_11ea_aa11_42010a8a0004row9_col1\" class=\"data row9 col1\" >219.7</td>\n",
       "                        <td id=\"T_9bb3133e_e7d6_11ea_aa11_42010a8a0004row9_col2\" class=\"data row9 col2\" >133.2</td>\n",
       "                        <td id=\"T_9bb3133e_e7d6_11ea_aa11_42010a8a0004row9_col3\" class=\"data row9 col3\" > ✔</td>\n",
       "                        <td id=\"T_9bb3133e_e7d6_11ea_aa11_42010a8a0004row9_col4\" class=\"data row9 col4\" > ✔</td>\n",
       "                        <td id=\"T_9bb3133e_e7d6_11ea_aa11_42010a8a0004row9_col5\" class=\"data row9 col5\" > ✔</td>\n",
       "                        <td id=\"T_9bb3133e_e7d6_11ea_aa11_42010a8a0004row9_col6\" class=\"data row9 col6\" > ✔</td>\n",
       "            </tr>\n",
       "            <tr>\n",
       "                                <td id=\"T_9bb3133e_e7d6_11ea_aa11_42010a8a0004row10_col0\" class=\"data row10 col0\" >2020-08-26</td>\n",
       "                        <td id=\"T_9bb3133e_e7d6_11ea_aa11_42010a8a0004row10_col1\" class=\"data row10 col1\" >219.7</td>\n",
       "                        <td id=\"T_9bb3133e_e7d6_11ea_aa11_42010a8a0004row10_col2\" class=\"data row10 col2\" >133.2</td>\n",
       "                        <td id=\"T_9bb3133e_e7d6_11ea_aa11_42010a8a0004row10_col3\" class=\"data row10 col3\" > ✔</td>\n",
       "                        <td id=\"T_9bb3133e_e7d6_11ea_aa11_42010a8a0004row10_col4\" class=\"data row10 col4\" > ✔</td>\n",
       "                        <td id=\"T_9bb3133e_e7d6_11ea_aa11_42010a8a0004row10_col5\" class=\"data row10 col5\" > ✔</td>\n",
       "                        <td id=\"T_9bb3133e_e7d6_11ea_aa11_42010a8a0004row10_col6\" class=\"data row10 col6\" > ✔</td>\n",
       "            </tr>\n",
       "            <tr>\n",
       "                                <td id=\"T_9bb3133e_e7d6_11ea_aa11_42010a8a0004row11_col0\" class=\"data row11 col0\" >2020-08-26</td>\n",
       "                        <td id=\"T_9bb3133e_e7d6_11ea_aa11_42010a8a0004row11_col1\" class=\"data row11 col1\" >219.7</td>\n",
       "                        <td id=\"T_9bb3133e_e7d6_11ea_aa11_42010a8a0004row11_col2\" class=\"data row11 col2\" >133.2</td>\n",
       "                        <td id=\"T_9bb3133e_e7d6_11ea_aa11_42010a8a0004row11_col3\" class=\"data row11 col3\" > ✔</td>\n",
       "                        <td id=\"T_9bb3133e_e7d6_11ea_aa11_42010a8a0004row11_col4\" class=\"data row11 col4\" > ✔</td>\n",
       "                        <td id=\"T_9bb3133e_e7d6_11ea_aa11_42010a8a0004row11_col5\" class=\"data row11 col5\" > ✔</td>\n",
       "                        <td id=\"T_9bb3133e_e7d6_11ea_aa11_42010a8a0004row11_col6\" class=\"data row11 col6\" > ✔</td>\n",
       "            </tr>\n",
       "            <tr>\n",
       "                                <td id=\"T_9bb3133e_e7d6_11ea_aa11_42010a8a0004row12_col0\" class=\"data row12 col0\" >2020-08-26</td>\n",
       "                        <td id=\"T_9bb3133e_e7d6_11ea_aa11_42010a8a0004row12_col1\" class=\"data row12 col1\" >219.7</td>\n",
       "                        <td id=\"T_9bb3133e_e7d6_11ea_aa11_42010a8a0004row12_col2\" class=\"data row12 col2\" >133.2</td>\n",
       "                        <td id=\"T_9bb3133e_e7d6_11ea_aa11_42010a8a0004row12_col3\" class=\"data row12 col3\" > ✔</td>\n",
       "                        <td id=\"T_9bb3133e_e7d6_11ea_aa11_42010a8a0004row12_col4\" class=\"data row12 col4\" > ✔</td>\n",
       "                        <td id=\"T_9bb3133e_e7d6_11ea_aa11_42010a8a0004row12_col5\" class=\"data row12 col5\" > ✔</td>\n",
       "                        <td id=\"T_9bb3133e_e7d6_11ea_aa11_42010a8a0004row12_col6\" class=\"data row12 col6\" > ✔</td>\n",
       "            </tr>\n",
       "            <tr>\n",
       "                                <td id=\"T_9bb3133e_e7d6_11ea_aa11_42010a8a0004row13_col0\" class=\"data row13 col0\" >2020-08-26</td>\n",
       "                        <td id=\"T_9bb3133e_e7d6_11ea_aa11_42010a8a0004row13_col1\" class=\"data row13 col1\" >219.7</td>\n",
       "                        <td id=\"T_9bb3133e_e7d6_11ea_aa11_42010a8a0004row13_col2\" class=\"data row13 col2\" >133.2</td>\n",
       "                        <td id=\"T_9bb3133e_e7d6_11ea_aa11_42010a8a0004row13_col3\" class=\"data row13 col3\" > ✔</td>\n",
       "                        <td id=\"T_9bb3133e_e7d6_11ea_aa11_42010a8a0004row13_col4\" class=\"data row13 col4\" > ✔</td>\n",
       "                        <td id=\"T_9bb3133e_e7d6_11ea_aa11_42010a8a0004row13_col5\" class=\"data row13 col5\" > ✔</td>\n",
       "                        <td id=\"T_9bb3133e_e7d6_11ea_aa11_42010a8a0004row13_col6\" class=\"data row13 col6\" > ✔</td>\n",
       "            </tr>\n",
       "            <tr>\n",
       "                                <td id=\"T_9bb3133e_e7d6_11ea_aa11_42010a8a0004row14_col0\" class=\"data row14 col0\" >2020-08-26</td>\n",
       "                        <td id=\"T_9bb3133e_e7d6_11ea_aa11_42010a8a0004row14_col1\" class=\"data row14 col1\" >219.7</td>\n",
       "                        <td id=\"T_9bb3133e_e7d6_11ea_aa11_42010a8a0004row14_col2\" class=\"data row14 col2\" >133.2</td>\n",
       "                        <td id=\"T_9bb3133e_e7d6_11ea_aa11_42010a8a0004row14_col3\" class=\"data row14 col3\" > ✔</td>\n",
       "                        <td id=\"T_9bb3133e_e7d6_11ea_aa11_42010a8a0004row14_col4\" class=\"data row14 col4\" > ✔</td>\n",
       "                        <td id=\"T_9bb3133e_e7d6_11ea_aa11_42010a8a0004row14_col5\" class=\"data row14 col5\" > ✔</td>\n",
       "                        <td id=\"T_9bb3133e_e7d6_11ea_aa11_42010a8a0004row14_col6\" class=\"data row14 col6\" > ✔</td>\n",
       "            </tr>\n",
       "            <tr>\n",
       "                                <td id=\"T_9bb3133e_e7d6_11ea_aa11_42010a8a0004row15_col0\" class=\"data row15 col0\" >2020-08-26</td>\n",
       "                        <td id=\"T_9bb3133e_e7d6_11ea_aa11_42010a8a0004row15_col1\" class=\"data row15 col1\" >219.7</td>\n",
       "                        <td id=\"T_9bb3133e_e7d6_11ea_aa11_42010a8a0004row15_col2\" class=\"data row15 col2\" >133.2</td>\n",
       "                        <td id=\"T_9bb3133e_e7d6_11ea_aa11_42010a8a0004row15_col3\" class=\"data row15 col3\" > ✔</td>\n",
       "                        <td id=\"T_9bb3133e_e7d6_11ea_aa11_42010a8a0004row15_col4\" class=\"data row15 col4\" > ✔</td>\n",
       "                        <td id=\"T_9bb3133e_e7d6_11ea_aa11_42010a8a0004row15_col5\" class=\"data row15 col5\" > ✔</td>\n",
       "                        <td id=\"T_9bb3133e_e7d6_11ea_aa11_42010a8a0004row15_col6\" class=\"data row15 col6\" > ✔</td>\n",
       "            </tr>\n",
       "            <tr>\n",
       "                                <td id=\"T_9bb3133e_e7d6_11ea_aa11_42010a8a0004row16_col0\" class=\"data row16 col0\" >2020-08-26</td>\n",
       "                        <td id=\"T_9bb3133e_e7d6_11ea_aa11_42010a8a0004row16_col1\" class=\"data row16 col1\" >219.7</td>\n",
       "                        <td id=\"T_9bb3133e_e7d6_11ea_aa11_42010a8a0004row16_col2\" class=\"data row16 col2\" >133.2</td>\n",
       "                        <td id=\"T_9bb3133e_e7d6_11ea_aa11_42010a8a0004row16_col3\" class=\"data row16 col3\" > ✔</td>\n",
       "                        <td id=\"T_9bb3133e_e7d6_11ea_aa11_42010a8a0004row16_col4\" class=\"data row16 col4\" > ✔</td>\n",
       "                        <td id=\"T_9bb3133e_e7d6_11ea_aa11_42010a8a0004row16_col5\" class=\"data row16 col5\" > ✔</td>\n",
       "                        <td id=\"T_9bb3133e_e7d6_11ea_aa11_42010a8a0004row16_col6\" class=\"data row16 col6\" > ✔</td>\n",
       "            </tr>\n",
       "    </tbody></table>"
      ],
      "text/plain": [
       "<pandas.io.formats.style.Styler at 0x7f14cbc72080>"
      ]
     },
     "execution_count": 12,
     "metadata": {},
     "output_type": "execute_result"
    }
   ],
   "source": [
    "# Style the pandas dataframe\n",
    "d = dict(selector=\"th\",\n",
    "         props=[('text-align', 'center')])\n",
    "\n",
    "result.reset_index().style\\\n",
    "    .set_properties(**{'width':'20em', 'text-align':'center'})\\\n",
    "    .set_properties(subset=['Date'], **{'font-weight': 'bold'})\\\n",
    "    .set_table_styles([d])\\\n",
    "    .set_precision(1)\\\n",
    "    .hide_index()"
   ]
  },
  {
   "cell_type": "markdown",
   "metadata": {
    "papermill": {
     "duration": 0.011043,
     "end_time": "2020-08-26T19:59:10.980998",
     "exception": false,
     "start_time": "2020-08-26T19:59:10.969955",
     "status": "completed"
    },
    "tags": []
   },
   "source": [
    "<sup>Notes: (1) 7 day average with a 7-day lag. (2) 14 day average. (3) 7 day average with a 7-day lag. (4) Change in 3 day average.</sup>"
   ]
  },
  {
   "cell_type": "code",
   "execution_count": 13,
   "metadata": {
    "execution": {
     "iopub.execute_input": "2020-08-26T19:59:11.008714Z",
     "iopub.status.busy": "2020-08-26T19:59:11.008227Z",
     "iopub.status.idle": "2020-08-26T19:59:11.011207Z",
     "shell.execute_reply": "2020-08-26T19:59:11.011601Z"
    },
    "papermill": {
     "duration": 0.019565,
     "end_time": "2020-08-26T19:59:11.011756",
     "exception": false,
     "start_time": "2020-08-26T19:59:10.992191",
     "status": "completed"
    },
    "tags": [
     "remove_input"
    ]
   },
   "outputs": [
    {
     "data": {
      "text/markdown": [
       "Table last updated by CDPH on August 26, 2020."
      ],
      "text/plain": [
       "<IPython.core.display.Markdown object>"
      ]
     },
     "execution_count": 13,
     "metadata": {},
     "output_type": "execute_result"
    }
   ],
   "source": [
    "md(update_tag)"
   ]
  },
  {
   "cell_type": "markdown",
   "metadata": {
    "papermill": {
     "duration": 0.011297,
     "end_time": "2020-08-26T19:59:11.034441",
     "exception": false,
     "start_time": "2020-08-26T19:59:11.023144",
     "status": "completed"
    },
    "tags": []
   },
   "source": [
    "## Tracking county closures in Santa Barbara"
   ]
  },
  {
   "cell_type": "markdown",
   "metadata": {
    "papermill": {
     "duration": 0.011191,
     "end_time": "2020-08-26T19:59:11.056877",
     "exception": false,
     "start_time": "2020-08-26T19:59:11.045686",
     "status": "completed"
    },
    "tags": []
   },
   "source": [
    "The state of California is using a data-driven approach informed by scientific evidence to tailor its response to COVID-19. Three dimensions of concern are monitored to assess whether a county should be placed on the County Monitoring List:\n",
    " 1. Elevated Disease Transmission\n",
    " 2. Increasing Hospitalization\n",
    " 3. Limited Hospital Capacity\n",
    "\n",
    "Once a county appears on the County Monitoring List for three consecutive days, indoor operations in the sectors listed in Section 3 of the [July 13th State Health Officer Order](https://www.cdph.ca.gov/Programs/CID/DCDC/CDPH%20Document%20Library/COVID-19/SHO%20Order%20Dimming%20Entire%20State%207-13-2020.pdf) must close.\n",
    "\n",
    "This table tracks where Santa Barbara stands in terms of the criteria for inclusion on the County Monitoring List. As of 20 August 2020, the criteria for inclusion on the monitoring list are:\n",
    "\n",
    "* Case rate >100 OR (Case rate >25 AND Positivity >8%)\n",
    "* \\>10% increase in hospitalizations\n",
    "* <20% ICU beds available OR <25% ventilators available\n",
    "\n",
    "If Santa Barbara meets the criteria for removal from the County Monitoring List for a certain metric, then a checkmark ✔ is displayed in the table.\n",
    "\n",
    "Read more at <https://covid19.ca.gov/roadmap-counties/>.\n",
    "\n",
    "Data source for county metrics: https://www.cdph.ca.gov/Programs/CID/DCDC/Pages/COVID-19/COVID19CountyDataTable.aspx."
   ]
  },
  {
   "cell_type": "markdown",
   "metadata": {
    "papermill": {
     "duration": 0.011159,
     "end_time": "2020-08-26T19:59:11.079142",
     "exception": false,
     "start_time": "2020-08-26T19:59:11.067983",
     "status": "completed"
    },
    "tags": []
   },
   "source": [
    "**See the code used to scrape the data: https://github.com/walice/COVID-SB/.**"
   ]
  },
  {
   "cell_type": "code",
   "execution_count": 14,
   "metadata": {
    "execution": {
     "iopub.execute_input": "2020-08-26T19:59:11.107334Z",
     "iopub.status.busy": "2020-08-26T19:59:11.106784Z",
     "iopub.status.idle": "2020-08-26T19:59:11.109767Z",
     "shell.execute_reply": "2020-08-26T19:59:11.110148Z"
    },
    "papermill": {
     "duration": 0.019789,
     "end_time": "2020-08-26T19:59:11.110303",
     "exception": false,
     "start_time": "2020-08-26T19:59:11.090514",
     "status": "completed"
    },
    "tags": [
     "remove_cell"
    ]
   },
   "outputs": [
    {
     "data": {
      "application/javascript": [
       "IPython.notebook.save_notebook()\n"
      ],
      "text/plain": [
       "<IPython.core.display.Javascript object>"
      ]
     },
     "metadata": {},
     "output_type": "display_data"
    }
   ],
   "source": [
    "%%javascript\n",
    "IPython.notebook.save_notebook()"
   ]
  },
  {
   "cell_type": "code",
   "execution_count": 15,
   "metadata": {
    "execution": {
     "iopub.execute_input": "2020-08-26T19:59:11.139487Z",
     "iopub.status.busy": "2020-08-26T19:59:11.138999Z",
     "iopub.status.idle": "2020-08-26T19:59:11.254027Z",
     "shell.execute_reply": "2020-08-26T19:59:11.253116Z"
    },
    "papermill": {
     "duration": 0.132802,
     "end_time": "2020-08-26T19:59:11.254521",
     "exception": false,
     "start_time": "2020-08-26T19:59:11.121719",
     "status": "completed"
    },
    "slideshow": {
     "slide_type": "skip"
    },
    "tags": [
     "remove_cell"
    ]
   },
   "outputs": [
    {
     "name": "stdout",
     "output_type": "stream",
     "text": [
      "/bin/sh: 1: jupyter: not found\r\n"
     ]
    }
   ],
   "source": [
    "# Convert Jupyter Notebook to HTML\n",
    "! jupyter nbconvert \"index.ipynb\" --to html --TagRemovePreprocessor.enabled=True --TagRemovePreprocessor.remove_cell_tags=\"['remove_cell']\" --TagRemovePreprocessor.remove_input_tags=\"['remove_input']\" --no-prompt"
   ]
  },
  {
   "cell_type": "code",
   "execution_count": 16,
   "metadata": {
    "execution": {
     "iopub.execute_input": "2020-08-26T19:59:11.284031Z",
     "iopub.status.busy": "2020-08-26T19:59:11.283538Z",
     "iopub.status.idle": "2020-08-26T19:59:11.285841Z",
     "shell.execute_reply": "2020-08-26T19:59:11.286246Z"
    },
    "papermill": {
     "duration": 0.019873,
     "end_time": "2020-08-26T19:59:11.286397",
     "exception": false,
     "start_time": "2020-08-26T19:59:11.266524",
     "status": "completed"
    },
    "tags": [
     "remove_cell"
    ]
   },
   "outputs": [],
   "source": [
    "# Create daily commit message\n",
    "now = datetime.datetime.now()\n",
    "commit_message = \"Last scraped on \" + str(now)"
   ]
  },
  {
   "cell_type": "code",
   "execution_count": null,
   "metadata": {
    "execution": {
     "iopub.execute_input": "2020-08-26T19:58:12.211538Z",
     "iopub.status.busy": "2020-08-26T19:58:12.211006Z",
     "iopub.status.idle": "2020-08-26T19:58:16.962180Z",
     "shell.execute_reply": "2020-08-26T19:58:16.960986Z"
    },
    "papermill": {
     "duration": null,
     "end_time": null,
     "exception": false,
     "start_time": "2020-08-26T19:59:11.298041",
     "status": "running"
    },
    "tags": [
     "remove_cell"
    ]
   },
   "outputs": [],
   "source": [
    "# Deploy to GitHub\n",
    "! git add .\n",
    "! echo $commit_message > commit_message.txt\n",
    "! git commit -F commit_message.txt\n",
    "! git push"
   ]
  }
 ],
 "metadata": {
  "celltoolbar": "Tags",
  "kernelspec": {
   "display_name": "Python 3",
   "language": "python",
   "name": "python3"
  },
  "language_info": {
   "codemirror_mode": {
    "name": "ipython",
    "version": 3
   },
   "file_extension": ".py",
   "mimetype": "text/x-python",
   "name": "python",
   "nbconvert_exporter": "python",
   "pygments_lexer": "ipython3",
   "version": "3.7.3"
  },
  "papermill": {
   "duration": null,
   "end_time": null,
   "environment_variables": {},
   "exception": null,
   "input_path": "/home/alice_lepissier/cron-job/index.ipynb",
   "output_path": "/home/alice_lepissier/cron-job/index.ipynb",
   "parameters": {},
   "start_time": "2020-08-26T19:59:03.311162",
   "version": "2.1.3"
  }
 },
 "nbformat": 4,
 "nbformat_minor": 4
}