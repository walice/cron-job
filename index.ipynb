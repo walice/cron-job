{
 "cells": [
  {
   "cell_type": "markdown",
   "metadata": {
    "papermill": {
     "duration": 0.010663,
     "end_time": "2020-08-26T19:28:17.404696",
     "exception": false,
     "start_time": "2020-08-26T19:28:17.394033",
     "status": "completed"
    },
    "tags": []
   },
   "source": [
    "# Daily COVID monitoring data for Santa Barbara county"
   ]
  },
  {
   "cell_type": "code",
   "execution_count": 1,
   "metadata": {
    "execution": {
     "iopub.execute_input": "2020-08-26T19:28:17.431425Z",
     "iopub.status.busy": "2020-08-26T19:28:17.430847Z",
     "iopub.status.idle": "2020-08-26T19:28:19.641718Z",
     "shell.execute_reply": "2020-08-26T19:28:19.642635Z"
    },
    "papermill": {
     "duration": 2.228142,
     "end_time": "2020-08-26T19:28:19.642852",
     "exception": false,
     "start_time": "2020-08-26T19:28:17.414710",
     "status": "completed"
    },
    "tags": [
     "remove_cell"
    ]
   },
   "outputs": [],
   "source": [
    "! jt -t grade3 -tf robotosans -cellw 1100"
   ]
  },
  {
   "cell_type": "markdown",
   "metadata": {
    "papermill": {
     "duration": 0.009239,
     "end_time": "2020-08-26T19:28:19.662016",
     "exception": false,
     "start_time": "2020-08-26T19:28:19.652777",
     "status": "completed"
    },
    "tags": []
   },
   "source": [
    "This table is automatically updated with new daily COVID data for the county of Santa Barbara, CA. Every day, the California Department of Public Health publishes COVID tracking metrics for each county, but does not save the previous day's data. This tool keeps track of the daily metrics that are used to monitor progress towards safe reopening in California."
   ]
  },
  {
   "cell_type": "code",
   "execution_count": 2,
   "metadata": {
    "execution": {
     "iopub.execute_input": "2020-08-26T19:28:19.687557Z",
     "iopub.status.busy": "2020-08-26T19:28:19.687048Z",
     "iopub.status.idle": "2020-08-26T19:28:21.656331Z",
     "shell.execute_reply": "2020-08-26T19:28:21.657158Z"
    },
    "papermill": {
     "duration": 1.985655,
     "end_time": "2020-08-26T19:28:21.657323",
     "exception": false,
     "start_time": "2020-08-26T19:28:19.671668",
     "status": "completed"
    },
    "slideshow": {
     "slide_type": "skip"
    },
    "tags": [
     "remove_cell"
    ]
   },
   "outputs": [],
   "source": [
    "# Preamble\n",
    "import os\n",
    "from IPython.display import Markdown as md\n",
    "import IPython\n",
    "import requests\n",
    "from bs4 import BeautifulSoup\n",
    "import re\n",
    "import pandas as pd\n",
    "import datetime\n",
    "import gspread\n",
    "from oauth2client.service_account import ServiceAccountCredentials"
   ]
  },
  {
   "cell_type": "code",
   "execution_count": 3,
   "metadata": {
    "execution": {
     "iopub.execute_input": "2020-08-26T19:28:21.682488Z",
     "iopub.status.busy": "2020-08-26T19:28:21.681860Z",
     "iopub.status.idle": "2020-08-26T19:28:21.683313Z",
     "shell.execute_reply": "2020-08-26T19:28:21.682924Z"
    },
    "papermill": {
     "duration": 0.016144,
     "end_time": "2020-08-26T19:28:21.683424",
     "exception": false,
     "start_time": "2020-08-26T19:28:21.667280",
     "status": "completed"
    },
    "tags": []
   },
   "outputs": [],
   "source": [
    "# Set working directory\n",
    "os.chdir(\"/home/alice_lepissier/cron-job\")"
   ]
  },
  {
   "cell_type": "code",
   "execution_count": 4,
   "metadata": {
    "execution": {
     "iopub.execute_input": "2020-08-26T19:28:21.707973Z",
     "iopub.status.busy": "2020-08-26T19:28:21.707480Z",
     "iopub.status.idle": "2020-08-26T19:28:23.041091Z",
     "shell.execute_reply": "2020-08-26T19:28:23.041974Z"
    },
    "papermill": {
     "duration": 1.349478,
     "end_time": "2020-08-26T19:28:23.042190",
     "exception": false,
     "start_time": "2020-08-26T19:28:21.692712",
     "status": "completed"
    },
    "slideshow": {
     "slide_type": "skip"
    },
    "tags": [
     "remove_cell"
    ]
   },
   "outputs": [],
   "source": [
    "# Request content from URL\n",
    "html_string = requests.get('https://www.cdph.ca.gov/Programs/CID/DCDC/Pages/COVID-19/COVID19CountyDataTable.aspx').content"
   ]
  },
  {
   "cell_type": "code",
   "execution_count": 5,
   "metadata": {
    "execution": {
     "iopub.execute_input": "2020-08-26T19:28:23.067518Z",
     "iopub.status.busy": "2020-08-26T19:28:23.067027Z",
     "iopub.status.idle": "2020-08-26T19:28:23.165163Z",
     "shell.execute_reply": "2020-08-26T19:28:23.165999Z"
    },
    "papermill": {
     "duration": 0.113984,
     "end_time": "2020-08-26T19:28:23.166190",
     "exception": false,
     "start_time": "2020-08-26T19:28:23.052206",
     "status": "completed"
    },
    "slideshow": {
     "slide_type": "skip"
    },
    "tags": [
     "remove_cell"
    ]
   },
   "outputs": [],
   "source": [
    "# Parse HTML\n",
    "soup = BeautifulSoup(html_string, 'html.parser')"
   ]
  },
  {
   "cell_type": "code",
   "execution_count": 6,
   "metadata": {
    "execution": {
     "iopub.execute_input": "2020-08-26T19:28:23.197253Z",
     "iopub.status.busy": "2020-08-26T19:28:23.196357Z",
     "iopub.status.idle": "2020-08-26T19:28:23.201784Z",
     "shell.execute_reply": "2020-08-26T19:28:23.202700Z"
    },
    "papermill": {
     "duration": 0.026716,
     "end_time": "2020-08-26T19:28:23.202871",
     "exception": false,
     "start_time": "2020-08-26T19:28:23.176155",
     "status": "completed"
    },
    "slideshow": {
     "slide_type": "skip"
    },
    "tags": [
     "remove_cell"
    ]
   },
   "outputs": [],
   "source": [
    "# Extract data for Santa Barbara\n",
    "table = soup.find_all(\"tr\", class_=\"ms-rteTableEvenRow-3\")\n",
    "SB = table[21]"
   ]
  },
  {
   "cell_type": "code",
   "execution_count": 7,
   "metadata": {
    "execution": {
     "iopub.execute_input": "2020-08-26T19:28:23.231686Z",
     "iopub.status.busy": "2020-08-26T19:28:23.231115Z",
     "iopub.status.idle": "2020-08-26T19:28:23.241754Z",
     "shell.execute_reply": "2020-08-26T19:28:23.242680Z"
    },
    "papermill": {
     "duration": 0.029764,
     "end_time": "2020-08-26T19:28:23.242856",
     "exception": false,
     "start_time": "2020-08-26T19:28:23.213092",
     "status": "completed"
    },
    "slideshow": {
     "slide_type": "skip"
    },
    "tags": [
     "remove_cell"
    ]
   },
   "outputs": [],
   "source": [
    "# Avg # tests per day (per 100,000 population)\n",
    "daily_tests = SB.find_all(\"td\", class_=\"ms-rteTableOddCol-3\")[0].text\n",
    "\n",
    "# Case rate per 100,000\n",
    "case_rate = SB.find_all(\"td\", class_=\"ms-rteTableEvenCol-3\")[1].text\n",
    "\n",
    "# Testing positivity (%)\n",
    "test_positivity = SB.find_all(\"td\", class_=\"ms-rteTableOddCol-3\")[1].text\n",
    "\n",
    "# % Change in 3-day avg COVID+ hospitalized patients\n",
    "change_hospit = SB.find_all(\"td\", class_=\"ms-rteTableEvenCol-3\")[2].text\n",
    "\n",
    "# % ICU beds currently available\n",
    "ICU_beds = SB.find_all(\"td\", class_=\"ms-rteTableOddCol-3\")[2].text\n",
    "\n",
    "# % Ventilators currently available\n",
    "ventilators = SB.find_all(\"td\", class_=\"ms-rteTableEvenCol-3\")[3].text\n",
    "\n",
    "# Extract date of last update\n",
    "update_date = soup.find_all(\"span\", class_=\"ms-rteStyle-Accent1\")[1]\\\n",
    "    .find(\"em\").text"
   ]
  },
  {
   "cell_type": "code",
   "execution_count": 8,
   "metadata": {
    "execution": {
     "iopub.execute_input": "2020-08-26T19:28:23.268883Z",
     "iopub.status.busy": "2020-08-26T19:28:23.268277Z",
     "iopub.status.idle": "2020-08-26T19:28:23.269701Z",
     "shell.execute_reply": "2020-08-26T19:28:23.269314Z"
    },
    "papermill": {
     "duration": 0.016058,
     "end_time": "2020-08-26T19:28:23.269815",
     "exception": false,
     "start_time": "2020-08-26T19:28:23.253757",
     "status": "completed"
    },
    "tags": [
     "remove_cell"
    ]
   },
   "outputs": [],
   "source": [
    "# Create updated date string\n",
    "update_tag = \"Table last updated by CDPH on \" + update_date.split(\" on \", 1)[1] + \".\""
   ]
  },
  {
   "cell_type": "code",
   "execution_count": 9,
   "metadata": {
    "execution": {
     "iopub.execute_input": "2020-08-26T19:28:23.293445Z",
     "iopub.status.busy": "2020-08-26T19:28:23.292940Z",
     "iopub.status.idle": "2020-08-26T19:28:23.314921Z",
     "shell.execute_reply": "2020-08-26T19:28:23.315749Z"
    },
    "papermill": {
     "duration": 0.036593,
     "end_time": "2020-08-26T19:28:23.315932",
     "exception": false,
     "start_time": "2020-08-26T19:28:23.279339",
     "status": "completed"
    },
    "slideshow": {
     "slide_type": "skip"
    },
    "tags": [
     "remove_cell"
    ]
   },
   "outputs": [],
   "source": [
    "# Set up Google Sheet API\n",
    "scope = [\"https://spreadsheets.google.com/feeds\",'https://www.googleapis.com/auth/spreadsheets',\"https://www.googleapis.com/auth/drive.file\",\"https://www.googleapis.com/auth/drive\"]\n",
    "creds = ServiceAccountCredentials.from_json_keyfile_name(\"credentials.json\", scope)\n",
    "client = gspread.authorize(creds)"
   ]
  },
  {
   "cell_type": "code",
   "execution_count": 10,
   "metadata": {
    "execution": {
     "iopub.execute_input": "2020-08-26T19:28:23.341738Z",
     "iopub.status.busy": "2020-08-26T19:28:23.341201Z",
     "iopub.status.idle": "2020-08-26T19:28:24.462937Z",
     "shell.execute_reply": "2020-08-26T19:28:24.463689Z"
    },
    "papermill": {
     "duration": 1.138105,
     "end_time": "2020-08-26T19:28:24.463851",
     "exception": false,
     "start_time": "2020-08-26T19:28:23.325746",
     "status": "completed"
    },
    "slideshow": {
     "slide_type": "skip"
    },
    "tags": [
     "remove_cell"
    ]
   },
   "outputs": [
    {
     "data": {
      "text/plain": [
       "{'spreadsheetId': '1pcqdMzKtea2Oq3BDmdAOQ21gZjCssieKI0692VfNLXU',\n",
       " 'updatedRange': 'Sheet1!A2:G2',\n",
       " 'updatedRows': 1,\n",
       " 'updatedColumns': 7,\n",
       " 'updatedCells': 7}"
      ]
     },
     "execution_count": 10,
     "metadata": {},
     "output_type": "execute_result"
    }
   ],
   "source": [
    "# Append daily data as a new row in Google Sheet\n",
    "sheet = client.open(\"Test cron job\").sheet1\n",
    "insertRow = [datetime.date.today().strftime(\"%Y-%m-%d\"),\n",
    "             daily_tests,\n",
    "             case_rate,\n",
    "             test_positivity,\n",
    "             change_hospit,\n",
    "             ICU_beds,\n",
    "             ventilators]\n",
    "sheet.insert_row(insertRow, 2)"
   ]
  },
  {
   "cell_type": "code",
   "execution_count": 11,
   "metadata": {
    "execution": {
     "iopub.execute_input": "2020-08-26T19:28:24.489441Z",
     "iopub.status.busy": "2020-08-26T19:28:24.488936Z",
     "iopub.status.idle": "2020-08-26T19:28:25.154147Z",
     "shell.execute_reply": "2020-08-26T19:28:25.154993Z"
    },
    "papermill": {
     "duration": 0.681018,
     "end_time": "2020-08-26T19:28:25.155163",
     "exception": false,
     "start_time": "2020-08-26T19:28:24.474145",
     "status": "completed"
    },
    "scrolled": true,
    "slideshow": {
     "slide_type": "slide"
    },
    "tags": [
     "remove_cell"
    ]
   },
   "outputs": [],
   "source": [
    "# Extract data from Google Sheet as pandas dataframe\n",
    "sheet = client.open(\"Test cron job\").sheet1\n",
    "data = sheet.get_all_records()\n",
    "result = pd.DataFrame(data).set_index(\"Date\")"
   ]
  },
  {
   "cell_type": "code",
   "execution_count": 12,
   "metadata": {
    "execution": {
     "iopub.execute_input": "2020-08-26T19:28:25.181239Z",
     "iopub.status.busy": "2020-08-26T19:28:25.180745Z",
     "iopub.status.idle": "2020-08-26T19:28:26.015770Z",
     "shell.execute_reply": "2020-08-26T19:28:26.016488Z"
    },
    "papermill": {
     "duration": 0.851227,
     "end_time": "2020-08-26T19:28:26.016663",
     "exception": false,
     "start_time": "2020-08-26T19:28:25.165436",
     "status": "completed"
    },
    "scrolled": true,
    "tags": [
     "remove_input"
    ]
   },
   "outputs": [
    {
     "data": {
      "text/html": [
       "<style  type=\"text/css\" >\n",
       "    #T_50081c1c_e7d2_11ea_b2ca_42010a8a0004 th {\n",
       "          text-align: center;\n",
       "    }#T_50081c1c_e7d2_11ea_b2ca_42010a8a0004row0_col0,#T_50081c1c_e7d2_11ea_b2ca_42010a8a0004row1_col0,#T_50081c1c_e7d2_11ea_b2ca_42010a8a0004row2_col0,#T_50081c1c_e7d2_11ea_b2ca_42010a8a0004row3_col0,#T_50081c1c_e7d2_11ea_b2ca_42010a8a0004row4_col0{\n",
       "            width:  20em;\n",
       "            text-align:  center;\n",
       "            font-weight:  bold;\n",
       "        }#T_50081c1c_e7d2_11ea_b2ca_42010a8a0004row0_col1,#T_50081c1c_e7d2_11ea_b2ca_42010a8a0004row0_col2,#T_50081c1c_e7d2_11ea_b2ca_42010a8a0004row0_col3,#T_50081c1c_e7d2_11ea_b2ca_42010a8a0004row0_col4,#T_50081c1c_e7d2_11ea_b2ca_42010a8a0004row0_col5,#T_50081c1c_e7d2_11ea_b2ca_42010a8a0004row0_col6,#T_50081c1c_e7d2_11ea_b2ca_42010a8a0004row1_col1,#T_50081c1c_e7d2_11ea_b2ca_42010a8a0004row1_col2,#T_50081c1c_e7d2_11ea_b2ca_42010a8a0004row1_col3,#T_50081c1c_e7d2_11ea_b2ca_42010a8a0004row1_col4,#T_50081c1c_e7d2_11ea_b2ca_42010a8a0004row1_col5,#T_50081c1c_e7d2_11ea_b2ca_42010a8a0004row1_col6,#T_50081c1c_e7d2_11ea_b2ca_42010a8a0004row2_col1,#T_50081c1c_e7d2_11ea_b2ca_42010a8a0004row2_col2,#T_50081c1c_e7d2_11ea_b2ca_42010a8a0004row2_col3,#T_50081c1c_e7d2_11ea_b2ca_42010a8a0004row2_col4,#T_50081c1c_e7d2_11ea_b2ca_42010a8a0004row2_col5,#T_50081c1c_e7d2_11ea_b2ca_42010a8a0004row2_col6,#T_50081c1c_e7d2_11ea_b2ca_42010a8a0004row3_col1,#T_50081c1c_e7d2_11ea_b2ca_42010a8a0004row3_col2,#T_50081c1c_e7d2_11ea_b2ca_42010a8a0004row3_col3,#T_50081c1c_e7d2_11ea_b2ca_42010a8a0004row3_col4,#T_50081c1c_e7d2_11ea_b2ca_42010a8a0004row3_col5,#T_50081c1c_e7d2_11ea_b2ca_42010a8a0004row3_col6,#T_50081c1c_e7d2_11ea_b2ca_42010a8a0004row4_col1,#T_50081c1c_e7d2_11ea_b2ca_42010a8a0004row4_col2,#T_50081c1c_e7d2_11ea_b2ca_42010a8a0004row4_col3,#T_50081c1c_e7d2_11ea_b2ca_42010a8a0004row4_col4,#T_50081c1c_e7d2_11ea_b2ca_42010a8a0004row4_col5,#T_50081c1c_e7d2_11ea_b2ca_42010a8a0004row4_col6{\n",
       "            width:  20em;\n",
       "            text-align:  center;\n",
       "        }</style><table id=\"T_50081c1c_e7d2_11ea_b2ca_42010a8a0004\" ><thead>    <tr>        <th class=\"col_heading level0 col0\" >Date</th>        <th class=\"col_heading level0 col1\" >Daily tests (per 100,000)¹</th>        <th class=\"col_heading level0 col2\" >Case rate (per 100,000)²</th>        <th class=\"col_heading level0 col3\" >Testing positivity (%)³</th>        <th class=\"col_heading level0 col4\" >Change in hospitalizations (%)⁴</th>        <th class=\"col_heading level0 col5\" >ICU beds available (%)</th>        <th class=\"col_heading level0 col6\" >Ventilators (available (%)</th>    </tr></thead><tbody>\n",
       "                <tr>\n",
       "                                <td id=\"T_50081c1c_e7d2_11ea_b2ca_42010a8a0004row0_col0\" class=\"data row0 col0\" >2020-08-26</td>\n",
       "                        <td id=\"T_50081c1c_e7d2_11ea_b2ca_42010a8a0004row0_col1\" class=\"data row0 col1\" >219.7</td>\n",
       "                        <td id=\"T_50081c1c_e7d2_11ea_b2ca_42010a8a0004row0_col2\" class=\"data row0 col2\" >133.2</td>\n",
       "                        <td id=\"T_50081c1c_e7d2_11ea_b2ca_42010a8a0004row0_col3\" class=\"data row0 col3\" > ✔</td>\n",
       "                        <td id=\"T_50081c1c_e7d2_11ea_b2ca_42010a8a0004row0_col4\" class=\"data row0 col4\" > ✔</td>\n",
       "                        <td id=\"T_50081c1c_e7d2_11ea_b2ca_42010a8a0004row0_col5\" class=\"data row0 col5\" > ✔</td>\n",
       "                        <td id=\"T_50081c1c_e7d2_11ea_b2ca_42010a8a0004row0_col6\" class=\"data row0 col6\" > ✔</td>\n",
       "            </tr>\n",
       "            <tr>\n",
       "                                <td id=\"T_50081c1c_e7d2_11ea_b2ca_42010a8a0004row1_col0\" class=\"data row1 col0\" >2020-08-26</td>\n",
       "                        <td id=\"T_50081c1c_e7d2_11ea_b2ca_42010a8a0004row1_col1\" class=\"data row1 col1\" >219.7</td>\n",
       "                        <td id=\"T_50081c1c_e7d2_11ea_b2ca_42010a8a0004row1_col2\" class=\"data row1 col2\" >133.2</td>\n",
       "                        <td id=\"T_50081c1c_e7d2_11ea_b2ca_42010a8a0004row1_col3\" class=\"data row1 col3\" > ✔</td>\n",
       "                        <td id=\"T_50081c1c_e7d2_11ea_b2ca_42010a8a0004row1_col4\" class=\"data row1 col4\" > ✔</td>\n",
       "                        <td id=\"T_50081c1c_e7d2_11ea_b2ca_42010a8a0004row1_col5\" class=\"data row1 col5\" > ✔</td>\n",
       "                        <td id=\"T_50081c1c_e7d2_11ea_b2ca_42010a8a0004row1_col6\" class=\"data row1 col6\" > ✔</td>\n",
       "            </tr>\n",
       "            <tr>\n",
       "                                <td id=\"T_50081c1c_e7d2_11ea_b2ca_42010a8a0004row2_col0\" class=\"data row2 col0\" >2020-08-26</td>\n",
       "                        <td id=\"T_50081c1c_e7d2_11ea_b2ca_42010a8a0004row2_col1\" class=\"data row2 col1\" >219.7</td>\n",
       "                        <td id=\"T_50081c1c_e7d2_11ea_b2ca_42010a8a0004row2_col2\" class=\"data row2 col2\" >133.2</td>\n",
       "                        <td id=\"T_50081c1c_e7d2_11ea_b2ca_42010a8a0004row2_col3\" class=\"data row2 col3\" > ✔</td>\n",
       "                        <td id=\"T_50081c1c_e7d2_11ea_b2ca_42010a8a0004row2_col4\" class=\"data row2 col4\" > ✔</td>\n",
       "                        <td id=\"T_50081c1c_e7d2_11ea_b2ca_42010a8a0004row2_col5\" class=\"data row2 col5\" > ✔</td>\n",
       "                        <td id=\"T_50081c1c_e7d2_11ea_b2ca_42010a8a0004row2_col6\" class=\"data row2 col6\" > ✔</td>\n",
       "            </tr>\n",
       "            <tr>\n",
       "                                <td id=\"T_50081c1c_e7d2_11ea_b2ca_42010a8a0004row3_col0\" class=\"data row3 col0\" >2020-08-26</td>\n",
       "                        <td id=\"T_50081c1c_e7d2_11ea_b2ca_42010a8a0004row3_col1\" class=\"data row3 col1\" >219.7</td>\n",
       "                        <td id=\"T_50081c1c_e7d2_11ea_b2ca_42010a8a0004row3_col2\" class=\"data row3 col2\" >133.2</td>\n",
       "                        <td id=\"T_50081c1c_e7d2_11ea_b2ca_42010a8a0004row3_col3\" class=\"data row3 col3\" > ✔</td>\n",
       "                        <td id=\"T_50081c1c_e7d2_11ea_b2ca_42010a8a0004row3_col4\" class=\"data row3 col4\" > ✔</td>\n",
       "                        <td id=\"T_50081c1c_e7d2_11ea_b2ca_42010a8a0004row3_col5\" class=\"data row3 col5\" > ✔</td>\n",
       "                        <td id=\"T_50081c1c_e7d2_11ea_b2ca_42010a8a0004row3_col6\" class=\"data row3 col6\" > ✔</td>\n",
       "            </tr>\n",
       "            <tr>\n",
       "                                <td id=\"T_50081c1c_e7d2_11ea_b2ca_42010a8a0004row4_col0\" class=\"data row4 col0\" >2020-08-26</td>\n",
       "                        <td id=\"T_50081c1c_e7d2_11ea_b2ca_42010a8a0004row4_col1\" class=\"data row4 col1\" >219.7</td>\n",
       "                        <td id=\"T_50081c1c_e7d2_11ea_b2ca_42010a8a0004row4_col2\" class=\"data row4 col2\" >133.2</td>\n",
       "                        <td id=\"T_50081c1c_e7d2_11ea_b2ca_42010a8a0004row4_col3\" class=\"data row4 col3\" > ✔</td>\n",
       "                        <td id=\"T_50081c1c_e7d2_11ea_b2ca_42010a8a0004row4_col4\" class=\"data row4 col4\" > ✔</td>\n",
       "                        <td id=\"T_50081c1c_e7d2_11ea_b2ca_42010a8a0004row4_col5\" class=\"data row4 col5\" > ✔</td>\n",
       "                        <td id=\"T_50081c1c_e7d2_11ea_b2ca_42010a8a0004row4_col6\" class=\"data row4 col6\" > ✔</td>\n",
       "            </tr>\n",
       "    </tbody></table>"
      ],
      "text/plain": [
       "<pandas.io.formats.style.Styler at 0x7fa62440fcc0>"
      ]
     },
     "execution_count": 12,
     "metadata": {},
     "output_type": "execute_result"
    }
   ],
   "source": [
    "# Style the pandas dataframe\n",
    "d = dict(selector=\"th\",\n",
    "         props=[('text-align', 'center')])\n",
    "\n",
    "result.reset_index().style\\\n",
    "    .set_properties(**{'width':'20em', 'text-align':'center'})\\\n",
    "    .set_properties(subset=['Date'], **{'font-weight': 'bold'})\\\n",
    "    .set_table_styles([d])\\\n",
    "    .set_precision(1)\\\n",
    "    .hide_index()"
   ]
  },
  {
   "cell_type": "markdown",
   "metadata": {
    "papermill": {
     "duration": 0.010013,
     "end_time": "2020-08-26T19:28:26.037307",
     "exception": false,
     "start_time": "2020-08-26T19:28:26.027294",
     "status": "completed"
    },
    "tags": []
   },
   "source": [
    "<sup>Notes: (1) 7 day average with a 7-day lag. (2) 14 day average. (3) 7 day average with a 7-day lag. (4) Change in 3 day average.</sup>"
   ]
  },
  {
   "cell_type": "code",
   "execution_count": 13,
   "metadata": {
    "execution": {
     "iopub.execute_input": "2020-08-26T19:28:26.064048Z",
     "iopub.status.busy": "2020-08-26T19:28:26.063482Z",
     "iopub.status.idle": "2020-08-26T19:28:26.065584Z",
     "shell.execute_reply": "2020-08-26T19:28:26.064480Z"
    },
    "papermill": {
     "duration": 0.018263,
     "end_time": "2020-08-26T19:28:26.065698",
     "exception": false,
     "start_time": "2020-08-26T19:28:26.047435",
     "status": "completed"
    },
    "tags": [
     "remove_input"
    ]
   },
   "outputs": [
    {
     "data": {
      "text/markdown": [
       "Table last updated by CDPH on August 25, 2020."
      ],
      "text/plain": [
       "<IPython.core.display.Markdown object>"
      ]
     },
     "execution_count": 13,
     "metadata": {},
     "output_type": "execute_result"
    }
   ],
   "source": [
    "md(update_tag)"
   ]
  },
  {
   "cell_type": "markdown",
   "metadata": {
    "papermill": {
     "duration": 0.010197,
     "end_time": "2020-08-26T19:28:26.086205",
     "exception": false,
     "start_time": "2020-08-26T19:28:26.076008",
     "status": "completed"
    },
    "tags": []
   },
   "source": [
    "## Tracking county closures in Santa Barbara"
   ]
  },
  {
   "cell_type": "markdown",
   "metadata": {
    "papermill": {
     "duration": 0.010141,
     "end_time": "2020-08-26T19:28:26.106635",
     "exception": false,
     "start_time": "2020-08-26T19:28:26.096494",
     "status": "completed"
    },
    "tags": []
   },
   "source": [
    "The state of California is using a data-driven approach informed by scientific evidence to tailor its response to COVID-19. Three dimensions of concern are monitored to assess whether a county should be placed on the County Monitoring List:\n",
    " 1. Elevated Disease Transmission\n",
    " 2. Increasing Hospitalization\n",
    " 3. Limited Hospital Capacity\n",
    "\n",
    "Once a county appears on the County Monitoring List for three consecutive days, indoor operations in the sectors listed in Section 3 of the [July 13th State Health Officer Order](https://www.cdph.ca.gov/Programs/CID/DCDC/CDPH%20Document%20Library/COVID-19/SHO%20Order%20Dimming%20Entire%20State%207-13-2020.pdf) must close.\n",
    "\n",
    "This table tracks where Santa Barbara stands in terms of the criteria for inclusion on the County Monitoring List. As of 20 August 2020, the criteria for inclusion on the monitoring list are:\n",
    "\n",
    "* Case rate >100 OR (Case rate >25 AND Positivity >8%)\n",
    "* \\>10% increase in hospitalizations\n",
    "* <20% ICU beds available OR <25% ventilators available\n",
    "\n",
    "If Santa Barbara meets the criteria for removal from the County Monitoring List for a certain metric, then a checkmark ✔ is displayed in the table.\n",
    "\n",
    "Read more at <https://covid19.ca.gov/roadmap-counties/>.\n",
    "\n",
    "Data source for county metrics: https://www.cdph.ca.gov/Programs/CID/DCDC/Pages/COVID-19/COVID19CountyDataTable.aspx."
   ]
  },
  {
   "cell_type": "markdown",
   "metadata": {
    "papermill": {
     "duration": 0.010253,
     "end_time": "2020-08-26T19:28:26.127148",
     "exception": false,
     "start_time": "2020-08-26T19:28:26.116895",
     "status": "completed"
    },
    "tags": []
   },
   "source": [
    "**See the code used to scrape the data: https://github.com/walice/COVID-SB/.**"
   ]
  },
  {
   "cell_type": "code",
   "execution_count": 14,
   "metadata": {
    "execution": {
     "iopub.execute_input": "2020-08-26T19:28:26.153132Z",
     "iopub.status.busy": "2020-08-26T19:28:26.152648Z",
     "iopub.status.idle": "2020-08-26T19:28:26.156560Z",
     "shell.execute_reply": "2020-08-26T19:28:26.156925Z"
    },
    "papermill": {
     "duration": 0.01954,
     "end_time": "2020-08-26T19:28:26.157072",
     "exception": false,
     "start_time": "2020-08-26T19:28:26.137532",
     "status": "completed"
    },
    "tags": [
     "remove_cell"
    ]
   },
   "outputs": [
    {
     "data": {
      "application/javascript": [
       "IPython.notebook.save_notebook()\n"
      ],
      "text/plain": [
       "<IPython.core.display.Javascript object>"
      ]
     },
     "metadata": {},
     "output_type": "display_data"
    }
   ],
   "source": [
    "%%javascript\n",
    "IPython.notebook.save_notebook()"
   ]
  },
  {
   "cell_type": "code",
   "execution_count": 15,
   "metadata": {
    "execution": {
     "iopub.execute_input": "2020-08-26T19:28:26.184321Z",
     "iopub.status.busy": "2020-08-26T19:28:26.183816Z",
     "iopub.status.idle": "2020-08-26T19:28:28.767030Z",
     "shell.execute_reply": "2020-08-26T19:28:28.767884Z"
    },
    "papermill": {
     "duration": 2.600378,
     "end_time": "2020-08-26T19:28:28.768059",
     "exception": false,
     "start_time": "2020-08-26T19:28:26.167681",
     "status": "completed"
    },
    "slideshow": {
     "slide_type": "skip"
    },
    "tags": [
     "remove_cell"
    ]
   },
   "outputs": [
    {
     "name": "stdout",
     "output_type": "stream",
     "text": [
      "[NbConvertApp] Converting notebook index.ipynb to html\r\n"
     ]
    },
    {
     "name": "stdout",
     "output_type": "stream",
     "text": [
      "[NbConvertApp] Writing 355813 bytes to index.html\r\n"
     ]
    }
   ],
   "source": [
    "# Convert Jupyter Notebook to HTML\n",
    "! jupyter nbconvert \"index.ipynb\" --to html --TagRemovePreprocessor.enabled=True --TagRemovePreprocessor.remove_cell_tags=\"['remove_cell']\" --TagRemovePreprocessor.remove_input_tags=\"['remove_input']\" --no-prompt"
   ]
  },
  {
   "cell_type": "code",
   "execution_count": 16,
   "metadata": {
    "execution": {
     "iopub.execute_input": "2020-08-26T19:28:28.796138Z",
     "iopub.status.busy": "2020-08-26T19:28:28.795639Z",
     "iopub.status.idle": "2020-08-26T19:28:28.797943Z",
     "shell.execute_reply": "2020-08-26T19:28:28.798339Z"
    },
    "papermill": {
     "duration": 0.018914,
     "end_time": "2020-08-26T19:28:28.798557",
     "exception": false,
     "start_time": "2020-08-26T19:28:28.779643",
     "status": "completed"
    },
    "tags": [
     "remove_cell"
    ]
   },
   "outputs": [],
   "source": [
    "# Create daily commit message\n",
    "now = datetime.datetime.now()\n",
    "commit_message = \"Last scraped on \" + str(now)"
   ]
  },
  {
   "cell_type": "code",
   "execution_count": null,
   "metadata": {
    "execution": {
     "iopub.execute_input": "2020-08-26T19:16:42.111624Z",
     "iopub.status.busy": "2020-08-26T19:16:42.111042Z",
     "iopub.status.idle": "2020-08-26T19:16:46.499122Z",
     "shell.execute_reply": "2020-08-26T19:16:46.497872Z"
    },
    "papermill": {
     "duration": null,
     "end_time": null,
     "exception": false,
     "start_time": "2020-08-26T19:28:28.809548",
     "status": "running"
    },
    "tags": [
     "remove_cell"
    ]
   },
   "outputs": [],
   "source": [
    "# Deploy to GitHub\n",
    "! git add .\n",
    "! echo $commit_message > commit_message.txt\n",
    "! git commit -F commit_message.txt\n",
    "! git push"
   ]
  }
 ],
 "metadata": {
  "celltoolbar": "Tags",
  "kernelspec": {
   "display_name": "Python 3",
   "language": "python",
   "name": "python3"
  },
  "language_info": {
   "codemirror_mode": {
    "name": "ipython",
    "version": 3
   },
   "file_extension": ".py",
   "mimetype": "text/x-python",
   "name": "python",
   "nbconvert_exporter": "python",
   "pygments_lexer": "ipython3",
   "version": "3.7.3"
  },
  "papermill": {
   "duration": null,
   "end_time": null,
   "environment_variables": {},
   "exception": null,
   "input_path": "/home/alice_lepissier/cron-job/index.ipynb",
   "output_path": "/home/alice_lepissier/cron-job/index.ipynb",
   "parameters": {},
   "start_time": "2020-08-26T19:28:15.712863",
   "version": "2.1.3"
  }
 },
 "nbformat": 4,
 "nbformat_minor": 4
}