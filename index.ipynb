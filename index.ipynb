{
 "cells": [
  {
   "cell_type": "markdown",
   "metadata": {
    "papermill": {
     "duration": 0.0109,
     "end_time": "2020-08-26T20:09:03.820105",
     "exception": false,
     "start_time": "2020-08-26T20:09:03.809205",
     "status": "completed"
    },
    "tags": []
   },
   "source": [
    "# Daily COVID monitoring data for Santa Barbara county"
   ]
  },
  {
   "cell_type": "code",
   "execution_count": 1,
   "metadata": {
    "execution": {
     "iopub.execute_input": "2020-08-26T20:09:03.847385Z",
     "iopub.status.busy": "2020-08-26T20:09:03.846844Z",
     "iopub.status.idle": "2020-08-26T20:09:05.787601Z",
     "shell.execute_reply": "2020-08-26T20:09:05.788629Z"
    },
    "papermill": {
     "duration": 1.958516,
     "end_time": "2020-08-26T20:09:05.788855",
     "exception": false,
     "start_time": "2020-08-26T20:09:03.830339",
     "status": "completed"
    },
    "tags": [
     "remove_cell"
    ]
   },
   "outputs": [],
   "source": [
    "! jt -t grade3 -tf robotosans -cellw 1100"
   ]
  },
  {
   "cell_type": "markdown",
   "metadata": {
    "papermill": {
     "duration": 0.009524,
     "end_time": "2020-08-26T20:09:05.808656",
     "exception": false,
     "start_time": "2020-08-26T20:09:05.799132",
     "status": "completed"
    },
    "tags": []
   },
   "source": [
    "This table is automatically updated with new daily COVID data for the county of Santa Barbara, CA. Every day, the California Department of Public Health publishes COVID tracking metrics for each county, but does not save the previous day's data. This tool keeps track of the daily metrics that are used to monitor progress towards safe reopening in California."
   ]
  },
  {
   "cell_type": "code",
   "execution_count": 2,
   "metadata": {
    "execution": {
     "iopub.execute_input": "2020-08-26T20:09:05.835536Z",
     "iopub.status.busy": "2020-08-26T20:09:05.834997Z",
     "iopub.status.idle": "2020-08-26T20:09:08.613985Z",
     "shell.execute_reply": "2020-08-26T20:09:08.614893Z"
    },
    "papermill": {
     "duration": 2.796929,
     "end_time": "2020-08-26T20:09:08.615062",
     "exception": false,
     "start_time": "2020-08-26T20:09:05.818133",
     "status": "completed"
    },
    "slideshow": {
     "slide_type": "skip"
    },
    "tags": [
     "remove_cell"
    ]
   },
   "outputs": [],
   "source": [
    "# Preamble\n",
    "import os\n",
    "from IPython.display import Markdown as md\n",
    "import IPython\n",
    "import requests\n",
    "from bs4 import BeautifulSoup\n",
    "import re\n",
    "import pandas as pd\n",
    "import datetime\n",
    "import gspread\n",
    "from oauth2client.service_account import ServiceAccountCredentials"
   ]
  },
  {
   "cell_type": "code",
   "execution_count": 3,
   "metadata": {
    "execution": {
     "iopub.execute_input": "2020-08-26T20:09:08.640579Z",
     "iopub.status.busy": "2020-08-26T20:09:08.640003Z",
     "iopub.status.idle": "2020-08-26T20:09:08.641415Z",
     "shell.execute_reply": "2020-08-26T20:09:08.641019Z"
    },
    "papermill": {
     "duration": 0.016224,
     "end_time": "2020-08-26T20:09:08.641525",
     "exception": false,
     "start_time": "2020-08-26T20:09:08.625301",
     "status": "completed"
    },
    "tags": []
   },
   "outputs": [],
   "source": [
    "# Set working directory\n",
    "os.chdir(\"/home/alice_lepissier/cron-job\")"
   ]
  },
  {
   "cell_type": "code",
   "execution_count": 4,
   "metadata": {
    "execution": {
     "iopub.execute_input": "2020-08-26T20:09:08.666414Z",
     "iopub.status.busy": "2020-08-26T20:09:08.665820Z",
     "iopub.status.idle": "2020-08-26T20:09:08.999435Z",
     "shell.execute_reply": "2020-08-26T20:09:09.000346Z"
    },
    "papermill": {
     "duration": 0.349508,
     "end_time": "2020-08-26T20:09:09.000523",
     "exception": false,
     "start_time": "2020-08-26T20:09:08.651015",
     "status": "completed"
    },
    "slideshow": {
     "slide_type": "skip"
    },
    "tags": [
     "remove_cell"
    ]
   },
   "outputs": [],
   "source": [
    "# Request content from URL\n",
    "html_string = requests.get('https://www.cdph.ca.gov/Programs/CID/DCDC/Pages/COVID-19/COVID19CountyDataTable.aspx').content"
   ]
  },
  {
   "cell_type": "code",
   "execution_count": 5,
   "metadata": {
    "execution": {
     "iopub.execute_input": "2020-08-26T20:09:09.027618Z",
     "iopub.status.busy": "2020-08-26T20:09:09.027069Z",
     "iopub.status.idle": "2020-08-26T20:09:09.134412Z",
     "shell.execute_reply": "2020-08-26T20:09:09.135274Z"
    },
    "papermill": {
     "duration": 0.124375,
     "end_time": "2020-08-26T20:09:09.135448",
     "exception": false,
     "start_time": "2020-08-26T20:09:09.011073",
     "status": "completed"
    },
    "slideshow": {
     "slide_type": "skip"
    },
    "tags": [
     "remove_cell"
    ]
   },
   "outputs": [],
   "source": [
    "# Parse HTML\n",
    "soup = BeautifulSoup(html_string, 'html.parser')"
   ]
  },
  {
   "cell_type": "code",
   "execution_count": 6,
   "metadata": {
    "execution": {
     "iopub.execute_input": "2020-08-26T20:09:09.164218Z",
     "iopub.status.busy": "2020-08-26T20:09:09.163665Z",
     "iopub.status.idle": "2020-08-26T20:09:09.171333Z",
     "shell.execute_reply": "2020-08-26T20:09:09.172139Z"
    },
    "papermill": {
     "duration": 0.026508,
     "end_time": "2020-08-26T20:09:09.172307",
     "exception": false,
     "start_time": "2020-08-26T20:09:09.145799",
     "status": "completed"
    },
    "slideshow": {
     "slide_type": "skip"
    },
    "tags": [
     "remove_cell"
    ]
   },
   "outputs": [],
   "source": [
    "# Extract data for Santa Barbara\n",
    "table = soup.find_all(\"tr\", class_=\"ms-rteTableEvenRow-3\")\n",
    "SB = table[21]"
   ]
  },
  {
   "cell_type": "code",
   "execution_count": 7,
   "metadata": {
    "execution": {
     "iopub.execute_input": "2020-08-26T20:09:09.201031Z",
     "iopub.status.busy": "2020-08-26T20:09:09.200430Z",
     "iopub.status.idle": "2020-08-26T20:09:09.211708Z",
     "shell.execute_reply": "2020-08-26T20:09:09.212461Z"
    },
    "papermill": {
     "duration": 0.030262,
     "end_time": "2020-08-26T20:09:09.212620",
     "exception": false,
     "start_time": "2020-08-26T20:09:09.182358",
     "status": "completed"
    },
    "slideshow": {
     "slide_type": "skip"
    },
    "tags": [
     "remove_cell"
    ]
   },
   "outputs": [],
   "source": [
    "# Avg # tests per day (per 100,000 population)\n",
    "daily_tests = SB.find_all(\"td\", class_=\"ms-rteTableOddCol-3\")[0].text\n",
    "\n",
    "# Case rate per 100,000\n",
    "case_rate = SB.find_all(\"td\", class_=\"ms-rteTableEvenCol-3\")[1].text\n",
    "\n",
    "# Testing positivity (%)\n",
    "test_positivity = SB.find_all(\"td\", class_=\"ms-rteTableOddCol-3\")[1].text\n",
    "\n",
    "# % Change in 3-day avg COVID+ hospitalized patients\n",
    "change_hospit = SB.find_all(\"td\", class_=\"ms-rteTableEvenCol-3\")[2].text\n",
    "\n",
    "# % ICU beds currently available\n",
    "ICU_beds = SB.find_all(\"td\", class_=\"ms-rteTableOddCol-3\")[2].text\n",
    "\n",
    "# % Ventilators currently available\n",
    "ventilators = SB.find_all(\"td\", class_=\"ms-rteTableEvenCol-3\")[3].text\n",
    "\n",
    "# Extract date of last update\n",
    "update_date = soup.find_all(\"span\", class_=\"ms-rteStyle-Accent1\")[1]\\\n",
    "    .find(\"em\").text"
   ]
  },
  {
   "cell_type": "code",
   "execution_count": 8,
   "metadata": {
    "execution": {
     "iopub.execute_input": "2020-08-26T20:09:09.239602Z",
     "iopub.status.busy": "2020-08-26T20:09:09.239030Z",
     "iopub.status.idle": "2020-08-26T20:09:09.240687Z",
     "shell.execute_reply": "2020-08-26T20:09:09.240168Z"
    },
    "papermill": {
     "duration": 0.016913,
     "end_time": "2020-08-26T20:09:09.240822",
     "exception": false,
     "start_time": "2020-08-26T20:09:09.223909",
     "status": "completed"
    },
    "tags": [
     "remove_cell"
    ]
   },
   "outputs": [],
   "source": [
    "# Create updated date string\n",
    "update_tag = \"Table last updated by CDPH on \" + update_date.split(\" on \", 1)[1] + \".\""
   ]
  },
  {
   "cell_type": "code",
   "execution_count": 9,
   "metadata": {
    "execution": {
     "iopub.execute_input": "2020-08-26T20:09:09.265043Z",
     "iopub.status.busy": "2020-08-26T20:09:09.264546Z",
     "iopub.status.idle": "2020-08-26T20:09:09.281865Z",
     "shell.execute_reply": "2020-08-26T20:09:09.282691Z"
    },
    "papermill": {
     "duration": 0.031948,
     "end_time": "2020-08-26T20:09:09.282853",
     "exception": false,
     "start_time": "2020-08-26T20:09:09.250905",
     "status": "completed"
    },
    "slideshow": {
     "slide_type": "skip"
    },
    "tags": [
     "remove_cell"
    ]
   },
   "outputs": [],
   "source": [
    "# Set up Google Sheet API\n",
    "scope = [\"https://spreadsheets.google.com/feeds\",'https://www.googleapis.com/auth/spreadsheets',\"https://www.googleapis.com/auth/drive.file\",\"https://www.googleapis.com/auth/drive\"]\n",
    "creds = ServiceAccountCredentials.from_json_keyfile_name(\"credentials.json\", scope)\n",
    "client = gspread.authorize(creds)"
   ]
  },
  {
   "cell_type": "code",
   "execution_count": 10,
   "metadata": {
    "execution": {
     "iopub.execute_input": "2020-08-26T20:09:09.311251Z",
     "iopub.status.busy": "2020-08-26T20:09:09.310547Z",
     "iopub.status.idle": "2020-08-26T20:09:10.139522Z",
     "shell.execute_reply": "2020-08-26T20:09:10.140267Z"
    },
    "papermill": {
     "duration": 0.846734,
     "end_time": "2020-08-26T20:09:10.140447",
     "exception": false,
     "start_time": "2020-08-26T20:09:09.293713",
     "status": "completed"
    },
    "slideshow": {
     "slide_type": "skip"
    },
    "tags": [
     "remove_cell"
    ]
   },
   "outputs": [
    {
     "data": {
      "text/plain": [
       "{'spreadsheetId': '1pcqdMzKtea2Oq3BDmdAOQ21gZjCssieKI0692VfNLXU',\n",
       " 'updatedRange': 'Sheet1!A2:G2',\n",
       " 'updatedRows': 1,\n",
       " 'updatedColumns': 7,\n",
       " 'updatedCells': 7}"
      ]
     },
     "execution_count": 10,
     "metadata": {},
     "output_type": "execute_result"
    }
   ],
   "source": [
    "# Append daily data as a new row in Google Sheet\n",
    "sheet = client.open(\"Test cron job\").sheet1\n",
    "insertRow = [datetime.date.today().strftime(\"%Y-%m-%d\"),\n",
    "             daily_tests,\n",
    "             case_rate,\n",
    "             test_positivity,\n",
    "             change_hospit,\n",
    "             ICU_beds,\n",
    "             ventilators]\n",
    "sheet.insert_row(insertRow, 2)"
   ]
  },
  {
   "cell_type": "code",
   "execution_count": 11,
   "metadata": {
    "execution": {
     "iopub.execute_input": "2020-08-26T20:09:10.166537Z",
     "iopub.status.busy": "2020-08-26T20:09:10.165969Z",
     "iopub.status.idle": "2020-08-26T20:09:10.683784Z",
     "shell.execute_reply": "2020-08-26T20:09:10.684568Z"
    },
    "papermill": {
     "duration": 0.533587,
     "end_time": "2020-08-26T20:09:10.684734",
     "exception": false,
     "start_time": "2020-08-26T20:09:10.151147",
     "status": "completed"
    },
    "scrolled": true,
    "slideshow": {
     "slide_type": "slide"
    },
    "tags": [
     "remove_cell"
    ]
   },
   "outputs": [],
   "source": [
    "# Extract data from Google Sheet as pandas dataframe\n",
    "sheet = client.open(\"Test cron job\").sheet1\n",
    "data = sheet.get_all_records()\n",
    "result = pd.DataFrame(data).set_index(\"Date\")"
   ]
  },
  {
   "cell_type": "code",
   "execution_count": 12,
   "metadata": {
    "execution": {
     "iopub.execute_input": "2020-08-26T20:09:10.710878Z",
     "iopub.status.busy": "2020-08-26T20:09:10.710366Z",
     "iopub.status.idle": "2020-08-26T20:09:11.652998Z",
     "shell.execute_reply": "2020-08-26T20:09:11.653716Z"
    },
    "papermill": {
     "duration": 0.958701,
     "end_time": "2020-08-26T20:09:11.653890",
     "exception": false,
     "start_time": "2020-08-26T20:09:10.695189",
     "status": "completed"
    },
    "scrolled": true,
    "tags": [
     "remove_input"
    ]
   },
   "outputs": [
    {
     "data": {
      "text/html": [
       "<style  type=\"text/css\" >\n",
       "    #T_01bef034_e7d8_11ea_9deb_42010a8a0004 th {\n",
       "          text-align: center;\n",
       "    }#T_01bef034_e7d8_11ea_9deb_42010a8a0004row0_col0,#T_01bef034_e7d8_11ea_9deb_42010a8a0004row1_col0{\n",
       "            width:  20em;\n",
       "            text-align:  center;\n",
       "            font-weight:  bold;\n",
       "        }#T_01bef034_e7d8_11ea_9deb_42010a8a0004row0_col1,#T_01bef034_e7d8_11ea_9deb_42010a8a0004row0_col2,#T_01bef034_e7d8_11ea_9deb_42010a8a0004row0_col3,#T_01bef034_e7d8_11ea_9deb_42010a8a0004row0_col4,#T_01bef034_e7d8_11ea_9deb_42010a8a0004row0_col5,#T_01bef034_e7d8_11ea_9deb_42010a8a0004row0_col6,#T_01bef034_e7d8_11ea_9deb_42010a8a0004row1_col1,#T_01bef034_e7d8_11ea_9deb_42010a8a0004row1_col2,#T_01bef034_e7d8_11ea_9deb_42010a8a0004row1_col3,#T_01bef034_e7d8_11ea_9deb_42010a8a0004row1_col4,#T_01bef034_e7d8_11ea_9deb_42010a8a0004row1_col5,#T_01bef034_e7d8_11ea_9deb_42010a8a0004row1_col6{\n",
       "            width:  20em;\n",
       "            text-align:  center;\n",
       "        }</style><table id=\"T_01bef034_e7d8_11ea_9deb_42010a8a0004\" ><thead>    <tr>        <th class=\"col_heading level0 col0\" >Date</th>        <th class=\"col_heading level0 col1\" >Daily tests (per 100,000)¹</th>        <th class=\"col_heading level0 col2\" >Case rate (per 100,000)²</th>        <th class=\"col_heading level0 col3\" >Testing positivity (%)³</th>        <th class=\"col_heading level0 col4\" >Change in hospitalizations (%)⁴</th>        <th class=\"col_heading level0 col5\" >ICU beds available (%)</th>        <th class=\"col_heading level0 col6\" >Ventilators (available (%)</th>    </tr></thead><tbody>\n",
       "                <tr>\n",
       "                                <td id=\"T_01bef034_e7d8_11ea_9deb_42010a8a0004row0_col0\" class=\"data row0 col0\" >2020-08-26</td>\n",
       "                        <td id=\"T_01bef034_e7d8_11ea_9deb_42010a8a0004row0_col1\" class=\"data row0 col1\" >219.7</td>\n",
       "                        <td id=\"T_01bef034_e7d8_11ea_9deb_42010a8a0004row0_col2\" class=\"data row0 col2\" >133.2</td>\n",
       "                        <td id=\"T_01bef034_e7d8_11ea_9deb_42010a8a0004row0_col3\" class=\"data row0 col3\" > ✔</td>\n",
       "                        <td id=\"T_01bef034_e7d8_11ea_9deb_42010a8a0004row0_col4\" class=\"data row0 col4\" > ✔</td>\n",
       "                        <td id=\"T_01bef034_e7d8_11ea_9deb_42010a8a0004row0_col5\" class=\"data row0 col5\" > ✔</td>\n",
       "                        <td id=\"T_01bef034_e7d8_11ea_9deb_42010a8a0004row0_col6\" class=\"data row0 col6\" > ✔</td>\n",
       "            </tr>\n",
       "            <tr>\n",
       "                                <td id=\"T_01bef034_e7d8_11ea_9deb_42010a8a0004row1_col0\" class=\"data row1 col0\" >2020-08-26</td>\n",
       "                        <td id=\"T_01bef034_e7d8_11ea_9deb_42010a8a0004row1_col1\" class=\"data row1 col1\" >219.7</td>\n",
       "                        <td id=\"T_01bef034_e7d8_11ea_9deb_42010a8a0004row1_col2\" class=\"data row1 col2\" >133.2</td>\n",
       "                        <td id=\"T_01bef034_e7d8_11ea_9deb_42010a8a0004row1_col3\" class=\"data row1 col3\" > ✔</td>\n",
       "                        <td id=\"T_01bef034_e7d8_11ea_9deb_42010a8a0004row1_col4\" class=\"data row1 col4\" > ✔</td>\n",
       "                        <td id=\"T_01bef034_e7d8_11ea_9deb_42010a8a0004row1_col5\" class=\"data row1 col5\" > ✔</td>\n",
       "                        <td id=\"T_01bef034_e7d8_11ea_9deb_42010a8a0004row1_col6\" class=\"data row1 col6\" > ✔</td>\n",
       "            </tr>\n",
       "    </tbody></table>"
      ],
      "text/plain": [
       "<pandas.io.formats.style.Styler at 0x7f07c2fb8080>"
      ]
     },
     "execution_count": 12,
     "metadata": {},
     "output_type": "execute_result"
    }
   ],
   "source": [
    "# Style the pandas dataframe\n",
    "d = dict(selector=\"th\",\n",
    "         props=[('text-align', 'center')])\n",
    "\n",
    "result.reset_index().style\\\n",
    "    .set_properties(**{'width':'20em', 'text-align':'center'})\\\n",
    "    .set_properties(subset=['Date'], **{'font-weight': 'bold'})\\\n",
    "    .set_table_styles([d])\\\n",
    "    .set_precision(1)\\\n",
    "    .hide_index()"
   ]
  },
  {
   "cell_type": "markdown",
   "metadata": {
    "papermill": {
     "duration": 0.009975,
     "end_time": "2020-08-26T20:09:11.674468",
     "exception": false,
     "start_time": "2020-08-26T20:09:11.664493",
     "status": "completed"
    },
    "tags": []
   },
   "source": [
    "<sup>Notes: (1) 7 day average with a 7-day lag. (2) 14 day average. (3) 7 day average with a 7-day lag. (4) Change in 3 day average.</sup>"
   ]
  },
  {
   "cell_type": "code",
   "execution_count": 13,
   "metadata": {
    "execution": {
     "iopub.execute_input": "2020-08-26T20:09:11.699706Z",
     "iopub.status.busy": "2020-08-26T20:09:11.699227Z",
     "iopub.status.idle": "2020-08-26T20:09:11.702172Z",
     "shell.execute_reply": "2020-08-26T20:09:11.702535Z"
    },
    "papermill": {
     "duration": 0.018264,
     "end_time": "2020-08-26T20:09:11.702679",
     "exception": false,
     "start_time": "2020-08-26T20:09:11.684415",
     "status": "completed"
    },
    "tags": [
     "remove_input"
    ]
   },
   "outputs": [
    {
     "data": {
      "text/markdown": [
       "Table last updated by CDPH on August 26, 2020."
      ],
      "text/plain": [
       "<IPython.core.display.Markdown object>"
      ]
     },
     "execution_count": 13,
     "metadata": {},
     "output_type": "execute_result"
    }
   ],
   "source": [
    "md(update_tag)"
   ]
  },
  {
   "cell_type": "markdown",
   "metadata": {
    "papermill": {
     "duration": 0.010163,
     "end_time": "2020-08-26T20:09:11.723060",
     "exception": false,
     "start_time": "2020-08-26T20:09:11.712897",
     "status": "completed"
    },
    "tags": []
   },
   "source": [
    "## Tracking county closures in Santa Barbara"
   ]
  },
  {
   "cell_type": "markdown",
   "metadata": {
    "papermill": {
     "duration": 0.01013,
     "end_time": "2020-08-26T20:09:11.743397",
     "exception": false,
     "start_time": "2020-08-26T20:09:11.733267",
     "status": "completed"
    },
    "tags": []
   },
   "source": [
    "The state of California is using a data-driven approach informed by scientific evidence to tailor its response to COVID-19. Three dimensions of concern are monitored to assess whether a county should be placed on the County Monitoring List:\n",
    " 1. Elevated Disease Transmission\n",
    " 2. Increasing Hospitalization\n",
    " 3. Limited Hospital Capacity\n",
    "\n",
    "Once a county appears on the County Monitoring List for three consecutive days, indoor operations in the sectors listed in Section 3 of the [July 13th State Health Officer Order](https://www.cdph.ca.gov/Programs/CID/DCDC/CDPH%20Document%20Library/COVID-19/SHO%20Order%20Dimming%20Entire%20State%207-13-2020.pdf) must close.\n",
    "\n",
    "This table tracks where Santa Barbara stands in terms of the criteria for inclusion on the County Monitoring List. As of 20 August 2020, the criteria for inclusion on the monitoring list are:\n",
    "\n",
    "* Case rate >100 OR (Case rate >25 AND Positivity >8%)\n",
    "* \\>10% increase in hospitalizations\n",
    "* <20% ICU beds available OR <25% ventilators available\n",
    "\n",
    "If Santa Barbara meets the criteria for removal from the County Monitoring List for a certain metric, then a checkmark ✔ is displayed in the table.\n",
    "\n",
    "Read more at <https://covid19.ca.gov/roadmap-counties/>.\n",
    "\n",
    "Data source for county metrics: https://www.cdph.ca.gov/Programs/CID/DCDC/Pages/COVID-19/COVID19CountyDataTable.aspx."
   ]
  },
  {
   "cell_type": "markdown",
   "metadata": {
    "papermill": {
     "duration": 0.010331,
     "end_time": "2020-08-26T20:09:11.763918",
     "exception": false,
     "start_time": "2020-08-26T20:09:11.753587",
     "status": "completed"
    },
    "tags": []
   },
   "source": [
    "**See the code used to scrape the data: https://github.com/walice/COVID-SB/.**"
   ]
  },
  {
   "cell_type": "code",
   "execution_count": 14,
   "metadata": {
    "execution": {
     "iopub.execute_input": "2020-08-26T20:09:11.792307Z",
     "iopub.status.busy": "2020-08-26T20:09:11.790484Z",
     "iopub.status.idle": "2020-08-26T20:09:11.794026Z",
     "shell.execute_reply": "2020-08-26T20:09:11.793600Z"
    },
    "papermill": {
     "duration": 0.019518,
     "end_time": "2020-08-26T20:09:11.794175",
     "exception": false,
     "start_time": "2020-08-26T20:09:11.774657",
     "status": "completed"
    },
    "tags": [
     "remove_cell"
    ]
   },
   "outputs": [
    {
     "data": {
      "application/javascript": [
       "IPython.notebook.save_notebook()\n"
      ],
      "text/plain": [
       "<IPython.core.display.Javascript object>"
      ]
     },
     "metadata": {},
     "output_type": "display_data"
    }
   ],
   "source": [
    "%%javascript\n",
    "IPython.notebook.save_notebook()"
   ]
  },
  {
   "cell_type": "code",
   "execution_count": 15,
   "metadata": {
    "execution": {
     "iopub.execute_input": "2020-08-26T20:09:11.824352Z",
     "iopub.status.busy": "2020-08-26T20:09:11.821617Z",
     "iopub.status.idle": "2020-08-26T20:09:15.032115Z",
     "shell.execute_reply": "2020-08-26T20:09:15.033053Z"
    },
    "papermill": {
     "duration": 3.22779,
     "end_time": "2020-08-26T20:09:15.033227",
     "exception": false,
     "start_time": "2020-08-26T20:09:11.805437",
     "status": "completed"
    },
    "slideshow": {
     "slide_type": "skip"
    },
    "tags": [
     "remove_cell"
    ]
   },
   "outputs": [
    {
     "name": "stdout",
     "output_type": "stream",
     "text": [
      "[NbConvertApp] Converting notebook index.ipynb to html\r\n"
     ]
    },
    {
     "name": "stdout",
     "output_type": "stream",
     "text": [
      "[NbConvertApp] Writing 352240 bytes to index.html\r\n"
     ]
    }
   ],
   "source": [
    "# Convert Jupyter Notebook to HTML\n",
    "! jupyter nbconvert \"index.ipynb\" --to html --TagRemovePreprocessor.enabled=True --TagRemovePreprocessor.remove_cell_tags=\"['remove_cell']\" --TagRemovePreprocessor.remove_input_tags=\"['remove_input']\" --no-prompt"
   ]
  },
  {
   "cell_type": "code",
   "execution_count": 16,
   "metadata": {
    "execution": {
     "iopub.execute_input": "2020-08-26T20:09:15.062035Z",
     "iopub.status.busy": "2020-08-26T20:09:15.061525Z",
     "iopub.status.idle": "2020-08-26T20:09:15.063813Z",
     "shell.execute_reply": "2020-08-26T20:09:15.064163Z"
    },
    "papermill": {
     "duration": 0.019123,
     "end_time": "2020-08-26T20:09:15.064321",
     "exception": false,
     "start_time": "2020-08-26T20:09:15.045198",
     "status": "completed"
    },
    "tags": [
     "remove_cell"
    ]
   },
   "outputs": [],
   "source": [
    "# Create daily commit message\n",
    "now = datetime.datetime.now()\n",
    "commit_message = \"Last scraped on \" + str(now)"
   ]
  },
  {
   "cell_type": "code",
   "execution_count": null,
   "metadata": {
    "execution": {
     "iopub.execute_input": "2020-08-26T20:08:16.796011Z",
     "iopub.status.busy": "2020-08-26T20:08:16.795537Z",
     "iopub.status.idle": "2020-08-26T20:08:21.753004Z",
     "shell.execute_reply": "2020-08-26T20:08:21.751862Z"
    },
    "papermill": {
     "duration": null,
     "end_time": null,
     "exception": false,
     "start_time": "2020-08-26T20:09:15.075267",
     "status": "running"
    },
    "tags": [
     "remove_cell"
    ]
   },
   "outputs": [],
   "source": [
    "# Deploy to GitHub\n",
    "! git add .\n",
    "! echo $commit_message > commit_message.txt\n",
    "! git commit -F commit_message.txt\n",
    "! git push"
   ]
  }
 ],
 "metadata": {
  "celltoolbar": "Tags",
  "kernelspec": {
   "display_name": "Python 3",
   "language": "python",
   "name": "python3"
  },
  "language_info": {
   "codemirror_mode": {
    "name": "ipython",
    "version": 3
   },
   "file_extension": ".py",
   "mimetype": "text/x-python",
   "name": "python",
   "nbconvert_exporter": "python",
   "pygments_lexer": "ipython3",
   "version": "3.7.3"
  },
  "papermill": {
   "duration": null,
   "end_time": null,
   "environment_variables": {},
   "exception": null,
   "input_path": "/home/alice_lepissier/cron-job/index.ipynb",
   "output_path": "/home/alice_lepissier/cron-job/index.ipynb",
   "parameters": {},
   "start_time": "2020-08-26T20:09:02.489606",
   "version": "2.1.3"
  }
 },
 "nbformat": 4,
 "nbformat_minor": 4
}