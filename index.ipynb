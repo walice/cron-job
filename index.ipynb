{
 "cells": [
  {
   "cell_type": "markdown",
   "metadata": {
    "papermill": {
     "duration": 0.012215,
     "end_time": "2020-08-26T08:35:03.515590",
     "exception": false,
     "start_time": "2020-08-26T08:35:03.503375",
     "status": "completed"
    },
    "tags": []
   },
   "source": [
    "# Daily COVID monitoring data for Santa Barbara county"
   ]
  },
  {
   "cell_type": "code",
   "execution_count": 1,
   "metadata": {
    "execution": {
     "iopub.execute_input": "2020-08-26T08:35:03.543658Z",
     "iopub.status.busy": "2020-08-26T08:35:03.543141Z",
     "iopub.status.idle": "2020-08-26T08:35:03.658252Z",
     "shell.execute_reply": "2020-08-26T08:35:03.657210Z"
    },
    "papermill": {
     "duration": 0.131213,
     "end_time": "2020-08-26T08:35:03.658410",
     "exception": false,
     "start_time": "2020-08-26T08:35:03.527197",
     "status": "completed"
    },
    "tags": [
     "remove_cell"
    ]
   },
   "outputs": [
    {
     "name": "stdout",
     "output_type": "stream",
     "text": [
      "/bin/sh: 1: jt: not found\r\n"
     ]
    }
   ],
   "source": [
    "! jt -t grade3 -tf robotosans -cellw 1100"
   ]
  },
  {
   "cell_type": "markdown",
   "metadata": {
    "papermill": {
     "duration": 0.011145,
     "end_time": "2020-08-26T08:35:03.681322",
     "exception": false,
     "start_time": "2020-08-26T08:35:03.670177",
     "status": "completed"
    },
    "tags": []
   },
   "source": [
    "This table is automatically updated with new daily COVID data for the county of Santa Barbara, CA. Every day, the California Department of Public Health publishes COVID tracking metrics for each county, but does not save the previous day's data. This tool keeps track of the daily metrics that are used to monitor progress towards safe reopening in California."
   ]
  },
  {
   "cell_type": "code",
   "execution_count": 2,
   "metadata": {
    "execution": {
     "iopub.execute_input": "2020-08-26T08:35:03.711597Z",
     "iopub.status.busy": "2020-08-26T08:35:03.711054Z",
     "iopub.status.idle": "2020-08-26T08:35:05.055229Z",
     "shell.execute_reply": "2020-08-26T08:35:05.056025Z"
    },
    "papermill": {
     "duration": 1.363371,
     "end_time": "2020-08-26T08:35:05.056182",
     "exception": false,
     "start_time": "2020-08-26T08:35:03.692811",
     "status": "completed"
    },
    "slideshow": {
     "slide_type": "skip"
    },
    "tags": [
     "remove_cell"
    ]
   },
   "outputs": [],
   "source": [
    "# Preamble\n",
    "import os\n",
    "from IPython.display import Markdown as md\n",
    "import IPython\n",
    "import requests\n",
    "from bs4 import BeautifulSoup\n",
    "import re\n",
    "import pandas as pd\n",
    "import datetime\n",
    "import gspread\n",
    "from oauth2client.service_account import ServiceAccountCredentials"
   ]
  },
  {
   "cell_type": "code",
   "execution_count": 3,
   "metadata": {
    "execution": {
     "iopub.execute_input": "2020-08-26T08:35:05.084073Z",
     "iopub.status.busy": "2020-08-26T08:35:05.083495Z",
     "iopub.status.idle": "2020-08-26T08:35:05.084920Z",
     "shell.execute_reply": "2020-08-26T08:35:05.084508Z"
    },
    "papermill": {
     "duration": 0.017319,
     "end_time": "2020-08-26T08:35:05.085030",
     "exception": false,
     "start_time": "2020-08-26T08:35:05.067711",
     "status": "completed"
    },
    "tags": []
   },
   "outputs": [],
   "source": [
    "# Set working directory\n",
    "os.chdir(\"/home/alice_lepissier/cron-job\")"
   ]
  },
  {
   "cell_type": "code",
   "execution_count": 4,
   "metadata": {
    "execution": {
     "iopub.execute_input": "2020-08-26T08:35:05.113480Z",
     "iopub.status.busy": "2020-08-26T08:35:05.112950Z",
     "iopub.status.idle": "2020-08-26T08:35:05.411065Z",
     "shell.execute_reply": "2020-08-26T08:35:05.411881Z"
    },
    "papermill": {
     "duration": 0.316098,
     "end_time": "2020-08-26T08:35:05.412049",
     "exception": false,
     "start_time": "2020-08-26T08:35:05.095951",
     "status": "completed"
    },
    "slideshow": {
     "slide_type": "skip"
    },
    "tags": [
     "remove_cell"
    ]
   },
   "outputs": [],
   "source": [
    "# Request content from URL\n",
    "html_string = requests.get('https://www.cdph.ca.gov/Programs/CID/DCDC/Pages/COVID-19/COVID19CountyDataTable.aspx').content"
   ]
  },
  {
   "cell_type": "code",
   "execution_count": 5,
   "metadata": {
    "execution": {
     "iopub.execute_input": "2020-08-26T08:35:05.443637Z",
     "iopub.status.busy": "2020-08-26T08:35:05.443130Z",
     "iopub.status.idle": "2020-08-26T08:35:05.527304Z",
     "shell.execute_reply": "2020-08-26T08:35:05.528129Z"
    },
    "papermill": {
     "duration": 0.104555,
     "end_time": "2020-08-26T08:35:05.528287",
     "exception": false,
     "start_time": "2020-08-26T08:35:05.423732",
     "status": "completed"
    },
    "slideshow": {
     "slide_type": "skip"
    },
    "tags": [
     "remove_cell"
    ]
   },
   "outputs": [],
   "source": [
    "# Parse HTML\n",
    "soup = BeautifulSoup(html_string, 'html.parser')"
   ]
  },
  {
   "cell_type": "code",
   "execution_count": 6,
   "metadata": {
    "execution": {
     "iopub.execute_input": "2020-08-26T08:35:05.560711Z",
     "iopub.status.busy": "2020-08-26T08:35:05.560221Z",
     "iopub.status.idle": "2020-08-26T08:35:05.567296Z",
     "shell.execute_reply": "2020-08-26T08:35:05.568017Z"
    },
    "papermill": {
     "duration": 0.028355,
     "end_time": "2020-08-26T08:35:05.568169",
     "exception": false,
     "start_time": "2020-08-26T08:35:05.539814",
     "status": "completed"
    },
    "slideshow": {
     "slide_type": "skip"
    },
    "tags": [
     "remove_cell"
    ]
   },
   "outputs": [],
   "source": [
    "# Extract data for Santa Barbara\n",
    "table = soup.find_all(\"tr\", class_=\"ms-rteTableEvenRow-3\")\n",
    "SB = table[21]"
   ]
  },
  {
   "cell_type": "code",
   "execution_count": 7,
   "metadata": {
    "execution": {
     "iopub.execute_input": "2020-08-26T08:35:05.600871Z",
     "iopub.status.busy": "2020-08-26T08:35:05.600333Z",
     "iopub.status.idle": "2020-08-26T08:35:05.611585Z",
     "shell.execute_reply": "2020-08-26T08:35:05.612387Z"
    },
    "papermill": {
     "duration": 0.033019,
     "end_time": "2020-08-26T08:35:05.612563",
     "exception": false,
     "start_time": "2020-08-26T08:35:05.579544",
     "status": "completed"
    },
    "slideshow": {
     "slide_type": "skip"
    },
    "tags": [
     "remove_cell"
    ]
   },
   "outputs": [],
   "source": [
    "# Avg # tests per day (per 100,000 population)\n",
    "daily_tests = SB.find_all(\"td\", class_=\"ms-rteTableOddCol-3\")[0].text\n",
    "\n",
    "# Case rate per 100,000\n",
    "case_rate = SB.find_all(\"td\", class_=\"ms-rteTableEvenCol-3\")[1].text\n",
    "\n",
    "# Testing positivity (%)\n",
    "test_positivity = SB.find_all(\"td\", class_=\"ms-rteTableOddCol-3\")[1].text\n",
    "\n",
    "# % Change in 3-day avg COVID+ hospitalized patients\n",
    "change_hospit = SB.find_all(\"td\", class_=\"ms-rteTableEvenCol-3\")[2].text\n",
    "\n",
    "# % ICU beds currently available\n",
    "ICU_beds = SB.find_all(\"td\", class_=\"ms-rteTableOddCol-3\")[2].text\n",
    "\n",
    "# % Ventilators currently available\n",
    "ventilators = SB.find_all(\"td\", class_=\"ms-rteTableEvenCol-3\")[3].text\n",
    "\n",
    "# Extract date of last update\n",
    "update_date = soup.find_all(\"span\", class_=\"ms-rteStyle-Accent1\")[1]\\\n",
    "    .find(\"em\").text"
   ]
  },
  {
   "cell_type": "code",
   "execution_count": 8,
   "metadata": {
    "execution": {
     "iopub.execute_input": "2020-08-26T08:35:05.640801Z",
     "iopub.status.busy": "2020-08-26T08:35:05.640222Z",
     "iopub.status.idle": "2020-08-26T08:35:05.641624Z",
     "shell.execute_reply": "2020-08-26T08:35:05.641220Z"
    },
    "papermill": {
     "duration": 0.017577,
     "end_time": "2020-08-26T08:35:05.641734",
     "exception": false,
     "start_time": "2020-08-26T08:35:05.624157",
     "status": "completed"
    },
    "tags": [
     "remove_cell"
    ]
   },
   "outputs": [],
   "source": [
    "# Create updated date string\n",
    "update_tag = \"Table last updated by CDPH on \" + update_date.split(\" on \", 1)[1] + \".\""
   ]
  },
  {
   "cell_type": "code",
   "execution_count": 9,
   "metadata": {
    "execution": {
     "iopub.execute_input": "2020-08-26T08:35:05.671196Z",
     "iopub.status.busy": "2020-08-26T08:35:05.670682Z",
     "iopub.status.idle": "2020-08-26T08:35:05.673704Z",
     "shell.execute_reply": "2020-08-26T08:35:05.674579Z"
    },
    "papermill": {
     "duration": 0.021811,
     "end_time": "2020-08-26T08:35:05.674739",
     "exception": false,
     "start_time": "2020-08-26T08:35:05.652928",
     "status": "completed"
    },
    "slideshow": {
     "slide_type": "skip"
    },
    "tags": [
     "remove_cell"
    ]
   },
   "outputs": [],
   "source": [
    "# Set up Google Sheet API\n",
    "scope = [\"https://spreadsheets.google.com/feeds\",'https://www.googleapis.com/auth/spreadsheets',\"https://www.googleapis.com/auth/drive.file\",\"https://www.googleapis.com/auth/drive\"]\n",
    "creds = ServiceAccountCredentials.from_json_keyfile_name(\"credentials.json\", scope)\n",
    "client = gspread.authorize(creds)"
   ]
  },
  {
   "cell_type": "code",
   "execution_count": 10,
   "metadata": {
    "execution": {
     "iopub.execute_input": "2020-08-26T08:35:05.733684Z",
     "iopub.status.busy": "2020-08-26T08:35:05.733175Z",
     "iopub.status.idle": "2020-08-26T08:35:07.086982Z",
     "shell.execute_reply": "2020-08-26T08:35:07.087673Z"
    },
    "papermill": {
     "duration": 1.401747,
     "end_time": "2020-08-26T08:35:07.087825",
     "exception": false,
     "start_time": "2020-08-26T08:35:05.686078",
     "status": "completed"
    },
    "slideshow": {
     "slide_type": "skip"
    },
    "tags": [
     "remove_cell"
    ]
   },
   "outputs": [
    {
     "data": {
      "text/plain": [
       "{'spreadsheetId': '1pcqdMzKtea2Oq3BDmdAOQ21gZjCssieKI0692VfNLXU',\n",
       " 'updatedRange': 'Sheet1!A2:G2',\n",
       " 'updatedRows': 1,\n",
       " 'updatedColumns': 7,\n",
       " 'updatedCells': 7}"
      ]
     },
     "execution_count": 10,
     "metadata": {},
     "output_type": "execute_result"
    }
   ],
   "source": [
    "# Append daily data as a new row in Google Sheet\n",
    "sheet = client.open(\"Test cron job\").sheet1\n",
    "insertRow = [datetime.date.today().strftime(\"%Y-%m-%d\"),\n",
    "             daily_tests,\n",
    "             case_rate,\n",
    "             test_positivity,\n",
    "             change_hospit,\n",
    "             ICU_beds,\n",
    "             ventilators]\n",
    "sheet.insert_row(insertRow, 2)"
   ]
  },
  {
   "cell_type": "code",
   "execution_count": 11,
   "metadata": {
    "execution": {
     "iopub.execute_input": "2020-08-26T08:35:07.118741Z",
     "iopub.status.busy": "2020-08-26T08:35:07.118199Z",
     "iopub.status.idle": "2020-08-26T08:35:07.914964Z",
     "shell.execute_reply": "2020-08-26T08:35:07.915743Z"
    },
    "papermill": {
     "duration": 0.814662,
     "end_time": "2020-08-26T08:35:07.915916",
     "exception": false,
     "start_time": "2020-08-26T08:35:07.101254",
     "status": "completed"
    },
    "scrolled": true,
    "slideshow": {
     "slide_type": "slide"
    },
    "tags": [
     "remove_cell"
    ]
   },
   "outputs": [],
   "source": [
    "# Extract data from Google Sheet as pandas dataframe\n",
    "sheet = client.open(\"Test cron job\").sheet1\n",
    "data = sheet.get_all_records()\n",
    "result = pd.DataFrame(data).set_index(\"Date\")"
   ]
  },
  {
   "cell_type": "code",
   "execution_count": 12,
   "metadata": {
    "execution": {
     "iopub.execute_input": "2020-08-26T08:35:07.947342Z",
     "iopub.status.busy": "2020-08-26T08:35:07.946828Z",
     "iopub.status.idle": "2020-08-26T08:35:08.793382Z",
     "shell.execute_reply": "2020-08-26T08:35:08.794131Z"
    },
    "papermill": {
     "duration": 0.866169,
     "end_time": "2020-08-26T08:35:08.794291",
     "exception": false,
     "start_time": "2020-08-26T08:35:07.928122",
     "status": "completed"
    },
    "scrolled": true,
    "tags": [
     "remove_input"
    ]
   },
   "outputs": [
    {
     "data": {
      "text/html": [
       "<style  type=\"text/css\" >\n",
       "    #T_0caaccb8_e777_11ea_b438_42010a8a0004 th {\n",
       "          text-align: center;\n",
       "    }#T_0caaccb8_e777_11ea_b438_42010a8a0004row0_col0,#T_0caaccb8_e777_11ea_b438_42010a8a0004row1_col0,#T_0caaccb8_e777_11ea_b438_42010a8a0004row2_col0,#T_0caaccb8_e777_11ea_b438_42010a8a0004row3_col0,#T_0caaccb8_e777_11ea_b438_42010a8a0004row4_col0,#T_0caaccb8_e777_11ea_b438_42010a8a0004row5_col0,#T_0caaccb8_e777_11ea_b438_42010a8a0004row6_col0{\n",
       "            width:  20em;\n",
       "            text-align:  center;\n",
       "            font-weight:  bold;\n",
       "        }#T_0caaccb8_e777_11ea_b438_42010a8a0004row0_col1,#T_0caaccb8_e777_11ea_b438_42010a8a0004row0_col2,#T_0caaccb8_e777_11ea_b438_42010a8a0004row1_col1,#T_0caaccb8_e777_11ea_b438_42010a8a0004row1_col2,#T_0caaccb8_e777_11ea_b438_42010a8a0004row2_col1,#T_0caaccb8_e777_11ea_b438_42010a8a0004row2_col2,#T_0caaccb8_e777_11ea_b438_42010a8a0004row3_col1,#T_0caaccb8_e777_11ea_b438_42010a8a0004row3_col2,#T_0caaccb8_e777_11ea_b438_42010a8a0004row4_col1,#T_0caaccb8_e777_11ea_b438_42010a8a0004row4_col2,#T_0caaccb8_e777_11ea_b438_42010a8a0004row5_col1,#T_0caaccb8_e777_11ea_b438_42010a8a0004row5_col2,#T_0caaccb8_e777_11ea_b438_42010a8a0004row6_col1,#T_0caaccb8_e777_11ea_b438_42010a8a0004row6_col2{\n",
       "            width:  20em;\n",
       "            text-align:  center;\n",
       "        }</style><table id=\"T_0caaccb8_e777_11ea_b438_42010a8a0004\" ><thead>    <tr>        <th class=\"col_heading level0 col0\" >Date</th>        <th class=\"col_heading level0 col1\" >Time</th>        <th class=\"col_heading level0 col2\" ></th>    </tr></thead><tbody>\n",
       "                <tr>\n",
       "                                <td id=\"T_0caaccb8_e777_11ea_b438_42010a8a0004row0_col0\" class=\"data row0 col0\" >2020-08-26</td>\n",
       "                        <td id=\"T_0caaccb8_e777_11ea_b438_42010a8a0004row0_col1\" class=\"data row0 col1\" >222.1</td>\n",
       "                        <td id=\"T_0caaccb8_e777_11ea_b438_42010a8a0004row0_col2\" class=\"data row0 col2\" > ✔</td>\n",
       "            </tr>\n",
       "            <tr>\n",
       "                                <td id=\"T_0caaccb8_e777_11ea_b438_42010a8a0004row1_col0\" class=\"data row1 col0\" >2020-08-26</td>\n",
       "                        <td id=\"T_0caaccb8_e777_11ea_b438_42010a8a0004row1_col1\" class=\"data row1 col1\" >222.1</td>\n",
       "                        <td id=\"T_0caaccb8_e777_11ea_b438_42010a8a0004row1_col2\" class=\"data row1 col2\" > ✔</td>\n",
       "            </tr>\n",
       "            <tr>\n",
       "                                <td id=\"T_0caaccb8_e777_11ea_b438_42010a8a0004row2_col0\" class=\"data row2 col0\" >2020-08-26</td>\n",
       "                        <td id=\"T_0caaccb8_e777_11ea_b438_42010a8a0004row2_col1\" class=\"data row2 col1\" >222.1</td>\n",
       "                        <td id=\"T_0caaccb8_e777_11ea_b438_42010a8a0004row2_col2\" class=\"data row2 col2\" > ✔</td>\n",
       "            </tr>\n",
       "            <tr>\n",
       "                                <td id=\"T_0caaccb8_e777_11ea_b438_42010a8a0004row3_col0\" class=\"data row3 col0\" >2020-08-26</td>\n",
       "                        <td id=\"T_0caaccb8_e777_11ea_b438_42010a8a0004row3_col1\" class=\"data row3 col1\" >222.1</td>\n",
       "                        <td id=\"T_0caaccb8_e777_11ea_b438_42010a8a0004row3_col2\" class=\"data row3 col2\" > ✔</td>\n",
       "            </tr>\n",
       "            <tr>\n",
       "                                <td id=\"T_0caaccb8_e777_11ea_b438_42010a8a0004row4_col0\" class=\"data row4 col0\" >2020-08-26</td>\n",
       "                        <td id=\"T_0caaccb8_e777_11ea_b438_42010a8a0004row4_col1\" class=\"data row4 col1\" >222.1</td>\n",
       "                        <td id=\"T_0caaccb8_e777_11ea_b438_42010a8a0004row4_col2\" class=\"data row4 col2\" > ✔</td>\n",
       "            </tr>\n",
       "            <tr>\n",
       "                                <td id=\"T_0caaccb8_e777_11ea_b438_42010a8a0004row5_col0\" class=\"data row5 col0\" >2020-08-26</td>\n",
       "                        <td id=\"T_0caaccb8_e777_11ea_b438_42010a8a0004row5_col1\" class=\"data row5 col1\" >222.1</td>\n",
       "                        <td id=\"T_0caaccb8_e777_11ea_b438_42010a8a0004row5_col2\" class=\"data row5 col2\" > ✔</td>\n",
       "            </tr>\n",
       "            <tr>\n",
       "                                <td id=\"T_0caaccb8_e777_11ea_b438_42010a8a0004row6_col0\" class=\"data row6 col0\" >2020-08-26</td>\n",
       "                        <td id=\"T_0caaccb8_e777_11ea_b438_42010a8a0004row6_col1\" class=\"data row6 col1\" >222.1</td>\n",
       "                        <td id=\"T_0caaccb8_e777_11ea_b438_42010a8a0004row6_col2\" class=\"data row6 col2\" > ✔</td>\n",
       "            </tr>\n",
       "    </tbody></table>"
      ],
      "text/plain": [
       "<pandas.io.formats.style.Styler at 0x7f7e10dd1358>"
      ]
     },
     "execution_count": 12,
     "metadata": {},
     "output_type": "execute_result"
    }
   ],
   "source": [
    "# Style the pandas dataframe\n",
    "d = dict(selector=\"th\",\n",
    "         props=[('text-align', 'center')])\n",
    "\n",
    "result.reset_index().style\\\n",
    "    .set_properties(**{'width':'20em', 'text-align':'center'})\\\n",
    "    .set_properties(subset=['Date'], **{'font-weight': 'bold'})\\\n",
    "    .set_table_styles([d])\\\n",
    "    .set_precision(1)\\\n",
    "    .hide_index()"
   ]
  },
  {
   "cell_type": "markdown",
   "metadata": {
    "papermill": {
     "duration": 0.011646,
     "end_time": "2020-08-26T08:35:08.817992",
     "exception": false,
     "start_time": "2020-08-26T08:35:08.806346",
     "status": "completed"
    },
    "tags": []
   },
   "source": [
    "<sup>Notes: (1) 7 day average with a 7-day lag. (2) 14 day average. (3) 7 day average with a 7-day lag. (4) Change in 3 day average.</sup>"
   ]
  },
  {
   "cell_type": "code",
   "execution_count": 13,
   "metadata": {
    "execution": {
     "iopub.execute_input": "2020-08-26T08:35:08.848037Z",
     "iopub.status.busy": "2020-08-26T08:35:08.847433Z",
     "iopub.status.idle": "2020-08-26T08:35:08.849609Z",
     "shell.execute_reply": "2020-08-26T08:35:08.848467Z"
    },
    "papermill": {
     "duration": 0.020054,
     "end_time": "2020-08-26T08:35:08.849723",
     "exception": false,
     "start_time": "2020-08-26T08:35:08.829669",
     "status": "completed"
    },
    "tags": [
     "remove_input"
    ]
   },
   "outputs": [
    {
     "data": {
      "text/markdown": [
       "Table last updated by CDPH on August 25, 2020."
      ],
      "text/plain": [
       "<IPython.core.display.Markdown object>"
      ]
     },
     "execution_count": 13,
     "metadata": {},
     "output_type": "execute_result"
    }
   ],
   "source": [
    "md(update_tag)"
   ]
  },
  {
   "cell_type": "markdown",
   "metadata": {
    "papermill": {
     "duration": 0.01179,
     "end_time": "2020-08-26T08:35:08.873327",
     "exception": false,
     "start_time": "2020-08-26T08:35:08.861537",
     "status": "completed"
    },
    "tags": []
   },
   "source": [
    "## Tracking county closures in Santa Barbara"
   ]
  },
  {
   "cell_type": "markdown",
   "metadata": {
    "papermill": {
     "duration": 0.012316,
     "end_time": "2020-08-26T08:35:08.897443",
     "exception": false,
     "start_time": "2020-08-26T08:35:08.885127",
     "status": "completed"
    },
    "tags": []
   },
   "source": [
    "The state of California is using a data-driven approach informed by scientific evidence to tailor its response to COVID-19. Three dimensions of concern are monitored to assess whether a county should be placed on the County Monitoring List:\n",
    " 1. Elevated Disease Transmission\n",
    " 2. Increasing Hospitalization\n",
    " 3. Limited Hospital Capacity\n",
    "\n",
    "Once a county appears on the County Monitoring List for three consecutive days, indoor operations in the sectors listed in Section 3 of the [July 13th State Health Officer Order](https://www.cdph.ca.gov/Programs/CID/DCDC/CDPH%20Document%20Library/COVID-19/SHO%20Order%20Dimming%20Entire%20State%207-13-2020.pdf) must close.\n",
    "\n",
    "This table tracks where Santa Barbara stands in terms of the criteria for inclusion on the County Monitoring List. As of 20 August 2020, the criteria for inclusion on the monitoring list are:\n",
    "\n",
    "* Case rate >100 OR (Case rate >25 AND Positivity >8%)\n",
    "* \\>10% increase in hospitalizations\n",
    "* <20% ICU beds available OR <25% ventilators available\n",
    "\n",
    "If Santa Barbara meets the criteria for removal from the County Monitoring List for a certain metric, then a checkmark ✔ is displayed in the table.\n",
    "\n",
    "Read more at <https://covid19.ca.gov/roadmap-counties/>.\n",
    "\n",
    "Data source for county metrics: https://www.cdph.ca.gov/Programs/CID/DCDC/Pages/COVID-19/COVID19CountyDataTable.aspx."
   ]
  },
  {
   "cell_type": "markdown",
   "metadata": {
    "papermill": {
     "duration": 0.011595,
     "end_time": "2020-08-26T08:35:08.921080",
     "exception": false,
     "start_time": "2020-08-26T08:35:08.909485",
     "status": "completed"
    },
    "tags": []
   },
   "source": [
    "**See the code used to scrape the data: https://github.com/walice/COVID-SB/.**"
   ]
  },
  {
   "cell_type": "code",
   "execution_count": 14,
   "metadata": {
    "execution": {
     "iopub.execute_input": "2020-08-26T08:35:08.951346Z",
     "iopub.status.busy": "2020-08-26T08:35:08.950823Z",
     "iopub.status.idle": "2020-08-26T08:35:08.953803Z",
     "shell.execute_reply": "2020-08-26T08:35:08.954197Z"
    },
    "papermill": {
     "duration": 0.021329,
     "end_time": "2020-08-26T08:35:08.954340",
     "exception": false,
     "start_time": "2020-08-26T08:35:08.933011",
     "status": "completed"
    },
    "tags": [
     "remove_cell"
    ]
   },
   "outputs": [
    {
     "data": {
      "application/javascript": [
       "IPython.notebook.save_notebook()\n"
      ],
      "text/plain": [
       "<IPython.core.display.Javascript object>"
      ]
     },
     "metadata": {},
     "output_type": "display_data"
    }
   ],
   "source": [
    "%%javascript\n",
    "IPython.notebook.save_notebook()"
   ]
  },
  {
   "cell_type": "code",
   "execution_count": 15,
   "metadata": {
    "execution": {
     "iopub.execute_input": "2020-08-26T08:35:08.986866Z",
     "iopub.status.busy": "2020-08-26T08:35:08.986340Z",
     "iopub.status.idle": "2020-08-26T08:35:09.099143Z",
     "shell.execute_reply": "2020-08-26T08:35:09.098533Z"
    },
    "papermill": {
     "duration": 0.132861,
     "end_time": "2020-08-26T08:35:09.099277",
     "exception": false,
     "start_time": "2020-08-26T08:35:08.966416",
     "status": "completed"
    },
    "slideshow": {
     "slide_type": "skip"
    },
    "tags": [
     "remove_cell"
    ]
   },
   "outputs": [
    {
     "name": "stdout",
     "output_type": "stream",
     "text": [
      "/bin/sh: 1: jupyter: not found\r\n"
     ]
    }
   ],
   "source": [
    "# Convert Jupyter Notebook to HTML\n",
    "! jupyter nbconvert \"index.ipynb\" --to html --TagRemovePreprocessor.enabled=True --TagRemovePreprocessor.remove_cell_tags=\"['remove_cell']\" --TagRemovePreprocessor.remove_input_tags=\"['remove_input']\" --no-prompt"
   ]
  },
  {
   "cell_type": "code",
   "execution_count": 16,
   "metadata": {
    "execution": {
     "iopub.execute_input": "2020-08-26T08:35:09.129899Z",
     "iopub.status.busy": "2020-08-26T08:35:09.129396Z",
     "iopub.status.idle": "2020-08-26T08:35:09.131826Z",
     "shell.execute_reply": "2020-08-26T08:35:09.132180Z"
    },
    "papermill": {
     "duration": 0.020038,
     "end_time": "2020-08-26T08:35:09.132337",
     "exception": false,
     "start_time": "2020-08-26T08:35:09.112299",
     "status": "completed"
    },
    "tags": [
     "remove_cell"
    ]
   },
   "outputs": [],
   "source": [
    "# Create daily commit message\n",
    "now = datetime.datetime.now()\n",
    "commit_message = \"Last scraped on \" + str(now)"
   ]
  },
  {
   "cell_type": "code",
   "execution_count": null,
   "metadata": {
    "execution": {
     "iopub.execute_input": "2020-08-26T08:34:09.779590Z",
     "iopub.status.busy": "2020-08-26T08:34:09.779090Z",
     "iopub.status.idle": "2020-08-26T08:34:13.940300Z",
     "shell.execute_reply": "2020-08-26T08:34:13.939141Z"
    },
    "papermill": {
     "duration": null,
     "end_time": null,
     "exception": false,
     "start_time": "2020-08-26T08:35:09.144668",
     "status": "running"
    },
    "tags": [
     "remove_cell"
    ]
   },
   "outputs": [],
   "source": [
    "# Deploy to GitHub\n",
    "! git add .\n",
    "! echo $commit_message > commit_message.txt\n",
    "! git commit -F commit_message.txt\n",
    "! git push"
   ]
  }
 ],
 "metadata": {
  "celltoolbar": "Tags",
  "kernelspec": {
   "display_name": "Python 3",
   "language": "python",
   "name": "python3"
  },
  "language_info": {
   "codemirror_mode": {
    "name": "ipython",
    "version": 3
   },
   "file_extension": ".py",
   "mimetype": "text/x-python",
   "name": "python",
   "nbconvert_exporter": "python",
   "pygments_lexer": "ipython3",
   "version": "3.7.3"
  },
  "papermill": {
   "duration": null,
   "end_time": null,
   "environment_variables": {},
   "exception": null,
   "input_path": "/home/alice_lepissier/cron-job/index.ipynb",
   "output_path": "/home/alice_lepissier/cron-job/index.ipynb",
   "parameters": {},
   "start_time": "2020-08-26T08:35:02.483493",
   "version": "2.1.3"
  }
 },
 "nbformat": 4,
 "nbformat_minor": 4
}