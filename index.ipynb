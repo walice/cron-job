{
 "cells": [
  {
   "cell_type": "markdown",
   "metadata": {
    "papermill": {
     "duration": 0.012013,
     "end_time": "2020-08-26T08:24:05.395809",
     "exception": false,
     "start_time": "2020-08-26T08:24:05.383796",
     "status": "completed"
    },
    "tags": []
   },
   "source": [
    "# Daily COVID monitoring data for Santa Barbara county"
   ]
  },
  {
   "cell_type": "code",
   "execution_count": 1,
   "metadata": {
    "execution": {
     "iopub.execute_input": "2020-08-26T08:24:05.425763Z",
     "iopub.status.busy": "2020-08-26T08:24:05.425239Z",
     "iopub.status.idle": "2020-08-26T08:24:05.536070Z",
     "shell.execute_reply": "2020-08-26T08:24:05.536992Z"
    },
    "papermill": {
     "duration": 0.13003,
     "end_time": "2020-08-26T08:24:05.537198",
     "exception": false,
     "start_time": "2020-08-26T08:24:05.407168",
     "status": "completed"
    },
    "tags": [
     "remove_cell"
    ]
   },
   "outputs": [
    {
     "name": "stdout",
     "output_type": "stream",
     "text": [
      "/bin/sh: 1: jt: not found\r\n"
     ]
    }
   ],
   "source": [
    "! jt -t grade3 -tf robotosans -cellw 1100"
   ]
  },
  {
   "cell_type": "markdown",
   "metadata": {
    "papermill": {
     "duration": 0.011063,
     "end_time": "2020-08-26T08:24:05.559872",
     "exception": false,
     "start_time": "2020-08-26T08:24:05.548809",
     "status": "completed"
    },
    "tags": []
   },
   "source": [
    "This table is automatically updated with new daily COVID data for the county of Santa Barbara, CA. Every day, the California Department of Public Health publishes COVID tracking metrics for each county, but does not save the previous day's data. This tool keeps track of the daily metrics that are used to monitor progress towards safe reopening in California."
   ]
  },
  {
   "cell_type": "code",
   "execution_count": 2,
   "metadata": {
    "execution": {
     "iopub.execute_input": "2020-08-26T08:24:05.591544Z",
     "iopub.status.busy": "2020-08-26T08:24:05.591005Z",
     "iopub.status.idle": "2020-08-26T08:24:07.847639Z",
     "shell.execute_reply": "2020-08-26T08:24:07.848499Z"
    },
    "papermill": {
     "duration": 2.277777,
     "end_time": "2020-08-26T08:24:07.848667",
     "exception": false,
     "start_time": "2020-08-26T08:24:05.570890",
     "status": "completed"
    },
    "slideshow": {
     "slide_type": "skip"
    },
    "tags": [
     "remove_cell"
    ]
   },
   "outputs": [],
   "source": [
    "# Preamble\n",
    "import os\n",
    "from IPython.display import Markdown as md\n",
    "import IPython\n",
    "import requests\n",
    "from bs4 import BeautifulSoup\n",
    "import re\n",
    "import pandas as pd\n",
    "import datetime\n",
    "import gspread\n",
    "from oauth2client.service_account import ServiceAccountCredentials"
   ]
  },
  {
   "cell_type": "code",
   "execution_count": 3,
   "metadata": {
    "execution": {
     "iopub.execute_input": "2020-08-26T08:24:07.876796Z",
     "iopub.status.busy": "2020-08-26T08:24:07.876184Z",
     "iopub.status.idle": "2020-08-26T08:24:07.877636Z",
     "shell.execute_reply": "2020-08-26T08:24:07.877239Z"
    },
    "papermill": {
     "duration": 0.017349,
     "end_time": "2020-08-26T08:24:07.877755",
     "exception": false,
     "start_time": "2020-08-26T08:24:07.860406",
     "status": "completed"
    },
    "tags": []
   },
   "outputs": [],
   "source": [
    "# Set working directory\n",
    "os.chdir(\"/home/alice_lepissier/cron-job\")"
   ]
  },
  {
   "cell_type": "code",
   "execution_count": 4,
   "metadata": {
    "execution": {
     "iopub.execute_input": "2020-08-26T08:24:07.905482Z",
     "iopub.status.busy": "2020-08-26T08:24:07.904957Z",
     "iopub.status.idle": "2020-08-26T08:24:08.164911Z",
     "shell.execute_reply": "2020-08-26T08:24:08.165764Z"
    },
    "papermill": {
     "duration": 0.277322,
     "end_time": "2020-08-26T08:24:08.165939",
     "exception": false,
     "start_time": "2020-08-26T08:24:07.888617",
     "status": "completed"
    },
    "slideshow": {
     "slide_type": "skip"
    },
    "tags": [
     "remove_cell"
    ]
   },
   "outputs": [],
   "source": [
    "# Request content from URL\n",
    "html_string = requests.get('https://www.cdph.ca.gov/Programs/CID/DCDC/Pages/COVID-19/COVID19CountyDataTable.aspx').content"
   ]
  },
  {
   "cell_type": "code",
   "execution_count": 5,
   "metadata": {
    "execution": {
     "iopub.execute_input": "2020-08-26T08:24:08.195564Z",
     "iopub.status.busy": "2020-08-26T08:24:08.195049Z",
     "iopub.status.idle": "2020-08-26T08:24:08.287306Z",
     "shell.execute_reply": "2020-08-26T08:24:08.288077Z"
    },
    "papermill": {
     "duration": 0.110489,
     "end_time": "2020-08-26T08:24:08.288237",
     "exception": false,
     "start_time": "2020-08-26T08:24:08.177748",
     "status": "completed"
    },
    "slideshow": {
     "slide_type": "skip"
    },
    "tags": [
     "remove_cell"
    ]
   },
   "outputs": [],
   "source": [
    "# Parse HTML\n",
    "soup = BeautifulSoup(html_string, 'html.parser')"
   ]
  },
  {
   "cell_type": "code",
   "execution_count": 6,
   "metadata": {
    "execution": {
     "iopub.execute_input": "2020-08-26T08:24:08.320758Z",
     "iopub.status.busy": "2020-08-26T08:24:08.320231Z",
     "iopub.status.idle": "2020-08-26T08:24:08.325898Z",
     "shell.execute_reply": "2020-08-26T08:24:08.326616Z"
    },
    "papermill": {
     "duration": 0.02706,
     "end_time": "2020-08-26T08:24:08.326779",
     "exception": false,
     "start_time": "2020-08-26T08:24:08.299719",
     "status": "completed"
    },
    "slideshow": {
     "slide_type": "skip"
    },
    "tags": [
     "remove_cell"
    ]
   },
   "outputs": [],
   "source": [
    "# Extract data for Santa Barbara\n",
    "table = soup.find_all(\"tr\", class_=\"ms-rteTableEvenRow-3\")\n",
    "SB = table[21]"
   ]
  },
  {
   "cell_type": "code",
   "execution_count": 7,
   "metadata": {
    "execution": {
     "iopub.execute_input": "2020-08-26T08:24:08.360867Z",
     "iopub.status.busy": "2020-08-26T08:24:08.360313Z",
     "iopub.status.idle": "2020-08-26T08:24:08.368212Z",
     "shell.execute_reply": "2020-08-26T08:24:08.368928Z"
    },
    "papermill": {
     "duration": 0.030905,
     "end_time": "2020-08-26T08:24:08.369084",
     "exception": false,
     "start_time": "2020-08-26T08:24:08.338179",
     "status": "completed"
    },
    "slideshow": {
     "slide_type": "skip"
    },
    "tags": [
     "remove_cell"
    ]
   },
   "outputs": [],
   "source": [
    "# Avg # tests per day (per 100,000 population)\n",
    "daily_tests = SB.find_all(\"td\", class_=\"ms-rteTableOddCol-3\")[0].text\n",
    "\n",
    "# Case rate per 100,000\n",
    "case_rate = SB.find_all(\"td\", class_=\"ms-rteTableEvenCol-3\")[1].text\n",
    "\n",
    "# Testing positivity (%)\n",
    "test_positivity = SB.find_all(\"td\", class_=\"ms-rteTableOddCol-3\")[1].text\n",
    "\n",
    "# % Change in 3-day avg COVID+ hospitalized patients\n",
    "change_hospit = SB.find_all(\"td\", class_=\"ms-rteTableEvenCol-3\")[2].text\n",
    "\n",
    "# % ICU beds currently available\n",
    "ICU_beds = SB.find_all(\"td\", class_=\"ms-rteTableOddCol-3\")[2].text\n",
    "\n",
    "# % Ventilators currently available\n",
    "ventilators = SB.find_all(\"td\", class_=\"ms-rteTableEvenCol-3\")[3].text\n",
    "\n",
    "# Extract date of last update\n",
    "update_date = soup.find_all(\"span\", class_=\"ms-rteStyle-Accent1\")[1]\\\n",
    "    .find(\"em\").text"
   ]
  },
  {
   "cell_type": "code",
   "execution_count": 8,
   "metadata": {
    "execution": {
     "iopub.execute_input": "2020-08-26T08:24:08.397017Z",
     "iopub.status.busy": "2020-08-26T08:24:08.396417Z",
     "iopub.status.idle": "2020-08-26T08:24:08.397861Z",
     "shell.execute_reply": "2020-08-26T08:24:08.397455Z"
    },
    "papermill": {
     "duration": 0.017431,
     "end_time": "2020-08-26T08:24:08.397981",
     "exception": false,
     "start_time": "2020-08-26T08:24:08.380550",
     "status": "completed"
    },
    "tags": [
     "remove_cell"
    ]
   },
   "outputs": [],
   "source": [
    "# Create updated date string\n",
    "update_tag = \"Table last updated by CDPH on \" + update_date.split(\" on \", 1)[1] + \".\""
   ]
  },
  {
   "cell_type": "code",
   "execution_count": 9,
   "metadata": {
    "execution": {
     "iopub.execute_input": "2020-08-26T08:24:08.425063Z",
     "iopub.status.busy": "2020-08-26T08:24:08.424559Z",
     "iopub.status.idle": "2020-08-26T08:24:08.443523Z",
     "shell.execute_reply": "2020-08-26T08:24:08.444368Z"
    },
    "papermill": {
     "duration": 0.034854,
     "end_time": "2020-08-26T08:24:08.444532",
     "exception": false,
     "start_time": "2020-08-26T08:24:08.409678",
     "status": "completed"
    },
    "slideshow": {
     "slide_type": "skip"
    },
    "tags": [
     "remove_cell"
    ]
   },
   "outputs": [],
   "source": [
    "# Set up Google Sheet API\n",
    "scope = [\"https://spreadsheets.google.com/feeds\",'https://www.googleapis.com/auth/spreadsheets',\"https://www.googleapis.com/auth/drive.file\",\"https://www.googleapis.com/auth/drive\"]\n",
    "creds = ServiceAccountCredentials.from_json_keyfile_name(\"credentials.json\", scope)\n",
    "client = gspread.authorize(creds)"
   ]
  },
  {
   "cell_type": "code",
   "execution_count": 10,
   "metadata": {
    "execution": {
     "iopub.execute_input": "2020-08-26T08:24:08.503867Z",
     "iopub.status.busy": "2020-08-26T08:24:08.503331Z",
     "iopub.status.idle": "2020-08-26T08:24:10.064362Z",
     "shell.execute_reply": "2020-08-26T08:24:10.065160Z"
    },
    "papermill": {
     "duration": 1.609298,
     "end_time": "2020-08-26T08:24:10.065325",
     "exception": false,
     "start_time": "2020-08-26T08:24:08.456027",
     "status": "completed"
    },
    "slideshow": {
     "slide_type": "skip"
    },
    "tags": [
     "remove_cell"
    ]
   },
   "outputs": [
    {
     "data": {
      "text/plain": [
       "{'spreadsheetId': '1pcqdMzKtea2Oq3BDmdAOQ21gZjCssieKI0692VfNLXU',\n",
       " 'updatedRange': 'Sheet1!A2:G2',\n",
       " 'updatedRows': 1,\n",
       " 'updatedColumns': 7,\n",
       " 'updatedCells': 7}"
      ]
     },
     "execution_count": 10,
     "metadata": {},
     "output_type": "execute_result"
    }
   ],
   "source": [
    "# Append daily data as a new row in Google Sheet\n",
    "sheet = client.open(\"Test cron job\").sheet1\n",
    "insertRow = [datetime.date.today().strftime(\"%Y-%m-%d\"),\n",
    "             daily_tests,\n",
    "             case_rate,\n",
    "             test_positivity,\n",
    "             change_hospit,\n",
    "             ICU_beds,\n",
    "             ventilators]\n",
    "sheet.insert_row(insertRow, 2)"
   ]
  },
  {
   "cell_type": "code",
   "execution_count": 11,
   "metadata": {
    "execution": {
     "iopub.execute_input": "2020-08-26T08:24:10.094425Z",
     "iopub.status.busy": "2020-08-26T08:24:10.093882Z",
     "iopub.status.idle": "2020-08-26T08:24:11.041739Z",
     "shell.execute_reply": "2020-08-26T08:24:11.042589Z"
    },
    "papermill": {
     "duration": 0.965624,
     "end_time": "2020-08-26T08:24:11.042764",
     "exception": false,
     "start_time": "2020-08-26T08:24:10.077140",
     "status": "completed"
    },
    "scrolled": true,
    "slideshow": {
     "slide_type": "slide"
    },
    "tags": [
     "remove_cell"
    ]
   },
   "outputs": [],
   "source": [
    "# Extract data from Google Sheet as pandas dataframe\n",
    "sheet = client.open(\"Test cron job\").sheet1\n",
    "data = sheet.get_all_records()\n",
    "result = pd.DataFrame(data).set_index(\"Date\")"
   ]
  },
  {
   "cell_type": "code",
   "execution_count": 12,
   "metadata": {
    "execution": {
     "iopub.execute_input": "2020-08-26T08:24:11.071777Z",
     "iopub.status.busy": "2020-08-26T08:24:11.071244Z",
     "iopub.status.idle": "2020-08-26T08:24:12.285382Z",
     "shell.execute_reply": "2020-08-26T08:24:12.286165Z"
    },
    "papermill": {
     "duration": 1.231693,
     "end_time": "2020-08-26T08:24:12.286331",
     "exception": false,
     "start_time": "2020-08-26T08:24:11.054638",
     "status": "completed"
    },
    "scrolled": true,
    "tags": [
     "remove_input"
    ]
   },
   "outputs": [
    {
     "data": {
      "text/html": [
       "<style  type=\"text/css\" >\n",
       "    #T_855ba706_e775_11ea_adde_42010a8a0004 th {\n",
       "          text-align: center;\n",
       "    }#T_855ba706_e775_11ea_adde_42010a8a0004row0_col0,#T_855ba706_e775_11ea_adde_42010a8a0004row1_col0{\n",
       "            width:  20em;\n",
       "            text-align:  center;\n",
       "            font-weight:  bold;\n",
       "        }#T_855ba706_e775_11ea_adde_42010a8a0004row0_col1,#T_855ba706_e775_11ea_adde_42010a8a0004row0_col2,#T_855ba706_e775_11ea_adde_42010a8a0004row1_col1,#T_855ba706_e775_11ea_adde_42010a8a0004row1_col2{\n",
       "            width:  20em;\n",
       "            text-align:  center;\n",
       "        }</style><table id=\"T_855ba706_e775_11ea_adde_42010a8a0004\" ><thead>    <tr>        <th class=\"col_heading level0 col0\" >Date</th>        <th class=\"col_heading level0 col1\" >Time</th>        <th class=\"col_heading level0 col2\" ></th>    </tr></thead><tbody>\n",
       "                <tr>\n",
       "                                <td id=\"T_855ba706_e775_11ea_adde_42010a8a0004row0_col0\" class=\"data row0 col0\" >2020-08-26</td>\n",
       "                        <td id=\"T_855ba706_e775_11ea_adde_42010a8a0004row0_col1\" class=\"data row0 col1\" >222.1</td>\n",
       "                        <td id=\"T_855ba706_e775_11ea_adde_42010a8a0004row0_col2\" class=\"data row0 col2\" > ✔</td>\n",
       "            </tr>\n",
       "            <tr>\n",
       "                                <td id=\"T_855ba706_e775_11ea_adde_42010a8a0004row1_col0\" class=\"data row1 col0\" >2020-08-26</td>\n",
       "                        <td id=\"T_855ba706_e775_11ea_adde_42010a8a0004row1_col1\" class=\"data row1 col1\" >222.1</td>\n",
       "                        <td id=\"T_855ba706_e775_11ea_adde_42010a8a0004row1_col2\" class=\"data row1 col2\" > ✔</td>\n",
       "            </tr>\n",
       "    </tbody></table>"
      ],
      "text/plain": [
       "<pandas.io.formats.style.Styler at 0x7fed666a7390>"
      ]
     },
     "execution_count": 12,
     "metadata": {},
     "output_type": "execute_result"
    }
   ],
   "source": [
    "# Style the pandas dataframe\n",
    "d = dict(selector=\"th\",\n",
    "         props=[('text-align', 'center')])\n",
    "\n",
    "result.reset_index().style\\\n",
    "    .set_properties(**{'width':'20em', 'text-align':'center'})\\\n",
    "    .set_properties(subset=['Date'], **{'font-weight': 'bold'})\\\n",
    "    .set_table_styles([d])\\\n",
    "    .set_precision(1)\\\n",
    "    .hide_index()"
   ]
  },
  {
   "cell_type": "markdown",
   "metadata": {
    "papermill": {
     "duration": 0.011606,
     "end_time": "2020-08-26T08:24:12.311095",
     "exception": false,
     "start_time": "2020-08-26T08:24:12.299489",
     "status": "completed"
    },
    "tags": []
   },
   "source": [
    "<sup>Notes: (1) 7 day average with a 7-day lag. (2) 14 day average. (3) 7 day average with a 7-day lag. (4) Change in 3 day average.</sup>"
   ]
  },
  {
   "cell_type": "code",
   "execution_count": 13,
   "metadata": {
    "execution": {
     "iopub.execute_input": "2020-08-26T08:24:12.341213Z",
     "iopub.status.busy": "2020-08-26T08:24:12.340703Z",
     "iopub.status.idle": "2020-08-26T08:24:12.344789Z",
     "shell.execute_reply": "2020-08-26T08:24:12.345156Z"
    },
    "papermill": {
     "duration": 0.021628,
     "end_time": "2020-08-26T08:24:12.345306",
     "exception": false,
     "start_time": "2020-08-26T08:24:12.323678",
     "status": "completed"
    },
    "tags": [
     "remove_input"
    ]
   },
   "outputs": [
    {
     "data": {
      "text/markdown": [
       "Table last updated by CDPH on August 25, 2020."
      ],
      "text/plain": [
       "<IPython.core.display.Markdown object>"
      ]
     },
     "execution_count": 13,
     "metadata": {},
     "output_type": "execute_result"
    }
   ],
   "source": [
    "md(update_tag)"
   ]
  },
  {
   "cell_type": "markdown",
   "metadata": {
    "papermill": {
     "duration": 0.012105,
     "end_time": "2020-08-26T08:24:12.369418",
     "exception": false,
     "start_time": "2020-08-26T08:24:12.357313",
     "status": "completed"
    },
    "tags": []
   },
   "source": [
    "## Tracking county closures in Santa Barbara"
   ]
  },
  {
   "cell_type": "markdown",
   "metadata": {
    "papermill": {
     "duration": 0.011826,
     "end_time": "2020-08-26T08:24:12.393692",
     "exception": false,
     "start_time": "2020-08-26T08:24:12.381866",
     "status": "completed"
    },
    "tags": []
   },
   "source": [
    "The state of California is using a data-driven approach informed by scientific evidence to tailor its response to COVID-19. Three dimensions of concern are monitored to assess whether a county should be placed on the County Monitoring List:\n",
    " 1. Elevated Disease Transmission\n",
    " 2. Increasing Hospitalization\n",
    " 3. Limited Hospital Capacity\n",
    "\n",
    "Once a county appears on the County Monitoring List for three consecutive days, indoor operations in the sectors listed in Section 3 of the [July 13th State Health Officer Order](https://www.cdph.ca.gov/Programs/CID/DCDC/CDPH%20Document%20Library/COVID-19/SHO%20Order%20Dimming%20Entire%20State%207-13-2020.pdf) must close.\n",
    "\n",
    "This table tracks where Santa Barbara stands in terms of the criteria for inclusion on the County Monitoring List. As of 20 August 2020, the criteria for inclusion on the monitoring list are:\n",
    "\n",
    "* Case rate >100 OR (Case rate >25 AND Positivity >8%)\n",
    "* \\>10% increase in hospitalizations\n",
    "* <20% ICU beds available OR <25% ventilators available\n",
    "\n",
    "If Santa Barbara meets the criteria for removal from the County Monitoring List for a certain metric, then a checkmark ✔ is displayed in the table.\n",
    "\n",
    "Read more at <https://covid19.ca.gov/roadmap-counties/>.\n",
    "\n",
    "Data source for county metrics: https://www.cdph.ca.gov/Programs/CID/DCDC/Pages/COVID-19/COVID19CountyDataTable.aspx."
   ]
  },
  {
   "cell_type": "markdown",
   "metadata": {
    "papermill": {
     "duration": 0.011844,
     "end_time": "2020-08-26T08:24:12.417505",
     "exception": false,
     "start_time": "2020-08-26T08:24:12.405661",
     "status": "completed"
    },
    "tags": []
   },
   "source": [
    "**See the code used to scrape the data: https://github.com/walice/COVID-SB/.**"
   ]
  },
  {
   "cell_type": "code",
   "execution_count": 14,
   "metadata": {
    "execution": {
     "iopub.execute_input": "2020-08-26T08:24:12.447528Z",
     "iopub.status.busy": "2020-08-26T08:24:12.446995Z",
     "iopub.status.idle": "2020-08-26T08:24:12.450164Z",
     "shell.execute_reply": "2020-08-26T08:24:12.450546Z"
    },
    "papermill": {
     "duration": 0.021167,
     "end_time": "2020-08-26T08:24:12.450700",
     "exception": false,
     "start_time": "2020-08-26T08:24:12.429533",
     "status": "completed"
    },
    "tags": [
     "remove_cell"
    ]
   },
   "outputs": [
    {
     "data": {
      "application/javascript": [
       "IPython.notebook.save_notebook()\n"
      ],
      "text/plain": [
       "<IPython.core.display.Javascript object>"
      ]
     },
     "metadata": {},
     "output_type": "display_data"
    }
   ],
   "source": [
    "%%javascript\n",
    "IPython.notebook.save_notebook()"
   ]
  },
  {
   "cell_type": "code",
   "execution_count": 15,
   "metadata": {
    "execution": {
     "iopub.execute_input": "2020-08-26T08:24:12.483292Z",
     "iopub.status.busy": "2020-08-26T08:24:12.482781Z",
     "iopub.status.idle": "2020-08-26T08:24:12.613568Z",
     "shell.execute_reply": "2020-08-26T08:24:12.612603Z"
    },
    "papermill": {
     "duration": 0.150718,
     "end_time": "2020-08-26T08:24:12.613706",
     "exception": false,
     "start_time": "2020-08-26T08:24:12.462988",
     "status": "completed"
    },
    "slideshow": {
     "slide_type": "skip"
    },
    "tags": [
     "remove_cell"
    ]
   },
   "outputs": [
    {
     "name": "stdout",
     "output_type": "stream",
     "text": [
      "/bin/sh: 1: jupyter: not found\r\n"
     ]
    }
   ],
   "source": [
    "# Convert Jupyter Notebook to HTML\n",
    "! jupyter nbconvert \"index.ipynb\" --to html --TagRemovePreprocessor.enabled=True --TagRemovePreprocessor.remove_cell_tags=\"['remove_cell']\" --TagRemovePreprocessor.remove_input_tags=\"['remove_input']\" --no-prompt"
   ]
  },
  {
   "cell_type": "code",
   "execution_count": 16,
   "metadata": {
    "execution": {
     "iopub.execute_input": "2020-08-26T08:24:12.643916Z",
     "iopub.status.busy": "2020-08-26T08:24:12.643429Z",
     "iopub.status.idle": "2020-08-26T08:24:12.645679Z",
     "shell.execute_reply": "2020-08-26T08:24:12.646040Z"
    },
    "papermill": {
     "duration": 0.019577,
     "end_time": "2020-08-26T08:24:12.646213",
     "exception": false,
     "start_time": "2020-08-26T08:24:12.626636",
     "status": "completed"
    },
    "tags": [
     "remove_cell"
    ]
   },
   "outputs": [],
   "source": [
    "# Create daily commit message\n",
    "now = datetime.datetime.now()\n",
    "commit_message = \"Last scraped on \" + str(now)"
   ]
  },
  {
   "cell_type": "code",
   "execution_count": null,
   "metadata": {
    "execution": {
     "iopub.execute_input": "2020-08-26T08:23:13.159504Z",
     "iopub.status.busy": "2020-08-26T08:23:13.159030Z",
     "iopub.status.idle": "2020-08-26T08:23:17.841814Z",
     "shell.execute_reply": "2020-08-26T08:23:17.840632Z"
    },
    "papermill": {
     "duration": null,
     "end_time": null,
     "exception": false,
     "start_time": "2020-08-26T08:24:12.658412",
     "status": "running"
    },
    "tags": [
     "remove_cell"
    ]
   },
   "outputs": [],
   "source": [
    "# Deploy to GitHub\n",
    "! git add .\n",
    "! echo $commit_message > commit_message.txt\n",
    "! git commit -F commit_message.txt\n",
    "! git push"
   ]
  }
 ],
 "metadata": {
  "celltoolbar": "Tags",
  "kernelspec": {
   "display_name": "Python 3",
   "language": "python",
   "name": "python3"
  },
  "language_info": {
   "codemirror_mode": {
    "name": "ipython",
    "version": 3
   },
   "file_extension": ".py",
   "mimetype": "text/x-python",
   "name": "python",
   "nbconvert_exporter": "python",
   "pygments_lexer": "ipython3",
   "version": "3.7.3"
  },
  "papermill": {
   "duration": null,
   "end_time": null,
   "environment_variables": {},
   "exception": null,
   "input_path": "/home/alice_lepissier/cron-job/index.ipynb",
   "output_path": "/home/alice_lepissier/cron-job/index.ipynb",
   "parameters": {},
   "start_time": "2020-08-26T08:24:03.563167",
   "version": "2.1.3"
  }
 },
 "nbformat": 4,
 "nbformat_minor": 4
}