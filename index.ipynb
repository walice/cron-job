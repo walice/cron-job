{
 "cells": [
  {
   "cell_type": "markdown",
   "metadata": {
    "papermill": {
     "duration": 0.012022,
     "end_time": "2020-08-26T08:44:02.888674",
     "exception": false,
     "start_time": "2020-08-26T08:44:02.876652",
     "status": "completed"
    },
    "tags": []
   },
   "source": [
    "# Daily COVID monitoring data for Santa Barbara county"
   ]
  },
  {
   "cell_type": "code",
   "execution_count": 1,
   "metadata": {
    "execution": {
     "iopub.execute_input": "2020-08-26T08:44:02.918755Z",
     "iopub.status.busy": "2020-08-26T08:44:02.918200Z",
     "iopub.status.idle": "2020-08-26T08:44:03.030397Z",
     "shell.execute_reply": "2020-08-26T08:44:03.029397Z"
    },
    "papermill": {
     "duration": 0.130571,
     "end_time": "2020-08-26T08:44:03.030548",
     "exception": false,
     "start_time": "2020-08-26T08:44:02.899977",
     "status": "completed"
    },
    "tags": [
     "remove_cell"
    ]
   },
   "outputs": [
    {
     "name": "stdout",
     "output_type": "stream",
     "text": [
      "/bin/sh: 1: jt: not found\r\n"
     ]
    }
   ],
   "source": [
    "! jt -t grade3 -tf robotosans -cellw 1100"
   ]
  },
  {
   "cell_type": "markdown",
   "metadata": {
    "papermill": {
     "duration": 0.011129,
     "end_time": "2020-08-26T08:44:03.053418",
     "exception": false,
     "start_time": "2020-08-26T08:44:03.042289",
     "status": "completed"
    },
    "tags": []
   },
   "source": [
    "This table is automatically updated with new daily COVID data for the county of Santa Barbara, CA. Every day, the California Department of Public Health publishes COVID tracking metrics for each county, but does not save the previous day's data. This tool keeps track of the daily metrics that are used to monitor progress towards safe reopening in California."
   ]
  },
  {
   "cell_type": "code",
   "execution_count": 2,
   "metadata": {
    "execution": {
     "iopub.execute_input": "2020-08-26T08:44:03.083664Z",
     "iopub.status.busy": "2020-08-26T08:44:03.083144Z",
     "iopub.status.idle": "2020-08-26T08:44:03.500263Z",
     "shell.execute_reply": "2020-08-26T08:44:03.501123Z"
    },
    "papermill": {
     "duration": 0.436836,
     "end_time": "2020-08-26T08:44:03.501296",
     "exception": false,
     "start_time": "2020-08-26T08:44:03.064460",
     "status": "completed"
    },
    "slideshow": {
     "slide_type": "skip"
    },
    "tags": [
     "remove_cell"
    ]
   },
   "outputs": [],
   "source": [
    "# Preamble\n",
    "import os\n",
    "from IPython.display import Markdown as md\n",
    "import IPython\n",
    "import requests\n",
    "from bs4 import BeautifulSoup\n",
    "import re\n",
    "import pandas as pd\n",
    "import datetime\n",
    "import gspread\n",
    "from oauth2client.service_account import ServiceAccountCredentials"
   ]
  },
  {
   "cell_type": "code",
   "execution_count": 3,
   "metadata": {
    "execution": {
     "iopub.execute_input": "2020-08-26T08:44:03.530026Z",
     "iopub.status.busy": "2020-08-26T08:44:03.529383Z",
     "iopub.status.idle": "2020-08-26T08:44:03.530938Z",
     "shell.execute_reply": "2020-08-26T08:44:03.530532Z"
    },
    "papermill": {
     "duration": 0.018099,
     "end_time": "2020-08-26T08:44:03.531067",
     "exception": false,
     "start_time": "2020-08-26T08:44:03.512968",
     "status": "completed"
    },
    "tags": []
   },
   "outputs": [],
   "source": [
    "# Set working directory\n",
    "os.chdir(\"/home/alice_lepissier/cron-job\")"
   ]
  },
  {
   "cell_type": "code",
   "execution_count": 4,
   "metadata": {
    "execution": {
     "iopub.execute_input": "2020-08-26T08:44:03.559573Z",
     "iopub.status.busy": "2020-08-26T08:44:03.559061Z",
     "iopub.status.idle": "2020-08-26T08:44:03.833530Z",
     "shell.execute_reply": "2020-08-26T08:44:03.834469Z"
    },
    "papermill": {
     "duration": 0.292506,
     "end_time": "2020-08-26T08:44:03.834645",
     "exception": false,
     "start_time": "2020-08-26T08:44:03.542139",
     "status": "completed"
    },
    "slideshow": {
     "slide_type": "skip"
    },
    "tags": [
     "remove_cell"
    ]
   },
   "outputs": [],
   "source": [
    "# Request content from URL\n",
    "html_string = requests.get('https://www.cdph.ca.gov/Programs/CID/DCDC/Pages/COVID-19/COVID19CountyDataTable.aspx').content"
   ]
  },
  {
   "cell_type": "code",
   "execution_count": 5,
   "metadata": {
    "execution": {
     "iopub.execute_input": "2020-08-26T08:44:03.867662Z",
     "iopub.status.busy": "2020-08-26T08:44:03.867112Z",
     "iopub.status.idle": "2020-08-26T08:44:03.952491Z",
     "shell.execute_reply": "2020-08-26T08:44:03.953368Z"
    },
    "papermill": {
     "duration": 0.106744,
     "end_time": "2020-08-26T08:44:03.953538",
     "exception": false,
     "start_time": "2020-08-26T08:44:03.846794",
     "status": "completed"
    },
    "slideshow": {
     "slide_type": "skip"
    },
    "tags": [
     "remove_cell"
    ]
   },
   "outputs": [],
   "source": [
    "# Parse HTML\n",
    "soup = BeautifulSoup(html_string, 'html.parser')"
   ]
  },
  {
   "cell_type": "code",
   "execution_count": 6,
   "metadata": {
    "execution": {
     "iopub.execute_input": "2020-08-26T08:44:03.983508Z",
     "iopub.status.busy": "2020-08-26T08:44:03.983004Z",
     "iopub.status.idle": "2020-08-26T08:44:03.991724Z",
     "shell.execute_reply": "2020-08-26T08:44:03.992586Z"
    },
    "papermill": {
     "duration": 0.0273,
     "end_time": "2020-08-26T08:44:03.992758",
     "exception": false,
     "start_time": "2020-08-26T08:44:03.965458",
     "status": "completed"
    },
    "slideshow": {
     "slide_type": "skip"
    },
    "tags": [
     "remove_cell"
    ]
   },
   "outputs": [],
   "source": [
    "# Extract data for Santa Barbara\n",
    "table = soup.find_all(\"tr\", class_=\"ms-rteTableEvenRow-3\")\n",
    "SB = table[21]"
   ]
  },
  {
   "cell_type": "code",
   "execution_count": 7,
   "metadata": {
    "execution": {
     "iopub.execute_input": "2020-08-26T08:44:04.023553Z",
     "iopub.status.busy": "2020-08-26T08:44:04.023042Z",
     "iopub.status.idle": "2020-08-26T08:44:04.034182Z",
     "shell.execute_reply": "2020-08-26T08:44:04.034984Z"
    },
    "papermill": {
     "duration": 0.030903,
     "end_time": "2020-08-26T08:44:04.035147",
     "exception": false,
     "start_time": "2020-08-26T08:44:04.004244",
     "status": "completed"
    },
    "slideshow": {
     "slide_type": "skip"
    },
    "tags": [
     "remove_cell"
    ]
   },
   "outputs": [],
   "source": [
    "# Avg # tests per day (per 100,000 population)\n",
    "daily_tests = SB.find_all(\"td\", class_=\"ms-rteTableOddCol-3\")[0].text\n",
    "\n",
    "# Case rate per 100,000\n",
    "case_rate = SB.find_all(\"td\", class_=\"ms-rteTableEvenCol-3\")[1].text\n",
    "\n",
    "# Testing positivity (%)\n",
    "test_positivity = SB.find_all(\"td\", class_=\"ms-rteTableOddCol-3\")[1].text\n",
    "\n",
    "# % Change in 3-day avg COVID+ hospitalized patients\n",
    "change_hospit = SB.find_all(\"td\", class_=\"ms-rteTableEvenCol-3\")[2].text\n",
    "\n",
    "# % ICU beds currently available\n",
    "ICU_beds = SB.find_all(\"td\", class_=\"ms-rteTableOddCol-3\")[2].text\n",
    "\n",
    "# % Ventilators currently available\n",
    "ventilators = SB.find_all(\"td\", class_=\"ms-rteTableEvenCol-3\")[3].text\n",
    "\n",
    "# Extract date of last update\n",
    "update_date = soup.find_all(\"span\", class_=\"ms-rteStyle-Accent1\")[1]\\\n",
    "    .find(\"em\").text"
   ]
  },
  {
   "cell_type": "code",
   "execution_count": 8,
   "metadata": {
    "execution": {
     "iopub.execute_input": "2020-08-26T08:44:04.063648Z",
     "iopub.status.busy": "2020-08-26T08:44:04.063035Z",
     "iopub.status.idle": "2020-08-26T08:44:04.064515Z",
     "shell.execute_reply": "2020-08-26T08:44:04.064115Z"
    },
    "papermill": {
     "duration": 0.017945,
     "end_time": "2020-08-26T08:44:04.064635",
     "exception": false,
     "start_time": "2020-08-26T08:44:04.046690",
     "status": "completed"
    },
    "tags": [
     "remove_cell"
    ]
   },
   "outputs": [],
   "source": [
    "# Create updated date string\n",
    "update_tag = \"Table last updated by CDPH on \" + update_date.split(\" on \", 1)[1] + \".\""
   ]
  },
  {
   "cell_type": "code",
   "execution_count": 9,
   "metadata": {
    "execution": {
     "iopub.execute_input": "2020-08-26T08:44:04.093957Z",
     "iopub.status.busy": "2020-08-26T08:44:04.093453Z",
     "iopub.status.idle": "2020-08-26T08:44:04.096548Z",
     "shell.execute_reply": "2020-08-26T08:44:04.097366Z"
    },
    "papermill": {
     "duration": 0.021659,
     "end_time": "2020-08-26T08:44:04.097524",
     "exception": false,
     "start_time": "2020-08-26T08:44:04.075865",
     "status": "completed"
    },
    "slideshow": {
     "slide_type": "skip"
    },
    "tags": [
     "remove_cell"
    ]
   },
   "outputs": [],
   "source": [
    "# Set up Google Sheet API\n",
    "scope = [\"https://spreadsheets.google.com/feeds\",'https://www.googleapis.com/auth/spreadsheets',\"https://www.googleapis.com/auth/drive.file\",\"https://www.googleapis.com/auth/drive\"]\n",
    "creds = ServiceAccountCredentials.from_json_keyfile_name(\"credentials.json\", scope)\n",
    "client = gspread.authorize(creds)"
   ]
  },
  {
   "cell_type": "code",
   "execution_count": 10,
   "metadata": {
    "execution": {
     "iopub.execute_input": "2020-08-26T08:44:04.127521Z",
     "iopub.status.busy": "2020-08-26T08:44:04.127024Z",
     "iopub.status.idle": "2020-08-26T08:44:05.625265Z",
     "shell.execute_reply": "2020-08-26T08:44:05.626022Z"
    },
    "papermill": {
     "duration": 1.517331,
     "end_time": "2020-08-26T08:44:05.626223",
     "exception": false,
     "start_time": "2020-08-26T08:44:04.108892",
     "status": "completed"
    },
    "slideshow": {
     "slide_type": "skip"
    },
    "tags": [
     "remove_cell"
    ]
   },
   "outputs": [
    {
     "data": {
      "text/plain": [
       "{'spreadsheetId': '1pcqdMzKtea2Oq3BDmdAOQ21gZjCssieKI0692VfNLXU',\n",
       " 'updatedRange': 'Sheet1!A2:G2',\n",
       " 'updatedRows': 1,\n",
       " 'updatedColumns': 7,\n",
       " 'updatedCells': 7}"
      ]
     },
     "execution_count": 10,
     "metadata": {},
     "output_type": "execute_result"
    }
   ],
   "source": [
    "# Append daily data as a new row in Google Sheet\n",
    "sheet = client.open(\"Test cron job\").sheet1\n",
    "insertRow = [datetime.date.today().strftime(\"%Y-%m-%d\"),\n",
    "             daily_tests,\n",
    "             case_rate,\n",
    "             test_positivity,\n",
    "             change_hospit,\n",
    "             ICU_beds,\n",
    "             ventilators]\n",
    "sheet.insert_row(insertRow, 2)"
   ]
  },
  {
   "cell_type": "code",
   "execution_count": 11,
   "metadata": {
    "execution": {
     "iopub.execute_input": "2020-08-26T08:44:05.654837Z",
     "iopub.status.busy": "2020-08-26T08:44:05.654349Z",
     "iopub.status.idle": "2020-08-26T08:44:06.345626Z",
     "shell.execute_reply": "2020-08-26T08:44:06.346448Z"
    },
    "papermill": {
     "duration": 0.708277,
     "end_time": "2020-08-26T08:44:06.346612",
     "exception": false,
     "start_time": "2020-08-26T08:44:05.638335",
     "status": "completed"
    },
    "scrolled": true,
    "slideshow": {
     "slide_type": "slide"
    },
    "tags": [
     "remove_cell"
    ]
   },
   "outputs": [],
   "source": [
    "# Extract data from Google Sheet as pandas dataframe\n",
    "sheet = client.open(\"Test cron job\").sheet1\n",
    "data = sheet.get_all_records()\n",
    "result = pd.DataFrame(data).set_index(\"Date\")"
   ]
  },
  {
   "cell_type": "code",
   "execution_count": 12,
   "metadata": {
    "execution": {
     "iopub.execute_input": "2020-08-26T08:44:06.376557Z",
     "iopub.status.busy": "2020-08-26T08:44:06.375964Z",
     "iopub.status.idle": "2020-08-26T08:44:06.693083Z",
     "shell.execute_reply": "2020-08-26T08:44:06.693765Z"
    },
    "papermill": {
     "duration": 0.335418,
     "end_time": "2020-08-26T08:44:06.693932",
     "exception": false,
     "start_time": "2020-08-26T08:44:06.358514",
     "status": "completed"
    },
    "scrolled": true,
    "tags": [
     "remove_input"
    ]
   },
   "outputs": [
    {
     "data": {
      "text/html": [
       "<style  type=\"text/css\" >\n",
       "    #T_4d478f62_e778_11ea_bc11_42010a8a0004 th {\n",
       "          text-align: center;\n",
       "    }#T_4d478f62_e778_11ea_bc11_42010a8a0004row0_col0,#T_4d478f62_e778_11ea_bc11_42010a8a0004row1_col0,#T_4d478f62_e778_11ea_bc11_42010a8a0004row2_col0,#T_4d478f62_e778_11ea_bc11_42010a8a0004row3_col0,#T_4d478f62_e778_11ea_bc11_42010a8a0004row4_col0,#T_4d478f62_e778_11ea_bc11_42010a8a0004row5_col0,#T_4d478f62_e778_11ea_bc11_42010a8a0004row6_col0,#T_4d478f62_e778_11ea_bc11_42010a8a0004row7_col0,#T_4d478f62_e778_11ea_bc11_42010a8a0004row8_col0,#T_4d478f62_e778_11ea_bc11_42010a8a0004row9_col0,#T_4d478f62_e778_11ea_bc11_42010a8a0004row10_col0,#T_4d478f62_e778_11ea_bc11_42010a8a0004row11_col0,#T_4d478f62_e778_11ea_bc11_42010a8a0004row12_col0,#T_4d478f62_e778_11ea_bc11_42010a8a0004row13_col0,#T_4d478f62_e778_11ea_bc11_42010a8a0004row14_col0,#T_4d478f62_e778_11ea_bc11_42010a8a0004row15_col0{\n",
       "            width:  20em;\n",
       "            text-align:  center;\n",
       "            font-weight:  bold;\n",
       "        }#T_4d478f62_e778_11ea_bc11_42010a8a0004row0_col1,#T_4d478f62_e778_11ea_bc11_42010a8a0004row0_col2,#T_4d478f62_e778_11ea_bc11_42010a8a0004row1_col1,#T_4d478f62_e778_11ea_bc11_42010a8a0004row1_col2,#T_4d478f62_e778_11ea_bc11_42010a8a0004row2_col1,#T_4d478f62_e778_11ea_bc11_42010a8a0004row2_col2,#T_4d478f62_e778_11ea_bc11_42010a8a0004row3_col1,#T_4d478f62_e778_11ea_bc11_42010a8a0004row3_col2,#T_4d478f62_e778_11ea_bc11_42010a8a0004row4_col1,#T_4d478f62_e778_11ea_bc11_42010a8a0004row4_col2,#T_4d478f62_e778_11ea_bc11_42010a8a0004row5_col1,#T_4d478f62_e778_11ea_bc11_42010a8a0004row5_col2,#T_4d478f62_e778_11ea_bc11_42010a8a0004row6_col1,#T_4d478f62_e778_11ea_bc11_42010a8a0004row6_col2,#T_4d478f62_e778_11ea_bc11_42010a8a0004row7_col1,#T_4d478f62_e778_11ea_bc11_42010a8a0004row7_col2,#T_4d478f62_e778_11ea_bc11_42010a8a0004row8_col1,#T_4d478f62_e778_11ea_bc11_42010a8a0004row8_col2,#T_4d478f62_e778_11ea_bc11_42010a8a0004row9_col1,#T_4d478f62_e778_11ea_bc11_42010a8a0004row9_col2,#T_4d478f62_e778_11ea_bc11_42010a8a0004row10_col1,#T_4d478f62_e778_11ea_bc11_42010a8a0004row10_col2,#T_4d478f62_e778_11ea_bc11_42010a8a0004row11_col1,#T_4d478f62_e778_11ea_bc11_42010a8a0004row11_col2,#T_4d478f62_e778_11ea_bc11_42010a8a0004row12_col1,#T_4d478f62_e778_11ea_bc11_42010a8a0004row12_col2,#T_4d478f62_e778_11ea_bc11_42010a8a0004row13_col1,#T_4d478f62_e778_11ea_bc11_42010a8a0004row13_col2,#T_4d478f62_e778_11ea_bc11_42010a8a0004row14_col1,#T_4d478f62_e778_11ea_bc11_42010a8a0004row14_col2,#T_4d478f62_e778_11ea_bc11_42010a8a0004row15_col1,#T_4d478f62_e778_11ea_bc11_42010a8a0004row15_col2{\n",
       "            width:  20em;\n",
       "            text-align:  center;\n",
       "        }</style><table id=\"T_4d478f62_e778_11ea_bc11_42010a8a0004\" ><thead>    <tr>        <th class=\"col_heading level0 col0\" >Date</th>        <th class=\"col_heading level0 col1\" >Time</th>        <th class=\"col_heading level0 col2\" ></th>    </tr></thead><tbody>\n",
       "                <tr>\n",
       "                                <td id=\"T_4d478f62_e778_11ea_bc11_42010a8a0004row0_col0\" class=\"data row0 col0\" >2020-08-26</td>\n",
       "                        <td id=\"T_4d478f62_e778_11ea_bc11_42010a8a0004row0_col1\" class=\"data row0 col1\" >222.1</td>\n",
       "                        <td id=\"T_4d478f62_e778_11ea_bc11_42010a8a0004row0_col2\" class=\"data row0 col2\" > ✔</td>\n",
       "            </tr>\n",
       "            <tr>\n",
       "                                <td id=\"T_4d478f62_e778_11ea_bc11_42010a8a0004row1_col0\" class=\"data row1 col0\" >2020-08-26</td>\n",
       "                        <td id=\"T_4d478f62_e778_11ea_bc11_42010a8a0004row1_col1\" class=\"data row1 col1\" >222.1</td>\n",
       "                        <td id=\"T_4d478f62_e778_11ea_bc11_42010a8a0004row1_col2\" class=\"data row1 col2\" > ✔</td>\n",
       "            </tr>\n",
       "            <tr>\n",
       "                                <td id=\"T_4d478f62_e778_11ea_bc11_42010a8a0004row2_col0\" class=\"data row2 col0\" >2020-08-26</td>\n",
       "                        <td id=\"T_4d478f62_e778_11ea_bc11_42010a8a0004row2_col1\" class=\"data row2 col1\" >222.1</td>\n",
       "                        <td id=\"T_4d478f62_e778_11ea_bc11_42010a8a0004row2_col2\" class=\"data row2 col2\" > ✔</td>\n",
       "            </tr>\n",
       "            <tr>\n",
       "                                <td id=\"T_4d478f62_e778_11ea_bc11_42010a8a0004row3_col0\" class=\"data row3 col0\" >2020-08-26</td>\n",
       "                        <td id=\"T_4d478f62_e778_11ea_bc11_42010a8a0004row3_col1\" class=\"data row3 col1\" >222.1</td>\n",
       "                        <td id=\"T_4d478f62_e778_11ea_bc11_42010a8a0004row3_col2\" class=\"data row3 col2\" > ✔</td>\n",
       "            </tr>\n",
       "            <tr>\n",
       "                                <td id=\"T_4d478f62_e778_11ea_bc11_42010a8a0004row4_col0\" class=\"data row4 col0\" >2020-08-26</td>\n",
       "                        <td id=\"T_4d478f62_e778_11ea_bc11_42010a8a0004row4_col1\" class=\"data row4 col1\" >222.1</td>\n",
       "                        <td id=\"T_4d478f62_e778_11ea_bc11_42010a8a0004row4_col2\" class=\"data row4 col2\" > ✔</td>\n",
       "            </tr>\n",
       "            <tr>\n",
       "                                <td id=\"T_4d478f62_e778_11ea_bc11_42010a8a0004row5_col0\" class=\"data row5 col0\" >2020-08-26</td>\n",
       "                        <td id=\"T_4d478f62_e778_11ea_bc11_42010a8a0004row5_col1\" class=\"data row5 col1\" >222.1</td>\n",
       "                        <td id=\"T_4d478f62_e778_11ea_bc11_42010a8a0004row5_col2\" class=\"data row5 col2\" > ✔</td>\n",
       "            </tr>\n",
       "            <tr>\n",
       "                                <td id=\"T_4d478f62_e778_11ea_bc11_42010a8a0004row6_col0\" class=\"data row6 col0\" >2020-08-26</td>\n",
       "                        <td id=\"T_4d478f62_e778_11ea_bc11_42010a8a0004row6_col1\" class=\"data row6 col1\" >222.1</td>\n",
       "                        <td id=\"T_4d478f62_e778_11ea_bc11_42010a8a0004row6_col2\" class=\"data row6 col2\" > ✔</td>\n",
       "            </tr>\n",
       "            <tr>\n",
       "                                <td id=\"T_4d478f62_e778_11ea_bc11_42010a8a0004row7_col0\" class=\"data row7 col0\" >2020-08-26</td>\n",
       "                        <td id=\"T_4d478f62_e778_11ea_bc11_42010a8a0004row7_col1\" class=\"data row7 col1\" >222.1</td>\n",
       "                        <td id=\"T_4d478f62_e778_11ea_bc11_42010a8a0004row7_col2\" class=\"data row7 col2\" > ✔</td>\n",
       "            </tr>\n",
       "            <tr>\n",
       "                                <td id=\"T_4d478f62_e778_11ea_bc11_42010a8a0004row8_col0\" class=\"data row8 col0\" >2020-08-26</td>\n",
       "                        <td id=\"T_4d478f62_e778_11ea_bc11_42010a8a0004row8_col1\" class=\"data row8 col1\" >222.1</td>\n",
       "                        <td id=\"T_4d478f62_e778_11ea_bc11_42010a8a0004row8_col2\" class=\"data row8 col2\" > ✔</td>\n",
       "            </tr>\n",
       "            <tr>\n",
       "                                <td id=\"T_4d478f62_e778_11ea_bc11_42010a8a0004row9_col0\" class=\"data row9 col0\" >2020-08-26</td>\n",
       "                        <td id=\"T_4d478f62_e778_11ea_bc11_42010a8a0004row9_col1\" class=\"data row9 col1\" >222.1</td>\n",
       "                        <td id=\"T_4d478f62_e778_11ea_bc11_42010a8a0004row9_col2\" class=\"data row9 col2\" > ✔</td>\n",
       "            </tr>\n",
       "            <tr>\n",
       "                                <td id=\"T_4d478f62_e778_11ea_bc11_42010a8a0004row10_col0\" class=\"data row10 col0\" >2020-08-26</td>\n",
       "                        <td id=\"T_4d478f62_e778_11ea_bc11_42010a8a0004row10_col1\" class=\"data row10 col1\" >222.1</td>\n",
       "                        <td id=\"T_4d478f62_e778_11ea_bc11_42010a8a0004row10_col2\" class=\"data row10 col2\" > ✔</td>\n",
       "            </tr>\n",
       "            <tr>\n",
       "                                <td id=\"T_4d478f62_e778_11ea_bc11_42010a8a0004row11_col0\" class=\"data row11 col0\" >2020-08-26</td>\n",
       "                        <td id=\"T_4d478f62_e778_11ea_bc11_42010a8a0004row11_col1\" class=\"data row11 col1\" >222.1</td>\n",
       "                        <td id=\"T_4d478f62_e778_11ea_bc11_42010a8a0004row11_col2\" class=\"data row11 col2\" > ✔</td>\n",
       "            </tr>\n",
       "            <tr>\n",
       "                                <td id=\"T_4d478f62_e778_11ea_bc11_42010a8a0004row12_col0\" class=\"data row12 col0\" >2020-08-26</td>\n",
       "                        <td id=\"T_4d478f62_e778_11ea_bc11_42010a8a0004row12_col1\" class=\"data row12 col1\" >222.1</td>\n",
       "                        <td id=\"T_4d478f62_e778_11ea_bc11_42010a8a0004row12_col2\" class=\"data row12 col2\" > ✔</td>\n",
       "            </tr>\n",
       "            <tr>\n",
       "                                <td id=\"T_4d478f62_e778_11ea_bc11_42010a8a0004row13_col0\" class=\"data row13 col0\" >2020-08-26</td>\n",
       "                        <td id=\"T_4d478f62_e778_11ea_bc11_42010a8a0004row13_col1\" class=\"data row13 col1\" >222.1</td>\n",
       "                        <td id=\"T_4d478f62_e778_11ea_bc11_42010a8a0004row13_col2\" class=\"data row13 col2\" > ✔</td>\n",
       "            </tr>\n",
       "            <tr>\n",
       "                                <td id=\"T_4d478f62_e778_11ea_bc11_42010a8a0004row14_col0\" class=\"data row14 col0\" >2020-08-26</td>\n",
       "                        <td id=\"T_4d478f62_e778_11ea_bc11_42010a8a0004row14_col1\" class=\"data row14 col1\" >222.1</td>\n",
       "                        <td id=\"T_4d478f62_e778_11ea_bc11_42010a8a0004row14_col2\" class=\"data row14 col2\" > ✔</td>\n",
       "            </tr>\n",
       "            <tr>\n",
       "                                <td id=\"T_4d478f62_e778_11ea_bc11_42010a8a0004row15_col0\" class=\"data row15 col0\" >2020-08-26</td>\n",
       "                        <td id=\"T_4d478f62_e778_11ea_bc11_42010a8a0004row15_col1\" class=\"data row15 col1\" >222.1</td>\n",
       "                        <td id=\"T_4d478f62_e778_11ea_bc11_42010a8a0004row15_col2\" class=\"data row15 col2\" > ✔</td>\n",
       "            </tr>\n",
       "    </tbody></table>"
      ],
      "text/plain": [
       "<pandas.io.formats.style.Styler at 0x7f3db55de400>"
      ]
     },
     "execution_count": 12,
     "metadata": {},
     "output_type": "execute_result"
    }
   ],
   "source": [
    "# Style the pandas dataframe\n",
    "d = dict(selector=\"th\",\n",
    "         props=[('text-align', 'center')])\n",
    "\n",
    "result.reset_index().style\\\n",
    "    .set_properties(**{'width':'20em', 'text-align':'center'})\\\n",
    "    .set_properties(subset=['Date'], **{'font-weight': 'bold'})\\\n",
    "    .set_table_styles([d])\\\n",
    "    .set_precision(1)\\\n",
    "    .hide_index()"
   ]
  },
  {
   "cell_type": "markdown",
   "metadata": {
    "papermill": {
     "duration": 0.011793,
     "end_time": "2020-08-26T08:44:06.718059",
     "exception": false,
     "start_time": "2020-08-26T08:44:06.706266",
     "status": "completed"
    },
    "tags": []
   },
   "source": [
    "<sup>Notes: (1) 7 day average with a 7-day lag. (2) 14 day average. (3) 7 day average with a 7-day lag. (4) Change in 3 day average.</sup>"
   ]
  },
  {
   "cell_type": "code",
   "execution_count": 13,
   "metadata": {
    "execution": {
     "iopub.execute_input": "2020-08-26T08:44:06.747912Z",
     "iopub.status.busy": "2020-08-26T08:44:06.747323Z",
     "iopub.status.idle": "2020-08-26T08:44:06.749465Z",
     "shell.execute_reply": "2020-08-26T08:44:06.748345Z"
    },
    "papermill": {
     "duration": 0.019659,
     "end_time": "2020-08-26T08:44:06.749575",
     "exception": false,
     "start_time": "2020-08-26T08:44:06.729916",
     "status": "completed"
    },
    "tags": [
     "remove_input"
    ]
   },
   "outputs": [
    {
     "data": {
      "text/markdown": [
       "Table last updated by CDPH on August 25, 2020."
      ],
      "text/plain": [
       "<IPython.core.display.Markdown object>"
      ]
     },
     "execution_count": 13,
     "metadata": {},
     "output_type": "execute_result"
    }
   ],
   "source": [
    "md(update_tag)"
   ]
  },
  {
   "cell_type": "markdown",
   "metadata": {
    "papermill": {
     "duration": 0.012203,
     "end_time": "2020-08-26T08:44:06.775299",
     "exception": false,
     "start_time": "2020-08-26T08:44:06.763096",
     "status": "completed"
    },
    "tags": []
   },
   "source": [
    "## Tracking county closures in Santa Barbara"
   ]
  },
  {
   "cell_type": "markdown",
   "metadata": {
    "papermill": {
     "duration": 0.011944,
     "end_time": "2020-08-26T08:44:06.799246",
     "exception": false,
     "start_time": "2020-08-26T08:44:06.787302",
     "status": "completed"
    },
    "tags": []
   },
   "source": [
    "The state of California is using a data-driven approach informed by scientific evidence to tailor its response to COVID-19. Three dimensions of concern are monitored to assess whether a county should be placed on the County Monitoring List:\n",
    " 1. Elevated Disease Transmission\n",
    " 2. Increasing Hospitalization\n",
    " 3. Limited Hospital Capacity\n",
    "\n",
    "Once a county appears on the County Monitoring List for three consecutive days, indoor operations in the sectors listed in Section 3 of the [July 13th State Health Officer Order](https://www.cdph.ca.gov/Programs/CID/DCDC/CDPH%20Document%20Library/COVID-19/SHO%20Order%20Dimming%20Entire%20State%207-13-2020.pdf) must close.\n",
    "\n",
    "This table tracks where Santa Barbara stands in terms of the criteria for inclusion on the County Monitoring List. As of 20 August 2020, the criteria for inclusion on the monitoring list are:\n",
    "\n",
    "* Case rate >100 OR (Case rate >25 AND Positivity >8%)\n",
    "* \\>10% increase in hospitalizations\n",
    "* <20% ICU beds available OR <25% ventilators available\n",
    "\n",
    "If Santa Barbara meets the criteria for removal from the County Monitoring List for a certain metric, then a checkmark ✔ is displayed in the table.\n",
    "\n",
    "Read more at <https://covid19.ca.gov/roadmap-counties/>.\n",
    "\n",
    "Data source for county metrics: https://www.cdph.ca.gov/Programs/CID/DCDC/Pages/COVID-19/COVID19CountyDataTable.aspx."
   ]
  },
  {
   "cell_type": "markdown",
   "metadata": {
    "papermill": {
     "duration": 0.012006,
     "end_time": "2020-08-26T08:44:06.823310",
     "exception": false,
     "start_time": "2020-08-26T08:44:06.811304",
     "status": "completed"
    },
    "tags": []
   },
   "source": [
    "**See the code used to scrape the data: https://github.com/walice/COVID-SB/.**"
   ]
  },
  {
   "cell_type": "code",
   "execution_count": 14,
   "metadata": {
    "execution": {
     "iopub.execute_input": "2020-08-26T08:44:06.852650Z",
     "iopub.status.busy": "2020-08-26T08:44:06.852165Z",
     "iopub.status.idle": "2020-08-26T08:44:06.855088Z",
     "shell.execute_reply": "2020-08-26T08:44:06.855452Z"
    },
    "papermill": {
     "duration": 0.020199,
     "end_time": "2020-08-26T08:44:06.855597",
     "exception": false,
     "start_time": "2020-08-26T08:44:06.835398",
     "status": "completed"
    },
    "tags": [
     "remove_cell"
    ]
   },
   "outputs": [
    {
     "data": {
      "application/javascript": [
       "IPython.notebook.save_notebook()\n"
      ],
      "text/plain": [
       "<IPython.core.display.Javascript object>"
      ]
     },
     "metadata": {},
     "output_type": "display_data"
    }
   ],
   "source": [
    "%%javascript\n",
    "IPython.notebook.save_notebook()"
   ]
  },
  {
   "cell_type": "code",
   "execution_count": 15,
   "metadata": {
    "execution": {
     "iopub.execute_input": "2020-08-26T08:44:06.887347Z",
     "iopub.status.busy": "2020-08-26T08:44:06.886705Z",
     "iopub.status.idle": "2020-08-26T08:44:06.999869Z",
     "shell.execute_reply": "2020-08-26T08:44:06.998996Z"
    },
    "papermill": {
     "duration": 0.132143,
     "end_time": "2020-08-26T08:44:06.999999",
     "exception": false,
     "start_time": "2020-08-26T08:44:06.867856",
     "status": "completed"
    },
    "slideshow": {
     "slide_type": "skip"
    },
    "tags": [
     "remove_cell"
    ]
   },
   "outputs": [
    {
     "name": "stdout",
     "output_type": "stream",
     "text": [
      "/bin/sh: 1: jupyter: not found\r\n"
     ]
    }
   ],
   "source": [
    "# Convert Jupyter Notebook to HTML\n",
    "! jupyter nbconvert \"index.ipynb\" --to html --TagRemovePreprocessor.enabled=True --TagRemovePreprocessor.remove_cell_tags=\"['remove_cell']\" --TagRemovePreprocessor.remove_input_tags=\"['remove_input']\" --no-prompt"
   ]
  },
  {
   "cell_type": "code",
   "execution_count": 16,
   "metadata": {
    "execution": {
     "iopub.execute_input": "2020-08-26T08:44:07.031124Z",
     "iopub.status.busy": "2020-08-26T08:44:07.030610Z",
     "iopub.status.idle": "2020-08-26T08:44:07.032936Z",
     "shell.execute_reply": "2020-08-26T08:44:07.033284Z"
    },
    "papermill": {
     "duration": 0.02011,
     "end_time": "2020-08-26T08:44:07.033431",
     "exception": false,
     "start_time": "2020-08-26T08:44:07.013321",
     "status": "completed"
    },
    "tags": [
     "remove_cell"
    ]
   },
   "outputs": [],
   "source": [
    "# Create daily commit message\n",
    "now = datetime.datetime.now()\n",
    "commit_message = \"Last scraped on \" + str(now)"
   ]
  },
  {
   "cell_type": "code",
   "execution_count": null,
   "metadata": {
    "execution": {
     "iopub.execute_input": "2020-08-26T08:43:06.595596Z",
     "iopub.status.busy": "2020-08-26T08:43:06.595084Z",
     "iopub.status.idle": "2020-08-26T08:43:10.199012Z",
     "shell.execute_reply": "2020-08-26T08:43:10.197783Z"
    },
    "papermill": {
     "duration": null,
     "end_time": null,
     "exception": false,
     "start_time": "2020-08-26T08:44:07.045871",
     "status": "running"
    },
    "tags": [
     "remove_cell"
    ]
   },
   "outputs": [],
   "source": [
    "# Deploy to GitHub\n",
    "! git add .\n",
    "! echo $commit_message > commit_message.txt\n",
    "! git commit -F commit_message.txt\n",
    "! git push"
   ]
  }
 ],
 "metadata": {
  "celltoolbar": "Tags",
  "kernelspec": {
   "display_name": "Python 3",
   "language": "python",
   "name": "python3"
  },
  "language_info": {
   "codemirror_mode": {
    "name": "ipython",
    "version": 3
   },
   "file_extension": ".py",
   "mimetype": "text/x-python",
   "name": "python",
   "nbconvert_exporter": "python",
   "pygments_lexer": "ipython3",
   "version": "3.7.3"
  },
  "papermill": {
   "duration": null,
   "end_time": null,
   "environment_variables": {},
   "exception": null,
   "input_path": "/home/alice_lepissier/cron-job/index.ipynb",
   "output_path": "/home/alice_lepissier/cron-job/index.ipynb",
   "parameters": {},
   "start_time": "2020-08-26T08:44:02.017361",
   "version": "2.1.3"
  }
 },
 "nbformat": 4,
 "nbformat_minor": 4
}