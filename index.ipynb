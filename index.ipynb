{
 "cells": [
  {
   "cell_type": "markdown",
   "metadata": {
    "papermill": {
     "duration": 0.010896,
     "end_time": "2020-08-26T19:41:02.906357",
     "exception": false,
     "start_time": "2020-08-26T19:41:02.895461",
     "status": "completed"
    },
    "tags": []
   },
   "source": [
    "# Daily COVID monitoring data for Santa Barbara county"
   ]
  },
  {
   "cell_type": "code",
   "execution_count": 1,
   "metadata": {
    "execution": {
     "iopub.execute_input": "2020-08-26T19:41:02.935513Z",
     "iopub.status.busy": "2020-08-26T19:41:02.934966Z",
     "iopub.status.idle": "2020-08-26T19:41:03.048453Z",
     "shell.execute_reply": "2020-08-26T19:41:03.047456Z"
    },
    "papermill": {
     "duration": 0.131754,
     "end_time": "2020-08-26T19:41:03.048608",
     "exception": false,
     "start_time": "2020-08-26T19:41:02.916854",
     "status": "completed"
    },
    "tags": [
     "remove_cell"
    ]
   },
   "outputs": [
    {
     "name": "stdout",
     "output_type": "stream",
     "text": [
      "/bin/sh: 1: jt: not found\r\n"
     ]
    }
   ],
   "source": [
    "! jt -t grade3 -tf robotosans -cellw 1100"
   ]
  },
  {
   "cell_type": "markdown",
   "metadata": {
    "papermill": {
     "duration": 0.009765,
     "end_time": "2020-08-26T19:41:03.068871",
     "exception": false,
     "start_time": "2020-08-26T19:41:03.059106",
     "status": "completed"
    },
    "tags": []
   },
   "source": [
    "This table is automatically updated with new daily COVID data for the county of Santa Barbara, CA. Every day, the California Department of Public Health publishes COVID tracking metrics for each county, but does not save the previous day's data. This tool keeps track of the daily metrics that are used to monitor progress towards safe reopening in California."
   ]
  },
  {
   "cell_type": "code",
   "execution_count": 2,
   "metadata": {
    "execution": {
     "iopub.execute_input": "2020-08-26T19:41:03.095550Z",
     "iopub.status.busy": "2020-08-26T19:41:03.095045Z",
     "iopub.status.idle": "2020-08-26T19:41:06.711251Z",
     "shell.execute_reply": "2020-08-26T19:41:06.712175Z"
    },
    "papermill": {
     "duration": 3.633657,
     "end_time": "2020-08-26T19:41:06.712355",
     "exception": false,
     "start_time": "2020-08-26T19:41:03.078698",
     "status": "completed"
    },
    "slideshow": {
     "slide_type": "skip"
    },
    "tags": [
     "remove_cell"
    ]
   },
   "outputs": [],
   "source": [
    "# Preamble\n",
    "import os\n",
    "from IPython.display import Markdown as md\n",
    "import IPython\n",
    "import requests\n",
    "from bs4 import BeautifulSoup\n",
    "import re\n",
    "import pandas as pd\n",
    "import datetime\n",
    "import gspread\n",
    "from oauth2client.service_account import ServiceAccountCredentials"
   ]
  },
  {
   "cell_type": "code",
   "execution_count": 3,
   "metadata": {
    "execution": {
     "iopub.execute_input": "2020-08-26T19:41:06.739059Z",
     "iopub.status.busy": "2020-08-26T19:41:06.738445Z",
     "iopub.status.idle": "2020-08-26T19:41:06.739894Z",
     "shell.execute_reply": "2020-08-26T19:41:06.739484Z"
    },
    "papermill": {
     "duration": 0.017366,
     "end_time": "2020-08-26T19:41:06.740011",
     "exception": false,
     "start_time": "2020-08-26T19:41:06.722645",
     "status": "completed"
    },
    "tags": []
   },
   "outputs": [],
   "source": [
    "# Set working directory\n",
    "os.chdir(\"/home/alice_lepissier/cron-job\")"
   ]
  },
  {
   "cell_type": "code",
   "execution_count": 4,
   "metadata": {
    "execution": {
     "iopub.execute_input": "2020-08-26T19:41:06.765780Z",
     "iopub.status.busy": "2020-08-26T19:41:06.765195Z",
     "iopub.status.idle": "2020-08-26T19:41:08.339333Z",
     "shell.execute_reply": "2020-08-26T19:41:08.340158Z"
    },
    "papermill": {
     "duration": 1.590764,
     "end_time": "2020-08-26T19:41:08.340324",
     "exception": false,
     "start_time": "2020-08-26T19:41:06.749560",
     "status": "completed"
    },
    "slideshow": {
     "slide_type": "skip"
    },
    "tags": [
     "remove_cell"
    ]
   },
   "outputs": [],
   "source": [
    "# Request content from URL\n",
    "html_string = requests.get('https://www.cdph.ca.gov/Programs/CID/DCDC/Pages/COVID-19/COVID19CountyDataTable.aspx').content"
   ]
  },
  {
   "cell_type": "code",
   "execution_count": 5,
   "metadata": {
    "execution": {
     "iopub.execute_input": "2020-08-26T19:41:08.367569Z",
     "iopub.status.busy": "2020-08-26T19:41:08.367074Z",
     "iopub.status.idle": "2020-08-26T19:41:08.475160Z",
     "shell.execute_reply": "2020-08-26T19:41:08.475971Z"
    },
    "papermill": {
     "duration": 0.125595,
     "end_time": "2020-08-26T19:41:08.476134",
     "exception": false,
     "start_time": "2020-08-26T19:41:08.350539",
     "status": "completed"
    },
    "slideshow": {
     "slide_type": "skip"
    },
    "tags": [
     "remove_cell"
    ]
   },
   "outputs": [],
   "source": [
    "# Parse HTML\n",
    "soup = BeautifulSoup(html_string, 'html.parser')"
   ]
  },
  {
   "cell_type": "code",
   "execution_count": 6,
   "metadata": {
    "execution": {
     "iopub.execute_input": "2020-08-26T19:41:08.503551Z",
     "iopub.status.busy": "2020-08-26T19:41:08.503051Z",
     "iopub.status.idle": "2020-08-26T19:41:08.511969Z",
     "shell.execute_reply": "2020-08-26T19:41:08.512752Z"
    },
    "papermill": {
     "duration": 0.026582,
     "end_time": "2020-08-26T19:41:08.512929",
     "exception": false,
     "start_time": "2020-08-26T19:41:08.486347",
     "status": "completed"
    },
    "slideshow": {
     "slide_type": "skip"
    },
    "tags": [
     "remove_cell"
    ]
   },
   "outputs": [],
   "source": [
    "# Extract data for Santa Barbara\n",
    "table = soup.find_all(\"tr\", class_=\"ms-rteTableEvenRow-3\")\n",
    "SB = table[21]"
   ]
  },
  {
   "cell_type": "code",
   "execution_count": 7,
   "metadata": {
    "execution": {
     "iopub.execute_input": "2020-08-26T19:41:08.539568Z",
     "iopub.status.busy": "2020-08-26T19:41:08.539049Z",
     "iopub.status.idle": "2020-08-26T19:41:08.553816Z",
     "shell.execute_reply": "2020-08-26T19:41:08.554730Z"
    },
    "papermill": {
     "duration": 0.031807,
     "end_time": "2020-08-26T19:41:08.554904",
     "exception": false,
     "start_time": "2020-08-26T19:41:08.523097",
     "status": "completed"
    },
    "slideshow": {
     "slide_type": "skip"
    },
    "tags": [
     "remove_cell"
    ]
   },
   "outputs": [],
   "source": [
    "# Avg # tests per day (per 100,000 population)\n",
    "daily_tests = SB.find_all(\"td\", class_=\"ms-rteTableOddCol-3\")[0].text\n",
    "\n",
    "# Case rate per 100,000\n",
    "case_rate = SB.find_all(\"td\", class_=\"ms-rteTableEvenCol-3\")[1].text\n",
    "\n",
    "# Testing positivity (%)\n",
    "test_positivity = SB.find_all(\"td\", class_=\"ms-rteTableOddCol-3\")[1].text\n",
    "\n",
    "# % Change in 3-day avg COVID+ hospitalized patients\n",
    "change_hospit = SB.find_all(\"td\", class_=\"ms-rteTableEvenCol-3\")[2].text\n",
    "\n",
    "# % ICU beds currently available\n",
    "ICU_beds = SB.find_all(\"td\", class_=\"ms-rteTableOddCol-3\")[2].text\n",
    "\n",
    "# % Ventilators currently available\n",
    "ventilators = SB.find_all(\"td\", class_=\"ms-rteTableEvenCol-3\")[3].text\n",
    "\n",
    "# Extract date of last update\n",
    "update_date = soup.find_all(\"span\", class_=\"ms-rteStyle-Accent1\")[1]\\\n",
    "    .find(\"em\").text"
   ]
  },
  {
   "cell_type": "code",
   "execution_count": 8,
   "metadata": {
    "execution": {
     "iopub.execute_input": "2020-08-26T19:41:08.581045Z",
     "iopub.status.busy": "2020-08-26T19:41:08.580418Z",
     "iopub.status.idle": "2020-08-26T19:41:08.581917Z",
     "shell.execute_reply": "2020-08-26T19:41:08.581484Z"
    },
    "papermill": {
     "duration": 0.016771,
     "end_time": "2020-08-26T19:41:08.582041",
     "exception": false,
     "start_time": "2020-08-26T19:41:08.565270",
     "status": "completed"
    },
    "tags": [
     "remove_cell"
    ]
   },
   "outputs": [],
   "source": [
    "# Create updated date string\n",
    "update_tag = \"Table last updated by CDPH on \" + update_date.split(\" on \", 1)[1] + \".\""
   ]
  },
  {
   "cell_type": "code",
   "execution_count": 9,
   "metadata": {
    "execution": {
     "iopub.execute_input": "2020-08-26T19:41:08.606398Z",
     "iopub.status.busy": "2020-08-26T19:41:08.605844Z",
     "iopub.status.idle": "2020-08-26T19:41:08.627895Z",
     "shell.execute_reply": "2020-08-26T19:41:08.628749Z"
    },
    "papermill": {
     "duration": 0.036946,
     "end_time": "2020-08-26T19:41:08.628923",
     "exception": false,
     "start_time": "2020-08-26T19:41:08.591977",
     "status": "completed"
    },
    "slideshow": {
     "slide_type": "skip"
    },
    "tags": [
     "remove_cell"
    ]
   },
   "outputs": [],
   "source": [
    "# Set up Google Sheet API\n",
    "scope = [\"https://spreadsheets.google.com/feeds\",'https://www.googleapis.com/auth/spreadsheets',\"https://www.googleapis.com/auth/drive.file\",\"https://www.googleapis.com/auth/drive\"]\n",
    "creds = ServiceAccountCredentials.from_json_keyfile_name(\"credentials.json\", scope)\n",
    "client = gspread.authorize(creds)"
   ]
  },
  {
   "cell_type": "code",
   "execution_count": 10,
   "metadata": {
    "execution": {
     "iopub.execute_input": "2020-08-26T19:41:08.655528Z",
     "iopub.status.busy": "2020-08-26T19:41:08.655040Z",
     "iopub.status.idle": "2020-08-26T19:41:09.693709Z",
     "shell.execute_reply": "2020-08-26T19:41:09.694476Z"
    },
    "papermill": {
     "duration": 1.055458,
     "end_time": "2020-08-26T19:41:09.694641",
     "exception": false,
     "start_time": "2020-08-26T19:41:08.639183",
     "status": "completed"
    },
    "slideshow": {
     "slide_type": "skip"
    },
    "tags": [
     "remove_cell"
    ]
   },
   "outputs": [
    {
     "data": {
      "text/plain": [
       "{'spreadsheetId': '1pcqdMzKtea2Oq3BDmdAOQ21gZjCssieKI0692VfNLXU',\n",
       " 'updatedRange': 'Sheet1!A2:G2',\n",
       " 'updatedRows': 1,\n",
       " 'updatedColumns': 7,\n",
       " 'updatedCells': 7}"
      ]
     },
     "execution_count": 10,
     "metadata": {},
     "output_type": "execute_result"
    }
   ],
   "source": [
    "# Append daily data as a new row in Google Sheet\n",
    "sheet = client.open(\"Test cron job\").sheet1\n",
    "insertRow = [datetime.date.today().strftime(\"%Y-%m-%d\"),\n",
    "             daily_tests,\n",
    "             case_rate,\n",
    "             test_positivity,\n",
    "             change_hospit,\n",
    "             ICU_beds,\n",
    "             ventilators]\n",
    "sheet.insert_row(insertRow, 2)"
   ]
  },
  {
   "cell_type": "code",
   "execution_count": 11,
   "metadata": {
    "execution": {
     "iopub.execute_input": "2020-08-26T19:41:09.720731Z",
     "iopub.status.busy": "2020-08-26T19:41:09.720218Z",
     "iopub.status.idle": "2020-08-26T19:41:10.338476Z",
     "shell.execute_reply": "2020-08-26T19:41:10.339333Z"
    },
    "papermill": {
     "duration": 0.634388,
     "end_time": "2020-08-26T19:41:10.339496",
     "exception": false,
     "start_time": "2020-08-26T19:41:09.705108",
     "status": "completed"
    },
    "scrolled": true,
    "slideshow": {
     "slide_type": "slide"
    },
    "tags": [
     "remove_cell"
    ]
   },
   "outputs": [],
   "source": [
    "# Extract data from Google Sheet as pandas dataframe\n",
    "sheet = client.open(\"Test cron job\").sheet1\n",
    "data = sheet.get_all_records()\n",
    "result = pd.DataFrame(data).set_index(\"Date\")"
   ]
  },
  {
   "cell_type": "code",
   "execution_count": 12,
   "metadata": {
    "execution": {
     "iopub.execute_input": "2020-08-26T19:41:10.365969Z",
     "iopub.status.busy": "2020-08-26T19:41:10.365222Z",
     "iopub.status.idle": "2020-08-26T19:41:11.568562Z",
     "shell.execute_reply": "2020-08-26T19:41:11.569345Z"
    },
    "papermill": {
     "duration": 1.219596,
     "end_time": "2020-08-26T19:41:11.569509",
     "exception": false,
     "start_time": "2020-08-26T19:41:10.349913",
     "status": "completed"
    },
    "scrolled": true,
    "tags": [
     "remove_input"
    ]
   },
   "outputs": [
    {
     "data": {
      "text/html": [
       "<style  type=\"text/css\" >\n",
       "    #T_18558ece_e7d4_11ea_8620_42010a8a0004 th {\n",
       "          text-align: center;\n",
       "    }#T_18558ece_e7d4_11ea_8620_42010a8a0004row0_col0,#T_18558ece_e7d4_11ea_8620_42010a8a0004row1_col0,#T_18558ece_e7d4_11ea_8620_42010a8a0004row2_col0,#T_18558ece_e7d4_11ea_8620_42010a8a0004row3_col0,#T_18558ece_e7d4_11ea_8620_42010a8a0004row4_col0,#T_18558ece_e7d4_11ea_8620_42010a8a0004row5_col0,#T_18558ece_e7d4_11ea_8620_42010a8a0004row6_col0,#T_18558ece_e7d4_11ea_8620_42010a8a0004row7_col0,#T_18558ece_e7d4_11ea_8620_42010a8a0004row8_col0,#T_18558ece_e7d4_11ea_8620_42010a8a0004row9_col0,#T_18558ece_e7d4_11ea_8620_42010a8a0004row10_col0,#T_18558ece_e7d4_11ea_8620_42010a8a0004row11_col0{\n",
       "            width:  20em;\n",
       "            text-align:  center;\n",
       "            font-weight:  bold;\n",
       "        }#T_18558ece_e7d4_11ea_8620_42010a8a0004row0_col1,#T_18558ece_e7d4_11ea_8620_42010a8a0004row0_col2,#T_18558ece_e7d4_11ea_8620_42010a8a0004row0_col3,#T_18558ece_e7d4_11ea_8620_42010a8a0004row0_col4,#T_18558ece_e7d4_11ea_8620_42010a8a0004row0_col5,#T_18558ece_e7d4_11ea_8620_42010a8a0004row0_col6,#T_18558ece_e7d4_11ea_8620_42010a8a0004row1_col1,#T_18558ece_e7d4_11ea_8620_42010a8a0004row1_col2,#T_18558ece_e7d4_11ea_8620_42010a8a0004row1_col3,#T_18558ece_e7d4_11ea_8620_42010a8a0004row1_col4,#T_18558ece_e7d4_11ea_8620_42010a8a0004row1_col5,#T_18558ece_e7d4_11ea_8620_42010a8a0004row1_col6,#T_18558ece_e7d4_11ea_8620_42010a8a0004row2_col1,#T_18558ece_e7d4_11ea_8620_42010a8a0004row2_col2,#T_18558ece_e7d4_11ea_8620_42010a8a0004row2_col3,#T_18558ece_e7d4_11ea_8620_42010a8a0004row2_col4,#T_18558ece_e7d4_11ea_8620_42010a8a0004row2_col5,#T_18558ece_e7d4_11ea_8620_42010a8a0004row2_col6,#T_18558ece_e7d4_11ea_8620_42010a8a0004row3_col1,#T_18558ece_e7d4_11ea_8620_42010a8a0004row3_col2,#T_18558ece_e7d4_11ea_8620_42010a8a0004row3_col3,#T_18558ece_e7d4_11ea_8620_42010a8a0004row3_col4,#T_18558ece_e7d4_11ea_8620_42010a8a0004row3_col5,#T_18558ece_e7d4_11ea_8620_42010a8a0004row3_col6,#T_18558ece_e7d4_11ea_8620_42010a8a0004row4_col1,#T_18558ece_e7d4_11ea_8620_42010a8a0004row4_col2,#T_18558ece_e7d4_11ea_8620_42010a8a0004row4_col3,#T_18558ece_e7d4_11ea_8620_42010a8a0004row4_col4,#T_18558ece_e7d4_11ea_8620_42010a8a0004row4_col5,#T_18558ece_e7d4_11ea_8620_42010a8a0004row4_col6,#T_18558ece_e7d4_11ea_8620_42010a8a0004row5_col1,#T_18558ece_e7d4_11ea_8620_42010a8a0004row5_col2,#T_18558ece_e7d4_11ea_8620_42010a8a0004row5_col3,#T_18558ece_e7d4_11ea_8620_42010a8a0004row5_col4,#T_18558ece_e7d4_11ea_8620_42010a8a0004row5_col5,#T_18558ece_e7d4_11ea_8620_42010a8a0004row5_col6,#T_18558ece_e7d4_11ea_8620_42010a8a0004row6_col1,#T_18558ece_e7d4_11ea_8620_42010a8a0004row6_col2,#T_18558ece_e7d4_11ea_8620_42010a8a0004row6_col3,#T_18558ece_e7d4_11ea_8620_42010a8a0004row6_col4,#T_18558ece_e7d4_11ea_8620_42010a8a0004row6_col5,#T_18558ece_e7d4_11ea_8620_42010a8a0004row6_col6,#T_18558ece_e7d4_11ea_8620_42010a8a0004row7_col1,#T_18558ece_e7d4_11ea_8620_42010a8a0004row7_col2,#T_18558ece_e7d4_11ea_8620_42010a8a0004row7_col3,#T_18558ece_e7d4_11ea_8620_42010a8a0004row7_col4,#T_18558ece_e7d4_11ea_8620_42010a8a0004row7_col5,#T_18558ece_e7d4_11ea_8620_42010a8a0004row7_col6,#T_18558ece_e7d4_11ea_8620_42010a8a0004row8_col1,#T_18558ece_e7d4_11ea_8620_42010a8a0004row8_col2,#T_18558ece_e7d4_11ea_8620_42010a8a0004row8_col3,#T_18558ece_e7d4_11ea_8620_42010a8a0004row8_col4,#T_18558ece_e7d4_11ea_8620_42010a8a0004row8_col5,#T_18558ece_e7d4_11ea_8620_42010a8a0004row8_col6,#T_18558ece_e7d4_11ea_8620_42010a8a0004row9_col1,#T_18558ece_e7d4_11ea_8620_42010a8a0004row9_col2,#T_18558ece_e7d4_11ea_8620_42010a8a0004row9_col3,#T_18558ece_e7d4_11ea_8620_42010a8a0004row9_col4,#T_18558ece_e7d4_11ea_8620_42010a8a0004row9_col5,#T_18558ece_e7d4_11ea_8620_42010a8a0004row9_col6,#T_18558ece_e7d4_11ea_8620_42010a8a0004row10_col1,#T_18558ece_e7d4_11ea_8620_42010a8a0004row10_col2,#T_18558ece_e7d4_11ea_8620_42010a8a0004row10_col3,#T_18558ece_e7d4_11ea_8620_42010a8a0004row10_col4,#T_18558ece_e7d4_11ea_8620_42010a8a0004row10_col5,#T_18558ece_e7d4_11ea_8620_42010a8a0004row10_col6,#T_18558ece_e7d4_11ea_8620_42010a8a0004row11_col1,#T_18558ece_e7d4_11ea_8620_42010a8a0004row11_col2,#T_18558ece_e7d4_11ea_8620_42010a8a0004row11_col3,#T_18558ece_e7d4_11ea_8620_42010a8a0004row11_col4,#T_18558ece_e7d4_11ea_8620_42010a8a0004row11_col5,#T_18558ece_e7d4_11ea_8620_42010a8a0004row11_col6{\n",
       "            width:  20em;\n",
       "            text-align:  center;\n",
       "        }</style><table id=\"T_18558ece_e7d4_11ea_8620_42010a8a0004\" ><thead>    <tr>        <th class=\"col_heading level0 col0\" >Date</th>        <th class=\"col_heading level0 col1\" >Daily tests (per 100,000)¹</th>        <th class=\"col_heading level0 col2\" >Case rate (per 100,000)²</th>        <th class=\"col_heading level0 col3\" >Testing positivity (%)³</th>        <th class=\"col_heading level0 col4\" >Change in hospitalizations (%)⁴</th>        <th class=\"col_heading level0 col5\" >ICU beds available (%)</th>        <th class=\"col_heading level0 col6\" >Ventilators (available (%)</th>    </tr></thead><tbody>\n",
       "                <tr>\n",
       "                                <td id=\"T_18558ece_e7d4_11ea_8620_42010a8a0004row0_col0\" class=\"data row0 col0\" >2020-08-26</td>\n",
       "                        <td id=\"T_18558ece_e7d4_11ea_8620_42010a8a0004row0_col1\" class=\"data row0 col1\" >219.7</td>\n",
       "                        <td id=\"T_18558ece_e7d4_11ea_8620_42010a8a0004row0_col2\" class=\"data row0 col2\" >133.2</td>\n",
       "                        <td id=\"T_18558ece_e7d4_11ea_8620_42010a8a0004row0_col3\" class=\"data row0 col3\" > ✔</td>\n",
       "                        <td id=\"T_18558ece_e7d4_11ea_8620_42010a8a0004row0_col4\" class=\"data row0 col4\" > ✔</td>\n",
       "                        <td id=\"T_18558ece_e7d4_11ea_8620_42010a8a0004row0_col5\" class=\"data row0 col5\" > ✔</td>\n",
       "                        <td id=\"T_18558ece_e7d4_11ea_8620_42010a8a0004row0_col6\" class=\"data row0 col6\" > ✔</td>\n",
       "            </tr>\n",
       "            <tr>\n",
       "                                <td id=\"T_18558ece_e7d4_11ea_8620_42010a8a0004row1_col0\" class=\"data row1 col0\" >2020-08-26</td>\n",
       "                        <td id=\"T_18558ece_e7d4_11ea_8620_42010a8a0004row1_col1\" class=\"data row1 col1\" >219.7</td>\n",
       "                        <td id=\"T_18558ece_e7d4_11ea_8620_42010a8a0004row1_col2\" class=\"data row1 col2\" >133.2</td>\n",
       "                        <td id=\"T_18558ece_e7d4_11ea_8620_42010a8a0004row1_col3\" class=\"data row1 col3\" > ✔</td>\n",
       "                        <td id=\"T_18558ece_e7d4_11ea_8620_42010a8a0004row1_col4\" class=\"data row1 col4\" > ✔</td>\n",
       "                        <td id=\"T_18558ece_e7d4_11ea_8620_42010a8a0004row1_col5\" class=\"data row1 col5\" > ✔</td>\n",
       "                        <td id=\"T_18558ece_e7d4_11ea_8620_42010a8a0004row1_col6\" class=\"data row1 col6\" > ✔</td>\n",
       "            </tr>\n",
       "            <tr>\n",
       "                                <td id=\"T_18558ece_e7d4_11ea_8620_42010a8a0004row2_col0\" class=\"data row2 col0\" >2020-08-26</td>\n",
       "                        <td id=\"T_18558ece_e7d4_11ea_8620_42010a8a0004row2_col1\" class=\"data row2 col1\" >219.7</td>\n",
       "                        <td id=\"T_18558ece_e7d4_11ea_8620_42010a8a0004row2_col2\" class=\"data row2 col2\" >133.2</td>\n",
       "                        <td id=\"T_18558ece_e7d4_11ea_8620_42010a8a0004row2_col3\" class=\"data row2 col3\" > ✔</td>\n",
       "                        <td id=\"T_18558ece_e7d4_11ea_8620_42010a8a0004row2_col4\" class=\"data row2 col4\" > ✔</td>\n",
       "                        <td id=\"T_18558ece_e7d4_11ea_8620_42010a8a0004row2_col5\" class=\"data row2 col5\" > ✔</td>\n",
       "                        <td id=\"T_18558ece_e7d4_11ea_8620_42010a8a0004row2_col6\" class=\"data row2 col6\" > ✔</td>\n",
       "            </tr>\n",
       "            <tr>\n",
       "                                <td id=\"T_18558ece_e7d4_11ea_8620_42010a8a0004row3_col0\" class=\"data row3 col0\" >2020-08-26</td>\n",
       "                        <td id=\"T_18558ece_e7d4_11ea_8620_42010a8a0004row3_col1\" class=\"data row3 col1\" >219.7</td>\n",
       "                        <td id=\"T_18558ece_e7d4_11ea_8620_42010a8a0004row3_col2\" class=\"data row3 col2\" >133.2</td>\n",
       "                        <td id=\"T_18558ece_e7d4_11ea_8620_42010a8a0004row3_col3\" class=\"data row3 col3\" > ✔</td>\n",
       "                        <td id=\"T_18558ece_e7d4_11ea_8620_42010a8a0004row3_col4\" class=\"data row3 col4\" > ✔</td>\n",
       "                        <td id=\"T_18558ece_e7d4_11ea_8620_42010a8a0004row3_col5\" class=\"data row3 col5\" > ✔</td>\n",
       "                        <td id=\"T_18558ece_e7d4_11ea_8620_42010a8a0004row3_col6\" class=\"data row3 col6\" > ✔</td>\n",
       "            </tr>\n",
       "            <tr>\n",
       "                                <td id=\"T_18558ece_e7d4_11ea_8620_42010a8a0004row4_col0\" class=\"data row4 col0\" >2020-08-26</td>\n",
       "                        <td id=\"T_18558ece_e7d4_11ea_8620_42010a8a0004row4_col1\" class=\"data row4 col1\" >219.7</td>\n",
       "                        <td id=\"T_18558ece_e7d4_11ea_8620_42010a8a0004row4_col2\" class=\"data row4 col2\" >133.2</td>\n",
       "                        <td id=\"T_18558ece_e7d4_11ea_8620_42010a8a0004row4_col3\" class=\"data row4 col3\" > ✔</td>\n",
       "                        <td id=\"T_18558ece_e7d4_11ea_8620_42010a8a0004row4_col4\" class=\"data row4 col4\" > ✔</td>\n",
       "                        <td id=\"T_18558ece_e7d4_11ea_8620_42010a8a0004row4_col5\" class=\"data row4 col5\" > ✔</td>\n",
       "                        <td id=\"T_18558ece_e7d4_11ea_8620_42010a8a0004row4_col6\" class=\"data row4 col6\" > ✔</td>\n",
       "            </tr>\n",
       "            <tr>\n",
       "                                <td id=\"T_18558ece_e7d4_11ea_8620_42010a8a0004row5_col0\" class=\"data row5 col0\" >2020-08-26</td>\n",
       "                        <td id=\"T_18558ece_e7d4_11ea_8620_42010a8a0004row5_col1\" class=\"data row5 col1\" >219.7</td>\n",
       "                        <td id=\"T_18558ece_e7d4_11ea_8620_42010a8a0004row5_col2\" class=\"data row5 col2\" >133.2</td>\n",
       "                        <td id=\"T_18558ece_e7d4_11ea_8620_42010a8a0004row5_col3\" class=\"data row5 col3\" > ✔</td>\n",
       "                        <td id=\"T_18558ece_e7d4_11ea_8620_42010a8a0004row5_col4\" class=\"data row5 col4\" > ✔</td>\n",
       "                        <td id=\"T_18558ece_e7d4_11ea_8620_42010a8a0004row5_col5\" class=\"data row5 col5\" > ✔</td>\n",
       "                        <td id=\"T_18558ece_e7d4_11ea_8620_42010a8a0004row5_col6\" class=\"data row5 col6\" > ✔</td>\n",
       "            </tr>\n",
       "            <tr>\n",
       "                                <td id=\"T_18558ece_e7d4_11ea_8620_42010a8a0004row6_col0\" class=\"data row6 col0\" >2020-08-26</td>\n",
       "                        <td id=\"T_18558ece_e7d4_11ea_8620_42010a8a0004row6_col1\" class=\"data row6 col1\" >219.7</td>\n",
       "                        <td id=\"T_18558ece_e7d4_11ea_8620_42010a8a0004row6_col2\" class=\"data row6 col2\" >133.2</td>\n",
       "                        <td id=\"T_18558ece_e7d4_11ea_8620_42010a8a0004row6_col3\" class=\"data row6 col3\" > ✔</td>\n",
       "                        <td id=\"T_18558ece_e7d4_11ea_8620_42010a8a0004row6_col4\" class=\"data row6 col4\" > ✔</td>\n",
       "                        <td id=\"T_18558ece_e7d4_11ea_8620_42010a8a0004row6_col5\" class=\"data row6 col5\" > ✔</td>\n",
       "                        <td id=\"T_18558ece_e7d4_11ea_8620_42010a8a0004row6_col6\" class=\"data row6 col6\" > ✔</td>\n",
       "            </tr>\n",
       "            <tr>\n",
       "                                <td id=\"T_18558ece_e7d4_11ea_8620_42010a8a0004row7_col0\" class=\"data row7 col0\" >2020-08-26</td>\n",
       "                        <td id=\"T_18558ece_e7d4_11ea_8620_42010a8a0004row7_col1\" class=\"data row7 col1\" >219.7</td>\n",
       "                        <td id=\"T_18558ece_e7d4_11ea_8620_42010a8a0004row7_col2\" class=\"data row7 col2\" >133.2</td>\n",
       "                        <td id=\"T_18558ece_e7d4_11ea_8620_42010a8a0004row7_col3\" class=\"data row7 col3\" > ✔</td>\n",
       "                        <td id=\"T_18558ece_e7d4_11ea_8620_42010a8a0004row7_col4\" class=\"data row7 col4\" > ✔</td>\n",
       "                        <td id=\"T_18558ece_e7d4_11ea_8620_42010a8a0004row7_col5\" class=\"data row7 col5\" > ✔</td>\n",
       "                        <td id=\"T_18558ece_e7d4_11ea_8620_42010a8a0004row7_col6\" class=\"data row7 col6\" > ✔</td>\n",
       "            </tr>\n",
       "            <tr>\n",
       "                                <td id=\"T_18558ece_e7d4_11ea_8620_42010a8a0004row8_col0\" class=\"data row8 col0\" >2020-08-26</td>\n",
       "                        <td id=\"T_18558ece_e7d4_11ea_8620_42010a8a0004row8_col1\" class=\"data row8 col1\" >219.7</td>\n",
       "                        <td id=\"T_18558ece_e7d4_11ea_8620_42010a8a0004row8_col2\" class=\"data row8 col2\" >133.2</td>\n",
       "                        <td id=\"T_18558ece_e7d4_11ea_8620_42010a8a0004row8_col3\" class=\"data row8 col3\" > ✔</td>\n",
       "                        <td id=\"T_18558ece_e7d4_11ea_8620_42010a8a0004row8_col4\" class=\"data row8 col4\" > ✔</td>\n",
       "                        <td id=\"T_18558ece_e7d4_11ea_8620_42010a8a0004row8_col5\" class=\"data row8 col5\" > ✔</td>\n",
       "                        <td id=\"T_18558ece_e7d4_11ea_8620_42010a8a0004row8_col6\" class=\"data row8 col6\" > ✔</td>\n",
       "            </tr>\n",
       "            <tr>\n",
       "                                <td id=\"T_18558ece_e7d4_11ea_8620_42010a8a0004row9_col0\" class=\"data row9 col0\" >2020-08-26</td>\n",
       "                        <td id=\"T_18558ece_e7d4_11ea_8620_42010a8a0004row9_col1\" class=\"data row9 col1\" >219.7</td>\n",
       "                        <td id=\"T_18558ece_e7d4_11ea_8620_42010a8a0004row9_col2\" class=\"data row9 col2\" >133.2</td>\n",
       "                        <td id=\"T_18558ece_e7d4_11ea_8620_42010a8a0004row9_col3\" class=\"data row9 col3\" > ✔</td>\n",
       "                        <td id=\"T_18558ece_e7d4_11ea_8620_42010a8a0004row9_col4\" class=\"data row9 col4\" > ✔</td>\n",
       "                        <td id=\"T_18558ece_e7d4_11ea_8620_42010a8a0004row9_col5\" class=\"data row9 col5\" > ✔</td>\n",
       "                        <td id=\"T_18558ece_e7d4_11ea_8620_42010a8a0004row9_col6\" class=\"data row9 col6\" > ✔</td>\n",
       "            </tr>\n",
       "            <tr>\n",
       "                                <td id=\"T_18558ece_e7d4_11ea_8620_42010a8a0004row10_col0\" class=\"data row10 col0\" >2020-08-26</td>\n",
       "                        <td id=\"T_18558ece_e7d4_11ea_8620_42010a8a0004row10_col1\" class=\"data row10 col1\" >219.7</td>\n",
       "                        <td id=\"T_18558ece_e7d4_11ea_8620_42010a8a0004row10_col2\" class=\"data row10 col2\" >133.2</td>\n",
       "                        <td id=\"T_18558ece_e7d4_11ea_8620_42010a8a0004row10_col3\" class=\"data row10 col3\" > ✔</td>\n",
       "                        <td id=\"T_18558ece_e7d4_11ea_8620_42010a8a0004row10_col4\" class=\"data row10 col4\" > ✔</td>\n",
       "                        <td id=\"T_18558ece_e7d4_11ea_8620_42010a8a0004row10_col5\" class=\"data row10 col5\" > ✔</td>\n",
       "                        <td id=\"T_18558ece_e7d4_11ea_8620_42010a8a0004row10_col6\" class=\"data row10 col6\" > ✔</td>\n",
       "            </tr>\n",
       "            <tr>\n",
       "                                <td id=\"T_18558ece_e7d4_11ea_8620_42010a8a0004row11_col0\" class=\"data row11 col0\" >2020-08-26</td>\n",
       "                        <td id=\"T_18558ece_e7d4_11ea_8620_42010a8a0004row11_col1\" class=\"data row11 col1\" >219.7</td>\n",
       "                        <td id=\"T_18558ece_e7d4_11ea_8620_42010a8a0004row11_col2\" class=\"data row11 col2\" >133.2</td>\n",
       "                        <td id=\"T_18558ece_e7d4_11ea_8620_42010a8a0004row11_col3\" class=\"data row11 col3\" > ✔</td>\n",
       "                        <td id=\"T_18558ece_e7d4_11ea_8620_42010a8a0004row11_col4\" class=\"data row11 col4\" > ✔</td>\n",
       "                        <td id=\"T_18558ece_e7d4_11ea_8620_42010a8a0004row11_col5\" class=\"data row11 col5\" > ✔</td>\n",
       "                        <td id=\"T_18558ece_e7d4_11ea_8620_42010a8a0004row11_col6\" class=\"data row11 col6\" > ✔</td>\n",
       "            </tr>\n",
       "    </tbody></table>"
      ],
      "text/plain": [
       "<pandas.io.formats.style.Styler at 0x7f1f6e0760f0>"
      ]
     },
     "execution_count": 12,
     "metadata": {},
     "output_type": "execute_result"
    }
   ],
   "source": [
    "# Style the pandas dataframe\n",
    "d = dict(selector=\"th\",\n",
    "         props=[('text-align', 'center')])\n",
    "\n",
    "result.reset_index().style\\\n",
    "    .set_properties(**{'width':'20em', 'text-align':'center'})\\\n",
    "    .set_properties(subset=['Date'], **{'font-weight': 'bold'})\\\n",
    "    .set_table_styles([d])\\\n",
    "    .set_precision(1)\\\n",
    "    .hide_index()"
   ]
  },
  {
   "cell_type": "markdown",
   "metadata": {
    "papermill": {
     "duration": 0.010954,
     "end_time": "2020-08-26T19:41:11.591922",
     "exception": false,
     "start_time": "2020-08-26T19:41:11.580968",
     "status": "completed"
    },
    "tags": []
   },
   "source": [
    "<sup>Notes: (1) 7 day average with a 7-day lag. (2) 14 day average. (3) 7 day average with a 7-day lag. (4) Change in 3 day average.</sup>"
   ]
  },
  {
   "cell_type": "code",
   "execution_count": 13,
   "metadata": {
    "execution": {
     "iopub.execute_input": "2020-08-26T19:41:11.619623Z",
     "iopub.status.busy": "2020-08-26T19:41:11.619087Z",
     "iopub.status.idle": "2020-08-26T19:41:11.623389Z",
     "shell.execute_reply": "2020-08-26T19:41:11.623798Z"
    },
    "papermill": {
     "duration": 0.020986,
     "end_time": "2020-08-26T19:41:11.623957",
     "exception": false,
     "start_time": "2020-08-26T19:41:11.602971",
     "status": "completed"
    },
    "tags": [
     "remove_input"
    ]
   },
   "outputs": [
    {
     "data": {
      "text/markdown": [
       "Table last updated by CDPH on August 26, 2020."
      ],
      "text/plain": [
       "<IPython.core.display.Markdown object>"
      ]
     },
     "execution_count": 13,
     "metadata": {},
     "output_type": "execute_result"
    }
   ],
   "source": [
    "md(update_tag)"
   ]
  },
  {
   "cell_type": "markdown",
   "metadata": {
    "papermill": {
     "duration": 0.011058,
     "end_time": "2020-08-26T19:41:11.645923",
     "exception": false,
     "start_time": "2020-08-26T19:41:11.634865",
     "status": "completed"
    },
    "tags": []
   },
   "source": [
    "## Tracking county closures in Santa Barbara"
   ]
  },
  {
   "cell_type": "markdown",
   "metadata": {
    "papermill": {
     "duration": 0.010775,
     "end_time": "2020-08-26T19:41:11.667677",
     "exception": false,
     "start_time": "2020-08-26T19:41:11.656902",
     "status": "completed"
    },
    "tags": []
   },
   "source": [
    "The state of California is using a data-driven approach informed by scientific evidence to tailor its response to COVID-19. Three dimensions of concern are monitored to assess whether a county should be placed on the County Monitoring List:\n",
    " 1. Elevated Disease Transmission\n",
    " 2. Increasing Hospitalization\n",
    " 3. Limited Hospital Capacity\n",
    "\n",
    "Once a county appears on the County Monitoring List for three consecutive days, indoor operations in the sectors listed in Section 3 of the [July 13th State Health Officer Order](https://www.cdph.ca.gov/Programs/CID/DCDC/CDPH%20Document%20Library/COVID-19/SHO%20Order%20Dimming%20Entire%20State%207-13-2020.pdf) must close.\n",
    "\n",
    "This table tracks where Santa Barbara stands in terms of the criteria for inclusion on the County Monitoring List. As of 20 August 2020, the criteria for inclusion on the monitoring list are:\n",
    "\n",
    "* Case rate >100 OR (Case rate >25 AND Positivity >8%)\n",
    "* \\>10% increase in hospitalizations\n",
    "* <20% ICU beds available OR <25% ventilators available\n",
    "\n",
    "If Santa Barbara meets the criteria for removal from the County Monitoring List for a certain metric, then a checkmark ✔ is displayed in the table.\n",
    "\n",
    "Read more at <https://covid19.ca.gov/roadmap-counties/>.\n",
    "\n",
    "Data source for county metrics: https://www.cdph.ca.gov/Programs/CID/DCDC/Pages/COVID-19/COVID19CountyDataTable.aspx."
   ]
  },
  {
   "cell_type": "markdown",
   "metadata": {
    "papermill": {
     "duration": 0.010851,
     "end_time": "2020-08-26T19:41:11.689507",
     "exception": false,
     "start_time": "2020-08-26T19:41:11.678656",
     "status": "completed"
    },
    "tags": []
   },
   "source": [
    "**See the code used to scrape the data: https://github.com/walice/COVID-SB/.**"
   ]
  },
  {
   "cell_type": "code",
   "execution_count": 14,
   "metadata": {
    "execution": {
     "iopub.execute_input": "2020-08-26T19:41:11.716843Z",
     "iopub.status.busy": "2020-08-26T19:41:11.716351Z",
     "iopub.status.idle": "2020-08-26T19:41:11.720572Z",
     "shell.execute_reply": "2020-08-26T19:41:11.720950Z"
    },
    "papermill": {
     "duration": 0.020537,
     "end_time": "2020-08-26T19:41:11.721113",
     "exception": false,
     "start_time": "2020-08-26T19:41:11.700576",
     "status": "completed"
    },
    "tags": [
     "remove_cell"
    ]
   },
   "outputs": [
    {
     "data": {
      "application/javascript": [
       "IPython.notebook.save_notebook()\n"
      ],
      "text/plain": [
       "<IPython.core.display.Javascript object>"
      ]
     },
     "metadata": {},
     "output_type": "display_data"
    }
   ],
   "source": [
    "%%javascript\n",
    "IPython.notebook.save_notebook()"
   ]
  },
  {
   "cell_type": "code",
   "execution_count": 15,
   "metadata": {
    "execution": {
     "iopub.execute_input": "2020-08-26T19:41:11.751000Z",
     "iopub.status.busy": "2020-08-26T19:41:11.750442Z",
     "iopub.status.idle": "2020-08-26T19:41:11.873473Z",
     "shell.execute_reply": "2020-08-26T19:41:11.872479Z"
    },
    "papermill": {
     "duration": 0.139342,
     "end_time": "2020-08-26T19:41:11.873610",
     "exception": false,
     "start_time": "2020-08-26T19:41:11.734268",
     "status": "completed"
    },
    "slideshow": {
     "slide_type": "skip"
    },
    "tags": [
     "remove_cell"
    ]
   },
   "outputs": [
    {
     "name": "stdout",
     "output_type": "stream",
     "text": [
      "/bin/sh: 1: jupyter: not found\r\n"
     ]
    }
   ],
   "source": [
    "# Convert Jupyter Notebook to HTML\n",
    "! jupyter nbconvert \"index.ipynb\" --to html --TagRemovePreprocessor.enabled=True --TagRemovePreprocessor.remove_cell_tags=\"['remove_cell']\" --TagRemovePreprocessor.remove_input_tags=\"['remove_input']\" --no-prompt"
   ]
  },
  {
   "cell_type": "code",
   "execution_count": 16,
   "metadata": {
    "execution": {
     "iopub.execute_input": "2020-08-26T19:41:11.904025Z",
     "iopub.status.busy": "2020-08-26T19:41:11.902015Z",
     "iopub.status.idle": "2020-08-26T19:41:11.904945Z",
     "shell.execute_reply": "2020-08-26T19:41:11.904530Z"
    },
    "papermill": {
     "duration": 0.019252,
     "end_time": "2020-08-26T19:41:11.905062",
     "exception": false,
     "start_time": "2020-08-26T19:41:11.885810",
     "status": "completed"
    },
    "tags": [
     "remove_cell"
    ]
   },
   "outputs": [],
   "source": [
    "# Create daily commit message\n",
    "now = datetime.datetime.now()\n",
    "commit_message = \"Last scraped on \" + str(now)"
   ]
  },
  {
   "cell_type": "code",
   "execution_count": null,
   "metadata": {
    "execution": {
     "iopub.execute_input": "2020-08-26T19:35:39.991631Z",
     "iopub.status.busy": "2020-08-26T19:35:39.991070Z",
     "iopub.status.idle": "2020-08-26T19:35:44.524278Z",
     "shell.execute_reply": "2020-08-26T19:35:44.523065Z"
    },
    "papermill": {
     "duration": null,
     "end_time": null,
     "exception": false,
     "start_time": "2020-08-26T19:41:11.916474",
     "status": "running"
    },
    "tags": [
     "remove_cell"
    ]
   },
   "outputs": [],
   "source": [
    "# Deploy to GitHub\n",
    "! git add .\n",
    "! echo $commit_message > commit_message.txt\n",
    "! git commit -F commit_message.txt\n",
    "! git push"
   ]
  }
 ],
 "metadata": {
  "celltoolbar": "Tags",
  "kernelspec": {
   "display_name": "Python 3",
   "language": "python",
   "name": "python3"
  },
  "language_info": {
   "codemirror_mode": {
    "name": "ipython",
    "version": 3
   },
   "file_extension": ".py",
   "mimetype": "text/x-python",
   "name": "python",
   "nbconvert_exporter": "python",
   "pygments_lexer": "ipython3",
   "version": "3.7.3"
  },
  "papermill": {
   "duration": null,
   "end_time": null,
   "environment_variables": {},
   "exception": null,
   "input_path": "/home/alice_lepissier/cron-job/index.ipynb",
   "output_path": "/home/alice_lepissier/cron-job/index.ipynb",
   "parameters": {},
   "start_time": "2020-08-26T19:41:01.526956",
   "version": "2.1.3"
  }
 },
 "nbformat": 4,
 "nbformat_minor": 4
}