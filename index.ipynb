{
 "cells": [
  {
   "cell_type": "markdown",
   "metadata": {
    "papermill": {
     "duration": 0.010707,
     "end_time": "2020-08-26T20:08:04.766264",
     "exception": false,
     "start_time": "2020-08-26T20:08:04.755557",
     "status": "completed"
    },
    "tags": []
   },
   "source": [
    "# Daily COVID monitoring data for Santa Barbara county"
   ]
  },
  {
   "cell_type": "code",
   "execution_count": 1,
   "metadata": {
    "execution": {
     "iopub.execute_input": "2020-08-26T20:08:04.793543Z",
     "iopub.status.busy": "2020-08-26T20:08:04.793031Z",
     "iopub.status.idle": "2020-08-26T20:08:06.882982Z",
     "shell.execute_reply": "2020-08-26T20:08:06.883845Z"
    },
    "papermill": {
     "duration": 2.107843,
     "end_time": "2020-08-26T20:08:06.884059",
     "exception": false,
     "start_time": "2020-08-26T20:08:04.776216",
     "status": "completed"
    },
    "tags": [
     "remove_cell"
    ]
   },
   "outputs": [],
   "source": [
    "! jt -t grade3 -tf robotosans -cellw 1100"
   ]
  },
  {
   "cell_type": "markdown",
   "metadata": {
    "papermill": {
     "duration": 0.009417,
     "end_time": "2020-08-26T20:08:06.903457",
     "exception": false,
     "start_time": "2020-08-26T20:08:06.894040",
     "status": "completed"
    },
    "tags": []
   },
   "source": [
    "This table is automatically updated with new daily COVID data for the county of Santa Barbara, CA. Every day, the California Department of Public Health publishes COVID tracking metrics for each county, but does not save the previous day's data. This tool keeps track of the daily metrics that are used to monitor progress towards safe reopening in California."
   ]
  },
  {
   "cell_type": "code",
   "execution_count": 2,
   "metadata": {
    "execution": {
     "iopub.execute_input": "2020-08-26T20:08:06.927437Z",
     "iopub.status.busy": "2020-08-26T20:08:06.926945Z",
     "iopub.status.idle": "2020-08-26T20:08:10.329307Z",
     "shell.execute_reply": "2020-08-26T20:08:10.330204Z"
    },
    "papermill": {
     "duration": 3.417499,
     "end_time": "2020-08-26T20:08:10.330372",
     "exception": false,
     "start_time": "2020-08-26T20:08:06.912873",
     "status": "completed"
    },
    "slideshow": {
     "slide_type": "skip"
    },
    "tags": [
     "remove_cell"
    ]
   },
   "outputs": [],
   "source": [
    "# Preamble\n",
    "import os\n",
    "from IPython.display import Markdown as md\n",
    "import IPython\n",
    "import requests\n",
    "from bs4 import BeautifulSoup\n",
    "import re\n",
    "import pandas as pd\n",
    "import datetime\n",
    "import gspread\n",
    "from oauth2client.service_account import ServiceAccountCredentials"
   ]
  },
  {
   "cell_type": "code",
   "execution_count": 3,
   "metadata": {
    "execution": {
     "iopub.execute_input": "2020-08-26T20:08:10.355947Z",
     "iopub.status.busy": "2020-08-26T20:08:10.355304Z",
     "iopub.status.idle": "2020-08-26T20:08:10.356783Z",
     "shell.execute_reply": "2020-08-26T20:08:10.356375Z"
    },
    "papermill": {
     "duration": 0.016398,
     "end_time": "2020-08-26T20:08:10.356900",
     "exception": false,
     "start_time": "2020-08-26T20:08:10.340502",
     "status": "completed"
    },
    "tags": []
   },
   "outputs": [],
   "source": [
    "# Set working directory\n",
    "os.chdir(\"/home/alice_lepissier/cron-job\")"
   ]
  },
  {
   "cell_type": "code",
   "execution_count": 4,
   "metadata": {
    "execution": {
     "iopub.execute_input": "2020-08-26T20:08:10.383022Z",
     "iopub.status.busy": "2020-08-26T20:08:10.382435Z",
     "iopub.status.idle": "2020-08-26T20:08:10.745319Z",
     "shell.execute_reply": "2020-08-26T20:08:10.746081Z"
    },
    "papermill": {
     "duration": 0.379319,
     "end_time": "2020-08-26T20:08:10.746293",
     "exception": false,
     "start_time": "2020-08-26T20:08:10.366974",
     "status": "completed"
    },
    "slideshow": {
     "slide_type": "skip"
    },
    "tags": [
     "remove_cell"
    ]
   },
   "outputs": [],
   "source": [
    "# Request content from URL\n",
    "html_string = requests.get('https://www.cdph.ca.gov/Programs/CID/DCDC/Pages/COVID-19/COVID19CountyDataTable.aspx').content"
   ]
  },
  {
   "cell_type": "code",
   "execution_count": 5,
   "metadata": {
    "execution": {
     "iopub.execute_input": "2020-08-26T20:08:10.776773Z",
     "iopub.status.busy": "2020-08-26T20:08:10.776239Z",
     "iopub.status.idle": "2020-08-26T20:08:10.860518Z",
     "shell.execute_reply": "2020-08-26T20:08:10.861357Z"
    },
    "papermill": {
     "duration": 0.10523,
     "end_time": "2020-08-26T20:08:10.861533",
     "exception": false,
     "start_time": "2020-08-26T20:08:10.756303",
     "status": "completed"
    },
    "slideshow": {
     "slide_type": "skip"
    },
    "tags": [
     "remove_cell"
    ]
   },
   "outputs": [],
   "source": [
    "# Parse HTML\n",
    "soup = BeautifulSoup(html_string, 'html.parser')"
   ]
  },
  {
   "cell_type": "code",
   "execution_count": 6,
   "metadata": {
    "execution": {
     "iopub.execute_input": "2020-08-26T20:08:10.892938Z",
     "iopub.status.busy": "2020-08-26T20:08:10.892403Z",
     "iopub.status.idle": "2020-08-26T20:08:10.896390Z",
     "shell.execute_reply": "2020-08-26T20:08:10.897082Z"
    },
    "papermill": {
     "duration": 0.025547,
     "end_time": "2020-08-26T20:08:10.897237",
     "exception": false,
     "start_time": "2020-08-26T20:08:10.871690",
     "status": "completed"
    },
    "slideshow": {
     "slide_type": "skip"
    },
    "tags": [
     "remove_cell"
    ]
   },
   "outputs": [],
   "source": [
    "# Extract data for Santa Barbara\n",
    "table = soup.find_all(\"tr\", class_=\"ms-rteTableEvenRow-3\")\n",
    "SB = table[21]"
   ]
  },
  {
   "cell_type": "code",
   "execution_count": 7,
   "metadata": {
    "execution": {
     "iopub.execute_input": "2020-08-26T20:08:10.924740Z",
     "iopub.status.busy": "2020-08-26T20:08:10.924213Z",
     "iopub.status.idle": "2020-08-26T20:08:10.935731Z",
     "shell.execute_reply": "2020-08-26T20:08:10.936537Z"
    },
    "papermill": {
     "duration": 0.029707,
     "end_time": "2020-08-26T20:08:10.936706",
     "exception": false,
     "start_time": "2020-08-26T20:08:10.906999",
     "status": "completed"
    },
    "slideshow": {
     "slide_type": "skip"
    },
    "tags": [
     "remove_cell"
    ]
   },
   "outputs": [],
   "source": [
    "# Avg # tests per day (per 100,000 population)\n",
    "daily_tests = SB.find_all(\"td\", class_=\"ms-rteTableOddCol-3\")[0].text\n",
    "\n",
    "# Case rate per 100,000\n",
    "case_rate = SB.find_all(\"td\", class_=\"ms-rteTableEvenCol-3\")[1].text\n",
    "\n",
    "# Testing positivity (%)\n",
    "test_positivity = SB.find_all(\"td\", class_=\"ms-rteTableOddCol-3\")[1].text\n",
    "\n",
    "# % Change in 3-day avg COVID+ hospitalized patients\n",
    "change_hospit = SB.find_all(\"td\", class_=\"ms-rteTableEvenCol-3\")[2].text\n",
    "\n",
    "# % ICU beds currently available\n",
    "ICU_beds = SB.find_all(\"td\", class_=\"ms-rteTableOddCol-3\")[2].text\n",
    "\n",
    "# % Ventilators currently available\n",
    "ventilators = SB.find_all(\"td\", class_=\"ms-rteTableEvenCol-3\")[3].text\n",
    "\n",
    "# Extract date of last update\n",
    "update_date = soup.find_all(\"span\", class_=\"ms-rteStyle-Accent1\")[1]\\\n",
    "    .find(\"em\").text"
   ]
  },
  {
   "cell_type": "code",
   "execution_count": 8,
   "metadata": {
    "execution": {
     "iopub.execute_input": "2020-08-26T20:08:10.962946Z",
     "iopub.status.busy": "2020-08-26T20:08:10.962329Z",
     "iopub.status.idle": "2020-08-26T20:08:10.963812Z",
     "shell.execute_reply": "2020-08-26T20:08:10.963397Z"
    },
    "papermill": {
     "duration": 0.016059,
     "end_time": "2020-08-26T20:08:10.963929",
     "exception": false,
     "start_time": "2020-08-26T20:08:10.947870",
     "status": "completed"
    },
    "tags": [
     "remove_cell"
    ]
   },
   "outputs": [],
   "source": [
    "# Create updated date string\n",
    "update_tag = \"Table last updated by CDPH on \" + update_date.split(\" on \", 1)[1] + \".\""
   ]
  },
  {
   "cell_type": "code",
   "execution_count": 9,
   "metadata": {
    "execution": {
     "iopub.execute_input": "2020-08-26T20:08:10.987284Z",
     "iopub.status.busy": "2020-08-26T20:08:10.986791Z",
     "iopub.status.idle": "2020-08-26T20:08:10.998248Z",
     "shell.execute_reply": "2020-08-26T20:08:10.999015Z"
    },
    "papermill": {
     "duration": 0.025622,
     "end_time": "2020-08-26T20:08:10.999177",
     "exception": false,
     "start_time": "2020-08-26T20:08:10.973555",
     "status": "completed"
    },
    "slideshow": {
     "slide_type": "skip"
    },
    "tags": [
     "remove_cell"
    ]
   },
   "outputs": [],
   "source": [
    "# Set up Google Sheet API\n",
    "scope = [\"https://spreadsheets.google.com/feeds\",'https://www.googleapis.com/auth/spreadsheets',\"https://www.googleapis.com/auth/drive.file\",\"https://www.googleapis.com/auth/drive\"]\n",
    "creds = ServiceAccountCredentials.from_json_keyfile_name(\"credentials.json\", scope)\n",
    "client = gspread.authorize(creds)"
   ]
  },
  {
   "cell_type": "code",
   "execution_count": 10,
   "metadata": {
    "execution": {
     "iopub.execute_input": "2020-08-26T20:08:11.025680Z",
     "iopub.status.busy": "2020-08-26T20:08:11.025193Z",
     "iopub.status.idle": "2020-08-26T20:08:11.948727Z",
     "shell.execute_reply": "2020-08-26T20:08:11.949469Z"
    },
    "papermill": {
     "duration": 0.94056,
     "end_time": "2020-08-26T20:08:11.949648",
     "exception": false,
     "start_time": "2020-08-26T20:08:11.009088",
     "status": "completed"
    },
    "slideshow": {
     "slide_type": "skip"
    },
    "tags": [
     "remove_cell"
    ]
   },
   "outputs": [
    {
     "data": {
      "text/plain": [
       "{'spreadsheetId': '1pcqdMzKtea2Oq3BDmdAOQ21gZjCssieKI0692VfNLXU',\n",
       " 'updatedRange': 'Sheet1!A2:G2',\n",
       " 'updatedRows': 1,\n",
       " 'updatedColumns': 7,\n",
       " 'updatedCells': 7}"
      ]
     },
     "execution_count": 10,
     "metadata": {},
     "output_type": "execute_result"
    }
   ],
   "source": [
    "# Append daily data as a new row in Google Sheet\n",
    "sheet = client.open(\"Test cron job\").sheet1\n",
    "insertRow = [datetime.date.today().strftime(\"%Y-%m-%d\"),\n",
    "             daily_tests,\n",
    "             case_rate,\n",
    "             test_positivity,\n",
    "             change_hospit,\n",
    "             ICU_beds,\n",
    "             ventilators]\n",
    "sheet.insert_row(insertRow, 2)"
   ]
  },
  {
   "cell_type": "code",
   "execution_count": 11,
   "metadata": {
    "execution": {
     "iopub.execute_input": "2020-08-26T20:08:11.975201Z",
     "iopub.status.busy": "2020-08-26T20:08:11.974694Z",
     "iopub.status.idle": "2020-08-26T20:08:12.533087Z",
     "shell.execute_reply": "2020-08-26T20:08:12.534023Z"
    },
    "papermill": {
     "duration": 0.5742,
     "end_time": "2020-08-26T20:08:12.534224",
     "exception": false,
     "start_time": "2020-08-26T20:08:11.960024",
     "status": "completed"
    },
    "scrolled": true,
    "slideshow": {
     "slide_type": "slide"
    },
    "tags": [
     "remove_cell"
    ]
   },
   "outputs": [],
   "source": [
    "# Extract data from Google Sheet as pandas dataframe\n",
    "sheet = client.open(\"Test cron job\").sheet1\n",
    "data = sheet.get_all_records()\n",
    "result = pd.DataFrame(data).set_index(\"Date\")"
   ]
  },
  {
   "cell_type": "code",
   "execution_count": 12,
   "metadata": {
    "execution": {
     "iopub.execute_input": "2020-08-26T20:08:12.562013Z",
     "iopub.status.busy": "2020-08-26T20:08:12.561440Z",
     "iopub.status.idle": "2020-08-26T20:08:13.689304Z",
     "shell.execute_reply": "2020-08-26T20:08:13.690142Z"
    },
    "papermill": {
     "duration": 1.145366,
     "end_time": "2020-08-26T20:08:13.690323",
     "exception": false,
     "start_time": "2020-08-26T20:08:12.544957",
     "status": "completed"
    },
    "scrolled": true,
    "tags": [
     "remove_input"
    ]
   },
   "outputs": [
    {
     "data": {
      "text/html": [
       "<style  type=\"text/css\" >\n",
       "    #T_df325eac_e7d7_11ea_ac9f_42010a8a0004 th {\n",
       "          text-align: center;\n",
       "    }#T_df325eac_e7d7_11ea_ac9f_42010a8a0004row0_col0{\n",
       "            width:  20em;\n",
       "            text-align:  center;\n",
       "            font-weight:  bold;\n",
       "        }#T_df325eac_e7d7_11ea_ac9f_42010a8a0004row0_col1,#T_df325eac_e7d7_11ea_ac9f_42010a8a0004row0_col2,#T_df325eac_e7d7_11ea_ac9f_42010a8a0004row0_col3,#T_df325eac_e7d7_11ea_ac9f_42010a8a0004row0_col4,#T_df325eac_e7d7_11ea_ac9f_42010a8a0004row0_col5,#T_df325eac_e7d7_11ea_ac9f_42010a8a0004row0_col6{\n",
       "            width:  20em;\n",
       "            text-align:  center;\n",
       "        }</style><table id=\"T_df325eac_e7d7_11ea_ac9f_42010a8a0004\" ><thead>    <tr>        <th class=\"col_heading level0 col0\" >Date</th>        <th class=\"col_heading level0 col1\" >Daily tests (per 100,000)¹</th>        <th class=\"col_heading level0 col2\" >Case rate (per 100,000)²</th>        <th class=\"col_heading level0 col3\" >Testing positivity (%)³</th>        <th class=\"col_heading level0 col4\" >Change in hospitalizations (%)⁴</th>        <th class=\"col_heading level0 col5\" >ICU beds available (%)</th>        <th class=\"col_heading level0 col6\" >Ventilators (available (%)</th>    </tr></thead><tbody>\n",
       "                <tr>\n",
       "                                <td id=\"T_df325eac_e7d7_11ea_ac9f_42010a8a0004row0_col0\" class=\"data row0 col0\" >2020-08-26</td>\n",
       "                        <td id=\"T_df325eac_e7d7_11ea_ac9f_42010a8a0004row0_col1\" class=\"data row0 col1\" >219.7</td>\n",
       "                        <td id=\"T_df325eac_e7d7_11ea_ac9f_42010a8a0004row0_col2\" class=\"data row0 col2\" >133.2</td>\n",
       "                        <td id=\"T_df325eac_e7d7_11ea_ac9f_42010a8a0004row0_col3\" class=\"data row0 col3\" > ✔</td>\n",
       "                        <td id=\"T_df325eac_e7d7_11ea_ac9f_42010a8a0004row0_col4\" class=\"data row0 col4\" > ✔</td>\n",
       "                        <td id=\"T_df325eac_e7d7_11ea_ac9f_42010a8a0004row0_col5\" class=\"data row0 col5\" > ✔</td>\n",
       "                        <td id=\"T_df325eac_e7d7_11ea_ac9f_42010a8a0004row0_col6\" class=\"data row0 col6\" > ✔</td>\n",
       "            </tr>\n",
       "    </tbody></table>"
      ],
      "text/plain": [
       "<pandas.io.formats.style.Styler at 0x7f91b07b1080>"
      ]
     },
     "execution_count": 12,
     "metadata": {},
     "output_type": "execute_result"
    }
   ],
   "source": [
    "# Style the pandas dataframe\n",
    "d = dict(selector=\"th\",\n",
    "         props=[('text-align', 'center')])\n",
    "\n",
    "result.reset_index().style\\\n",
    "    .set_properties(**{'width':'20em', 'text-align':'center'})\\\n",
    "    .set_properties(subset=['Date'], **{'font-weight': 'bold'})\\\n",
    "    .set_table_styles([d])\\\n",
    "    .set_precision(1)\\\n",
    "    .hide_index()"
   ]
  },
  {
   "cell_type": "markdown",
   "metadata": {
    "papermill": {
     "duration": 0.0105,
     "end_time": "2020-08-26T20:08:13.711603",
     "exception": false,
     "start_time": "2020-08-26T20:08:13.701103",
     "status": "completed"
    },
    "tags": []
   },
   "source": [
    "<sup>Notes: (1) 7 day average with a 7-day lag. (2) 14 day average. (3) 7 day average with a 7-day lag. (4) Change in 3 day average.</sup>"
   ]
  },
  {
   "cell_type": "code",
   "execution_count": 13,
   "metadata": {
    "execution": {
     "iopub.execute_input": "2020-08-26T20:08:13.739346Z",
     "iopub.status.busy": "2020-08-26T20:08:13.737574Z",
     "iopub.status.idle": "2020-08-26T20:08:13.741174Z",
     "shell.execute_reply": "2020-08-26T20:08:13.740747Z"
    },
    "papermill": {
     "duration": 0.019167,
     "end_time": "2020-08-26T20:08:13.741295",
     "exception": false,
     "start_time": "2020-08-26T20:08:13.722128",
     "status": "completed"
    },
    "tags": [
     "remove_input"
    ]
   },
   "outputs": [
    {
     "data": {
      "text/markdown": [
       "Table last updated by CDPH on August 26, 2020."
      ],
      "text/plain": [
       "<IPython.core.display.Markdown object>"
      ]
     },
     "execution_count": 13,
     "metadata": {},
     "output_type": "execute_result"
    }
   ],
   "source": [
    "md(update_tag)"
   ]
  },
  {
   "cell_type": "markdown",
   "metadata": {
    "papermill": {
     "duration": 0.010623,
     "end_time": "2020-08-26T20:08:13.762321",
     "exception": false,
     "start_time": "2020-08-26T20:08:13.751698",
     "status": "completed"
    },
    "tags": []
   },
   "source": [
    "## Tracking county closures in Santa Barbara"
   ]
  },
  {
   "cell_type": "markdown",
   "metadata": {
    "papermill": {
     "duration": 0.010401,
     "end_time": "2020-08-26T20:08:13.783392",
     "exception": false,
     "start_time": "2020-08-26T20:08:13.772991",
     "status": "completed"
    },
    "tags": []
   },
   "source": [
    "The state of California is using a data-driven approach informed by scientific evidence to tailor its response to COVID-19. Three dimensions of concern are monitored to assess whether a county should be placed on the County Monitoring List:\n",
    " 1. Elevated Disease Transmission\n",
    " 2. Increasing Hospitalization\n",
    " 3. Limited Hospital Capacity\n",
    "\n",
    "Once a county appears on the County Monitoring List for three consecutive days, indoor operations in the sectors listed in Section 3 of the [July 13th State Health Officer Order](https://www.cdph.ca.gov/Programs/CID/DCDC/CDPH%20Document%20Library/COVID-19/SHO%20Order%20Dimming%20Entire%20State%207-13-2020.pdf) must close.\n",
    "\n",
    "This table tracks where Santa Barbara stands in terms of the criteria for inclusion on the County Monitoring List. As of 20 August 2020, the criteria for inclusion on the monitoring list are:\n",
    "\n",
    "* Case rate >100 OR (Case rate >25 AND Positivity >8%)\n",
    "* \\>10% increase in hospitalizations\n",
    "* <20% ICU beds available OR <25% ventilators available\n",
    "\n",
    "If Santa Barbara meets the criteria for removal from the County Monitoring List for a certain metric, then a checkmark ✔ is displayed in the table.\n",
    "\n",
    "Read more at <https://covid19.ca.gov/roadmap-counties/>.\n",
    "\n",
    "Data source for county metrics: https://www.cdph.ca.gov/Programs/CID/DCDC/Pages/COVID-19/COVID19CountyDataTable.aspx."
   ]
  },
  {
   "cell_type": "markdown",
   "metadata": {
    "papermill": {
     "duration": 0.010713,
     "end_time": "2020-08-26T20:08:13.804525",
     "exception": false,
     "start_time": "2020-08-26T20:08:13.793812",
     "status": "completed"
    },
    "tags": []
   },
   "source": [
    "**See the code used to scrape the data: https://github.com/walice/COVID-SB/.**"
   ]
  },
  {
   "cell_type": "code",
   "execution_count": 14,
   "metadata": {
    "execution": {
     "iopub.execute_input": "2020-08-26T20:08:13.831629Z",
     "iopub.status.busy": "2020-08-26T20:08:13.831063Z",
     "iopub.status.idle": "2020-08-26T20:08:13.835418Z",
     "shell.execute_reply": "2020-08-26T20:08:13.835822Z"
    },
    "papermill": {
     "duration": 0.020672,
     "end_time": "2020-08-26T20:08:13.835978",
     "exception": false,
     "start_time": "2020-08-26T20:08:13.815306",
     "status": "completed"
    },
    "tags": [
     "remove_cell"
    ]
   },
   "outputs": [
    {
     "data": {
      "application/javascript": [
       "IPython.notebook.save_notebook()\n"
      ],
      "text/plain": [
       "<IPython.core.display.Javascript object>"
      ]
     },
     "metadata": {},
     "output_type": "display_data"
    }
   ],
   "source": [
    "%%javascript\n",
    "IPython.notebook.save_notebook()"
   ]
  },
  {
   "cell_type": "code",
   "execution_count": 15,
   "metadata": {
    "execution": {
     "iopub.execute_input": "2020-08-26T20:08:13.866262Z",
     "iopub.status.busy": "2020-08-26T20:08:13.863040Z",
     "iopub.status.idle": "2020-08-26T20:08:16.734943Z",
     "shell.execute_reply": "2020-08-26T20:08:16.735876Z"
    },
    "papermill": {
     "duration": 2.889137,
     "end_time": "2020-08-26T20:08:16.736049",
     "exception": false,
     "start_time": "2020-08-26T20:08:13.846912",
     "status": "completed"
    },
    "slideshow": {
     "slide_type": "skip"
    },
    "tags": [
     "remove_cell"
    ]
   },
   "outputs": [
    {
     "name": "stdout",
     "output_type": "stream",
     "text": [
      "[NbConvertApp] Converting notebook index.ipynb to html\r\n"
     ]
    },
    {
     "name": "stdout",
     "output_type": "stream",
     "text": [
      "[NbConvertApp] Writing 351049 bytes to index.html\r\n"
     ]
    }
   ],
   "source": [
    "# Convert Jupyter Notebook to HTML\n",
    "! jupyter nbconvert \"index.ipynb\" --to html --TagRemovePreprocessor.enabled=True --TagRemovePreprocessor.remove_cell_tags=\"['remove_cell']\" --TagRemovePreprocessor.remove_input_tags=\"['remove_input']\" --no-prompt"
   ]
  },
  {
   "cell_type": "code",
   "execution_count": 16,
   "metadata": {
    "execution": {
     "iopub.execute_input": "2020-08-26T20:08:16.767589Z",
     "iopub.status.busy": "2020-08-26T20:08:16.766995Z",
     "iopub.status.idle": "2020-08-26T20:08:16.768418Z",
     "shell.execute_reply": "2020-08-26T20:08:16.768015Z"
    },
    "papermill": {
     "duration": 0.01862,
     "end_time": "2020-08-26T20:08:16.768544",
     "exception": false,
     "start_time": "2020-08-26T20:08:16.749924",
     "status": "completed"
    },
    "tags": [
     "remove_cell"
    ]
   },
   "outputs": [],
   "source": [
    "# Create daily commit message\n",
    "now = datetime.datetime.now()\n",
    "commit_message = \"Last scraped on \" + str(now)"
   ]
  },
  {
   "cell_type": "code",
   "execution_count": null,
   "metadata": {
    "execution": {
     "iopub.execute_input": "2020-08-26T20:06:15.135584Z",
     "iopub.status.busy": "2020-08-26T20:06:15.135051Z",
     "iopub.status.idle": "2020-08-26T20:06:20.367999Z",
     "shell.execute_reply": "2020-08-26T20:06:20.366803Z"
    },
    "papermill": {
     "duration": null,
     "end_time": null,
     "exception": false,
     "start_time": "2020-08-26T20:08:16.779509",
     "status": "running"
    },
    "tags": [
     "remove_cell"
    ]
   },
   "outputs": [],
   "source": [
    "# Deploy to GitHub\n",
    "! git add .\n",
    "! echo $commit_message > commit_message.txt\n",
    "! git commit -F commit_message.txt\n",
    "! git push"
   ]
  }
 ],
 "metadata": {
  "celltoolbar": "Tags",
  "kernelspec": {
   "display_name": "Python 3",
   "language": "python",
   "name": "python3"
  },
  "language_info": {
   "codemirror_mode": {
    "name": "ipython",
    "version": 3
   },
   "file_extension": ".py",
   "mimetype": "text/x-python",
   "name": "python",
   "nbconvert_exporter": "python",
   "pygments_lexer": "ipython3",
   "version": "3.7.3"
  },
  "papermill": {
   "duration": null,
   "end_time": null,
   "environment_variables": {},
   "exception": null,
   "input_path": "/home/alice_lepissier/cron-job/index.ipynb",
   "output_path": "/home/alice_lepissier/cron-job/index.ipynb",
   "parameters": {},
   "start_time": "2020-08-26T20:08:03.480052",
   "version": "2.1.3"
  }
 },
 "nbformat": 4,
 "nbformat_minor": 4
}