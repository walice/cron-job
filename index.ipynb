{
 "cells": [
  {
   "cell_type": "markdown",
   "metadata": {
    "papermill": {
     "duration": 0.01279,
     "end_time": "2020-08-26T08:42:02.916072",
     "exception": false,
     "start_time": "2020-08-26T08:42:02.903282",
     "status": "completed"
    },
    "tags": []
   },
   "source": [
    "# Daily COVID monitoring data for Santa Barbara county"
   ]
  },
  {
   "cell_type": "code",
   "execution_count": 1,
   "metadata": {
    "execution": {
     "iopub.execute_input": "2020-08-26T08:42:02.948129Z",
     "iopub.status.busy": "2020-08-26T08:42:02.947592Z",
     "iopub.status.idle": "2020-08-26T08:42:03.056559Z",
     "shell.execute_reply": "2020-08-26T08:42:03.055595Z"
    },
    "papermill": {
     "duration": 0.129362,
     "end_time": "2020-08-26T08:42:03.056707",
     "exception": false,
     "start_time": "2020-08-26T08:42:02.927345",
     "status": "completed"
    },
    "tags": [
     "remove_cell"
    ]
   },
   "outputs": [
    {
     "name": "stdout",
     "output_type": "stream",
     "text": [
      "/bin/sh: 1: jt: not found\r\n"
     ]
    }
   ],
   "source": [
    "! jt -t grade3 -tf robotosans -cellw 1100"
   ]
  },
  {
   "cell_type": "markdown",
   "metadata": {
    "papermill": {
     "duration": 0.011055,
     "end_time": "2020-08-26T08:42:03.079492",
     "exception": false,
     "start_time": "2020-08-26T08:42:03.068437",
     "status": "completed"
    },
    "tags": []
   },
   "source": [
    "This table is automatically updated with new daily COVID data for the county of Santa Barbara, CA. Every day, the California Department of Public Health publishes COVID tracking metrics for each county, but does not save the previous day's data. This tool keeps track of the daily metrics that are used to monitor progress towards safe reopening in California."
   ]
  },
  {
   "cell_type": "code",
   "execution_count": 2,
   "metadata": {
    "execution": {
     "iopub.execute_input": "2020-08-26T08:42:03.107478Z",
     "iopub.status.busy": "2020-08-26T08:42:03.106969Z",
     "iopub.status.idle": "2020-08-26T08:42:03.524490Z",
     "shell.execute_reply": "2020-08-26T08:42:03.525309Z"
    },
    "papermill": {
     "duration": 0.434949,
     "end_time": "2020-08-26T08:42:03.525490",
     "exception": false,
     "start_time": "2020-08-26T08:42:03.090541",
     "status": "completed"
    },
    "slideshow": {
     "slide_type": "skip"
    },
    "tags": [
     "remove_cell"
    ]
   },
   "outputs": [],
   "source": [
    "# Preamble\n",
    "import os\n",
    "from IPython.display import Markdown as md\n",
    "import IPython\n",
    "import requests\n",
    "from bs4 import BeautifulSoup\n",
    "import re\n",
    "import pandas as pd\n",
    "import datetime\n",
    "import gspread\n",
    "from oauth2client.service_account import ServiceAccountCredentials"
   ]
  },
  {
   "cell_type": "code",
   "execution_count": 3,
   "metadata": {
    "execution": {
     "iopub.execute_input": "2020-08-26T08:42:03.554191Z",
     "iopub.status.busy": "2020-08-26T08:42:03.553524Z",
     "iopub.status.idle": "2020-08-26T08:42:03.555051Z",
     "shell.execute_reply": "2020-08-26T08:42:03.554651Z"
    },
    "papermill": {
     "duration": 0.018046,
     "end_time": "2020-08-26T08:42:03.555168",
     "exception": false,
     "start_time": "2020-08-26T08:42:03.537122",
     "status": "completed"
    },
    "tags": []
   },
   "outputs": [],
   "source": [
    "# Set working directory\n",
    "os.chdir(\"/home/alice_lepissier/cron-job\")"
   ]
  },
  {
   "cell_type": "code",
   "execution_count": 4,
   "metadata": {
    "execution": {
     "iopub.execute_input": "2020-08-26T08:42:03.583296Z",
     "iopub.status.busy": "2020-08-26T08:42:03.582775Z",
     "iopub.status.idle": "2020-08-26T08:42:03.857830Z",
     "shell.execute_reply": "2020-08-26T08:42:03.858608Z"
    },
    "papermill": {
     "duration": 0.292705,
     "end_time": "2020-08-26T08:42:03.858779",
     "exception": false,
     "start_time": "2020-08-26T08:42:03.566074",
     "status": "completed"
    },
    "slideshow": {
     "slide_type": "skip"
    },
    "tags": [
     "remove_cell"
    ]
   },
   "outputs": [],
   "source": [
    "# Request content from URL\n",
    "html_string = requests.get('https://www.cdph.ca.gov/Programs/CID/DCDC/Pages/COVID-19/COVID19CountyDataTable.aspx').content"
   ]
  },
  {
   "cell_type": "code",
   "execution_count": 5,
   "metadata": {
    "execution": {
     "iopub.execute_input": "2020-08-26T08:42:03.887478Z",
     "iopub.status.busy": "2020-08-26T08:42:03.886974Z",
     "iopub.status.idle": "2020-08-26T08:42:03.970182Z",
     "shell.execute_reply": "2020-08-26T08:42:03.970993Z"
    },
    "papermill": {
     "duration": 0.100937,
     "end_time": "2020-08-26T08:42:03.971159",
     "exception": false,
     "start_time": "2020-08-26T08:42:03.870222",
     "status": "completed"
    },
    "slideshow": {
     "slide_type": "skip"
    },
    "tags": [
     "remove_cell"
    ]
   },
   "outputs": [],
   "source": [
    "# Parse HTML\n",
    "soup = BeautifulSoup(html_string, 'html.parser')"
   ]
  },
  {
   "cell_type": "code",
   "execution_count": 6,
   "metadata": {
    "execution": {
     "iopub.execute_input": "2020-08-26T08:42:03.999540Z",
     "iopub.status.busy": "2020-08-26T08:42:03.999035Z",
     "iopub.status.idle": "2020-08-26T08:42:04.009235Z",
     "shell.execute_reply": "2020-08-26T08:42:04.010124Z"
    },
    "papermill": {
     "duration": 0.027753,
     "end_time": "2020-08-26T08:42:04.010294",
     "exception": false,
     "start_time": "2020-08-26T08:42:03.982541",
     "status": "completed"
    },
    "slideshow": {
     "slide_type": "skip"
    },
    "tags": [
     "remove_cell"
    ]
   },
   "outputs": [],
   "source": [
    "# Extract data for Santa Barbara\n",
    "table = soup.find_all(\"tr\", class_=\"ms-rteTableEvenRow-3\")\n",
    "SB = table[21]"
   ]
  },
  {
   "cell_type": "code",
   "execution_count": 7,
   "metadata": {
    "execution": {
     "iopub.execute_input": "2020-08-26T08:42:04.039559Z",
     "iopub.status.busy": "2020-08-26T08:42:04.039034Z",
     "iopub.status.idle": "2020-08-26T08:42:04.051846Z",
     "shell.execute_reply": "2020-08-26T08:42:04.052620Z"
    },
    "papermill": {
     "duration": 0.031026,
     "end_time": "2020-08-26T08:42:04.052780",
     "exception": false,
     "start_time": "2020-08-26T08:42:04.021754",
     "status": "completed"
    },
    "slideshow": {
     "slide_type": "skip"
    },
    "tags": [
     "remove_cell"
    ]
   },
   "outputs": [],
   "source": [
    "# Avg # tests per day (per 100,000 population)\n",
    "daily_tests = SB.find_all(\"td\", class_=\"ms-rteTableOddCol-3\")[0].text\n",
    "\n",
    "# Case rate per 100,000\n",
    "case_rate = SB.find_all(\"td\", class_=\"ms-rteTableEvenCol-3\")[1].text\n",
    "\n",
    "# Testing positivity (%)\n",
    "test_positivity = SB.find_all(\"td\", class_=\"ms-rteTableOddCol-3\")[1].text\n",
    "\n",
    "# % Change in 3-day avg COVID+ hospitalized patients\n",
    "change_hospit = SB.find_all(\"td\", class_=\"ms-rteTableEvenCol-3\")[2].text\n",
    "\n",
    "# % ICU beds currently available\n",
    "ICU_beds = SB.find_all(\"td\", class_=\"ms-rteTableOddCol-3\")[2].text\n",
    "\n",
    "# % Ventilators currently available\n",
    "ventilators = SB.find_all(\"td\", class_=\"ms-rteTableEvenCol-3\")[3].text\n",
    "\n",
    "# Extract date of last update\n",
    "update_date = soup.find_all(\"span\", class_=\"ms-rteStyle-Accent1\")[1]\\\n",
    "    .find(\"em\").text"
   ]
  },
  {
   "cell_type": "code",
   "execution_count": 8,
   "metadata": {
    "execution": {
     "iopub.execute_input": "2020-08-26T08:42:04.081094Z",
     "iopub.status.busy": "2020-08-26T08:42:04.080480Z",
     "iopub.status.idle": "2020-08-26T08:42:04.081925Z",
     "shell.execute_reply": "2020-08-26T08:42:04.081522Z"
    },
    "papermill": {
     "duration": 0.01791,
     "end_time": "2020-08-26T08:42:04.082040",
     "exception": false,
     "start_time": "2020-08-26T08:42:04.064130",
     "status": "completed"
    },
    "tags": [
     "remove_cell"
    ]
   },
   "outputs": [],
   "source": [
    "# Create updated date string\n",
    "update_tag = \"Table last updated by CDPH on \" + update_date.split(\" on \", 1)[1] + \".\""
   ]
  },
  {
   "cell_type": "code",
   "execution_count": 9,
   "metadata": {
    "execution": {
     "iopub.execute_input": "2020-08-26T08:42:04.111241Z",
     "iopub.status.busy": "2020-08-26T08:42:04.110733Z",
     "iopub.status.idle": "2020-08-26T08:42:04.113742Z",
     "shell.execute_reply": "2020-08-26T08:42:04.114591Z"
    },
    "papermill": {
     "duration": 0.021396,
     "end_time": "2020-08-26T08:42:04.114742",
     "exception": false,
     "start_time": "2020-08-26T08:42:04.093346",
     "status": "completed"
    },
    "slideshow": {
     "slide_type": "skip"
    },
    "tags": [
     "remove_cell"
    ]
   },
   "outputs": [],
   "source": [
    "# Set up Google Sheet API\n",
    "scope = [\"https://spreadsheets.google.com/feeds\",'https://www.googleapis.com/auth/spreadsheets',\"https://www.googleapis.com/auth/drive.file\",\"https://www.googleapis.com/auth/drive\"]\n",
    "creds = ServiceAccountCredentials.from_json_keyfile_name(\"credentials.json\", scope)\n",
    "client = gspread.authorize(creds)"
   ]
  },
  {
   "cell_type": "code",
   "execution_count": 10,
   "metadata": {
    "execution": {
     "iopub.execute_input": "2020-08-26T08:42:04.143485Z",
     "iopub.status.busy": "2020-08-26T08:42:04.142990Z",
     "iopub.status.idle": "2020-08-26T08:42:05.569247Z",
     "shell.execute_reply": "2020-08-26T08:42:05.569976Z"
    },
    "papermill": {
     "duration": 1.444217,
     "end_time": "2020-08-26T08:42:05.570159",
     "exception": false,
     "start_time": "2020-08-26T08:42:04.125942",
     "status": "completed"
    },
    "slideshow": {
     "slide_type": "skip"
    },
    "tags": [
     "remove_cell"
    ]
   },
   "outputs": [
    {
     "data": {
      "text/plain": [
       "{'spreadsheetId': '1pcqdMzKtea2Oq3BDmdAOQ21gZjCssieKI0692VfNLXU',\n",
       " 'updatedRange': 'Sheet1!A2:G2',\n",
       " 'updatedRows': 1,\n",
       " 'updatedColumns': 7,\n",
       " 'updatedCells': 7}"
      ]
     },
     "execution_count": 10,
     "metadata": {},
     "output_type": "execute_result"
    }
   ],
   "source": [
    "# Append daily data as a new row in Google Sheet\n",
    "sheet = client.open(\"Test cron job\").sheet1\n",
    "insertRow = [datetime.date.today().strftime(\"%Y-%m-%d\"),\n",
    "             daily_tests,\n",
    "             case_rate,\n",
    "             test_positivity,\n",
    "             change_hospit,\n",
    "             ICU_beds,\n",
    "             ventilators]\n",
    "sheet.insert_row(insertRow, 2)"
   ]
  },
  {
   "cell_type": "code",
   "execution_count": 11,
   "metadata": {
    "execution": {
     "iopub.execute_input": "2020-08-26T08:42:05.598519Z",
     "iopub.status.busy": "2020-08-26T08:42:05.597984Z",
     "iopub.status.idle": "2020-08-26T08:42:06.403397Z",
     "shell.execute_reply": "2020-08-26T08:42:06.404229Z"
    },
    "papermill": {
     "duration": 0.822558,
     "end_time": "2020-08-26T08:42:06.404393",
     "exception": false,
     "start_time": "2020-08-26T08:42:05.581835",
     "status": "completed"
    },
    "scrolled": true,
    "slideshow": {
     "slide_type": "slide"
    },
    "tags": [
     "remove_cell"
    ]
   },
   "outputs": [],
   "source": [
    "# Extract data from Google Sheet as pandas dataframe\n",
    "sheet = client.open(\"Test cron job\").sheet1\n",
    "data = sheet.get_all_records()\n",
    "result = pd.DataFrame(data).set_index(\"Date\")"
   ]
  },
  {
   "cell_type": "code",
   "execution_count": 12,
   "metadata": {
    "execution": {
     "iopub.execute_input": "2020-08-26T08:42:06.435564Z",
     "iopub.status.busy": "2020-08-26T08:42:06.435039Z",
     "iopub.status.idle": "2020-08-26T08:42:06.754364Z",
     "shell.execute_reply": "2020-08-26T08:42:06.755068Z"
    },
    "papermill": {
     "duration": 0.338867,
     "end_time": "2020-08-26T08:42:06.755224",
     "exception": false,
     "start_time": "2020-08-26T08:42:06.416357",
     "status": "completed"
    },
    "scrolled": true,
    "tags": [
     "remove_input"
    ]
   },
   "outputs": [
    {
     "data": {
      "text/html": [
       "<style  type=\"text/css\" >\n",
       "    #T_05ca66fa_e778_11ea_b7cb_42010a8a0004 th {\n",
       "          text-align: center;\n",
       "    }#T_05ca66fa_e778_11ea_b7cb_42010a8a0004row0_col0,#T_05ca66fa_e778_11ea_b7cb_42010a8a0004row1_col0,#T_05ca66fa_e778_11ea_b7cb_42010a8a0004row2_col0,#T_05ca66fa_e778_11ea_b7cb_42010a8a0004row3_col0,#T_05ca66fa_e778_11ea_b7cb_42010a8a0004row4_col0,#T_05ca66fa_e778_11ea_b7cb_42010a8a0004row5_col0,#T_05ca66fa_e778_11ea_b7cb_42010a8a0004row6_col0,#T_05ca66fa_e778_11ea_b7cb_42010a8a0004row7_col0,#T_05ca66fa_e778_11ea_b7cb_42010a8a0004row8_col0,#T_05ca66fa_e778_11ea_b7cb_42010a8a0004row9_col0,#T_05ca66fa_e778_11ea_b7cb_42010a8a0004row10_col0,#T_05ca66fa_e778_11ea_b7cb_42010a8a0004row11_col0,#T_05ca66fa_e778_11ea_b7cb_42010a8a0004row12_col0,#T_05ca66fa_e778_11ea_b7cb_42010a8a0004row13_col0{\n",
       "            width:  20em;\n",
       "            text-align:  center;\n",
       "            font-weight:  bold;\n",
       "        }#T_05ca66fa_e778_11ea_b7cb_42010a8a0004row0_col1,#T_05ca66fa_e778_11ea_b7cb_42010a8a0004row0_col2,#T_05ca66fa_e778_11ea_b7cb_42010a8a0004row1_col1,#T_05ca66fa_e778_11ea_b7cb_42010a8a0004row1_col2,#T_05ca66fa_e778_11ea_b7cb_42010a8a0004row2_col1,#T_05ca66fa_e778_11ea_b7cb_42010a8a0004row2_col2,#T_05ca66fa_e778_11ea_b7cb_42010a8a0004row3_col1,#T_05ca66fa_e778_11ea_b7cb_42010a8a0004row3_col2,#T_05ca66fa_e778_11ea_b7cb_42010a8a0004row4_col1,#T_05ca66fa_e778_11ea_b7cb_42010a8a0004row4_col2,#T_05ca66fa_e778_11ea_b7cb_42010a8a0004row5_col1,#T_05ca66fa_e778_11ea_b7cb_42010a8a0004row5_col2,#T_05ca66fa_e778_11ea_b7cb_42010a8a0004row6_col1,#T_05ca66fa_e778_11ea_b7cb_42010a8a0004row6_col2,#T_05ca66fa_e778_11ea_b7cb_42010a8a0004row7_col1,#T_05ca66fa_e778_11ea_b7cb_42010a8a0004row7_col2,#T_05ca66fa_e778_11ea_b7cb_42010a8a0004row8_col1,#T_05ca66fa_e778_11ea_b7cb_42010a8a0004row8_col2,#T_05ca66fa_e778_11ea_b7cb_42010a8a0004row9_col1,#T_05ca66fa_e778_11ea_b7cb_42010a8a0004row9_col2,#T_05ca66fa_e778_11ea_b7cb_42010a8a0004row10_col1,#T_05ca66fa_e778_11ea_b7cb_42010a8a0004row10_col2,#T_05ca66fa_e778_11ea_b7cb_42010a8a0004row11_col1,#T_05ca66fa_e778_11ea_b7cb_42010a8a0004row11_col2,#T_05ca66fa_e778_11ea_b7cb_42010a8a0004row12_col1,#T_05ca66fa_e778_11ea_b7cb_42010a8a0004row12_col2,#T_05ca66fa_e778_11ea_b7cb_42010a8a0004row13_col1,#T_05ca66fa_e778_11ea_b7cb_42010a8a0004row13_col2{\n",
       "            width:  20em;\n",
       "            text-align:  center;\n",
       "        }</style><table id=\"T_05ca66fa_e778_11ea_b7cb_42010a8a0004\" ><thead>    <tr>        <th class=\"col_heading level0 col0\" >Date</th>        <th class=\"col_heading level0 col1\" >Time</th>        <th class=\"col_heading level0 col2\" ></th>    </tr></thead><tbody>\n",
       "                <tr>\n",
       "                                <td id=\"T_05ca66fa_e778_11ea_b7cb_42010a8a0004row0_col0\" class=\"data row0 col0\" >2020-08-26</td>\n",
       "                        <td id=\"T_05ca66fa_e778_11ea_b7cb_42010a8a0004row0_col1\" class=\"data row0 col1\" >222.1</td>\n",
       "                        <td id=\"T_05ca66fa_e778_11ea_b7cb_42010a8a0004row0_col2\" class=\"data row0 col2\" > ✔</td>\n",
       "            </tr>\n",
       "            <tr>\n",
       "                                <td id=\"T_05ca66fa_e778_11ea_b7cb_42010a8a0004row1_col0\" class=\"data row1 col0\" >2020-08-26</td>\n",
       "                        <td id=\"T_05ca66fa_e778_11ea_b7cb_42010a8a0004row1_col1\" class=\"data row1 col1\" >222.1</td>\n",
       "                        <td id=\"T_05ca66fa_e778_11ea_b7cb_42010a8a0004row1_col2\" class=\"data row1 col2\" > ✔</td>\n",
       "            </tr>\n",
       "            <tr>\n",
       "                                <td id=\"T_05ca66fa_e778_11ea_b7cb_42010a8a0004row2_col0\" class=\"data row2 col0\" >2020-08-26</td>\n",
       "                        <td id=\"T_05ca66fa_e778_11ea_b7cb_42010a8a0004row2_col1\" class=\"data row2 col1\" >222.1</td>\n",
       "                        <td id=\"T_05ca66fa_e778_11ea_b7cb_42010a8a0004row2_col2\" class=\"data row2 col2\" > ✔</td>\n",
       "            </tr>\n",
       "            <tr>\n",
       "                                <td id=\"T_05ca66fa_e778_11ea_b7cb_42010a8a0004row3_col0\" class=\"data row3 col0\" >2020-08-26</td>\n",
       "                        <td id=\"T_05ca66fa_e778_11ea_b7cb_42010a8a0004row3_col1\" class=\"data row3 col1\" >222.1</td>\n",
       "                        <td id=\"T_05ca66fa_e778_11ea_b7cb_42010a8a0004row3_col2\" class=\"data row3 col2\" > ✔</td>\n",
       "            </tr>\n",
       "            <tr>\n",
       "                                <td id=\"T_05ca66fa_e778_11ea_b7cb_42010a8a0004row4_col0\" class=\"data row4 col0\" >2020-08-26</td>\n",
       "                        <td id=\"T_05ca66fa_e778_11ea_b7cb_42010a8a0004row4_col1\" class=\"data row4 col1\" >222.1</td>\n",
       "                        <td id=\"T_05ca66fa_e778_11ea_b7cb_42010a8a0004row4_col2\" class=\"data row4 col2\" > ✔</td>\n",
       "            </tr>\n",
       "            <tr>\n",
       "                                <td id=\"T_05ca66fa_e778_11ea_b7cb_42010a8a0004row5_col0\" class=\"data row5 col0\" >2020-08-26</td>\n",
       "                        <td id=\"T_05ca66fa_e778_11ea_b7cb_42010a8a0004row5_col1\" class=\"data row5 col1\" >222.1</td>\n",
       "                        <td id=\"T_05ca66fa_e778_11ea_b7cb_42010a8a0004row5_col2\" class=\"data row5 col2\" > ✔</td>\n",
       "            </tr>\n",
       "            <tr>\n",
       "                                <td id=\"T_05ca66fa_e778_11ea_b7cb_42010a8a0004row6_col0\" class=\"data row6 col0\" >2020-08-26</td>\n",
       "                        <td id=\"T_05ca66fa_e778_11ea_b7cb_42010a8a0004row6_col1\" class=\"data row6 col1\" >222.1</td>\n",
       "                        <td id=\"T_05ca66fa_e778_11ea_b7cb_42010a8a0004row6_col2\" class=\"data row6 col2\" > ✔</td>\n",
       "            </tr>\n",
       "            <tr>\n",
       "                                <td id=\"T_05ca66fa_e778_11ea_b7cb_42010a8a0004row7_col0\" class=\"data row7 col0\" >2020-08-26</td>\n",
       "                        <td id=\"T_05ca66fa_e778_11ea_b7cb_42010a8a0004row7_col1\" class=\"data row7 col1\" >222.1</td>\n",
       "                        <td id=\"T_05ca66fa_e778_11ea_b7cb_42010a8a0004row7_col2\" class=\"data row7 col2\" > ✔</td>\n",
       "            </tr>\n",
       "            <tr>\n",
       "                                <td id=\"T_05ca66fa_e778_11ea_b7cb_42010a8a0004row8_col0\" class=\"data row8 col0\" >2020-08-26</td>\n",
       "                        <td id=\"T_05ca66fa_e778_11ea_b7cb_42010a8a0004row8_col1\" class=\"data row8 col1\" >222.1</td>\n",
       "                        <td id=\"T_05ca66fa_e778_11ea_b7cb_42010a8a0004row8_col2\" class=\"data row8 col2\" > ✔</td>\n",
       "            </tr>\n",
       "            <tr>\n",
       "                                <td id=\"T_05ca66fa_e778_11ea_b7cb_42010a8a0004row9_col0\" class=\"data row9 col0\" >2020-08-26</td>\n",
       "                        <td id=\"T_05ca66fa_e778_11ea_b7cb_42010a8a0004row9_col1\" class=\"data row9 col1\" >222.1</td>\n",
       "                        <td id=\"T_05ca66fa_e778_11ea_b7cb_42010a8a0004row9_col2\" class=\"data row9 col2\" > ✔</td>\n",
       "            </tr>\n",
       "            <tr>\n",
       "                                <td id=\"T_05ca66fa_e778_11ea_b7cb_42010a8a0004row10_col0\" class=\"data row10 col0\" >2020-08-26</td>\n",
       "                        <td id=\"T_05ca66fa_e778_11ea_b7cb_42010a8a0004row10_col1\" class=\"data row10 col1\" >222.1</td>\n",
       "                        <td id=\"T_05ca66fa_e778_11ea_b7cb_42010a8a0004row10_col2\" class=\"data row10 col2\" > ✔</td>\n",
       "            </tr>\n",
       "            <tr>\n",
       "                                <td id=\"T_05ca66fa_e778_11ea_b7cb_42010a8a0004row11_col0\" class=\"data row11 col0\" >2020-08-26</td>\n",
       "                        <td id=\"T_05ca66fa_e778_11ea_b7cb_42010a8a0004row11_col1\" class=\"data row11 col1\" >222.1</td>\n",
       "                        <td id=\"T_05ca66fa_e778_11ea_b7cb_42010a8a0004row11_col2\" class=\"data row11 col2\" > ✔</td>\n",
       "            </tr>\n",
       "            <tr>\n",
       "                                <td id=\"T_05ca66fa_e778_11ea_b7cb_42010a8a0004row12_col0\" class=\"data row12 col0\" >2020-08-26</td>\n",
       "                        <td id=\"T_05ca66fa_e778_11ea_b7cb_42010a8a0004row12_col1\" class=\"data row12 col1\" >222.1</td>\n",
       "                        <td id=\"T_05ca66fa_e778_11ea_b7cb_42010a8a0004row12_col2\" class=\"data row12 col2\" > ✔</td>\n",
       "            </tr>\n",
       "            <tr>\n",
       "                                <td id=\"T_05ca66fa_e778_11ea_b7cb_42010a8a0004row13_col0\" class=\"data row13 col0\" >2020-08-26</td>\n",
       "                        <td id=\"T_05ca66fa_e778_11ea_b7cb_42010a8a0004row13_col1\" class=\"data row13 col1\" >222.1</td>\n",
       "                        <td id=\"T_05ca66fa_e778_11ea_b7cb_42010a8a0004row13_col2\" class=\"data row13 col2\" > ✔</td>\n",
       "            </tr>\n",
       "    </tbody></table>"
      ],
      "text/plain": [
       "<pandas.io.formats.style.Styler at 0x7f49ea087390>"
      ]
     },
     "execution_count": 12,
     "metadata": {},
     "output_type": "execute_result"
    }
   ],
   "source": [
    "# Style the pandas dataframe\n",
    "d = dict(selector=\"th\",\n",
    "         props=[('text-align', 'center')])\n",
    "\n",
    "result.reset_index().style\\\n",
    "    .set_properties(**{'width':'20em', 'text-align':'center'})\\\n",
    "    .set_properties(subset=['Date'], **{'font-weight': 'bold'})\\\n",
    "    .set_table_styles([d])\\\n",
    "    .set_precision(1)\\\n",
    "    .hide_index()"
   ]
  },
  {
   "cell_type": "markdown",
   "metadata": {
    "papermill": {
     "duration": 0.013562,
     "end_time": "2020-08-26T08:42:06.780983",
     "exception": false,
     "start_time": "2020-08-26T08:42:06.767421",
     "status": "completed"
    },
    "tags": []
   },
   "source": [
    "<sup>Notes: (1) 7 day average with a 7-day lag. (2) 14 day average. (3) 7 day average with a 7-day lag. (4) Change in 3 day average.</sup>"
   ]
  },
  {
   "cell_type": "code",
   "execution_count": 13,
   "metadata": {
    "execution": {
     "iopub.execute_input": "2020-08-26T08:42:06.809867Z",
     "iopub.status.busy": "2020-08-26T08:42:06.809369Z",
     "iopub.status.idle": "2020-08-26T08:42:06.812332Z",
     "shell.execute_reply": "2020-08-26T08:42:06.812719Z"
    },
    "papermill": {
     "duration": 0.020001,
     "end_time": "2020-08-26T08:42:06.812871",
     "exception": false,
     "start_time": "2020-08-26T08:42:06.792870",
     "status": "completed"
    },
    "tags": [
     "remove_input"
    ]
   },
   "outputs": [
    {
     "data": {
      "text/markdown": [
       "Table last updated by CDPH on August 25, 2020."
      ],
      "text/plain": [
       "<IPython.core.display.Markdown object>"
      ]
     },
     "execution_count": 13,
     "metadata": {},
     "output_type": "execute_result"
    }
   ],
   "source": [
    "md(update_tag)"
   ]
  },
  {
   "cell_type": "markdown",
   "metadata": {
    "papermill": {
     "duration": 0.011773,
     "end_time": "2020-08-26T08:42:06.836405",
     "exception": false,
     "start_time": "2020-08-26T08:42:06.824632",
     "status": "completed"
    },
    "tags": []
   },
   "source": [
    "## Tracking county closures in Santa Barbara"
   ]
  },
  {
   "cell_type": "markdown",
   "metadata": {
    "papermill": {
     "duration": 0.011696,
     "end_time": "2020-08-26T08:42:06.860051",
     "exception": false,
     "start_time": "2020-08-26T08:42:06.848355",
     "status": "completed"
    },
    "tags": []
   },
   "source": [
    "The state of California is using a data-driven approach informed by scientific evidence to tailor its response to COVID-19. Three dimensions of concern are monitored to assess whether a county should be placed on the County Monitoring List:\n",
    " 1. Elevated Disease Transmission\n",
    " 2. Increasing Hospitalization\n",
    " 3. Limited Hospital Capacity\n",
    "\n",
    "Once a county appears on the County Monitoring List for three consecutive days, indoor operations in the sectors listed in Section 3 of the [July 13th State Health Officer Order](https://www.cdph.ca.gov/Programs/CID/DCDC/CDPH%20Document%20Library/COVID-19/SHO%20Order%20Dimming%20Entire%20State%207-13-2020.pdf) must close.\n",
    "\n",
    "This table tracks where Santa Barbara stands in terms of the criteria for inclusion on the County Monitoring List. As of 20 August 2020, the criteria for inclusion on the monitoring list are:\n",
    "\n",
    "* Case rate >100 OR (Case rate >25 AND Positivity >8%)\n",
    "* \\>10% increase in hospitalizations\n",
    "* <20% ICU beds available OR <25% ventilators available\n",
    "\n",
    "If Santa Barbara meets the criteria for removal from the County Monitoring List for a certain metric, then a checkmark ✔ is displayed in the table.\n",
    "\n",
    "Read more at <https://covid19.ca.gov/roadmap-counties/>.\n",
    "\n",
    "Data source for county metrics: https://www.cdph.ca.gov/Programs/CID/DCDC/Pages/COVID-19/COVID19CountyDataTable.aspx."
   ]
  },
  {
   "cell_type": "markdown",
   "metadata": {
    "papermill": {
     "duration": 0.01168,
     "end_time": "2020-08-26T08:42:06.883653",
     "exception": false,
     "start_time": "2020-08-26T08:42:06.871973",
     "status": "completed"
    },
    "tags": []
   },
   "source": [
    "**See the code used to scrape the data: https://github.com/walice/COVID-SB/.**"
   ]
  },
  {
   "cell_type": "code",
   "execution_count": 14,
   "metadata": {
    "execution": {
     "iopub.execute_input": "2020-08-26T08:42:06.912824Z",
     "iopub.status.busy": "2020-08-26T08:42:06.912320Z",
     "iopub.status.idle": "2020-08-26T08:42:06.915322Z",
     "shell.execute_reply": "2020-08-26T08:42:06.915668Z"
    },
    "papermill": {
     "duration": 0.020267,
     "end_time": "2020-08-26T08:42:06.915807",
     "exception": false,
     "start_time": "2020-08-26T08:42:06.895540",
     "status": "completed"
    },
    "tags": [
     "remove_cell"
    ]
   },
   "outputs": [
    {
     "data": {
      "application/javascript": [
       "IPython.notebook.save_notebook()\n"
      ],
      "text/plain": [
       "<IPython.core.display.Javascript object>"
      ]
     },
     "metadata": {},
     "output_type": "display_data"
    }
   ],
   "source": [
    "%%javascript\n",
    "IPython.notebook.save_notebook()"
   ]
  },
  {
   "cell_type": "code",
   "execution_count": 15,
   "metadata": {
    "execution": {
     "iopub.execute_input": "2020-08-26T08:42:06.947472Z",
     "iopub.status.busy": "2020-08-26T08:42:06.946985Z",
     "iopub.status.idle": "2020-08-26T08:42:07.060159Z",
     "shell.execute_reply": "2020-08-26T08:42:07.059236Z"
    },
    "papermill": {
     "duration": 0.132471,
     "end_time": "2020-08-26T08:42:07.060293",
     "exception": false,
     "start_time": "2020-08-26T08:42:06.927822",
     "status": "completed"
    },
    "slideshow": {
     "slide_type": "skip"
    },
    "tags": [
     "remove_cell"
    ]
   },
   "outputs": [
    {
     "name": "stdout",
     "output_type": "stream",
     "text": [
      "/bin/sh: 1: jupyter: not found\r\n"
     ]
    }
   ],
   "source": [
    "# Convert Jupyter Notebook to HTML\n",
    "! jupyter nbconvert \"index.ipynb\" --to html --TagRemovePreprocessor.enabled=True --TagRemovePreprocessor.remove_cell_tags=\"['remove_cell']\" --TagRemovePreprocessor.remove_input_tags=\"['remove_input']\" --no-prompt"
   ]
  },
  {
   "cell_type": "code",
   "execution_count": 16,
   "metadata": {
    "execution": {
     "iopub.execute_input": "2020-08-26T08:42:07.092262Z",
     "iopub.status.busy": "2020-08-26T08:42:07.091743Z",
     "iopub.status.idle": "2020-08-26T08:42:07.094612Z",
     "shell.execute_reply": "2020-08-26T08:42:07.095008Z"
    },
    "papermill": {
     "duration": 0.021097,
     "end_time": "2020-08-26T08:42:07.095162",
     "exception": false,
     "start_time": "2020-08-26T08:42:07.074065",
     "status": "completed"
    },
    "tags": [
     "remove_cell"
    ]
   },
   "outputs": [],
   "source": [
    "# Create daily commit message\n",
    "now = datetime.datetime.now()\n",
    "commit_message = \"Last scraped on \" + str(now)"
   ]
  },
  {
   "cell_type": "code",
   "execution_count": null,
   "metadata": {
    "execution": {
     "iopub.execute_input": "2020-08-26T08:41:06.431603Z",
     "iopub.status.busy": "2020-08-26T08:41:06.431077Z",
     "iopub.status.idle": "2020-08-26T08:41:10.355613Z",
     "shell.execute_reply": "2020-08-26T08:41:10.354348Z"
    },
    "papermill": {
     "duration": null,
     "end_time": null,
     "exception": false,
     "start_time": "2020-08-26T08:42:07.107728",
     "status": "running"
    },
    "tags": [
     "remove_cell"
    ]
   },
   "outputs": [],
   "source": [
    "# Deploy to GitHub\n",
    "! git add .\n",
    "! echo $commit_message > commit_message.txt\n",
    "! git commit -F commit_message.txt\n",
    "! git push"
   ]
  }
 ],
 "metadata": {
  "celltoolbar": "Tags",
  "kernelspec": {
   "display_name": "Python 3",
   "language": "python",
   "name": "python3"
  },
  "language_info": {
   "codemirror_mode": {
    "name": "ipython",
    "version": 3
   },
   "file_extension": ".py",
   "mimetype": "text/x-python",
   "name": "python",
   "nbconvert_exporter": "python",
   "pygments_lexer": "ipython3",
   "version": "3.7.3"
  },
  "papermill": {
   "duration": null,
   "end_time": null,
   "environment_variables": {},
   "exception": null,
   "input_path": "/home/alice_lepissier/cron-job/index.ipynb",
   "output_path": "/home/alice_lepissier/cron-job/index.ipynb",
   "parameters": {},
   "start_time": "2020-08-26T08:42:02.045765",
   "version": "2.1.3"
  }
 },
 "nbformat": 4,
 "nbformat_minor": 4
}