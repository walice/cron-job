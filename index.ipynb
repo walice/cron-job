{
 "cells": [
  {
   "cell_type": "markdown",
   "metadata": {
    "papermill": {
     "duration": 0.011008,
     "end_time": "2020-08-26T19:33:04.838151",
     "exception": false,
     "start_time": "2020-08-26T19:33:04.827143",
     "status": "completed"
    },
    "tags": []
   },
   "source": [
    "# Daily COVID monitoring data for Santa Barbara county"
   ]
  },
  {
   "cell_type": "code",
   "execution_count": 1,
   "metadata": {
    "execution": {
     "iopub.execute_input": "2020-08-26T19:33:04.868374Z",
     "iopub.status.busy": "2020-08-26T19:33:04.867831Z",
     "iopub.status.idle": "2020-08-26T19:33:04.977820Z",
     "shell.execute_reply": "2020-08-26T19:33:04.976879Z"
    },
    "papermill": {
     "duration": 0.129766,
     "end_time": "2020-08-26T19:33:04.977970",
     "exception": false,
     "start_time": "2020-08-26T19:33:04.848204",
     "status": "completed"
    },
    "tags": [
     "remove_cell"
    ]
   },
   "outputs": [
    {
     "name": "stdout",
     "output_type": "stream",
     "text": [
      "/bin/sh: 1: jt: not found\r\n"
     ]
    }
   ],
   "source": [
    "! jt -t grade3 -tf robotosans -cellw 1100"
   ]
  },
  {
   "cell_type": "markdown",
   "metadata": {
    "papermill": {
     "duration": 0.009606,
     "end_time": "2020-08-26T19:33:04.997850",
     "exception": false,
     "start_time": "2020-08-26T19:33:04.988244",
     "status": "completed"
    },
    "tags": []
   },
   "source": [
    "This table is automatically updated with new daily COVID data for the county of Santa Barbara, CA. Every day, the California Department of Public Health publishes COVID tracking metrics for each county, but does not save the previous day's data. This tool keeps track of the daily metrics that are used to monitor progress towards safe reopening in California."
   ]
  },
  {
   "cell_type": "code",
   "execution_count": 2,
   "metadata": {
    "execution": {
     "iopub.execute_input": "2020-08-26T19:33:05.023474Z",
     "iopub.status.busy": "2020-08-26T19:33:05.022982Z",
     "iopub.status.idle": "2020-08-26T19:33:07.682150Z",
     "shell.execute_reply": "2020-08-26T19:33:07.683008Z"
    },
    "papermill": {
     "duration": 2.675676,
     "end_time": "2020-08-26T19:33:07.683188",
     "exception": false,
     "start_time": "2020-08-26T19:33:05.007512",
     "status": "completed"
    },
    "slideshow": {
     "slide_type": "skip"
    },
    "tags": [
     "remove_cell"
    ]
   },
   "outputs": [],
   "source": [
    "# Preamble\n",
    "import os\n",
    "from IPython.display import Markdown as md\n",
    "import IPython\n",
    "import requests\n",
    "from bs4 import BeautifulSoup\n",
    "import re\n",
    "import pandas as pd\n",
    "import datetime\n",
    "import gspread\n",
    "from oauth2client.service_account import ServiceAccountCredentials"
   ]
  },
  {
   "cell_type": "code",
   "execution_count": 3,
   "metadata": {
    "execution": {
     "iopub.execute_input": "2020-08-26T19:33:07.709826Z",
     "iopub.status.busy": "2020-08-26T19:33:07.709219Z",
     "iopub.status.idle": "2020-08-26T19:33:07.710735Z",
     "shell.execute_reply": "2020-08-26T19:33:07.710313Z"
    },
    "papermill": {
     "duration": 0.017476,
     "end_time": "2020-08-26T19:33:07.710855",
     "exception": false,
     "start_time": "2020-08-26T19:33:07.693379",
     "status": "completed"
    },
    "tags": []
   },
   "outputs": [],
   "source": [
    "# Set working directory\n",
    "os.chdir(\"/home/alice_lepissier/cron-job\")"
   ]
  },
  {
   "cell_type": "code",
   "execution_count": 4,
   "metadata": {
    "execution": {
     "iopub.execute_input": "2020-08-26T19:33:07.737728Z",
     "iopub.status.busy": "2020-08-26T19:33:07.737190Z",
     "iopub.status.idle": "2020-08-26T19:33:07.965072Z",
     "shell.execute_reply": "2020-08-26T19:33:07.965959Z"
    },
    "papermill": {
     "duration": 0.245487,
     "end_time": "2020-08-26T19:33:07.966172",
     "exception": false,
     "start_time": "2020-08-26T19:33:07.720685",
     "status": "completed"
    },
    "slideshow": {
     "slide_type": "skip"
    },
    "tags": [
     "remove_cell"
    ]
   },
   "outputs": [],
   "source": [
    "# Request content from URL\n",
    "html_string = requests.get('https://www.cdph.ca.gov/Programs/CID/DCDC/Pages/COVID-19/COVID19CountyDataTable.aspx').content"
   ]
  },
  {
   "cell_type": "code",
   "execution_count": 5,
   "metadata": {
    "execution": {
     "iopub.execute_input": "2020-08-26T19:33:07.995578Z",
     "iopub.status.busy": "2020-08-26T19:33:07.995061Z",
     "iopub.status.idle": "2020-08-26T19:33:08.078656Z",
     "shell.execute_reply": "2020-08-26T19:33:08.079430Z"
    },
    "papermill": {
     "duration": 0.103048,
     "end_time": "2020-08-26T19:33:08.079601",
     "exception": false,
     "start_time": "2020-08-26T19:33:07.976553",
     "status": "completed"
    },
    "slideshow": {
     "slide_type": "skip"
    },
    "tags": [
     "remove_cell"
    ]
   },
   "outputs": [],
   "source": [
    "# Parse HTML\n",
    "soup = BeautifulSoup(html_string, 'html.parser')"
   ]
  },
  {
   "cell_type": "code",
   "execution_count": 6,
   "metadata": {
    "execution": {
     "iopub.execute_input": "2020-08-26T19:33:08.108722Z",
     "iopub.status.busy": "2020-08-26T19:33:08.108222Z",
     "iopub.status.idle": "2020-08-26T19:33:08.114717Z",
     "shell.execute_reply": "2020-08-26T19:33:08.115499Z"
    },
    "papermill": {
     "duration": 0.025923,
     "end_time": "2020-08-26T19:33:08.115678",
     "exception": false,
     "start_time": "2020-08-26T19:33:08.089755",
     "status": "completed"
    },
    "slideshow": {
     "slide_type": "skip"
    },
    "tags": [
     "remove_cell"
    ]
   },
   "outputs": [],
   "source": [
    "# Extract data for Santa Barbara\n",
    "table = soup.find_all(\"tr\", class_=\"ms-rteTableEvenRow-3\")\n",
    "SB = table[21]"
   ]
  },
  {
   "cell_type": "code",
   "execution_count": 7,
   "metadata": {
    "execution": {
     "iopub.execute_input": "2020-08-26T19:33:08.143492Z",
     "iopub.status.busy": "2020-08-26T19:33:08.142986Z",
     "iopub.status.idle": "2020-08-26T19:33:08.155404Z",
     "shell.execute_reply": "2020-08-26T19:33:08.156193Z"
    },
    "papermill": {
     "duration": 0.03063,
     "end_time": "2020-08-26T19:33:08.156362",
     "exception": false,
     "start_time": "2020-08-26T19:33:08.125732",
     "status": "completed"
    },
    "slideshow": {
     "slide_type": "skip"
    },
    "tags": [
     "remove_cell"
    ]
   },
   "outputs": [],
   "source": [
    "# Avg # tests per day (per 100,000 population)\n",
    "daily_tests = SB.find_all(\"td\", class_=\"ms-rteTableOddCol-3\")[0].text\n",
    "\n",
    "# Case rate per 100,000\n",
    "case_rate = SB.find_all(\"td\", class_=\"ms-rteTableEvenCol-3\")[1].text\n",
    "\n",
    "# Testing positivity (%)\n",
    "test_positivity = SB.find_all(\"td\", class_=\"ms-rteTableOddCol-3\")[1].text\n",
    "\n",
    "# % Change in 3-day avg COVID+ hospitalized patients\n",
    "change_hospit = SB.find_all(\"td\", class_=\"ms-rteTableEvenCol-3\")[2].text\n",
    "\n",
    "# % ICU beds currently available\n",
    "ICU_beds = SB.find_all(\"td\", class_=\"ms-rteTableOddCol-3\")[2].text\n",
    "\n",
    "# % Ventilators currently available\n",
    "ventilators = SB.find_all(\"td\", class_=\"ms-rteTableEvenCol-3\")[3].text\n",
    "\n",
    "# Extract date of last update\n",
    "update_date = soup.find_all(\"span\", class_=\"ms-rteStyle-Accent1\")[1]\\\n",
    "    .find(\"em\").text"
   ]
  },
  {
   "cell_type": "code",
   "execution_count": 8,
   "metadata": {
    "execution": {
     "iopub.execute_input": "2020-08-26T19:33:08.181999Z",
     "iopub.status.busy": "2020-08-26T19:33:08.181395Z",
     "iopub.status.idle": "2020-08-26T19:33:08.182894Z",
     "shell.execute_reply": "2020-08-26T19:33:08.182479Z"
    },
    "papermill": {
     "duration": 0.016408,
     "end_time": "2020-08-26T19:33:08.183012",
     "exception": false,
     "start_time": "2020-08-26T19:33:08.166604",
     "status": "completed"
    },
    "tags": [
     "remove_cell"
    ]
   },
   "outputs": [],
   "source": [
    "# Create updated date string\n",
    "update_tag = \"Table last updated by CDPH on \" + update_date.split(\" on \", 1)[1] + \".\""
   ]
  },
  {
   "cell_type": "code",
   "execution_count": 9,
   "metadata": {
    "execution": {
     "iopub.execute_input": "2020-08-26T19:33:08.207600Z",
     "iopub.status.busy": "2020-08-26T19:33:08.207121Z",
     "iopub.status.idle": "2020-08-26T19:33:08.228149Z",
     "shell.execute_reply": "2020-08-26T19:33:08.228936Z"
    },
    "papermill": {
     "duration": 0.036379,
     "end_time": "2020-08-26T19:33:08.229098",
     "exception": false,
     "start_time": "2020-08-26T19:33:08.192719",
     "status": "completed"
    },
    "slideshow": {
     "slide_type": "skip"
    },
    "tags": [
     "remove_cell"
    ]
   },
   "outputs": [],
   "source": [
    "# Set up Google Sheet API\n",
    "scope = [\"https://spreadsheets.google.com/feeds\",'https://www.googleapis.com/auth/spreadsheets',\"https://www.googleapis.com/auth/drive.file\",\"https://www.googleapis.com/auth/drive\"]\n",
    "creds = ServiceAccountCredentials.from_json_keyfile_name(\"credentials.json\", scope)\n",
    "client = gspread.authorize(creds)"
   ]
  },
  {
   "cell_type": "code",
   "execution_count": 10,
   "metadata": {
    "execution": {
     "iopub.execute_input": "2020-08-26T19:33:08.255603Z",
     "iopub.status.busy": "2020-08-26T19:33:08.255066Z",
     "iopub.status.idle": "2020-08-26T19:33:09.137796Z",
     "shell.execute_reply": "2020-08-26T19:33:09.138640Z"
    },
    "papermill": {
     "duration": 0.898873,
     "end_time": "2020-08-26T19:33:09.138825",
     "exception": false,
     "start_time": "2020-08-26T19:33:08.239952",
     "status": "completed"
    },
    "slideshow": {
     "slide_type": "skip"
    },
    "tags": [
     "remove_cell"
    ]
   },
   "outputs": [
    {
     "data": {
      "text/plain": [
       "{'spreadsheetId': '1pcqdMzKtea2Oq3BDmdAOQ21gZjCssieKI0692VfNLXU',\n",
       " 'updatedRange': 'Sheet1!A2:G2',\n",
       " 'updatedRows': 1,\n",
       " 'updatedColumns': 7,\n",
       " 'updatedCells': 7}"
      ]
     },
     "execution_count": 10,
     "metadata": {},
     "output_type": "execute_result"
    }
   ],
   "source": [
    "# Append daily data as a new row in Google Sheet\n",
    "sheet = client.open(\"Test cron job\").sheet1\n",
    "insertRow = [datetime.date.today().strftime(\"%Y-%m-%d\"),\n",
    "             daily_tests,\n",
    "             case_rate,\n",
    "             test_positivity,\n",
    "             change_hospit,\n",
    "             ICU_beds,\n",
    "             ventilators]\n",
    "sheet.insert_row(insertRow, 2)"
   ]
  },
  {
   "cell_type": "code",
   "execution_count": 11,
   "metadata": {
    "execution": {
     "iopub.execute_input": "2020-08-26T19:33:09.164747Z",
     "iopub.status.busy": "2020-08-26T19:33:09.164255Z",
     "iopub.status.idle": "2020-08-26T19:33:09.686014Z",
     "shell.execute_reply": "2020-08-26T19:33:09.686911Z"
    },
    "papermill": {
     "duration": 0.537633,
     "end_time": "2020-08-26T19:33:09.687082",
     "exception": false,
     "start_time": "2020-08-26T19:33:09.149449",
     "status": "completed"
    },
    "scrolled": true,
    "slideshow": {
     "slide_type": "slide"
    },
    "tags": [
     "remove_cell"
    ]
   },
   "outputs": [],
   "source": [
    "# Extract data from Google Sheet as pandas dataframe\n",
    "sheet = client.open(\"Test cron job\").sheet1\n",
    "data = sheet.get_all_records()\n",
    "result = pd.DataFrame(data).set_index(\"Date\")"
   ]
  },
  {
   "cell_type": "code",
   "execution_count": 12,
   "metadata": {
    "execution": {
     "iopub.execute_input": "2020-08-26T19:33:09.714011Z",
     "iopub.status.busy": "2020-08-26T19:33:09.713466Z",
     "iopub.status.idle": "2020-08-26T19:33:10.691416Z",
     "shell.execute_reply": "2020-08-26T19:33:10.692197Z"
    },
    "papermill": {
     "duration": 0.994556,
     "end_time": "2020-08-26T19:33:10.692358",
     "exception": false,
     "start_time": "2020-08-26T19:33:09.697802",
     "status": "completed"
    },
    "scrolled": true,
    "tags": [
     "remove_input"
    ]
   },
   "outputs": [
    {
     "data": {
      "text/html": [
       "<style  type=\"text/css\" >\n",
       "    #T_f9b6001c_e7d2_11ea_a82b_42010a8a0004 th {\n",
       "          text-align: center;\n",
       "    }#T_f9b6001c_e7d2_11ea_a82b_42010a8a0004row0_col0,#T_f9b6001c_e7d2_11ea_a82b_42010a8a0004row1_col0,#T_f9b6001c_e7d2_11ea_a82b_42010a8a0004row2_col0,#T_f9b6001c_e7d2_11ea_a82b_42010a8a0004row3_col0,#T_f9b6001c_e7d2_11ea_a82b_42010a8a0004row4_col0,#T_f9b6001c_e7d2_11ea_a82b_42010a8a0004row5_col0,#T_f9b6001c_e7d2_11ea_a82b_42010a8a0004row6_col0,#T_f9b6001c_e7d2_11ea_a82b_42010a8a0004row7_col0{\n",
       "            width:  20em;\n",
       "            text-align:  center;\n",
       "            font-weight:  bold;\n",
       "        }#T_f9b6001c_e7d2_11ea_a82b_42010a8a0004row0_col1,#T_f9b6001c_e7d2_11ea_a82b_42010a8a0004row0_col2,#T_f9b6001c_e7d2_11ea_a82b_42010a8a0004row0_col3,#T_f9b6001c_e7d2_11ea_a82b_42010a8a0004row0_col4,#T_f9b6001c_e7d2_11ea_a82b_42010a8a0004row0_col5,#T_f9b6001c_e7d2_11ea_a82b_42010a8a0004row0_col6,#T_f9b6001c_e7d2_11ea_a82b_42010a8a0004row1_col1,#T_f9b6001c_e7d2_11ea_a82b_42010a8a0004row1_col2,#T_f9b6001c_e7d2_11ea_a82b_42010a8a0004row1_col3,#T_f9b6001c_e7d2_11ea_a82b_42010a8a0004row1_col4,#T_f9b6001c_e7d2_11ea_a82b_42010a8a0004row1_col5,#T_f9b6001c_e7d2_11ea_a82b_42010a8a0004row1_col6,#T_f9b6001c_e7d2_11ea_a82b_42010a8a0004row2_col1,#T_f9b6001c_e7d2_11ea_a82b_42010a8a0004row2_col2,#T_f9b6001c_e7d2_11ea_a82b_42010a8a0004row2_col3,#T_f9b6001c_e7d2_11ea_a82b_42010a8a0004row2_col4,#T_f9b6001c_e7d2_11ea_a82b_42010a8a0004row2_col5,#T_f9b6001c_e7d2_11ea_a82b_42010a8a0004row2_col6,#T_f9b6001c_e7d2_11ea_a82b_42010a8a0004row3_col1,#T_f9b6001c_e7d2_11ea_a82b_42010a8a0004row3_col2,#T_f9b6001c_e7d2_11ea_a82b_42010a8a0004row3_col3,#T_f9b6001c_e7d2_11ea_a82b_42010a8a0004row3_col4,#T_f9b6001c_e7d2_11ea_a82b_42010a8a0004row3_col5,#T_f9b6001c_e7d2_11ea_a82b_42010a8a0004row3_col6,#T_f9b6001c_e7d2_11ea_a82b_42010a8a0004row4_col1,#T_f9b6001c_e7d2_11ea_a82b_42010a8a0004row4_col2,#T_f9b6001c_e7d2_11ea_a82b_42010a8a0004row4_col3,#T_f9b6001c_e7d2_11ea_a82b_42010a8a0004row4_col4,#T_f9b6001c_e7d2_11ea_a82b_42010a8a0004row4_col5,#T_f9b6001c_e7d2_11ea_a82b_42010a8a0004row4_col6,#T_f9b6001c_e7d2_11ea_a82b_42010a8a0004row5_col1,#T_f9b6001c_e7d2_11ea_a82b_42010a8a0004row5_col2,#T_f9b6001c_e7d2_11ea_a82b_42010a8a0004row5_col3,#T_f9b6001c_e7d2_11ea_a82b_42010a8a0004row5_col4,#T_f9b6001c_e7d2_11ea_a82b_42010a8a0004row5_col5,#T_f9b6001c_e7d2_11ea_a82b_42010a8a0004row5_col6,#T_f9b6001c_e7d2_11ea_a82b_42010a8a0004row6_col1,#T_f9b6001c_e7d2_11ea_a82b_42010a8a0004row6_col2,#T_f9b6001c_e7d2_11ea_a82b_42010a8a0004row6_col3,#T_f9b6001c_e7d2_11ea_a82b_42010a8a0004row6_col4,#T_f9b6001c_e7d2_11ea_a82b_42010a8a0004row6_col5,#T_f9b6001c_e7d2_11ea_a82b_42010a8a0004row6_col6,#T_f9b6001c_e7d2_11ea_a82b_42010a8a0004row7_col1,#T_f9b6001c_e7d2_11ea_a82b_42010a8a0004row7_col2,#T_f9b6001c_e7d2_11ea_a82b_42010a8a0004row7_col3,#T_f9b6001c_e7d2_11ea_a82b_42010a8a0004row7_col4,#T_f9b6001c_e7d2_11ea_a82b_42010a8a0004row7_col5,#T_f9b6001c_e7d2_11ea_a82b_42010a8a0004row7_col6{\n",
       "            width:  20em;\n",
       "            text-align:  center;\n",
       "        }</style><table id=\"T_f9b6001c_e7d2_11ea_a82b_42010a8a0004\" ><thead>    <tr>        <th class=\"col_heading level0 col0\" >Date</th>        <th class=\"col_heading level0 col1\" >Daily tests (per 100,000)¹</th>        <th class=\"col_heading level0 col2\" >Case rate (per 100,000)²</th>        <th class=\"col_heading level0 col3\" >Testing positivity (%)³</th>        <th class=\"col_heading level0 col4\" >Change in hospitalizations (%)⁴</th>        <th class=\"col_heading level0 col5\" >ICU beds available (%)</th>        <th class=\"col_heading level0 col6\" >Ventilators (available (%)</th>    </tr></thead><tbody>\n",
       "                <tr>\n",
       "                                <td id=\"T_f9b6001c_e7d2_11ea_a82b_42010a8a0004row0_col0\" class=\"data row0 col0\" >2020-08-26</td>\n",
       "                        <td id=\"T_f9b6001c_e7d2_11ea_a82b_42010a8a0004row0_col1\" class=\"data row0 col1\" >219.7</td>\n",
       "                        <td id=\"T_f9b6001c_e7d2_11ea_a82b_42010a8a0004row0_col2\" class=\"data row0 col2\" >133.2</td>\n",
       "                        <td id=\"T_f9b6001c_e7d2_11ea_a82b_42010a8a0004row0_col3\" class=\"data row0 col3\" > ✔</td>\n",
       "                        <td id=\"T_f9b6001c_e7d2_11ea_a82b_42010a8a0004row0_col4\" class=\"data row0 col4\" > ✔</td>\n",
       "                        <td id=\"T_f9b6001c_e7d2_11ea_a82b_42010a8a0004row0_col5\" class=\"data row0 col5\" > ✔</td>\n",
       "                        <td id=\"T_f9b6001c_e7d2_11ea_a82b_42010a8a0004row0_col6\" class=\"data row0 col6\" > ✔</td>\n",
       "            </tr>\n",
       "            <tr>\n",
       "                                <td id=\"T_f9b6001c_e7d2_11ea_a82b_42010a8a0004row1_col0\" class=\"data row1 col0\" >2020-08-26</td>\n",
       "                        <td id=\"T_f9b6001c_e7d2_11ea_a82b_42010a8a0004row1_col1\" class=\"data row1 col1\" >219.7</td>\n",
       "                        <td id=\"T_f9b6001c_e7d2_11ea_a82b_42010a8a0004row1_col2\" class=\"data row1 col2\" >133.2</td>\n",
       "                        <td id=\"T_f9b6001c_e7d2_11ea_a82b_42010a8a0004row1_col3\" class=\"data row1 col3\" > ✔</td>\n",
       "                        <td id=\"T_f9b6001c_e7d2_11ea_a82b_42010a8a0004row1_col4\" class=\"data row1 col4\" > ✔</td>\n",
       "                        <td id=\"T_f9b6001c_e7d2_11ea_a82b_42010a8a0004row1_col5\" class=\"data row1 col5\" > ✔</td>\n",
       "                        <td id=\"T_f9b6001c_e7d2_11ea_a82b_42010a8a0004row1_col6\" class=\"data row1 col6\" > ✔</td>\n",
       "            </tr>\n",
       "            <tr>\n",
       "                                <td id=\"T_f9b6001c_e7d2_11ea_a82b_42010a8a0004row2_col0\" class=\"data row2 col0\" >2020-08-26</td>\n",
       "                        <td id=\"T_f9b6001c_e7d2_11ea_a82b_42010a8a0004row2_col1\" class=\"data row2 col1\" >219.7</td>\n",
       "                        <td id=\"T_f9b6001c_e7d2_11ea_a82b_42010a8a0004row2_col2\" class=\"data row2 col2\" >133.2</td>\n",
       "                        <td id=\"T_f9b6001c_e7d2_11ea_a82b_42010a8a0004row2_col3\" class=\"data row2 col3\" > ✔</td>\n",
       "                        <td id=\"T_f9b6001c_e7d2_11ea_a82b_42010a8a0004row2_col4\" class=\"data row2 col4\" > ✔</td>\n",
       "                        <td id=\"T_f9b6001c_e7d2_11ea_a82b_42010a8a0004row2_col5\" class=\"data row2 col5\" > ✔</td>\n",
       "                        <td id=\"T_f9b6001c_e7d2_11ea_a82b_42010a8a0004row2_col6\" class=\"data row2 col6\" > ✔</td>\n",
       "            </tr>\n",
       "            <tr>\n",
       "                                <td id=\"T_f9b6001c_e7d2_11ea_a82b_42010a8a0004row3_col0\" class=\"data row3 col0\" >2020-08-26</td>\n",
       "                        <td id=\"T_f9b6001c_e7d2_11ea_a82b_42010a8a0004row3_col1\" class=\"data row3 col1\" >219.7</td>\n",
       "                        <td id=\"T_f9b6001c_e7d2_11ea_a82b_42010a8a0004row3_col2\" class=\"data row3 col2\" >133.2</td>\n",
       "                        <td id=\"T_f9b6001c_e7d2_11ea_a82b_42010a8a0004row3_col3\" class=\"data row3 col3\" > ✔</td>\n",
       "                        <td id=\"T_f9b6001c_e7d2_11ea_a82b_42010a8a0004row3_col4\" class=\"data row3 col4\" > ✔</td>\n",
       "                        <td id=\"T_f9b6001c_e7d2_11ea_a82b_42010a8a0004row3_col5\" class=\"data row3 col5\" > ✔</td>\n",
       "                        <td id=\"T_f9b6001c_e7d2_11ea_a82b_42010a8a0004row3_col6\" class=\"data row3 col6\" > ✔</td>\n",
       "            </tr>\n",
       "            <tr>\n",
       "                                <td id=\"T_f9b6001c_e7d2_11ea_a82b_42010a8a0004row4_col0\" class=\"data row4 col0\" >2020-08-26</td>\n",
       "                        <td id=\"T_f9b6001c_e7d2_11ea_a82b_42010a8a0004row4_col1\" class=\"data row4 col1\" >219.7</td>\n",
       "                        <td id=\"T_f9b6001c_e7d2_11ea_a82b_42010a8a0004row4_col2\" class=\"data row4 col2\" >133.2</td>\n",
       "                        <td id=\"T_f9b6001c_e7d2_11ea_a82b_42010a8a0004row4_col3\" class=\"data row4 col3\" > ✔</td>\n",
       "                        <td id=\"T_f9b6001c_e7d2_11ea_a82b_42010a8a0004row4_col4\" class=\"data row4 col4\" > ✔</td>\n",
       "                        <td id=\"T_f9b6001c_e7d2_11ea_a82b_42010a8a0004row4_col5\" class=\"data row4 col5\" > ✔</td>\n",
       "                        <td id=\"T_f9b6001c_e7d2_11ea_a82b_42010a8a0004row4_col6\" class=\"data row4 col6\" > ✔</td>\n",
       "            </tr>\n",
       "            <tr>\n",
       "                                <td id=\"T_f9b6001c_e7d2_11ea_a82b_42010a8a0004row5_col0\" class=\"data row5 col0\" >2020-08-26</td>\n",
       "                        <td id=\"T_f9b6001c_e7d2_11ea_a82b_42010a8a0004row5_col1\" class=\"data row5 col1\" >219.7</td>\n",
       "                        <td id=\"T_f9b6001c_e7d2_11ea_a82b_42010a8a0004row5_col2\" class=\"data row5 col2\" >133.2</td>\n",
       "                        <td id=\"T_f9b6001c_e7d2_11ea_a82b_42010a8a0004row5_col3\" class=\"data row5 col3\" > ✔</td>\n",
       "                        <td id=\"T_f9b6001c_e7d2_11ea_a82b_42010a8a0004row5_col4\" class=\"data row5 col4\" > ✔</td>\n",
       "                        <td id=\"T_f9b6001c_e7d2_11ea_a82b_42010a8a0004row5_col5\" class=\"data row5 col5\" > ✔</td>\n",
       "                        <td id=\"T_f9b6001c_e7d2_11ea_a82b_42010a8a0004row5_col6\" class=\"data row5 col6\" > ✔</td>\n",
       "            </tr>\n",
       "            <tr>\n",
       "                                <td id=\"T_f9b6001c_e7d2_11ea_a82b_42010a8a0004row6_col0\" class=\"data row6 col0\" >2020-08-26</td>\n",
       "                        <td id=\"T_f9b6001c_e7d2_11ea_a82b_42010a8a0004row6_col1\" class=\"data row6 col1\" >219.7</td>\n",
       "                        <td id=\"T_f9b6001c_e7d2_11ea_a82b_42010a8a0004row6_col2\" class=\"data row6 col2\" >133.2</td>\n",
       "                        <td id=\"T_f9b6001c_e7d2_11ea_a82b_42010a8a0004row6_col3\" class=\"data row6 col3\" > ✔</td>\n",
       "                        <td id=\"T_f9b6001c_e7d2_11ea_a82b_42010a8a0004row6_col4\" class=\"data row6 col4\" > ✔</td>\n",
       "                        <td id=\"T_f9b6001c_e7d2_11ea_a82b_42010a8a0004row6_col5\" class=\"data row6 col5\" > ✔</td>\n",
       "                        <td id=\"T_f9b6001c_e7d2_11ea_a82b_42010a8a0004row6_col6\" class=\"data row6 col6\" > ✔</td>\n",
       "            </tr>\n",
       "            <tr>\n",
       "                                <td id=\"T_f9b6001c_e7d2_11ea_a82b_42010a8a0004row7_col0\" class=\"data row7 col0\" >2020-08-26</td>\n",
       "                        <td id=\"T_f9b6001c_e7d2_11ea_a82b_42010a8a0004row7_col1\" class=\"data row7 col1\" >219.7</td>\n",
       "                        <td id=\"T_f9b6001c_e7d2_11ea_a82b_42010a8a0004row7_col2\" class=\"data row7 col2\" >133.2</td>\n",
       "                        <td id=\"T_f9b6001c_e7d2_11ea_a82b_42010a8a0004row7_col3\" class=\"data row7 col3\" > ✔</td>\n",
       "                        <td id=\"T_f9b6001c_e7d2_11ea_a82b_42010a8a0004row7_col4\" class=\"data row7 col4\" > ✔</td>\n",
       "                        <td id=\"T_f9b6001c_e7d2_11ea_a82b_42010a8a0004row7_col5\" class=\"data row7 col5\" > ✔</td>\n",
       "                        <td id=\"T_f9b6001c_e7d2_11ea_a82b_42010a8a0004row7_col6\" class=\"data row7 col6\" > ✔</td>\n",
       "            </tr>\n",
       "    </tbody></table>"
      ],
      "text/plain": [
       "<pandas.io.formats.style.Styler at 0x7f6319e87a58>"
      ]
     },
     "execution_count": 12,
     "metadata": {},
     "output_type": "execute_result"
    }
   ],
   "source": [
    "# Style the pandas dataframe\n",
    "d = dict(selector=\"th\",\n",
    "         props=[('text-align', 'center')])\n",
    "\n",
    "result.reset_index().style\\\n",
    "    .set_properties(**{'width':'20em', 'text-align':'center'})\\\n",
    "    .set_properties(subset=['Date'], **{'font-weight': 'bold'})\\\n",
    "    .set_table_styles([d])\\\n",
    "    .set_precision(1)\\\n",
    "    .hide_index()"
   ]
  },
  {
   "cell_type": "markdown",
   "metadata": {
    "papermill": {
     "duration": 0.010529,
     "end_time": "2020-08-26T19:33:10.713900",
     "exception": false,
     "start_time": "2020-08-26T19:33:10.703371",
     "status": "completed"
    },
    "tags": []
   },
   "source": [
    "<sup>Notes: (1) 7 day average with a 7-day lag. (2) 14 day average. (3) 7 day average with a 7-day lag. (4) Change in 3 day average.</sup>"
   ]
  },
  {
   "cell_type": "code",
   "execution_count": 13,
   "metadata": {
    "execution": {
     "iopub.execute_input": "2020-08-26T19:33:10.740978Z",
     "iopub.status.busy": "2020-08-26T19:33:10.740240Z",
     "iopub.status.idle": "2020-08-26T19:33:10.743729Z",
     "shell.execute_reply": "2020-08-26T19:33:10.744244Z"
    },
    "papermill": {
     "duration": 0.019903,
     "end_time": "2020-08-26T19:33:10.744400",
     "exception": false,
     "start_time": "2020-08-26T19:33:10.724497",
     "status": "completed"
    },
    "tags": [
     "remove_input"
    ]
   },
   "outputs": [
    {
     "data": {
      "text/markdown": [
       "Table last updated by CDPH on August 25, 2020."
      ],
      "text/plain": [
       "<IPython.core.display.Markdown object>"
      ]
     },
     "execution_count": 13,
     "metadata": {},
     "output_type": "execute_result"
    }
   ],
   "source": [
    "md(update_tag)"
   ]
  },
  {
   "cell_type": "markdown",
   "metadata": {
    "papermill": {
     "duration": 0.010731,
     "end_time": "2020-08-26T19:33:10.765905",
     "exception": false,
     "start_time": "2020-08-26T19:33:10.755174",
     "status": "completed"
    },
    "tags": []
   },
   "source": [
    "## Tracking county closures in Santa Barbara"
   ]
  },
  {
   "cell_type": "markdown",
   "metadata": {
    "papermill": {
     "duration": 0.010788,
     "end_time": "2020-08-26T19:33:10.787571",
     "exception": false,
     "start_time": "2020-08-26T19:33:10.776783",
     "status": "completed"
    },
    "tags": []
   },
   "source": [
    "The state of California is using a data-driven approach informed by scientific evidence to tailor its response to COVID-19. Three dimensions of concern are monitored to assess whether a county should be placed on the County Monitoring List:\n",
    " 1. Elevated Disease Transmission\n",
    " 2. Increasing Hospitalization\n",
    " 3. Limited Hospital Capacity\n",
    "\n",
    "Once a county appears on the County Monitoring List for three consecutive days, indoor operations in the sectors listed in Section 3 of the [July 13th State Health Officer Order](https://www.cdph.ca.gov/Programs/CID/DCDC/CDPH%20Document%20Library/COVID-19/SHO%20Order%20Dimming%20Entire%20State%207-13-2020.pdf) must close.\n",
    "\n",
    "This table tracks where Santa Barbara stands in terms of the criteria for inclusion on the County Monitoring List. As of 20 August 2020, the criteria for inclusion on the monitoring list are:\n",
    "\n",
    "* Case rate >100 OR (Case rate >25 AND Positivity >8%)\n",
    "* \\>10% increase in hospitalizations\n",
    "* <20% ICU beds available OR <25% ventilators available\n",
    "\n",
    "If Santa Barbara meets the criteria for removal from the County Monitoring List for a certain metric, then a checkmark ✔ is displayed in the table.\n",
    "\n",
    "Read more at <https://covid19.ca.gov/roadmap-counties/>.\n",
    "\n",
    "Data source for county metrics: https://www.cdph.ca.gov/Programs/CID/DCDC/Pages/COVID-19/COVID19CountyDataTable.aspx."
   ]
  },
  {
   "cell_type": "markdown",
   "metadata": {
    "papermill": {
     "duration": 0.010701,
     "end_time": "2020-08-26T19:33:10.809064",
     "exception": false,
     "start_time": "2020-08-26T19:33:10.798363",
     "status": "completed"
    },
    "tags": []
   },
   "source": [
    "**See the code used to scrape the data: https://github.com/walice/COVID-SB/.**"
   ]
  },
  {
   "cell_type": "code",
   "execution_count": 14,
   "metadata": {
    "execution": {
     "iopub.execute_input": "2020-08-26T19:33:10.835943Z",
     "iopub.status.busy": "2020-08-26T19:33:10.835435Z",
     "iopub.status.idle": "2020-08-26T19:33:10.839327Z",
     "shell.execute_reply": "2020-08-26T19:33:10.839699Z"
    },
    "papermill": {
     "duration": 0.019979,
     "end_time": "2020-08-26T19:33:10.839853",
     "exception": false,
     "start_time": "2020-08-26T19:33:10.819874",
     "status": "completed"
    },
    "tags": [
     "remove_cell"
    ]
   },
   "outputs": [
    {
     "data": {
      "application/javascript": [
       "IPython.notebook.save_notebook()\n"
      ],
      "text/plain": [
       "<IPython.core.display.Javascript object>"
      ]
     },
     "metadata": {},
     "output_type": "display_data"
    }
   ],
   "source": [
    "%%javascript\n",
    "IPython.notebook.save_notebook()"
   ]
  },
  {
   "cell_type": "code",
   "execution_count": 15,
   "metadata": {
    "execution": {
     "iopub.execute_input": "2020-08-26T19:33:10.869992Z",
     "iopub.status.busy": "2020-08-26T19:33:10.869455Z",
     "iopub.status.idle": "2020-08-26T19:33:10.985466Z",
     "shell.execute_reply": "2020-08-26T19:33:10.986453Z"
    },
    "papermill": {
     "duration": 0.136034,
     "end_time": "2020-08-26T19:33:10.986637",
     "exception": false,
     "start_time": "2020-08-26T19:33:10.850603",
     "status": "completed"
    },
    "slideshow": {
     "slide_type": "skip"
    },
    "tags": [
     "remove_cell"
    ]
   },
   "outputs": [
    {
     "name": "stdout",
     "output_type": "stream",
     "text": [
      "/bin/sh: 1: jupyter: not found\r\n"
     ]
    }
   ],
   "source": [
    "# Convert Jupyter Notebook to HTML\n",
    "! jupyter nbconvert \"index.ipynb\" --to html --TagRemovePreprocessor.enabled=True --TagRemovePreprocessor.remove_cell_tags=\"['remove_cell']\" --TagRemovePreprocessor.remove_input_tags=\"['remove_input']\" --no-prompt"
   ]
  },
  {
   "cell_type": "code",
   "execution_count": 16,
   "metadata": {
    "execution": {
     "iopub.execute_input": "2020-08-26T19:33:11.016237Z",
     "iopub.status.busy": "2020-08-26T19:33:11.015627Z",
     "iopub.status.idle": "2020-08-26T19:33:11.017096Z",
     "shell.execute_reply": "2020-08-26T19:33:11.016692Z"
    },
    "papermill": {
     "duration": 0.018616,
     "end_time": "2020-08-26T19:33:11.017210",
     "exception": false,
     "start_time": "2020-08-26T19:33:10.998594",
     "status": "completed"
    },
    "tags": [
     "remove_cell"
    ]
   },
   "outputs": [],
   "source": [
    "# Create daily commit message\n",
    "now = datetime.datetime.now()\n",
    "commit_message = \"Last scraped on \" + str(now)"
   ]
  },
  {
   "cell_type": "code",
   "execution_count": null,
   "metadata": {
    "execution": {
     "iopub.execute_input": "2020-08-26T19:32:11.379582Z",
     "iopub.status.busy": "2020-08-26T19:32:11.379063Z",
     "iopub.status.idle": "2020-08-26T19:32:15.871337Z",
     "shell.execute_reply": "2020-08-26T19:32:15.870145Z"
    },
    "papermill": {
     "duration": null,
     "end_time": null,
     "exception": false,
     "start_time": "2020-08-26T19:33:11.028386",
     "status": "running"
    },
    "tags": [
     "remove_cell"
    ]
   },
   "outputs": [],
   "source": [
    "# Deploy to GitHub\n",
    "! git add .\n",
    "! echo $commit_message > commit_message.txt\n",
    "! git commit -F commit_message.txt\n",
    "! git push"
   ]
  }
 ],
 "metadata": {
  "celltoolbar": "Tags",
  "kernelspec": {
   "display_name": "Python 3",
   "language": "python",
   "name": "python3"
  },
  "language_info": {
   "codemirror_mode": {
    "name": "ipython",
    "version": 3
   },
   "file_extension": ".py",
   "mimetype": "text/x-python",
   "name": "python",
   "nbconvert_exporter": "python",
   "pygments_lexer": "ipython3",
   "version": "3.7.3"
  },
  "papermill": {
   "duration": null,
   "end_time": null,
   "environment_variables": {},
   "exception": null,
   "input_path": "/home/alice_lepissier/cron-job/index.ipynb",
   "output_path": "/home/alice_lepissier/cron-job/index.ipynb",
   "parameters": {},
   "start_time": "2020-08-26T19:33:03.595516",
   "version": "2.1.3"
  }
 },
 "nbformat": 4,
 "nbformat_minor": 4
}