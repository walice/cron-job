{
 "cells": [
  {
   "cell_type": "markdown",
   "metadata": {
    "papermill": {
     "duration": 0.012251,
     "end_time": "2020-08-26T08:34:03.467029",
     "exception": false,
     "start_time": "2020-08-26T08:34:03.454778",
     "status": "completed"
    },
    "tags": []
   },
   "source": [
    "# Daily COVID monitoring data for Santa Barbara county"
   ]
  },
  {
   "cell_type": "code",
   "execution_count": 1,
   "metadata": {
    "execution": {
     "iopub.execute_input": "2020-08-26T08:34:03.495684Z",
     "iopub.status.busy": "2020-08-26T08:34:03.495175Z",
     "iopub.status.idle": "2020-08-26T08:34:03.609272Z",
     "shell.execute_reply": "2020-08-26T08:34:03.608291Z"
    },
    "papermill": {
     "duration": 0.130954,
     "end_time": "2020-08-26T08:34:03.609414",
     "exception": false,
     "start_time": "2020-08-26T08:34:03.478460",
     "status": "completed"
    },
    "tags": [
     "remove_cell"
    ]
   },
   "outputs": [
    {
     "name": "stdout",
     "output_type": "stream",
     "text": [
      "/bin/sh: 1: jt: not found\r\n"
     ]
    }
   ],
   "source": [
    "! jt -t grade3 -tf robotosans -cellw 1100"
   ]
  },
  {
   "cell_type": "markdown",
   "metadata": {
    "papermill": {
     "duration": 0.011137,
     "end_time": "2020-08-26T08:34:03.632346",
     "exception": false,
     "start_time": "2020-08-26T08:34:03.621209",
     "status": "completed"
    },
    "tags": []
   },
   "source": [
    "This table is automatically updated with new daily COVID data for the county of Santa Barbara, CA. Every day, the California Department of Public Health publishes COVID tracking metrics for each county, but does not save the previous day's data. This tool keeps track of the daily metrics that are used to monitor progress towards safe reopening in California."
   ]
  },
  {
   "cell_type": "code",
   "execution_count": 2,
   "metadata": {
    "execution": {
     "iopub.execute_input": "2020-08-26T08:34:03.659509Z",
     "iopub.status.busy": "2020-08-26T08:34:03.659006Z",
     "iopub.status.idle": "2020-08-26T08:34:05.747942Z",
     "shell.execute_reply": "2020-08-26T08:34:05.748733Z"
    },
    "papermill": {
     "duration": 2.10553,
     "end_time": "2020-08-26T08:34:05.748895",
     "exception": false,
     "start_time": "2020-08-26T08:34:03.643365",
     "status": "completed"
    },
    "slideshow": {
     "slide_type": "skip"
    },
    "tags": [
     "remove_cell"
    ]
   },
   "outputs": [],
   "source": [
    "# Preamble\n",
    "import os\n",
    "from IPython.display import Markdown as md\n",
    "import IPython\n",
    "import requests\n",
    "from bs4 import BeautifulSoup\n",
    "import re\n",
    "import pandas as pd\n",
    "import datetime\n",
    "import gspread\n",
    "from oauth2client.service_account import ServiceAccountCredentials"
   ]
  },
  {
   "cell_type": "code",
   "execution_count": 3,
   "metadata": {
    "execution": {
     "iopub.execute_input": "2020-08-26T08:34:05.777561Z",
     "iopub.status.busy": "2020-08-26T08:34:05.776968Z",
     "iopub.status.idle": "2020-08-26T08:34:05.778453Z",
     "shell.execute_reply": "2020-08-26T08:34:05.777998Z"
    },
    "papermill": {
     "duration": 0.017548,
     "end_time": "2020-08-26T08:34:05.778568",
     "exception": false,
     "start_time": "2020-08-26T08:34:05.761020",
     "status": "completed"
    },
    "tags": []
   },
   "outputs": [],
   "source": [
    "# Set working directory\n",
    "os.chdir(\"/home/alice_lepissier/cron-job\")"
   ]
  },
  {
   "cell_type": "code",
   "execution_count": 4,
   "metadata": {
    "execution": {
     "iopub.execute_input": "2020-08-26T08:34:05.806593Z",
     "iopub.status.busy": "2020-08-26T08:34:05.806008Z",
     "iopub.status.idle": "2020-08-26T08:34:06.083983Z",
     "shell.execute_reply": "2020-08-26T08:34:06.084746Z"
    },
    "papermill": {
     "duration": 0.295351,
     "end_time": "2020-08-26T08:34:06.084915",
     "exception": false,
     "start_time": "2020-08-26T08:34:05.789564",
     "status": "completed"
    },
    "slideshow": {
     "slide_type": "skip"
    },
    "tags": [
     "remove_cell"
    ]
   },
   "outputs": [],
   "source": [
    "# Request content from URL\n",
    "html_string = requests.get('https://www.cdph.ca.gov/Programs/CID/DCDC/Pages/COVID-19/COVID19CountyDataTable.aspx').content"
   ]
  },
  {
   "cell_type": "code",
   "execution_count": 5,
   "metadata": {
    "execution": {
     "iopub.execute_input": "2020-08-26T08:34:06.114376Z",
     "iopub.status.busy": "2020-08-26T08:34:06.113840Z",
     "iopub.status.idle": "2020-08-26T08:34:06.199254Z",
     "shell.execute_reply": "2020-08-26T08:34:06.200057Z"
    },
    "papermill": {
     "duration": 0.103618,
     "end_time": "2020-08-26T08:34:06.200221",
     "exception": false,
     "start_time": "2020-08-26T08:34:06.096603",
     "status": "completed"
    },
    "slideshow": {
     "slide_type": "skip"
    },
    "tags": [
     "remove_cell"
    ]
   },
   "outputs": [],
   "source": [
    "# Parse HTML\n",
    "soup = BeautifulSoup(html_string, 'html.parser')"
   ]
  },
  {
   "cell_type": "code",
   "execution_count": 6,
   "metadata": {
    "execution": {
     "iopub.execute_input": "2020-08-26T08:34:06.232837Z",
     "iopub.status.busy": "2020-08-26T08:34:06.232310Z",
     "iopub.status.idle": "2020-08-26T08:34:06.239708Z",
     "shell.execute_reply": "2020-08-26T08:34:06.240444Z"
    },
    "papermill": {
     "duration": 0.028253,
     "end_time": "2020-08-26T08:34:06.240594",
     "exception": false,
     "start_time": "2020-08-26T08:34:06.212341",
     "status": "completed"
    },
    "slideshow": {
     "slide_type": "skip"
    },
    "tags": [
     "remove_cell"
    ]
   },
   "outputs": [],
   "source": [
    "# Extract data for Santa Barbara\n",
    "table = soup.find_all(\"tr\", class_=\"ms-rteTableEvenRow-3\")\n",
    "SB = table[21]"
   ]
  },
  {
   "cell_type": "code",
   "execution_count": 7,
   "metadata": {
    "execution": {
     "iopub.execute_input": "2020-08-26T08:34:06.271548Z",
     "iopub.status.busy": "2020-08-26T08:34:06.271014Z",
     "iopub.status.idle": "2020-08-26T08:34:06.281925Z",
     "shell.execute_reply": "2020-08-26T08:34:06.282715Z"
    },
    "papermill": {
     "duration": 0.030873,
     "end_time": "2020-08-26T08:34:06.282879",
     "exception": false,
     "start_time": "2020-08-26T08:34:06.252006",
     "status": "completed"
    },
    "slideshow": {
     "slide_type": "skip"
    },
    "tags": [
     "remove_cell"
    ]
   },
   "outputs": [],
   "source": [
    "# Avg # tests per day (per 100,000 population)\n",
    "daily_tests = SB.find_all(\"td\", class_=\"ms-rteTableOddCol-3\")[0].text\n",
    "\n",
    "# Case rate per 100,000\n",
    "case_rate = SB.find_all(\"td\", class_=\"ms-rteTableEvenCol-3\")[1].text\n",
    "\n",
    "# Testing positivity (%)\n",
    "test_positivity = SB.find_all(\"td\", class_=\"ms-rteTableOddCol-3\")[1].text\n",
    "\n",
    "# % Change in 3-day avg COVID+ hospitalized patients\n",
    "change_hospit = SB.find_all(\"td\", class_=\"ms-rteTableEvenCol-3\")[2].text\n",
    "\n",
    "# % ICU beds currently available\n",
    "ICU_beds = SB.find_all(\"td\", class_=\"ms-rteTableOddCol-3\")[2].text\n",
    "\n",
    "# % Ventilators currently available\n",
    "ventilators = SB.find_all(\"td\", class_=\"ms-rteTableEvenCol-3\")[3].text\n",
    "\n",
    "# Extract date of last update\n",
    "update_date = soup.find_all(\"span\", class_=\"ms-rteStyle-Accent1\")[1]\\\n",
    "    .find(\"em\").text"
   ]
  },
  {
   "cell_type": "code",
   "execution_count": 8,
   "metadata": {
    "execution": {
     "iopub.execute_input": "2020-08-26T08:34:06.311220Z",
     "iopub.status.busy": "2020-08-26T08:34:06.310595Z",
     "iopub.status.idle": "2020-08-26T08:34:06.312163Z",
     "shell.execute_reply": "2020-08-26T08:34:06.311738Z"
    },
    "papermill": {
     "duration": 0.017988,
     "end_time": "2020-08-26T08:34:06.312274",
     "exception": false,
     "start_time": "2020-08-26T08:34:06.294286",
     "status": "completed"
    },
    "tags": [
     "remove_cell"
    ]
   },
   "outputs": [],
   "source": [
    "# Create updated date string\n",
    "update_tag = \"Table last updated by CDPH on \" + update_date.split(\" on \", 1)[1] + \".\""
   ]
  },
  {
   "cell_type": "code",
   "execution_count": 9,
   "metadata": {
    "execution": {
     "iopub.execute_input": "2020-08-26T08:34:06.342846Z",
     "iopub.status.busy": "2020-08-26T08:34:06.342294Z",
     "iopub.status.idle": "2020-08-26T08:34:06.345360Z",
     "shell.execute_reply": "2020-08-26T08:34:06.346359Z"
    },
    "papermill": {
     "duration": 0.022779,
     "end_time": "2020-08-26T08:34:06.346518",
     "exception": false,
     "start_time": "2020-08-26T08:34:06.323739",
     "status": "completed"
    },
    "slideshow": {
     "slide_type": "skip"
    },
    "tags": [
     "remove_cell"
    ]
   },
   "outputs": [],
   "source": [
    "# Set up Google Sheet API\n",
    "scope = [\"https://spreadsheets.google.com/feeds\",'https://www.googleapis.com/auth/spreadsheets',\"https://www.googleapis.com/auth/drive.file\",\"https://www.googleapis.com/auth/drive\"]\n",
    "creds = ServiceAccountCredentials.from_json_keyfile_name(\"credentials.json\", scope)\n",
    "client = gspread.authorize(creds)"
   ]
  },
  {
   "cell_type": "code",
   "execution_count": 10,
   "metadata": {
    "execution": {
     "iopub.execute_input": "2020-08-26T08:34:06.375566Z",
     "iopub.status.busy": "2020-08-26T08:34:06.375050Z",
     "iopub.status.idle": "2020-08-26T08:34:07.768419Z",
     "shell.execute_reply": "2020-08-26T08:34:07.769144Z"
    },
    "papermill": {
     "duration": 1.411513,
     "end_time": "2020-08-26T08:34:07.769301",
     "exception": false,
     "start_time": "2020-08-26T08:34:06.357788",
     "status": "completed"
    },
    "slideshow": {
     "slide_type": "skip"
    },
    "tags": [
     "remove_cell"
    ]
   },
   "outputs": [
    {
     "data": {
      "text/plain": [
       "{'spreadsheetId': '1pcqdMzKtea2Oq3BDmdAOQ21gZjCssieKI0692VfNLXU',\n",
       " 'updatedRange': 'Sheet1!A2:G2',\n",
       " 'updatedRows': 1,\n",
       " 'updatedColumns': 7,\n",
       " 'updatedCells': 7}"
      ]
     },
     "execution_count": 10,
     "metadata": {},
     "output_type": "execute_result"
    }
   ],
   "source": [
    "# Append daily data as a new row in Google Sheet\n",
    "sheet = client.open(\"Test cron job\").sheet1\n",
    "insertRow = [datetime.date.today().strftime(\"%Y-%m-%d\"),\n",
    "             daily_tests,\n",
    "             case_rate,\n",
    "             test_positivity,\n",
    "             change_hospit,\n",
    "             ICU_beds,\n",
    "             ventilators]\n",
    "sheet.insert_row(insertRow, 2)"
   ]
  },
  {
   "cell_type": "code",
   "execution_count": 11,
   "metadata": {
    "execution": {
     "iopub.execute_input": "2020-08-26T08:34:07.797912Z",
     "iopub.status.busy": "2020-08-26T08:34:07.797394Z",
     "iopub.status.idle": "2020-08-26T08:34:08.578830Z",
     "shell.execute_reply": "2020-08-26T08:34:08.579632Z"
    },
    "papermill": {
     "duration": 0.798672,
     "end_time": "2020-08-26T08:34:08.579805",
     "exception": false,
     "start_time": "2020-08-26T08:34:07.781133",
     "status": "completed"
    },
    "scrolled": true,
    "slideshow": {
     "slide_type": "slide"
    },
    "tags": [
     "remove_cell"
    ]
   },
   "outputs": [],
   "source": [
    "# Extract data from Google Sheet as pandas dataframe\n",
    "sheet = client.open(\"Test cron job\").sheet1\n",
    "data = sheet.get_all_records()\n",
    "result = pd.DataFrame(data).set_index(\"Date\")"
   ]
  },
  {
   "cell_type": "code",
   "execution_count": 12,
   "metadata": {
    "execution": {
     "iopub.execute_input": "2020-08-26T08:34:08.609147Z",
     "iopub.status.busy": "2020-08-26T08:34:08.608595Z",
     "iopub.status.idle": "2020-08-26T08:34:09.396132Z",
     "shell.execute_reply": "2020-08-26T08:34:09.396960Z"
    },
    "papermill": {
     "duration": 0.805369,
     "end_time": "2020-08-26T08:34:09.397142",
     "exception": false,
     "start_time": "2020-08-26T08:34:08.591773",
     "status": "completed"
    },
    "scrolled": true,
    "tags": [
     "remove_input"
    ]
   },
   "outputs": [
    {
     "data": {
      "text/html": [
       "<style  type=\"text/css\" >\n",
       "    #T_e9436f00_e776_11ea_8add_42010a8a0004 th {\n",
       "          text-align: center;\n",
       "    }#T_e9436f00_e776_11ea_8add_42010a8a0004row0_col0,#T_e9436f00_e776_11ea_8add_42010a8a0004row1_col0,#T_e9436f00_e776_11ea_8add_42010a8a0004row2_col0,#T_e9436f00_e776_11ea_8add_42010a8a0004row3_col0,#T_e9436f00_e776_11ea_8add_42010a8a0004row4_col0,#T_e9436f00_e776_11ea_8add_42010a8a0004row5_col0{\n",
       "            width:  20em;\n",
       "            text-align:  center;\n",
       "            font-weight:  bold;\n",
       "        }#T_e9436f00_e776_11ea_8add_42010a8a0004row0_col1,#T_e9436f00_e776_11ea_8add_42010a8a0004row0_col2,#T_e9436f00_e776_11ea_8add_42010a8a0004row1_col1,#T_e9436f00_e776_11ea_8add_42010a8a0004row1_col2,#T_e9436f00_e776_11ea_8add_42010a8a0004row2_col1,#T_e9436f00_e776_11ea_8add_42010a8a0004row2_col2,#T_e9436f00_e776_11ea_8add_42010a8a0004row3_col1,#T_e9436f00_e776_11ea_8add_42010a8a0004row3_col2,#T_e9436f00_e776_11ea_8add_42010a8a0004row4_col1,#T_e9436f00_e776_11ea_8add_42010a8a0004row4_col2,#T_e9436f00_e776_11ea_8add_42010a8a0004row5_col1,#T_e9436f00_e776_11ea_8add_42010a8a0004row5_col2{\n",
       "            width:  20em;\n",
       "            text-align:  center;\n",
       "        }</style><table id=\"T_e9436f00_e776_11ea_8add_42010a8a0004\" ><thead>    <tr>        <th class=\"col_heading level0 col0\" >Date</th>        <th class=\"col_heading level0 col1\" >Time</th>        <th class=\"col_heading level0 col2\" ></th>    </tr></thead><tbody>\n",
       "                <tr>\n",
       "                                <td id=\"T_e9436f00_e776_11ea_8add_42010a8a0004row0_col0\" class=\"data row0 col0\" >2020-08-26</td>\n",
       "                        <td id=\"T_e9436f00_e776_11ea_8add_42010a8a0004row0_col1\" class=\"data row0 col1\" >222.1</td>\n",
       "                        <td id=\"T_e9436f00_e776_11ea_8add_42010a8a0004row0_col2\" class=\"data row0 col2\" > ✔</td>\n",
       "            </tr>\n",
       "            <tr>\n",
       "                                <td id=\"T_e9436f00_e776_11ea_8add_42010a8a0004row1_col0\" class=\"data row1 col0\" >2020-08-26</td>\n",
       "                        <td id=\"T_e9436f00_e776_11ea_8add_42010a8a0004row1_col1\" class=\"data row1 col1\" >222.1</td>\n",
       "                        <td id=\"T_e9436f00_e776_11ea_8add_42010a8a0004row1_col2\" class=\"data row1 col2\" > ✔</td>\n",
       "            </tr>\n",
       "            <tr>\n",
       "                                <td id=\"T_e9436f00_e776_11ea_8add_42010a8a0004row2_col0\" class=\"data row2 col0\" >2020-08-26</td>\n",
       "                        <td id=\"T_e9436f00_e776_11ea_8add_42010a8a0004row2_col1\" class=\"data row2 col1\" >222.1</td>\n",
       "                        <td id=\"T_e9436f00_e776_11ea_8add_42010a8a0004row2_col2\" class=\"data row2 col2\" > ✔</td>\n",
       "            </tr>\n",
       "            <tr>\n",
       "                                <td id=\"T_e9436f00_e776_11ea_8add_42010a8a0004row3_col0\" class=\"data row3 col0\" >2020-08-26</td>\n",
       "                        <td id=\"T_e9436f00_e776_11ea_8add_42010a8a0004row3_col1\" class=\"data row3 col1\" >222.1</td>\n",
       "                        <td id=\"T_e9436f00_e776_11ea_8add_42010a8a0004row3_col2\" class=\"data row3 col2\" > ✔</td>\n",
       "            </tr>\n",
       "            <tr>\n",
       "                                <td id=\"T_e9436f00_e776_11ea_8add_42010a8a0004row4_col0\" class=\"data row4 col0\" >2020-08-26</td>\n",
       "                        <td id=\"T_e9436f00_e776_11ea_8add_42010a8a0004row4_col1\" class=\"data row4 col1\" >222.1</td>\n",
       "                        <td id=\"T_e9436f00_e776_11ea_8add_42010a8a0004row4_col2\" class=\"data row4 col2\" > ✔</td>\n",
       "            </tr>\n",
       "            <tr>\n",
       "                                <td id=\"T_e9436f00_e776_11ea_8add_42010a8a0004row5_col0\" class=\"data row5 col0\" >2020-08-26</td>\n",
       "                        <td id=\"T_e9436f00_e776_11ea_8add_42010a8a0004row5_col1\" class=\"data row5 col1\" >222.1</td>\n",
       "                        <td id=\"T_e9436f00_e776_11ea_8add_42010a8a0004row5_col2\" class=\"data row5 col2\" > ✔</td>\n",
       "            </tr>\n",
       "    </tbody></table>"
      ],
      "text/plain": [
       "<pandas.io.formats.style.Styler at 0x7fc066247390>"
      ]
     },
     "execution_count": 12,
     "metadata": {},
     "output_type": "execute_result"
    }
   ],
   "source": [
    "# Style the pandas dataframe\n",
    "d = dict(selector=\"th\",\n",
    "         props=[('text-align', 'center')])\n",
    "\n",
    "result.reset_index().style\\\n",
    "    .set_properties(**{'width':'20em', 'text-align':'center'})\\\n",
    "    .set_properties(subset=['Date'], **{'font-weight': 'bold'})\\\n",
    "    .set_table_styles([d])\\\n",
    "    .set_precision(1)\\\n",
    "    .hide_index()"
   ]
  },
  {
   "cell_type": "markdown",
   "metadata": {
    "papermill": {
     "duration": 0.01193,
     "end_time": "2020-08-26T08:34:09.421423",
     "exception": false,
     "start_time": "2020-08-26T08:34:09.409493",
     "status": "completed"
    },
    "tags": []
   },
   "source": [
    "<sup>Notes: (1) 7 day average with a 7-day lag. (2) 14 day average. (3) 7 day average with a 7-day lag. (4) Change in 3 day average.</sup>"
   ]
  },
  {
   "cell_type": "code",
   "execution_count": 13,
   "metadata": {
    "execution": {
     "iopub.execute_input": "2020-08-26T08:34:09.451231Z",
     "iopub.status.busy": "2020-08-26T08:34:09.450695Z",
     "iopub.status.idle": "2020-08-26T08:34:09.454050Z",
     "shell.execute_reply": "2020-08-26T08:34:09.454473Z"
    },
    "papermill": {
     "duration": 0.021139,
     "end_time": "2020-08-26T08:34:09.454628",
     "exception": false,
     "start_time": "2020-08-26T08:34:09.433489",
     "status": "completed"
    },
    "tags": [
     "remove_input"
    ]
   },
   "outputs": [
    {
     "data": {
      "text/markdown": [
       "Table last updated by CDPH on August 25, 2020."
      ],
      "text/plain": [
       "<IPython.core.display.Markdown object>"
      ]
     },
     "execution_count": 13,
     "metadata": {},
     "output_type": "execute_result"
    }
   ],
   "source": [
    "md(update_tag)"
   ]
  },
  {
   "cell_type": "markdown",
   "metadata": {
    "papermill": {
     "duration": 0.012285,
     "end_time": "2020-08-26T08:34:09.479117",
     "exception": false,
     "start_time": "2020-08-26T08:34:09.466832",
     "status": "completed"
    },
    "tags": []
   },
   "source": [
    "## Tracking county closures in Santa Barbara"
   ]
  },
  {
   "cell_type": "markdown",
   "metadata": {
    "papermill": {
     "duration": 0.012117,
     "end_time": "2020-08-26T08:34:09.503527",
     "exception": false,
     "start_time": "2020-08-26T08:34:09.491410",
     "status": "completed"
    },
    "tags": []
   },
   "source": [
    "The state of California is using a data-driven approach informed by scientific evidence to tailor its response to COVID-19. Three dimensions of concern are monitored to assess whether a county should be placed on the County Monitoring List:\n",
    " 1. Elevated Disease Transmission\n",
    " 2. Increasing Hospitalization\n",
    " 3. Limited Hospital Capacity\n",
    "\n",
    "Once a county appears on the County Monitoring List for three consecutive days, indoor operations in the sectors listed in Section 3 of the [July 13th State Health Officer Order](https://www.cdph.ca.gov/Programs/CID/DCDC/CDPH%20Document%20Library/COVID-19/SHO%20Order%20Dimming%20Entire%20State%207-13-2020.pdf) must close.\n",
    "\n",
    "This table tracks where Santa Barbara stands in terms of the criteria for inclusion on the County Monitoring List. As of 20 August 2020, the criteria for inclusion on the monitoring list are:\n",
    "\n",
    "* Case rate >100 OR (Case rate >25 AND Positivity >8%)\n",
    "* \\>10% increase in hospitalizations\n",
    "* <20% ICU beds available OR <25% ventilators available\n",
    "\n",
    "If Santa Barbara meets the criteria for removal from the County Monitoring List for a certain metric, then a checkmark ✔ is displayed in the table.\n",
    "\n",
    "Read more at <https://covid19.ca.gov/roadmap-counties/>.\n",
    "\n",
    "Data source for county metrics: https://www.cdph.ca.gov/Programs/CID/DCDC/Pages/COVID-19/COVID19CountyDataTable.aspx."
   ]
  },
  {
   "cell_type": "markdown",
   "metadata": {
    "papermill": {
     "duration": 0.012308,
     "end_time": "2020-08-26T08:34:09.528293",
     "exception": false,
     "start_time": "2020-08-26T08:34:09.515985",
     "status": "completed"
    },
    "tags": []
   },
   "source": [
    "**See the code used to scrape the data: https://github.com/walice/COVID-SB/.**"
   ]
  },
  {
   "cell_type": "code",
   "execution_count": 14,
   "metadata": {
    "execution": {
     "iopub.execute_input": "2020-08-26T08:34:09.560804Z",
     "iopub.status.busy": "2020-08-26T08:34:09.558744Z",
     "iopub.status.idle": "2020-08-26T08:34:09.562861Z",
     "shell.execute_reply": "2020-08-26T08:34:09.562409Z"
    },
    "papermill": {
     "duration": 0.022285,
     "end_time": "2020-08-26T08:34:09.562983",
     "exception": false,
     "start_time": "2020-08-26T08:34:09.540698",
     "status": "completed"
    },
    "tags": [
     "remove_cell"
    ]
   },
   "outputs": [
    {
     "data": {
      "application/javascript": [
       "IPython.notebook.save_notebook()\n"
      ],
      "text/plain": [
       "<IPython.core.display.Javascript object>"
      ]
     },
     "metadata": {},
     "output_type": "display_data"
    }
   ],
   "source": [
    "%%javascript\n",
    "IPython.notebook.save_notebook()"
   ]
  },
  {
   "cell_type": "code",
   "execution_count": 15,
   "metadata": {
    "execution": {
     "iopub.execute_input": "2020-08-26T08:34:09.595603Z",
     "iopub.status.busy": "2020-08-26T08:34:09.595096Z",
     "iopub.status.idle": "2020-08-26T08:34:09.710453Z",
     "shell.execute_reply": "2020-08-26T08:34:09.709440Z"
    },
    "papermill": {
     "duration": 0.13518,
     "end_time": "2020-08-26T08:34:09.710588",
     "exception": false,
     "start_time": "2020-08-26T08:34:09.575408",
     "status": "completed"
    },
    "slideshow": {
     "slide_type": "skip"
    },
    "tags": [
     "remove_cell"
    ]
   },
   "outputs": [
    {
     "name": "stdout",
     "output_type": "stream",
     "text": [
      "/bin/sh: 1: jupyter: not found\r\n"
     ]
    }
   ],
   "source": [
    "# Convert Jupyter Notebook to HTML\n",
    "! jupyter nbconvert \"index.ipynb\" --to html --TagRemovePreprocessor.enabled=True --TagRemovePreprocessor.remove_cell_tags=\"['remove_cell']\" --TagRemovePreprocessor.remove_input_tags=\"['remove_input']\" --no-prompt"
   ]
  },
  {
   "cell_type": "code",
   "execution_count": 16,
   "metadata": {
    "execution": {
     "iopub.execute_input": "2020-08-26T08:34:09.744124Z",
     "iopub.status.busy": "2020-08-26T08:34:09.741586Z",
     "iopub.status.idle": "2020-08-26T08:34:09.744713Z",
     "shell.execute_reply": "2020-08-26T08:34:09.745104Z"
    },
    "papermill": {
     "duration": 0.021187,
     "end_time": "2020-08-26T08:34:09.745246",
     "exception": false,
     "start_time": "2020-08-26T08:34:09.724059",
     "status": "completed"
    },
    "tags": [
     "remove_cell"
    ]
   },
   "outputs": [],
   "source": [
    "# Create daily commit message\n",
    "now = datetime.datetime.now()\n",
    "commit_message = \"Last scraped on \" + str(now)"
   ]
  },
  {
   "cell_type": "code",
   "execution_count": null,
   "metadata": {
    "execution": {
     "iopub.execute_input": "2020-08-26T08:33:12.910542Z",
     "iopub.status.busy": "2020-08-26T08:33:12.909998Z",
     "iopub.status.idle": "2020-08-26T08:33:17.470471Z",
     "shell.execute_reply": "2020-08-26T08:33:17.469243Z"
    },
    "papermill": {
     "duration": null,
     "end_time": null,
     "exception": false,
     "start_time": "2020-08-26T08:34:09.757819",
     "status": "running"
    },
    "tags": [
     "remove_cell"
    ]
   },
   "outputs": [],
   "source": [
    "# Deploy to GitHub\n",
    "! git add .\n",
    "! echo $commit_message > commit_message.txt\n",
    "! git commit -F commit_message.txt\n",
    "! git push"
   ]
  }
 ],
 "metadata": {
  "celltoolbar": "Tags",
  "kernelspec": {
   "display_name": "Python 3",
   "language": "python",
   "name": "python3"
  },
  "language_info": {
   "codemirror_mode": {
    "name": "ipython",
    "version": 3
   },
   "file_extension": ".py",
   "mimetype": "text/x-python",
   "name": "python",
   "nbconvert_exporter": "python",
   "pygments_lexer": "ipython3",
   "version": "3.7.3"
  },
  "papermill": {
   "duration": null,
   "end_time": null,
   "environment_variables": {},
   "exception": null,
   "input_path": "/home/alice_lepissier/cron-job/index.ipynb",
   "output_path": "/home/alice_lepissier/cron-job/index.ipynb",
   "parameters": {},
   "start_time": "2020-08-26T08:34:02.193139",
   "version": "2.1.3"
  }
 },
 "nbformat": 4,
 "nbformat_minor": 4
}