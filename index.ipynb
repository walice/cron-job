{
 "cells": [
  {
   "cell_type": "markdown",
   "metadata": {
    "papermill": {
     "duration": 0.010611,
     "end_time": "2020-08-26T20:23:05.280373",
     "exception": false,
     "start_time": "2020-08-26T20:23:05.269762",
     "status": "completed"
    },
    "tags": []
   },
   "source": [
    "# Daily COVID monitoring data for Santa Barbara county"
   ]
  },
  {
   "cell_type": "code",
   "execution_count": 1,
   "metadata": {
    "execution": {
     "iopub.execute_input": "2020-08-26T20:23:05.307064Z",
     "iopub.status.busy": "2020-08-26T20:23:05.306511Z",
     "iopub.status.idle": "2020-08-26T20:23:07.251075Z",
     "shell.execute_reply": "2020-08-26T20:23:07.251998Z"
    },
    "papermill": {
     "duration": 1.961809,
     "end_time": "2020-08-26T20:23:07.252214",
     "exception": false,
     "start_time": "2020-08-26T20:23:05.290405",
     "status": "completed"
    },
    "tags": [
     "remove_cell"
    ]
   },
   "outputs": [],
   "source": [
    "! jt -t grade3 -tf robotosans -cellw 1100"
   ]
  },
  {
   "cell_type": "markdown",
   "metadata": {
    "papermill": {
     "duration": 0.009395,
     "end_time": "2020-08-26T20:23:07.271812",
     "exception": false,
     "start_time": "2020-08-26T20:23:07.262417",
     "status": "completed"
    },
    "tags": []
   },
   "source": [
    "This table is automatically updated with new daily COVID data for the county of Santa Barbara, CA. Every day, the California Department of Public Health publishes COVID tracking metrics for each county, but does not save the previous day's data. This tool keeps track of the daily metrics that are used to monitor progress towards safe reopening in California."
   ]
  },
  {
   "cell_type": "code",
   "execution_count": 2,
   "metadata": {
    "execution": {
     "iopub.execute_input": "2020-08-26T20:23:07.299516Z",
     "iopub.status.busy": "2020-08-26T20:23:07.299015Z",
     "iopub.status.idle": "2020-08-26T20:23:10.217149Z",
     "shell.execute_reply": "2020-08-26T20:23:10.217984Z"
    },
    "papermill": {
     "duration": 2.936989,
     "end_time": "2020-08-26T20:23:10.218183",
     "exception": false,
     "start_time": "2020-08-26T20:23:07.281194",
     "status": "completed"
    },
    "slideshow": {
     "slide_type": "skip"
    },
    "tags": [
     "remove_cell"
    ]
   },
   "outputs": [],
   "source": [
    "# Preamble\n",
    "import os\n",
    "from IPython.display import Markdown as md\n",
    "import IPython\n",
    "import requests\n",
    "from bs4 import BeautifulSoup\n",
    "import re\n",
    "import pandas as pd\n",
    "import datetime\n",
    "import gspread\n",
    "from oauth2client.service_account import ServiceAccountCredentials"
   ]
  },
  {
   "cell_type": "code",
   "execution_count": 3,
   "metadata": {
    "execution": {
     "iopub.execute_input": "2020-08-26T20:23:10.243406Z",
     "iopub.status.busy": "2020-08-26T20:23:10.242835Z",
     "iopub.status.idle": "2020-08-26T20:23:10.244221Z",
     "shell.execute_reply": "2020-08-26T20:23:10.243832Z"
    },
    "papermill": {
     "duration": 0.01603,
     "end_time": "2020-08-26T20:23:10.244330",
     "exception": false,
     "start_time": "2020-08-26T20:23:10.228300",
     "status": "completed"
    },
    "tags": [
     "remove_cell"
    ]
   },
   "outputs": [],
   "source": [
    "# Set working directory\n",
    "os.chdir(\"/home/alice_lepissier/cron-job\")"
   ]
  },
  {
   "cell_type": "code",
   "execution_count": 4,
   "metadata": {
    "execution": {
     "iopub.execute_input": "2020-08-26T20:23:10.269104Z",
     "iopub.status.busy": "2020-08-26T20:23:10.268550Z",
     "iopub.status.idle": "2020-08-26T20:23:10.578599Z",
     "shell.execute_reply": "2020-08-26T20:23:10.579425Z"
    },
    "papermill": {
     "duration": 0.325826,
     "end_time": "2020-08-26T20:23:10.579589",
     "exception": false,
     "start_time": "2020-08-26T20:23:10.253763",
     "status": "completed"
    },
    "slideshow": {
     "slide_type": "skip"
    },
    "tags": [
     "remove_cell"
    ]
   },
   "outputs": [],
   "source": [
    "# Request content from URL\n",
    "html_string = requests.get('https://www.cdph.ca.gov/Programs/CID/DCDC/Pages/COVID-19/COVID19CountyDataTable.aspx').content"
   ]
  },
  {
   "cell_type": "code",
   "execution_count": 5,
   "metadata": {
    "execution": {
     "iopub.execute_input": "2020-08-26T20:23:10.607527Z",
     "iopub.status.busy": "2020-08-26T20:23:10.606996Z",
     "iopub.status.idle": "2020-08-26T20:23:10.694353Z",
     "shell.execute_reply": "2020-08-26T20:23:10.695128Z"
    },
    "papermill": {
     "duration": 0.105271,
     "end_time": "2020-08-26T20:23:10.695288",
     "exception": false,
     "start_time": "2020-08-26T20:23:10.590017",
     "status": "completed"
    },
    "slideshow": {
     "slide_type": "skip"
    },
    "tags": [
     "remove_cell"
    ]
   },
   "outputs": [],
   "source": [
    "# Parse HTML\n",
    "soup = BeautifulSoup(html_string, 'html.parser')"
   ]
  },
  {
   "cell_type": "code",
   "execution_count": 6,
   "metadata": {
    "execution": {
     "iopub.execute_input": "2020-08-26T20:23:10.723985Z",
     "iopub.status.busy": "2020-08-26T20:23:10.723476Z",
     "iopub.status.idle": "2020-08-26T20:23:10.730423Z",
     "shell.execute_reply": "2020-08-26T20:23:10.731152Z"
    },
    "papermill": {
     "duration": 0.025702,
     "end_time": "2020-08-26T20:23:10.731319",
     "exception": false,
     "start_time": "2020-08-26T20:23:10.705617",
     "status": "completed"
    },
    "slideshow": {
     "slide_type": "skip"
    },
    "tags": [
     "remove_cell"
    ]
   },
   "outputs": [],
   "source": [
    "# Extract data for Santa Barbara\n",
    "table = soup.find_all(\"tr\", class_=\"ms-rteTableEvenRow-3\")\n",
    "SB = table[21]"
   ]
  },
  {
   "cell_type": "code",
   "execution_count": 7,
   "metadata": {
    "execution": {
     "iopub.execute_input": "2020-08-26T20:23:10.759569Z",
     "iopub.status.busy": "2020-08-26T20:23:10.759032Z",
     "iopub.status.idle": "2020-08-26T20:23:10.769810Z",
     "shell.execute_reply": "2020-08-26T20:23:10.770578Z"
    },
    "papermill": {
     "duration": 0.02954,
     "end_time": "2020-08-26T20:23:10.770745",
     "exception": false,
     "start_time": "2020-08-26T20:23:10.741205",
     "status": "completed"
    },
    "slideshow": {
     "slide_type": "skip"
    },
    "tags": [
     "remove_cell"
    ]
   },
   "outputs": [],
   "source": [
    "# Avg # tests per day (per 100,000 population)\n",
    "daily_tests = SB.find_all(\"td\", class_=\"ms-rteTableOddCol-3\")[0].text\n",
    "\n",
    "# Case rate per 100,000\n",
    "case_rate = SB.find_all(\"td\", class_=\"ms-rteTableEvenCol-3\")[1].text\n",
    "\n",
    "# Testing positivity (%)\n",
    "test_positivity = SB.find_all(\"td\", class_=\"ms-rteTableOddCol-3\")[1].text\n",
    "\n",
    "# % Change in 3-day avg COVID+ hospitalized patients\n",
    "change_hospit = SB.find_all(\"td\", class_=\"ms-rteTableEvenCol-3\")[2].text\n",
    "\n",
    "# % ICU beds currently available\n",
    "ICU_beds = SB.find_all(\"td\", class_=\"ms-rteTableOddCol-3\")[2].text\n",
    "\n",
    "# % Ventilators currently available\n",
    "ventilators = SB.find_all(\"td\", class_=\"ms-rteTableEvenCol-3\")[3].text\n",
    "\n",
    "# Extract date of last update\n",
    "update_date = soup.find_all(\"span\", class_=\"ms-rteStyle-Accent1\")[1]\\\n",
    "    .find(\"em\").text"
   ]
  },
  {
   "cell_type": "code",
   "execution_count": 8,
   "metadata": {
    "execution": {
     "iopub.execute_input": "2020-08-26T20:23:10.796359Z",
     "iopub.status.busy": "2020-08-26T20:23:10.795791Z",
     "iopub.status.idle": "2020-08-26T20:23:10.797210Z",
     "shell.execute_reply": "2020-08-26T20:23:10.796799Z"
    },
    "papermill": {
     "duration": 0.01582,
     "end_time": "2020-08-26T20:23:10.797327",
     "exception": false,
     "start_time": "2020-08-26T20:23:10.781507",
     "status": "completed"
    },
    "tags": [
     "remove_cell"
    ]
   },
   "outputs": [],
   "source": [
    "# Create updated date string\n",
    "update_tag = \"Table last updated by CDPH on \" + update_date.split(\" on \", 1)[1] + \".\""
   ]
  },
  {
   "cell_type": "code",
   "execution_count": 9,
   "metadata": {
    "execution": {
     "iopub.execute_input": "2020-08-26T20:23:10.820863Z",
     "iopub.status.busy": "2020-08-26T20:23:10.820361Z",
     "iopub.status.idle": "2020-08-26T20:23:10.845165Z",
     "shell.execute_reply": "2020-08-26T20:23:10.845974Z"
    },
    "papermill": {
     "duration": 0.039358,
     "end_time": "2020-08-26T20:23:10.846397",
     "exception": false,
     "start_time": "2020-08-26T20:23:10.807039",
     "status": "completed"
    },
    "slideshow": {
     "slide_type": "skip"
    },
    "tags": [
     "remove_cell"
    ]
   },
   "outputs": [],
   "source": [
    "# Set up Google Sheet API\n",
    "scope = [\"https://spreadsheets.google.com/feeds\",'https://www.googleapis.com/auth/spreadsheets',\"https://www.googleapis.com/auth/drive.file\",\"https://www.googleapis.com/auth/drive\"]\n",
    "creds = ServiceAccountCredentials.from_json_keyfile_name(\"credentials.json\", scope)\n",
    "client = gspread.authorize(creds)"
   ]
  },
  {
   "cell_type": "code",
   "execution_count": 10,
   "metadata": {
    "execution": {
     "iopub.execute_input": "2020-08-26T20:23:10.871509Z",
     "iopub.status.busy": "2020-08-26T20:23:10.870971Z",
     "iopub.status.idle": "2020-08-26T20:23:11.798942Z",
     "shell.execute_reply": "2020-08-26T20:23:11.799726Z"
    },
    "papermill": {
     "duration": 0.943868,
     "end_time": "2020-08-26T20:23:11.799895",
     "exception": false,
     "start_time": "2020-08-26T20:23:10.856027",
     "status": "completed"
    },
    "slideshow": {
     "slide_type": "skip"
    },
    "tags": [
     "remove_cell"
    ]
   },
   "outputs": [
    {
     "data": {
      "text/plain": [
       "{'spreadsheetId': '1pcqdMzKtea2Oq3BDmdAOQ21gZjCssieKI0692VfNLXU',\n",
       " 'updatedRange': 'Sheet1!A2:G2',\n",
       " 'updatedRows': 1,\n",
       " 'updatedColumns': 7,\n",
       " 'updatedCells': 7}"
      ]
     },
     "execution_count": 10,
     "metadata": {},
     "output_type": "execute_result"
    }
   ],
   "source": [
    "# Append daily data as a new row in Google Sheet\n",
    "sheet = client.open(\"Test cron job\").sheet1\n",
    "insertRow = [datetime.date.today().strftime(\"%Y-%m-%d\"),\n",
    "             daily_tests,\n",
    "             case_rate,\n",
    "             test_positivity,\n",
    "             change_hospit,\n",
    "             ICU_beds,\n",
    "             ventilators]\n",
    "sheet.insert_row(insertRow, 2)"
   ]
  },
  {
   "cell_type": "code",
   "execution_count": 11,
   "metadata": {
    "execution": {
     "iopub.execute_input": "2020-08-26T20:23:11.833210Z",
     "iopub.status.busy": "2020-08-26T20:23:11.832521Z",
     "iopub.status.idle": "2020-08-26T20:23:12.331372Z",
     "shell.execute_reply": "2020-08-26T20:23:12.332274Z"
    },
    "papermill": {
     "duration": 0.520107,
     "end_time": "2020-08-26T20:23:12.332451",
     "exception": false,
     "start_time": "2020-08-26T20:23:11.812344",
     "status": "completed"
    },
    "scrolled": true,
    "slideshow": {
     "slide_type": "slide"
    },
    "tags": [
     "remove_cell"
    ]
   },
   "outputs": [],
   "source": [
    "# Extract data from Google Sheet as pandas dataframe\n",
    "sheet = client.open(\"Test cron job\").sheet1\n",
    "data = sheet.get_all_records()\n",
    "result = pd.DataFrame(data).set_index(\"Date\")"
   ]
  },
  {
   "cell_type": "code",
   "execution_count": 12,
   "metadata": {
    "execution": {
     "iopub.execute_input": "2020-08-26T20:23:12.359282Z",
     "iopub.status.busy": "2020-08-26T20:23:12.358774Z",
     "iopub.status.idle": "2020-08-26T20:23:13.291298Z",
     "shell.execute_reply": "2020-08-26T20:23:13.292098Z"
    },
    "papermill": {
     "duration": 0.949373,
     "end_time": "2020-08-26T20:23:13.292291",
     "exception": false,
     "start_time": "2020-08-26T20:23:12.342918",
     "status": "completed"
    },
    "scrolled": true,
    "tags": [
     "remove_input"
    ]
   },
   "outputs": [
    {
     "data": {
      "text/html": [
       "<style  type=\"text/css\" >\n",
       "    #T_f7667c36_e7d9_11ea_b731_42010a8a0004 th {\n",
       "          text-align: center;\n",
       "    }#T_f7667c36_e7d9_11ea_b731_42010a8a0004row0_col0,#T_f7667c36_e7d9_11ea_b731_42010a8a0004row1_col0{\n",
       "            width:  20em;\n",
       "            text-align:  center;\n",
       "            font-weight:  bold;\n",
       "        }#T_f7667c36_e7d9_11ea_b731_42010a8a0004row0_col1,#T_f7667c36_e7d9_11ea_b731_42010a8a0004row0_col2,#T_f7667c36_e7d9_11ea_b731_42010a8a0004row0_col3,#T_f7667c36_e7d9_11ea_b731_42010a8a0004row0_col4,#T_f7667c36_e7d9_11ea_b731_42010a8a0004row0_col5,#T_f7667c36_e7d9_11ea_b731_42010a8a0004row0_col6,#T_f7667c36_e7d9_11ea_b731_42010a8a0004row1_col1,#T_f7667c36_e7d9_11ea_b731_42010a8a0004row1_col2,#T_f7667c36_e7d9_11ea_b731_42010a8a0004row1_col3,#T_f7667c36_e7d9_11ea_b731_42010a8a0004row1_col4,#T_f7667c36_e7d9_11ea_b731_42010a8a0004row1_col5,#T_f7667c36_e7d9_11ea_b731_42010a8a0004row1_col6{\n",
       "            width:  20em;\n",
       "            text-align:  center;\n",
       "        }</style><table id=\"T_f7667c36_e7d9_11ea_b731_42010a8a0004\" ><thead>    <tr>        <th class=\"col_heading level0 col0\" >Date</th>        <th class=\"col_heading level0 col1\" >Daily tests (per 100,000)¹</th>        <th class=\"col_heading level0 col2\" >Case rate (per 100,000)²</th>        <th class=\"col_heading level0 col3\" >Testing positivity (%)³</th>        <th class=\"col_heading level0 col4\" >Change in hospitalizations (%)⁴</th>        <th class=\"col_heading level0 col5\" >ICU beds available (%)</th>        <th class=\"col_heading level0 col6\" >Ventilators (available (%)</th>    </tr></thead><tbody>\n",
       "                <tr>\n",
       "                                <td id=\"T_f7667c36_e7d9_11ea_b731_42010a8a0004row0_col0\" class=\"data row0 col0\" >2020-08-26</td>\n",
       "                        <td id=\"T_f7667c36_e7d9_11ea_b731_42010a8a0004row0_col1\" class=\"data row0 col1\" >219.7</td>\n",
       "                        <td id=\"T_f7667c36_e7d9_11ea_b731_42010a8a0004row0_col2\" class=\"data row0 col2\" >133.2</td>\n",
       "                        <td id=\"T_f7667c36_e7d9_11ea_b731_42010a8a0004row0_col3\" class=\"data row0 col3\" > ✔</td>\n",
       "                        <td id=\"T_f7667c36_e7d9_11ea_b731_42010a8a0004row0_col4\" class=\"data row0 col4\" > ✔</td>\n",
       "                        <td id=\"T_f7667c36_e7d9_11ea_b731_42010a8a0004row0_col5\" class=\"data row0 col5\" > ✔</td>\n",
       "                        <td id=\"T_f7667c36_e7d9_11ea_b731_42010a8a0004row0_col6\" class=\"data row0 col6\" > ✔</td>\n",
       "            </tr>\n",
       "            <tr>\n",
       "                                <td id=\"T_f7667c36_e7d9_11ea_b731_42010a8a0004row1_col0\" class=\"data row1 col0\" >2020-08-26</td>\n",
       "                        <td id=\"T_f7667c36_e7d9_11ea_b731_42010a8a0004row1_col1\" class=\"data row1 col1\" >219.7</td>\n",
       "                        <td id=\"T_f7667c36_e7d9_11ea_b731_42010a8a0004row1_col2\" class=\"data row1 col2\" >133.2</td>\n",
       "                        <td id=\"T_f7667c36_e7d9_11ea_b731_42010a8a0004row1_col3\" class=\"data row1 col3\" > ✔</td>\n",
       "                        <td id=\"T_f7667c36_e7d9_11ea_b731_42010a8a0004row1_col4\" class=\"data row1 col4\" > ✔</td>\n",
       "                        <td id=\"T_f7667c36_e7d9_11ea_b731_42010a8a0004row1_col5\" class=\"data row1 col5\" > ✔</td>\n",
       "                        <td id=\"T_f7667c36_e7d9_11ea_b731_42010a8a0004row1_col6\" class=\"data row1 col6\" > ✔</td>\n",
       "            </tr>\n",
       "    </tbody></table>"
      ],
      "text/plain": [
       "<pandas.io.formats.style.Styler at 0x7f70fcd5b160>"
      ]
     },
     "execution_count": 12,
     "metadata": {},
     "output_type": "execute_result"
    }
   ],
   "source": [
    "# Style the pandas dataframe\n",
    "d = dict(selector=\"th\",\n",
    "         props=[('text-align', 'center')])\n",
    "\n",
    "result.reset_index().style\\\n",
    "    .set_properties(**{'width':'20em', 'text-align':'center'})\\\n",
    "    .set_properties(subset=['Date'], **{'font-weight': 'bold'})\\\n",
    "    .set_table_styles([d])\\\n",
    "    .set_precision(1)\\\n",
    "    .hide_index()"
   ]
  },
  {
   "cell_type": "markdown",
   "metadata": {
    "papermill": {
     "duration": 0.010831,
     "end_time": "2020-08-26T20:23:13.314547",
     "exception": false,
     "start_time": "2020-08-26T20:23:13.303716",
     "status": "completed"
    },
    "tags": []
   },
   "source": [
    "<sup>Notes: (1) 7 day average with a 7-day lag. (2) 14 day average. (3) 7 day average with a 7-day lag. (4) Change in 3 day average.</sup>"
   ]
  },
  {
   "cell_type": "code",
   "execution_count": 13,
   "metadata": {
    "execution": {
     "iopub.execute_input": "2020-08-26T20:23:13.340523Z",
     "iopub.status.busy": "2020-08-26T20:23:13.340032Z",
     "iopub.status.idle": "2020-08-26T20:23:13.343079Z",
     "shell.execute_reply": "2020-08-26T20:23:13.343437Z"
    },
    "papermill": {
     "duration": 0.018882,
     "end_time": "2020-08-26T20:23:13.343590",
     "exception": false,
     "start_time": "2020-08-26T20:23:13.324708",
     "status": "completed"
    },
    "tags": [
     "remove_input"
    ]
   },
   "outputs": [
    {
     "data": {
      "text/markdown": [
       "Table last updated by CDPH on August 26, 2020."
      ],
      "text/plain": [
       "<IPython.core.display.Markdown object>"
      ]
     },
     "execution_count": 13,
     "metadata": {},
     "output_type": "execute_result"
    }
   ],
   "source": [
    "md(update_tag)"
   ]
  },
  {
   "cell_type": "markdown",
   "metadata": {
    "papermill": {
     "duration": 0.010255,
     "end_time": "2020-08-26T20:23:13.364170",
     "exception": false,
     "start_time": "2020-08-26T20:23:13.353915",
     "status": "completed"
    },
    "tags": []
   },
   "source": [
    "## Tracking county closures in Santa Barbara"
   ]
  },
  {
   "cell_type": "markdown",
   "metadata": {
    "papermill": {
     "duration": 0.010444,
     "end_time": "2020-08-26T20:23:13.385617",
     "exception": false,
     "start_time": "2020-08-26T20:23:13.375173",
     "status": "completed"
    },
    "tags": []
   },
   "source": [
    "The state of California is using a data-driven approach informed by scientific evidence to tailor its response to COVID-19. Three dimensions of concern are monitored to assess whether a county should be placed on the County Monitoring List:\n",
    " 1. Elevated Disease Transmission\n",
    " 2. Increasing Hospitalization\n",
    " 3. Limited Hospital Capacity\n",
    "\n",
    "Once a county appears on the County Monitoring List for three consecutive days, indoor operations in the sectors listed in Section 3 of the [July 13th State Health Officer Order](https://www.cdph.ca.gov/Programs/CID/DCDC/CDPH%20Document%20Library/COVID-19/SHO%20Order%20Dimming%20Entire%20State%207-13-2020.pdf) must close.\n",
    "\n",
    "This table tracks where Santa Barbara stands in terms of the criteria for inclusion on the County Monitoring List. As of 20 August 2020, the criteria for inclusion on the monitoring list are:\n",
    "\n",
    "* Case rate >100 OR (Case rate >25 AND Positivity >8%)\n",
    "* \\>10% increase in hospitalizations\n",
    "* <20% ICU beds available OR <25% ventilators available\n",
    "\n",
    "If Santa Barbara meets the criteria for removal from the County Monitoring List for a certain metric, then a checkmark ✔ is displayed in the table.\n",
    "\n",
    "Read more at <https://covid19.ca.gov/roadmap-counties/>.\n",
    "\n",
    "Data source for county metrics: https://www.cdph.ca.gov/Programs/CID/DCDC/Pages/COVID-19/COVID19CountyDataTable.aspx."
   ]
  },
  {
   "cell_type": "markdown",
   "metadata": {
    "papermill": {
     "duration": 0.01028,
     "end_time": "2020-08-26T20:23:13.406219",
     "exception": false,
     "start_time": "2020-08-26T20:23:13.395939",
     "status": "completed"
    },
    "tags": []
   },
   "source": [
    "**See the code used to scrape the data: https://github.com/walice/COVID-SB/.**"
   ]
  },
  {
   "cell_type": "code",
   "execution_count": 14,
   "metadata": {
    "execution": {
     "iopub.execute_input": "2020-08-26T20:23:13.432638Z",
     "iopub.status.busy": "2020-08-26T20:23:13.432145Z",
     "iopub.status.idle": "2020-08-26T20:23:13.436354Z",
     "shell.execute_reply": "2020-08-26T20:23:13.436714Z"
    },
    "papermill": {
     "duration": 0.019916,
     "end_time": "2020-08-26T20:23:13.436867",
     "exception": false,
     "start_time": "2020-08-26T20:23:13.416951",
     "status": "completed"
    },
    "tags": [
     "remove_cell"
    ]
   },
   "outputs": [
    {
     "data": {
      "application/javascript": [
       "IPython.notebook.save_notebook()\n"
      ],
      "text/plain": [
       "<IPython.core.display.Javascript object>"
      ]
     },
     "metadata": {},
     "output_type": "display_data"
    }
   ],
   "source": [
    "%%javascript\n",
    "IPython.notebook.save_notebook()"
   ]
  },
  {
   "cell_type": "code",
   "execution_count": 15,
   "metadata": {
    "execution": {
     "iopub.execute_input": "2020-08-26T20:23:13.462993Z",
     "iopub.status.busy": "2020-08-26T20:23:13.462403Z",
     "iopub.status.idle": "2020-08-26T20:23:15.338286Z",
     "shell.execute_reply": "2020-08-26T20:23:15.339194Z"
    },
    "papermill": {
     "duration": 1.891913,
     "end_time": "2020-08-26T20:23:15.339370",
     "exception": false,
     "start_time": "2020-08-26T20:23:13.447457",
     "status": "completed"
    },
    "slideshow": {
     "slide_type": "skip"
    },
    "tags": [
     "remove_cell"
    ]
   },
   "outputs": [
    {
     "name": "stdout",
     "output_type": "stream",
     "text": [
      "[NbConvertApp] Converting notebook index.ipynb to html\r\n"
     ]
    },
    {
     "name": "stdout",
     "output_type": "stream",
     "text": [
      "[NbConvertApp] Writing 351768 bytes to index.html\r\n"
     ]
    }
   ],
   "source": [
    "# Convert Jupyter Notebook to HTML\n",
    "! jupyter nbconvert \"index.ipynb\" --to html --TagRemovePreprocessor.enabled=True --TagRemovePreprocessor.remove_cell_tags=\"['remove_cell']\" --TagRemovePreprocessor.remove_input_tags=\"['remove_input']\" --no-prompt"
   ]
  },
  {
   "cell_type": "code",
   "execution_count": 16,
   "metadata": {
    "execution": {
     "iopub.execute_input": "2020-08-26T20:23:15.368344Z",
     "iopub.status.busy": "2020-08-26T20:23:15.367854Z",
     "iopub.status.idle": "2020-08-26T20:23:15.371137Z",
     "shell.execute_reply": "2020-08-26T20:23:15.371616Z"
    },
    "papermill": {
     "duration": 0.02054,
     "end_time": "2020-08-26T20:23:15.371774",
     "exception": false,
     "start_time": "2020-08-26T20:23:15.351234",
     "status": "completed"
    },
    "tags": [
     "remove_cell"
    ]
   },
   "outputs": [],
   "source": [
    "# Create daily commit message\n",
    "now = datetime.datetime.now()\n",
    "commit_message = \"Last scraped on \" + str(now)"
   ]
  },
  {
   "cell_type": "code",
   "execution_count": null,
   "metadata": {
    "execution": {
     "iopub.execute_input": "2020-08-26T20:22:16.472804Z",
     "iopub.status.busy": "2020-08-26T20:22:16.472316Z",
     "iopub.status.idle": "2020-08-26T20:22:21.176589Z",
     "shell.execute_reply": "2020-08-26T20:22:21.175424Z"
    },
    "papermill": {
     "duration": null,
     "end_time": null,
     "exception": false,
     "start_time": "2020-08-26T20:23:15.382658",
     "status": "running"
    },
    "tags": [
     "remove_cell"
    ]
   },
   "outputs": [],
   "source": [
    "# Deploy to GitHub\n",
    "! git add .\n",
    "! echo $commit_message > commit_message.txt\n",
    "! git commit -F commit_message.txt\n",
    "! git push"
   ]
  }
 ],
 "metadata": {
  "celltoolbar": "Tags",
  "kernelspec": {
   "display_name": "Python 3",
   "language": "python",
   "name": "python3"
  },
  "language_info": {
   "codemirror_mode": {
    "name": "ipython",
    "version": 3
   },
   "file_extension": ".py",
   "mimetype": "text/x-python",
   "name": "python",
   "nbconvert_exporter": "python",
   "pygments_lexer": "ipython3",
   "version": "3.7.3"
  },
  "papermill": {
   "duration": null,
   "end_time": null,
   "environment_variables": {},
   "exception": null,
   "input_path": "/home/alice_lepissier/cron-job/index.ipynb",
   "output_path": "/home/alice_lepissier/cron-job/index.ipynb",
   "parameters": {},
   "start_time": "2020-08-26T20:23:03.150535",
   "version": "2.1.3"
  }
 },
 "nbformat": 4,
 "nbformat_minor": 4
}