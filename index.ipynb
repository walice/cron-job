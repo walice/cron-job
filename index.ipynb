{
 "cells": [
  {
   "cell_type": "markdown",
   "metadata": {
    "papermill": {
     "duration": 0.010737,
     "end_time": "2020-08-26T18:51:07.897908",
     "exception": false,
     "start_time": "2020-08-26T18:51:07.887171",
     "status": "completed"
    },
    "tags": []
   },
   "source": [
    "# Daily COVID monitoring data for Santa Barbara county"
   ]
  },
  {
   "cell_type": "code",
   "execution_count": 1,
   "metadata": {
    "execution": {
     "iopub.execute_input": "2020-08-26T18:51:07.923719Z",
     "iopub.status.busy": "2020-08-26T18:51:07.923202Z",
     "iopub.status.idle": "2020-08-26T18:51:08.044439Z",
     "shell.execute_reply": "2020-08-26T18:51:08.043452Z"
    },
    "papermill": {
     "duration": 0.13675,
     "end_time": "2020-08-26T18:51:08.044597",
     "exception": false,
     "start_time": "2020-08-26T18:51:07.907847",
     "status": "completed"
    },
    "tags": [
     "remove_cell"
    ]
   },
   "outputs": [
    {
     "name": "stdout",
     "output_type": "stream",
     "text": [
      "/bin/bash: jt: command not found\r\n"
     ]
    }
   ],
   "source": [
    "! jt -t grade3 -tf robotosans -cellw 1100"
   ]
  },
  {
   "cell_type": "markdown",
   "metadata": {
    "papermill": {
     "duration": 0.009662,
     "end_time": "2020-08-26T18:51:08.065090",
     "exception": false,
     "start_time": "2020-08-26T18:51:08.055428",
     "status": "completed"
    },
    "tags": []
   },
   "source": [
    "This table is automatically updated with new daily COVID data for the county of Santa Barbara, CA. Every day, the California Department of Public Health publishes COVID tracking metrics for each county, but does not save the previous day's data. This tool keeps track of the daily metrics that are used to monitor progress towards safe reopening in California."
   ]
  },
  {
   "cell_type": "code",
   "execution_count": 2,
   "metadata": {
    "execution": {
     "iopub.execute_input": "2020-08-26T18:51:08.091371Z",
     "iopub.status.busy": "2020-08-26T18:51:08.090783Z",
     "iopub.status.idle": "2020-08-26T18:51:11.706754Z",
     "shell.execute_reply": "2020-08-26T18:51:11.707575Z"
    },
    "papermill": {
     "duration": 3.632772,
     "end_time": "2020-08-26T18:51:11.707754",
     "exception": false,
     "start_time": "2020-08-26T18:51:08.074982",
     "status": "completed"
    },
    "slideshow": {
     "slide_type": "skip"
    },
    "tags": [
     "remove_cell"
    ]
   },
   "outputs": [],
   "source": [
    "# Preamble\n",
    "import os\n",
    "from IPython.display import Markdown as md\n",
    "import IPython\n",
    "import requests\n",
    "from bs4 import BeautifulSoup\n",
    "import re\n",
    "import pandas as pd\n",
    "import datetime\n",
    "import gspread\n",
    "from oauth2client.service_account import ServiceAccountCredentials"
   ]
  },
  {
   "cell_type": "code",
   "execution_count": 3,
   "metadata": {
    "execution": {
     "iopub.execute_input": "2020-08-26T18:51:11.734350Z",
     "iopub.status.busy": "2020-08-26T18:51:11.732551Z",
     "iopub.status.idle": "2020-08-26T18:51:11.734929Z",
     "shell.execute_reply": "2020-08-26T18:51:11.735319Z"
    },
    "papermill": {
     "duration": 0.017119,
     "end_time": "2020-08-26T18:51:11.735464",
     "exception": false,
     "start_time": "2020-08-26T18:51:11.718345",
     "status": "completed"
    },
    "tags": []
   },
   "outputs": [],
   "source": [
    "# Set working directory\n",
    "os.chdir(\"/home/alice_lepissier/cron-job\")"
   ]
  },
  {
   "cell_type": "code",
   "execution_count": 4,
   "metadata": {
    "execution": {
     "iopub.execute_input": "2020-08-26T18:51:11.760616Z",
     "iopub.status.busy": "2020-08-26T18:51:11.759654Z",
     "iopub.status.idle": "2020-08-26T18:51:13.162597Z",
     "shell.execute_reply": "2020-08-26T18:51:13.163427Z"
    },
    "papermill": {
     "duration": 1.418327,
     "end_time": "2020-08-26T18:51:13.163590",
     "exception": false,
     "start_time": "2020-08-26T18:51:11.745263",
     "status": "completed"
    },
    "slideshow": {
     "slide_type": "skip"
    },
    "tags": [
     "remove_cell"
    ]
   },
   "outputs": [],
   "source": [
    "# Request content from URL\n",
    "html_string = requests.get('https://www.cdph.ca.gov/Programs/CID/DCDC/Pages/COVID-19/COVID19CountyDataTable.aspx').content"
   ]
  },
  {
   "cell_type": "code",
   "execution_count": 5,
   "metadata": {
    "execution": {
     "iopub.execute_input": "2020-08-26T18:51:13.191737Z",
     "iopub.status.busy": "2020-08-26T18:51:13.191084Z",
     "iopub.status.idle": "2020-08-26T18:51:13.285026Z",
     "shell.execute_reply": "2020-08-26T18:51:13.285887Z"
    },
    "papermill": {
     "duration": 0.111795,
     "end_time": "2020-08-26T18:51:13.286043",
     "exception": false,
     "start_time": "2020-08-26T18:51:13.174248",
     "status": "completed"
    },
    "slideshow": {
     "slide_type": "skip"
    },
    "tags": [
     "remove_cell"
    ]
   },
   "outputs": [],
   "source": [
    "# Parse HTML\n",
    "soup = BeautifulSoup(html_string, 'html.parser')"
   ]
  },
  {
   "cell_type": "code",
   "execution_count": 6,
   "metadata": {
    "execution": {
     "iopub.execute_input": "2020-08-26T18:51:13.315253Z",
     "iopub.status.busy": "2020-08-26T18:51:13.314696Z",
     "iopub.status.idle": "2020-08-26T18:51:13.323433Z",
     "shell.execute_reply": "2020-08-26T18:51:13.324215Z"
    },
    "papermill": {
     "duration": 0.027763,
     "end_time": "2020-08-26T18:51:13.324371",
     "exception": false,
     "start_time": "2020-08-26T18:51:13.296608",
     "status": "completed"
    },
    "slideshow": {
     "slide_type": "skip"
    },
    "tags": [
     "remove_cell"
    ]
   },
   "outputs": [],
   "source": [
    "# Extract data for Santa Barbara\n",
    "table = soup.find_all(\"tr\", class_=\"ms-rteTableEvenRow-3\")\n",
    "SB = table[21]"
   ]
  },
  {
   "cell_type": "code",
   "execution_count": 7,
   "metadata": {
    "execution": {
     "iopub.execute_input": "2020-08-26T18:51:13.352170Z",
     "iopub.status.busy": "2020-08-26T18:51:13.351562Z",
     "iopub.status.idle": "2020-08-26T18:51:13.364978Z",
     "shell.execute_reply": "2020-08-26T18:51:13.365783Z"
    },
    "papermill": {
     "duration": 0.031069,
     "end_time": "2020-08-26T18:51:13.365942",
     "exception": false,
     "start_time": "2020-08-26T18:51:13.334873",
     "status": "completed"
    },
    "slideshow": {
     "slide_type": "skip"
    },
    "tags": [
     "remove_cell"
    ]
   },
   "outputs": [],
   "source": [
    "# Avg # tests per day (per 100,000 population)\n",
    "daily_tests = SB.find_all(\"td\", class_=\"ms-rteTableOddCol-3\")[0].text\n",
    "\n",
    "# Case rate per 100,000\n",
    "case_rate = SB.find_all(\"td\", class_=\"ms-rteTableEvenCol-3\")[1].text\n",
    "\n",
    "# Testing positivity (%)\n",
    "test_positivity = SB.find_all(\"td\", class_=\"ms-rteTableOddCol-3\")[1].text\n",
    "\n",
    "# % Change in 3-day avg COVID+ hospitalized patients\n",
    "change_hospit = SB.find_all(\"td\", class_=\"ms-rteTableEvenCol-3\")[2].text\n",
    "\n",
    "# % ICU beds currently available\n",
    "ICU_beds = SB.find_all(\"td\", class_=\"ms-rteTableOddCol-3\")[2].text\n",
    "\n",
    "# % Ventilators currently available\n",
    "ventilators = SB.find_all(\"td\", class_=\"ms-rteTableEvenCol-3\")[3].text\n",
    "\n",
    "# Extract date of last update\n",
    "update_date = soup.find_all(\"span\", class_=\"ms-rteStyle-Accent1\")[1]\\\n",
    "    .find(\"em\").text"
   ]
  },
  {
   "cell_type": "code",
   "execution_count": 8,
   "metadata": {
    "execution": {
     "iopub.execute_input": "2020-08-26T18:51:13.392884Z",
     "iopub.status.busy": "2020-08-26T18:51:13.392275Z",
     "iopub.status.idle": "2020-08-26T18:51:13.393736Z",
     "shell.execute_reply": "2020-08-26T18:51:13.393332Z"
    },
    "papermill": {
     "duration": 0.017171,
     "end_time": "2020-08-26T18:51:13.393849",
     "exception": false,
     "start_time": "2020-08-26T18:51:13.376678",
     "status": "completed"
    },
    "tags": [
     "remove_cell"
    ]
   },
   "outputs": [],
   "source": [
    "# Create updated date string\n",
    "update_tag = \"Table last updated by CDPH on \" + update_date.split(\" on \", 1)[1] + \".\""
   ]
  },
  {
   "cell_type": "code",
   "execution_count": 9,
   "metadata": {
    "execution": {
     "iopub.execute_input": "2020-08-26T18:51:13.419016Z",
     "iopub.status.busy": "2020-08-26T18:51:13.418507Z",
     "iopub.status.idle": "2020-08-26T18:51:13.435277Z",
     "shell.execute_reply": "2020-08-26T18:51:13.436063Z"
    },
    "papermill": {
     "duration": 0.031964,
     "end_time": "2020-08-26T18:51:13.436229",
     "exception": false,
     "start_time": "2020-08-26T18:51:13.404265",
     "status": "completed"
    },
    "slideshow": {
     "slide_type": "skip"
    },
    "tags": [
     "remove_cell"
    ]
   },
   "outputs": [],
   "source": [
    "# Set up Google Sheet API\n",
    "scope = [\"https://spreadsheets.google.com/feeds\",'https://www.googleapis.com/auth/spreadsheets',\"https://www.googleapis.com/auth/drive.file\",\"https://www.googleapis.com/auth/drive\"]\n",
    "creds = ServiceAccountCredentials.from_json_keyfile_name(\"credentials.json\", scope)\n",
    "client = gspread.authorize(creds)"
   ]
  },
  {
   "cell_type": "code",
   "execution_count": 10,
   "metadata": {
    "execution": {
     "iopub.execute_input": "2020-08-26T18:51:13.463556Z",
     "iopub.status.busy": "2020-08-26T18:51:13.463041Z",
     "iopub.status.idle": "2020-08-26T18:51:15.103284Z",
     "shell.execute_reply": "2020-08-26T18:51:15.104040Z"
    },
    "papermill": {
     "duration": 1.657325,
     "end_time": "2020-08-26T18:51:15.104201",
     "exception": false,
     "start_time": "2020-08-26T18:51:13.446876",
     "status": "completed"
    },
    "slideshow": {
     "slide_type": "skip"
    },
    "tags": [
     "remove_cell"
    ]
   },
   "outputs": [
    {
     "data": {
      "text/plain": [
       "{'spreadsheetId': '1pcqdMzKtea2Oq3BDmdAOQ21gZjCssieKI0692VfNLXU',\n",
       " 'updatedRange': 'Sheet1!A2:G2',\n",
       " 'updatedRows': 1,\n",
       " 'updatedColumns': 7,\n",
       " 'updatedCells': 7}"
      ]
     },
     "execution_count": 10,
     "metadata": {},
     "output_type": "execute_result"
    }
   ],
   "source": [
    "# Append daily data as a new row in Google Sheet\n",
    "sheet = client.open(\"Test cron job\").sheet1\n",
    "insertRow = [datetime.date.today().strftime(\"%Y-%m-%d\"),\n",
    "             daily_tests,\n",
    "             case_rate,\n",
    "             test_positivity,\n",
    "             change_hospit,\n",
    "             ICU_beds,\n",
    "             ventilators]\n",
    "sheet.insert_row(insertRow, 2)"
   ]
  },
  {
   "cell_type": "code",
   "execution_count": 11,
   "metadata": {
    "execution": {
     "iopub.execute_input": "2020-08-26T18:51:15.131967Z",
     "iopub.status.busy": "2020-08-26T18:51:15.131333Z",
     "iopub.status.idle": "2020-08-26T18:51:15.706568Z",
     "shell.execute_reply": "2020-08-26T18:51:15.707402Z"
    },
    "papermill": {
     "duration": 0.591994,
     "end_time": "2020-08-26T18:51:15.707565",
     "exception": false,
     "start_time": "2020-08-26T18:51:15.115571",
     "status": "completed"
    },
    "scrolled": true,
    "slideshow": {
     "slide_type": "slide"
    },
    "tags": [
     "remove_cell"
    ]
   },
   "outputs": [],
   "source": [
    "# Extract data from Google Sheet as pandas dataframe\n",
    "sheet = client.open(\"Test cron job\").sheet1\n",
    "data = sheet.get_all_records()\n",
    "result = pd.DataFrame(data).set_index(\"Date\")"
   ]
  },
  {
   "cell_type": "code",
   "execution_count": 12,
   "metadata": {
    "execution": {
     "iopub.execute_input": "2020-08-26T18:51:15.735641Z",
     "iopub.status.busy": "2020-08-26T18:51:15.735116Z",
     "iopub.status.idle": "2020-08-26T18:51:17.379405Z",
     "shell.execute_reply": "2020-08-26T18:51:17.380185Z"
    },
    "papermill": {
     "duration": 1.661299,
     "end_time": "2020-08-26T18:51:17.380352",
     "exception": false,
     "start_time": "2020-08-26T18:51:15.719053",
     "status": "completed"
    },
    "scrolled": true,
    "tags": [
     "remove_input"
    ]
   },
   "outputs": [
    {
     "data": {
      "text/html": [
       "<style  type=\"text/css\" >\n",
       "    #T_1fa8841c_e7cd_11ea_81b3_42010a8a0004 th {\n",
       "          text-align: center;\n",
       "    }#T_1fa8841c_e7cd_11ea_81b3_42010a8a0004row0_col0,#T_1fa8841c_e7cd_11ea_81b3_42010a8a0004row1_col0,#T_1fa8841c_e7cd_11ea_81b3_42010a8a0004row2_col0,#T_1fa8841c_e7cd_11ea_81b3_42010a8a0004row3_col0,#T_1fa8841c_e7cd_11ea_81b3_42010a8a0004row4_col0,#T_1fa8841c_e7cd_11ea_81b3_42010a8a0004row5_col0,#T_1fa8841c_e7cd_11ea_81b3_42010a8a0004row6_col0,#T_1fa8841c_e7cd_11ea_81b3_42010a8a0004row7_col0,#T_1fa8841c_e7cd_11ea_81b3_42010a8a0004row8_col0,#T_1fa8841c_e7cd_11ea_81b3_42010a8a0004row9_col0,#T_1fa8841c_e7cd_11ea_81b3_42010a8a0004row10_col0,#T_1fa8841c_e7cd_11ea_81b3_42010a8a0004row11_col0,#T_1fa8841c_e7cd_11ea_81b3_42010a8a0004row12_col0,#T_1fa8841c_e7cd_11ea_81b3_42010a8a0004row13_col0,#T_1fa8841c_e7cd_11ea_81b3_42010a8a0004row14_col0,#T_1fa8841c_e7cd_11ea_81b3_42010a8a0004row15_col0,#T_1fa8841c_e7cd_11ea_81b3_42010a8a0004row16_col0,#T_1fa8841c_e7cd_11ea_81b3_42010a8a0004row17_col0,#T_1fa8841c_e7cd_11ea_81b3_42010a8a0004row18_col0,#T_1fa8841c_e7cd_11ea_81b3_42010a8a0004row19_col0,#T_1fa8841c_e7cd_11ea_81b3_42010a8a0004row20_col0,#T_1fa8841c_e7cd_11ea_81b3_42010a8a0004row21_col0,#T_1fa8841c_e7cd_11ea_81b3_42010a8a0004row22_col0,#T_1fa8841c_e7cd_11ea_81b3_42010a8a0004row23_col0,#T_1fa8841c_e7cd_11ea_81b3_42010a8a0004row24_col0,#T_1fa8841c_e7cd_11ea_81b3_42010a8a0004row25_col0{\n",
       "            width:  20em;\n",
       "            text-align:  center;\n",
       "            font-weight:  bold;\n",
       "        }#T_1fa8841c_e7cd_11ea_81b3_42010a8a0004row0_col1,#T_1fa8841c_e7cd_11ea_81b3_42010a8a0004row0_col2,#T_1fa8841c_e7cd_11ea_81b3_42010a8a0004row1_col1,#T_1fa8841c_e7cd_11ea_81b3_42010a8a0004row1_col2,#T_1fa8841c_e7cd_11ea_81b3_42010a8a0004row2_col1,#T_1fa8841c_e7cd_11ea_81b3_42010a8a0004row2_col2,#T_1fa8841c_e7cd_11ea_81b3_42010a8a0004row3_col1,#T_1fa8841c_e7cd_11ea_81b3_42010a8a0004row3_col2,#T_1fa8841c_e7cd_11ea_81b3_42010a8a0004row4_col1,#T_1fa8841c_e7cd_11ea_81b3_42010a8a0004row4_col2,#T_1fa8841c_e7cd_11ea_81b3_42010a8a0004row5_col1,#T_1fa8841c_e7cd_11ea_81b3_42010a8a0004row5_col2,#T_1fa8841c_e7cd_11ea_81b3_42010a8a0004row6_col1,#T_1fa8841c_e7cd_11ea_81b3_42010a8a0004row6_col2,#T_1fa8841c_e7cd_11ea_81b3_42010a8a0004row7_col1,#T_1fa8841c_e7cd_11ea_81b3_42010a8a0004row7_col2,#T_1fa8841c_e7cd_11ea_81b3_42010a8a0004row8_col1,#T_1fa8841c_e7cd_11ea_81b3_42010a8a0004row8_col2,#T_1fa8841c_e7cd_11ea_81b3_42010a8a0004row9_col1,#T_1fa8841c_e7cd_11ea_81b3_42010a8a0004row9_col2,#T_1fa8841c_e7cd_11ea_81b3_42010a8a0004row10_col1,#T_1fa8841c_e7cd_11ea_81b3_42010a8a0004row10_col2,#T_1fa8841c_e7cd_11ea_81b3_42010a8a0004row11_col1,#T_1fa8841c_e7cd_11ea_81b3_42010a8a0004row11_col2,#T_1fa8841c_e7cd_11ea_81b3_42010a8a0004row12_col1,#T_1fa8841c_e7cd_11ea_81b3_42010a8a0004row12_col2,#T_1fa8841c_e7cd_11ea_81b3_42010a8a0004row13_col1,#T_1fa8841c_e7cd_11ea_81b3_42010a8a0004row13_col2,#T_1fa8841c_e7cd_11ea_81b3_42010a8a0004row14_col1,#T_1fa8841c_e7cd_11ea_81b3_42010a8a0004row14_col2,#T_1fa8841c_e7cd_11ea_81b3_42010a8a0004row15_col1,#T_1fa8841c_e7cd_11ea_81b3_42010a8a0004row15_col2,#T_1fa8841c_e7cd_11ea_81b3_42010a8a0004row16_col1,#T_1fa8841c_e7cd_11ea_81b3_42010a8a0004row16_col2,#T_1fa8841c_e7cd_11ea_81b3_42010a8a0004row17_col1,#T_1fa8841c_e7cd_11ea_81b3_42010a8a0004row17_col2,#T_1fa8841c_e7cd_11ea_81b3_42010a8a0004row18_col1,#T_1fa8841c_e7cd_11ea_81b3_42010a8a0004row18_col2,#T_1fa8841c_e7cd_11ea_81b3_42010a8a0004row19_col1,#T_1fa8841c_e7cd_11ea_81b3_42010a8a0004row19_col2,#T_1fa8841c_e7cd_11ea_81b3_42010a8a0004row20_col1,#T_1fa8841c_e7cd_11ea_81b3_42010a8a0004row20_col2,#T_1fa8841c_e7cd_11ea_81b3_42010a8a0004row21_col1,#T_1fa8841c_e7cd_11ea_81b3_42010a8a0004row21_col2,#T_1fa8841c_e7cd_11ea_81b3_42010a8a0004row22_col1,#T_1fa8841c_e7cd_11ea_81b3_42010a8a0004row22_col2,#T_1fa8841c_e7cd_11ea_81b3_42010a8a0004row23_col1,#T_1fa8841c_e7cd_11ea_81b3_42010a8a0004row23_col2,#T_1fa8841c_e7cd_11ea_81b3_42010a8a0004row24_col1,#T_1fa8841c_e7cd_11ea_81b3_42010a8a0004row24_col2,#T_1fa8841c_e7cd_11ea_81b3_42010a8a0004row25_col1,#T_1fa8841c_e7cd_11ea_81b3_42010a8a0004row25_col2{\n",
       "            width:  20em;\n",
       "            text-align:  center;\n",
       "        }</style><table id=\"T_1fa8841c_e7cd_11ea_81b3_42010a8a0004\" ><thead>    <tr>        <th class=\"col_heading level0 col0\" >Date</th>        <th class=\"col_heading level0 col1\" >Time</th>        <th class=\"col_heading level0 col2\" ></th>    </tr></thead><tbody>\n",
       "                <tr>\n",
       "                                <td id=\"T_1fa8841c_e7cd_11ea_81b3_42010a8a0004row0_col0\" class=\"data row0 col0\" >2020-08-26</td>\n",
       "                        <td id=\"T_1fa8841c_e7cd_11ea_81b3_42010a8a0004row0_col1\" class=\"data row0 col1\" >219.7</td>\n",
       "                        <td id=\"T_1fa8841c_e7cd_11ea_81b3_42010a8a0004row0_col2\" class=\"data row0 col2\" > ✔</td>\n",
       "            </tr>\n",
       "            <tr>\n",
       "                                <td id=\"T_1fa8841c_e7cd_11ea_81b3_42010a8a0004row1_col0\" class=\"data row1 col0\" >2020-08-26</td>\n",
       "                        <td id=\"T_1fa8841c_e7cd_11ea_81b3_42010a8a0004row1_col1\" class=\"data row1 col1\" >222.1</td>\n",
       "                        <td id=\"T_1fa8841c_e7cd_11ea_81b3_42010a8a0004row1_col2\" class=\"data row1 col2\" > ✔</td>\n",
       "            </tr>\n",
       "            <tr>\n",
       "                                <td id=\"T_1fa8841c_e7cd_11ea_81b3_42010a8a0004row2_col0\" class=\"data row2 col0\" >2020-08-26</td>\n",
       "                        <td id=\"T_1fa8841c_e7cd_11ea_81b3_42010a8a0004row2_col1\" class=\"data row2 col1\" >222.1</td>\n",
       "                        <td id=\"T_1fa8841c_e7cd_11ea_81b3_42010a8a0004row2_col2\" class=\"data row2 col2\" > ✔</td>\n",
       "            </tr>\n",
       "            <tr>\n",
       "                                <td id=\"T_1fa8841c_e7cd_11ea_81b3_42010a8a0004row3_col0\" class=\"data row3 col0\" >2020-08-26</td>\n",
       "                        <td id=\"T_1fa8841c_e7cd_11ea_81b3_42010a8a0004row3_col1\" class=\"data row3 col1\" >222.1</td>\n",
       "                        <td id=\"T_1fa8841c_e7cd_11ea_81b3_42010a8a0004row3_col2\" class=\"data row3 col2\" > ✔</td>\n",
       "            </tr>\n",
       "            <tr>\n",
       "                                <td id=\"T_1fa8841c_e7cd_11ea_81b3_42010a8a0004row4_col0\" class=\"data row4 col0\" >2020-08-26</td>\n",
       "                        <td id=\"T_1fa8841c_e7cd_11ea_81b3_42010a8a0004row4_col1\" class=\"data row4 col1\" >222.1</td>\n",
       "                        <td id=\"T_1fa8841c_e7cd_11ea_81b3_42010a8a0004row4_col2\" class=\"data row4 col2\" > ✔</td>\n",
       "            </tr>\n",
       "            <tr>\n",
       "                                <td id=\"T_1fa8841c_e7cd_11ea_81b3_42010a8a0004row5_col0\" class=\"data row5 col0\" >2020-08-26</td>\n",
       "                        <td id=\"T_1fa8841c_e7cd_11ea_81b3_42010a8a0004row5_col1\" class=\"data row5 col1\" >222.1</td>\n",
       "                        <td id=\"T_1fa8841c_e7cd_11ea_81b3_42010a8a0004row5_col2\" class=\"data row5 col2\" > ✔</td>\n",
       "            </tr>\n",
       "            <tr>\n",
       "                                <td id=\"T_1fa8841c_e7cd_11ea_81b3_42010a8a0004row6_col0\" class=\"data row6 col0\" >2020-08-26</td>\n",
       "                        <td id=\"T_1fa8841c_e7cd_11ea_81b3_42010a8a0004row6_col1\" class=\"data row6 col1\" >222.1</td>\n",
       "                        <td id=\"T_1fa8841c_e7cd_11ea_81b3_42010a8a0004row6_col2\" class=\"data row6 col2\" > ✔</td>\n",
       "            </tr>\n",
       "            <tr>\n",
       "                                <td id=\"T_1fa8841c_e7cd_11ea_81b3_42010a8a0004row7_col0\" class=\"data row7 col0\" >2020-08-26</td>\n",
       "                        <td id=\"T_1fa8841c_e7cd_11ea_81b3_42010a8a0004row7_col1\" class=\"data row7 col1\" >222.1</td>\n",
       "                        <td id=\"T_1fa8841c_e7cd_11ea_81b3_42010a8a0004row7_col2\" class=\"data row7 col2\" > ✔</td>\n",
       "            </tr>\n",
       "            <tr>\n",
       "                                <td id=\"T_1fa8841c_e7cd_11ea_81b3_42010a8a0004row8_col0\" class=\"data row8 col0\" >2020-08-26</td>\n",
       "                        <td id=\"T_1fa8841c_e7cd_11ea_81b3_42010a8a0004row8_col1\" class=\"data row8 col1\" >222.1</td>\n",
       "                        <td id=\"T_1fa8841c_e7cd_11ea_81b3_42010a8a0004row8_col2\" class=\"data row8 col2\" > ✔</td>\n",
       "            </tr>\n",
       "            <tr>\n",
       "                                <td id=\"T_1fa8841c_e7cd_11ea_81b3_42010a8a0004row9_col0\" class=\"data row9 col0\" >2020-08-26</td>\n",
       "                        <td id=\"T_1fa8841c_e7cd_11ea_81b3_42010a8a0004row9_col1\" class=\"data row9 col1\" >222.1</td>\n",
       "                        <td id=\"T_1fa8841c_e7cd_11ea_81b3_42010a8a0004row9_col2\" class=\"data row9 col2\" > ✔</td>\n",
       "            </tr>\n",
       "            <tr>\n",
       "                                <td id=\"T_1fa8841c_e7cd_11ea_81b3_42010a8a0004row10_col0\" class=\"data row10 col0\" >2020-08-26</td>\n",
       "                        <td id=\"T_1fa8841c_e7cd_11ea_81b3_42010a8a0004row10_col1\" class=\"data row10 col1\" >222.1</td>\n",
       "                        <td id=\"T_1fa8841c_e7cd_11ea_81b3_42010a8a0004row10_col2\" class=\"data row10 col2\" > ✔</td>\n",
       "            </tr>\n",
       "            <tr>\n",
       "                                <td id=\"T_1fa8841c_e7cd_11ea_81b3_42010a8a0004row11_col0\" class=\"data row11 col0\" >2020-08-26</td>\n",
       "                        <td id=\"T_1fa8841c_e7cd_11ea_81b3_42010a8a0004row11_col1\" class=\"data row11 col1\" >222.1</td>\n",
       "                        <td id=\"T_1fa8841c_e7cd_11ea_81b3_42010a8a0004row11_col2\" class=\"data row11 col2\" > ✔</td>\n",
       "            </tr>\n",
       "            <tr>\n",
       "                                <td id=\"T_1fa8841c_e7cd_11ea_81b3_42010a8a0004row12_col0\" class=\"data row12 col0\" >2020-08-26</td>\n",
       "                        <td id=\"T_1fa8841c_e7cd_11ea_81b3_42010a8a0004row12_col1\" class=\"data row12 col1\" >222.1</td>\n",
       "                        <td id=\"T_1fa8841c_e7cd_11ea_81b3_42010a8a0004row12_col2\" class=\"data row12 col2\" > ✔</td>\n",
       "            </tr>\n",
       "            <tr>\n",
       "                                <td id=\"T_1fa8841c_e7cd_11ea_81b3_42010a8a0004row13_col0\" class=\"data row13 col0\" >2020-08-26</td>\n",
       "                        <td id=\"T_1fa8841c_e7cd_11ea_81b3_42010a8a0004row13_col1\" class=\"data row13 col1\" >222.1</td>\n",
       "                        <td id=\"T_1fa8841c_e7cd_11ea_81b3_42010a8a0004row13_col2\" class=\"data row13 col2\" > ✔</td>\n",
       "            </tr>\n",
       "            <tr>\n",
       "                                <td id=\"T_1fa8841c_e7cd_11ea_81b3_42010a8a0004row14_col0\" class=\"data row14 col0\" >2020-08-26</td>\n",
       "                        <td id=\"T_1fa8841c_e7cd_11ea_81b3_42010a8a0004row14_col1\" class=\"data row14 col1\" >222.1</td>\n",
       "                        <td id=\"T_1fa8841c_e7cd_11ea_81b3_42010a8a0004row14_col2\" class=\"data row14 col2\" > ✔</td>\n",
       "            </tr>\n",
       "            <tr>\n",
       "                                <td id=\"T_1fa8841c_e7cd_11ea_81b3_42010a8a0004row15_col0\" class=\"data row15 col0\" >2020-08-26</td>\n",
       "                        <td id=\"T_1fa8841c_e7cd_11ea_81b3_42010a8a0004row15_col1\" class=\"data row15 col1\" >222.1</td>\n",
       "                        <td id=\"T_1fa8841c_e7cd_11ea_81b3_42010a8a0004row15_col2\" class=\"data row15 col2\" > ✔</td>\n",
       "            </tr>\n",
       "            <tr>\n",
       "                                <td id=\"T_1fa8841c_e7cd_11ea_81b3_42010a8a0004row16_col0\" class=\"data row16 col0\" >2020-08-26</td>\n",
       "                        <td id=\"T_1fa8841c_e7cd_11ea_81b3_42010a8a0004row16_col1\" class=\"data row16 col1\" >222.1</td>\n",
       "                        <td id=\"T_1fa8841c_e7cd_11ea_81b3_42010a8a0004row16_col2\" class=\"data row16 col2\" > ✔</td>\n",
       "            </tr>\n",
       "            <tr>\n",
       "                                <td id=\"T_1fa8841c_e7cd_11ea_81b3_42010a8a0004row17_col0\" class=\"data row17 col0\" >2020-08-26</td>\n",
       "                        <td id=\"T_1fa8841c_e7cd_11ea_81b3_42010a8a0004row17_col1\" class=\"data row17 col1\" >222.1</td>\n",
       "                        <td id=\"T_1fa8841c_e7cd_11ea_81b3_42010a8a0004row17_col2\" class=\"data row17 col2\" > ✔</td>\n",
       "            </tr>\n",
       "            <tr>\n",
       "                                <td id=\"T_1fa8841c_e7cd_11ea_81b3_42010a8a0004row18_col0\" class=\"data row18 col0\" >2020-08-26</td>\n",
       "                        <td id=\"T_1fa8841c_e7cd_11ea_81b3_42010a8a0004row18_col1\" class=\"data row18 col1\" >222.1</td>\n",
       "                        <td id=\"T_1fa8841c_e7cd_11ea_81b3_42010a8a0004row18_col2\" class=\"data row18 col2\" > ✔</td>\n",
       "            </tr>\n",
       "            <tr>\n",
       "                                <td id=\"T_1fa8841c_e7cd_11ea_81b3_42010a8a0004row19_col0\" class=\"data row19 col0\" >2020-08-26</td>\n",
       "                        <td id=\"T_1fa8841c_e7cd_11ea_81b3_42010a8a0004row19_col1\" class=\"data row19 col1\" >222.1</td>\n",
       "                        <td id=\"T_1fa8841c_e7cd_11ea_81b3_42010a8a0004row19_col2\" class=\"data row19 col2\" > ✔</td>\n",
       "            </tr>\n",
       "            <tr>\n",
       "                                <td id=\"T_1fa8841c_e7cd_11ea_81b3_42010a8a0004row20_col0\" class=\"data row20 col0\" >2020-08-26</td>\n",
       "                        <td id=\"T_1fa8841c_e7cd_11ea_81b3_42010a8a0004row20_col1\" class=\"data row20 col1\" >222.1</td>\n",
       "                        <td id=\"T_1fa8841c_e7cd_11ea_81b3_42010a8a0004row20_col2\" class=\"data row20 col2\" > ✔</td>\n",
       "            </tr>\n",
       "            <tr>\n",
       "                                <td id=\"T_1fa8841c_e7cd_11ea_81b3_42010a8a0004row21_col0\" class=\"data row21 col0\" >2020-08-26</td>\n",
       "                        <td id=\"T_1fa8841c_e7cd_11ea_81b3_42010a8a0004row21_col1\" class=\"data row21 col1\" >222.1</td>\n",
       "                        <td id=\"T_1fa8841c_e7cd_11ea_81b3_42010a8a0004row21_col2\" class=\"data row21 col2\" > ✔</td>\n",
       "            </tr>\n",
       "            <tr>\n",
       "                                <td id=\"T_1fa8841c_e7cd_11ea_81b3_42010a8a0004row22_col0\" class=\"data row22 col0\" >2020-08-26</td>\n",
       "                        <td id=\"T_1fa8841c_e7cd_11ea_81b3_42010a8a0004row22_col1\" class=\"data row22 col1\" >222.1</td>\n",
       "                        <td id=\"T_1fa8841c_e7cd_11ea_81b3_42010a8a0004row22_col2\" class=\"data row22 col2\" > ✔</td>\n",
       "            </tr>\n",
       "            <tr>\n",
       "                                <td id=\"T_1fa8841c_e7cd_11ea_81b3_42010a8a0004row23_col0\" class=\"data row23 col0\" >2020-08-26</td>\n",
       "                        <td id=\"T_1fa8841c_e7cd_11ea_81b3_42010a8a0004row23_col1\" class=\"data row23 col1\" >222.1</td>\n",
       "                        <td id=\"T_1fa8841c_e7cd_11ea_81b3_42010a8a0004row23_col2\" class=\"data row23 col2\" > ✔</td>\n",
       "            </tr>\n",
       "            <tr>\n",
       "                                <td id=\"T_1fa8841c_e7cd_11ea_81b3_42010a8a0004row24_col0\" class=\"data row24 col0\" >2020-08-26</td>\n",
       "                        <td id=\"T_1fa8841c_e7cd_11ea_81b3_42010a8a0004row24_col1\" class=\"data row24 col1\" >222.1</td>\n",
       "                        <td id=\"T_1fa8841c_e7cd_11ea_81b3_42010a8a0004row24_col2\" class=\"data row24 col2\" > ✔</td>\n",
       "            </tr>\n",
       "            <tr>\n",
       "                                <td id=\"T_1fa8841c_e7cd_11ea_81b3_42010a8a0004row25_col0\" class=\"data row25 col0\" >2020-08-26</td>\n",
       "                        <td id=\"T_1fa8841c_e7cd_11ea_81b3_42010a8a0004row25_col1\" class=\"data row25 col1\" >222.1</td>\n",
       "                        <td id=\"T_1fa8841c_e7cd_11ea_81b3_42010a8a0004row25_col2\" class=\"data row25 col2\" > ✔</td>\n",
       "            </tr>\n",
       "    </tbody></table>"
      ],
      "text/plain": [
       "<pandas.io.formats.style.Styler at 0x7f603d357898>"
      ]
     },
     "execution_count": 12,
     "metadata": {},
     "output_type": "execute_result"
    }
   ],
   "source": [
    "# Style the pandas dataframe\n",
    "d = dict(selector=\"th\",\n",
    "         props=[('text-align', 'center')])\n",
    "\n",
    "result.reset_index().style\\\n",
    "    .set_properties(**{'width':'20em', 'text-align':'center'})\\\n",
    "    .set_properties(subset=['Date'], **{'font-weight': 'bold'})\\\n",
    "    .set_table_styles([d])\\\n",
    "    .set_precision(1)\\\n",
    "    .hide_index()"
   ]
  },
  {
   "cell_type": "markdown",
   "metadata": {
    "papermill": {
     "duration": 0.011642,
     "end_time": "2020-08-26T18:51:17.404218",
     "exception": false,
     "start_time": "2020-08-26T18:51:17.392576",
     "status": "completed"
    },
    "tags": []
   },
   "source": [
    "<sup>Notes: (1) 7 day average with a 7-day lag. (2) 14 day average. (3) 7 day average with a 7-day lag. (4) Change in 3 day average.</sup>"
   ]
  },
  {
   "cell_type": "code",
   "execution_count": 13,
   "metadata": {
    "execution": {
     "iopub.execute_input": "2020-08-26T18:51:17.432845Z",
     "iopub.status.busy": "2020-08-26T18:51:17.432338Z",
     "iopub.status.idle": "2020-08-26T18:51:17.435514Z",
     "shell.execute_reply": "2020-08-26T18:51:17.435883Z"
    },
    "papermill": {
     "duration": 0.020296,
     "end_time": "2020-08-26T18:51:17.436032",
     "exception": false,
     "start_time": "2020-08-26T18:51:17.415736",
     "status": "completed"
    },
    "tags": [
     "remove_input"
    ]
   },
   "outputs": [
    {
     "data": {
      "text/markdown": [
       "Table last updated by CDPH on August 25, 2020."
      ],
      "text/plain": [
       "<IPython.core.display.Markdown object>"
      ]
     },
     "execution_count": 13,
     "metadata": {},
     "output_type": "execute_result"
    }
   ],
   "source": [
    "md(update_tag)"
   ]
  },
  {
   "cell_type": "markdown",
   "metadata": {
    "papermill": {
     "duration": 0.011865,
     "end_time": "2020-08-26T18:51:17.459482",
     "exception": false,
     "start_time": "2020-08-26T18:51:17.447617",
     "status": "completed"
    },
    "tags": []
   },
   "source": [
    "## Tracking county closures in Santa Barbara"
   ]
  },
  {
   "cell_type": "markdown",
   "metadata": {
    "papermill": {
     "duration": 0.011819,
     "end_time": "2020-08-26T18:51:17.483199",
     "exception": false,
     "start_time": "2020-08-26T18:51:17.471380",
     "status": "completed"
    },
    "tags": []
   },
   "source": [
    "The state of California is using a data-driven approach informed by scientific evidence to tailor its response to COVID-19. Three dimensions of concern are monitored to assess whether a county should be placed on the County Monitoring List:\n",
    " 1. Elevated Disease Transmission\n",
    " 2. Increasing Hospitalization\n",
    " 3. Limited Hospital Capacity\n",
    "\n",
    "Once a county appears on the County Monitoring List for three consecutive days, indoor operations in the sectors listed in Section 3 of the [July 13th State Health Officer Order](https://www.cdph.ca.gov/Programs/CID/DCDC/CDPH%20Document%20Library/COVID-19/SHO%20Order%20Dimming%20Entire%20State%207-13-2020.pdf) must close.\n",
    "\n",
    "This table tracks where Santa Barbara stands in terms of the criteria for inclusion on the County Monitoring List. As of 20 August 2020, the criteria for inclusion on the monitoring list are:\n",
    "\n",
    "* Case rate >100 OR (Case rate >25 AND Positivity >8%)\n",
    "* \\>10% increase in hospitalizations\n",
    "* <20% ICU beds available OR <25% ventilators available\n",
    "\n",
    "If Santa Barbara meets the criteria for removal from the County Monitoring List for a certain metric, then a checkmark ✔ is displayed in the table.\n",
    "\n",
    "Read more at <https://covid19.ca.gov/roadmap-counties/>.\n",
    "\n",
    "Data source for county metrics: https://www.cdph.ca.gov/Programs/CID/DCDC/Pages/COVID-19/COVID19CountyDataTable.aspx."
   ]
  },
  {
   "cell_type": "markdown",
   "metadata": {
    "papermill": {
     "duration": 0.011941,
     "end_time": "2020-08-26T18:51:17.507281",
     "exception": false,
     "start_time": "2020-08-26T18:51:17.495340",
     "status": "completed"
    },
    "tags": []
   },
   "source": [
    "**See the code used to scrape the data: https://github.com/walice/COVID-SB/.**"
   ]
  },
  {
   "cell_type": "code",
   "execution_count": 14,
   "metadata": {
    "execution": {
     "iopub.execute_input": "2020-08-26T18:51:17.536359Z",
     "iopub.status.busy": "2020-08-26T18:51:17.535879Z",
     "iopub.status.idle": "2020-08-26T18:51:17.540140Z",
     "shell.execute_reply": "2020-08-26T18:51:17.540525Z"
    },
    "papermill": {
     "duration": 0.021547,
     "end_time": "2020-08-26T18:51:17.540711",
     "exception": false,
     "start_time": "2020-08-26T18:51:17.519164",
     "status": "completed"
    },
    "tags": [
     "remove_cell"
    ]
   },
   "outputs": [
    {
     "data": {
      "application/javascript": [
       "IPython.notebook.save_notebook()\n"
      ],
      "text/plain": [
       "<IPython.core.display.Javascript object>"
      ]
     },
     "metadata": {},
     "output_type": "display_data"
    }
   ],
   "source": [
    "%%javascript\n",
    "IPython.notebook.save_notebook()"
   ]
  },
  {
   "cell_type": "code",
   "execution_count": 15,
   "metadata": {
    "execution": {
     "iopub.execute_input": "2020-08-26T18:51:17.570602Z",
     "iopub.status.busy": "2020-08-26T18:51:17.569301Z",
     "iopub.status.idle": "2020-08-26T18:51:17.751353Z",
     "shell.execute_reply": "2020-08-26T18:51:17.750360Z"
    },
    "papermill": {
     "duration": 0.198655,
     "end_time": "2020-08-26T18:51:17.751577",
     "exception": false,
     "start_time": "2020-08-26T18:51:17.552922",
     "status": "completed"
    },
    "slideshow": {
     "slide_type": "skip"
    },
    "tags": [
     "remove_cell"
    ]
   },
   "outputs": [
    {
     "name": "stdout",
     "output_type": "stream",
     "text": [
      "/bin/bash: jupyter: command not found\r\n"
     ]
    }
   ],
   "source": [
    "# Convert Jupyter Notebook to HTML\n",
    "! jupyter nbconvert \"index.ipynb\" --to html --TagRemovePreprocessor.enabled=True --TagRemovePreprocessor.remove_cell_tags=\"['remove_cell']\" --TagRemovePreprocessor.remove_input_tags=\"['remove_input']\" --no-prompt"
   ]
  },
  {
   "cell_type": "code",
   "execution_count": 16,
   "metadata": {
    "execution": {
     "iopub.execute_input": "2020-08-26T18:51:17.784236Z",
     "iopub.status.busy": "2020-08-26T18:51:17.783595Z",
     "iopub.status.idle": "2020-08-26T18:51:17.785093Z",
     "shell.execute_reply": "2020-08-26T18:51:17.784671Z"
    },
    "papermill": {
     "duration": 0.020447,
     "end_time": "2020-08-26T18:51:17.785207",
     "exception": false,
     "start_time": "2020-08-26T18:51:17.764760",
     "status": "completed"
    },
    "tags": [
     "remove_cell"
    ]
   },
   "outputs": [],
   "source": [
    "# Create daily commit message\n",
    "now = datetime.datetime.now()\n",
    "commit_message = \"Last scraped on \" + str(now)"
   ]
  },
  {
   "cell_type": "code",
   "execution_count": null,
   "metadata": {
    "papermill": {
     "duration": null,
     "end_time": null,
     "exception": false,
     "start_time": "2020-08-26T18:51:17.797830",
     "status": "running"
    },
    "tags": [
     "remove_cell"
    ]
   },
   "outputs": [],
   "source": [
    "# Deploy to GitHub\n",
    "! git add .\n",
    "! echo $commit_message > commit_message.txt\n",
    "! git commit -F commit_message.txt\n",
    "! git push"
   ]
  }
 ],
 "metadata": {
  "celltoolbar": "Tags",
  "kernelspec": {
   "display_name": "Python 3",
   "language": "python",
   "name": "python3"
  },
  "language_info": {
   "codemirror_mode": {
    "name": "ipython",
    "version": 3
   },
   "file_extension": ".py",
   "mimetype": "text/x-python",
   "name": "python",
   "nbconvert_exporter": "python",
   "pygments_lexer": "ipython3",
   "version": "3.8.5"
  },
  "papermill": {
   "duration": null,
   "end_time": null,
   "environment_variables": {},
   "exception": null,
   "input_path": "/home/alice_lepissier/cron-job/index.ipynb",
   "output_path": "/home/alice_lepissier/cron-job/index.ipynb",
   "parameters": {},
   "start_time": "2020-08-26T18:51:05.226120",
   "version": "2.1.3"
  }
 },
 "nbformat": 4,
 "nbformat_minor": 4
}