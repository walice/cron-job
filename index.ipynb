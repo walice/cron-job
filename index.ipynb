{
 "cells": [
  {
   "cell_type": "markdown",
   "metadata": {
    "papermill": {
     "duration": 0.011851,
     "end_time": "2020-08-26T08:36:02.709070",
     "exception": false,
     "start_time": "2020-08-26T08:36:02.697219",
     "status": "completed"
    },
    "tags": []
   },
   "source": [
    "# Daily COVID monitoring data for Santa Barbara county"
   ]
  },
  {
   "cell_type": "code",
   "execution_count": 1,
   "metadata": {
    "execution": {
     "iopub.execute_input": "2020-08-26T08:36:02.738218Z",
     "iopub.status.busy": "2020-08-26T08:36:02.737630Z",
     "iopub.status.idle": "2020-08-26T08:36:02.850909Z",
     "shell.execute_reply": "2020-08-26T08:36:02.849857Z"
    },
    "papermill": {
     "duration": 0.130827,
     "end_time": "2020-08-26T08:36:02.851065",
     "exception": false,
     "start_time": "2020-08-26T08:36:02.720238",
     "status": "completed"
    },
    "tags": [
     "remove_cell"
    ]
   },
   "outputs": [
    {
     "name": "stdout",
     "output_type": "stream",
     "text": [
      "/bin/sh: 1: jt: not found\r\n"
     ]
    }
   ],
   "source": [
    "! jt -t grade3 -tf robotosans -cellw 1100"
   ]
  },
  {
   "cell_type": "markdown",
   "metadata": {
    "papermill": {
     "duration": 0.011075,
     "end_time": "2020-08-26T08:36:02.873816",
     "exception": false,
     "start_time": "2020-08-26T08:36:02.862741",
     "status": "completed"
    },
    "tags": []
   },
   "source": [
    "This table is automatically updated with new daily COVID data for the county of Santa Barbara, CA. Every day, the California Department of Public Health publishes COVID tracking metrics for each county, but does not save the previous day's data. This tool keeps track of the daily metrics that are used to monitor progress towards safe reopening in California."
   ]
  },
  {
   "cell_type": "code",
   "execution_count": 2,
   "metadata": {
    "execution": {
     "iopub.execute_input": "2020-08-26T08:36:02.903575Z",
     "iopub.status.busy": "2020-08-26T08:36:02.903061Z",
     "iopub.status.idle": "2020-08-26T08:36:03.326417Z",
     "shell.execute_reply": "2020-08-26T08:36:03.327253Z"
    },
    "papermill": {
     "duration": 0.442671,
     "end_time": "2020-08-26T08:36:03.327418",
     "exception": false,
     "start_time": "2020-08-26T08:36:02.884747",
     "status": "completed"
    },
    "slideshow": {
     "slide_type": "skip"
    },
    "tags": [
     "remove_cell"
    ]
   },
   "outputs": [],
   "source": [
    "# Preamble\n",
    "import os\n",
    "from IPython.display import Markdown as md\n",
    "import IPython\n",
    "import requests\n",
    "from bs4 import BeautifulSoup\n",
    "import re\n",
    "import pandas as pd\n",
    "import datetime\n",
    "import gspread\n",
    "from oauth2client.service_account import ServiceAccountCredentials"
   ]
  },
  {
   "cell_type": "code",
   "execution_count": 3,
   "metadata": {
    "execution": {
     "iopub.execute_input": "2020-08-26T08:36:03.355639Z",
     "iopub.status.busy": "2020-08-26T08:36:03.355019Z",
     "iopub.status.idle": "2020-08-26T08:36:03.356483Z",
     "shell.execute_reply": "2020-08-26T08:36:03.356087Z"
    },
    "papermill": {
     "duration": 0.017747,
     "end_time": "2020-08-26T08:36:03.356596",
     "exception": false,
     "start_time": "2020-08-26T08:36:03.338849",
     "status": "completed"
    },
    "tags": []
   },
   "outputs": [],
   "source": [
    "# Set working directory\n",
    "os.chdir(\"/home/alice_lepissier/cron-job\")"
   ]
  },
  {
   "cell_type": "code",
   "execution_count": 4,
   "metadata": {
    "execution": {
     "iopub.execute_input": "2020-08-26T08:36:03.385236Z",
     "iopub.status.busy": "2020-08-26T08:36:03.384704Z",
     "iopub.status.idle": "2020-08-26T08:36:03.703642Z",
     "shell.execute_reply": "2020-08-26T08:36:03.704518Z"
    },
    "papermill": {
     "duration": 0.336783,
     "end_time": "2020-08-26T08:36:03.704692",
     "exception": false,
     "start_time": "2020-08-26T08:36:03.367909",
     "status": "completed"
    },
    "slideshow": {
     "slide_type": "skip"
    },
    "tags": [
     "remove_cell"
    ]
   },
   "outputs": [],
   "source": [
    "# Request content from URL\n",
    "html_string = requests.get('https://www.cdph.ca.gov/Programs/CID/DCDC/Pages/COVID-19/COVID19CountyDataTable.aspx').content"
   ]
  },
  {
   "cell_type": "code",
   "execution_count": 5,
   "metadata": {
    "execution": {
     "iopub.execute_input": "2020-08-26T08:36:03.735670Z",
     "iopub.status.busy": "2020-08-26T08:36:03.735124Z",
     "iopub.status.idle": "2020-08-26T08:36:03.820491Z",
     "shell.execute_reply": "2020-08-26T08:36:03.821451Z"
    },
    "papermill": {
     "duration": 0.105206,
     "end_time": "2020-08-26T08:36:03.821639",
     "exception": false,
     "start_time": "2020-08-26T08:36:03.716433",
     "status": "completed"
    },
    "slideshow": {
     "slide_type": "skip"
    },
    "tags": [
     "remove_cell"
    ]
   },
   "outputs": [],
   "source": [
    "# Parse HTML\n",
    "soup = BeautifulSoup(html_string, 'html.parser')"
   ]
  },
  {
   "cell_type": "code",
   "execution_count": 6,
   "metadata": {
    "execution": {
     "iopub.execute_input": "2020-08-26T08:36:03.851645Z",
     "iopub.status.busy": "2020-08-26T08:36:03.851082Z",
     "iopub.status.idle": "2020-08-26T08:36:03.860589Z",
     "shell.execute_reply": "2020-08-26T08:36:03.861398Z"
    },
    "papermill": {
     "duration": 0.028103,
     "end_time": "2020-08-26T08:36:03.861574",
     "exception": false,
     "start_time": "2020-08-26T08:36:03.833471",
     "status": "completed"
    },
    "slideshow": {
     "slide_type": "skip"
    },
    "tags": [
     "remove_cell"
    ]
   },
   "outputs": [],
   "source": [
    "# Extract data for Santa Barbara\n",
    "table = soup.find_all(\"tr\", class_=\"ms-rteTableEvenRow-3\")\n",
    "SB = table[21]"
   ]
  },
  {
   "cell_type": "code",
   "execution_count": 7,
   "metadata": {
    "execution": {
     "iopub.execute_input": "2020-08-26T08:36:03.891598Z",
     "iopub.status.busy": "2020-08-26T08:36:03.891033Z",
     "iopub.status.idle": "2020-08-26T08:36:03.903456Z",
     "shell.execute_reply": "2020-08-26T08:36:03.904271Z"
    },
    "papermill": {
     "duration": 0.031426,
     "end_time": "2020-08-26T08:36:03.904428",
     "exception": false,
     "start_time": "2020-08-26T08:36:03.873002",
     "status": "completed"
    },
    "slideshow": {
     "slide_type": "skip"
    },
    "tags": [
     "remove_cell"
    ]
   },
   "outputs": [],
   "source": [
    "# Avg # tests per day (per 100,000 population)\n",
    "daily_tests = SB.find_all(\"td\", class_=\"ms-rteTableOddCol-3\")[0].text\n",
    "\n",
    "# Case rate per 100,000\n",
    "case_rate = SB.find_all(\"td\", class_=\"ms-rteTableEvenCol-3\")[1].text\n",
    "\n",
    "# Testing positivity (%)\n",
    "test_positivity = SB.find_all(\"td\", class_=\"ms-rteTableOddCol-3\")[1].text\n",
    "\n",
    "# % Change in 3-day avg COVID+ hospitalized patients\n",
    "change_hospit = SB.find_all(\"td\", class_=\"ms-rteTableEvenCol-3\")[2].text\n",
    "\n",
    "# % ICU beds currently available\n",
    "ICU_beds = SB.find_all(\"td\", class_=\"ms-rteTableOddCol-3\")[2].text\n",
    "\n",
    "# % Ventilators currently available\n",
    "ventilators = SB.find_all(\"td\", class_=\"ms-rteTableEvenCol-3\")[3].text\n",
    "\n",
    "# Extract date of last update\n",
    "update_date = soup.find_all(\"span\", class_=\"ms-rteStyle-Accent1\")[1]\\\n",
    "    .find(\"em\").text"
   ]
  },
  {
   "cell_type": "code",
   "execution_count": 8,
   "metadata": {
    "execution": {
     "iopub.execute_input": "2020-08-26T08:36:03.932726Z",
     "iopub.status.busy": "2020-08-26T08:36:03.932054Z",
     "iopub.status.idle": "2020-08-26T08:36:03.933578Z",
     "shell.execute_reply": "2020-08-26T08:36:03.933168Z"
    },
    "papermill": {
     "duration": 0.017749,
     "end_time": "2020-08-26T08:36:03.933694",
     "exception": false,
     "start_time": "2020-08-26T08:36:03.915945",
     "status": "completed"
    },
    "tags": [
     "remove_cell"
    ]
   },
   "outputs": [],
   "source": [
    "# Create updated date string\n",
    "update_tag = \"Table last updated by CDPH on \" + update_date.split(\" on \", 1)[1] + \".\""
   ]
  },
  {
   "cell_type": "code",
   "execution_count": 9,
   "metadata": {
    "execution": {
     "iopub.execute_input": "2020-08-26T08:36:03.963172Z",
     "iopub.status.busy": "2020-08-26T08:36:03.962657Z",
     "iopub.status.idle": "2020-08-26T08:36:03.965980Z",
     "shell.execute_reply": "2020-08-26T08:36:03.967390Z"
    },
    "papermill": {
     "duration": 0.022501,
     "end_time": "2020-08-26T08:36:03.967574",
     "exception": false,
     "start_time": "2020-08-26T08:36:03.945073",
     "status": "completed"
    },
    "slideshow": {
     "slide_type": "skip"
    },
    "tags": [
     "remove_cell"
    ]
   },
   "outputs": [],
   "source": [
    "# Set up Google Sheet API\n",
    "scope = [\"https://spreadsheets.google.com/feeds\",'https://www.googleapis.com/auth/spreadsheets',\"https://www.googleapis.com/auth/drive.file\",\"https://www.googleapis.com/auth/drive\"]\n",
    "creds = ServiceAccountCredentials.from_json_keyfile_name(\"credentials.json\", scope)\n",
    "client = gspread.authorize(creds)"
   ]
  },
  {
   "cell_type": "code",
   "execution_count": 10,
   "metadata": {
    "execution": {
     "iopub.execute_input": "2020-08-26T08:36:03.995632Z",
     "iopub.status.busy": "2020-08-26T08:36:03.995109Z",
     "iopub.status.idle": "2020-08-26T08:36:05.340509Z",
     "shell.execute_reply": "2020-08-26T08:36:05.341248Z"
    },
    "papermill": {
     "duration": 1.362474,
     "end_time": "2020-08-26T08:36:05.341406",
     "exception": false,
     "start_time": "2020-08-26T08:36:03.978932",
     "status": "completed"
    },
    "slideshow": {
     "slide_type": "skip"
    },
    "tags": [
     "remove_cell"
    ]
   },
   "outputs": [
    {
     "data": {
      "text/plain": [
       "{'spreadsheetId': '1pcqdMzKtea2Oq3BDmdAOQ21gZjCssieKI0692VfNLXU',\n",
       " 'updatedRange': 'Sheet1!A2:G2',\n",
       " 'updatedRows': 1,\n",
       " 'updatedColumns': 7,\n",
       " 'updatedCells': 7}"
      ]
     },
     "execution_count": 10,
     "metadata": {},
     "output_type": "execute_result"
    }
   ],
   "source": [
    "# Append daily data as a new row in Google Sheet\n",
    "sheet = client.open(\"Test cron job\").sheet1\n",
    "insertRow = [datetime.date.today().strftime(\"%Y-%m-%d\"),\n",
    "             daily_tests,\n",
    "             case_rate,\n",
    "             test_positivity,\n",
    "             change_hospit,\n",
    "             ICU_beds,\n",
    "             ventilators]\n",
    "sheet.insert_row(insertRow, 2)"
   ]
  },
  {
   "cell_type": "code",
   "execution_count": 11,
   "metadata": {
    "execution": {
     "iopub.execute_input": "2020-08-26T08:36:05.370082Z",
     "iopub.status.busy": "2020-08-26T08:36:05.369590Z",
     "iopub.status.idle": "2020-08-26T08:36:06.325240Z",
     "shell.execute_reply": "2020-08-26T08:36:06.326078Z"
    },
    "papermill": {
     "duration": 0.973065,
     "end_time": "2020-08-26T08:36:06.326294",
     "exception": false,
     "start_time": "2020-08-26T08:36:05.353229",
     "status": "completed"
    },
    "scrolled": true,
    "slideshow": {
     "slide_type": "slide"
    },
    "tags": [
     "remove_cell"
    ]
   },
   "outputs": [],
   "source": [
    "# Extract data from Google Sheet as pandas dataframe\n",
    "sheet = client.open(\"Test cron job\").sheet1\n",
    "data = sheet.get_all_records()\n",
    "result = pd.DataFrame(data).set_index(\"Date\")"
   ]
  },
  {
   "cell_type": "code",
   "execution_count": 12,
   "metadata": {
    "execution": {
     "iopub.execute_input": "2020-08-26T08:36:06.356072Z",
     "iopub.status.busy": "2020-08-26T08:36:06.355548Z",
     "iopub.status.idle": "2020-08-26T08:36:06.677165Z",
     "shell.execute_reply": "2020-08-26T08:36:06.677895Z"
    },
    "papermill": {
     "duration": 0.339912,
     "end_time": "2020-08-26T08:36:06.678058",
     "exception": false,
     "start_time": "2020-08-26T08:36:06.338146",
     "status": "completed"
    },
    "scrolled": true,
    "tags": [
     "remove_input"
    ]
   },
   "outputs": [
    {
     "data": {
      "text/html": [
       "<style  type=\"text/css\" >\n",
       "    #T_2f2b1c20_e777_11ea_a3c5_42010a8a0004 th {\n",
       "          text-align: center;\n",
       "    }#T_2f2b1c20_e777_11ea_a3c5_42010a8a0004row0_col0,#T_2f2b1c20_e777_11ea_a3c5_42010a8a0004row1_col0,#T_2f2b1c20_e777_11ea_a3c5_42010a8a0004row2_col0,#T_2f2b1c20_e777_11ea_a3c5_42010a8a0004row3_col0,#T_2f2b1c20_e777_11ea_a3c5_42010a8a0004row4_col0,#T_2f2b1c20_e777_11ea_a3c5_42010a8a0004row5_col0,#T_2f2b1c20_e777_11ea_a3c5_42010a8a0004row6_col0,#T_2f2b1c20_e777_11ea_a3c5_42010a8a0004row7_col0{\n",
       "            width:  20em;\n",
       "            text-align:  center;\n",
       "            font-weight:  bold;\n",
       "        }#T_2f2b1c20_e777_11ea_a3c5_42010a8a0004row0_col1,#T_2f2b1c20_e777_11ea_a3c5_42010a8a0004row0_col2,#T_2f2b1c20_e777_11ea_a3c5_42010a8a0004row1_col1,#T_2f2b1c20_e777_11ea_a3c5_42010a8a0004row1_col2,#T_2f2b1c20_e777_11ea_a3c5_42010a8a0004row2_col1,#T_2f2b1c20_e777_11ea_a3c5_42010a8a0004row2_col2,#T_2f2b1c20_e777_11ea_a3c5_42010a8a0004row3_col1,#T_2f2b1c20_e777_11ea_a3c5_42010a8a0004row3_col2,#T_2f2b1c20_e777_11ea_a3c5_42010a8a0004row4_col1,#T_2f2b1c20_e777_11ea_a3c5_42010a8a0004row4_col2,#T_2f2b1c20_e777_11ea_a3c5_42010a8a0004row5_col1,#T_2f2b1c20_e777_11ea_a3c5_42010a8a0004row5_col2,#T_2f2b1c20_e777_11ea_a3c5_42010a8a0004row6_col1,#T_2f2b1c20_e777_11ea_a3c5_42010a8a0004row6_col2,#T_2f2b1c20_e777_11ea_a3c5_42010a8a0004row7_col1,#T_2f2b1c20_e777_11ea_a3c5_42010a8a0004row7_col2{\n",
       "            width:  20em;\n",
       "            text-align:  center;\n",
       "        }</style><table id=\"T_2f2b1c20_e777_11ea_a3c5_42010a8a0004\" ><thead>    <tr>        <th class=\"col_heading level0 col0\" >Date</th>        <th class=\"col_heading level0 col1\" >Time</th>        <th class=\"col_heading level0 col2\" ></th>    </tr></thead><tbody>\n",
       "                <tr>\n",
       "                                <td id=\"T_2f2b1c20_e777_11ea_a3c5_42010a8a0004row0_col0\" class=\"data row0 col0\" >2020-08-26</td>\n",
       "                        <td id=\"T_2f2b1c20_e777_11ea_a3c5_42010a8a0004row0_col1\" class=\"data row0 col1\" >222.1</td>\n",
       "                        <td id=\"T_2f2b1c20_e777_11ea_a3c5_42010a8a0004row0_col2\" class=\"data row0 col2\" > ✔</td>\n",
       "            </tr>\n",
       "            <tr>\n",
       "                                <td id=\"T_2f2b1c20_e777_11ea_a3c5_42010a8a0004row1_col0\" class=\"data row1 col0\" >2020-08-26</td>\n",
       "                        <td id=\"T_2f2b1c20_e777_11ea_a3c5_42010a8a0004row1_col1\" class=\"data row1 col1\" >222.1</td>\n",
       "                        <td id=\"T_2f2b1c20_e777_11ea_a3c5_42010a8a0004row1_col2\" class=\"data row1 col2\" > ✔</td>\n",
       "            </tr>\n",
       "            <tr>\n",
       "                                <td id=\"T_2f2b1c20_e777_11ea_a3c5_42010a8a0004row2_col0\" class=\"data row2 col0\" >2020-08-26</td>\n",
       "                        <td id=\"T_2f2b1c20_e777_11ea_a3c5_42010a8a0004row2_col1\" class=\"data row2 col1\" >222.1</td>\n",
       "                        <td id=\"T_2f2b1c20_e777_11ea_a3c5_42010a8a0004row2_col2\" class=\"data row2 col2\" > ✔</td>\n",
       "            </tr>\n",
       "            <tr>\n",
       "                                <td id=\"T_2f2b1c20_e777_11ea_a3c5_42010a8a0004row3_col0\" class=\"data row3 col0\" >2020-08-26</td>\n",
       "                        <td id=\"T_2f2b1c20_e777_11ea_a3c5_42010a8a0004row3_col1\" class=\"data row3 col1\" >222.1</td>\n",
       "                        <td id=\"T_2f2b1c20_e777_11ea_a3c5_42010a8a0004row3_col2\" class=\"data row3 col2\" > ✔</td>\n",
       "            </tr>\n",
       "            <tr>\n",
       "                                <td id=\"T_2f2b1c20_e777_11ea_a3c5_42010a8a0004row4_col0\" class=\"data row4 col0\" >2020-08-26</td>\n",
       "                        <td id=\"T_2f2b1c20_e777_11ea_a3c5_42010a8a0004row4_col1\" class=\"data row4 col1\" >222.1</td>\n",
       "                        <td id=\"T_2f2b1c20_e777_11ea_a3c5_42010a8a0004row4_col2\" class=\"data row4 col2\" > ✔</td>\n",
       "            </tr>\n",
       "            <tr>\n",
       "                                <td id=\"T_2f2b1c20_e777_11ea_a3c5_42010a8a0004row5_col0\" class=\"data row5 col0\" >2020-08-26</td>\n",
       "                        <td id=\"T_2f2b1c20_e777_11ea_a3c5_42010a8a0004row5_col1\" class=\"data row5 col1\" >222.1</td>\n",
       "                        <td id=\"T_2f2b1c20_e777_11ea_a3c5_42010a8a0004row5_col2\" class=\"data row5 col2\" > ✔</td>\n",
       "            </tr>\n",
       "            <tr>\n",
       "                                <td id=\"T_2f2b1c20_e777_11ea_a3c5_42010a8a0004row6_col0\" class=\"data row6 col0\" >2020-08-26</td>\n",
       "                        <td id=\"T_2f2b1c20_e777_11ea_a3c5_42010a8a0004row6_col1\" class=\"data row6 col1\" >222.1</td>\n",
       "                        <td id=\"T_2f2b1c20_e777_11ea_a3c5_42010a8a0004row6_col2\" class=\"data row6 col2\" > ✔</td>\n",
       "            </tr>\n",
       "            <tr>\n",
       "                                <td id=\"T_2f2b1c20_e777_11ea_a3c5_42010a8a0004row7_col0\" class=\"data row7 col0\" >2020-08-26</td>\n",
       "                        <td id=\"T_2f2b1c20_e777_11ea_a3c5_42010a8a0004row7_col1\" class=\"data row7 col1\" >222.1</td>\n",
       "                        <td id=\"T_2f2b1c20_e777_11ea_a3c5_42010a8a0004row7_col2\" class=\"data row7 col2\" > ✔</td>\n",
       "            </tr>\n",
       "    </tbody></table>"
      ],
      "text/plain": [
       "<pandas.io.formats.style.Styler at 0x7f01473823c8>"
      ]
     },
     "execution_count": 12,
     "metadata": {},
     "output_type": "execute_result"
    }
   ],
   "source": [
    "# Style the pandas dataframe\n",
    "d = dict(selector=\"th\",\n",
    "         props=[('text-align', 'center')])\n",
    "\n",
    "result.reset_index().style\\\n",
    "    .set_properties(**{'width':'20em', 'text-align':'center'})\\\n",
    "    .set_properties(subset=['Date'], **{'font-weight': 'bold'})\\\n",
    "    .set_table_styles([d])\\\n",
    "    .set_precision(1)\\\n",
    "    .hide_index()"
   ]
  },
  {
   "cell_type": "markdown",
   "metadata": {
    "papermill": {
     "duration": 0.011952,
     "end_time": "2020-08-26T08:36:06.703674",
     "exception": false,
     "start_time": "2020-08-26T08:36:06.691722",
     "status": "completed"
    },
    "tags": []
   },
   "source": [
    "<sup>Notes: (1) 7 day average with a 7-day lag. (2) 14 day average. (3) 7 day average with a 7-day lag. (4) Change in 3 day average.</sup>"
   ]
  },
  {
   "cell_type": "code",
   "execution_count": 13,
   "metadata": {
    "execution": {
     "iopub.execute_input": "2020-08-26T08:36:06.732137Z",
     "iopub.status.busy": "2020-08-26T08:36:06.731618Z",
     "iopub.status.idle": "2020-08-26T08:36:06.734787Z",
     "shell.execute_reply": "2020-08-26T08:36:06.735156Z"
    },
    "papermill": {
     "duration": 0.020057,
     "end_time": "2020-08-26T08:36:06.735308",
     "exception": false,
     "start_time": "2020-08-26T08:36:06.715251",
     "status": "completed"
    },
    "tags": [
     "remove_input"
    ]
   },
   "outputs": [
    {
     "data": {
      "text/markdown": [
       "Table last updated by CDPH on August 25, 2020."
      ],
      "text/plain": [
       "<IPython.core.display.Markdown object>"
      ]
     },
     "execution_count": 13,
     "metadata": {},
     "output_type": "execute_result"
    }
   ],
   "source": [
    "md(update_tag)"
   ]
  },
  {
   "cell_type": "markdown",
   "metadata": {
    "papermill": {
     "duration": 0.012031,
     "end_time": "2020-08-26T08:36:06.759132",
     "exception": false,
     "start_time": "2020-08-26T08:36:06.747101",
     "status": "completed"
    },
    "tags": []
   },
   "source": [
    "## Tracking county closures in Santa Barbara"
   ]
  },
  {
   "cell_type": "markdown",
   "metadata": {
    "papermill": {
     "duration": 0.01174,
     "end_time": "2020-08-26T08:36:06.782718",
     "exception": false,
     "start_time": "2020-08-26T08:36:06.770978",
     "status": "completed"
    },
    "tags": []
   },
   "source": [
    "The state of California is using a data-driven approach informed by scientific evidence to tailor its response to COVID-19. Three dimensions of concern are monitored to assess whether a county should be placed on the County Monitoring List:\n",
    " 1. Elevated Disease Transmission\n",
    " 2. Increasing Hospitalization\n",
    " 3. Limited Hospital Capacity\n",
    "\n",
    "Once a county appears on the County Monitoring List for three consecutive days, indoor operations in the sectors listed in Section 3 of the [July 13th State Health Officer Order](https://www.cdph.ca.gov/Programs/CID/DCDC/CDPH%20Document%20Library/COVID-19/SHO%20Order%20Dimming%20Entire%20State%207-13-2020.pdf) must close.\n",
    "\n",
    "This table tracks where Santa Barbara stands in terms of the criteria for inclusion on the County Monitoring List. As of 20 August 2020, the criteria for inclusion on the monitoring list are:\n",
    "\n",
    "* Case rate >100 OR (Case rate >25 AND Positivity >8%)\n",
    "* \\>10% increase in hospitalizations\n",
    "* <20% ICU beds available OR <25% ventilators available\n",
    "\n",
    "If Santa Barbara meets the criteria for removal from the County Monitoring List for a certain metric, then a checkmark ✔ is displayed in the table.\n",
    "\n",
    "Read more at <https://covid19.ca.gov/roadmap-counties/>.\n",
    "\n",
    "Data source for county metrics: https://www.cdph.ca.gov/Programs/CID/DCDC/Pages/COVID-19/COVID19CountyDataTable.aspx."
   ]
  },
  {
   "cell_type": "markdown",
   "metadata": {
    "papermill": {
     "duration": 0.011675,
     "end_time": "2020-08-26T08:36:06.806297",
     "exception": false,
     "start_time": "2020-08-26T08:36:06.794622",
     "status": "completed"
    },
    "tags": []
   },
   "source": [
    "**See the code used to scrape the data: https://github.com/walice/COVID-SB/.**"
   ]
  },
  {
   "cell_type": "code",
   "execution_count": 14,
   "metadata": {
    "execution": {
     "iopub.execute_input": "2020-08-26T08:36:06.835840Z",
     "iopub.status.busy": "2020-08-26T08:36:06.835363Z",
     "iopub.status.idle": "2020-08-26T08:36:06.839324Z",
     "shell.execute_reply": "2020-08-26T08:36:06.839678Z"
    },
    "papermill": {
     "duration": 0.021496,
     "end_time": "2020-08-26T08:36:06.839824",
     "exception": false,
     "start_time": "2020-08-26T08:36:06.818328",
     "status": "completed"
    },
    "tags": [
     "remove_cell"
    ]
   },
   "outputs": [
    {
     "data": {
      "application/javascript": [
       "IPython.notebook.save_notebook()\n"
      ],
      "text/plain": [
       "<IPython.core.display.Javascript object>"
      ]
     },
     "metadata": {},
     "output_type": "display_data"
    }
   ],
   "source": [
    "%%javascript\n",
    "IPython.notebook.save_notebook()"
   ]
  },
  {
   "cell_type": "code",
   "execution_count": 15,
   "metadata": {
    "execution": {
     "iopub.execute_input": "2020-08-26T08:36:06.871341Z",
     "iopub.status.busy": "2020-08-26T08:36:06.870832Z",
     "iopub.status.idle": "2020-08-26T08:36:06.985043Z",
     "shell.execute_reply": "2020-08-26T08:36:06.984069Z"
    },
    "papermill": {
     "duration": 0.133204,
     "end_time": "2020-08-26T08:36:06.985182",
     "exception": false,
     "start_time": "2020-08-26T08:36:06.851978",
     "status": "completed"
    },
    "slideshow": {
     "slide_type": "skip"
    },
    "tags": [
     "remove_cell"
    ]
   },
   "outputs": [
    {
     "name": "stdout",
     "output_type": "stream",
     "text": [
      "/bin/sh: 1: jupyter: not found\r\n"
     ]
    }
   ],
   "source": [
    "# Convert Jupyter Notebook to HTML\n",
    "! jupyter nbconvert \"index.ipynb\" --to html --TagRemovePreprocessor.enabled=True --TagRemovePreprocessor.remove_cell_tags=\"['remove_cell']\" --TagRemovePreprocessor.remove_input_tags=\"['remove_input']\" --no-prompt"
   ]
  },
  {
   "cell_type": "code",
   "execution_count": 16,
   "metadata": {
    "execution": {
     "iopub.execute_input": "2020-08-26T08:36:07.016186Z",
     "iopub.status.busy": "2020-08-26T08:36:07.015674Z",
     "iopub.status.idle": "2020-08-26T08:36:07.018061Z",
     "shell.execute_reply": "2020-08-26T08:36:07.018480Z"
    },
    "papermill": {
     "duration": 0.020201,
     "end_time": "2020-08-26T08:36:07.018634",
     "exception": false,
     "start_time": "2020-08-26T08:36:06.998433",
     "status": "completed"
    },
    "tags": [
     "remove_cell"
    ]
   },
   "outputs": [],
   "source": [
    "# Create daily commit message\n",
    "now = datetime.datetime.now()\n",
    "commit_message = \"Last scraped on \" + str(now)"
   ]
  },
  {
   "cell_type": "code",
   "execution_count": null,
   "metadata": {
    "execution": {
     "iopub.execute_input": "2020-08-26T08:35:09.163493Z",
     "iopub.status.busy": "2020-08-26T08:35:09.162999Z",
     "iopub.status.idle": "2020-08-26T08:35:13.013628Z",
     "shell.execute_reply": "2020-08-26T08:35:13.012465Z"
    },
    "papermill": {
     "duration": null,
     "end_time": null,
     "exception": false,
     "start_time": "2020-08-26T08:36:07.031026",
     "status": "running"
    },
    "tags": [
     "remove_cell"
    ]
   },
   "outputs": [],
   "source": [
    "# Deploy to GitHub\n",
    "! git add .\n",
    "! echo $commit_message > commit_message.txt\n",
    "! git commit -F commit_message.txt\n",
    "! git push"
   ]
  }
 ],
 "metadata": {
  "celltoolbar": "Tags",
  "kernelspec": {
   "display_name": "Python 3",
   "language": "python",
   "name": "python3"
  },
  "language_info": {
   "codemirror_mode": {
    "name": "ipython",
    "version": 3
   },
   "file_extension": ".py",
   "mimetype": "text/x-python",
   "name": "python",
   "nbconvert_exporter": "python",
   "pygments_lexer": "ipython3",
   "version": "3.7.3"
  },
  "papermill": {
   "duration": null,
   "end_time": null,
   "environment_variables": {},
   "exception": null,
   "input_path": "/home/alice_lepissier/cron-job/index.ipynb",
   "output_path": "/home/alice_lepissier/cron-job/index.ipynb",
   "parameters": {},
   "start_time": "2020-08-26T08:36:01.841612",
   "version": "2.1.3"
  }
 },
 "nbformat": 4,
 "nbformat_minor": 4
}