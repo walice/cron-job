{
 "cells": [
  {
   "cell_type": "markdown",
   "metadata": {
    "papermill": {
     "duration": 0.011839,
     "end_time": "2020-08-26T08:33:03.296725",
     "exception": false,
     "start_time": "2020-08-26T08:33:03.284886",
     "status": "completed"
    },
    "tags": []
   },
   "source": [
    "# Daily COVID monitoring data for Santa Barbara county"
   ]
  },
  {
   "cell_type": "code",
   "execution_count": 1,
   "metadata": {
    "execution": {
     "iopub.execute_input": "2020-08-26T08:33:03.326443Z",
     "iopub.status.busy": "2020-08-26T08:33:03.325894Z",
     "iopub.status.idle": "2020-08-26T08:33:03.438060Z",
     "shell.execute_reply": "2020-08-26T08:33:03.436965Z"
    },
    "papermill": {
     "duration": 0.130752,
     "end_time": "2020-08-26T08:33:03.438616",
     "exception": false,
     "start_time": "2020-08-26T08:33:03.307864",
     "status": "completed"
    },
    "tags": [
     "remove_cell"
    ]
   },
   "outputs": [
    {
     "name": "stdout",
     "output_type": "stream",
     "text": [
      "/bin/sh: 1: jt: not found\r\n"
     ]
    }
   ],
   "source": [
    "! jt -t grade3 -tf robotosans -cellw 1100"
   ]
  },
  {
   "cell_type": "markdown",
   "metadata": {
    "papermill": {
     "duration": 0.011266,
     "end_time": "2020-08-26T08:33:03.461229",
     "exception": false,
     "start_time": "2020-08-26T08:33:03.449963",
     "status": "completed"
    },
    "tags": []
   },
   "source": [
    "This table is automatically updated with new daily COVID data for the county of Santa Barbara, CA. Every day, the California Department of Public Health publishes COVID tracking metrics for each county, but does not save the previous day's data. This tool keeps track of the daily metrics that are used to monitor progress towards safe reopening in California."
   ]
  },
  {
   "cell_type": "code",
   "execution_count": 2,
   "metadata": {
    "execution": {
     "iopub.execute_input": "2020-08-26T08:33:03.491759Z",
     "iopub.status.busy": "2020-08-26T08:33:03.491163Z",
     "iopub.status.idle": "2020-08-26T08:33:06.284535Z",
     "shell.execute_reply": "2020-08-26T08:33:06.285345Z"
    },
    "papermill": {
     "duration": 2.813088,
     "end_time": "2020-08-26T08:33:06.285511",
     "exception": false,
     "start_time": "2020-08-26T08:33:03.472423",
     "status": "completed"
    },
    "slideshow": {
     "slide_type": "skip"
    },
    "tags": [
     "remove_cell"
    ]
   },
   "outputs": [],
   "source": [
    "# Preamble\n",
    "import os\n",
    "from IPython.display import Markdown as md\n",
    "import IPython\n",
    "import requests\n",
    "from bs4 import BeautifulSoup\n",
    "import re\n",
    "import pandas as pd\n",
    "import datetime\n",
    "import gspread\n",
    "from oauth2client.service_account import ServiceAccountCredentials"
   ]
  },
  {
   "cell_type": "code",
   "execution_count": 3,
   "metadata": {
    "execution": {
     "iopub.execute_input": "2020-08-26T08:33:06.313427Z",
     "iopub.status.busy": "2020-08-26T08:33:06.312814Z",
     "iopub.status.idle": "2020-08-26T08:33:06.314316Z",
     "shell.execute_reply": "2020-08-26T08:33:06.313866Z"
    },
    "papermill": {
     "duration": 0.017573,
     "end_time": "2020-08-26T08:33:06.314435",
     "exception": false,
     "start_time": "2020-08-26T08:33:06.296862",
     "status": "completed"
    },
    "tags": []
   },
   "outputs": [],
   "source": [
    "# Set working directory\n",
    "os.chdir(\"/home/alice_lepissier/cron-job\")"
   ]
  },
  {
   "cell_type": "code",
   "execution_count": 4,
   "metadata": {
    "execution": {
     "iopub.execute_input": "2020-08-26T08:33:06.342492Z",
     "iopub.status.busy": "2020-08-26T08:33:06.341870Z",
     "iopub.status.idle": "2020-08-26T08:33:08.694919Z",
     "shell.execute_reply": "2020-08-26T08:33:08.695728Z"
    },
    "papermill": {
     "duration": 2.37065,
     "end_time": "2020-08-26T08:33:08.695889",
     "exception": false,
     "start_time": "2020-08-26T08:33:06.325239",
     "status": "completed"
    },
    "slideshow": {
     "slide_type": "skip"
    },
    "tags": [
     "remove_cell"
    ]
   },
   "outputs": [],
   "source": [
    "# Request content from URL\n",
    "html_string = requests.get('https://www.cdph.ca.gov/Programs/CID/DCDC/Pages/COVID-19/COVID19CountyDataTable.aspx').content"
   ]
  },
  {
   "cell_type": "code",
   "execution_count": 5,
   "metadata": {
    "execution": {
     "iopub.execute_input": "2020-08-26T08:33:08.723429Z",
     "iopub.status.busy": "2020-08-26T08:33:08.722946Z",
     "iopub.status.idle": "2020-08-26T08:33:08.809020Z",
     "shell.execute_reply": "2020-08-26T08:33:08.809855Z"
    },
    "papermill": {
     "duration": 0.102732,
     "end_time": "2020-08-26T08:33:08.810025",
     "exception": false,
     "start_time": "2020-08-26T08:33:08.707293",
     "status": "completed"
    },
    "slideshow": {
     "slide_type": "skip"
    },
    "tags": [
     "remove_cell"
    ]
   },
   "outputs": [],
   "source": [
    "# Parse HTML\n",
    "soup = BeautifulSoup(html_string, 'html.parser')"
   ]
  },
  {
   "cell_type": "code",
   "execution_count": 6,
   "metadata": {
    "execution": {
     "iopub.execute_input": "2020-08-26T08:33:08.840668Z",
     "iopub.status.busy": "2020-08-26T08:33:08.840180Z",
     "iopub.status.idle": "2020-08-26T08:33:08.847559Z",
     "shell.execute_reply": "2020-08-26T08:33:08.848276Z"
    },
    "papermill": {
     "duration": 0.026824,
     "end_time": "2020-08-26T08:33:08.848425",
     "exception": false,
     "start_time": "2020-08-26T08:33:08.821601",
     "status": "completed"
    },
    "slideshow": {
     "slide_type": "skip"
    },
    "tags": [
     "remove_cell"
    ]
   },
   "outputs": [],
   "source": [
    "# Extract data for Santa Barbara\n",
    "table = soup.find_all(\"tr\", class_=\"ms-rteTableEvenRow-3\")\n",
    "SB = table[21]"
   ]
  },
  {
   "cell_type": "code",
   "execution_count": 7,
   "metadata": {
    "execution": {
     "iopub.execute_input": "2020-08-26T08:33:08.879499Z",
     "iopub.status.busy": "2020-08-26T08:33:08.878990Z",
     "iopub.status.idle": "2020-08-26T08:33:08.889037Z",
     "shell.execute_reply": "2020-08-26T08:33:08.889731Z"
    },
    "papermill": {
     "duration": 0.030217,
     "end_time": "2020-08-26T08:33:08.889893",
     "exception": false,
     "start_time": "2020-08-26T08:33:08.859676",
     "status": "completed"
    },
    "slideshow": {
     "slide_type": "skip"
    },
    "tags": [
     "remove_cell"
    ]
   },
   "outputs": [],
   "source": [
    "# Avg # tests per day (per 100,000 population)\n",
    "daily_tests = SB.find_all(\"td\", class_=\"ms-rteTableOddCol-3\")[0].text\n",
    "\n",
    "# Case rate per 100,000\n",
    "case_rate = SB.find_all(\"td\", class_=\"ms-rteTableEvenCol-3\")[1].text\n",
    "\n",
    "# Testing positivity (%)\n",
    "test_positivity = SB.find_all(\"td\", class_=\"ms-rteTableOddCol-3\")[1].text\n",
    "\n",
    "# % Change in 3-day avg COVID+ hospitalized patients\n",
    "change_hospit = SB.find_all(\"td\", class_=\"ms-rteTableEvenCol-3\")[2].text\n",
    "\n",
    "# % ICU beds currently available\n",
    "ICU_beds = SB.find_all(\"td\", class_=\"ms-rteTableOddCol-3\")[2].text\n",
    "\n",
    "# % Ventilators currently available\n",
    "ventilators = SB.find_all(\"td\", class_=\"ms-rteTableEvenCol-3\")[3].text\n",
    "\n",
    "# Extract date of last update\n",
    "update_date = soup.find_all(\"span\", class_=\"ms-rteStyle-Accent1\")[1]\\\n",
    "    .find(\"em\").text"
   ]
  },
  {
   "cell_type": "code",
   "execution_count": 8,
   "metadata": {
    "execution": {
     "iopub.execute_input": "2020-08-26T08:33:08.917207Z",
     "iopub.status.busy": "2020-08-26T08:33:08.916628Z",
     "iopub.status.idle": "2020-08-26T08:33:08.918061Z",
     "shell.execute_reply": "2020-08-26T08:33:08.917657Z"
    },
    "papermill": {
     "duration": 0.017153,
     "end_time": "2020-08-26T08:33:08.918204",
     "exception": false,
     "start_time": "2020-08-26T08:33:08.901051",
     "status": "completed"
    },
    "tags": [
     "remove_cell"
    ]
   },
   "outputs": [],
   "source": [
    "# Create updated date string\n",
    "update_tag = \"Table last updated by CDPH on \" + update_date.split(\" on \", 1)[1] + \".\""
   ]
  },
  {
   "cell_type": "code",
   "execution_count": 9,
   "metadata": {
    "execution": {
     "iopub.execute_input": "2020-08-26T08:33:08.944186Z",
     "iopub.status.busy": "2020-08-26T08:33:08.943695Z",
     "iopub.status.idle": "2020-08-26T08:33:08.957375Z",
     "shell.execute_reply": "2020-08-26T08:33:08.958143Z"
    },
    "papermill": {
     "duration": 0.029215,
     "end_time": "2020-08-26T08:33:08.958300",
     "exception": false,
     "start_time": "2020-08-26T08:33:08.929085",
     "status": "completed"
    },
    "slideshow": {
     "slide_type": "skip"
    },
    "tags": [
     "remove_cell"
    ]
   },
   "outputs": [],
   "source": [
    "# Set up Google Sheet API\n",
    "scope = [\"https://spreadsheets.google.com/feeds\",'https://www.googleapis.com/auth/spreadsheets',\"https://www.googleapis.com/auth/drive.file\",\"https://www.googleapis.com/auth/drive\"]\n",
    "creds = ServiceAccountCredentials.from_json_keyfile_name(\"credentials.json\", scope)\n",
    "client = gspread.authorize(creds)"
   ]
  },
  {
   "cell_type": "code",
   "execution_count": 10,
   "metadata": {
    "execution": {
     "iopub.execute_input": "2020-08-26T08:33:08.987555Z",
     "iopub.status.busy": "2020-08-26T08:33:08.987026Z",
     "iopub.status.idle": "2020-08-26T08:33:10.509141Z",
     "shell.execute_reply": "2020-08-26T08:33:10.509836Z"
    },
    "papermill": {
     "duration": 1.540512,
     "end_time": "2020-08-26T08:33:10.509995",
     "exception": false,
     "start_time": "2020-08-26T08:33:08.969483",
     "status": "completed"
    },
    "slideshow": {
     "slide_type": "skip"
    },
    "tags": [
     "remove_cell"
    ]
   },
   "outputs": [
    {
     "data": {
      "text/plain": [
       "{'spreadsheetId': '1pcqdMzKtea2Oq3BDmdAOQ21gZjCssieKI0692VfNLXU',\n",
       " 'updatedRange': 'Sheet1!A2:G2',\n",
       " 'updatedRows': 1,\n",
       " 'updatedColumns': 7,\n",
       " 'updatedCells': 7}"
      ]
     },
     "execution_count": 10,
     "metadata": {},
     "output_type": "execute_result"
    }
   ],
   "source": [
    "# Append daily data as a new row in Google Sheet\n",
    "sheet = client.open(\"Test cron job\").sheet1\n",
    "insertRow = [datetime.date.today().strftime(\"%Y-%m-%d\"),\n",
    "             daily_tests,\n",
    "             case_rate,\n",
    "             test_positivity,\n",
    "             change_hospit,\n",
    "             ICU_beds,\n",
    "             ventilators]\n",
    "sheet.insert_row(insertRow, 2)"
   ]
  },
  {
   "cell_type": "code",
   "execution_count": 11,
   "metadata": {
    "execution": {
     "iopub.execute_input": "2020-08-26T08:33:10.538825Z",
     "iopub.status.busy": "2020-08-26T08:33:10.538319Z",
     "iopub.status.idle": "2020-08-26T08:33:11.349416Z",
     "shell.execute_reply": "2020-08-26T08:33:11.350256Z"
    },
    "papermill": {
     "duration": 0.828796,
     "end_time": "2020-08-26T08:33:11.350425",
     "exception": false,
     "start_time": "2020-08-26T08:33:10.521629",
     "status": "completed"
    },
    "scrolled": true,
    "slideshow": {
     "slide_type": "slide"
    },
    "tags": [
     "remove_cell"
    ]
   },
   "outputs": [],
   "source": [
    "# Extract data from Google Sheet as pandas dataframe\n",
    "sheet = client.open(\"Test cron job\").sheet1\n",
    "data = sheet.get_all_records()\n",
    "result = pd.DataFrame(data).set_index(\"Date\")"
   ]
  },
  {
   "cell_type": "code",
   "execution_count": 12,
   "metadata": {
    "execution": {
     "iopub.execute_input": "2020-08-26T08:33:11.380822Z",
     "iopub.status.busy": "2020-08-26T08:33:11.380309Z",
     "iopub.status.idle": "2020-08-26T08:33:12.531431Z",
     "shell.execute_reply": "2020-08-26T08:33:12.532287Z"
    },
    "papermill": {
     "duration": 1.169578,
     "end_time": "2020-08-26T08:33:12.532468",
     "exception": false,
     "start_time": "2020-08-26T08:33:11.362890",
     "status": "completed"
    },
    "scrolled": true,
    "tags": [
     "remove_input"
    ]
   },
   "outputs": [
    {
     "data": {
      "text/html": [
       "<style  type=\"text/css\" >\n",
       "    #T_c75e98a6_e776_11ea_b8db_42010a8a0004 th {\n",
       "          text-align: center;\n",
       "    }#T_c75e98a6_e776_11ea_b8db_42010a8a0004row0_col0,#T_c75e98a6_e776_11ea_b8db_42010a8a0004row1_col0,#T_c75e98a6_e776_11ea_b8db_42010a8a0004row2_col0,#T_c75e98a6_e776_11ea_b8db_42010a8a0004row3_col0,#T_c75e98a6_e776_11ea_b8db_42010a8a0004row4_col0{\n",
       "            width:  20em;\n",
       "            text-align:  center;\n",
       "            font-weight:  bold;\n",
       "        }#T_c75e98a6_e776_11ea_b8db_42010a8a0004row0_col1,#T_c75e98a6_e776_11ea_b8db_42010a8a0004row0_col2,#T_c75e98a6_e776_11ea_b8db_42010a8a0004row1_col1,#T_c75e98a6_e776_11ea_b8db_42010a8a0004row1_col2,#T_c75e98a6_e776_11ea_b8db_42010a8a0004row2_col1,#T_c75e98a6_e776_11ea_b8db_42010a8a0004row2_col2,#T_c75e98a6_e776_11ea_b8db_42010a8a0004row3_col1,#T_c75e98a6_e776_11ea_b8db_42010a8a0004row3_col2,#T_c75e98a6_e776_11ea_b8db_42010a8a0004row4_col1,#T_c75e98a6_e776_11ea_b8db_42010a8a0004row4_col2{\n",
       "            width:  20em;\n",
       "            text-align:  center;\n",
       "        }</style><table id=\"T_c75e98a6_e776_11ea_b8db_42010a8a0004\" ><thead>    <tr>        <th class=\"col_heading level0 col0\" >Date</th>        <th class=\"col_heading level0 col1\" >Time</th>        <th class=\"col_heading level0 col2\" ></th>    </tr></thead><tbody>\n",
       "                <tr>\n",
       "                                <td id=\"T_c75e98a6_e776_11ea_b8db_42010a8a0004row0_col0\" class=\"data row0 col0\" >2020-08-26</td>\n",
       "                        <td id=\"T_c75e98a6_e776_11ea_b8db_42010a8a0004row0_col1\" class=\"data row0 col1\" >222.1</td>\n",
       "                        <td id=\"T_c75e98a6_e776_11ea_b8db_42010a8a0004row0_col2\" class=\"data row0 col2\" > ✔</td>\n",
       "            </tr>\n",
       "            <tr>\n",
       "                                <td id=\"T_c75e98a6_e776_11ea_b8db_42010a8a0004row1_col0\" class=\"data row1 col0\" >2020-08-26</td>\n",
       "                        <td id=\"T_c75e98a6_e776_11ea_b8db_42010a8a0004row1_col1\" class=\"data row1 col1\" >222.1</td>\n",
       "                        <td id=\"T_c75e98a6_e776_11ea_b8db_42010a8a0004row1_col2\" class=\"data row1 col2\" > ✔</td>\n",
       "            </tr>\n",
       "            <tr>\n",
       "                                <td id=\"T_c75e98a6_e776_11ea_b8db_42010a8a0004row2_col0\" class=\"data row2 col0\" >2020-08-26</td>\n",
       "                        <td id=\"T_c75e98a6_e776_11ea_b8db_42010a8a0004row2_col1\" class=\"data row2 col1\" >222.1</td>\n",
       "                        <td id=\"T_c75e98a6_e776_11ea_b8db_42010a8a0004row2_col2\" class=\"data row2 col2\" > ✔</td>\n",
       "            </tr>\n",
       "            <tr>\n",
       "                                <td id=\"T_c75e98a6_e776_11ea_b8db_42010a8a0004row3_col0\" class=\"data row3 col0\" >2020-08-26</td>\n",
       "                        <td id=\"T_c75e98a6_e776_11ea_b8db_42010a8a0004row3_col1\" class=\"data row3 col1\" >222.1</td>\n",
       "                        <td id=\"T_c75e98a6_e776_11ea_b8db_42010a8a0004row3_col2\" class=\"data row3 col2\" > ✔</td>\n",
       "            </tr>\n",
       "            <tr>\n",
       "                                <td id=\"T_c75e98a6_e776_11ea_b8db_42010a8a0004row4_col0\" class=\"data row4 col0\" >2020-08-26</td>\n",
       "                        <td id=\"T_c75e98a6_e776_11ea_b8db_42010a8a0004row4_col1\" class=\"data row4 col1\" >222.1</td>\n",
       "                        <td id=\"T_c75e98a6_e776_11ea_b8db_42010a8a0004row4_col2\" class=\"data row4 col2\" > ✔</td>\n",
       "            </tr>\n",
       "    </tbody></table>"
      ],
      "text/plain": [
       "<pandas.io.formats.style.Styler at 0x7fcd3cd6a358>"
      ]
     },
     "execution_count": 12,
     "metadata": {},
     "output_type": "execute_result"
    }
   ],
   "source": [
    "# Style the pandas dataframe\n",
    "d = dict(selector=\"th\",\n",
    "         props=[('text-align', 'center')])\n",
    "\n",
    "result.reset_index().style\\\n",
    "    .set_properties(**{'width':'20em', 'text-align':'center'})\\\n",
    "    .set_properties(subset=['Date'], **{'font-weight': 'bold'})\\\n",
    "    .set_table_styles([d])\\\n",
    "    .set_precision(1)\\\n",
    "    .hide_index()"
   ]
  },
  {
   "cell_type": "markdown",
   "metadata": {
    "papermill": {
     "duration": 0.011813,
     "end_time": "2020-08-26T08:33:12.557985",
     "exception": false,
     "start_time": "2020-08-26T08:33:12.546172",
     "status": "completed"
    },
    "tags": []
   },
   "source": [
    "<sup>Notes: (1) 7 day average with a 7-day lag. (2) 14 day average. (3) 7 day average with a 7-day lag. (4) Change in 3 day average.</sup>"
   ]
  },
  {
   "cell_type": "code",
   "execution_count": 13,
   "metadata": {
    "execution": {
     "iopub.execute_input": "2020-08-26T08:33:12.587678Z",
     "iopub.status.busy": "2020-08-26T08:33:12.587121Z",
     "iopub.status.idle": "2020-08-26T08:33:12.591043Z",
     "shell.execute_reply": "2020-08-26T08:33:12.591415Z"
    },
    "papermill": {
     "duration": 0.021752,
     "end_time": "2020-08-26T08:33:12.591586",
     "exception": false,
     "start_time": "2020-08-26T08:33:12.569834",
     "status": "completed"
    },
    "tags": [
     "remove_input"
    ]
   },
   "outputs": [
    {
     "data": {
      "text/markdown": [
       "Table last updated by CDPH on August 25, 2020."
      ],
      "text/plain": [
       "<IPython.core.display.Markdown object>"
      ]
     },
     "execution_count": 13,
     "metadata": {},
     "output_type": "execute_result"
    }
   ],
   "source": [
    "md(update_tag)"
   ]
  },
  {
   "cell_type": "markdown",
   "metadata": {
    "papermill": {
     "duration": 0.012627,
     "end_time": "2020-08-26T08:33:12.616008",
     "exception": false,
     "start_time": "2020-08-26T08:33:12.603381",
     "status": "completed"
    },
    "tags": []
   },
   "source": [
    "## Tracking county closures in Santa Barbara"
   ]
  },
  {
   "cell_type": "markdown",
   "metadata": {
    "papermill": {
     "duration": 0.011725,
     "end_time": "2020-08-26T08:33:12.639553",
     "exception": false,
     "start_time": "2020-08-26T08:33:12.627828",
     "status": "completed"
    },
    "tags": []
   },
   "source": [
    "The state of California is using a data-driven approach informed by scientific evidence to tailor its response to COVID-19. Three dimensions of concern are monitored to assess whether a county should be placed on the County Monitoring List:\n",
    " 1. Elevated Disease Transmission\n",
    " 2. Increasing Hospitalization\n",
    " 3. Limited Hospital Capacity\n",
    "\n",
    "Once a county appears on the County Monitoring List for three consecutive days, indoor operations in the sectors listed in Section 3 of the [July 13th State Health Officer Order](https://www.cdph.ca.gov/Programs/CID/DCDC/CDPH%20Document%20Library/COVID-19/SHO%20Order%20Dimming%20Entire%20State%207-13-2020.pdf) must close.\n",
    "\n",
    "This table tracks where Santa Barbara stands in terms of the criteria for inclusion on the County Monitoring List. As of 20 August 2020, the criteria for inclusion on the monitoring list are:\n",
    "\n",
    "* Case rate >100 OR (Case rate >25 AND Positivity >8%)\n",
    "* \\>10% increase in hospitalizations\n",
    "* <20% ICU beds available OR <25% ventilators available\n",
    "\n",
    "If Santa Barbara meets the criteria for removal from the County Monitoring List for a certain metric, then a checkmark ✔ is displayed in the table.\n",
    "\n",
    "Read more at <https://covid19.ca.gov/roadmap-counties/>.\n",
    "\n",
    "Data source for county metrics: https://www.cdph.ca.gov/Programs/CID/DCDC/Pages/COVID-19/COVID19CountyDataTable.aspx."
   ]
  },
  {
   "cell_type": "markdown",
   "metadata": {
    "papermill": {
     "duration": 0.011816,
     "end_time": "2020-08-26T08:33:12.663178",
     "exception": false,
     "start_time": "2020-08-26T08:33:12.651362",
     "status": "completed"
    },
    "tags": []
   },
   "source": [
    "**See the code used to scrape the data: https://github.com/walice/COVID-SB/.**"
   ]
  },
  {
   "cell_type": "code",
   "execution_count": 14,
   "metadata": {
    "execution": {
     "iopub.execute_input": "2020-08-26T08:33:12.692210Z",
     "iopub.status.busy": "2020-08-26T08:33:12.691693Z",
     "iopub.status.idle": "2020-08-26T08:33:12.695627Z",
     "shell.execute_reply": "2020-08-26T08:33:12.695979Z"
    },
    "papermill": {
     "duration": 0.02119,
     "end_time": "2020-08-26T08:33:12.696124",
     "exception": false,
     "start_time": "2020-08-26T08:33:12.674934",
     "status": "completed"
    },
    "tags": [
     "remove_cell"
    ]
   },
   "outputs": [
    {
     "data": {
      "application/javascript": [
       "IPython.notebook.save_notebook()\n"
      ],
      "text/plain": [
       "<IPython.core.display.Javascript object>"
      ]
     },
     "metadata": {},
     "output_type": "display_data"
    }
   ],
   "source": [
    "%%javascript\n",
    "IPython.notebook.save_notebook()"
   ]
  },
  {
   "cell_type": "code",
   "execution_count": 15,
   "metadata": {
    "execution": {
     "iopub.execute_input": "2020-08-26T08:33:12.727515Z",
     "iopub.status.busy": "2020-08-26T08:33:12.727005Z",
     "iopub.status.idle": "2020-08-26T08:33:12.844053Z",
     "shell.execute_reply": "2020-08-26T08:33:12.843123Z"
    },
    "papermill": {
     "duration": 0.135981,
     "end_time": "2020-08-26T08:33:12.844185",
     "exception": false,
     "start_time": "2020-08-26T08:33:12.708204",
     "status": "completed"
    },
    "slideshow": {
     "slide_type": "skip"
    },
    "tags": [
     "remove_cell"
    ]
   },
   "outputs": [
    {
     "name": "stdout",
     "output_type": "stream",
     "text": [
      "/bin/sh: 1: jupyter: not found\r\n"
     ]
    }
   ],
   "source": [
    "# Convert Jupyter Notebook to HTML\n",
    "! jupyter nbconvert \"index.ipynb\" --to html --TagRemovePreprocessor.enabled=True --TagRemovePreprocessor.remove_cell_tags=\"['remove_cell']\" --TagRemovePreprocessor.remove_input_tags=\"['remove_input']\" --no-prompt"
   ]
  },
  {
   "cell_type": "code",
   "execution_count": 16,
   "metadata": {
    "execution": {
     "iopub.execute_input": "2020-08-26T08:33:12.875969Z",
     "iopub.status.busy": "2020-08-26T08:33:12.875377Z",
     "iopub.status.idle": "2020-08-26T08:33:12.876790Z",
     "shell.execute_reply": "2020-08-26T08:33:12.876398Z"
    },
    "papermill": {
     "duration": 0.019549,
     "end_time": "2020-08-26T08:33:12.876914",
     "exception": false,
     "start_time": "2020-08-26T08:33:12.857365",
     "status": "completed"
    },
    "tags": [
     "remove_cell"
    ]
   },
   "outputs": [],
   "source": [
    "# Create daily commit message\n",
    "now = datetime.datetime.now()\n",
    "commit_message = \"Last scraped on \" + str(now)"
   ]
  },
  {
   "cell_type": "code",
   "execution_count": null,
   "metadata": {
    "execution": {
     "iopub.execute_input": "2020-08-26T08:27:59.559454Z",
     "iopub.status.busy": "2020-08-26T08:27:59.558976Z",
     "iopub.status.idle": "2020-08-26T08:28:04.423567Z",
     "shell.execute_reply": "2020-08-26T08:28:04.422251Z"
    },
    "papermill": {
     "duration": null,
     "end_time": null,
     "exception": false,
     "start_time": "2020-08-26T08:33:12.889026",
     "status": "running"
    },
    "tags": [
     "remove_cell"
    ]
   },
   "outputs": [],
   "source": [
    "# Deploy to GitHub\n",
    "! git add .\n",
    "! echo $commit_message > commit_message.txt\n",
    "! git commit -F commit_message.txt\n",
    "! git push"
   ]
  }
 ],
 "metadata": {
  "celltoolbar": "Tags",
  "kernelspec": {
   "display_name": "Python 3",
   "language": "python",
   "name": "python3"
  },
  "language_info": {
   "codemirror_mode": {
    "name": "ipython",
    "version": 3
   },
   "file_extension": ".py",
   "mimetype": "text/x-python",
   "name": "python",
   "nbconvert_exporter": "python",
   "pygments_lexer": "ipython3",
   "version": "3.7.3"
  },
  "papermill": {
   "duration": null,
   "end_time": null,
   "environment_variables": {},
   "exception": null,
   "input_path": "/home/alice_lepissier/cron-job/index.ipynb",
   "output_path": "/home/alice_lepissier/cron-job/index.ipynb",
   "parameters": {},
   "start_time": "2020-08-26T08:33:02.099825",
   "version": "2.1.3"
  }
 },
 "nbformat": 4,
 "nbformat_minor": 4
}