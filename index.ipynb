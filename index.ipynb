{
 "cells": [
  {
   "cell_type": "markdown",
   "metadata": {
    "papermill": {
     "duration": 0.01076,
     "end_time": "2020-08-26T19:48:05.234433",
     "exception": false,
     "start_time": "2020-08-26T19:48:05.223673",
     "status": "completed"
    },
    "tags": []
   },
   "source": [
    "# Daily COVID monitoring data for Santa Barbara county"
   ]
  },
  {
   "cell_type": "code",
   "execution_count": 1,
   "metadata": {
    "execution": {
     "iopub.execute_input": "2020-08-26T19:48:05.262346Z",
     "iopub.status.busy": "2020-08-26T19:48:05.261759Z",
     "iopub.status.idle": "2020-08-26T19:48:05.374594Z",
     "shell.execute_reply": "2020-08-26T19:48:05.373569Z"
    },
    "papermill": {
     "duration": 0.130174,
     "end_time": "2020-08-26T19:48:05.374773",
     "exception": false,
     "start_time": "2020-08-26T19:48:05.244599",
     "status": "completed"
    },
    "tags": [
     "remove_cell"
    ]
   },
   "outputs": [
    {
     "name": "stdout",
     "output_type": "stream",
     "text": [
      "/bin/sh: 1: jt: not found\r\n"
     ]
    }
   ],
   "source": [
    "! jt -t grade3 -tf robotosans -cellw 1100"
   ]
  },
  {
   "cell_type": "markdown",
   "metadata": {
    "papermill": {
     "duration": 0.009862,
     "end_time": "2020-08-26T19:48:05.395172",
     "exception": false,
     "start_time": "2020-08-26T19:48:05.385310",
     "status": "completed"
    },
    "tags": []
   },
   "source": [
    "This table is automatically updated with new daily COVID data for the county of Santa Barbara, CA. Every day, the California Department of Public Health publishes COVID tracking metrics for each county, but does not save the previous day's data. This tool keeps track of the daily metrics that are used to monitor progress towards safe reopening in California."
   ]
  },
  {
   "cell_type": "code",
   "execution_count": 2,
   "metadata": {
    "execution": {
     "iopub.execute_input": "2020-08-26T19:48:05.423553Z",
     "iopub.status.busy": "2020-08-26T19:48:05.423044Z",
     "iopub.status.idle": "2020-08-26T19:48:08.896453Z",
     "shell.execute_reply": "2020-08-26T19:48:08.897286Z"
    },
    "papermill": {
     "duration": 3.492435,
     "end_time": "2020-08-26T19:48:08.897457",
     "exception": false,
     "start_time": "2020-08-26T19:48:05.405022",
     "status": "completed"
    },
    "slideshow": {
     "slide_type": "skip"
    },
    "tags": [
     "remove_cell"
    ]
   },
   "outputs": [],
   "source": [
    "# Preamble\n",
    "import os\n",
    "from IPython.display import Markdown as md\n",
    "import IPython\n",
    "import requests\n",
    "from bs4 import BeautifulSoup\n",
    "import re\n",
    "import pandas as pd\n",
    "import datetime\n",
    "import gspread\n",
    "from oauth2client.service_account import ServiceAccountCredentials"
   ]
  },
  {
   "cell_type": "code",
   "execution_count": 3,
   "metadata": {
    "execution": {
     "iopub.execute_input": "2020-08-26T19:48:08.923662Z",
     "iopub.status.busy": "2020-08-26T19:48:08.923036Z",
     "iopub.status.idle": "2020-08-26T19:48:08.924545Z",
     "shell.execute_reply": "2020-08-26T19:48:08.924121Z"
    },
    "papermill": {
     "duration": 0.016721,
     "end_time": "2020-08-26T19:48:08.924662",
     "exception": false,
     "start_time": "2020-08-26T19:48:08.907941",
     "status": "completed"
    },
    "tags": []
   },
   "outputs": [],
   "source": [
    "# Set working directory\n",
    "os.chdir(\"/home/alice_lepissier/cron-job\")"
   ]
  },
  {
   "cell_type": "code",
   "execution_count": 4,
   "metadata": {
    "execution": {
     "iopub.execute_input": "2020-08-26T19:48:08.950623Z",
     "iopub.status.busy": "2020-08-26T19:48:08.950040Z",
     "iopub.status.idle": "2020-08-26T19:48:09.281588Z",
     "shell.execute_reply": "2020-08-26T19:48:09.282421Z"
    },
    "papermill": {
     "duration": 0.348277,
     "end_time": "2020-08-26T19:48:09.282603",
     "exception": false,
     "start_time": "2020-08-26T19:48:08.934326",
     "status": "completed"
    },
    "slideshow": {
     "slide_type": "skip"
    },
    "tags": [
     "remove_cell"
    ]
   },
   "outputs": [],
   "source": [
    "# Request content from URL\n",
    "html_string = requests.get('https://www.cdph.ca.gov/Programs/CID/DCDC/Pages/COVID-19/COVID19CountyDataTable.aspx').content"
   ]
  },
  {
   "cell_type": "code",
   "execution_count": 5,
   "metadata": {
    "execution": {
     "iopub.execute_input": "2020-08-26T19:48:09.311542Z",
     "iopub.status.busy": "2020-08-26T19:48:09.311024Z",
     "iopub.status.idle": "2020-08-26T19:48:09.396415Z",
     "shell.execute_reply": "2020-08-26T19:48:09.397218Z"
    },
    "papermill": {
     "duration": 0.104224,
     "end_time": "2020-08-26T19:48:09.397377",
     "exception": false,
     "start_time": "2020-08-26T19:48:09.293153",
     "status": "completed"
    },
    "slideshow": {
     "slide_type": "skip"
    },
    "tags": [
     "remove_cell"
    ]
   },
   "outputs": [],
   "source": [
    "# Parse HTML\n",
    "soup = BeautifulSoup(html_string, 'html.parser')"
   ]
  },
  {
   "cell_type": "code",
   "execution_count": 6,
   "metadata": {
    "execution": {
     "iopub.execute_input": "2020-08-26T19:48:09.423447Z",
     "iopub.status.busy": "2020-08-26T19:48:09.422968Z",
     "iopub.status.idle": "2020-08-26T19:48:09.433024Z",
     "shell.execute_reply": "2020-08-26T19:48:09.433760Z"
    },
    "papermill": {
     "duration": 0.026227,
     "end_time": "2020-08-26T19:48:09.433920",
     "exception": false,
     "start_time": "2020-08-26T19:48:09.407693",
     "status": "completed"
    },
    "slideshow": {
     "slide_type": "skip"
    },
    "tags": [
     "remove_cell"
    ]
   },
   "outputs": [],
   "source": [
    "# Extract data for Santa Barbara\n",
    "table = soup.find_all(\"tr\", class_=\"ms-rteTableEvenRow-3\")\n",
    "SB = table[21]"
   ]
  },
  {
   "cell_type": "code",
   "execution_count": 7,
   "metadata": {
    "execution": {
     "iopub.execute_input": "2020-08-26T19:48:09.463591Z",
     "iopub.status.busy": "2020-08-26T19:48:09.463082Z",
     "iopub.status.idle": "2020-08-26T19:48:09.474362Z",
     "shell.execute_reply": "2020-08-26T19:48:09.475157Z"
    },
    "papermill": {
     "duration": 0.031381,
     "end_time": "2020-08-26T19:48:09.475320",
     "exception": false,
     "start_time": "2020-08-26T19:48:09.443939",
     "status": "completed"
    },
    "slideshow": {
     "slide_type": "skip"
    },
    "tags": [
     "remove_cell"
    ]
   },
   "outputs": [],
   "source": [
    "# Avg # tests per day (per 100,000 population)\n",
    "daily_tests = SB.find_all(\"td\", class_=\"ms-rteTableOddCol-3\")[0].text\n",
    "\n",
    "# Case rate per 100,000\n",
    "case_rate = SB.find_all(\"td\", class_=\"ms-rteTableEvenCol-3\")[1].text\n",
    "\n",
    "# Testing positivity (%)\n",
    "test_positivity = SB.find_all(\"td\", class_=\"ms-rteTableOddCol-3\")[1].text\n",
    "\n",
    "# % Change in 3-day avg COVID+ hospitalized patients\n",
    "change_hospit = SB.find_all(\"td\", class_=\"ms-rteTableEvenCol-3\")[2].text\n",
    "\n",
    "# % ICU beds currently available\n",
    "ICU_beds = SB.find_all(\"td\", class_=\"ms-rteTableOddCol-3\")[2].text\n",
    "\n",
    "# % Ventilators currently available\n",
    "ventilators = SB.find_all(\"td\", class_=\"ms-rteTableEvenCol-3\")[3].text\n",
    "\n",
    "# Extract date of last update\n",
    "update_date = soup.find_all(\"span\", class_=\"ms-rteStyle-Accent1\")[1]\\\n",
    "    .find(\"em\").text"
   ]
  },
  {
   "cell_type": "code",
   "execution_count": 8,
   "metadata": {
    "execution": {
     "iopub.execute_input": "2020-08-26T19:48:09.501527Z",
     "iopub.status.busy": "2020-08-26T19:48:09.500868Z",
     "iopub.status.idle": "2020-08-26T19:48:09.502406Z",
     "shell.execute_reply": "2020-08-26T19:48:09.501964Z"
    },
    "papermill": {
     "duration": 0.017111,
     "end_time": "2020-08-26T19:48:09.502530",
     "exception": false,
     "start_time": "2020-08-26T19:48:09.485419",
     "status": "completed"
    },
    "tags": [
     "remove_cell"
    ]
   },
   "outputs": [],
   "source": [
    "# Create updated date string\n",
    "update_tag = \"Table last updated by CDPH on \" + update_date.split(\" on \", 1)[1] + \".\""
   ]
  },
  {
   "cell_type": "code",
   "execution_count": 9,
   "metadata": {
    "execution": {
     "iopub.execute_input": "2020-08-26T19:48:09.526989Z",
     "iopub.status.busy": "2020-08-26T19:48:09.526475Z",
     "iopub.status.idle": "2020-08-26T19:48:09.546171Z",
     "shell.execute_reply": "2020-08-26T19:48:09.547029Z"
    },
    "papermill": {
     "duration": 0.034739,
     "end_time": "2020-08-26T19:48:09.547199",
     "exception": false,
     "start_time": "2020-08-26T19:48:09.512460",
     "status": "completed"
    },
    "slideshow": {
     "slide_type": "skip"
    },
    "tags": [
     "remove_cell"
    ]
   },
   "outputs": [],
   "source": [
    "# Set up Google Sheet API\n",
    "scope = [\"https://spreadsheets.google.com/feeds\",'https://www.googleapis.com/auth/spreadsheets',\"https://www.googleapis.com/auth/drive.file\",\"https://www.googleapis.com/auth/drive\"]\n",
    "creds = ServiceAccountCredentials.from_json_keyfile_name(\"credentials.json\", scope)\n",
    "client = gspread.authorize(creds)"
   ]
  },
  {
   "cell_type": "code",
   "execution_count": 10,
   "metadata": {
    "execution": {
     "iopub.execute_input": "2020-08-26T19:48:09.575350Z",
     "iopub.status.busy": "2020-08-26T19:48:09.574810Z",
     "iopub.status.idle": "2020-08-26T19:48:10.588195Z",
     "shell.execute_reply": "2020-08-26T19:48:10.588914Z"
    },
    "papermill": {
     "duration": 1.031503,
     "end_time": "2020-08-26T19:48:10.589075",
     "exception": false,
     "start_time": "2020-08-26T19:48:09.557572",
     "status": "completed"
    },
    "slideshow": {
     "slide_type": "skip"
    },
    "tags": [
     "remove_cell"
    ]
   },
   "outputs": [
    {
     "data": {
      "text/plain": [
       "{'spreadsheetId': '1pcqdMzKtea2Oq3BDmdAOQ21gZjCssieKI0692VfNLXU',\n",
       " 'updatedRange': 'Sheet1!A2:G2',\n",
       " 'updatedRows': 1,\n",
       " 'updatedColumns': 7,\n",
       " 'updatedCells': 7}"
      ]
     },
     "execution_count": 10,
     "metadata": {},
     "output_type": "execute_result"
    }
   ],
   "source": [
    "# Append daily data as a new row in Google Sheet\n",
    "sheet = client.open(\"Test cron job\").sheet1\n",
    "insertRow = [datetime.date.today().strftime(\"%Y-%m-%d\"),\n",
    "             daily_tests,\n",
    "             case_rate,\n",
    "             test_positivity,\n",
    "             change_hospit,\n",
    "             ICU_beds,\n",
    "             ventilators]\n",
    "sheet.insert_row(insertRow, 2)"
   ]
  },
  {
   "cell_type": "code",
   "execution_count": 11,
   "metadata": {
    "execution": {
     "iopub.execute_input": "2020-08-26T19:48:10.615057Z",
     "iopub.status.busy": "2020-08-26T19:48:10.614555Z",
     "iopub.status.idle": "2020-08-26T19:48:11.150954Z",
     "shell.execute_reply": "2020-08-26T19:48:11.151819Z"
    },
    "papermill": {
     "duration": 0.552194,
     "end_time": "2020-08-26T19:48:11.151984",
     "exception": false,
     "start_time": "2020-08-26T19:48:10.599790",
     "status": "completed"
    },
    "scrolled": true,
    "slideshow": {
     "slide_type": "slide"
    },
    "tags": [
     "remove_cell"
    ]
   },
   "outputs": [],
   "source": [
    "# Extract data from Google Sheet as pandas dataframe\n",
    "sheet = client.open(\"Test cron job\").sheet1\n",
    "data = sheet.get_all_records()\n",
    "result = pd.DataFrame(data).set_index(\"Date\")"
   ]
  },
  {
   "cell_type": "code",
   "execution_count": 12,
   "metadata": {
    "execution": {
     "iopub.execute_input": "2020-08-26T19:48:11.179576Z",
     "iopub.status.busy": "2020-08-26T19:48:11.179049Z",
     "iopub.status.idle": "2020-08-26T19:48:12.335243Z",
     "shell.execute_reply": "2020-08-26T19:48:12.336090Z"
    },
    "papermill": {
     "duration": 1.17336,
     "end_time": "2020-08-26T19:48:12.336253",
     "exception": false,
     "start_time": "2020-08-26T19:48:11.162893",
     "status": "completed"
    },
    "scrolled": true,
    "tags": [
     "remove_input"
    ]
   },
   "outputs": [
    {
     "data": {
      "text/html": [
       "<style  type=\"text/css\" >\n",
       "    #T_13214190_e7d5_11ea_b5d7_42010a8a0004 th {\n",
       "          text-align: center;\n",
       "    }#T_13214190_e7d5_11ea_b5d7_42010a8a0004row0_col0,#T_13214190_e7d5_11ea_b5d7_42010a8a0004row1_col0,#T_13214190_e7d5_11ea_b5d7_42010a8a0004row2_col0,#T_13214190_e7d5_11ea_b5d7_42010a8a0004row3_col0,#T_13214190_e7d5_11ea_b5d7_42010a8a0004row4_col0,#T_13214190_e7d5_11ea_b5d7_42010a8a0004row5_col0,#T_13214190_e7d5_11ea_b5d7_42010a8a0004row6_col0,#T_13214190_e7d5_11ea_b5d7_42010a8a0004row7_col0,#T_13214190_e7d5_11ea_b5d7_42010a8a0004row8_col0,#T_13214190_e7d5_11ea_b5d7_42010a8a0004row9_col0,#T_13214190_e7d5_11ea_b5d7_42010a8a0004row10_col0,#T_13214190_e7d5_11ea_b5d7_42010a8a0004row11_col0,#T_13214190_e7d5_11ea_b5d7_42010a8a0004row12_col0,#T_13214190_e7d5_11ea_b5d7_42010a8a0004row13_col0{\n",
       "            width:  20em;\n",
       "            text-align:  center;\n",
       "            font-weight:  bold;\n",
       "        }#T_13214190_e7d5_11ea_b5d7_42010a8a0004row0_col1,#T_13214190_e7d5_11ea_b5d7_42010a8a0004row0_col2,#T_13214190_e7d5_11ea_b5d7_42010a8a0004row0_col3,#T_13214190_e7d5_11ea_b5d7_42010a8a0004row0_col4,#T_13214190_e7d5_11ea_b5d7_42010a8a0004row0_col5,#T_13214190_e7d5_11ea_b5d7_42010a8a0004row0_col6,#T_13214190_e7d5_11ea_b5d7_42010a8a0004row1_col1,#T_13214190_e7d5_11ea_b5d7_42010a8a0004row1_col2,#T_13214190_e7d5_11ea_b5d7_42010a8a0004row1_col3,#T_13214190_e7d5_11ea_b5d7_42010a8a0004row1_col4,#T_13214190_e7d5_11ea_b5d7_42010a8a0004row1_col5,#T_13214190_e7d5_11ea_b5d7_42010a8a0004row1_col6,#T_13214190_e7d5_11ea_b5d7_42010a8a0004row2_col1,#T_13214190_e7d5_11ea_b5d7_42010a8a0004row2_col2,#T_13214190_e7d5_11ea_b5d7_42010a8a0004row2_col3,#T_13214190_e7d5_11ea_b5d7_42010a8a0004row2_col4,#T_13214190_e7d5_11ea_b5d7_42010a8a0004row2_col5,#T_13214190_e7d5_11ea_b5d7_42010a8a0004row2_col6,#T_13214190_e7d5_11ea_b5d7_42010a8a0004row3_col1,#T_13214190_e7d5_11ea_b5d7_42010a8a0004row3_col2,#T_13214190_e7d5_11ea_b5d7_42010a8a0004row3_col3,#T_13214190_e7d5_11ea_b5d7_42010a8a0004row3_col4,#T_13214190_e7d5_11ea_b5d7_42010a8a0004row3_col5,#T_13214190_e7d5_11ea_b5d7_42010a8a0004row3_col6,#T_13214190_e7d5_11ea_b5d7_42010a8a0004row4_col1,#T_13214190_e7d5_11ea_b5d7_42010a8a0004row4_col2,#T_13214190_e7d5_11ea_b5d7_42010a8a0004row4_col3,#T_13214190_e7d5_11ea_b5d7_42010a8a0004row4_col4,#T_13214190_e7d5_11ea_b5d7_42010a8a0004row4_col5,#T_13214190_e7d5_11ea_b5d7_42010a8a0004row4_col6,#T_13214190_e7d5_11ea_b5d7_42010a8a0004row5_col1,#T_13214190_e7d5_11ea_b5d7_42010a8a0004row5_col2,#T_13214190_e7d5_11ea_b5d7_42010a8a0004row5_col3,#T_13214190_e7d5_11ea_b5d7_42010a8a0004row5_col4,#T_13214190_e7d5_11ea_b5d7_42010a8a0004row5_col5,#T_13214190_e7d5_11ea_b5d7_42010a8a0004row5_col6,#T_13214190_e7d5_11ea_b5d7_42010a8a0004row6_col1,#T_13214190_e7d5_11ea_b5d7_42010a8a0004row6_col2,#T_13214190_e7d5_11ea_b5d7_42010a8a0004row6_col3,#T_13214190_e7d5_11ea_b5d7_42010a8a0004row6_col4,#T_13214190_e7d5_11ea_b5d7_42010a8a0004row6_col5,#T_13214190_e7d5_11ea_b5d7_42010a8a0004row6_col6,#T_13214190_e7d5_11ea_b5d7_42010a8a0004row7_col1,#T_13214190_e7d5_11ea_b5d7_42010a8a0004row7_col2,#T_13214190_e7d5_11ea_b5d7_42010a8a0004row7_col3,#T_13214190_e7d5_11ea_b5d7_42010a8a0004row7_col4,#T_13214190_e7d5_11ea_b5d7_42010a8a0004row7_col5,#T_13214190_e7d5_11ea_b5d7_42010a8a0004row7_col6,#T_13214190_e7d5_11ea_b5d7_42010a8a0004row8_col1,#T_13214190_e7d5_11ea_b5d7_42010a8a0004row8_col2,#T_13214190_e7d5_11ea_b5d7_42010a8a0004row8_col3,#T_13214190_e7d5_11ea_b5d7_42010a8a0004row8_col4,#T_13214190_e7d5_11ea_b5d7_42010a8a0004row8_col5,#T_13214190_e7d5_11ea_b5d7_42010a8a0004row8_col6,#T_13214190_e7d5_11ea_b5d7_42010a8a0004row9_col1,#T_13214190_e7d5_11ea_b5d7_42010a8a0004row9_col2,#T_13214190_e7d5_11ea_b5d7_42010a8a0004row9_col3,#T_13214190_e7d5_11ea_b5d7_42010a8a0004row9_col4,#T_13214190_e7d5_11ea_b5d7_42010a8a0004row9_col5,#T_13214190_e7d5_11ea_b5d7_42010a8a0004row9_col6,#T_13214190_e7d5_11ea_b5d7_42010a8a0004row10_col1,#T_13214190_e7d5_11ea_b5d7_42010a8a0004row10_col2,#T_13214190_e7d5_11ea_b5d7_42010a8a0004row10_col3,#T_13214190_e7d5_11ea_b5d7_42010a8a0004row10_col4,#T_13214190_e7d5_11ea_b5d7_42010a8a0004row10_col5,#T_13214190_e7d5_11ea_b5d7_42010a8a0004row10_col6,#T_13214190_e7d5_11ea_b5d7_42010a8a0004row11_col1,#T_13214190_e7d5_11ea_b5d7_42010a8a0004row11_col2,#T_13214190_e7d5_11ea_b5d7_42010a8a0004row11_col3,#T_13214190_e7d5_11ea_b5d7_42010a8a0004row11_col4,#T_13214190_e7d5_11ea_b5d7_42010a8a0004row11_col5,#T_13214190_e7d5_11ea_b5d7_42010a8a0004row11_col6,#T_13214190_e7d5_11ea_b5d7_42010a8a0004row12_col1,#T_13214190_e7d5_11ea_b5d7_42010a8a0004row12_col2,#T_13214190_e7d5_11ea_b5d7_42010a8a0004row12_col3,#T_13214190_e7d5_11ea_b5d7_42010a8a0004row12_col4,#T_13214190_e7d5_11ea_b5d7_42010a8a0004row12_col5,#T_13214190_e7d5_11ea_b5d7_42010a8a0004row12_col6,#T_13214190_e7d5_11ea_b5d7_42010a8a0004row13_col1,#T_13214190_e7d5_11ea_b5d7_42010a8a0004row13_col2,#T_13214190_e7d5_11ea_b5d7_42010a8a0004row13_col3,#T_13214190_e7d5_11ea_b5d7_42010a8a0004row13_col4,#T_13214190_e7d5_11ea_b5d7_42010a8a0004row13_col5,#T_13214190_e7d5_11ea_b5d7_42010a8a0004row13_col6{\n",
       "            width:  20em;\n",
       "            text-align:  center;\n",
       "        }</style><table id=\"T_13214190_e7d5_11ea_b5d7_42010a8a0004\" ><thead>    <tr>        <th class=\"col_heading level0 col0\" >Date</th>        <th class=\"col_heading level0 col1\" >Daily tests (per 100,000)¹</th>        <th class=\"col_heading level0 col2\" >Case rate (per 100,000)²</th>        <th class=\"col_heading level0 col3\" >Testing positivity (%)³</th>        <th class=\"col_heading level0 col4\" >Change in hospitalizations (%)⁴</th>        <th class=\"col_heading level0 col5\" >ICU beds available (%)</th>        <th class=\"col_heading level0 col6\" >Ventilators (available (%)</th>    </tr></thead><tbody>\n",
       "                <tr>\n",
       "                                <td id=\"T_13214190_e7d5_11ea_b5d7_42010a8a0004row0_col0\" class=\"data row0 col0\" >2020-08-26</td>\n",
       "                        <td id=\"T_13214190_e7d5_11ea_b5d7_42010a8a0004row0_col1\" class=\"data row0 col1\" >219.7</td>\n",
       "                        <td id=\"T_13214190_e7d5_11ea_b5d7_42010a8a0004row0_col2\" class=\"data row0 col2\" >133.2</td>\n",
       "                        <td id=\"T_13214190_e7d5_11ea_b5d7_42010a8a0004row0_col3\" class=\"data row0 col3\" > ✔</td>\n",
       "                        <td id=\"T_13214190_e7d5_11ea_b5d7_42010a8a0004row0_col4\" class=\"data row0 col4\" > ✔</td>\n",
       "                        <td id=\"T_13214190_e7d5_11ea_b5d7_42010a8a0004row0_col5\" class=\"data row0 col5\" > ✔</td>\n",
       "                        <td id=\"T_13214190_e7d5_11ea_b5d7_42010a8a0004row0_col6\" class=\"data row0 col6\" > ✔</td>\n",
       "            </tr>\n",
       "            <tr>\n",
       "                                <td id=\"T_13214190_e7d5_11ea_b5d7_42010a8a0004row1_col0\" class=\"data row1 col0\" >2020-08-26</td>\n",
       "                        <td id=\"T_13214190_e7d5_11ea_b5d7_42010a8a0004row1_col1\" class=\"data row1 col1\" >219.7</td>\n",
       "                        <td id=\"T_13214190_e7d5_11ea_b5d7_42010a8a0004row1_col2\" class=\"data row1 col2\" >133.2</td>\n",
       "                        <td id=\"T_13214190_e7d5_11ea_b5d7_42010a8a0004row1_col3\" class=\"data row1 col3\" > ✔</td>\n",
       "                        <td id=\"T_13214190_e7d5_11ea_b5d7_42010a8a0004row1_col4\" class=\"data row1 col4\" > ✔</td>\n",
       "                        <td id=\"T_13214190_e7d5_11ea_b5d7_42010a8a0004row1_col5\" class=\"data row1 col5\" > ✔</td>\n",
       "                        <td id=\"T_13214190_e7d5_11ea_b5d7_42010a8a0004row1_col6\" class=\"data row1 col6\" > ✔</td>\n",
       "            </tr>\n",
       "            <tr>\n",
       "                                <td id=\"T_13214190_e7d5_11ea_b5d7_42010a8a0004row2_col0\" class=\"data row2 col0\" >2020-08-26</td>\n",
       "                        <td id=\"T_13214190_e7d5_11ea_b5d7_42010a8a0004row2_col1\" class=\"data row2 col1\" >219.7</td>\n",
       "                        <td id=\"T_13214190_e7d5_11ea_b5d7_42010a8a0004row2_col2\" class=\"data row2 col2\" >133.2</td>\n",
       "                        <td id=\"T_13214190_e7d5_11ea_b5d7_42010a8a0004row2_col3\" class=\"data row2 col3\" > ✔</td>\n",
       "                        <td id=\"T_13214190_e7d5_11ea_b5d7_42010a8a0004row2_col4\" class=\"data row2 col4\" > ✔</td>\n",
       "                        <td id=\"T_13214190_e7d5_11ea_b5d7_42010a8a0004row2_col5\" class=\"data row2 col5\" > ✔</td>\n",
       "                        <td id=\"T_13214190_e7d5_11ea_b5d7_42010a8a0004row2_col6\" class=\"data row2 col6\" > ✔</td>\n",
       "            </tr>\n",
       "            <tr>\n",
       "                                <td id=\"T_13214190_e7d5_11ea_b5d7_42010a8a0004row3_col0\" class=\"data row3 col0\" >2020-08-26</td>\n",
       "                        <td id=\"T_13214190_e7d5_11ea_b5d7_42010a8a0004row3_col1\" class=\"data row3 col1\" >219.7</td>\n",
       "                        <td id=\"T_13214190_e7d5_11ea_b5d7_42010a8a0004row3_col2\" class=\"data row3 col2\" >133.2</td>\n",
       "                        <td id=\"T_13214190_e7d5_11ea_b5d7_42010a8a0004row3_col3\" class=\"data row3 col3\" > ✔</td>\n",
       "                        <td id=\"T_13214190_e7d5_11ea_b5d7_42010a8a0004row3_col4\" class=\"data row3 col4\" > ✔</td>\n",
       "                        <td id=\"T_13214190_e7d5_11ea_b5d7_42010a8a0004row3_col5\" class=\"data row3 col5\" > ✔</td>\n",
       "                        <td id=\"T_13214190_e7d5_11ea_b5d7_42010a8a0004row3_col6\" class=\"data row3 col6\" > ✔</td>\n",
       "            </tr>\n",
       "            <tr>\n",
       "                                <td id=\"T_13214190_e7d5_11ea_b5d7_42010a8a0004row4_col0\" class=\"data row4 col0\" >2020-08-26</td>\n",
       "                        <td id=\"T_13214190_e7d5_11ea_b5d7_42010a8a0004row4_col1\" class=\"data row4 col1\" >219.7</td>\n",
       "                        <td id=\"T_13214190_e7d5_11ea_b5d7_42010a8a0004row4_col2\" class=\"data row4 col2\" >133.2</td>\n",
       "                        <td id=\"T_13214190_e7d5_11ea_b5d7_42010a8a0004row4_col3\" class=\"data row4 col3\" > ✔</td>\n",
       "                        <td id=\"T_13214190_e7d5_11ea_b5d7_42010a8a0004row4_col4\" class=\"data row4 col4\" > ✔</td>\n",
       "                        <td id=\"T_13214190_e7d5_11ea_b5d7_42010a8a0004row4_col5\" class=\"data row4 col5\" > ✔</td>\n",
       "                        <td id=\"T_13214190_e7d5_11ea_b5d7_42010a8a0004row4_col6\" class=\"data row4 col6\" > ✔</td>\n",
       "            </tr>\n",
       "            <tr>\n",
       "                                <td id=\"T_13214190_e7d5_11ea_b5d7_42010a8a0004row5_col0\" class=\"data row5 col0\" >2020-08-26</td>\n",
       "                        <td id=\"T_13214190_e7d5_11ea_b5d7_42010a8a0004row5_col1\" class=\"data row5 col1\" >219.7</td>\n",
       "                        <td id=\"T_13214190_e7d5_11ea_b5d7_42010a8a0004row5_col2\" class=\"data row5 col2\" >133.2</td>\n",
       "                        <td id=\"T_13214190_e7d5_11ea_b5d7_42010a8a0004row5_col3\" class=\"data row5 col3\" > ✔</td>\n",
       "                        <td id=\"T_13214190_e7d5_11ea_b5d7_42010a8a0004row5_col4\" class=\"data row5 col4\" > ✔</td>\n",
       "                        <td id=\"T_13214190_e7d5_11ea_b5d7_42010a8a0004row5_col5\" class=\"data row5 col5\" > ✔</td>\n",
       "                        <td id=\"T_13214190_e7d5_11ea_b5d7_42010a8a0004row5_col6\" class=\"data row5 col6\" > ✔</td>\n",
       "            </tr>\n",
       "            <tr>\n",
       "                                <td id=\"T_13214190_e7d5_11ea_b5d7_42010a8a0004row6_col0\" class=\"data row6 col0\" >2020-08-26</td>\n",
       "                        <td id=\"T_13214190_e7d5_11ea_b5d7_42010a8a0004row6_col1\" class=\"data row6 col1\" >219.7</td>\n",
       "                        <td id=\"T_13214190_e7d5_11ea_b5d7_42010a8a0004row6_col2\" class=\"data row6 col2\" >133.2</td>\n",
       "                        <td id=\"T_13214190_e7d5_11ea_b5d7_42010a8a0004row6_col3\" class=\"data row6 col3\" > ✔</td>\n",
       "                        <td id=\"T_13214190_e7d5_11ea_b5d7_42010a8a0004row6_col4\" class=\"data row6 col4\" > ✔</td>\n",
       "                        <td id=\"T_13214190_e7d5_11ea_b5d7_42010a8a0004row6_col5\" class=\"data row6 col5\" > ✔</td>\n",
       "                        <td id=\"T_13214190_e7d5_11ea_b5d7_42010a8a0004row6_col6\" class=\"data row6 col6\" > ✔</td>\n",
       "            </tr>\n",
       "            <tr>\n",
       "                                <td id=\"T_13214190_e7d5_11ea_b5d7_42010a8a0004row7_col0\" class=\"data row7 col0\" >2020-08-26</td>\n",
       "                        <td id=\"T_13214190_e7d5_11ea_b5d7_42010a8a0004row7_col1\" class=\"data row7 col1\" >219.7</td>\n",
       "                        <td id=\"T_13214190_e7d5_11ea_b5d7_42010a8a0004row7_col2\" class=\"data row7 col2\" >133.2</td>\n",
       "                        <td id=\"T_13214190_e7d5_11ea_b5d7_42010a8a0004row7_col3\" class=\"data row7 col3\" > ✔</td>\n",
       "                        <td id=\"T_13214190_e7d5_11ea_b5d7_42010a8a0004row7_col4\" class=\"data row7 col4\" > ✔</td>\n",
       "                        <td id=\"T_13214190_e7d5_11ea_b5d7_42010a8a0004row7_col5\" class=\"data row7 col5\" > ✔</td>\n",
       "                        <td id=\"T_13214190_e7d5_11ea_b5d7_42010a8a0004row7_col6\" class=\"data row7 col6\" > ✔</td>\n",
       "            </tr>\n",
       "            <tr>\n",
       "                                <td id=\"T_13214190_e7d5_11ea_b5d7_42010a8a0004row8_col0\" class=\"data row8 col0\" >2020-08-26</td>\n",
       "                        <td id=\"T_13214190_e7d5_11ea_b5d7_42010a8a0004row8_col1\" class=\"data row8 col1\" >219.7</td>\n",
       "                        <td id=\"T_13214190_e7d5_11ea_b5d7_42010a8a0004row8_col2\" class=\"data row8 col2\" >133.2</td>\n",
       "                        <td id=\"T_13214190_e7d5_11ea_b5d7_42010a8a0004row8_col3\" class=\"data row8 col3\" > ✔</td>\n",
       "                        <td id=\"T_13214190_e7d5_11ea_b5d7_42010a8a0004row8_col4\" class=\"data row8 col4\" > ✔</td>\n",
       "                        <td id=\"T_13214190_e7d5_11ea_b5d7_42010a8a0004row8_col5\" class=\"data row8 col5\" > ✔</td>\n",
       "                        <td id=\"T_13214190_e7d5_11ea_b5d7_42010a8a0004row8_col6\" class=\"data row8 col6\" > ✔</td>\n",
       "            </tr>\n",
       "            <tr>\n",
       "                                <td id=\"T_13214190_e7d5_11ea_b5d7_42010a8a0004row9_col0\" class=\"data row9 col0\" >2020-08-26</td>\n",
       "                        <td id=\"T_13214190_e7d5_11ea_b5d7_42010a8a0004row9_col1\" class=\"data row9 col1\" >219.7</td>\n",
       "                        <td id=\"T_13214190_e7d5_11ea_b5d7_42010a8a0004row9_col2\" class=\"data row9 col2\" >133.2</td>\n",
       "                        <td id=\"T_13214190_e7d5_11ea_b5d7_42010a8a0004row9_col3\" class=\"data row9 col3\" > ✔</td>\n",
       "                        <td id=\"T_13214190_e7d5_11ea_b5d7_42010a8a0004row9_col4\" class=\"data row9 col4\" > ✔</td>\n",
       "                        <td id=\"T_13214190_e7d5_11ea_b5d7_42010a8a0004row9_col5\" class=\"data row9 col5\" > ✔</td>\n",
       "                        <td id=\"T_13214190_e7d5_11ea_b5d7_42010a8a0004row9_col6\" class=\"data row9 col6\" > ✔</td>\n",
       "            </tr>\n",
       "            <tr>\n",
       "                                <td id=\"T_13214190_e7d5_11ea_b5d7_42010a8a0004row10_col0\" class=\"data row10 col0\" >2020-08-26</td>\n",
       "                        <td id=\"T_13214190_e7d5_11ea_b5d7_42010a8a0004row10_col1\" class=\"data row10 col1\" >219.7</td>\n",
       "                        <td id=\"T_13214190_e7d5_11ea_b5d7_42010a8a0004row10_col2\" class=\"data row10 col2\" >133.2</td>\n",
       "                        <td id=\"T_13214190_e7d5_11ea_b5d7_42010a8a0004row10_col3\" class=\"data row10 col3\" > ✔</td>\n",
       "                        <td id=\"T_13214190_e7d5_11ea_b5d7_42010a8a0004row10_col4\" class=\"data row10 col4\" > ✔</td>\n",
       "                        <td id=\"T_13214190_e7d5_11ea_b5d7_42010a8a0004row10_col5\" class=\"data row10 col5\" > ✔</td>\n",
       "                        <td id=\"T_13214190_e7d5_11ea_b5d7_42010a8a0004row10_col6\" class=\"data row10 col6\" > ✔</td>\n",
       "            </tr>\n",
       "            <tr>\n",
       "                                <td id=\"T_13214190_e7d5_11ea_b5d7_42010a8a0004row11_col0\" class=\"data row11 col0\" >2020-08-26</td>\n",
       "                        <td id=\"T_13214190_e7d5_11ea_b5d7_42010a8a0004row11_col1\" class=\"data row11 col1\" >219.7</td>\n",
       "                        <td id=\"T_13214190_e7d5_11ea_b5d7_42010a8a0004row11_col2\" class=\"data row11 col2\" >133.2</td>\n",
       "                        <td id=\"T_13214190_e7d5_11ea_b5d7_42010a8a0004row11_col3\" class=\"data row11 col3\" > ✔</td>\n",
       "                        <td id=\"T_13214190_e7d5_11ea_b5d7_42010a8a0004row11_col4\" class=\"data row11 col4\" > ✔</td>\n",
       "                        <td id=\"T_13214190_e7d5_11ea_b5d7_42010a8a0004row11_col5\" class=\"data row11 col5\" > ✔</td>\n",
       "                        <td id=\"T_13214190_e7d5_11ea_b5d7_42010a8a0004row11_col6\" class=\"data row11 col6\" > ✔</td>\n",
       "            </tr>\n",
       "            <tr>\n",
       "                                <td id=\"T_13214190_e7d5_11ea_b5d7_42010a8a0004row12_col0\" class=\"data row12 col0\" >2020-08-26</td>\n",
       "                        <td id=\"T_13214190_e7d5_11ea_b5d7_42010a8a0004row12_col1\" class=\"data row12 col1\" >219.7</td>\n",
       "                        <td id=\"T_13214190_e7d5_11ea_b5d7_42010a8a0004row12_col2\" class=\"data row12 col2\" >133.2</td>\n",
       "                        <td id=\"T_13214190_e7d5_11ea_b5d7_42010a8a0004row12_col3\" class=\"data row12 col3\" > ✔</td>\n",
       "                        <td id=\"T_13214190_e7d5_11ea_b5d7_42010a8a0004row12_col4\" class=\"data row12 col4\" > ✔</td>\n",
       "                        <td id=\"T_13214190_e7d5_11ea_b5d7_42010a8a0004row12_col5\" class=\"data row12 col5\" > ✔</td>\n",
       "                        <td id=\"T_13214190_e7d5_11ea_b5d7_42010a8a0004row12_col6\" class=\"data row12 col6\" > ✔</td>\n",
       "            </tr>\n",
       "            <tr>\n",
       "                                <td id=\"T_13214190_e7d5_11ea_b5d7_42010a8a0004row13_col0\" class=\"data row13 col0\" >2020-08-26</td>\n",
       "                        <td id=\"T_13214190_e7d5_11ea_b5d7_42010a8a0004row13_col1\" class=\"data row13 col1\" >219.7</td>\n",
       "                        <td id=\"T_13214190_e7d5_11ea_b5d7_42010a8a0004row13_col2\" class=\"data row13 col2\" >133.2</td>\n",
       "                        <td id=\"T_13214190_e7d5_11ea_b5d7_42010a8a0004row13_col3\" class=\"data row13 col3\" > ✔</td>\n",
       "                        <td id=\"T_13214190_e7d5_11ea_b5d7_42010a8a0004row13_col4\" class=\"data row13 col4\" > ✔</td>\n",
       "                        <td id=\"T_13214190_e7d5_11ea_b5d7_42010a8a0004row13_col5\" class=\"data row13 col5\" > ✔</td>\n",
       "                        <td id=\"T_13214190_e7d5_11ea_b5d7_42010a8a0004row13_col6\" class=\"data row13 col6\" > ✔</td>\n",
       "            </tr>\n",
       "    </tbody></table>"
      ],
      "text/plain": [
       "<pandas.io.formats.style.Styler at 0x7f6c6080c358>"
      ]
     },
     "execution_count": 12,
     "metadata": {},
     "output_type": "execute_result"
    }
   ],
   "source": [
    "# Style the pandas dataframe\n",
    "d = dict(selector=\"th\",\n",
    "         props=[('text-align', 'center')])\n",
    "\n",
    "result.reset_index().style\\\n",
    "    .set_properties(**{'width':'20em', 'text-align':'center'})\\\n",
    "    .set_properties(subset=['Date'], **{'font-weight': 'bold'})\\\n",
    "    .set_table_styles([d])\\\n",
    "    .set_precision(1)\\\n",
    "    .hide_index()"
   ]
  },
  {
   "cell_type": "markdown",
   "metadata": {
    "papermill": {
     "duration": 0.01083,
     "end_time": "2020-08-26T19:48:12.358813",
     "exception": false,
     "start_time": "2020-08-26T19:48:12.347983",
     "status": "completed"
    },
    "tags": []
   },
   "source": [
    "<sup>Notes: (1) 7 day average with a 7-day lag. (2) 14 day average. (3) 7 day average with a 7-day lag. (4) Change in 3 day average.</sup>"
   ]
  },
  {
   "cell_type": "code",
   "execution_count": 13,
   "metadata": {
    "execution": {
     "iopub.execute_input": "2020-08-26T19:48:12.385784Z",
     "iopub.status.busy": "2020-08-26T19:48:12.385293Z",
     "iopub.status.idle": "2020-08-26T19:48:12.388287Z",
     "shell.execute_reply": "2020-08-26T19:48:12.388664Z"
    },
    "papermill": {
     "duration": 0.019181,
     "end_time": "2020-08-26T19:48:12.388813",
     "exception": false,
     "start_time": "2020-08-26T19:48:12.369632",
     "status": "completed"
    },
    "tags": [
     "remove_input"
    ]
   },
   "outputs": [
    {
     "data": {
      "text/markdown": [
       "Table last updated by CDPH on August 26, 2020."
      ],
      "text/plain": [
       "<IPython.core.display.Markdown object>"
      ]
     },
     "execution_count": 13,
     "metadata": {},
     "output_type": "execute_result"
    }
   ],
   "source": [
    "md(update_tag)"
   ]
  },
  {
   "cell_type": "markdown",
   "metadata": {
    "papermill": {
     "duration": 0.010816,
     "end_time": "2020-08-26T19:48:12.410644",
     "exception": false,
     "start_time": "2020-08-26T19:48:12.399828",
     "status": "completed"
    },
    "tags": []
   },
   "source": [
    "## Tracking county closures in Santa Barbara"
   ]
  },
  {
   "cell_type": "markdown",
   "metadata": {
    "papermill": {
     "duration": 0.010881,
     "end_time": "2020-08-26T19:48:12.432560",
     "exception": false,
     "start_time": "2020-08-26T19:48:12.421679",
     "status": "completed"
    },
    "tags": []
   },
   "source": [
    "The state of California is using a data-driven approach informed by scientific evidence to tailor its response to COVID-19. Three dimensions of concern are monitored to assess whether a county should be placed on the County Monitoring List:\n",
    " 1. Elevated Disease Transmission\n",
    " 2. Increasing Hospitalization\n",
    " 3. Limited Hospital Capacity\n",
    "\n",
    "Once a county appears on the County Monitoring List for three consecutive days, indoor operations in the sectors listed in Section 3 of the [July 13th State Health Officer Order](https://www.cdph.ca.gov/Programs/CID/DCDC/CDPH%20Document%20Library/COVID-19/SHO%20Order%20Dimming%20Entire%20State%207-13-2020.pdf) must close.\n",
    "\n",
    "This table tracks where Santa Barbara stands in terms of the criteria for inclusion on the County Monitoring List. As of 20 August 2020, the criteria for inclusion on the monitoring list are:\n",
    "\n",
    "* Case rate >100 OR (Case rate >25 AND Positivity >8%)\n",
    "* \\>10% increase in hospitalizations\n",
    "* <20% ICU beds available OR <25% ventilators available\n",
    "\n",
    "If Santa Barbara meets the criteria for removal from the County Monitoring List for a certain metric, then a checkmark ✔ is displayed in the table.\n",
    "\n",
    "Read more at <https://covid19.ca.gov/roadmap-counties/>.\n",
    "\n",
    "Data source for county metrics: https://www.cdph.ca.gov/Programs/CID/DCDC/Pages/COVID-19/COVID19CountyDataTable.aspx."
   ]
  },
  {
   "cell_type": "markdown",
   "metadata": {
    "papermill": {
     "duration": 0.01088,
     "end_time": "2020-08-26T19:48:12.454244",
     "exception": false,
     "start_time": "2020-08-26T19:48:12.443364",
     "status": "completed"
    },
    "tags": []
   },
   "source": [
    "**See the code used to scrape the data: https://github.com/walice/COVID-SB/.**"
   ]
  },
  {
   "cell_type": "code",
   "execution_count": 14,
   "metadata": {
    "execution": {
     "iopub.execute_input": "2020-08-26T19:48:12.483422Z",
     "iopub.status.busy": "2020-08-26T19:48:12.482866Z",
     "iopub.status.idle": "2020-08-26T19:48:12.486136Z",
     "shell.execute_reply": "2020-08-26T19:48:12.486521Z"
    },
    "papermill": {
     "duration": 0.020803,
     "end_time": "2020-08-26T19:48:12.486678",
     "exception": false,
     "start_time": "2020-08-26T19:48:12.465875",
     "status": "completed"
    },
    "tags": [
     "remove_cell"
    ]
   },
   "outputs": [
    {
     "data": {
      "application/javascript": [
       "IPython.notebook.save_notebook()\n"
      ],
      "text/plain": [
       "<IPython.core.display.Javascript object>"
      ]
     },
     "metadata": {},
     "output_type": "display_data"
    }
   ],
   "source": [
    "%%javascript\n",
    "IPython.notebook.save_notebook()"
   ]
  },
  {
   "cell_type": "code",
   "execution_count": 15,
   "metadata": {
    "execution": {
     "iopub.execute_input": "2020-08-26T19:48:12.515656Z",
     "iopub.status.busy": "2020-08-26T19:48:12.515123Z",
     "iopub.status.idle": "2020-08-26T19:48:12.641834Z",
     "shell.execute_reply": "2020-08-26T19:48:12.640935Z"
    },
    "papermill": {
     "duration": 0.144028,
     "end_time": "2020-08-26T19:48:12.641976",
     "exception": false,
     "start_time": "2020-08-26T19:48:12.497948",
     "status": "completed"
    },
    "slideshow": {
     "slide_type": "skip"
    },
    "tags": [
     "remove_cell"
    ]
   },
   "outputs": [
    {
     "name": "stdout",
     "output_type": "stream",
     "text": [
      "/bin/sh: 1: jupyter: not found\r\n"
     ]
    }
   ],
   "source": [
    "# Convert Jupyter Notebook to HTML\n",
    "! jupyter nbconvert \"index.ipynb\" --to html --TagRemovePreprocessor.enabled=True --TagRemovePreprocessor.remove_cell_tags=\"['remove_cell']\" --TagRemovePreprocessor.remove_input_tags=\"['remove_input']\" --no-prompt"
   ]
  },
  {
   "cell_type": "code",
   "execution_count": 16,
   "metadata": {
    "execution": {
     "iopub.execute_input": "2020-08-26T19:48:12.672236Z",
     "iopub.status.busy": "2020-08-26T19:48:12.671624Z",
     "iopub.status.idle": "2020-08-26T19:48:12.673070Z",
     "shell.execute_reply": "2020-08-26T19:48:12.672672Z"
    },
    "papermill": {
     "duration": 0.018763,
     "end_time": "2020-08-26T19:48:12.673182",
     "exception": false,
     "start_time": "2020-08-26T19:48:12.654419",
     "status": "completed"
    },
    "tags": [
     "remove_cell"
    ]
   },
   "outputs": [],
   "source": [
    "# Create daily commit message\n",
    "now = datetime.datetime.now()\n",
    "commit_message = \"Last scraped on \" + str(now)"
   ]
  },
  {
   "cell_type": "code",
   "execution_count": null,
   "metadata": {
    "execution": {
     "iopub.execute_input": "2020-08-26T19:46:23.919724Z",
     "iopub.status.busy": "2020-08-26T19:46:23.919183Z",
     "iopub.status.idle": "2020-08-26T19:46:28.791643Z",
     "shell.execute_reply": "2020-08-26T19:46:28.790392Z"
    },
    "papermill": {
     "duration": null,
     "end_time": null,
     "exception": false,
     "start_time": "2020-08-26T19:48:12.684558",
     "status": "running"
    },
    "tags": [
     "remove_cell"
    ]
   },
   "outputs": [],
   "source": [
    "# Deploy to GitHub\n",
    "! git add .\n",
    "! echo $commit_message > commit_message.txt\n",
    "! git commit -F commit_message.txt\n",
    "! git push"
   ]
  }
 ],
 "metadata": {
  "celltoolbar": "Tags",
  "kernelspec": {
   "display_name": "Python 3",
   "language": "python",
   "name": "python3"
  },
  "language_info": {
   "codemirror_mode": {
    "name": "ipython",
    "version": 3
   },
   "file_extension": ".py",
   "mimetype": "text/x-python",
   "name": "python",
   "nbconvert_exporter": "python",
   "pygments_lexer": "ipython3",
   "version": "3.7.3"
  },
  "papermill": {
   "duration": null,
   "end_time": null,
   "environment_variables": {},
   "exception": null,
   "input_path": "/home/alice_lepissier/cron-job/index.ipynb",
   "output_path": "/home/alice_lepissier/cron-job/index.ipynb",
   "parameters": {},
   "start_time": "2020-08-26T19:48:03.545469",
   "version": "2.1.3"
  }
 },
 "nbformat": 4,
 "nbformat_minor": 4
}