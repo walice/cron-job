{
 "cells": [
  {
   "cell_type": "markdown",
   "metadata": {
    "papermill": {
     "duration": 0.011368,
     "end_time": "2020-08-26T07:56:03.317544",
     "exception": false,
     "start_time": "2020-08-26T07:56:03.306176",
     "status": "completed"
    },
    "tags": []
   },
   "source": [
    "# Daily COVID monitoring data for Santa Barbara county"
   ]
  },
  {
   "cell_type": "code",
   "execution_count": 1,
   "metadata": {
    "execution": {
     "iopub.execute_input": "2020-08-26T07:56:03.346054Z",
     "iopub.status.busy": "2020-08-26T07:56:03.345510Z",
     "iopub.status.idle": "2020-08-26T07:56:05.237989Z",
     "shell.execute_reply": "2020-08-26T07:56:05.238924Z"
    },
    "papermill": {
     "duration": 1.911025,
     "end_time": "2020-08-26T07:56:05.239130",
     "exception": false,
     "start_time": "2020-08-26T07:56:03.328105",
     "status": "completed"
    },
    "tags": [
     "remove_cell"
    ]
   },
   "outputs": [],
   "source": [
    "! jt -t grade3 -tf robotosans -cellw 1100"
   ]
  },
  {
   "cell_type": "markdown",
   "metadata": {
    "papermill": {
     "duration": 0.010371,
     "end_time": "2020-08-26T07:56:05.260069",
     "exception": false,
     "start_time": "2020-08-26T07:56:05.249698",
     "status": "completed"
    },
    "tags": []
   },
   "source": [
    "This table is automatically updated with new daily COVID data for the county of Santa Barbara, CA. Every day, the California Department of Public Health publishes COVID tracking metrics for each county, but does not save the previous day's data. This tool keeps track of the daily metrics that are used to monitor progress towards safe reopening in California."
   ]
  },
  {
   "cell_type": "code",
   "execution_count": 2,
   "metadata": {
    "execution": {
     "iopub.execute_input": "2020-08-26T07:56:05.287050Z",
     "iopub.status.busy": "2020-08-26T07:56:05.286512Z",
     "iopub.status.idle": "2020-08-26T07:56:06.183105Z",
     "shell.execute_reply": "2020-08-26T07:56:06.183927Z"
    },
    "papermill": {
     "duration": 0.914307,
     "end_time": "2020-08-26T07:56:06.184094",
     "exception": false,
     "start_time": "2020-08-26T07:56:05.269787",
     "status": "completed"
    },
    "slideshow": {
     "slide_type": "skip"
    },
    "tags": [
     "remove_cell"
    ]
   },
   "outputs": [],
   "source": [
    "# Preamble\n",
    "import os\n",
    "from IPython.display import Markdown as md\n",
    "import IPython\n",
    "import requests\n",
    "from bs4 import BeautifulSoup\n",
    "import re\n",
    "import pandas as pd\n",
    "import datetime\n",
    "import gspread\n",
    "from oauth2client.service_account import ServiceAccountCredentials"
   ]
  },
  {
   "cell_type": "code",
   "execution_count": 3,
   "metadata": {
    "execution": {
     "iopub.execute_input": "2020-08-26T07:56:06.209524Z",
     "iopub.status.busy": "2020-08-26T07:56:06.208939Z",
     "iopub.status.idle": "2020-08-26T07:56:06.210405Z",
     "shell.execute_reply": "2020-08-26T07:56:06.209954Z"
    },
    "papermill": {
     "duration": 0.016123,
     "end_time": "2020-08-26T07:56:06.210525",
     "exception": false,
     "start_time": "2020-08-26T07:56:06.194402",
     "status": "completed"
    },
    "tags": [
     "remove_cell"
    ]
   },
   "outputs": [],
   "source": [
    "# Change working directory (so that Windows task scheduler does not complain)\n",
    "# os.chdir(\"/home/alice_lepissier/cron-job\")"
   ]
  },
  {
   "cell_type": "code",
   "execution_count": 4,
   "metadata": {
    "execution": {
     "iopub.execute_input": "2020-08-26T07:56:06.235963Z",
     "iopub.status.busy": "2020-08-26T07:56:06.235365Z",
     "iopub.status.idle": "2020-08-26T07:56:07.809053Z",
     "shell.execute_reply": "2020-08-26T07:56:07.809834Z"
    },
    "papermill": {
     "duration": 1.589793,
     "end_time": "2020-08-26T07:56:07.809998",
     "exception": false,
     "start_time": "2020-08-26T07:56:06.220205",
     "status": "completed"
    },
    "slideshow": {
     "slide_type": "skip"
    },
    "tags": [
     "remove_cell"
    ]
   },
   "outputs": [],
   "source": [
    "# Request content from URL\n",
    "html_string = requests.get('https://www.cdph.ca.gov/Programs/CID/DCDC/Pages/COVID-19/COVID19CountyDataTable.aspx').content"
   ]
  },
  {
   "cell_type": "code",
   "execution_count": 5,
   "metadata": {
    "execution": {
     "iopub.execute_input": "2020-08-26T07:56:07.839429Z",
     "iopub.status.busy": "2020-08-26T07:56:07.838950Z",
     "iopub.status.idle": "2020-08-26T07:56:07.921935Z",
     "shell.execute_reply": "2020-08-26T07:56:07.922752Z"
    },
    "papermill": {
     "duration": 0.102341,
     "end_time": "2020-08-26T07:56:07.922912",
     "exception": false,
     "start_time": "2020-08-26T07:56:07.820571",
     "status": "completed"
    },
    "slideshow": {
     "slide_type": "skip"
    },
    "tags": [
     "remove_cell"
    ]
   },
   "outputs": [],
   "source": [
    "# Parse HTML\n",
    "soup = BeautifulSoup(html_string, 'html.parser')"
   ]
  },
  {
   "cell_type": "code",
   "execution_count": 6,
   "metadata": {
    "execution": {
     "iopub.execute_input": "2020-08-26T07:56:07.952784Z",
     "iopub.status.busy": "2020-08-26T07:56:07.952265Z",
     "iopub.status.idle": "2020-08-26T07:56:07.959150Z",
     "shell.execute_reply": "2020-08-26T07:56:07.959846Z"
    },
    "papermill": {
     "duration": 0.026628,
     "end_time": "2020-08-26T07:56:07.959999",
     "exception": false,
     "start_time": "2020-08-26T07:56:07.933371",
     "status": "completed"
    },
    "slideshow": {
     "slide_type": "skip"
    },
    "tags": [
     "remove_cell"
    ]
   },
   "outputs": [],
   "source": [
    "# Extract data for Santa Barbara\n",
    "table = soup.find_all(\"tr\", class_=\"ms-rteTableEvenRow-3\")\n",
    "SB = table[21]"
   ]
  },
  {
   "cell_type": "code",
   "execution_count": 7,
   "metadata": {
    "execution": {
     "iopub.execute_input": "2020-08-26T07:56:07.988715Z",
     "iopub.status.busy": "2020-08-26T07:56:07.988192Z",
     "iopub.status.idle": "2020-08-26T07:56:07.998441Z",
     "shell.execute_reply": "2020-08-26T07:56:07.999159Z"
    },
    "papermill": {
     "duration": 0.029133,
     "end_time": "2020-08-26T07:56:07.999319",
     "exception": false,
     "start_time": "2020-08-26T07:56:07.970186",
     "status": "completed"
    },
    "slideshow": {
     "slide_type": "skip"
    },
    "tags": [
     "remove_cell"
    ]
   },
   "outputs": [],
   "source": [
    "# Avg # tests per day (per 100,000 population)\n",
    "daily_tests = SB.find_all(\"td\", class_=\"ms-rteTableOddCol-3\")[0].text\n",
    "\n",
    "# Case rate per 100,000\n",
    "case_rate = SB.find_all(\"td\", class_=\"ms-rteTableEvenCol-3\")[1].text\n",
    "\n",
    "# Testing positivity (%)\n",
    "test_positivity = SB.find_all(\"td\", class_=\"ms-rteTableOddCol-3\")[1].text\n",
    "\n",
    "# % Change in 3-day avg COVID+ hospitalized patients\n",
    "change_hospit = SB.find_all(\"td\", class_=\"ms-rteTableEvenCol-3\")[2].text\n",
    "\n",
    "# % ICU beds currently available\n",
    "ICU_beds = SB.find_all(\"td\", class_=\"ms-rteTableOddCol-3\")[2].text\n",
    "\n",
    "# % Ventilators currently available\n",
    "ventilators = SB.find_all(\"td\", class_=\"ms-rteTableEvenCol-3\")[3].text\n",
    "\n",
    "# Extract date of last update\n",
    "update_date = soup.find_all(\"span\", class_=\"ms-rteStyle-Accent1\")[1]\\\n",
    "    .find(\"em\").text"
   ]
  },
  {
   "cell_type": "code",
   "execution_count": 8,
   "metadata": {
    "execution": {
     "iopub.execute_input": "2020-08-26T07:56:08.025658Z",
     "iopub.status.busy": "2020-08-26T07:56:08.025042Z",
     "iopub.status.idle": "2020-08-26T07:56:08.026569Z",
     "shell.execute_reply": "2020-08-26T07:56:08.026089Z"
    },
    "papermill": {
     "duration": 0.017076,
     "end_time": "2020-08-26T07:56:08.026688",
     "exception": false,
     "start_time": "2020-08-26T07:56:08.009612",
     "status": "completed"
    },
    "tags": [
     "remove_cell"
    ]
   },
   "outputs": [],
   "source": [
    "# Create updated date string\n",
    "update_tag = \"Table last updated by CDPH on \" + update_date.split(\" on \", 1)[1] + \".\""
   ]
  },
  {
   "cell_type": "code",
   "execution_count": 9,
   "metadata": {
    "execution": {
     "iopub.execute_input": "2020-08-26T07:56:08.051792Z",
     "iopub.status.busy": "2020-08-26T07:56:08.051245Z",
     "iopub.status.idle": "2020-08-26T07:56:08.120339Z",
     "shell.execute_reply": "2020-08-26T07:56:08.121121Z"
    },
    "papermill": {
     "duration": 0.08413,
     "end_time": "2020-08-26T07:56:08.121282",
     "exception": false,
     "start_time": "2020-08-26T07:56:08.037152",
     "status": "completed"
    },
    "slideshow": {
     "slide_type": "skip"
    },
    "tags": [
     "remove_cell"
    ]
   },
   "outputs": [],
   "source": [
    "# Set up Google Sheet API\n",
    "scope = [\"https://spreadsheets.google.com/feeds\",'https://www.googleapis.com/auth/spreadsheets',\"https://www.googleapis.com/auth/drive.file\",\"https://www.googleapis.com/auth/drive\"]\n",
    "creds = ServiceAccountCredentials.from_json_keyfile_name(\"credentials.json\", scope)\n",
    "client = gspread.authorize(creds)"
   ]
  },
  {
   "cell_type": "code",
   "execution_count": 10,
   "metadata": {
    "execution": {
     "iopub.execute_input": "2020-08-26T07:56:08.147514Z",
     "iopub.status.busy": "2020-08-26T07:56:08.147018Z",
     "iopub.status.idle": "2020-08-26T07:56:10.561610Z",
     "shell.execute_reply": "2020-08-26T07:56:10.562438Z"
    },
    "papermill": {
     "duration": 2.430668,
     "end_time": "2020-08-26T07:56:10.562596",
     "exception": false,
     "start_time": "2020-08-26T07:56:08.131928",
     "status": "completed"
    },
    "slideshow": {
     "slide_type": "skip"
    },
    "tags": [
     "remove_cell"
    ]
   },
   "outputs": [
    {
     "data": {
      "text/plain": [
       "{'spreadsheetId': '1pcqdMzKtea2Oq3BDmdAOQ21gZjCssieKI0692VfNLXU',\n",
       " 'updatedRange': 'Sheet1!A2:G2',\n",
       " 'updatedRows': 1,\n",
       " 'updatedColumns': 7,\n",
       " 'updatedCells': 7}"
      ]
     },
     "execution_count": 10,
     "metadata": {},
     "output_type": "execute_result"
    }
   ],
   "source": [
    "# Append daily data as a new row in Google Sheet\n",
    "sheet = client.open(\"Test cron job\").sheet1\n",
    "insertRow = [datetime.date.today().strftime(\"%Y-%m-%d\"),\n",
    "             daily_tests,\n",
    "             case_rate,\n",
    "             test_positivity,\n",
    "             change_hospit,\n",
    "             ICU_beds,\n",
    "             ventilators]\n",
    "sheet.insert_row(insertRow, 2)"
   ]
  },
  {
   "cell_type": "code",
   "execution_count": 11,
   "metadata": {
    "execution": {
     "iopub.execute_input": "2020-08-26T07:56:10.589708Z",
     "iopub.status.busy": "2020-08-26T07:56:10.589203Z",
     "iopub.status.idle": "2020-08-26T07:56:11.790755Z",
     "shell.execute_reply": "2020-08-26T07:56:11.791573Z"
    },
    "papermill": {
     "duration": 1.218089,
     "end_time": "2020-08-26T07:56:11.791741",
     "exception": false,
     "start_time": "2020-08-26T07:56:10.573652",
     "status": "completed"
    },
    "scrolled": true,
    "slideshow": {
     "slide_type": "slide"
    },
    "tags": [
     "remove_cell"
    ]
   },
   "outputs": [],
   "source": [
    "# Extract data from Google Sheet as pandas dataframe\n",
    "sheet = client.open(\"Test cron job\").sheet1\n",
    "data = sheet.get_all_records()\n",
    "result = pd.DataFrame(data).set_index(\"Date\")"
   ]
  },
  {
   "cell_type": "code",
   "execution_count": 12,
   "metadata": {
    "execution": {
     "iopub.execute_input": "2020-08-26T07:56:11.819931Z",
     "iopub.status.busy": "2020-08-26T07:56:11.819439Z",
     "iopub.status.idle": "2020-08-26T07:56:13.296525Z",
     "shell.execute_reply": "2020-08-26T07:56:13.297247Z"
    },
    "papermill": {
     "duration": 1.494179,
     "end_time": "2020-08-26T07:56:13.297411",
     "exception": false,
     "start_time": "2020-08-26T07:56:11.803232",
     "status": "completed"
    },
    "scrolled": true,
    "tags": [
     "remove_input"
    ]
   },
   "outputs": [
    {
     "data": {
      "text/html": [
       "<style  type=\"text/css\" >\n",
       "    #T_9c99dc20_e771_11ea_a710_42010a8a0004 th {\n",
       "          text-align: center;\n",
       "    }#T_9c99dc20_e771_11ea_a710_42010a8a0004row0_col0,#T_9c99dc20_e771_11ea_a710_42010a8a0004row1_col0,#T_9c99dc20_e771_11ea_a710_42010a8a0004row2_col0,#T_9c99dc20_e771_11ea_a710_42010a8a0004row3_col0,#T_9c99dc20_e771_11ea_a710_42010a8a0004row4_col0,#T_9c99dc20_e771_11ea_a710_42010a8a0004row5_col0,#T_9c99dc20_e771_11ea_a710_42010a8a0004row6_col0,#T_9c99dc20_e771_11ea_a710_42010a8a0004row7_col0,#T_9c99dc20_e771_11ea_a710_42010a8a0004row8_col0,#T_9c99dc20_e771_11ea_a710_42010a8a0004row9_col0,#T_9c99dc20_e771_11ea_a710_42010a8a0004row10_col0,#T_9c99dc20_e771_11ea_a710_42010a8a0004row11_col0,#T_9c99dc20_e771_11ea_a710_42010a8a0004row12_col0,#T_9c99dc20_e771_11ea_a710_42010a8a0004row13_col0,#T_9c99dc20_e771_11ea_a710_42010a8a0004row14_col0,#T_9c99dc20_e771_11ea_a710_42010a8a0004row15_col0,#T_9c99dc20_e771_11ea_a710_42010a8a0004row16_col0,#T_9c99dc20_e771_11ea_a710_42010a8a0004row17_col0,#T_9c99dc20_e771_11ea_a710_42010a8a0004row18_col0,#T_9c99dc20_e771_11ea_a710_42010a8a0004row19_col0{\n",
       "            width:  20em;\n",
       "            text-align:  center;\n",
       "            font-weight:  bold;\n",
       "        }#T_9c99dc20_e771_11ea_a710_42010a8a0004row0_col1,#T_9c99dc20_e771_11ea_a710_42010a8a0004row0_col2,#T_9c99dc20_e771_11ea_a710_42010a8a0004row1_col1,#T_9c99dc20_e771_11ea_a710_42010a8a0004row1_col2,#T_9c99dc20_e771_11ea_a710_42010a8a0004row2_col1,#T_9c99dc20_e771_11ea_a710_42010a8a0004row2_col2,#T_9c99dc20_e771_11ea_a710_42010a8a0004row3_col1,#T_9c99dc20_e771_11ea_a710_42010a8a0004row3_col2,#T_9c99dc20_e771_11ea_a710_42010a8a0004row4_col1,#T_9c99dc20_e771_11ea_a710_42010a8a0004row4_col2,#T_9c99dc20_e771_11ea_a710_42010a8a0004row5_col1,#T_9c99dc20_e771_11ea_a710_42010a8a0004row5_col2,#T_9c99dc20_e771_11ea_a710_42010a8a0004row6_col1,#T_9c99dc20_e771_11ea_a710_42010a8a0004row6_col2,#T_9c99dc20_e771_11ea_a710_42010a8a0004row7_col1,#T_9c99dc20_e771_11ea_a710_42010a8a0004row7_col2,#T_9c99dc20_e771_11ea_a710_42010a8a0004row8_col1,#T_9c99dc20_e771_11ea_a710_42010a8a0004row8_col2,#T_9c99dc20_e771_11ea_a710_42010a8a0004row9_col1,#T_9c99dc20_e771_11ea_a710_42010a8a0004row9_col2,#T_9c99dc20_e771_11ea_a710_42010a8a0004row10_col1,#T_9c99dc20_e771_11ea_a710_42010a8a0004row10_col2,#T_9c99dc20_e771_11ea_a710_42010a8a0004row11_col1,#T_9c99dc20_e771_11ea_a710_42010a8a0004row11_col2,#T_9c99dc20_e771_11ea_a710_42010a8a0004row12_col1,#T_9c99dc20_e771_11ea_a710_42010a8a0004row12_col2,#T_9c99dc20_e771_11ea_a710_42010a8a0004row13_col1,#T_9c99dc20_e771_11ea_a710_42010a8a0004row13_col2,#T_9c99dc20_e771_11ea_a710_42010a8a0004row14_col1,#T_9c99dc20_e771_11ea_a710_42010a8a0004row14_col2,#T_9c99dc20_e771_11ea_a710_42010a8a0004row15_col1,#T_9c99dc20_e771_11ea_a710_42010a8a0004row15_col2,#T_9c99dc20_e771_11ea_a710_42010a8a0004row16_col1,#T_9c99dc20_e771_11ea_a710_42010a8a0004row16_col2,#T_9c99dc20_e771_11ea_a710_42010a8a0004row17_col1,#T_9c99dc20_e771_11ea_a710_42010a8a0004row17_col2,#T_9c99dc20_e771_11ea_a710_42010a8a0004row18_col1,#T_9c99dc20_e771_11ea_a710_42010a8a0004row18_col2,#T_9c99dc20_e771_11ea_a710_42010a8a0004row19_col1,#T_9c99dc20_e771_11ea_a710_42010a8a0004row19_col2{\n",
       "            width:  20em;\n",
       "            text-align:  center;\n",
       "        }</style><table id=\"T_9c99dc20_e771_11ea_a710_42010a8a0004\" ><thead>    <tr>        <th class=\"col_heading level0 col0\" >Date</th>        <th class=\"col_heading level0 col1\" >Time</th>        <th class=\"col_heading level0 col2\" ></th>    </tr></thead><tbody>\n",
       "                <tr>\n",
       "                                <td id=\"T_9c99dc20_e771_11ea_a710_42010a8a0004row0_col0\" class=\"data row0 col0\" >2020-08-26</td>\n",
       "                        <td id=\"T_9c99dc20_e771_11ea_a710_42010a8a0004row0_col1\" class=\"data row0 col1\" >222.1</td>\n",
       "                        <td id=\"T_9c99dc20_e771_11ea_a710_42010a8a0004row0_col2\" class=\"data row0 col2\" > ✔</td>\n",
       "            </tr>\n",
       "            <tr>\n",
       "                                <td id=\"T_9c99dc20_e771_11ea_a710_42010a8a0004row1_col0\" class=\"data row1 col0\" >2020-08-26</td>\n",
       "                        <td id=\"T_9c99dc20_e771_11ea_a710_42010a8a0004row1_col1\" class=\"data row1 col1\" >00:52:08</td>\n",
       "                        <td id=\"T_9c99dc20_e771_11ea_a710_42010a8a0004row1_col2\" class=\"data row1 col2\" ></td>\n",
       "            </tr>\n",
       "            <tr>\n",
       "                                <td id=\"T_9c99dc20_e771_11ea_a710_42010a8a0004row2_col0\" class=\"data row2 col0\" >2020-08-26</td>\n",
       "                        <td id=\"T_9c99dc20_e771_11ea_a710_42010a8a0004row2_col1\" class=\"data row2 col1\" >222.1</td>\n",
       "                        <td id=\"T_9c99dc20_e771_11ea_a710_42010a8a0004row2_col2\" class=\"data row2 col2\" > ✔</td>\n",
       "            </tr>\n",
       "            <tr>\n",
       "                                <td id=\"T_9c99dc20_e771_11ea_a710_42010a8a0004row3_col0\" class=\"data row3 col0\" >2020-08-26</td>\n",
       "                        <td id=\"T_9c99dc20_e771_11ea_a710_42010a8a0004row3_col1\" class=\"data row3 col1\" >222.1</td>\n",
       "                        <td id=\"T_9c99dc20_e771_11ea_a710_42010a8a0004row3_col2\" class=\"data row3 col2\" > ✔</td>\n",
       "            </tr>\n",
       "            <tr>\n",
       "                                <td id=\"T_9c99dc20_e771_11ea_a710_42010a8a0004row4_col0\" class=\"data row4 col0\" >2020-08-26</td>\n",
       "                        <td id=\"T_9c99dc20_e771_11ea_a710_42010a8a0004row4_col1\" class=\"data row4 col1\" >222.1</td>\n",
       "                        <td id=\"T_9c99dc20_e771_11ea_a710_42010a8a0004row4_col2\" class=\"data row4 col2\" > ✔</td>\n",
       "            </tr>\n",
       "            <tr>\n",
       "                                <td id=\"T_9c99dc20_e771_11ea_a710_42010a8a0004row5_col0\" class=\"data row5 col0\" >2020-08-26</td>\n",
       "                        <td id=\"T_9c99dc20_e771_11ea_a710_42010a8a0004row5_col1\" class=\"data row5 col1\" >222.1</td>\n",
       "                        <td id=\"T_9c99dc20_e771_11ea_a710_42010a8a0004row5_col2\" class=\"data row5 col2\" > ✔</td>\n",
       "            </tr>\n",
       "            <tr>\n",
       "                                <td id=\"T_9c99dc20_e771_11ea_a710_42010a8a0004row6_col0\" class=\"data row6 col0\" >2020-08-26</td>\n",
       "                        <td id=\"T_9c99dc20_e771_11ea_a710_42010a8a0004row6_col1\" class=\"data row6 col1\" >23:18:03</td>\n",
       "                        <td id=\"T_9c99dc20_e771_11ea_a710_42010a8a0004row6_col2\" class=\"data row6 col2\" ></td>\n",
       "            </tr>\n",
       "            <tr>\n",
       "                                <td id=\"T_9c99dc20_e771_11ea_a710_42010a8a0004row7_col0\" class=\"data row7 col0\" >2020-08-26</td>\n",
       "                        <td id=\"T_9c99dc20_e771_11ea_a710_42010a8a0004row7_col1\" class=\"data row7 col1\" >23:17:03</td>\n",
       "                        <td id=\"T_9c99dc20_e771_11ea_a710_42010a8a0004row7_col2\" class=\"data row7 col2\" ></td>\n",
       "            </tr>\n",
       "            <tr>\n",
       "                                <td id=\"T_9c99dc20_e771_11ea_a710_42010a8a0004row8_col0\" class=\"data row8 col0\" >2020-08-26</td>\n",
       "                        <td id=\"T_9c99dc20_e771_11ea_a710_42010a8a0004row8_col1\" class=\"data row8 col1\" >23:16:03</td>\n",
       "                        <td id=\"T_9c99dc20_e771_11ea_a710_42010a8a0004row8_col2\" class=\"data row8 col2\" ></td>\n",
       "            </tr>\n",
       "            <tr>\n",
       "                                <td id=\"T_9c99dc20_e771_11ea_a710_42010a8a0004row9_col0\" class=\"data row9 col0\" >2020-08-26</td>\n",
       "                        <td id=\"T_9c99dc20_e771_11ea_a710_42010a8a0004row9_col1\" class=\"data row9 col1\" >23:15:04</td>\n",
       "                        <td id=\"T_9c99dc20_e771_11ea_a710_42010a8a0004row9_col2\" class=\"data row9 col2\" ></td>\n",
       "            </tr>\n",
       "            <tr>\n",
       "                                <td id=\"T_9c99dc20_e771_11ea_a710_42010a8a0004row10_col0\" class=\"data row10 col0\" >2020-08-26</td>\n",
       "                        <td id=\"T_9c99dc20_e771_11ea_a710_42010a8a0004row10_col1\" class=\"data row10 col1\" >23:13:46</td>\n",
       "                        <td id=\"T_9c99dc20_e771_11ea_a710_42010a8a0004row10_col2\" class=\"data row10 col2\" ></td>\n",
       "            </tr>\n",
       "            <tr>\n",
       "                                <td id=\"T_9c99dc20_e771_11ea_a710_42010a8a0004row11_col0\" class=\"data row11 col0\" >2020-08-26</td>\n",
       "                        <td id=\"T_9c99dc20_e771_11ea_a710_42010a8a0004row11_col1\" class=\"data row11 col1\" >22:57:26</td>\n",
       "                        <td id=\"T_9c99dc20_e771_11ea_a710_42010a8a0004row11_col2\" class=\"data row11 col2\" ></td>\n",
       "            </tr>\n",
       "            <tr>\n",
       "                                <td id=\"T_9c99dc20_e771_11ea_a710_42010a8a0004row12_col0\" class=\"data row12 col0\" >2020-08-26</td>\n",
       "                        <td id=\"T_9c99dc20_e771_11ea_a710_42010a8a0004row12_col1\" class=\"data row12 col1\" >22:54:28</td>\n",
       "                        <td id=\"T_9c99dc20_e771_11ea_a710_42010a8a0004row12_col2\" class=\"data row12 col2\" ></td>\n",
       "            </tr>\n",
       "            <tr>\n",
       "                                <td id=\"T_9c99dc20_e771_11ea_a710_42010a8a0004row13_col0\" class=\"data row13 col0\" >2020-08-26</td>\n",
       "                        <td id=\"T_9c99dc20_e771_11ea_a710_42010a8a0004row13_col1\" class=\"data row13 col1\" >22:40:42</td>\n",
       "                        <td id=\"T_9c99dc20_e771_11ea_a710_42010a8a0004row13_col2\" class=\"data row13 col2\" ></td>\n",
       "            </tr>\n",
       "            <tr>\n",
       "                                <td id=\"T_9c99dc20_e771_11ea_a710_42010a8a0004row14_col0\" class=\"data row14 col0\" >2020-08-26</td>\n",
       "                        <td id=\"T_9c99dc20_e771_11ea_a710_42010a8a0004row14_col1\" class=\"data row14 col1\" >22:12:23</td>\n",
       "                        <td id=\"T_9c99dc20_e771_11ea_a710_42010a8a0004row14_col2\" class=\"data row14 col2\" ></td>\n",
       "            </tr>\n",
       "            <tr>\n",
       "                                <td id=\"T_9c99dc20_e771_11ea_a710_42010a8a0004row15_col0\" class=\"data row15 col0\" >2020-08-26</td>\n",
       "                        <td id=\"T_9c99dc20_e771_11ea_a710_42010a8a0004row15_col1\" class=\"data row15 col1\" >20:23:02</td>\n",
       "                        <td id=\"T_9c99dc20_e771_11ea_a710_42010a8a0004row15_col2\" class=\"data row15 col2\" ></td>\n",
       "            </tr>\n",
       "            <tr>\n",
       "                                <td id=\"T_9c99dc20_e771_11ea_a710_42010a8a0004row16_col0\" class=\"data row16 col0\" >2020-08-26</td>\n",
       "                        <td id=\"T_9c99dc20_e771_11ea_a710_42010a8a0004row16_col1\" class=\"data row16 col1\" >20:14:20</td>\n",
       "                        <td id=\"T_9c99dc20_e771_11ea_a710_42010a8a0004row16_col2\" class=\"data row16 col2\" ></td>\n",
       "            </tr>\n",
       "            <tr>\n",
       "                                <td id=\"T_9c99dc20_e771_11ea_a710_42010a8a0004row17_col0\" class=\"data row17 col0\" >2020-08-26</td>\n",
       "                        <td id=\"T_9c99dc20_e771_11ea_a710_42010a8a0004row17_col1\" class=\"data row17 col1\" >20:11:24</td>\n",
       "                        <td id=\"T_9c99dc20_e771_11ea_a710_42010a8a0004row17_col2\" class=\"data row17 col2\" ></td>\n",
       "            </tr>\n",
       "            <tr>\n",
       "                                <td id=\"T_9c99dc20_e771_11ea_a710_42010a8a0004row18_col0\" class=\"data row18 col0\" >2020-08-26</td>\n",
       "                        <td id=\"T_9c99dc20_e771_11ea_a710_42010a8a0004row18_col1\" class=\"data row18 col1\" >19:18:55</td>\n",
       "                        <td id=\"T_9c99dc20_e771_11ea_a710_42010a8a0004row18_col2\" class=\"data row18 col2\" ></td>\n",
       "            </tr>\n",
       "            <tr>\n",
       "                                <td id=\"T_9c99dc20_e771_11ea_a710_42010a8a0004row19_col0\" class=\"data row19 col0\" >Date</td>\n",
       "                        <td id=\"T_9c99dc20_e771_11ea_a710_42010a8a0004row19_col1\" class=\"data row19 col1\" >Daily tests (per 100,000)¹</td>\n",
       "                        <td id=\"T_9c99dc20_e771_11ea_a710_42010a8a0004row19_col2\" class=\"data row19 col2\" >Ventilators (available (%)</td>\n",
       "            </tr>\n",
       "    </tbody></table>"
      ],
      "text/plain": [
       "<pandas.io.formats.style.Styler at 0x7f6a08680128>"
      ]
     },
     "execution_count": 12,
     "metadata": {},
     "output_type": "execute_result"
    }
   ],
   "source": [
    "# Style the pandas dataframe\n",
    "d = dict(selector=\"th\",\n",
    "         props=[('text-align', 'center')])\n",
    "\n",
    "result.reset_index().style\\\n",
    "    .set_properties(**{'width':'20em', 'text-align':'center'})\\\n",
    "    .set_properties(subset=['Date'], **{'font-weight': 'bold'})\\\n",
    "    .set_table_styles([d])\\\n",
    "    .set_precision(1)\\\n",
    "    .hide_index()"
   ]
  },
  {
   "cell_type": "markdown",
   "metadata": {
    "papermill": {
     "duration": 0.011504,
     "end_time": "2020-08-26T07:56:13.321080",
     "exception": false,
     "start_time": "2020-08-26T07:56:13.309576",
     "status": "completed"
    },
    "tags": []
   },
   "source": [
    "<sup>Notes: (1) 7 day average with a 7-day lag. (2) 14 day average. (3) 7 day average with a 7-day lag. (4) Change in 3 day average.</sup>"
   ]
  },
  {
   "cell_type": "code",
   "execution_count": 13,
   "metadata": {
    "execution": {
     "iopub.execute_input": "2020-08-26T07:56:13.349530Z",
     "iopub.status.busy": "2020-08-26T07:56:13.349042Z",
     "iopub.status.idle": "2020-08-26T07:56:13.352032Z",
     "shell.execute_reply": "2020-08-26T07:56:13.352417Z"
    },
    "papermill": {
     "duration": 0.019912,
     "end_time": "2020-08-26T07:56:13.352560",
     "exception": false,
     "start_time": "2020-08-26T07:56:13.332648",
     "status": "completed"
    },
    "tags": [
     "remove_input"
    ]
   },
   "outputs": [
    {
     "data": {
      "text/markdown": [
       "Table last updated by CDPH on August 25, 2020."
      ],
      "text/plain": [
       "<IPython.core.display.Markdown object>"
      ]
     },
     "execution_count": 13,
     "metadata": {},
     "output_type": "execute_result"
    }
   ],
   "source": [
    "md(update_tag)"
   ]
  },
  {
   "cell_type": "markdown",
   "metadata": {
    "papermill": {
     "duration": 0.011619,
     "end_time": "2020-08-26T07:56:13.375990",
     "exception": false,
     "start_time": "2020-08-26T07:56:13.364371",
     "status": "completed"
    },
    "tags": []
   },
   "source": [
    "## Tracking county closures in Santa Barbara"
   ]
  },
  {
   "cell_type": "markdown",
   "metadata": {
    "papermill": {
     "duration": 0.011387,
     "end_time": "2020-08-26T07:56:13.398919",
     "exception": false,
     "start_time": "2020-08-26T07:56:13.387532",
     "status": "completed"
    },
    "tags": []
   },
   "source": [
    "The state of California is using a data-driven approach informed by scientific evidence to tailor its response to COVID-19. Three dimensions of concern are monitored to assess whether a county should be placed on the County Monitoring List:\n",
    " 1. Elevated Disease Transmission\n",
    " 2. Increasing Hospitalization\n",
    " 3. Limited Hospital Capacity\n",
    "\n",
    "Once a county appears on the County Monitoring List for three consecutive days, indoor operations in the sectors listed in Section 3 of the [July 13th State Health Officer Order](https://www.cdph.ca.gov/Programs/CID/DCDC/CDPH%20Document%20Library/COVID-19/SHO%20Order%20Dimming%20Entire%20State%207-13-2020.pdf) must close.\n",
    "\n",
    "This table tracks where Santa Barbara stands in terms of the criteria for inclusion on the County Monitoring List. As of 20 August 2020, the criteria for inclusion on the monitoring list are:\n",
    "\n",
    "* Case rate >100 OR (Case rate >25 AND Positivity >8%)\n",
    "* \\>10% increase in hospitalizations\n",
    "* <20% ICU beds available OR <25% ventilators available\n",
    "\n",
    "If Santa Barbara meets the criteria for removal from the County Monitoring List for a certain metric, then a checkmark ✔ is displayed in the table.\n",
    "\n",
    "Read more at <https://covid19.ca.gov/roadmap-counties/>.\n",
    "\n",
    "Data source for county metrics: https://www.cdph.ca.gov/Programs/CID/DCDC/Pages/COVID-19/COVID19CountyDataTable.aspx."
   ]
  },
  {
   "cell_type": "markdown",
   "metadata": {
    "papermill": {
     "duration": 0.011484,
     "end_time": "2020-08-26T07:56:13.422281",
     "exception": false,
     "start_time": "2020-08-26T07:56:13.410797",
     "status": "completed"
    },
    "tags": []
   },
   "source": [
    "**See the code used to scrape the data: https://github.com/walice/COVID-SB/.**"
   ]
  },
  {
   "cell_type": "code",
   "execution_count": 14,
   "metadata": {
    "execution": {
     "iopub.execute_input": "2020-08-26T07:56:13.451499Z",
     "iopub.status.busy": "2020-08-26T07:56:13.450996Z",
     "iopub.status.idle": "2020-08-26T07:56:13.453997Z",
     "shell.execute_reply": "2020-08-26T07:56:13.454385Z"
    },
    "papermill": {
     "duration": 0.020766,
     "end_time": "2020-08-26T07:56:13.454532",
     "exception": false,
     "start_time": "2020-08-26T07:56:13.433766",
     "status": "completed"
    },
    "tags": [
     "remove_cell"
    ]
   },
   "outputs": [
    {
     "data": {
      "application/javascript": [
       "IPython.notebook.save_notebook()\n"
      ],
      "text/plain": [
       "<IPython.core.display.Javascript object>"
      ]
     },
     "metadata": {},
     "output_type": "display_data"
    }
   ],
   "source": [
    "%%javascript\n",
    "IPython.notebook.save_notebook()"
   ]
  },
  {
   "cell_type": "code",
   "execution_count": 15,
   "metadata": {
    "execution": {
     "iopub.execute_input": "2020-08-26T07:56:13.486823Z",
     "iopub.status.busy": "2020-08-26T07:56:13.486295Z",
     "iopub.status.idle": "2020-08-26T07:56:14.767604Z",
     "shell.execute_reply": "2020-08-26T07:56:14.768486Z"
    },
    "papermill": {
     "duration": 1.302341,
     "end_time": "2020-08-26T07:56:14.768654",
     "exception": false,
     "start_time": "2020-08-26T07:56:13.466313",
     "status": "completed"
    },
    "slideshow": {
     "slide_type": "skip"
    },
    "tags": [
     "remove_cell"
    ]
   },
   "outputs": [
    {
     "name": "stdout",
     "output_type": "stream",
     "text": [
      "[NbConvertApp] Converting notebook index.ipynb to html\r\n"
     ]
    },
    {
     "name": "stdout",
     "output_type": "stream",
     "text": [
      "[NbConvertApp] Writing 359981 bytes to index.html\r\n"
     ]
    }
   ],
   "source": [
    "# Convert Jupyter Notebook to HTML\n",
    "! jupyter nbconvert \"index.ipynb\" --to html --TagRemovePreprocessor.enabled=True --TagRemovePreprocessor.remove_cell_tags=\"['remove_cell']\" --TagRemovePreprocessor.remove_input_tags=\"['remove_input']\" --no-prompt"
   ]
  },
  {
   "cell_type": "code",
   "execution_count": 16,
   "metadata": {
    "execution": {
     "iopub.execute_input": "2020-08-26T07:56:14.799660Z",
     "iopub.status.busy": "2020-08-26T07:56:14.799177Z",
     "iopub.status.idle": "2020-08-26T07:56:14.801472Z",
     "shell.execute_reply": "2020-08-26T07:56:14.801821Z"
    },
    "papermill": {
     "duration": 0.019898,
     "end_time": "2020-08-26T07:56:14.801985",
     "exception": false,
     "start_time": "2020-08-26T07:56:14.782087",
     "status": "completed"
    },
    "tags": [
     "remove_cell"
    ]
   },
   "outputs": [],
   "source": [
    "# Create daily commit message\n",
    "now = datetime.datetime.now()\n",
    "commit_message = \"Last scraped on \" + str(now)"
   ]
  },
  {
   "cell_type": "code",
   "execution_count": 17,
   "metadata": {
    "execution": {
     "iopub.execute_input": "2020-08-26T07:56:14.832599Z",
     "iopub.status.busy": "2020-08-26T07:56:14.832118Z",
     "iopub.status.idle": "2020-08-25T19:00:32.252111Z",
     "shell.execute_reply": "2020-08-25T19:00:32.251109Z"
    },
    "papermill": {
     "duration": 118.608086,
     "end_time": "2020-08-26T07:58:13.422479",
     "exception": false,
     "start_time": "2020-08-26T07:56:14.814393",
     "status": "completed"
    },
    "tags": [
     "remove_cell"
    ]
   },
   "outputs": [
    {
     "name": "stdout",
     "output_type": "stream",
     "text": [
      "[master 0f03388] Last scraped on 2020-08-26 07:56:14.797787\r\n",
      " 5 files changed, 349 insertions(+), 249 deletions(-)\r\n"
     ]
    },
    {
     "name": "stdout",
     "output_type": "stream",
     "text": [
      "Username for 'https://github.com': "
     ]
    }
   ],
   "source": [
    "# Deploy to GitHub\n",
    "! git add .\n",
    "! echo $commit_message > commit_message.txt\n",
    "! git commit -F commit_message.txt\n",
    "! git push"
   ]
  }
 ],
 "metadata": {
  "celltoolbar": "Tags",
  "kernelspec": {
   "display_name": "Python 3",
   "language": "python",
   "name": "python3"
  },
  "language_info": {
   "codemirror_mode": {
    "name": "ipython",
    "version": 3
   },
   "file_extension": ".py",
   "mimetype": "text/x-python",
   "name": "python",
   "nbconvert_exporter": "python",
   "pygments_lexer": "ipython3",
   "version": "3.7.3"
  },
  "papermill": {
   "duration": 134.417775,
   "end_time": "2020-08-26T07:58:15.815257",
   "environment_variables": {},
   "exception": null,
   "input_path": "/home/alice_lepissier/cron-job/index.ipynb",
   "output_path": "/home/alice_lepissier/cron-job/index.ipynb",
   "parameters": {},
   "start_time": "2020-08-26T07:56:01.397482",
   "version": "2.1.3"
  }
 },
 "nbformat": 4,
 "nbformat_minor": 4
}