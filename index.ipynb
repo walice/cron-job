{
 "cells": [
  {
   "cell_type": "markdown",
   "metadata": {
    "papermill": {
     "duration": 0.01271,
     "end_time": "2020-08-26T20:17:05.099106",
     "exception": false,
     "start_time": "2020-08-26T20:17:05.086396",
     "status": "completed"
    },
    "tags": []
   },
   "source": [
    "# Daily COVID monitoring data for Santa Barbara county"
   ]
  },
  {
   "cell_type": "code",
   "execution_count": 1,
   "metadata": {
    "execution": {
     "iopub.execute_input": "2020-08-26T20:17:05.126460Z",
     "iopub.status.busy": "2020-08-26T20:17:05.125552Z",
     "iopub.status.idle": "2020-08-26T20:17:06.934549Z",
     "shell.execute_reply": "2020-08-26T20:17:06.935500Z"
    },
    "papermill": {
     "duration": 1.826624,
     "end_time": "2020-08-26T20:17:06.935716",
     "exception": false,
     "start_time": "2020-08-26T20:17:05.109092",
     "status": "completed"
    },
    "tags": [
     "remove_cell"
    ]
   },
   "outputs": [],
   "source": [
    "! jt -t grade3 -tf robotosans -cellw 1100"
   ]
  },
  {
   "cell_type": "markdown",
   "metadata": {
    "papermill": {
     "duration": 0.009595,
     "end_time": "2020-08-26T20:17:06.955441",
     "exception": false,
     "start_time": "2020-08-26T20:17:06.945846",
     "status": "completed"
    },
    "tags": []
   },
   "source": [
    "This table is automatically updated with new daily COVID data for the county of Santa Barbara, CA. Every day, the California Department of Public Health publishes COVID tracking metrics for each county, but does not save the previous day's data. This tool keeps track of the daily metrics that are used to monitor progress towards safe reopening in California."
   ]
  },
  {
   "cell_type": "code",
   "execution_count": 2,
   "metadata": {
    "execution": {
     "iopub.execute_input": "2020-08-26T20:17:06.983555Z",
     "iopub.status.busy": "2020-08-26T20:17:06.983020Z",
     "iopub.status.idle": "2020-08-26T20:17:09.859863Z",
     "shell.execute_reply": "2020-08-26T20:17:09.860739Z"
    },
    "papermill": {
     "duration": 2.895991,
     "end_time": "2020-08-26T20:17:09.860912",
     "exception": false,
     "start_time": "2020-08-26T20:17:06.964921",
     "status": "completed"
    },
    "slideshow": {
     "slide_type": "skip"
    },
    "tags": [
     "remove_cell"
    ]
   },
   "outputs": [],
   "source": [
    "# Preamble\n",
    "import os\n",
    "from IPython.display import Markdown as md\n",
    "import IPython\n",
    "import requests\n",
    "from bs4 import BeautifulSoup\n",
    "import re\n",
    "import pandas as pd\n",
    "import datetime\n",
    "import gspread\n",
    "from oauth2client.service_account import ServiceAccountCredentials"
   ]
  },
  {
   "cell_type": "code",
   "execution_count": 3,
   "metadata": {
    "execution": {
     "iopub.execute_input": "2020-08-26T20:17:09.886196Z",
     "iopub.status.busy": "2020-08-26T20:17:09.885573Z",
     "iopub.status.idle": "2020-08-26T20:17:09.887066Z",
     "shell.execute_reply": "2020-08-26T20:17:09.886653Z"
    },
    "papermill": {
     "duration": 0.016264,
     "end_time": "2020-08-26T20:17:09.887179",
     "exception": false,
     "start_time": "2020-08-26T20:17:09.870915",
     "status": "completed"
    },
    "tags": []
   },
   "outputs": [],
   "source": [
    "# Set working directory\n",
    "os.chdir(\"/home/alice_lepissier/cron-job\")"
   ]
  },
  {
   "cell_type": "code",
   "execution_count": 4,
   "metadata": {
    "execution": {
     "iopub.execute_input": "2020-08-26T20:17:09.910368Z",
     "iopub.status.busy": "2020-08-26T20:17:09.909828Z",
     "iopub.status.idle": "2020-08-26T20:17:10.222146Z",
     "shell.execute_reply": "2020-08-26T20:17:10.223108Z"
    },
    "papermill": {
     "duration": 0.326582,
     "end_time": "2020-08-26T20:17:10.223279",
     "exception": false,
     "start_time": "2020-08-26T20:17:09.896697",
     "status": "completed"
    },
    "slideshow": {
     "slide_type": "skip"
    },
    "tags": [
     "remove_cell"
    ]
   },
   "outputs": [],
   "source": [
    "# Request content from URL\n",
    "html_string = requests.get('https://www.cdph.ca.gov/Programs/CID/DCDC/Pages/COVID-19/COVID19CountyDataTable.aspx').content"
   ]
  },
  {
   "cell_type": "code",
   "execution_count": 5,
   "metadata": {
    "execution": {
     "iopub.execute_input": "2020-08-26T20:17:10.251633Z",
     "iopub.status.busy": "2020-08-26T20:17:10.251077Z",
     "iopub.status.idle": "2020-08-26T20:17:10.339292Z",
     "shell.execute_reply": "2020-08-26T20:17:10.340096Z"
    },
    "papermill": {
     "duration": 0.106927,
     "end_time": "2020-08-26T20:17:10.340256",
     "exception": false,
     "start_time": "2020-08-26T20:17:10.233329",
     "status": "completed"
    },
    "slideshow": {
     "slide_type": "skip"
    },
    "tags": [
     "remove_cell"
    ]
   },
   "outputs": [],
   "source": [
    "# Parse HTML\n",
    "soup = BeautifulSoup(html_string, 'html.parser')"
   ]
  },
  {
   "cell_type": "code",
   "execution_count": 6,
   "metadata": {
    "execution": {
     "iopub.execute_input": "2020-08-26T20:17:10.370484Z",
     "iopub.status.busy": "2020-08-26T20:17:10.369822Z",
     "iopub.status.idle": "2020-08-26T20:17:10.379517Z",
     "shell.execute_reply": "2020-08-26T20:17:10.380303Z"
    },
    "papermill": {
     "duration": 0.029124,
     "end_time": "2020-08-26T20:17:10.380484",
     "exception": false,
     "start_time": "2020-08-26T20:17:10.351360",
     "status": "completed"
    },
    "slideshow": {
     "slide_type": "skip"
    },
    "tags": [
     "remove_cell"
    ]
   },
   "outputs": [],
   "source": [
    "# Extract data for Santa Barbara\n",
    "table = soup.find_all(\"tr\", class_=\"ms-rteTableEvenRow-3\")\n",
    "SB = table[21]"
   ]
  },
  {
   "cell_type": "code",
   "execution_count": 7,
   "metadata": {
    "execution": {
     "iopub.execute_input": "2020-08-26T20:17:10.409016Z",
     "iopub.status.busy": "2020-08-26T20:17:10.408453Z",
     "iopub.status.idle": "2020-08-26T20:17:10.419736Z",
     "shell.execute_reply": "2020-08-26T20:17:10.420504Z"
    },
    "papermill": {
     "duration": 0.029917,
     "end_time": "2020-08-26T20:17:10.420678",
     "exception": false,
     "start_time": "2020-08-26T20:17:10.390761",
     "status": "completed"
    },
    "slideshow": {
     "slide_type": "skip"
    },
    "tags": [
     "remove_cell"
    ]
   },
   "outputs": [],
   "source": [
    "# Avg # tests per day (per 100,000 population)\n",
    "daily_tests = SB.find_all(\"td\", class_=\"ms-rteTableOddCol-3\")[0].text\n",
    "\n",
    "# Case rate per 100,000\n",
    "case_rate = SB.find_all(\"td\", class_=\"ms-rteTableEvenCol-3\")[1].text\n",
    "\n",
    "# Testing positivity (%)\n",
    "test_positivity = SB.find_all(\"td\", class_=\"ms-rteTableOddCol-3\")[1].text\n",
    "\n",
    "# % Change in 3-day avg COVID+ hospitalized patients\n",
    "change_hospit = SB.find_all(\"td\", class_=\"ms-rteTableEvenCol-3\")[2].text\n",
    "\n",
    "# % ICU beds currently available\n",
    "ICU_beds = SB.find_all(\"td\", class_=\"ms-rteTableOddCol-3\")[2].text\n",
    "\n",
    "# % Ventilators currently available\n",
    "ventilators = SB.find_all(\"td\", class_=\"ms-rteTableEvenCol-3\")[3].text\n",
    "\n",
    "# Extract date of last update\n",
    "update_date = soup.find_all(\"span\", class_=\"ms-rteStyle-Accent1\")[1]\\\n",
    "    .find(\"em\").text"
   ]
  },
  {
   "cell_type": "code",
   "execution_count": 8,
   "metadata": {
    "execution": {
     "iopub.execute_input": "2020-08-26T20:17:10.448095Z",
     "iopub.status.busy": "2020-08-26T20:17:10.447441Z",
     "iopub.status.idle": "2020-08-26T20:17:10.448988Z",
     "shell.execute_reply": "2020-08-26T20:17:10.448556Z"
    },
    "papermill": {
     "duration": 0.017274,
     "end_time": "2020-08-26T20:17:10.449109",
     "exception": false,
     "start_time": "2020-08-26T20:17:10.431835",
     "status": "completed"
    },
    "tags": [
     "remove_cell"
    ]
   },
   "outputs": [],
   "source": [
    "# Create updated date string\n",
    "update_tag = \"Table last updated by CDPH on \" + update_date.split(\" on \", 1)[1] + \".\""
   ]
  },
  {
   "cell_type": "code",
   "execution_count": 9,
   "metadata": {
    "execution": {
     "iopub.execute_input": "2020-08-26T20:17:10.473220Z",
     "iopub.status.busy": "2020-08-26T20:17:10.472724Z",
     "iopub.status.idle": "2020-08-26T20:17:10.492536Z",
     "shell.execute_reply": "2020-08-26T20:17:10.493729Z"
    },
    "papermill": {
     "duration": 0.035065,
     "end_time": "2020-08-26T20:17:10.493919",
     "exception": false,
     "start_time": "2020-08-26T20:17:10.458854",
     "status": "completed"
    },
    "slideshow": {
     "slide_type": "skip"
    },
    "tags": [
     "remove_cell"
    ]
   },
   "outputs": [],
   "source": [
    "# Set up Google Sheet API\n",
    "scope = [\"https://spreadsheets.google.com/feeds\",'https://www.googleapis.com/auth/spreadsheets',\"https://www.googleapis.com/auth/drive.file\",\"https://www.googleapis.com/auth/drive\"]\n",
    "creds = ServiceAccountCredentials.from_json_keyfile_name(\"credentials.json\", scope)\n",
    "client = gspread.authorize(creds)"
   ]
  },
  {
   "cell_type": "code",
   "execution_count": 10,
   "metadata": {
    "execution": {
     "iopub.execute_input": "2020-08-26T20:17:10.519499Z",
     "iopub.status.busy": "2020-08-26T20:17:10.518995Z",
     "iopub.status.idle": "2020-08-26T20:17:11.407233Z",
     "shell.execute_reply": "2020-08-26T20:17:11.407996Z"
    },
    "papermill": {
     "duration": 0.903898,
     "end_time": "2020-08-26T20:17:11.408157",
     "exception": false,
     "start_time": "2020-08-26T20:17:10.504259",
     "status": "completed"
    },
    "slideshow": {
     "slide_type": "skip"
    },
    "tags": [
     "remove_cell"
    ]
   },
   "outputs": [
    {
     "data": {
      "text/plain": [
       "{'spreadsheetId': '1pcqdMzKtea2Oq3BDmdAOQ21gZjCssieKI0692VfNLXU',\n",
       " 'updatedRange': 'Sheet1!A2:G2',\n",
       " 'updatedRows': 1,\n",
       " 'updatedColumns': 7,\n",
       " 'updatedCells': 7}"
      ]
     },
     "execution_count": 10,
     "metadata": {},
     "output_type": "execute_result"
    }
   ],
   "source": [
    "# Append daily data as a new row in Google Sheet\n",
    "sheet = client.open(\"Test cron job\").sheet1\n",
    "insertRow = [datetime.date.today().strftime(\"%Y-%m-%d\"),\n",
    "             daily_tests,\n",
    "             case_rate,\n",
    "             test_positivity,\n",
    "             change_hospit,\n",
    "             ICU_beds,\n",
    "             ventilators]\n",
    "sheet.insert_row(insertRow, 2)"
   ]
  },
  {
   "cell_type": "code",
   "execution_count": 11,
   "metadata": {
    "execution": {
     "iopub.execute_input": "2020-08-26T20:17:11.433708Z",
     "iopub.status.busy": "2020-08-26T20:17:11.433178Z",
     "iopub.status.idle": "2020-08-26T20:17:12.660191Z",
     "shell.execute_reply": "2020-08-26T20:17:12.661041Z"
    },
    "papermill": {
     "duration": 1.242611,
     "end_time": "2020-08-26T20:17:12.661221",
     "exception": false,
     "start_time": "2020-08-26T20:17:11.418610",
     "status": "completed"
    },
    "scrolled": true,
    "slideshow": {
     "slide_type": "slide"
    },
    "tags": [
     "remove_cell"
    ]
   },
   "outputs": [],
   "source": [
    "# Extract data from Google Sheet as pandas dataframe\n",
    "sheet = client.open(\"Test cron job\").sheet1\n",
    "data = sheet.get_all_records()\n",
    "result = pd.DataFrame(data).set_index(\"Date\")"
   ]
  },
  {
   "cell_type": "code",
   "execution_count": 12,
   "metadata": {
    "execution": {
     "iopub.execute_input": "2020-08-26T20:17:12.687506Z",
     "iopub.status.busy": "2020-08-26T20:17:12.687008Z",
     "iopub.status.idle": "2020-08-26T20:17:13.806214Z",
     "shell.execute_reply": "2020-08-26T20:17:13.806979Z"
    },
    "papermill": {
     "duration": 1.135165,
     "end_time": "2020-08-26T20:17:13.807144",
     "exception": false,
     "start_time": "2020-08-26T20:17:12.671979",
     "status": "completed"
    },
    "scrolled": true,
    "tags": [
     "remove_input"
    ]
   },
   "outputs": [
    {
     "data": {
      "text/html": [
       "<style  type=\"text/css\" >\n",
       "    #T_2121a2e0_e7d9_11ea_8fbf_42010a8a0004 th {\n",
       "          text-align: center;\n",
       "    }#T_2121a2e0_e7d9_11ea_8fbf_42010a8a0004row0_col0,#T_2121a2e0_e7d9_11ea_8fbf_42010a8a0004row1_col0{\n",
       "            width:  20em;\n",
       "            text-align:  center;\n",
       "            font-weight:  bold;\n",
       "        }#T_2121a2e0_e7d9_11ea_8fbf_42010a8a0004row0_col1,#T_2121a2e0_e7d9_11ea_8fbf_42010a8a0004row0_col2,#T_2121a2e0_e7d9_11ea_8fbf_42010a8a0004row0_col3,#T_2121a2e0_e7d9_11ea_8fbf_42010a8a0004row0_col4,#T_2121a2e0_e7d9_11ea_8fbf_42010a8a0004row0_col5,#T_2121a2e0_e7d9_11ea_8fbf_42010a8a0004row0_col6,#T_2121a2e0_e7d9_11ea_8fbf_42010a8a0004row1_col1,#T_2121a2e0_e7d9_11ea_8fbf_42010a8a0004row1_col2,#T_2121a2e0_e7d9_11ea_8fbf_42010a8a0004row1_col3,#T_2121a2e0_e7d9_11ea_8fbf_42010a8a0004row1_col4,#T_2121a2e0_e7d9_11ea_8fbf_42010a8a0004row1_col5,#T_2121a2e0_e7d9_11ea_8fbf_42010a8a0004row1_col6{\n",
       "            width:  20em;\n",
       "            text-align:  center;\n",
       "        }</style><table id=\"T_2121a2e0_e7d9_11ea_8fbf_42010a8a0004\" ><thead>    <tr>        <th class=\"col_heading level0 col0\" >Date</th>        <th class=\"col_heading level0 col1\" >Daily tests (per 100,000)¹</th>        <th class=\"col_heading level0 col2\" >Case rate (per 100,000)²</th>        <th class=\"col_heading level0 col3\" >Testing positivity (%)³</th>        <th class=\"col_heading level0 col4\" >Change in hospitalizations (%)⁴</th>        <th class=\"col_heading level0 col5\" >ICU beds available (%)</th>        <th class=\"col_heading level0 col6\" >Ventilators (available (%)</th>    </tr></thead><tbody>\n",
       "                <tr>\n",
       "                                <td id=\"T_2121a2e0_e7d9_11ea_8fbf_42010a8a0004row0_col0\" class=\"data row0 col0\" >2020-08-26</td>\n",
       "                        <td id=\"T_2121a2e0_e7d9_11ea_8fbf_42010a8a0004row0_col1\" class=\"data row0 col1\" >219.7</td>\n",
       "                        <td id=\"T_2121a2e0_e7d9_11ea_8fbf_42010a8a0004row0_col2\" class=\"data row0 col2\" >133.2</td>\n",
       "                        <td id=\"T_2121a2e0_e7d9_11ea_8fbf_42010a8a0004row0_col3\" class=\"data row0 col3\" > ✔</td>\n",
       "                        <td id=\"T_2121a2e0_e7d9_11ea_8fbf_42010a8a0004row0_col4\" class=\"data row0 col4\" > ✔</td>\n",
       "                        <td id=\"T_2121a2e0_e7d9_11ea_8fbf_42010a8a0004row0_col5\" class=\"data row0 col5\" > ✔</td>\n",
       "                        <td id=\"T_2121a2e0_e7d9_11ea_8fbf_42010a8a0004row0_col6\" class=\"data row0 col6\" > ✔</td>\n",
       "            </tr>\n",
       "            <tr>\n",
       "                                <td id=\"T_2121a2e0_e7d9_11ea_8fbf_42010a8a0004row1_col0\" class=\"data row1 col0\" >2020-08-26</td>\n",
       "                        <td id=\"T_2121a2e0_e7d9_11ea_8fbf_42010a8a0004row1_col1\" class=\"data row1 col1\" >219.7</td>\n",
       "                        <td id=\"T_2121a2e0_e7d9_11ea_8fbf_42010a8a0004row1_col2\" class=\"data row1 col2\" >133.2</td>\n",
       "                        <td id=\"T_2121a2e0_e7d9_11ea_8fbf_42010a8a0004row1_col3\" class=\"data row1 col3\" > ✔</td>\n",
       "                        <td id=\"T_2121a2e0_e7d9_11ea_8fbf_42010a8a0004row1_col4\" class=\"data row1 col4\" > ✔</td>\n",
       "                        <td id=\"T_2121a2e0_e7d9_11ea_8fbf_42010a8a0004row1_col5\" class=\"data row1 col5\" > ✔</td>\n",
       "                        <td id=\"T_2121a2e0_e7d9_11ea_8fbf_42010a8a0004row1_col6\" class=\"data row1 col6\" > ✔</td>\n",
       "            </tr>\n",
       "    </tbody></table>"
      ],
      "text/plain": [
       "<pandas.io.formats.style.Styler at 0x7fc0fbe3c198>"
      ]
     },
     "execution_count": 12,
     "metadata": {},
     "output_type": "execute_result"
    }
   ],
   "source": [
    "# Style the pandas dataframe\n",
    "d = dict(selector=\"th\",\n",
    "         props=[('text-align', 'center')])\n",
    "\n",
    "result.reset_index().style\\\n",
    "    .set_properties(**{'width':'20em', 'text-align':'center'})\\\n",
    "    .set_properties(subset=['Date'], **{'font-weight': 'bold'})\\\n",
    "    .set_table_styles([d])\\\n",
    "    .set_precision(1)\\\n",
    "    .hide_index()"
   ]
  },
  {
   "cell_type": "markdown",
   "metadata": {
    "papermill": {
     "duration": 0.010344,
     "end_time": "2020-08-26T20:17:13.828115",
     "exception": false,
     "start_time": "2020-08-26T20:17:13.817771",
     "status": "completed"
    },
    "tags": []
   },
   "source": [
    "<sup>Notes: (1) 7 day average with a 7-day lag. (2) 14 day average. (3) 7 day average with a 7-day lag. (4) Change in 3 day average.</sup>"
   ]
  },
  {
   "cell_type": "code",
   "execution_count": 13,
   "metadata": {
    "execution": {
     "iopub.execute_input": "2020-08-26T20:17:13.855580Z",
     "iopub.status.busy": "2020-08-26T20:17:13.853902Z",
     "iopub.status.idle": "2020-08-26T20:17:13.857420Z",
     "shell.execute_reply": "2020-08-26T20:17:13.857012Z"
    },
    "papermill": {
     "duration": 0.01906,
     "end_time": "2020-08-26T20:17:13.857532",
     "exception": false,
     "start_time": "2020-08-26T20:17:13.838472",
     "status": "completed"
    },
    "tags": [
     "remove_input"
    ]
   },
   "outputs": [
    {
     "data": {
      "text/markdown": [
       "Table last updated by CDPH on August 26, 2020."
      ],
      "text/plain": [
       "<IPython.core.display.Markdown object>"
      ]
     },
     "execution_count": 13,
     "metadata": {},
     "output_type": "execute_result"
    }
   ],
   "source": [
    "md(update_tag)"
   ]
  },
  {
   "cell_type": "markdown",
   "metadata": {
    "papermill": {
     "duration": 0.010613,
     "end_time": "2020-08-26T20:17:13.879172",
     "exception": false,
     "start_time": "2020-08-26T20:17:13.868559",
     "status": "completed"
    },
    "tags": []
   },
   "source": [
    "## Tracking county closures in Santa Barbara"
   ]
  },
  {
   "cell_type": "markdown",
   "metadata": {
    "papermill": {
     "duration": 0.010618,
     "end_time": "2020-08-26T20:17:13.900276",
     "exception": false,
     "start_time": "2020-08-26T20:17:13.889658",
     "status": "completed"
    },
    "tags": []
   },
   "source": [
    "The state of California is using a data-driven approach informed by scientific evidence to tailor its response to COVID-19. Three dimensions of concern are monitored to assess whether a county should be placed on the County Monitoring List:\n",
    " 1. Elevated Disease Transmission\n",
    " 2. Increasing Hospitalization\n",
    " 3. Limited Hospital Capacity\n",
    "\n",
    "Once a county appears on the County Monitoring List for three consecutive days, indoor operations in the sectors listed in Section 3 of the [July 13th State Health Officer Order](https://www.cdph.ca.gov/Programs/CID/DCDC/CDPH%20Document%20Library/COVID-19/SHO%20Order%20Dimming%20Entire%20State%207-13-2020.pdf) must close.\n",
    "\n",
    "This table tracks where Santa Barbara stands in terms of the criteria for inclusion on the County Monitoring List. As of 20 August 2020, the criteria for inclusion on the monitoring list are:\n",
    "\n",
    "* Case rate >100 OR (Case rate >25 AND Positivity >8%)\n",
    "* \\>10% increase in hospitalizations\n",
    "* <20% ICU beds available OR <25% ventilators available\n",
    "\n",
    "If Santa Barbara meets the criteria for removal from the County Monitoring List for a certain metric, then a checkmark ✔ is displayed in the table.\n",
    "\n",
    "Read more at <https://covid19.ca.gov/roadmap-counties/>.\n",
    "\n",
    "Data source for county metrics: https://www.cdph.ca.gov/Programs/CID/DCDC/Pages/COVID-19/COVID19CountyDataTable.aspx."
   ]
  },
  {
   "cell_type": "markdown",
   "metadata": {
    "papermill": {
     "duration": 0.010428,
     "end_time": "2020-08-26T20:17:13.920997",
     "exception": false,
     "start_time": "2020-08-26T20:17:13.910569",
     "status": "completed"
    },
    "tags": []
   },
   "source": [
    "**See the code used to scrape the data: https://github.com/walice/COVID-SB/.**"
   ]
  },
  {
   "cell_type": "code",
   "execution_count": 14,
   "metadata": {
    "execution": {
     "iopub.execute_input": "2020-08-26T20:17:13.947489Z",
     "iopub.status.busy": "2020-08-26T20:17:13.947003Z",
     "iopub.status.idle": "2020-08-26T20:17:13.950958Z",
     "shell.execute_reply": "2020-08-26T20:17:13.951330Z"
    },
    "papermill": {
     "duration": 0.019966,
     "end_time": "2020-08-26T20:17:13.951565",
     "exception": false,
     "start_time": "2020-08-26T20:17:13.931599",
     "status": "completed"
    },
    "tags": [
     "remove_cell"
    ]
   },
   "outputs": [
    {
     "data": {
      "application/javascript": [
       "IPython.notebook.save_notebook()\n"
      ],
      "text/plain": [
       "<IPython.core.display.Javascript object>"
      ]
     },
     "metadata": {},
     "output_type": "display_data"
    }
   ],
   "source": [
    "%%javascript\n",
    "IPython.notebook.save_notebook()"
   ]
  },
  {
   "cell_type": "code",
   "execution_count": 15,
   "metadata": {
    "execution": {
     "iopub.execute_input": "2020-08-26T20:17:13.979527Z",
     "iopub.status.busy": "2020-08-26T20:17:13.979031Z",
     "iopub.status.idle": "2020-08-26T20:17:17.304841Z",
     "shell.execute_reply": "2020-08-26T20:17:17.305760Z"
    },
    "papermill": {
     "duration": 3.343407,
     "end_time": "2020-08-26T20:17:17.305941",
     "exception": false,
     "start_time": "2020-08-26T20:17:13.962534",
     "status": "completed"
    },
    "slideshow": {
     "slide_type": "skip"
    },
    "tags": [
     "remove_cell"
    ]
   },
   "outputs": [
    {
     "name": "stdout",
     "output_type": "stream",
     "text": [
      "[NbConvertApp] Converting notebook index.ipynb to html\r\n"
     ]
    },
    {
     "name": "stdout",
     "output_type": "stream",
     "text": [
      "[NbConvertApp] Writing 352240 bytes to index.html\r\n"
     ]
    }
   ],
   "source": [
    "# Convert Jupyter Notebook to HTML\n",
    "! jupyter nbconvert \"index.ipynb\" --to html --TagRemovePreprocessor.enabled=True --TagRemovePreprocessor.remove_cell_tags=\"['remove_cell']\" --TagRemovePreprocessor.remove_input_tags=\"['remove_input']\" --no-prompt"
   ]
  },
  {
   "cell_type": "code",
   "execution_count": 16,
   "metadata": {
    "execution": {
     "iopub.execute_input": "2020-08-26T20:17:17.335514Z",
     "iopub.status.busy": "2020-08-26T20:17:17.335009Z",
     "iopub.status.idle": "2020-08-26T20:17:17.337433Z",
     "shell.execute_reply": "2020-08-26T20:17:17.337809Z"
    },
    "papermill": {
     "duration": 0.019469,
     "end_time": "2020-08-26T20:17:17.337962",
     "exception": false,
     "start_time": "2020-08-26T20:17:17.318493",
     "status": "completed"
    },
    "tags": [
     "remove_cell"
    ]
   },
   "outputs": [],
   "source": [
    "# Create daily commit message\n",
    "now = datetime.datetime.now()\n",
    "commit_message = \"Last scraped on \" + str(now)"
   ]
  },
  {
   "cell_type": "code",
   "execution_count": null,
   "metadata": {
    "execution": {
     "iopub.execute_input": "2020-08-26T20:16:17.892236Z",
     "iopub.status.busy": "2020-08-26T20:16:17.891603Z",
     "iopub.status.idle": "2020-08-26T20:16:22.957229Z",
     "shell.execute_reply": "2020-08-26T20:16:22.956000Z"
    },
    "papermill": {
     "duration": null,
     "end_time": null,
     "exception": false,
     "start_time": "2020-08-26T20:17:17.349102",
     "status": "running"
    },
    "tags": [
     "remove_cell"
    ]
   },
   "outputs": [],
   "source": [
    "# Deploy to GitHub\n",
    "! git add .\n",
    "! echo $commit_message > commit_message.txt\n",
    "! git commit -F commit_message.txt\n",
    "! git push"
   ]
  }
 ],
 "metadata": {
  "celltoolbar": "Tags",
  "kernelspec": {
   "display_name": "Python 3",
   "language": "python",
   "name": "python3"
  },
  "language_info": {
   "codemirror_mode": {
    "name": "ipython",
    "version": 3
   },
   "file_extension": ".py",
   "mimetype": "text/x-python",
   "name": "python",
   "nbconvert_exporter": "python",
   "pygments_lexer": "ipython3",
   "version": "3.7.3"
  },
  "papermill": {
   "duration": null,
   "end_time": null,
   "environment_variables": {},
   "exception": null,
   "input_path": "/home/alice_lepissier/cron-job/index.ipynb",
   "output_path": "/home/alice_lepissier/cron-job/index.ipynb",
   "parameters": {},
   "start_time": "2020-08-26T20:17:03.783475",
   "version": "2.1.3"
  }
 },
 "nbformat": 4,
 "nbformat_minor": 4
}