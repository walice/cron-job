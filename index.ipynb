{
 "cells": [
  {
   "cell_type": "markdown",
   "metadata": {
    "papermill": {
     "duration": 0.012743,
     "end_time": "2020-08-26T08:37:02.317999",
     "exception": false,
     "start_time": "2020-08-26T08:37:02.305256",
     "status": "completed"
    },
    "tags": []
   },
   "source": [
    "# Daily COVID monitoring data for Santa Barbara county"
   ]
  },
  {
   "cell_type": "code",
   "execution_count": 1,
   "metadata": {
    "execution": {
     "iopub.execute_input": "2020-08-26T08:37:02.347416Z",
     "iopub.status.busy": "2020-08-26T08:37:02.346896Z",
     "iopub.status.idle": "2020-08-26T08:37:02.459460Z",
     "shell.execute_reply": "2020-08-26T08:37:02.458517Z"
    },
    "papermill": {
     "duration": 0.130295,
     "end_time": "2020-08-26T08:37:02.459607",
     "exception": false,
     "start_time": "2020-08-26T08:37:02.329312",
     "status": "completed"
    },
    "tags": [
     "remove_cell"
    ]
   },
   "outputs": [
    {
     "name": "stdout",
     "output_type": "stream",
     "text": [
      "/bin/sh: 1: jt: not found\r\n"
     ]
    }
   ],
   "source": [
    "! jt -t grade3 -tf robotosans -cellw 1100"
   ]
  },
  {
   "cell_type": "markdown",
   "metadata": {
    "papermill": {
     "duration": 0.011028,
     "end_time": "2020-08-26T08:37:02.482206",
     "exception": false,
     "start_time": "2020-08-26T08:37:02.471178",
     "status": "completed"
    },
    "tags": []
   },
   "source": [
    "This table is automatically updated with new daily COVID data for the county of Santa Barbara, CA. Every day, the California Department of Public Health publishes COVID tracking metrics for each county, but does not save the previous day's data. This tool keeps track of the daily metrics that are used to monitor progress towards safe reopening in California."
   ]
  },
  {
   "cell_type": "code",
   "execution_count": 2,
   "metadata": {
    "execution": {
     "iopub.execute_input": "2020-08-26T08:37:02.511648Z",
     "iopub.status.busy": "2020-08-26T08:37:02.511019Z",
     "iopub.status.idle": "2020-08-26T08:37:02.930916Z",
     "shell.execute_reply": "2020-08-26T08:37:02.931798Z"
    },
    "papermill": {
     "duration": 0.438743,
     "end_time": "2020-08-26T08:37:02.931962",
     "exception": false,
     "start_time": "2020-08-26T08:37:02.493219",
     "status": "completed"
    },
    "slideshow": {
     "slide_type": "skip"
    },
    "tags": [
     "remove_cell"
    ]
   },
   "outputs": [],
   "source": [
    "# Preamble\n",
    "import os\n",
    "from IPython.display import Markdown as md\n",
    "import IPython\n",
    "import requests\n",
    "from bs4 import BeautifulSoup\n",
    "import re\n",
    "import pandas as pd\n",
    "import datetime\n",
    "import gspread\n",
    "from oauth2client.service_account import ServiceAccountCredentials"
   ]
  },
  {
   "cell_type": "code",
   "execution_count": 3,
   "metadata": {
    "execution": {
     "iopub.execute_input": "2020-08-26T08:37:02.959314Z",
     "iopub.status.busy": "2020-08-26T08:37:02.958751Z",
     "iopub.status.idle": "2020-08-26T08:37:02.960291Z",
     "shell.execute_reply": "2020-08-26T08:37:02.959855Z"
    },
    "papermill": {
     "duration": 0.017253,
     "end_time": "2020-08-26T08:37:02.960401",
     "exception": false,
     "start_time": "2020-08-26T08:37:02.943148",
     "status": "completed"
    },
    "tags": []
   },
   "outputs": [],
   "source": [
    "# Set working directory\n",
    "os.chdir(\"/home/alice_lepissier/cron-job\")"
   ]
  },
  {
   "cell_type": "code",
   "execution_count": 4,
   "metadata": {
    "execution": {
     "iopub.execute_input": "2020-08-26T08:37:02.987914Z",
     "iopub.status.busy": "2020-08-26T08:37:02.987377Z",
     "iopub.status.idle": "2020-08-26T08:37:03.277883Z",
     "shell.execute_reply": "2020-08-26T08:37:03.278741Z"
    },
    "papermill": {
     "duration": 0.307742,
     "end_time": "2020-08-26T08:37:03.278904",
     "exception": false,
     "start_time": "2020-08-26T08:37:02.971162",
     "status": "completed"
    },
    "slideshow": {
     "slide_type": "skip"
    },
    "tags": [
     "remove_cell"
    ]
   },
   "outputs": [],
   "source": [
    "# Request content from URL\n",
    "html_string = requests.get('https://www.cdph.ca.gov/Programs/CID/DCDC/Pages/COVID-19/COVID19CountyDataTable.aspx').content"
   ]
  },
  {
   "cell_type": "code",
   "execution_count": 5,
   "metadata": {
    "execution": {
     "iopub.execute_input": "2020-08-26T08:37:03.307526Z",
     "iopub.status.busy": "2020-08-26T08:37:03.306996Z",
     "iopub.status.idle": "2020-08-26T08:37:03.392569Z",
     "shell.execute_reply": "2020-08-26T08:37:03.393448Z"
    },
    "papermill": {
     "duration": 0.10333,
     "end_time": "2020-08-26T08:37:03.393615",
     "exception": false,
     "start_time": "2020-08-26T08:37:03.290285",
     "status": "completed"
    },
    "slideshow": {
     "slide_type": "skip"
    },
    "tags": [
     "remove_cell"
    ]
   },
   "outputs": [],
   "source": [
    "# Parse HTML\n",
    "soup = BeautifulSoup(html_string, 'html.parser')"
   ]
  },
  {
   "cell_type": "code",
   "execution_count": 6,
   "metadata": {
    "execution": {
     "iopub.execute_input": "2020-08-26T08:37:03.423572Z",
     "iopub.status.busy": "2020-08-26T08:37:03.423063Z",
     "iopub.status.idle": "2020-08-26T08:37:03.432586Z",
     "shell.execute_reply": "2020-08-26T08:37:03.433348Z"
    },
    "papermill": {
     "duration": 0.027786,
     "end_time": "2020-08-26T08:37:03.433504",
     "exception": false,
     "start_time": "2020-08-26T08:37:03.405718",
     "status": "completed"
    },
    "slideshow": {
     "slide_type": "skip"
    },
    "tags": [
     "remove_cell"
    ]
   },
   "outputs": [],
   "source": [
    "# Extract data for Santa Barbara\n",
    "table = soup.find_all(\"tr\", class_=\"ms-rteTableEvenRow-3\")\n",
    "SB = table[21]"
   ]
  },
  {
   "cell_type": "code",
   "execution_count": 7,
   "metadata": {
    "execution": {
     "iopub.execute_input": "2020-08-26T08:37:03.463809Z",
     "iopub.status.busy": "2020-08-26T08:37:03.463249Z",
     "iopub.status.idle": "2020-08-26T08:37:03.475430Z",
     "shell.execute_reply": "2020-08-26T08:37:03.476294Z"
    },
    "papermill": {
     "duration": 0.03166,
     "end_time": "2020-08-26T08:37:03.476455",
     "exception": false,
     "start_time": "2020-08-26T08:37:03.444795",
     "status": "completed"
    },
    "slideshow": {
     "slide_type": "skip"
    },
    "tags": [
     "remove_cell"
    ]
   },
   "outputs": [],
   "source": [
    "# Avg # tests per day (per 100,000 population)\n",
    "daily_tests = SB.find_all(\"td\", class_=\"ms-rteTableOddCol-3\")[0].text\n",
    "\n",
    "# Case rate per 100,000\n",
    "case_rate = SB.find_all(\"td\", class_=\"ms-rteTableEvenCol-3\")[1].text\n",
    "\n",
    "# Testing positivity (%)\n",
    "test_positivity = SB.find_all(\"td\", class_=\"ms-rteTableOddCol-3\")[1].text\n",
    "\n",
    "# % Change in 3-day avg COVID+ hospitalized patients\n",
    "change_hospit = SB.find_all(\"td\", class_=\"ms-rteTableEvenCol-3\")[2].text\n",
    "\n",
    "# % ICU beds currently available\n",
    "ICU_beds = SB.find_all(\"td\", class_=\"ms-rteTableOddCol-3\")[2].text\n",
    "\n",
    "# % Ventilators currently available\n",
    "ventilators = SB.find_all(\"td\", class_=\"ms-rteTableEvenCol-3\")[3].text\n",
    "\n",
    "# Extract date of last update\n",
    "update_date = soup.find_all(\"span\", class_=\"ms-rteStyle-Accent1\")[1]\\\n",
    "    .find(\"em\").text"
   ]
  },
  {
   "cell_type": "code",
   "execution_count": 8,
   "metadata": {
    "execution": {
     "iopub.execute_input": "2020-08-26T08:37:03.505831Z",
     "iopub.status.busy": "2020-08-26T08:37:03.505180Z",
     "iopub.status.idle": "2020-08-26T08:37:03.506757Z",
     "shell.execute_reply": "2020-08-26T08:37:03.506331Z"
    },
    "papermill": {
     "duration": 0.019013,
     "end_time": "2020-08-26T08:37:03.506877",
     "exception": false,
     "start_time": "2020-08-26T08:37:03.487864",
     "status": "completed"
    },
    "tags": [
     "remove_cell"
    ]
   },
   "outputs": [],
   "source": [
    "# Create updated date string\n",
    "update_tag = \"Table last updated by CDPH on \" + update_date.split(\" on \", 1)[1] + \".\""
   ]
  },
  {
   "cell_type": "code",
   "execution_count": 9,
   "metadata": {
    "execution": {
     "iopub.execute_input": "2020-08-26T08:37:03.535624Z",
     "iopub.status.busy": "2020-08-26T08:37:03.535084Z",
     "iopub.status.idle": "2020-08-26T08:37:03.539688Z",
     "shell.execute_reply": "2020-08-26T08:37:03.540472Z"
    },
    "papermill": {
     "duration": 0.022255,
     "end_time": "2020-08-26T08:37:03.540631",
     "exception": false,
     "start_time": "2020-08-26T08:37:03.518376",
     "status": "completed"
    },
    "slideshow": {
     "slide_type": "skip"
    },
    "tags": [
     "remove_cell"
    ]
   },
   "outputs": [],
   "source": [
    "# Set up Google Sheet API\n",
    "scope = [\"https://spreadsheets.google.com/feeds\",'https://www.googleapis.com/auth/spreadsheets',\"https://www.googleapis.com/auth/drive.file\",\"https://www.googleapis.com/auth/drive\"]\n",
    "creds = ServiceAccountCredentials.from_json_keyfile_name(\"credentials.json\", scope)\n",
    "client = gspread.authorize(creds)"
   ]
  },
  {
   "cell_type": "code",
   "execution_count": 10,
   "metadata": {
    "execution": {
     "iopub.execute_input": "2020-08-26T08:37:03.571717Z",
     "iopub.status.busy": "2020-08-26T08:37:03.571075Z",
     "iopub.status.idle": "2020-08-26T08:37:04.919006Z",
     "shell.execute_reply": "2020-08-26T08:37:04.919844Z"
    },
    "papermill": {
     "duration": 1.367566,
     "end_time": "2020-08-26T08:37:04.920233",
     "exception": false,
     "start_time": "2020-08-26T08:37:03.552667",
     "status": "completed"
    },
    "slideshow": {
     "slide_type": "skip"
    },
    "tags": [
     "remove_cell"
    ]
   },
   "outputs": [
    {
     "data": {
      "text/plain": [
       "{'spreadsheetId': '1pcqdMzKtea2Oq3BDmdAOQ21gZjCssieKI0692VfNLXU',\n",
       " 'updatedRange': 'Sheet1!A2:G2',\n",
       " 'updatedRows': 1,\n",
       " 'updatedColumns': 7,\n",
       " 'updatedCells': 7}"
      ]
     },
     "execution_count": 10,
     "metadata": {},
     "output_type": "execute_result"
    }
   ],
   "source": [
    "# Append daily data as a new row in Google Sheet\n",
    "sheet = client.open(\"Test cron job\").sheet1\n",
    "insertRow = [datetime.date.today().strftime(\"%Y-%m-%d\"),\n",
    "             daily_tests,\n",
    "             case_rate,\n",
    "             test_positivity,\n",
    "             change_hospit,\n",
    "             ICU_beds,\n",
    "             ventilators]\n",
    "sheet.insert_row(insertRow, 2)"
   ]
  },
  {
   "cell_type": "code",
   "execution_count": 11,
   "metadata": {
    "execution": {
     "iopub.execute_input": "2020-08-26T08:37:04.949254Z",
     "iopub.status.busy": "2020-08-26T08:37:04.948754Z",
     "iopub.status.idle": "2020-08-26T08:37:05.741667Z",
     "shell.execute_reply": "2020-08-26T08:37:05.742506Z"
    },
    "papermill": {
     "duration": 0.810117,
     "end_time": "2020-08-26T08:37:05.742665",
     "exception": false,
     "start_time": "2020-08-26T08:37:04.932548",
     "status": "completed"
    },
    "scrolled": true,
    "slideshow": {
     "slide_type": "slide"
    },
    "tags": [
     "remove_cell"
    ]
   },
   "outputs": [],
   "source": [
    "# Extract data from Google Sheet as pandas dataframe\n",
    "sheet = client.open(\"Test cron job\").sheet1\n",
    "data = sheet.get_all_records()\n",
    "result = pd.DataFrame(data).set_index(\"Date\")"
   ]
  },
  {
   "cell_type": "code",
   "execution_count": 12,
   "metadata": {
    "execution": {
     "iopub.execute_input": "2020-08-26T08:37:05.772221Z",
     "iopub.status.busy": "2020-08-26T08:37:05.771666Z",
     "iopub.status.idle": "2020-08-26T08:37:06.090980Z",
     "shell.execute_reply": "2020-08-26T08:37:06.091796Z"
    },
    "papermill": {
     "duration": 0.337512,
     "end_time": "2020-08-26T08:37:06.091966",
     "exception": false,
     "start_time": "2020-08-26T08:37:05.754454",
     "status": "completed"
    },
    "scrolled": true,
    "tags": [
     "remove_input"
    ]
   },
   "outputs": [
    {
     "data": {
      "text/html": [
       "<style  type=\"text/css\" >\n",
       "    #T_5294ec7c_e777_11ea_a686_42010a8a0004 th {\n",
       "          text-align: center;\n",
       "    }#T_5294ec7c_e777_11ea_a686_42010a8a0004row0_col0,#T_5294ec7c_e777_11ea_a686_42010a8a0004row1_col0,#T_5294ec7c_e777_11ea_a686_42010a8a0004row2_col0,#T_5294ec7c_e777_11ea_a686_42010a8a0004row3_col0,#T_5294ec7c_e777_11ea_a686_42010a8a0004row4_col0,#T_5294ec7c_e777_11ea_a686_42010a8a0004row5_col0,#T_5294ec7c_e777_11ea_a686_42010a8a0004row6_col0,#T_5294ec7c_e777_11ea_a686_42010a8a0004row7_col0,#T_5294ec7c_e777_11ea_a686_42010a8a0004row8_col0{\n",
       "            width:  20em;\n",
       "            text-align:  center;\n",
       "            font-weight:  bold;\n",
       "        }#T_5294ec7c_e777_11ea_a686_42010a8a0004row0_col1,#T_5294ec7c_e777_11ea_a686_42010a8a0004row0_col2,#T_5294ec7c_e777_11ea_a686_42010a8a0004row1_col1,#T_5294ec7c_e777_11ea_a686_42010a8a0004row1_col2,#T_5294ec7c_e777_11ea_a686_42010a8a0004row2_col1,#T_5294ec7c_e777_11ea_a686_42010a8a0004row2_col2,#T_5294ec7c_e777_11ea_a686_42010a8a0004row3_col1,#T_5294ec7c_e777_11ea_a686_42010a8a0004row3_col2,#T_5294ec7c_e777_11ea_a686_42010a8a0004row4_col1,#T_5294ec7c_e777_11ea_a686_42010a8a0004row4_col2,#T_5294ec7c_e777_11ea_a686_42010a8a0004row5_col1,#T_5294ec7c_e777_11ea_a686_42010a8a0004row5_col2,#T_5294ec7c_e777_11ea_a686_42010a8a0004row6_col1,#T_5294ec7c_e777_11ea_a686_42010a8a0004row6_col2,#T_5294ec7c_e777_11ea_a686_42010a8a0004row7_col1,#T_5294ec7c_e777_11ea_a686_42010a8a0004row7_col2,#T_5294ec7c_e777_11ea_a686_42010a8a0004row8_col1,#T_5294ec7c_e777_11ea_a686_42010a8a0004row8_col2{\n",
       "            width:  20em;\n",
       "            text-align:  center;\n",
       "        }</style><table id=\"T_5294ec7c_e777_11ea_a686_42010a8a0004\" ><thead>    <tr>        <th class=\"col_heading level0 col0\" >Date</th>        <th class=\"col_heading level0 col1\" >Time</th>        <th class=\"col_heading level0 col2\" ></th>    </tr></thead><tbody>\n",
       "                <tr>\n",
       "                                <td id=\"T_5294ec7c_e777_11ea_a686_42010a8a0004row0_col0\" class=\"data row0 col0\" >2020-08-26</td>\n",
       "                        <td id=\"T_5294ec7c_e777_11ea_a686_42010a8a0004row0_col1\" class=\"data row0 col1\" >222.1</td>\n",
       "                        <td id=\"T_5294ec7c_e777_11ea_a686_42010a8a0004row0_col2\" class=\"data row0 col2\" > ✔</td>\n",
       "            </tr>\n",
       "            <tr>\n",
       "                                <td id=\"T_5294ec7c_e777_11ea_a686_42010a8a0004row1_col0\" class=\"data row1 col0\" >2020-08-26</td>\n",
       "                        <td id=\"T_5294ec7c_e777_11ea_a686_42010a8a0004row1_col1\" class=\"data row1 col1\" >222.1</td>\n",
       "                        <td id=\"T_5294ec7c_e777_11ea_a686_42010a8a0004row1_col2\" class=\"data row1 col2\" > ✔</td>\n",
       "            </tr>\n",
       "            <tr>\n",
       "                                <td id=\"T_5294ec7c_e777_11ea_a686_42010a8a0004row2_col0\" class=\"data row2 col0\" >2020-08-26</td>\n",
       "                        <td id=\"T_5294ec7c_e777_11ea_a686_42010a8a0004row2_col1\" class=\"data row2 col1\" >222.1</td>\n",
       "                        <td id=\"T_5294ec7c_e777_11ea_a686_42010a8a0004row2_col2\" class=\"data row2 col2\" > ✔</td>\n",
       "            </tr>\n",
       "            <tr>\n",
       "                                <td id=\"T_5294ec7c_e777_11ea_a686_42010a8a0004row3_col0\" class=\"data row3 col0\" >2020-08-26</td>\n",
       "                        <td id=\"T_5294ec7c_e777_11ea_a686_42010a8a0004row3_col1\" class=\"data row3 col1\" >222.1</td>\n",
       "                        <td id=\"T_5294ec7c_e777_11ea_a686_42010a8a0004row3_col2\" class=\"data row3 col2\" > ✔</td>\n",
       "            </tr>\n",
       "            <tr>\n",
       "                                <td id=\"T_5294ec7c_e777_11ea_a686_42010a8a0004row4_col0\" class=\"data row4 col0\" >2020-08-26</td>\n",
       "                        <td id=\"T_5294ec7c_e777_11ea_a686_42010a8a0004row4_col1\" class=\"data row4 col1\" >222.1</td>\n",
       "                        <td id=\"T_5294ec7c_e777_11ea_a686_42010a8a0004row4_col2\" class=\"data row4 col2\" > ✔</td>\n",
       "            </tr>\n",
       "            <tr>\n",
       "                                <td id=\"T_5294ec7c_e777_11ea_a686_42010a8a0004row5_col0\" class=\"data row5 col0\" >2020-08-26</td>\n",
       "                        <td id=\"T_5294ec7c_e777_11ea_a686_42010a8a0004row5_col1\" class=\"data row5 col1\" >222.1</td>\n",
       "                        <td id=\"T_5294ec7c_e777_11ea_a686_42010a8a0004row5_col2\" class=\"data row5 col2\" > ✔</td>\n",
       "            </tr>\n",
       "            <tr>\n",
       "                                <td id=\"T_5294ec7c_e777_11ea_a686_42010a8a0004row6_col0\" class=\"data row6 col0\" >2020-08-26</td>\n",
       "                        <td id=\"T_5294ec7c_e777_11ea_a686_42010a8a0004row6_col1\" class=\"data row6 col1\" >222.1</td>\n",
       "                        <td id=\"T_5294ec7c_e777_11ea_a686_42010a8a0004row6_col2\" class=\"data row6 col2\" > ✔</td>\n",
       "            </tr>\n",
       "            <tr>\n",
       "                                <td id=\"T_5294ec7c_e777_11ea_a686_42010a8a0004row7_col0\" class=\"data row7 col0\" >2020-08-26</td>\n",
       "                        <td id=\"T_5294ec7c_e777_11ea_a686_42010a8a0004row7_col1\" class=\"data row7 col1\" >222.1</td>\n",
       "                        <td id=\"T_5294ec7c_e777_11ea_a686_42010a8a0004row7_col2\" class=\"data row7 col2\" > ✔</td>\n",
       "            </tr>\n",
       "            <tr>\n",
       "                                <td id=\"T_5294ec7c_e777_11ea_a686_42010a8a0004row8_col0\" class=\"data row8 col0\" >2020-08-26</td>\n",
       "                        <td id=\"T_5294ec7c_e777_11ea_a686_42010a8a0004row8_col1\" class=\"data row8 col1\" >222.1</td>\n",
       "                        <td id=\"T_5294ec7c_e777_11ea_a686_42010a8a0004row8_col2\" class=\"data row8 col2\" > ✔</td>\n",
       "            </tr>\n",
       "    </tbody></table>"
      ],
      "text/plain": [
       "<pandas.io.formats.style.Styler at 0x7f1812f40358>"
      ]
     },
     "execution_count": 12,
     "metadata": {},
     "output_type": "execute_result"
    }
   ],
   "source": [
    "# Style the pandas dataframe\n",
    "d = dict(selector=\"th\",\n",
    "         props=[('text-align', 'center')])\n",
    "\n",
    "result.reset_index().style\\\n",
    "    .set_properties(**{'width':'20em', 'text-align':'center'})\\\n",
    "    .set_properties(subset=['Date'], **{'font-weight': 'bold'})\\\n",
    "    .set_table_styles([d])\\\n",
    "    .set_precision(1)\\\n",
    "    .hide_index()"
   ]
  },
  {
   "cell_type": "markdown",
   "metadata": {
    "papermill": {
     "duration": 0.011852,
     "end_time": "2020-08-26T08:37:06.115829",
     "exception": false,
     "start_time": "2020-08-26T08:37:06.103977",
     "status": "completed"
    },
    "tags": []
   },
   "source": [
    "<sup>Notes: (1) 7 day average with a 7-day lag. (2) 14 day average. (3) 7 day average with a 7-day lag. (4) Change in 3 day average.</sup>"
   ]
  },
  {
   "cell_type": "code",
   "execution_count": 13,
   "metadata": {
    "execution": {
     "iopub.execute_input": "2020-08-26T08:37:06.144468Z",
     "iopub.status.busy": "2020-08-26T08:37:06.143976Z",
     "iopub.status.idle": "2020-08-26T08:37:06.147095Z",
     "shell.execute_reply": "2020-08-26T08:37:06.147452Z"
    },
    "papermill": {
     "duration": 0.020178,
     "end_time": "2020-08-26T08:37:06.147600",
     "exception": false,
     "start_time": "2020-08-26T08:37:06.127422",
     "status": "completed"
    },
    "tags": [
     "remove_input"
    ]
   },
   "outputs": [
    {
     "data": {
      "text/markdown": [
       "Table last updated by CDPH on August 25, 2020."
      ],
      "text/plain": [
       "<IPython.core.display.Markdown object>"
      ]
     },
     "execution_count": 13,
     "metadata": {},
     "output_type": "execute_result"
    }
   ],
   "source": [
    "md(update_tag)"
   ]
  },
  {
   "cell_type": "markdown",
   "metadata": {
    "papermill": {
     "duration": 0.013771,
     "end_time": "2020-08-26T08:37:06.173438",
     "exception": false,
     "start_time": "2020-08-26T08:37:06.159667",
     "status": "completed"
    },
    "tags": []
   },
   "source": [
    "## Tracking county closures in Santa Barbara"
   ]
  },
  {
   "cell_type": "markdown",
   "metadata": {
    "papermill": {
     "duration": 0.012963,
     "end_time": "2020-08-26T08:37:06.198478",
     "exception": false,
     "start_time": "2020-08-26T08:37:06.185515",
     "status": "completed"
    },
    "tags": []
   },
   "source": [
    "The state of California is using a data-driven approach informed by scientific evidence to tailor its response to COVID-19. Three dimensions of concern are monitored to assess whether a county should be placed on the County Monitoring List:\n",
    " 1. Elevated Disease Transmission\n",
    " 2. Increasing Hospitalization\n",
    " 3. Limited Hospital Capacity\n",
    "\n",
    "Once a county appears on the County Monitoring List for three consecutive days, indoor operations in the sectors listed in Section 3 of the [July 13th State Health Officer Order](https://www.cdph.ca.gov/Programs/CID/DCDC/CDPH%20Document%20Library/COVID-19/SHO%20Order%20Dimming%20Entire%20State%207-13-2020.pdf) must close.\n",
    "\n",
    "This table tracks where Santa Barbara stands in terms of the criteria for inclusion on the County Monitoring List. As of 20 August 2020, the criteria for inclusion on the monitoring list are:\n",
    "\n",
    "* Case rate >100 OR (Case rate >25 AND Positivity >8%)\n",
    "* \\>10% increase in hospitalizations\n",
    "* <20% ICU beds available OR <25% ventilators available\n",
    "\n",
    "If Santa Barbara meets the criteria for removal from the County Monitoring List for a certain metric, then a checkmark ✔ is displayed in the table.\n",
    "\n",
    "Read more at <https://covid19.ca.gov/roadmap-counties/>.\n",
    "\n",
    "Data source for county metrics: https://www.cdph.ca.gov/Programs/CID/DCDC/Pages/COVID-19/COVID19CountyDataTable.aspx."
   ]
  },
  {
   "cell_type": "markdown",
   "metadata": {
    "papermill": {
     "duration": 0.011935,
     "end_time": "2020-08-26T08:37:06.222510",
     "exception": false,
     "start_time": "2020-08-26T08:37:06.210575",
     "status": "completed"
    },
    "tags": []
   },
   "source": [
    "**See the code used to scrape the data: https://github.com/walice/COVID-SB/.**"
   ]
  },
  {
   "cell_type": "code",
   "execution_count": 14,
   "metadata": {
    "execution": {
     "iopub.execute_input": "2020-08-26T08:37:06.252580Z",
     "iopub.status.busy": "2020-08-26T08:37:06.252078Z",
     "iopub.status.idle": "2020-08-26T08:37:06.256298Z",
     "shell.execute_reply": "2020-08-26T08:37:06.256666Z"
    },
    "papermill": {
     "duration": 0.02209,
     "end_time": "2020-08-26T08:37:06.256825",
     "exception": false,
     "start_time": "2020-08-26T08:37:06.234735",
     "status": "completed"
    },
    "tags": [
     "remove_cell"
    ]
   },
   "outputs": [
    {
     "data": {
      "application/javascript": [
       "IPython.notebook.save_notebook()\n"
      ],
      "text/plain": [
       "<IPython.core.display.Javascript object>"
      ]
     },
     "metadata": {},
     "output_type": "display_data"
    }
   ],
   "source": [
    "%%javascript\n",
    "IPython.notebook.save_notebook()"
   ]
  },
  {
   "cell_type": "code",
   "execution_count": 15,
   "metadata": {
    "execution": {
     "iopub.execute_input": "2020-08-26T08:37:06.287562Z",
     "iopub.status.busy": "2020-08-26T08:37:06.287058Z",
     "iopub.status.idle": "2020-08-26T08:37:06.403112Z",
     "shell.execute_reply": "2020-08-26T08:37:06.402182Z"
    },
    "papermill": {
     "duration": 0.134207,
     "end_time": "2020-08-26T08:37:06.403245",
     "exception": false,
     "start_time": "2020-08-26T08:37:06.269038",
     "status": "completed"
    },
    "slideshow": {
     "slide_type": "skip"
    },
    "tags": [
     "remove_cell"
    ]
   },
   "outputs": [
    {
     "name": "stdout",
     "output_type": "stream",
     "text": [
      "/bin/sh: 1: jupyter: not found\r\n"
     ]
    }
   ],
   "source": [
    "# Convert Jupyter Notebook to HTML\n",
    "! jupyter nbconvert \"index.ipynb\" --to html --TagRemovePreprocessor.enabled=True --TagRemovePreprocessor.remove_cell_tags=\"['remove_cell']\" --TagRemovePreprocessor.remove_input_tags=\"['remove_input']\" --no-prompt"
   ]
  },
  {
   "cell_type": "code",
   "execution_count": 16,
   "metadata": {
    "execution": {
     "iopub.execute_input": "2020-08-26T08:37:06.435289Z",
     "iopub.status.busy": "2020-08-26T08:37:06.433603Z",
     "iopub.status.idle": "2020-08-26T08:37:06.435902Z",
     "shell.execute_reply": "2020-08-26T08:37:06.436302Z"
    },
    "papermill": {
     "duration": 0.019932,
     "end_time": "2020-08-26T08:37:06.436448",
     "exception": false,
     "start_time": "2020-08-26T08:37:06.416516",
     "status": "completed"
    },
    "tags": [
     "remove_cell"
    ]
   },
   "outputs": [],
   "source": [
    "# Create daily commit message\n",
    "now = datetime.datetime.now()\n",
    "commit_message = \"Last scraped on \" + str(now)"
   ]
  },
  {
   "cell_type": "code",
   "execution_count": null,
   "metadata": {
    "execution": {
     "iopub.execute_input": "2020-08-26T08:36:07.051590Z",
     "iopub.status.busy": "2020-08-26T08:36:07.051059Z",
     "iopub.status.idle": "2020-08-26T08:36:10.649067Z",
     "shell.execute_reply": "2020-08-26T08:36:10.647879Z"
    },
    "papermill": {
     "duration": null,
     "end_time": null,
     "exception": false,
     "start_time": "2020-08-26T08:37:06.448738",
     "status": "running"
    },
    "tags": [
     "remove_cell"
    ]
   },
   "outputs": [],
   "source": [
    "# Deploy to GitHub\n",
    "! git add .\n",
    "! echo $commit_message > commit_message.txt\n",
    "! git commit -F commit_message.txt\n",
    "! git push"
   ]
  }
 ],
 "metadata": {
  "celltoolbar": "Tags",
  "kernelspec": {
   "display_name": "Python 3",
   "language": "python",
   "name": "python3"
  },
  "language_info": {
   "codemirror_mode": {
    "name": "ipython",
    "version": 3
   },
   "file_extension": ".py",
   "mimetype": "text/x-python",
   "name": "python",
   "nbconvert_exporter": "python",
   "pygments_lexer": "ipython3",
   "version": "3.7.3"
  },
  "papermill": {
   "duration": null,
   "end_time": null,
   "environment_variables": {},
   "exception": null,
   "input_path": "/home/alice_lepissier/cron-job/index.ipynb",
   "output_path": "/home/alice_lepissier/cron-job/index.ipynb",
   "parameters": {},
   "start_time": "2020-08-26T08:37:01.443831",
   "version": "2.1.3"
  }
 },
 "nbformat": 4,
 "nbformat_minor": 4
}