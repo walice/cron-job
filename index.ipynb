{
 "cells": [
  {
   "cell_type": "markdown",
   "metadata": {
    "papermill": {
     "duration": 0.012204,
     "end_time": "2020-08-26T19:12:56.196530",
     "exception": false,
     "start_time": "2020-08-26T19:12:56.184326",
     "status": "completed"
    },
    "tags": []
   },
   "source": [
    "# Daily COVID monitoring data for Santa Barbara county"
   ]
  },
  {
   "cell_type": "code",
   "execution_count": 1,
   "metadata": {
    "execution": {
     "iopub.execute_input": "2020-08-26T19:12:56.229642Z",
     "iopub.status.busy": "2020-08-26T19:12:56.229065Z",
     "iopub.status.idle": "2020-08-26T19:12:56.346310Z",
     "shell.execute_reply": "2020-08-26T19:12:56.345269Z"
    },
    "papermill": {
     "duration": 0.138515,
     "end_time": "2020-08-26T19:12:56.346461",
     "exception": false,
     "start_time": "2020-08-26T19:12:56.207946",
     "status": "completed"
    },
    "tags": [
     "remove_cell"
    ]
   },
   "outputs": [
    {
     "name": "stdout",
     "output_type": "stream",
     "text": [
      "/bin/bash: jt: command not found\r\n"
     ]
    }
   ],
   "source": [
    "! jt -t grade3 -tf robotosans -cellw 1100"
   ]
  },
  {
   "cell_type": "markdown",
   "metadata": {
    "papermill": {
     "duration": 0.011088,
     "end_time": "2020-08-26T19:12:56.370168",
     "exception": false,
     "start_time": "2020-08-26T19:12:56.359080",
     "status": "completed"
    },
    "tags": []
   },
   "source": [
    "This table is automatically updated with new daily COVID data for the county of Santa Barbara, CA. Every day, the California Department of Public Health publishes COVID tracking metrics for each county, but does not save the previous day's data. This tool keeps track of the daily metrics that are used to monitor progress towards safe reopening in California."
   ]
  },
  {
   "cell_type": "code",
   "execution_count": 2,
   "metadata": {
    "execution": {
     "iopub.execute_input": "2020-08-26T19:12:56.397169Z",
     "iopub.status.busy": "2020-08-26T19:12:56.396643Z",
     "iopub.status.idle": "2020-08-26T19:12:59.531782Z",
     "shell.execute_reply": "2020-08-26T19:12:59.532373Z"
    },
    "papermill": {
     "duration": 3.151414,
     "end_time": "2020-08-26T19:12:59.532537",
     "exception": false,
     "start_time": "2020-08-26T19:12:56.381123",
     "status": "completed"
    },
    "slideshow": {
     "slide_type": "skip"
    },
    "tags": [
     "remove_cell"
    ]
   },
   "outputs": [],
   "source": [
    "# Preamble\n",
    "import os\n",
    "from IPython.display import Markdown as md\n",
    "import IPython\n",
    "import requests\n",
    "from bs4 import BeautifulSoup\n",
    "import re\n",
    "import pandas as pd\n",
    "import datetime\n",
    "import gspread\n",
    "from oauth2client.service_account import ServiceAccountCredentials"
   ]
  },
  {
   "cell_type": "code",
   "execution_count": 3,
   "metadata": {
    "execution": {
     "iopub.execute_input": "2020-08-26T19:12:59.563598Z",
     "iopub.status.busy": "2020-08-26T19:12:59.562973Z",
     "iopub.status.idle": "2020-08-26T19:12:59.564464Z",
     "shell.execute_reply": "2020-08-26T19:12:59.564052Z"
    },
    "papermill": {
     "duration": 0.018955,
     "end_time": "2020-08-26T19:12:59.564581",
     "exception": false,
     "start_time": "2020-08-26T19:12:59.545626",
     "status": "completed"
    },
    "tags": []
   },
   "outputs": [],
   "source": [
    "# Set working directory\n",
    "os.chdir(\"/home/alice_lepissier/cron-job\")"
   ]
  },
  {
   "cell_type": "code",
   "execution_count": 4,
   "metadata": {
    "execution": {
     "iopub.execute_input": "2020-08-26T19:12:59.592930Z",
     "iopub.status.busy": "2020-08-26T19:12:59.592389Z",
     "iopub.status.idle": "2020-08-26T19:13:01.424550Z",
     "shell.execute_reply": "2020-08-26T19:13:01.425445Z"
    },
    "papermill": {
     "duration": 1.849841,
     "end_time": "2020-08-26T19:13:01.425615",
     "exception": false,
     "start_time": "2020-08-26T19:12:59.575774",
     "status": "completed"
    },
    "slideshow": {
     "slide_type": "skip"
    },
    "tags": [
     "remove_cell"
    ]
   },
   "outputs": [],
   "source": [
    "# Request content from URL\n",
    "html_string = requests.get('https://www.cdph.ca.gov/Programs/CID/DCDC/Pages/COVID-19/COVID19CountyDataTable.aspx').content"
   ]
  },
  {
   "cell_type": "code",
   "execution_count": 5,
   "metadata": {
    "execution": {
     "iopub.execute_input": "2020-08-26T19:13:01.455558Z",
     "iopub.status.busy": "2020-08-26T19:13:01.455072Z",
     "iopub.status.idle": "2020-08-26T19:13:01.549879Z",
     "shell.execute_reply": "2020-08-26T19:13:01.550743Z"
    },
    "papermill": {
     "duration": 0.112893,
     "end_time": "2020-08-26T19:13:01.550905",
     "exception": false,
     "start_time": "2020-08-26T19:13:01.438012",
     "status": "completed"
    },
    "slideshow": {
     "slide_type": "skip"
    },
    "tags": [
     "remove_cell"
    ]
   },
   "outputs": [],
   "source": [
    "# Parse HTML\n",
    "soup = BeautifulSoup(html_string, 'html.parser')"
   ]
  },
  {
   "cell_type": "code",
   "execution_count": 6,
   "metadata": {
    "execution": {
     "iopub.execute_input": "2020-08-26T19:13:01.579552Z",
     "iopub.status.busy": "2020-08-26T19:13:01.579042Z",
     "iopub.status.idle": "2020-08-26T19:13:01.588861Z",
     "shell.execute_reply": "2020-08-26T19:13:01.589614Z"
    },
    "papermill": {
     "duration": 0.027187,
     "end_time": "2020-08-26T19:13:01.589776",
     "exception": false,
     "start_time": "2020-08-26T19:13:01.562589",
     "status": "completed"
    },
    "slideshow": {
     "slide_type": "skip"
    },
    "tags": [
     "remove_cell"
    ]
   },
   "outputs": [],
   "source": [
    "# Extract data for Santa Barbara\n",
    "table = soup.find_all(\"tr\", class_=\"ms-rteTableEvenRow-3\")\n",
    "SB = table[21]"
   ]
  },
  {
   "cell_type": "code",
   "execution_count": 7,
   "metadata": {
    "execution": {
     "iopub.execute_input": "2020-08-26T19:13:01.619507Z",
     "iopub.status.busy": "2020-08-26T19:13:01.619020Z",
     "iopub.status.idle": "2020-08-26T19:13:01.630656Z",
     "shell.execute_reply": "2020-08-26T19:13:01.631515Z"
    },
    "papermill": {
     "duration": 0.030441,
     "end_time": "2020-08-26T19:13:01.631670",
     "exception": false,
     "start_time": "2020-08-26T19:13:01.601229",
     "status": "completed"
    },
    "slideshow": {
     "slide_type": "skip"
    },
    "tags": [
     "remove_cell"
    ]
   },
   "outputs": [],
   "source": [
    "# Avg # tests per day (per 100,000 population)\n",
    "daily_tests = SB.find_all(\"td\", class_=\"ms-rteTableOddCol-3\")[0].text\n",
    "\n",
    "# Case rate per 100,000\n",
    "case_rate = SB.find_all(\"td\", class_=\"ms-rteTableEvenCol-3\")[1].text\n",
    "\n",
    "# Testing positivity (%)\n",
    "test_positivity = SB.find_all(\"td\", class_=\"ms-rteTableOddCol-3\")[1].text\n",
    "\n",
    "# % Change in 3-day avg COVID+ hospitalized patients\n",
    "change_hospit = SB.find_all(\"td\", class_=\"ms-rteTableEvenCol-3\")[2].text\n",
    "\n",
    "# % ICU beds currently available\n",
    "ICU_beds = SB.find_all(\"td\", class_=\"ms-rteTableOddCol-3\")[2].text\n",
    "\n",
    "# % Ventilators currently available\n",
    "ventilators = SB.find_all(\"td\", class_=\"ms-rteTableEvenCol-3\")[3].text\n",
    "\n",
    "# Extract date of last update\n",
    "update_date = soup.find_all(\"span\", class_=\"ms-rteStyle-Accent1\")[1]\\\n",
    "    .find(\"em\").text"
   ]
  },
  {
   "cell_type": "code",
   "execution_count": 8,
   "metadata": {
    "execution": {
     "iopub.execute_input": "2020-08-26T19:13:01.659215Z",
     "iopub.status.busy": "2020-08-26T19:13:01.658624Z",
     "iopub.status.idle": "2020-08-26T19:13:01.660044Z",
     "shell.execute_reply": "2020-08-26T19:13:01.659640Z"
    },
    "papermill": {
     "duration": 0.017338,
     "end_time": "2020-08-26T19:13:01.660151",
     "exception": false,
     "start_time": "2020-08-26T19:13:01.642813",
     "status": "completed"
    },
    "tags": [
     "remove_cell"
    ]
   },
   "outputs": [],
   "source": [
    "# Create updated date string\n",
    "update_tag = \"Table last updated by CDPH on \" + update_date.split(\" on \", 1)[1] + \".\""
   ]
  },
  {
   "cell_type": "code",
   "execution_count": 9,
   "metadata": {
    "execution": {
     "iopub.execute_input": "2020-08-26T19:13:01.686273Z",
     "iopub.status.busy": "2020-08-26T19:13:01.685732Z",
     "iopub.status.idle": "2020-08-26T19:13:01.736352Z",
     "shell.execute_reply": "2020-08-26T19:13:01.737147Z"
    },
    "papermill": {
     "duration": 0.066065,
     "end_time": "2020-08-26T19:13:01.737307",
     "exception": false,
     "start_time": "2020-08-26T19:13:01.671242",
     "status": "completed"
    },
    "slideshow": {
     "slide_type": "skip"
    },
    "tags": [
     "remove_cell"
    ]
   },
   "outputs": [],
   "source": [
    "# Set up Google Sheet API\n",
    "scope = [\"https://spreadsheets.google.com/feeds\",'https://www.googleapis.com/auth/spreadsheets',\"https://www.googleapis.com/auth/drive.file\",\"https://www.googleapis.com/auth/drive\"]\n",
    "creds = ServiceAccountCredentials.from_json_keyfile_name(\"credentials.json\", scope)\n",
    "client = gspread.authorize(creds)"
   ]
  },
  {
   "cell_type": "code",
   "execution_count": 10,
   "metadata": {
    "execution": {
     "iopub.execute_input": "2020-08-26T19:13:01.767590Z",
     "iopub.status.busy": "2020-08-26T19:13:01.767095Z",
     "iopub.status.idle": "2020-08-26T19:13:03.217190Z",
     "shell.execute_reply": "2020-08-26T19:13:03.217948Z"
    },
    "papermill": {
     "duration": 1.469579,
     "end_time": "2020-08-26T19:13:03.218131",
     "exception": false,
     "start_time": "2020-08-26T19:13:01.748552",
     "status": "completed"
    },
    "slideshow": {
     "slide_type": "skip"
    },
    "tags": [
     "remove_cell"
    ]
   },
   "outputs": [
    {
     "data": {
      "text/plain": [
       "{'spreadsheetId': '1pcqdMzKtea2Oq3BDmdAOQ21gZjCssieKI0692VfNLXU',\n",
       " 'updatedRange': 'Sheet1!A2:G2',\n",
       " 'updatedRows': 1,\n",
       " 'updatedColumns': 7,\n",
       " 'updatedCells': 7}"
      ]
     },
     "execution_count": 10,
     "metadata": {},
     "output_type": "execute_result"
    }
   ],
   "source": [
    "# Append daily data as a new row in Google Sheet\n",
    "sheet = client.open(\"Test cron job\").sheet1\n",
    "insertRow = [datetime.date.today().strftime(\"%Y-%m-%d\"),\n",
    "             daily_tests,\n",
    "             case_rate,\n",
    "             test_positivity,\n",
    "             change_hospit,\n",
    "             ICU_beds,\n",
    "             ventilators]\n",
    "sheet.insert_row(insertRow, 2)"
   ]
  },
  {
   "cell_type": "code",
   "execution_count": 11,
   "metadata": {
    "execution": {
     "iopub.execute_input": "2020-08-26T19:13:03.246783Z",
     "iopub.status.busy": "2020-08-26T19:13:03.246267Z",
     "iopub.status.idle": "2020-08-26T19:13:03.778048Z",
     "shell.execute_reply": "2020-08-26T19:13:03.778875Z"
    },
    "papermill": {
     "duration": 0.549207,
     "end_time": "2020-08-26T19:13:03.779039",
     "exception": false,
     "start_time": "2020-08-26T19:13:03.229832",
     "status": "completed"
    },
    "scrolled": true,
    "slideshow": {
     "slide_type": "slide"
    },
    "tags": [
     "remove_cell"
    ]
   },
   "outputs": [],
   "source": [
    "# Extract data from Google Sheet as pandas dataframe\n",
    "sheet = client.open(\"Test cron job\").sheet1\n",
    "data = sheet.get_all_records()\n",
    "result = pd.DataFrame(data).set_index(\"Date\")"
   ]
  },
  {
   "cell_type": "code",
   "execution_count": 12,
   "metadata": {
    "execution": {
     "iopub.execute_input": "2020-08-26T19:13:03.807558Z",
     "iopub.status.busy": "2020-08-26T19:13:03.807050Z",
     "iopub.status.idle": "2020-08-26T19:13:05.316183Z",
     "shell.execute_reply": "2020-08-26T19:13:05.317253Z"
    },
    "papermill": {
     "duration": 1.526656,
     "end_time": "2020-08-26T19:13:05.317424",
     "exception": false,
     "start_time": "2020-08-26T19:13:03.790768",
     "status": "completed"
    },
    "scrolled": true,
    "tags": [
     "remove_input"
    ]
   },
   "outputs": [
    {
     "data": {
      "text/html": [
       "<style  type=\"text/css\" >\n",
       "    #T_2b40888a_e7d0_11ea_99db_42010a8a0004 th {\n",
       "          text-align: center;\n",
       "    }#T_2b40888a_e7d0_11ea_99db_42010a8a0004row0_col0,#T_2b40888a_e7d0_11ea_99db_42010a8a0004row1_col0{\n",
       "            width:  20em;\n",
       "            text-align:  center;\n",
       "            font-weight:  bold;\n",
       "        }#T_2b40888a_e7d0_11ea_99db_42010a8a0004row0_col1,#T_2b40888a_e7d0_11ea_99db_42010a8a0004row0_col2,#T_2b40888a_e7d0_11ea_99db_42010a8a0004row0_col3,#T_2b40888a_e7d0_11ea_99db_42010a8a0004row0_col4,#T_2b40888a_e7d0_11ea_99db_42010a8a0004row0_col5,#T_2b40888a_e7d0_11ea_99db_42010a8a0004row0_col6,#T_2b40888a_e7d0_11ea_99db_42010a8a0004row1_col1,#T_2b40888a_e7d0_11ea_99db_42010a8a0004row1_col2,#T_2b40888a_e7d0_11ea_99db_42010a8a0004row1_col3,#T_2b40888a_e7d0_11ea_99db_42010a8a0004row1_col4,#T_2b40888a_e7d0_11ea_99db_42010a8a0004row1_col5,#T_2b40888a_e7d0_11ea_99db_42010a8a0004row1_col6{\n",
       "            width:  20em;\n",
       "            text-align:  center;\n",
       "        }</style><table id=\"T_2b40888a_e7d0_11ea_99db_42010a8a0004\" ><thead>    <tr>        <th class=\"col_heading level0 col0\" >Date</th>        <th class=\"col_heading level0 col1\" >Daily tests (per 100,000)¹</th>        <th class=\"col_heading level0 col2\" >Case rate (per 100,000)²</th>        <th class=\"col_heading level0 col3\" >Testing positivity (%)³</th>        <th class=\"col_heading level0 col4\" >Change in hospitalizations (%)⁴</th>        <th class=\"col_heading level0 col5\" >ICU beds available (%)</th>        <th class=\"col_heading level0 col6\" >Ventilators (available (%)</th>    </tr></thead><tbody>\n",
       "                <tr>\n",
       "                                <td id=\"T_2b40888a_e7d0_11ea_99db_42010a8a0004row0_col0\" class=\"data row0 col0\" >2020-08-26</td>\n",
       "                        <td id=\"T_2b40888a_e7d0_11ea_99db_42010a8a0004row0_col1\" class=\"data row0 col1\" >219.7</td>\n",
       "                        <td id=\"T_2b40888a_e7d0_11ea_99db_42010a8a0004row0_col2\" class=\"data row0 col2\" >133.2</td>\n",
       "                        <td id=\"T_2b40888a_e7d0_11ea_99db_42010a8a0004row0_col3\" class=\"data row0 col3\" > ✔</td>\n",
       "                        <td id=\"T_2b40888a_e7d0_11ea_99db_42010a8a0004row0_col4\" class=\"data row0 col4\" > ✔</td>\n",
       "                        <td id=\"T_2b40888a_e7d0_11ea_99db_42010a8a0004row0_col5\" class=\"data row0 col5\" > ✔</td>\n",
       "                        <td id=\"T_2b40888a_e7d0_11ea_99db_42010a8a0004row0_col6\" class=\"data row0 col6\" > ✔</td>\n",
       "            </tr>\n",
       "            <tr>\n",
       "                                <td id=\"T_2b40888a_e7d0_11ea_99db_42010a8a0004row1_col0\" class=\"data row1 col0\" >2020-08-26</td>\n",
       "                        <td id=\"T_2b40888a_e7d0_11ea_99db_42010a8a0004row1_col1\" class=\"data row1 col1\" >219.7</td>\n",
       "                        <td id=\"T_2b40888a_e7d0_11ea_99db_42010a8a0004row1_col2\" class=\"data row1 col2\" >133.2</td>\n",
       "                        <td id=\"T_2b40888a_e7d0_11ea_99db_42010a8a0004row1_col3\" class=\"data row1 col3\" > ✔</td>\n",
       "                        <td id=\"T_2b40888a_e7d0_11ea_99db_42010a8a0004row1_col4\" class=\"data row1 col4\" > ✔</td>\n",
       "                        <td id=\"T_2b40888a_e7d0_11ea_99db_42010a8a0004row1_col5\" class=\"data row1 col5\" > ✔</td>\n",
       "                        <td id=\"T_2b40888a_e7d0_11ea_99db_42010a8a0004row1_col6\" class=\"data row1 col6\" > ✔</td>\n",
       "            </tr>\n",
       "    </tbody></table>"
      ],
      "text/plain": [
       "<pandas.io.formats.style.Styler at 0x7fc420390940>"
      ]
     },
     "execution_count": 12,
     "metadata": {},
     "output_type": "execute_result"
    }
   ],
   "source": [
    "# Style the pandas dataframe\n",
    "d = dict(selector=\"th\",\n",
    "         props=[('text-align', 'center')])\n",
    "\n",
    "result.reset_index().style\\\n",
    "    .set_properties(**{'width':'20em', 'text-align':'center'})\\\n",
    "    .set_properties(subset=['Date'], **{'font-weight': 'bold'})\\\n",
    "    .set_table_styles([d])\\\n",
    "    .set_precision(1)\\\n",
    "    .hide_index()"
   ]
  },
  {
   "cell_type": "markdown",
   "metadata": {
    "papermill": {
     "duration": 0.012343,
     "end_time": "2020-08-26T19:13:05.342835",
     "exception": false,
     "start_time": "2020-08-26T19:13:05.330492",
     "status": "completed"
    },
    "tags": []
   },
   "source": [
    "<sup>Notes: (1) 7 day average with a 7-day lag. (2) 14 day average. (3) 7 day average with a 7-day lag. (4) Change in 3 day average.</sup>"
   ]
  },
  {
   "cell_type": "code",
   "execution_count": 13,
   "metadata": {
    "execution": {
     "iopub.execute_input": "2020-08-26T19:13:05.373854Z",
     "iopub.status.busy": "2020-08-26T19:13:05.373285Z",
     "iopub.status.idle": "2020-08-26T19:13:05.376780Z",
     "shell.execute_reply": "2020-08-26T19:13:05.377160Z"
    },
    "papermill": {
     "duration": 0.021991,
     "end_time": "2020-08-26T19:13:05.377301",
     "exception": false,
     "start_time": "2020-08-26T19:13:05.355310",
     "status": "completed"
    },
    "tags": [
     "remove_input"
    ]
   },
   "outputs": [
    {
     "data": {
      "text/markdown": [
       "Table last updated by CDPH on August 25, 2020."
      ],
      "text/plain": [
       "<IPython.core.display.Markdown object>"
      ]
     },
     "execution_count": 13,
     "metadata": {},
     "output_type": "execute_result"
    }
   ],
   "source": [
    "md(update_tag)"
   ]
  },
  {
   "cell_type": "markdown",
   "metadata": {
    "papermill": {
     "duration": 0.011899,
     "end_time": "2020-08-26T19:13:05.401101",
     "exception": false,
     "start_time": "2020-08-26T19:13:05.389202",
     "status": "completed"
    },
    "tags": []
   },
   "source": [
    "## Tracking county closures in Santa Barbara"
   ]
  },
  {
   "cell_type": "markdown",
   "metadata": {
    "papermill": {
     "duration": 0.012127,
     "end_time": "2020-08-26T19:13:05.425228",
     "exception": false,
     "start_time": "2020-08-26T19:13:05.413101",
     "status": "completed"
    },
    "tags": []
   },
   "source": [
    "The state of California is using a data-driven approach informed by scientific evidence to tailor its response to COVID-19. Three dimensions of concern are monitored to assess whether a county should be placed on the County Monitoring List:\n",
    " 1. Elevated Disease Transmission\n",
    " 2. Increasing Hospitalization\n",
    " 3. Limited Hospital Capacity\n",
    "\n",
    "Once a county appears on the County Monitoring List for three consecutive days, indoor operations in the sectors listed in Section 3 of the [July 13th State Health Officer Order](https://www.cdph.ca.gov/Programs/CID/DCDC/CDPH%20Document%20Library/COVID-19/SHO%20Order%20Dimming%20Entire%20State%207-13-2020.pdf) must close.\n",
    "\n",
    "This table tracks where Santa Barbara stands in terms of the criteria for inclusion on the County Monitoring List. As of 20 August 2020, the criteria for inclusion on the monitoring list are:\n",
    "\n",
    "* Case rate >100 OR (Case rate >25 AND Positivity >8%)\n",
    "* \\>10% increase in hospitalizations\n",
    "* <20% ICU beds available OR <25% ventilators available\n",
    "\n",
    "If Santa Barbara meets the criteria for removal from the County Monitoring List for a certain metric, then a checkmark ✔ is displayed in the table.\n",
    "\n",
    "Read more at <https://covid19.ca.gov/roadmap-counties/>.\n",
    "\n",
    "Data source for county metrics: https://www.cdph.ca.gov/Programs/CID/DCDC/Pages/COVID-19/COVID19CountyDataTable.aspx."
   ]
  },
  {
   "cell_type": "markdown",
   "metadata": {
    "papermill": {
     "duration": 0.011708,
     "end_time": "2020-08-26T19:13:05.449490",
     "exception": false,
     "start_time": "2020-08-26T19:13:05.437782",
     "status": "completed"
    },
    "tags": []
   },
   "source": [
    "**See the code used to scrape the data: https://github.com/walice/COVID-SB/.**"
   ]
  },
  {
   "cell_type": "code",
   "execution_count": 14,
   "metadata": {
    "execution": {
     "iopub.execute_input": "2020-08-26T19:13:05.478974Z",
     "iopub.status.busy": "2020-08-26T19:13:05.477893Z",
     "iopub.status.idle": "2020-08-26T19:13:05.481423Z",
     "shell.execute_reply": "2020-08-26T19:13:05.481798Z"
    },
    "papermill": {
     "duration": 0.020688,
     "end_time": "2020-08-26T19:13:05.481937",
     "exception": false,
     "start_time": "2020-08-26T19:13:05.461249",
     "status": "completed"
    },
    "tags": [
     "remove_cell"
    ]
   },
   "outputs": [
    {
     "data": {
      "application/javascript": [
       "IPython.notebook.save_notebook()\n"
      ],
      "text/plain": [
       "<IPython.core.display.Javascript object>"
      ]
     },
     "metadata": {},
     "output_type": "display_data"
    }
   ],
   "source": [
    "%%javascript\n",
    "IPython.notebook.save_notebook()"
   ]
  },
  {
   "cell_type": "code",
   "execution_count": 15,
   "metadata": {
    "execution": {
     "iopub.execute_input": "2020-08-26T19:13:05.518981Z",
     "iopub.status.busy": "2020-08-26T19:13:05.517644Z",
     "iopub.status.idle": "2020-08-26T19:13:05.675268Z",
     "shell.execute_reply": "2020-08-26T19:13:05.674301Z"
    },
    "papermill": {
     "duration": 0.181404,
     "end_time": "2020-08-26T19:13:05.675409",
     "exception": false,
     "start_time": "2020-08-26T19:13:05.494005",
     "status": "completed"
    },
    "slideshow": {
     "slide_type": "skip"
    },
    "tags": [
     "remove_cell"
    ]
   },
   "outputs": [
    {
     "name": "stdout",
     "output_type": "stream",
     "text": [
      "/bin/bash: jupyter: command not found\r\n"
     ]
    }
   ],
   "source": [
    "# Convert Jupyter Notebook to HTML\n",
    "! jupyter nbconvert \"index.ipynb\" --to html --TagRemovePreprocessor.enabled=True --TagRemovePreprocessor.remove_cell_tags=\"['remove_cell']\" --TagRemovePreprocessor.remove_input_tags=\"['remove_input']\" --no-prompt"
   ]
  },
  {
   "cell_type": "code",
   "execution_count": 16,
   "metadata": {
    "execution": {
     "iopub.execute_input": "2020-08-26T19:13:05.708272Z",
     "iopub.status.busy": "2020-08-26T19:13:05.707631Z",
     "iopub.status.idle": "2020-08-26T19:13:05.709121Z",
     "shell.execute_reply": "2020-08-26T19:13:05.708716Z"
    },
    "papermill": {
     "duration": 0.020145,
     "end_time": "2020-08-26T19:13:05.709244",
     "exception": false,
     "start_time": "2020-08-26T19:13:05.689099",
     "status": "completed"
    },
    "tags": [
     "remove_cell"
    ]
   },
   "outputs": [],
   "source": [
    "# Create daily commit message\n",
    "now = datetime.datetime.now()\n",
    "commit_message = \"Last scraped on \" + str(now)"
   ]
  },
  {
   "cell_type": "code",
   "execution_count": null,
   "metadata": {
    "execution": {
     "iopub.execute_input": "2020-08-26T18:51:17.815484Z",
     "iopub.status.busy": "2020-08-26T18:51:17.814988Z",
     "iopub.status.idle": "2020-08-26T18:51:23.267444Z",
     "shell.execute_reply": "2020-08-26T18:51:23.266253Z"
    },
    "papermill": {
     "duration": null,
     "end_time": null,
     "exception": false,
     "start_time": "2020-08-26T19:13:05.721681",
     "status": "running"
    },
    "tags": [
     "remove_cell"
    ]
   },
   "outputs": [],
   "source": [
    "# Deploy to GitHub\n",
    "! git add .\n",
    "! echo $commit_message > commit_message.txt\n",
    "! git commit -F commit_message.txt\n",
    "! git push"
   ]
  }
 ],
 "metadata": {
  "celltoolbar": "Tags",
  "kernelspec": {
   "display_name": "Python 3",
   "language": "python",
   "name": "python3"
  },
  "language_info": {
   "codemirror_mode": {
    "name": "ipython",
    "version": 3
   },
   "file_extension": ".py",
   "mimetype": "text/x-python",
   "name": "python",
   "nbconvert_exporter": "python",
   "pygments_lexer": "ipython3",
   "version": "3.7.3"
  },
  "papermill": {
   "duration": null,
   "end_time": null,
   "environment_variables": {},
   "exception": null,
   "input_path": "/home/alice_lepissier/cron-job/index.ipynb",
   "output_path": "/home/alice_lepissier/cron-job/index.ipynb",
   "parameters": {},
   "start_time": "2020-08-26T19:12:53.826230",
   "version": "2.1.3"
  }
 },
 "nbformat": 4,
 "nbformat_minor": 4
}