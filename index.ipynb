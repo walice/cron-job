{
 "cells": [
  {
   "cell_type": "markdown",
   "metadata": {
    "papermill": {
     "duration": 0.012021,
     "end_time": "2020-08-26T08:45:02.312795",
     "exception": false,
     "start_time": "2020-08-26T08:45:02.300774",
     "status": "completed"
    },
    "tags": []
   },
   "source": [
    "# Daily COVID monitoring data for Santa Barbara county"
   ]
  },
  {
   "cell_type": "code",
   "execution_count": 1,
   "metadata": {
    "execution": {
     "iopub.execute_input": "2020-08-26T08:45:02.342897Z",
     "iopub.status.busy": "2020-08-26T08:45:02.342366Z",
     "iopub.status.idle": "2020-08-26T08:45:02.454825Z",
     "shell.execute_reply": "2020-08-26T08:45:02.453762Z"
    },
    "papermill": {
     "duration": 0.13088,
     "end_time": "2020-08-26T08:45:02.454976",
     "exception": false,
     "start_time": "2020-08-26T08:45:02.324096",
     "status": "completed"
    },
    "tags": [
     "remove_cell"
    ]
   },
   "outputs": [
    {
     "name": "stdout",
     "output_type": "stream",
     "text": [
      "/bin/sh: 1: jt: not found\r\n"
     ]
    }
   ],
   "source": [
    "! jt -t grade3 -tf robotosans -cellw 1100"
   ]
  },
  {
   "cell_type": "markdown",
   "metadata": {
    "papermill": {
     "duration": 0.010997,
     "end_time": "2020-08-26T08:45:02.477519",
     "exception": false,
     "start_time": "2020-08-26T08:45:02.466522",
     "status": "completed"
    },
    "tags": []
   },
   "source": [
    "This table is automatically updated with new daily COVID data for the county of Santa Barbara, CA. Every day, the California Department of Public Health publishes COVID tracking metrics for each county, but does not save the previous day's data. This tool keeps track of the daily metrics that are used to monitor progress towards safe reopening in California."
   ]
  },
  {
   "cell_type": "code",
   "execution_count": 2,
   "metadata": {
    "execution": {
     "iopub.execute_input": "2020-08-26T08:45:02.507542Z",
     "iopub.status.busy": "2020-08-26T08:45:02.507011Z",
     "iopub.status.idle": "2020-08-26T08:45:02.912989Z",
     "shell.execute_reply": "2020-08-26T08:45:02.913782Z"
    },
    "papermill": {
     "duration": 0.425566,
     "end_time": "2020-08-26T08:45:02.913960",
     "exception": false,
     "start_time": "2020-08-26T08:45:02.488394",
     "status": "completed"
    },
    "slideshow": {
     "slide_type": "skip"
    },
    "tags": [
     "remove_cell"
    ]
   },
   "outputs": [],
   "source": [
    "# Preamble\n",
    "import os\n",
    "from IPython.display import Markdown as md\n",
    "import IPython\n",
    "import requests\n",
    "from bs4 import BeautifulSoup\n",
    "import re\n",
    "import pandas as pd\n",
    "import datetime\n",
    "import gspread\n",
    "from oauth2client.service_account import ServiceAccountCredentials"
   ]
  },
  {
   "cell_type": "code",
   "execution_count": 3,
   "metadata": {
    "execution": {
     "iopub.execute_input": "2020-08-26T08:45:02.941740Z",
     "iopub.status.busy": "2020-08-26T08:45:02.941150Z",
     "iopub.status.idle": "2020-08-26T08:45:02.942617Z",
     "shell.execute_reply": "2020-08-26T08:45:02.942201Z"
    },
    "papermill": {
     "duration": 0.017315,
     "end_time": "2020-08-26T08:45:02.942725",
     "exception": false,
     "start_time": "2020-08-26T08:45:02.925410",
     "status": "completed"
    },
    "tags": []
   },
   "outputs": [],
   "source": [
    "# Set working directory\n",
    "os.chdir(\"/home/alice_lepissier/cron-job\")"
   ]
  },
  {
   "cell_type": "code",
   "execution_count": 4,
   "metadata": {
    "execution": {
     "iopub.execute_input": "2020-08-26T08:45:02.970685Z",
     "iopub.status.busy": "2020-08-26T08:45:02.970136Z",
     "iopub.status.idle": "2020-08-26T08:45:05.161754Z",
     "shell.execute_reply": "2020-08-26T08:45:05.162637Z"
    },
    "papermill": {
     "duration": 2.209174,
     "end_time": "2020-08-26T08:45:05.162808",
     "exception": false,
     "start_time": "2020-08-26T08:45:02.953634",
     "status": "completed"
    },
    "slideshow": {
     "slide_type": "skip"
    },
    "tags": [
     "remove_cell"
    ]
   },
   "outputs": [],
   "source": [
    "# Request content from URL\n",
    "html_string = requests.get('https://www.cdph.ca.gov/Programs/CID/DCDC/Pages/COVID-19/COVID19CountyDataTable.aspx').content"
   ]
  },
  {
   "cell_type": "code",
   "execution_count": 5,
   "metadata": {
    "execution": {
     "iopub.execute_input": "2020-08-26T08:45:05.191553Z",
     "iopub.status.busy": "2020-08-26T08:45:05.191027Z",
     "iopub.status.idle": "2020-08-26T08:45:05.273706Z",
     "shell.execute_reply": "2020-08-26T08:45:05.274559Z"
    },
    "papermill": {
     "duration": 0.100313,
     "end_time": "2020-08-26T08:45:05.274721",
     "exception": false,
     "start_time": "2020-08-26T08:45:05.174408",
     "status": "completed"
    },
    "slideshow": {
     "slide_type": "skip"
    },
    "tags": [
     "remove_cell"
    ]
   },
   "outputs": [],
   "source": [
    "# Parse HTML\n",
    "soup = BeautifulSoup(html_string, 'html.parser')"
   ]
  },
  {
   "cell_type": "code",
   "execution_count": 6,
   "metadata": {
    "execution": {
     "iopub.execute_input": "2020-08-26T08:45:05.303541Z",
     "iopub.status.busy": "2020-08-26T08:45:05.303019Z",
     "iopub.status.idle": "2020-08-26T08:45:05.312672Z",
     "shell.execute_reply": "2020-08-26T08:45:05.313417Z"
    },
    "papermill": {
     "duration": 0.027315,
     "end_time": "2020-08-26T08:45:05.313569",
     "exception": false,
     "start_time": "2020-08-26T08:45:05.286254",
     "status": "completed"
    },
    "slideshow": {
     "slide_type": "skip"
    },
    "tags": [
     "remove_cell"
    ]
   },
   "outputs": [],
   "source": [
    "# Extract data for Santa Barbara\n",
    "table = soup.find_all(\"tr\", class_=\"ms-rteTableEvenRow-3\")\n",
    "SB = table[21]"
   ]
  },
  {
   "cell_type": "code",
   "execution_count": 7,
   "metadata": {
    "execution": {
     "iopub.execute_input": "2020-08-26T08:45:05.344760Z",
     "iopub.status.busy": "2020-08-26T08:45:05.344220Z",
     "iopub.status.idle": "2020-08-26T08:45:05.355027Z",
     "shell.execute_reply": "2020-08-26T08:45:05.355793Z"
    },
    "papermill": {
     "duration": 0.03101,
     "end_time": "2020-08-26T08:45:05.355961",
     "exception": false,
     "start_time": "2020-08-26T08:45:05.324951",
     "status": "completed"
    },
    "slideshow": {
     "slide_type": "skip"
    },
    "tags": [
     "remove_cell"
    ]
   },
   "outputs": [],
   "source": [
    "# Avg # tests per day (per 100,000 population)\n",
    "daily_tests = SB.find_all(\"td\", class_=\"ms-rteTableOddCol-3\")[0].text\n",
    "\n",
    "# Case rate per 100,000\n",
    "case_rate = SB.find_all(\"td\", class_=\"ms-rteTableEvenCol-3\")[1].text\n",
    "\n",
    "# Testing positivity (%)\n",
    "test_positivity = SB.find_all(\"td\", class_=\"ms-rteTableOddCol-3\")[1].text\n",
    "\n",
    "# % Change in 3-day avg COVID+ hospitalized patients\n",
    "change_hospit = SB.find_all(\"td\", class_=\"ms-rteTableEvenCol-3\")[2].text\n",
    "\n",
    "# % ICU beds currently available\n",
    "ICU_beds = SB.find_all(\"td\", class_=\"ms-rteTableOddCol-3\")[2].text\n",
    "\n",
    "# % Ventilators currently available\n",
    "ventilators = SB.find_all(\"td\", class_=\"ms-rteTableEvenCol-3\")[3].text\n",
    "\n",
    "# Extract date of last update\n",
    "update_date = soup.find_all(\"span\", class_=\"ms-rteStyle-Accent1\")[1]\\\n",
    "    .find(\"em\").text"
   ]
  },
  {
   "cell_type": "code",
   "execution_count": 8,
   "metadata": {
    "execution": {
     "iopub.execute_input": "2020-08-26T08:45:05.384980Z",
     "iopub.status.busy": "2020-08-26T08:45:05.384357Z",
     "iopub.status.idle": "2020-08-26T08:45:05.385838Z",
     "shell.execute_reply": "2020-08-26T08:45:05.385436Z"
    },
    "papermill": {
     "duration": 0.017827,
     "end_time": "2020-08-26T08:45:05.385960",
     "exception": false,
     "start_time": "2020-08-26T08:45:05.368133",
     "status": "completed"
    },
    "tags": [
     "remove_cell"
    ]
   },
   "outputs": [],
   "source": [
    "# Create updated date string\n",
    "update_tag = \"Table last updated by CDPH on \" + update_date.split(\" on \", 1)[1] + \".\""
   ]
  },
  {
   "cell_type": "code",
   "execution_count": 9,
   "metadata": {
    "execution": {
     "iopub.execute_input": "2020-08-26T08:45:05.415191Z",
     "iopub.status.busy": "2020-08-26T08:45:05.414688Z",
     "iopub.status.idle": "2020-08-26T08:45:05.417736Z",
     "shell.execute_reply": "2020-08-26T08:45:05.418494Z"
    },
    "papermill": {
     "duration": 0.021399,
     "end_time": "2020-08-26T08:45:05.418642",
     "exception": false,
     "start_time": "2020-08-26T08:45:05.397243",
     "status": "completed"
    },
    "slideshow": {
     "slide_type": "skip"
    },
    "tags": [
     "remove_cell"
    ]
   },
   "outputs": [],
   "source": [
    "# Set up Google Sheet API\n",
    "scope = [\"https://spreadsheets.google.com/feeds\",'https://www.googleapis.com/auth/spreadsheets',\"https://www.googleapis.com/auth/drive.file\",\"https://www.googleapis.com/auth/drive\"]\n",
    "creds = ServiceAccountCredentials.from_json_keyfile_name(\"credentials.json\", scope)\n",
    "client = gspread.authorize(creds)"
   ]
  },
  {
   "cell_type": "code",
   "execution_count": 10,
   "metadata": {
    "execution": {
     "iopub.execute_input": "2020-08-26T08:45:05.477904Z",
     "iopub.status.busy": "2020-08-26T08:45:05.477371Z",
     "iopub.status.idle": "2020-08-26T08:45:06.957472Z",
     "shell.execute_reply": "2020-08-26T08:45:06.958271Z"
    },
    "papermill": {
     "duration": 1.528296,
     "end_time": "2020-08-26T08:45:06.958435",
     "exception": false,
     "start_time": "2020-08-26T08:45:05.430139",
     "status": "completed"
    },
    "slideshow": {
     "slide_type": "skip"
    },
    "tags": [
     "remove_cell"
    ]
   },
   "outputs": [
    {
     "data": {
      "text/plain": [
       "{'spreadsheetId': '1pcqdMzKtea2Oq3BDmdAOQ21gZjCssieKI0692VfNLXU',\n",
       " 'updatedRange': 'Sheet1!A2:G2',\n",
       " 'updatedRows': 1,\n",
       " 'updatedColumns': 7,\n",
       " 'updatedCells': 7}"
      ]
     },
     "execution_count": 10,
     "metadata": {},
     "output_type": "execute_result"
    }
   ],
   "source": [
    "# Append daily data as a new row in Google Sheet\n",
    "sheet = client.open(\"Test cron job\").sheet1\n",
    "insertRow = [datetime.date.today().strftime(\"%Y-%m-%d\"),\n",
    "             daily_tests,\n",
    "             case_rate,\n",
    "             test_positivity,\n",
    "             change_hospit,\n",
    "             ICU_beds,\n",
    "             ventilators]\n",
    "sheet.insert_row(insertRow, 2)"
   ]
  },
  {
   "cell_type": "code",
   "execution_count": 11,
   "metadata": {
    "execution": {
     "iopub.execute_input": "2020-08-26T08:45:06.988843Z",
     "iopub.status.busy": "2020-08-26T08:45:06.988352Z",
     "iopub.status.idle": "2020-08-26T08:45:07.787466Z",
     "shell.execute_reply": "2020-08-26T08:45:07.788271Z"
    },
    "papermill": {
     "duration": 0.816318,
     "end_time": "2020-08-26T08:45:07.788443",
     "exception": false,
     "start_time": "2020-08-26T08:45:06.972125",
     "status": "completed"
    },
    "scrolled": true,
    "slideshow": {
     "slide_type": "slide"
    },
    "tags": [
     "remove_cell"
    ]
   },
   "outputs": [],
   "source": [
    "# Extract data from Google Sheet as pandas dataframe\n",
    "sheet = client.open(\"Test cron job\").sheet1\n",
    "data = sheet.get_all_records()\n",
    "result = pd.DataFrame(data).set_index(\"Date\")"
   ]
  },
  {
   "cell_type": "code",
   "execution_count": 12,
   "metadata": {
    "execution": {
     "iopub.execute_input": "2020-08-26T08:45:07.819533Z",
     "iopub.status.busy": "2020-08-26T08:45:07.819014Z",
     "iopub.status.idle": "2020-08-26T08:45:08.131665Z",
     "shell.execute_reply": "2020-08-26T08:45:08.132398Z"
    },
    "papermill": {
     "duration": 0.33237,
     "end_time": "2020-08-26T08:45:08.132554",
     "exception": false,
     "start_time": "2020-08-26T08:45:07.800184",
     "status": "completed"
    },
    "scrolled": true,
    "tags": [
     "remove_input"
    ]
   },
   "outputs": [
    {
     "data": {
      "text/html": [
       "<style  type=\"text/css\" >\n",
       "    #T_71e64b56_e778_11ea_8f76_42010a8a0004 th {\n",
       "          text-align: center;\n",
       "    }#T_71e64b56_e778_11ea_8f76_42010a8a0004row0_col0,#T_71e64b56_e778_11ea_8f76_42010a8a0004row1_col0,#T_71e64b56_e778_11ea_8f76_42010a8a0004row2_col0,#T_71e64b56_e778_11ea_8f76_42010a8a0004row3_col0,#T_71e64b56_e778_11ea_8f76_42010a8a0004row4_col0,#T_71e64b56_e778_11ea_8f76_42010a8a0004row5_col0,#T_71e64b56_e778_11ea_8f76_42010a8a0004row6_col0,#T_71e64b56_e778_11ea_8f76_42010a8a0004row7_col0,#T_71e64b56_e778_11ea_8f76_42010a8a0004row8_col0,#T_71e64b56_e778_11ea_8f76_42010a8a0004row9_col0,#T_71e64b56_e778_11ea_8f76_42010a8a0004row10_col0,#T_71e64b56_e778_11ea_8f76_42010a8a0004row11_col0,#T_71e64b56_e778_11ea_8f76_42010a8a0004row12_col0,#T_71e64b56_e778_11ea_8f76_42010a8a0004row13_col0,#T_71e64b56_e778_11ea_8f76_42010a8a0004row14_col0,#T_71e64b56_e778_11ea_8f76_42010a8a0004row15_col0,#T_71e64b56_e778_11ea_8f76_42010a8a0004row16_col0{\n",
       "            width:  20em;\n",
       "            text-align:  center;\n",
       "            font-weight:  bold;\n",
       "        }#T_71e64b56_e778_11ea_8f76_42010a8a0004row0_col1,#T_71e64b56_e778_11ea_8f76_42010a8a0004row0_col2,#T_71e64b56_e778_11ea_8f76_42010a8a0004row1_col1,#T_71e64b56_e778_11ea_8f76_42010a8a0004row1_col2,#T_71e64b56_e778_11ea_8f76_42010a8a0004row2_col1,#T_71e64b56_e778_11ea_8f76_42010a8a0004row2_col2,#T_71e64b56_e778_11ea_8f76_42010a8a0004row3_col1,#T_71e64b56_e778_11ea_8f76_42010a8a0004row3_col2,#T_71e64b56_e778_11ea_8f76_42010a8a0004row4_col1,#T_71e64b56_e778_11ea_8f76_42010a8a0004row4_col2,#T_71e64b56_e778_11ea_8f76_42010a8a0004row5_col1,#T_71e64b56_e778_11ea_8f76_42010a8a0004row5_col2,#T_71e64b56_e778_11ea_8f76_42010a8a0004row6_col1,#T_71e64b56_e778_11ea_8f76_42010a8a0004row6_col2,#T_71e64b56_e778_11ea_8f76_42010a8a0004row7_col1,#T_71e64b56_e778_11ea_8f76_42010a8a0004row7_col2,#T_71e64b56_e778_11ea_8f76_42010a8a0004row8_col1,#T_71e64b56_e778_11ea_8f76_42010a8a0004row8_col2,#T_71e64b56_e778_11ea_8f76_42010a8a0004row9_col1,#T_71e64b56_e778_11ea_8f76_42010a8a0004row9_col2,#T_71e64b56_e778_11ea_8f76_42010a8a0004row10_col1,#T_71e64b56_e778_11ea_8f76_42010a8a0004row10_col2,#T_71e64b56_e778_11ea_8f76_42010a8a0004row11_col1,#T_71e64b56_e778_11ea_8f76_42010a8a0004row11_col2,#T_71e64b56_e778_11ea_8f76_42010a8a0004row12_col1,#T_71e64b56_e778_11ea_8f76_42010a8a0004row12_col2,#T_71e64b56_e778_11ea_8f76_42010a8a0004row13_col1,#T_71e64b56_e778_11ea_8f76_42010a8a0004row13_col2,#T_71e64b56_e778_11ea_8f76_42010a8a0004row14_col1,#T_71e64b56_e778_11ea_8f76_42010a8a0004row14_col2,#T_71e64b56_e778_11ea_8f76_42010a8a0004row15_col1,#T_71e64b56_e778_11ea_8f76_42010a8a0004row15_col2,#T_71e64b56_e778_11ea_8f76_42010a8a0004row16_col1,#T_71e64b56_e778_11ea_8f76_42010a8a0004row16_col2{\n",
       "            width:  20em;\n",
       "            text-align:  center;\n",
       "        }</style><table id=\"T_71e64b56_e778_11ea_8f76_42010a8a0004\" ><thead>    <tr>        <th class=\"col_heading level0 col0\" >Date</th>        <th class=\"col_heading level0 col1\" >Time</th>        <th class=\"col_heading level0 col2\" ></th>    </tr></thead><tbody>\n",
       "                <tr>\n",
       "                                <td id=\"T_71e64b56_e778_11ea_8f76_42010a8a0004row0_col0\" class=\"data row0 col0\" >2020-08-26</td>\n",
       "                        <td id=\"T_71e64b56_e778_11ea_8f76_42010a8a0004row0_col1\" class=\"data row0 col1\" >222.1</td>\n",
       "                        <td id=\"T_71e64b56_e778_11ea_8f76_42010a8a0004row0_col2\" class=\"data row0 col2\" > ✔</td>\n",
       "            </tr>\n",
       "            <tr>\n",
       "                                <td id=\"T_71e64b56_e778_11ea_8f76_42010a8a0004row1_col0\" class=\"data row1 col0\" >2020-08-26</td>\n",
       "                        <td id=\"T_71e64b56_e778_11ea_8f76_42010a8a0004row1_col1\" class=\"data row1 col1\" >222.1</td>\n",
       "                        <td id=\"T_71e64b56_e778_11ea_8f76_42010a8a0004row1_col2\" class=\"data row1 col2\" > ✔</td>\n",
       "            </tr>\n",
       "            <tr>\n",
       "                                <td id=\"T_71e64b56_e778_11ea_8f76_42010a8a0004row2_col0\" class=\"data row2 col0\" >2020-08-26</td>\n",
       "                        <td id=\"T_71e64b56_e778_11ea_8f76_42010a8a0004row2_col1\" class=\"data row2 col1\" >222.1</td>\n",
       "                        <td id=\"T_71e64b56_e778_11ea_8f76_42010a8a0004row2_col2\" class=\"data row2 col2\" > ✔</td>\n",
       "            </tr>\n",
       "            <tr>\n",
       "                                <td id=\"T_71e64b56_e778_11ea_8f76_42010a8a0004row3_col0\" class=\"data row3 col0\" >2020-08-26</td>\n",
       "                        <td id=\"T_71e64b56_e778_11ea_8f76_42010a8a0004row3_col1\" class=\"data row3 col1\" >222.1</td>\n",
       "                        <td id=\"T_71e64b56_e778_11ea_8f76_42010a8a0004row3_col2\" class=\"data row3 col2\" > ✔</td>\n",
       "            </tr>\n",
       "            <tr>\n",
       "                                <td id=\"T_71e64b56_e778_11ea_8f76_42010a8a0004row4_col0\" class=\"data row4 col0\" >2020-08-26</td>\n",
       "                        <td id=\"T_71e64b56_e778_11ea_8f76_42010a8a0004row4_col1\" class=\"data row4 col1\" >222.1</td>\n",
       "                        <td id=\"T_71e64b56_e778_11ea_8f76_42010a8a0004row4_col2\" class=\"data row4 col2\" > ✔</td>\n",
       "            </tr>\n",
       "            <tr>\n",
       "                                <td id=\"T_71e64b56_e778_11ea_8f76_42010a8a0004row5_col0\" class=\"data row5 col0\" >2020-08-26</td>\n",
       "                        <td id=\"T_71e64b56_e778_11ea_8f76_42010a8a0004row5_col1\" class=\"data row5 col1\" >222.1</td>\n",
       "                        <td id=\"T_71e64b56_e778_11ea_8f76_42010a8a0004row5_col2\" class=\"data row5 col2\" > ✔</td>\n",
       "            </tr>\n",
       "            <tr>\n",
       "                                <td id=\"T_71e64b56_e778_11ea_8f76_42010a8a0004row6_col0\" class=\"data row6 col0\" >2020-08-26</td>\n",
       "                        <td id=\"T_71e64b56_e778_11ea_8f76_42010a8a0004row6_col1\" class=\"data row6 col1\" >222.1</td>\n",
       "                        <td id=\"T_71e64b56_e778_11ea_8f76_42010a8a0004row6_col2\" class=\"data row6 col2\" > ✔</td>\n",
       "            </tr>\n",
       "            <tr>\n",
       "                                <td id=\"T_71e64b56_e778_11ea_8f76_42010a8a0004row7_col0\" class=\"data row7 col0\" >2020-08-26</td>\n",
       "                        <td id=\"T_71e64b56_e778_11ea_8f76_42010a8a0004row7_col1\" class=\"data row7 col1\" >222.1</td>\n",
       "                        <td id=\"T_71e64b56_e778_11ea_8f76_42010a8a0004row7_col2\" class=\"data row7 col2\" > ✔</td>\n",
       "            </tr>\n",
       "            <tr>\n",
       "                                <td id=\"T_71e64b56_e778_11ea_8f76_42010a8a0004row8_col0\" class=\"data row8 col0\" >2020-08-26</td>\n",
       "                        <td id=\"T_71e64b56_e778_11ea_8f76_42010a8a0004row8_col1\" class=\"data row8 col1\" >222.1</td>\n",
       "                        <td id=\"T_71e64b56_e778_11ea_8f76_42010a8a0004row8_col2\" class=\"data row8 col2\" > ✔</td>\n",
       "            </tr>\n",
       "            <tr>\n",
       "                                <td id=\"T_71e64b56_e778_11ea_8f76_42010a8a0004row9_col0\" class=\"data row9 col0\" >2020-08-26</td>\n",
       "                        <td id=\"T_71e64b56_e778_11ea_8f76_42010a8a0004row9_col1\" class=\"data row9 col1\" >222.1</td>\n",
       "                        <td id=\"T_71e64b56_e778_11ea_8f76_42010a8a0004row9_col2\" class=\"data row9 col2\" > ✔</td>\n",
       "            </tr>\n",
       "            <tr>\n",
       "                                <td id=\"T_71e64b56_e778_11ea_8f76_42010a8a0004row10_col0\" class=\"data row10 col0\" >2020-08-26</td>\n",
       "                        <td id=\"T_71e64b56_e778_11ea_8f76_42010a8a0004row10_col1\" class=\"data row10 col1\" >222.1</td>\n",
       "                        <td id=\"T_71e64b56_e778_11ea_8f76_42010a8a0004row10_col2\" class=\"data row10 col2\" > ✔</td>\n",
       "            </tr>\n",
       "            <tr>\n",
       "                                <td id=\"T_71e64b56_e778_11ea_8f76_42010a8a0004row11_col0\" class=\"data row11 col0\" >2020-08-26</td>\n",
       "                        <td id=\"T_71e64b56_e778_11ea_8f76_42010a8a0004row11_col1\" class=\"data row11 col1\" >222.1</td>\n",
       "                        <td id=\"T_71e64b56_e778_11ea_8f76_42010a8a0004row11_col2\" class=\"data row11 col2\" > ✔</td>\n",
       "            </tr>\n",
       "            <tr>\n",
       "                                <td id=\"T_71e64b56_e778_11ea_8f76_42010a8a0004row12_col0\" class=\"data row12 col0\" >2020-08-26</td>\n",
       "                        <td id=\"T_71e64b56_e778_11ea_8f76_42010a8a0004row12_col1\" class=\"data row12 col1\" >222.1</td>\n",
       "                        <td id=\"T_71e64b56_e778_11ea_8f76_42010a8a0004row12_col2\" class=\"data row12 col2\" > ✔</td>\n",
       "            </tr>\n",
       "            <tr>\n",
       "                                <td id=\"T_71e64b56_e778_11ea_8f76_42010a8a0004row13_col0\" class=\"data row13 col0\" >2020-08-26</td>\n",
       "                        <td id=\"T_71e64b56_e778_11ea_8f76_42010a8a0004row13_col1\" class=\"data row13 col1\" >222.1</td>\n",
       "                        <td id=\"T_71e64b56_e778_11ea_8f76_42010a8a0004row13_col2\" class=\"data row13 col2\" > ✔</td>\n",
       "            </tr>\n",
       "            <tr>\n",
       "                                <td id=\"T_71e64b56_e778_11ea_8f76_42010a8a0004row14_col0\" class=\"data row14 col0\" >2020-08-26</td>\n",
       "                        <td id=\"T_71e64b56_e778_11ea_8f76_42010a8a0004row14_col1\" class=\"data row14 col1\" >222.1</td>\n",
       "                        <td id=\"T_71e64b56_e778_11ea_8f76_42010a8a0004row14_col2\" class=\"data row14 col2\" > ✔</td>\n",
       "            </tr>\n",
       "            <tr>\n",
       "                                <td id=\"T_71e64b56_e778_11ea_8f76_42010a8a0004row15_col0\" class=\"data row15 col0\" >2020-08-26</td>\n",
       "                        <td id=\"T_71e64b56_e778_11ea_8f76_42010a8a0004row15_col1\" class=\"data row15 col1\" >222.1</td>\n",
       "                        <td id=\"T_71e64b56_e778_11ea_8f76_42010a8a0004row15_col2\" class=\"data row15 col2\" > ✔</td>\n",
       "            </tr>\n",
       "            <tr>\n",
       "                                <td id=\"T_71e64b56_e778_11ea_8f76_42010a8a0004row16_col0\" class=\"data row16 col0\" >2020-08-26</td>\n",
       "                        <td id=\"T_71e64b56_e778_11ea_8f76_42010a8a0004row16_col1\" class=\"data row16 col1\" >222.1</td>\n",
       "                        <td id=\"T_71e64b56_e778_11ea_8f76_42010a8a0004row16_col2\" class=\"data row16 col2\" > ✔</td>\n",
       "            </tr>\n",
       "    </tbody></table>"
      ],
      "text/plain": [
       "<pandas.io.formats.style.Styler at 0x7f05cce0d358>"
      ]
     },
     "execution_count": 12,
     "metadata": {},
     "output_type": "execute_result"
    }
   ],
   "source": [
    "# Style the pandas dataframe\n",
    "d = dict(selector=\"th\",\n",
    "         props=[('text-align', 'center')])\n",
    "\n",
    "result.reset_index().style\\\n",
    "    .set_properties(**{'width':'20em', 'text-align':'center'})\\\n",
    "    .set_properties(subset=['Date'], **{'font-weight': 'bold'})\\\n",
    "    .set_table_styles([d])\\\n",
    "    .set_precision(1)\\\n",
    "    .hide_index()"
   ]
  },
  {
   "cell_type": "markdown",
   "metadata": {
    "papermill": {
     "duration": 0.012425,
     "end_time": "2020-08-26T08:45:08.157227",
     "exception": false,
     "start_time": "2020-08-26T08:45:08.144802",
     "status": "completed"
    },
    "tags": []
   },
   "source": [
    "<sup>Notes: (1) 7 day average with a 7-day lag. (2) 14 day average. (3) 7 day average with a 7-day lag. (4) Change in 3 day average.</sup>"
   ]
  },
  {
   "cell_type": "code",
   "execution_count": 13,
   "metadata": {
    "execution": {
     "iopub.execute_input": "2020-08-26T08:45:08.188180Z",
     "iopub.status.busy": "2020-08-26T08:45:08.187511Z",
     "iopub.status.idle": "2020-08-26T08:45:08.189846Z",
     "shell.execute_reply": "2020-08-26T08:45:08.188634Z"
    },
    "papermill": {
     "duration": 0.020689,
     "end_time": "2020-08-26T08:45:08.189966",
     "exception": false,
     "start_time": "2020-08-26T08:45:08.169277",
     "status": "completed"
    },
    "tags": [
     "remove_input"
    ]
   },
   "outputs": [
    {
     "data": {
      "text/markdown": [
       "Table last updated by CDPH on August 25, 2020."
      ],
      "text/plain": [
       "<IPython.core.display.Markdown object>"
      ]
     },
     "execution_count": 13,
     "metadata": {},
     "output_type": "execute_result"
    }
   ],
   "source": [
    "md(update_tag)"
   ]
  },
  {
   "cell_type": "markdown",
   "metadata": {
    "papermill": {
     "duration": 0.012842,
     "end_time": "2020-08-26T08:45:08.214991",
     "exception": false,
     "start_time": "2020-08-26T08:45:08.202149",
     "status": "completed"
    },
    "tags": []
   },
   "source": [
    "## Tracking county closures in Santa Barbara"
   ]
  },
  {
   "cell_type": "markdown",
   "metadata": {
    "papermill": {
     "duration": 0.011952,
     "end_time": "2020-08-26T08:45:08.238964",
     "exception": false,
     "start_time": "2020-08-26T08:45:08.227012",
     "status": "completed"
    },
    "tags": []
   },
   "source": [
    "The state of California is using a data-driven approach informed by scientific evidence to tailor its response to COVID-19. Three dimensions of concern are monitored to assess whether a county should be placed on the County Monitoring List:\n",
    " 1. Elevated Disease Transmission\n",
    " 2. Increasing Hospitalization\n",
    " 3. Limited Hospital Capacity\n",
    "\n",
    "Once a county appears on the County Monitoring List for three consecutive days, indoor operations in the sectors listed in Section 3 of the [July 13th State Health Officer Order](https://www.cdph.ca.gov/Programs/CID/DCDC/CDPH%20Document%20Library/COVID-19/SHO%20Order%20Dimming%20Entire%20State%207-13-2020.pdf) must close.\n",
    "\n",
    "This table tracks where Santa Barbara stands in terms of the criteria for inclusion on the County Monitoring List. As of 20 August 2020, the criteria for inclusion on the monitoring list are:\n",
    "\n",
    "* Case rate >100 OR (Case rate >25 AND Positivity >8%)\n",
    "* \\>10% increase in hospitalizations\n",
    "* <20% ICU beds available OR <25% ventilators available\n",
    "\n",
    "If Santa Barbara meets the criteria for removal from the County Monitoring List for a certain metric, then a checkmark ✔ is displayed in the table.\n",
    "\n",
    "Read more at <https://covid19.ca.gov/roadmap-counties/>.\n",
    "\n",
    "Data source for county metrics: https://www.cdph.ca.gov/Programs/CID/DCDC/Pages/COVID-19/COVID19CountyDataTable.aspx."
   ]
  },
  {
   "cell_type": "markdown",
   "metadata": {
    "papermill": {
     "duration": 0.012028,
     "end_time": "2020-08-26T08:45:08.263134",
     "exception": false,
     "start_time": "2020-08-26T08:45:08.251106",
     "status": "completed"
    },
    "tags": []
   },
   "source": [
    "**See the code used to scrape the data: https://github.com/walice/COVID-SB/.**"
   ]
  },
  {
   "cell_type": "code",
   "execution_count": 14,
   "metadata": {
    "execution": {
     "iopub.execute_input": "2020-08-26T08:45:08.292606Z",
     "iopub.status.busy": "2020-08-26T08:45:08.292122Z",
     "iopub.status.idle": "2020-08-26T08:45:08.296370Z",
     "shell.execute_reply": "2020-08-26T08:45:08.296767Z"
    },
    "papermill": {
     "duration": 0.021624,
     "end_time": "2020-08-26T08:45:08.296927",
     "exception": false,
     "start_time": "2020-08-26T08:45:08.275303",
     "status": "completed"
    },
    "tags": [
     "remove_cell"
    ]
   },
   "outputs": [
    {
     "data": {
      "application/javascript": [
       "IPython.notebook.save_notebook()\n"
      ],
      "text/plain": [
       "<IPython.core.display.Javascript object>"
      ]
     },
     "metadata": {},
     "output_type": "display_data"
    }
   ],
   "source": [
    "%%javascript\n",
    "IPython.notebook.save_notebook()"
   ]
  },
  {
   "cell_type": "code",
   "execution_count": 15,
   "metadata": {
    "execution": {
     "iopub.execute_input": "2020-08-26T08:45:08.327564Z",
     "iopub.status.busy": "2020-08-26T08:45:08.327056Z",
     "iopub.status.idle": "2020-08-26T08:45:08.442841Z",
     "shell.execute_reply": "2020-08-26T08:45:08.441843Z"
    },
    "papermill": {
     "duration": 0.13356,
     "end_time": "2020-08-26T08:45:08.442980",
     "exception": false,
     "start_time": "2020-08-26T08:45:08.309420",
     "status": "completed"
    },
    "slideshow": {
     "slide_type": "skip"
    },
    "tags": [
     "remove_cell"
    ]
   },
   "outputs": [
    {
     "name": "stdout",
     "output_type": "stream",
     "text": [
      "/bin/sh: 1: jupyter: not found\r\n"
     ]
    }
   ],
   "source": [
    "# Convert Jupyter Notebook to HTML\n",
    "! jupyter nbconvert \"index.ipynb\" --to html --TagRemovePreprocessor.enabled=True --TagRemovePreprocessor.remove_cell_tags=\"['remove_cell']\" --TagRemovePreprocessor.remove_input_tags=\"['remove_input']\" --no-prompt"
   ]
  },
  {
   "cell_type": "code",
   "execution_count": 16,
   "metadata": {
    "execution": {
     "iopub.execute_input": "2020-08-26T08:45:08.473964Z",
     "iopub.status.busy": "2020-08-26T08:45:08.473462Z",
     "iopub.status.idle": "2020-08-26T08:45:08.475761Z",
     "shell.execute_reply": "2020-08-26T08:45:08.476126Z"
    },
    "papermill": {
     "duration": 0.019827,
     "end_time": "2020-08-26T08:45:08.476266",
     "exception": false,
     "start_time": "2020-08-26T08:45:08.456439",
     "status": "completed"
    },
    "tags": [
     "remove_cell"
    ]
   },
   "outputs": [],
   "source": [
    "# Create daily commit message\n",
    "now = datetime.datetime.now()\n",
    "commit_message = \"Last scraped on \" + str(now)"
   ]
  },
  {
   "cell_type": "code",
   "execution_count": null,
   "metadata": {
    "execution": {
     "iopub.execute_input": "2020-08-26T08:44:07.064294Z",
     "iopub.status.busy": "2020-08-26T08:44:07.063803Z",
     "iopub.status.idle": "2020-08-26T08:44:10.631782Z",
     "shell.execute_reply": "2020-08-26T08:44:10.630655Z"
    },
    "papermill": {
     "duration": null,
     "end_time": null,
     "exception": false,
     "start_time": "2020-08-26T08:45:08.488693",
     "status": "running"
    },
    "tags": [
     "remove_cell"
    ]
   },
   "outputs": [],
   "source": [
    "# Deploy to GitHub\n",
    "! git add .\n",
    "! echo $commit_message > commit_message.txt\n",
    "! git commit -F commit_message.txt\n",
    "! git push"
   ]
  }
 ],
 "metadata": {
  "celltoolbar": "Tags",
  "kernelspec": {
   "display_name": "Python 3",
   "language": "python",
   "name": "python3"
  },
  "language_info": {
   "codemirror_mode": {
    "name": "ipython",
    "version": 3
   },
   "file_extension": ".py",
   "mimetype": "text/x-python",
   "name": "python",
   "nbconvert_exporter": "python",
   "pygments_lexer": "ipython3",
   "version": "3.7.3"
  },
  "papermill": {
   "duration": null,
   "end_time": null,
   "environment_variables": {},
   "exception": null,
   "input_path": "/home/alice_lepissier/cron-job/index.ipynb",
   "output_path": "/home/alice_lepissier/cron-job/index.ipynb",
   "parameters": {},
   "start_time": "2020-08-26T08:45:01.450644",
   "version": "2.1.3"
  }
 },
 "nbformat": 4,
 "nbformat_minor": 4
}