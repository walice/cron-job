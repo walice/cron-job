{
 "cells": [
  {
   "cell_type": "markdown",
   "metadata": {
    "papermill": {
     "duration": 0.01212,
     "end_time": "2020-08-26T19:04:44.833279",
     "exception": false,
     "start_time": "2020-08-26T19:04:44.821159",
     "status": "completed"
    },
    "tags": []
   },
   "source": [
    "# Daily COVID monitoring data for Santa Barbara county"
   ]
  },
  {
   "cell_type": "code",
   "execution_count": 1,
   "metadata": {
    "execution": {
     "iopub.execute_input": "2020-08-26T19:04:44.863384Z",
     "iopub.status.busy": "2020-08-26T19:04:44.862858Z",
     "iopub.status.idle": "2020-08-26T19:04:46.930897Z",
     "shell.execute_reply": "2020-08-26T19:04:46.931798Z"
    },
    "papermill": {
     "duration": 2.087356,
     "end_time": "2020-08-26T19:04:46.932022",
     "exception": false,
     "start_time": "2020-08-26T19:04:44.844666",
     "status": "completed"
    },
    "tags": [
     "remove_cell"
    ]
   },
   "outputs": [],
   "source": [
    "! jt -t grade3 -tf robotosans -cellw 1100"
   ]
  },
  {
   "cell_type": "markdown",
   "metadata": {
    "papermill": {
     "duration": 0.010928,
     "end_time": "2020-08-26T19:04:46.954457",
     "exception": false,
     "start_time": "2020-08-26T19:04:46.943529",
     "status": "completed"
    },
    "tags": []
   },
   "source": [
    "This table is automatically updated with new daily COVID data for the county of Santa Barbara, CA. Every day, the California Department of Public Health publishes COVID tracking metrics for each county, but does not save the previous day's data. This tool keeps track of the daily metrics that are used to monitor progress towards safe reopening in California."
   ]
  },
  {
   "cell_type": "code",
   "execution_count": 2,
   "metadata": {
    "execution": {
     "iopub.execute_input": "2020-08-26T19:04:46.982632Z",
     "iopub.status.busy": "2020-08-26T19:04:46.981602Z",
     "iopub.status.idle": "2020-08-26T19:04:49.419515Z",
     "shell.execute_reply": "2020-08-26T19:04:49.420344Z"
    },
    "papermill": {
     "duration": 2.455244,
     "end_time": "2020-08-26T19:04:49.420510",
     "exception": false,
     "start_time": "2020-08-26T19:04:46.965266",
     "status": "completed"
    },
    "slideshow": {
     "slide_type": "skip"
    },
    "tags": [
     "remove_cell"
    ]
   },
   "outputs": [],
   "source": [
    "# Preamble\n",
    "import os\n",
    "from IPython.display import Markdown as md\n",
    "import IPython\n",
    "import requests\n",
    "from bs4 import BeautifulSoup\n",
    "import re\n",
    "import pandas as pd\n",
    "import datetime\n",
    "import gspread\n",
    "from oauth2client.service_account import ServiceAccountCredentials"
   ]
  },
  {
   "cell_type": "code",
   "execution_count": 3,
   "metadata": {
    "execution": {
     "iopub.execute_input": "2020-08-26T19:04:49.448640Z",
     "iopub.status.busy": "2020-08-26T19:04:49.448046Z",
     "iopub.status.idle": "2020-08-26T19:04:49.449526Z",
     "shell.execute_reply": "2020-08-26T19:04:49.449114Z"
    },
    "papermill": {
     "duration": 0.01766,
     "end_time": "2020-08-26T19:04:49.449641",
     "exception": false,
     "start_time": "2020-08-26T19:04:49.431981",
     "status": "completed"
    },
    "tags": []
   },
   "outputs": [],
   "source": [
    "# Set working directory\n",
    "os.chdir(\"/home/alice_lepissier/cron-job\")"
   ]
  },
  {
   "cell_type": "code",
   "execution_count": 4,
   "metadata": {
    "execution": {
     "iopub.execute_input": "2020-08-26T19:04:49.476394Z",
     "iopub.status.busy": "2020-08-26T19:04:49.475847Z",
     "iopub.status.idle": "2020-08-26T19:04:49.918626Z",
     "shell.execute_reply": "2020-08-26T19:04:49.919528Z"
    },
    "papermill": {
     "duration": 0.459049,
     "end_time": "2020-08-26T19:04:49.919698",
     "exception": false,
     "start_time": "2020-08-26T19:04:49.460649",
     "status": "completed"
    },
    "slideshow": {
     "slide_type": "skip"
    },
    "tags": [
     "remove_cell"
    ]
   },
   "outputs": [],
   "source": [
    "# Request content from URL\n",
    "html_string = requests.get('https://www.cdph.ca.gov/Programs/CID/DCDC/Pages/COVID-19/COVID19CountyDataTable.aspx').content"
   ]
  },
  {
   "cell_type": "code",
   "execution_count": 5,
   "metadata": {
    "execution": {
     "iopub.execute_input": "2020-08-26T19:04:49.947505Z",
     "iopub.status.busy": "2020-08-26T19:04:49.947011Z",
     "iopub.status.idle": "2020-08-26T19:04:50.039193Z",
     "shell.execute_reply": "2020-08-26T19:04:50.040007Z"
    },
    "papermill": {
     "duration": 0.109085,
     "end_time": "2020-08-26T19:04:50.040174",
     "exception": false,
     "start_time": "2020-08-26T19:04:49.931089",
     "status": "completed"
    },
    "slideshow": {
     "slide_type": "skip"
    },
    "tags": [
     "remove_cell"
    ]
   },
   "outputs": [],
   "source": [
    "# Parse HTML\n",
    "soup = BeautifulSoup(html_string, 'html.parser')"
   ]
  },
  {
   "cell_type": "code",
   "execution_count": 6,
   "metadata": {
    "execution": {
     "iopub.execute_input": "2020-08-26T19:04:50.071049Z",
     "iopub.status.busy": "2020-08-26T19:04:50.070398Z",
     "iopub.status.idle": "2020-08-26T19:04:50.078514Z",
     "shell.execute_reply": "2020-08-26T19:04:50.079275Z"
    },
    "papermill": {
     "duration": 0.027949,
     "end_time": "2020-08-26T19:04:50.079439",
     "exception": false,
     "start_time": "2020-08-26T19:04:50.051490",
     "status": "completed"
    },
    "slideshow": {
     "slide_type": "skip"
    },
    "tags": [
     "remove_cell"
    ]
   },
   "outputs": [],
   "source": [
    "# Extract data for Santa Barbara\n",
    "table = soup.find_all(\"tr\", class_=\"ms-rteTableEvenRow-3\")\n",
    "SB = table[21]"
   ]
  },
  {
   "cell_type": "code",
   "execution_count": 7,
   "metadata": {
    "execution": {
     "iopub.execute_input": "2020-08-26T19:04:50.107532Z",
     "iopub.status.busy": "2020-08-26T19:04:50.107015Z",
     "iopub.status.idle": "2020-08-26T19:04:50.120623Z",
     "shell.execute_reply": "2020-08-26T19:04:50.121404Z"
    },
    "papermill": {
     "duration": 0.031109,
     "end_time": "2020-08-26T19:04:50.121570",
     "exception": false,
     "start_time": "2020-08-26T19:04:50.090461",
     "status": "completed"
    },
    "slideshow": {
     "slide_type": "skip"
    },
    "tags": [
     "remove_cell"
    ]
   },
   "outputs": [],
   "source": [
    "# Avg # tests per day (per 100,000 population)\n",
    "daily_tests = SB.find_all(\"td\", class_=\"ms-rteTableOddCol-3\")[0].text\n",
    "\n",
    "# Case rate per 100,000\n",
    "case_rate = SB.find_all(\"td\", class_=\"ms-rteTableEvenCol-3\")[1].text\n",
    "\n",
    "# Testing positivity (%)\n",
    "test_positivity = SB.find_all(\"td\", class_=\"ms-rteTableOddCol-3\")[1].text\n",
    "\n",
    "# % Change in 3-day avg COVID+ hospitalized patients\n",
    "change_hospit = SB.find_all(\"td\", class_=\"ms-rteTableEvenCol-3\")[2].text\n",
    "\n",
    "# % ICU beds currently available\n",
    "ICU_beds = SB.find_all(\"td\", class_=\"ms-rteTableOddCol-3\")[2].text\n",
    "\n",
    "# % Ventilators currently available\n",
    "ventilators = SB.find_all(\"td\", class_=\"ms-rteTableEvenCol-3\")[3].text\n",
    "\n",
    "# Extract date of last update\n",
    "update_date = soup.find_all(\"span\", class_=\"ms-rteStyle-Accent1\")[1]\\\n",
    "    .find(\"em\").text"
   ]
  },
  {
   "cell_type": "code",
   "execution_count": 8,
   "metadata": {
    "execution": {
     "iopub.execute_input": "2020-08-26T19:04:50.150504Z",
     "iopub.status.busy": "2020-08-26T19:04:50.149830Z",
     "iopub.status.idle": "2020-08-26T19:04:50.151378Z",
     "shell.execute_reply": "2020-08-26T19:04:50.150956Z"
    },
    "papermill": {
     "duration": 0.01868,
     "end_time": "2020-08-26T19:04:50.151519",
     "exception": false,
     "start_time": "2020-08-26T19:04:50.132839",
     "status": "completed"
    },
    "tags": [
     "remove_cell"
    ]
   },
   "outputs": [],
   "source": [
    "# Create updated date string\n",
    "update_tag = \"Table last updated by CDPH on \" + update_date.split(\" on \", 1)[1] + \".\""
   ]
  },
  {
   "cell_type": "code",
   "execution_count": 9,
   "metadata": {
    "execution": {
     "iopub.execute_input": "2020-08-26T19:04:50.179311Z",
     "iopub.status.busy": "2020-08-26T19:04:50.178415Z",
     "iopub.status.idle": "2020-08-26T19:04:50.191427Z",
     "shell.execute_reply": "2020-08-26T19:04:50.192291Z"
    },
    "papermill": {
     "duration": 0.029769,
     "end_time": "2020-08-26T19:04:50.192469",
     "exception": false,
     "start_time": "2020-08-26T19:04:50.162700",
     "status": "completed"
    },
    "slideshow": {
     "slide_type": "skip"
    },
    "tags": [
     "remove_cell"
    ]
   },
   "outputs": [],
   "source": [
    "# Set up Google Sheet API\n",
    "scope = [\"https://spreadsheets.google.com/feeds\",'https://www.googleapis.com/auth/spreadsheets',\"https://www.googleapis.com/auth/drive.file\",\"https://www.googleapis.com/auth/drive\"]\n",
    "creds = ServiceAccountCredentials.from_json_keyfile_name(\"credentials.json\", scope)\n",
    "client = gspread.authorize(creds)"
   ]
  },
  {
   "cell_type": "code",
   "execution_count": 10,
   "metadata": {
    "execution": {
     "iopub.execute_input": "2020-08-26T19:04:50.223552Z",
     "iopub.status.busy": "2020-08-26T19:04:50.223050Z",
     "iopub.status.idle": "2020-08-26T19:04:51.215935Z",
     "shell.execute_reply": "2020-08-26T19:04:51.216701Z"
    },
    "papermill": {
     "duration": 1.012959,
     "end_time": "2020-08-26T19:04:51.216878",
     "exception": false,
     "start_time": "2020-08-26T19:04:50.203919",
     "status": "completed"
    },
    "slideshow": {
     "slide_type": "skip"
    },
    "tags": [
     "remove_cell"
    ]
   },
   "outputs": [
    {
     "data": {
      "text/plain": [
       "{'spreadsheetId': '1pcqdMzKtea2Oq3BDmdAOQ21gZjCssieKI0692VfNLXU',\n",
       " 'updatedRange': 'Sheet1!A2:G2',\n",
       " 'updatedRows': 1,\n",
       " 'updatedColumns': 7,\n",
       " 'updatedCells': 7}"
      ]
     },
     "execution_count": 10,
     "metadata": {},
     "output_type": "execute_result"
    }
   ],
   "source": [
    "# Append daily data as a new row in Google Sheet\n",
    "sheet = client.open(\"Test cron job\").sheet1\n",
    "insertRow = [datetime.date.today().strftime(\"%Y-%m-%d\"),\n",
    "             daily_tests,\n",
    "             case_rate,\n",
    "             test_positivity,\n",
    "             change_hospit,\n",
    "             ICU_beds,\n",
    "             ventilators]\n",
    "sheet.insert_row(insertRow, 2)"
   ]
  },
  {
   "cell_type": "code",
   "execution_count": 11,
   "metadata": {
    "execution": {
     "iopub.execute_input": "2020-08-26T19:04:51.245534Z",
     "iopub.status.busy": "2020-08-26T19:04:51.245042Z",
     "iopub.status.idle": "2020-08-26T19:04:51.981736Z",
     "shell.execute_reply": "2020-08-26T19:04:51.982573Z"
    },
    "papermill": {
     "duration": 0.754161,
     "end_time": "2020-08-26T19:04:51.982748",
     "exception": false,
     "start_time": "2020-08-26T19:04:51.228587",
     "status": "completed"
    },
    "scrolled": true,
    "slideshow": {
     "slide_type": "slide"
    },
    "tags": [
     "remove_cell"
    ]
   },
   "outputs": [],
   "source": [
    "# Extract data from Google Sheet as pandas dataframe\n",
    "sheet = client.open(\"Test cron job\").sheet1\n",
    "data = sheet.get_all_records()\n",
    "result = pd.DataFrame(data).set_index(\"Date\")"
   ]
  },
  {
   "cell_type": "code",
   "execution_count": 12,
   "metadata": {
    "execution": {
     "iopub.execute_input": "2020-08-26T19:04:52.012997Z",
     "iopub.status.busy": "2020-08-26T19:04:52.012458Z",
     "iopub.status.idle": "2020-08-26T19:04:53.754882Z",
     "shell.execute_reply": "2020-08-26T19:04:53.755677Z"
    },
    "papermill": {
     "duration": 1.761022,
     "end_time": "2020-08-26T19:04:53.755862",
     "exception": false,
     "start_time": "2020-08-26T19:04:51.994840",
     "status": "completed"
    },
    "scrolled": true,
    "tags": [
     "remove_input"
    ]
   },
   "outputs": [
    {
     "data": {
      "text/html": [
       "<style  type=\"text/css\" >\n",
       "    #T_06425640_e7cf_11ea_a33c_42010a8a0004 th {\n",
       "          text-align: center;\n",
       "    }#T_06425640_e7cf_11ea_a33c_42010a8a0004row0_col0{\n",
       "            width:  20em;\n",
       "            text-align:  center;\n",
       "            font-weight:  bold;\n",
       "        }#T_06425640_e7cf_11ea_a33c_42010a8a0004row0_col1,#T_06425640_e7cf_11ea_a33c_42010a8a0004row0_col2,#T_06425640_e7cf_11ea_a33c_42010a8a0004row0_col3,#T_06425640_e7cf_11ea_a33c_42010a8a0004row0_col4,#T_06425640_e7cf_11ea_a33c_42010a8a0004row0_col5,#T_06425640_e7cf_11ea_a33c_42010a8a0004row0_col6{\n",
       "            width:  20em;\n",
       "            text-align:  center;\n",
       "        }</style><table id=\"T_06425640_e7cf_11ea_a33c_42010a8a0004\" ><thead>    <tr>        <th class=\"col_heading level0 col0\" >Date</th>        <th class=\"col_heading level0 col1\" >Daily tests (per 100,000)¹</th>        <th class=\"col_heading level0 col2\" >Case rate (per 100,000)²</th>        <th class=\"col_heading level0 col3\" >Testing positivity (%)³</th>        <th class=\"col_heading level0 col4\" >Change in hospitalizations (%)⁴</th>        <th class=\"col_heading level0 col5\" >ICU beds available (%)</th>        <th class=\"col_heading level0 col6\" >Ventilators (available (%)</th>    </tr></thead><tbody>\n",
       "                <tr>\n",
       "                                <td id=\"T_06425640_e7cf_11ea_a33c_42010a8a0004row0_col0\" class=\"data row0 col0\" >2020-08-26</td>\n",
       "                        <td id=\"T_06425640_e7cf_11ea_a33c_42010a8a0004row0_col1\" class=\"data row0 col1\" >219.7</td>\n",
       "                        <td id=\"T_06425640_e7cf_11ea_a33c_42010a8a0004row0_col2\" class=\"data row0 col2\" >133.2</td>\n",
       "                        <td id=\"T_06425640_e7cf_11ea_a33c_42010a8a0004row0_col3\" class=\"data row0 col3\" > ✔</td>\n",
       "                        <td id=\"T_06425640_e7cf_11ea_a33c_42010a8a0004row0_col4\" class=\"data row0 col4\" > ✔</td>\n",
       "                        <td id=\"T_06425640_e7cf_11ea_a33c_42010a8a0004row0_col5\" class=\"data row0 col5\" > ✔</td>\n",
       "                        <td id=\"T_06425640_e7cf_11ea_a33c_42010a8a0004row0_col6\" class=\"data row0 col6\" > ✔</td>\n",
       "            </tr>\n",
       "    </tbody></table>"
      ],
      "text/plain": [
       "<pandas.io.formats.style.Styler at 0x7f4399b0f898>"
      ]
     },
     "execution_count": 12,
     "metadata": {},
     "output_type": "execute_result"
    }
   ],
   "source": [
    "# Style the pandas dataframe\n",
    "d = dict(selector=\"th\",\n",
    "         props=[('text-align', 'center')])\n",
    "\n",
    "result.reset_index().style\\\n",
    "    .set_properties(**{'width':'20em', 'text-align':'center'})\\\n",
    "    .set_properties(subset=['Date'], **{'font-weight': 'bold'})\\\n",
    "    .set_table_styles([d])\\\n",
    "    .set_precision(1)\\\n",
    "    .hide_index()"
   ]
  },
  {
   "cell_type": "markdown",
   "metadata": {
    "papermill": {
     "duration": 0.011449,
     "end_time": "2020-08-26T19:04:53.779392",
     "exception": false,
     "start_time": "2020-08-26T19:04:53.767943",
     "status": "completed"
    },
    "tags": []
   },
   "source": [
    "<sup>Notes: (1) 7 day average with a 7-day lag. (2) 14 day average. (3) 7 day average with a 7-day lag. (4) Change in 3 day average.</sup>"
   ]
  },
  {
   "cell_type": "code",
   "execution_count": 13,
   "metadata": {
    "execution": {
     "iopub.execute_input": "2020-08-26T19:04:53.808301Z",
     "iopub.status.busy": "2020-08-26T19:04:53.807789Z",
     "iopub.status.idle": "2020-08-26T19:04:53.810905Z",
     "shell.execute_reply": "2020-08-26T19:04:53.811257Z"
    },
    "papermill": {
     "duration": 0.020468,
     "end_time": "2020-08-26T19:04:53.811434",
     "exception": false,
     "start_time": "2020-08-26T19:04:53.790966",
     "status": "completed"
    },
    "tags": [
     "remove_input"
    ]
   },
   "outputs": [
    {
     "data": {
      "text/markdown": [
       "Table last updated by CDPH on August 25, 2020."
      ],
      "text/plain": [
       "<IPython.core.display.Markdown object>"
      ]
     },
     "execution_count": 13,
     "metadata": {},
     "output_type": "execute_result"
    }
   ],
   "source": [
    "md(update_tag)"
   ]
  },
  {
   "cell_type": "markdown",
   "metadata": {
    "papermill": {
     "duration": 0.011835,
     "end_time": "2020-08-26T19:04:53.835044",
     "exception": false,
     "start_time": "2020-08-26T19:04:53.823209",
     "status": "completed"
    },
    "tags": []
   },
   "source": [
    "## Tracking county closures in Santa Barbara"
   ]
  },
  {
   "cell_type": "markdown",
   "metadata": {
    "papermill": {
     "duration": 0.01188,
     "end_time": "2020-08-26T19:04:53.858749",
     "exception": false,
     "start_time": "2020-08-26T19:04:53.846869",
     "status": "completed"
    },
    "tags": []
   },
   "source": [
    "The state of California is using a data-driven approach informed by scientific evidence to tailor its response to COVID-19. Three dimensions of concern are monitored to assess whether a county should be placed on the County Monitoring List:\n",
    " 1. Elevated Disease Transmission\n",
    " 2. Increasing Hospitalization\n",
    " 3. Limited Hospital Capacity\n",
    "\n",
    "Once a county appears on the County Monitoring List for three consecutive days, indoor operations in the sectors listed in Section 3 of the [July 13th State Health Officer Order](https://www.cdph.ca.gov/Programs/CID/DCDC/CDPH%20Document%20Library/COVID-19/SHO%20Order%20Dimming%20Entire%20State%207-13-2020.pdf) must close.\n",
    "\n",
    "This table tracks where Santa Barbara stands in terms of the criteria for inclusion on the County Monitoring List. As of 20 August 2020, the criteria for inclusion on the monitoring list are:\n",
    "\n",
    "* Case rate >100 OR (Case rate >25 AND Positivity >8%)\n",
    "* \\>10% increase in hospitalizations\n",
    "* <20% ICU beds available OR <25% ventilators available\n",
    "\n",
    "If Santa Barbara meets the criteria for removal from the County Monitoring List for a certain metric, then a checkmark ✔ is displayed in the table.\n",
    "\n",
    "Read more at <https://covid19.ca.gov/roadmap-counties/>.\n",
    "\n",
    "Data source for county metrics: https://www.cdph.ca.gov/Programs/CID/DCDC/Pages/COVID-19/COVID19CountyDataTable.aspx."
   ]
  },
  {
   "cell_type": "markdown",
   "metadata": {
    "papermill": {
     "duration": 0.011665,
     "end_time": "2020-08-26T19:04:53.882309",
     "exception": false,
     "start_time": "2020-08-26T19:04:53.870644",
     "status": "completed"
    },
    "tags": []
   },
   "source": [
    "**See the code used to scrape the data: https://github.com/walice/COVID-SB/.**"
   ]
  },
  {
   "cell_type": "code",
   "execution_count": 14,
   "metadata": {
    "execution": {
     "iopub.execute_input": "2020-08-26T19:04:53.911557Z",
     "iopub.status.busy": "2020-08-26T19:04:53.911038Z",
     "iopub.status.idle": "2020-08-26T19:04:53.914879Z",
     "shell.execute_reply": "2020-08-26T19:04:53.915228Z"
    },
    "papermill": {
     "duration": 0.021315,
     "end_time": "2020-08-26T19:04:53.915376",
     "exception": false,
     "start_time": "2020-08-26T19:04:53.894061",
     "status": "completed"
    },
    "tags": [
     "remove_cell"
    ]
   },
   "outputs": [
    {
     "data": {
      "application/javascript": [
       "IPython.notebook.save_notebook()\n"
      ],
      "text/plain": [
       "<IPython.core.display.Javascript object>"
      ]
     },
     "metadata": {},
     "output_type": "display_data"
    }
   ],
   "source": [
    "%%javascript\n",
    "IPython.notebook.save_notebook()"
   ]
  },
  {
   "cell_type": "code",
   "execution_count": 15,
   "metadata": {
    "execution": {
     "iopub.execute_input": "2020-08-26T19:04:53.947325Z",
     "iopub.status.busy": "2020-08-26T19:04:53.946815Z",
     "iopub.status.idle": "2020-08-26T19:04:56.649795Z",
     "shell.execute_reply": "2020-08-26T19:04:56.650942Z"
    },
    "papermill": {
     "duration": 2.723859,
     "end_time": "2020-08-26T19:04:56.651125",
     "exception": false,
     "start_time": "2020-08-26T19:04:53.927266",
     "status": "completed"
    },
    "slideshow": {
     "slide_type": "skip"
    },
    "tags": [
     "remove_cell"
    ]
   },
   "outputs": [
    {
     "name": "stdout",
     "output_type": "stream",
     "text": [
      "[NbConvertApp] Converting notebook index.ipynb to html\r\n"
     ]
    },
    {
     "name": "stdout",
     "output_type": "stream",
     "text": [
      "[NbConvertApp] Writing 351049 bytes to index.html\r\n"
     ]
    }
   ],
   "source": [
    "# Convert Jupyter Notebook to HTML\n",
    "! jupyter nbconvert \"index.ipynb\" --to html --TagRemovePreprocessor.enabled=True --TagRemovePreprocessor.remove_cell_tags=\"['remove_cell']\" --TagRemovePreprocessor.remove_input_tags=\"['remove_input']\" --no-prompt"
   ]
  },
  {
   "cell_type": "code",
   "execution_count": 16,
   "metadata": {
    "execution": {
     "iopub.execute_input": "2020-08-26T19:04:56.692598Z",
     "iopub.status.busy": "2020-08-26T19:04:56.690652Z",
     "iopub.status.idle": "2020-08-26T19:04:56.693198Z",
     "shell.execute_reply": "2020-08-26T19:04:56.693561Z"
    },
    "papermill": {
     "duration": 0.02235,
     "end_time": "2020-08-26T19:04:56.693728",
     "exception": false,
     "start_time": "2020-08-26T19:04:56.671378",
     "status": "completed"
    },
    "tags": [
     "remove_cell"
    ]
   },
   "outputs": [],
   "source": [
    "# Create daily commit message\n",
    "now = datetime.datetime.now()\n",
    "commit_message = \"Last scraped on \" + str(now)"
   ]
  },
  {
   "cell_type": "code",
   "execution_count": null,
   "metadata": {
    "execution": {
     "iopub.execute_input": "2020-08-26T18:51:17.815484Z",
     "iopub.status.busy": "2020-08-26T18:51:17.814988Z",
     "iopub.status.idle": "2020-08-26T18:51:23.267444Z",
     "shell.execute_reply": "2020-08-26T18:51:23.266253Z"
    },
    "papermill": {
     "duration": null,
     "end_time": null,
     "exception": false,
     "start_time": "2020-08-26T19:04:56.706040",
     "status": "running"
    },
    "tags": [
     "remove_cell"
    ]
   },
   "outputs": [],
   "source": [
    "# Deploy to GitHub\n",
    "! git add .\n",
    "! echo $commit_message > commit_message.txt\n",
    "! git commit -F commit_message.txt\n",
    "! git push"
   ]
  }
 ],
 "metadata": {
  "celltoolbar": "Tags",
  "kernelspec": {
   "display_name": "Python 3",
   "language": "python",
   "name": "python3"
  },
  "language_info": {
   "codemirror_mode": {
    "name": "ipython",
    "version": 3
   },
   "file_extension": ".py",
   "mimetype": "text/x-python",
   "name": "python",
   "nbconvert_exporter": "python",
   "pygments_lexer": "ipython3",
   "version": "3.7.3"
  },
  "papermill": {
   "duration": null,
   "end_time": null,
   "environment_variables": {},
   "exception": null,
   "input_path": "/home/alice_lepissier/cron-job/index.ipynb",
   "output_path": "/home/alice_lepissier/cron-job/index.ipynb",
   "parameters": {},
   "start_time": "2020-08-26T19:04:42.690914",
   "version": "2.1.3"
  }
 },
 "nbformat": 4,
 "nbformat_minor": 4
}