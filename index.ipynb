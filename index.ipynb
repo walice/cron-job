{
 "cells": [
  {
   "cell_type": "markdown",
   "metadata": {
    "papermill": {
     "duration": 0.013159,
     "end_time": "2020-08-26T08:47:02.766084",
     "exception": false,
     "start_time": "2020-08-26T08:47:02.752925",
     "status": "completed"
    },
    "tags": []
   },
   "source": [
    "# Daily COVID monitoring data for Santa Barbara county"
   ]
  },
  {
   "cell_type": "code",
   "execution_count": 1,
   "metadata": {
    "execution": {
     "iopub.execute_input": "2020-08-26T08:47:02.795109Z",
     "iopub.status.busy": "2020-08-26T08:47:02.794607Z",
     "iopub.status.idle": "2020-08-26T08:47:02.906680Z",
     "shell.execute_reply": "2020-08-26T08:47:02.905672Z"
    },
    "papermill": {
     "duration": 0.129363,
     "end_time": "2020-08-26T08:47:02.906838",
     "exception": false,
     "start_time": "2020-08-26T08:47:02.777475",
     "status": "completed"
    },
    "tags": [
     "remove_cell"
    ]
   },
   "outputs": [
    {
     "name": "stdout",
     "output_type": "stream",
     "text": [
      "/bin/sh: 1: jt: not found\r\n"
     ]
    }
   ],
   "source": [
    "! jt -t grade3 -tf robotosans -cellw 1100"
   ]
  },
  {
   "cell_type": "markdown",
   "metadata": {
    "papermill": {
     "duration": 0.011227,
     "end_time": "2020-08-26T08:47:02.930238",
     "exception": false,
     "start_time": "2020-08-26T08:47:02.919011",
     "status": "completed"
    },
    "tags": []
   },
   "source": [
    "This table is automatically updated with new daily COVID data for the county of Santa Barbara, CA. Every day, the California Department of Public Health publishes COVID tracking metrics for each county, but does not save the previous day's data. This tool keeps track of the daily metrics that are used to monitor progress towards safe reopening in California."
   ]
  },
  {
   "cell_type": "code",
   "execution_count": 2,
   "metadata": {
    "execution": {
     "iopub.execute_input": "2020-08-26T08:47:02.959542Z",
     "iopub.status.busy": "2020-08-26T08:47:02.959011Z",
     "iopub.status.idle": "2020-08-26T08:47:03.370540Z",
     "shell.execute_reply": "2020-08-26T08:47:03.371442Z"
    },
    "papermill": {
     "duration": 0.430386,
     "end_time": "2020-08-26T08:47:03.371626",
     "exception": false,
     "start_time": "2020-08-26T08:47:02.941240",
     "status": "completed"
    },
    "slideshow": {
     "slide_type": "skip"
    },
    "tags": [
     "remove_cell"
    ]
   },
   "outputs": [],
   "source": [
    "# Preamble\n",
    "import os\n",
    "from IPython.display import Markdown as md\n",
    "import IPython\n",
    "import requests\n",
    "from bs4 import BeautifulSoup\n",
    "import re\n",
    "import pandas as pd\n",
    "import datetime\n",
    "import gspread\n",
    "from oauth2client.service_account import ServiceAccountCredentials"
   ]
  },
  {
   "cell_type": "code",
   "execution_count": 3,
   "metadata": {
    "execution": {
     "iopub.execute_input": "2020-08-26T08:47:03.399497Z",
     "iopub.status.busy": "2020-08-26T08:47:03.398922Z",
     "iopub.status.idle": "2020-08-26T08:47:03.400334Z",
     "shell.execute_reply": "2020-08-26T08:47:03.399932Z"
    },
    "papermill": {
     "duration": 0.017385,
     "end_time": "2020-08-26T08:47:03.400447",
     "exception": false,
     "start_time": "2020-08-26T08:47:03.383062",
     "status": "completed"
    },
    "tags": []
   },
   "outputs": [],
   "source": [
    "# Set working directory\n",
    "os.chdir(\"/home/alice_lepissier/cron-job\")"
   ]
  },
  {
   "cell_type": "code",
   "execution_count": 4,
   "metadata": {
    "execution": {
     "iopub.execute_input": "2020-08-26T08:47:03.427832Z",
     "iopub.status.busy": "2020-08-26T08:47:03.427343Z",
     "iopub.status.idle": "2020-08-26T08:47:03.697703Z",
     "shell.execute_reply": "2020-08-26T08:47:03.698524Z"
    },
    "papermill": {
     "duration": 0.287186,
     "end_time": "2020-08-26T08:47:03.698688",
     "exception": false,
     "start_time": "2020-08-26T08:47:03.411502",
     "status": "completed"
    },
    "slideshow": {
     "slide_type": "skip"
    },
    "tags": [
     "remove_cell"
    ]
   },
   "outputs": [],
   "source": [
    "# Request content from URL\n",
    "html_string = requests.get('https://www.cdph.ca.gov/Programs/CID/DCDC/Pages/COVID-19/COVID19CountyDataTable.aspx').content"
   ]
  },
  {
   "cell_type": "code",
   "execution_count": 5,
   "metadata": {
    "execution": {
     "iopub.execute_input": "2020-08-26T08:47:03.727521Z",
     "iopub.status.busy": "2020-08-26T08:47:03.727007Z",
     "iopub.status.idle": "2020-08-26T08:47:03.810476Z",
     "shell.execute_reply": "2020-08-26T08:47:03.811232Z"
    },
    "papermill": {
     "duration": 0.101165,
     "end_time": "2020-08-26T08:47:03.811411",
     "exception": false,
     "start_time": "2020-08-26T08:47:03.710246",
     "status": "completed"
    },
    "slideshow": {
     "slide_type": "skip"
    },
    "tags": [
     "remove_cell"
    ]
   },
   "outputs": [],
   "source": [
    "# Parse HTML\n",
    "soup = BeautifulSoup(html_string, 'html.parser')"
   ]
  },
  {
   "cell_type": "code",
   "execution_count": 6,
   "metadata": {
    "execution": {
     "iopub.execute_input": "2020-08-26T08:47:03.844788Z",
     "iopub.status.busy": "2020-08-26T08:47:03.844274Z",
     "iopub.status.idle": "2020-08-26T08:47:03.849226Z",
     "shell.execute_reply": "2020-08-26T08:47:03.849960Z"
    },
    "papermill": {
     "duration": 0.02716,
     "end_time": "2020-08-26T08:47:03.850135",
     "exception": false,
     "start_time": "2020-08-26T08:47:03.822975",
     "status": "completed"
    },
    "slideshow": {
     "slide_type": "skip"
    },
    "tags": [
     "remove_cell"
    ]
   },
   "outputs": [],
   "source": [
    "# Extract data for Santa Barbara\n",
    "table = soup.find_all(\"tr\", class_=\"ms-rteTableEvenRow-3\")\n",
    "SB = table[21]"
   ]
  },
  {
   "cell_type": "code",
   "execution_count": 7,
   "metadata": {
    "execution": {
     "iopub.execute_input": "2020-08-26T08:47:03.879503Z",
     "iopub.status.busy": "2020-08-26T08:47:03.878980Z",
     "iopub.status.idle": "2020-08-26T08:47:03.892715Z",
     "shell.execute_reply": "2020-08-26T08:47:03.893467Z"
    },
    "papermill": {
     "duration": 0.030554,
     "end_time": "2020-08-26T08:47:03.893633",
     "exception": false,
     "start_time": "2020-08-26T08:47:03.863079",
     "status": "completed"
    },
    "slideshow": {
     "slide_type": "skip"
    },
    "tags": [
     "remove_cell"
    ]
   },
   "outputs": [],
   "source": [
    "# Avg # tests per day (per 100,000 population)\n",
    "daily_tests = SB.find_all(\"td\", class_=\"ms-rteTableOddCol-3\")[0].text\n",
    "\n",
    "# Case rate per 100,000\n",
    "case_rate = SB.find_all(\"td\", class_=\"ms-rteTableEvenCol-3\")[1].text\n",
    "\n",
    "# Testing positivity (%)\n",
    "test_positivity = SB.find_all(\"td\", class_=\"ms-rteTableOddCol-3\")[1].text\n",
    "\n",
    "# % Change in 3-day avg COVID+ hospitalized patients\n",
    "change_hospit = SB.find_all(\"td\", class_=\"ms-rteTableEvenCol-3\")[2].text\n",
    "\n",
    "# % ICU beds currently available\n",
    "ICU_beds = SB.find_all(\"td\", class_=\"ms-rteTableOddCol-3\")[2].text\n",
    "\n",
    "# % Ventilators currently available\n",
    "ventilators = SB.find_all(\"td\", class_=\"ms-rteTableEvenCol-3\")[3].text\n",
    "\n",
    "# Extract date of last update\n",
    "update_date = soup.find_all(\"span\", class_=\"ms-rteStyle-Accent1\")[1]\\\n",
    "    .find(\"em\").text"
   ]
  },
  {
   "cell_type": "code",
   "execution_count": 8,
   "metadata": {
    "execution": {
     "iopub.execute_input": "2020-08-26T08:47:03.921748Z",
     "iopub.status.busy": "2020-08-26T08:47:03.921165Z",
     "iopub.status.idle": "2020-08-26T08:47:03.922653Z",
     "shell.execute_reply": "2020-08-26T08:47:03.922242Z"
    },
    "papermill": {
     "duration": 0.017766,
     "end_time": "2020-08-26T08:47:03.922762",
     "exception": false,
     "start_time": "2020-08-26T08:47:03.904996",
     "status": "completed"
    },
    "tags": [
     "remove_cell"
    ]
   },
   "outputs": [],
   "source": [
    "# Create updated date string\n",
    "update_tag = \"Table last updated by CDPH on \" + update_date.split(\" on \", 1)[1] + \".\""
   ]
  },
  {
   "cell_type": "code",
   "execution_count": 9,
   "metadata": {
    "execution": {
     "iopub.execute_input": "2020-08-26T08:47:03.951876Z",
     "iopub.status.busy": "2020-08-26T08:47:03.951345Z",
     "iopub.status.idle": "2020-08-26T08:47:03.954539Z",
     "shell.execute_reply": "2020-08-26T08:47:03.955266Z"
    },
    "papermill": {
     "duration": 0.021485,
     "end_time": "2020-08-26T08:47:03.955423",
     "exception": false,
     "start_time": "2020-08-26T08:47:03.933938",
     "status": "completed"
    },
    "slideshow": {
     "slide_type": "skip"
    },
    "tags": [
     "remove_cell"
    ]
   },
   "outputs": [],
   "source": [
    "# Set up Google Sheet API\n",
    "scope = [\"https://spreadsheets.google.com/feeds\",'https://www.googleapis.com/auth/spreadsheets',\"https://www.googleapis.com/auth/drive.file\",\"https://www.googleapis.com/auth/drive\"]\n",
    "creds = ServiceAccountCredentials.from_json_keyfile_name(\"credentials.json\", scope)\n",
    "client = gspread.authorize(creds)"
   ]
  },
  {
   "cell_type": "code",
   "execution_count": 10,
   "metadata": {
    "execution": {
     "iopub.execute_input": "2020-08-26T08:47:04.015552Z",
     "iopub.status.busy": "2020-08-26T08:47:04.014994Z",
     "iopub.status.idle": "2020-08-26T08:47:05.287506Z",
     "shell.execute_reply": "2020-08-26T08:47:05.288272Z"
    },
    "papermill": {
     "duration": 1.321447,
     "end_time": "2020-08-26T08:47:05.288440",
     "exception": false,
     "start_time": "2020-08-26T08:47:03.966993",
     "status": "completed"
    },
    "slideshow": {
     "slide_type": "skip"
    },
    "tags": [
     "remove_cell"
    ]
   },
   "outputs": [
    {
     "data": {
      "text/plain": [
       "{'spreadsheetId': '1pcqdMzKtea2Oq3BDmdAOQ21gZjCssieKI0692VfNLXU',\n",
       " 'updatedRange': 'Sheet1!A2:G2',\n",
       " 'updatedRows': 1,\n",
       " 'updatedColumns': 7,\n",
       " 'updatedCells': 7}"
      ]
     },
     "execution_count": 10,
     "metadata": {},
     "output_type": "execute_result"
    }
   ],
   "source": [
    "# Append daily data as a new row in Google Sheet\n",
    "sheet = client.open(\"Test cron job\").sheet1\n",
    "insertRow = [datetime.date.today().strftime(\"%Y-%m-%d\"),\n",
    "             daily_tests,\n",
    "             case_rate,\n",
    "             test_positivity,\n",
    "             change_hospit,\n",
    "             ICU_beds,\n",
    "             ventilators]\n",
    "sheet.insert_row(insertRow, 2)"
   ]
  },
  {
   "cell_type": "code",
   "execution_count": 11,
   "metadata": {
    "execution": {
     "iopub.execute_input": "2020-08-26T08:47:05.317021Z",
     "iopub.status.busy": "2020-08-26T08:47:05.316512Z",
     "iopub.status.idle": "2020-08-26T08:47:06.154265Z",
     "shell.execute_reply": "2020-08-26T08:47:06.155066Z"
    },
    "papermill": {
     "duration": 0.854915,
     "end_time": "2020-08-26T08:47:06.155238",
     "exception": false,
     "start_time": "2020-08-26T08:47:05.300323",
     "status": "completed"
    },
    "scrolled": true,
    "slideshow": {
     "slide_type": "slide"
    },
    "tags": [
     "remove_cell"
    ]
   },
   "outputs": [],
   "source": [
    "# Extract data from Google Sheet as pandas dataframe\n",
    "sheet = client.open(\"Test cron job\").sheet1\n",
    "data = sheet.get_all_records()\n",
    "result = pd.DataFrame(data).set_index(\"Date\")"
   ]
  },
  {
   "cell_type": "code",
   "execution_count": 12,
   "metadata": {
    "execution": {
     "iopub.execute_input": "2020-08-26T08:47:06.183845Z",
     "iopub.status.busy": "2020-08-26T08:47:06.183372Z",
     "iopub.status.idle": "2020-08-26T08:47:06.495827Z",
     "shell.execute_reply": "2020-08-26T08:47:06.496606Z"
    },
    "papermill": {
     "duration": 0.329691,
     "end_time": "2020-08-26T08:47:06.496773",
     "exception": false,
     "start_time": "2020-08-26T08:47:06.167082",
     "status": "completed"
    },
    "scrolled": true,
    "tags": [
     "remove_input"
    ]
   },
   "outputs": [
    {
     "data": {
      "text/html": [
       "<style  type=\"text/css\" >\n",
       "    #T_b8731fb8_e778_11ea_958a_42010a8a0004 th {\n",
       "          text-align: center;\n",
       "    }#T_b8731fb8_e778_11ea_958a_42010a8a0004row0_col0,#T_b8731fb8_e778_11ea_958a_42010a8a0004row1_col0,#T_b8731fb8_e778_11ea_958a_42010a8a0004row2_col0,#T_b8731fb8_e778_11ea_958a_42010a8a0004row3_col0,#T_b8731fb8_e778_11ea_958a_42010a8a0004row4_col0,#T_b8731fb8_e778_11ea_958a_42010a8a0004row5_col0,#T_b8731fb8_e778_11ea_958a_42010a8a0004row6_col0,#T_b8731fb8_e778_11ea_958a_42010a8a0004row7_col0,#T_b8731fb8_e778_11ea_958a_42010a8a0004row8_col0,#T_b8731fb8_e778_11ea_958a_42010a8a0004row9_col0,#T_b8731fb8_e778_11ea_958a_42010a8a0004row10_col0,#T_b8731fb8_e778_11ea_958a_42010a8a0004row11_col0,#T_b8731fb8_e778_11ea_958a_42010a8a0004row12_col0,#T_b8731fb8_e778_11ea_958a_42010a8a0004row13_col0,#T_b8731fb8_e778_11ea_958a_42010a8a0004row14_col0,#T_b8731fb8_e778_11ea_958a_42010a8a0004row15_col0,#T_b8731fb8_e778_11ea_958a_42010a8a0004row16_col0,#T_b8731fb8_e778_11ea_958a_42010a8a0004row17_col0,#T_b8731fb8_e778_11ea_958a_42010a8a0004row18_col0{\n",
       "            width:  20em;\n",
       "            text-align:  center;\n",
       "            font-weight:  bold;\n",
       "        }#T_b8731fb8_e778_11ea_958a_42010a8a0004row0_col1,#T_b8731fb8_e778_11ea_958a_42010a8a0004row0_col2,#T_b8731fb8_e778_11ea_958a_42010a8a0004row1_col1,#T_b8731fb8_e778_11ea_958a_42010a8a0004row1_col2,#T_b8731fb8_e778_11ea_958a_42010a8a0004row2_col1,#T_b8731fb8_e778_11ea_958a_42010a8a0004row2_col2,#T_b8731fb8_e778_11ea_958a_42010a8a0004row3_col1,#T_b8731fb8_e778_11ea_958a_42010a8a0004row3_col2,#T_b8731fb8_e778_11ea_958a_42010a8a0004row4_col1,#T_b8731fb8_e778_11ea_958a_42010a8a0004row4_col2,#T_b8731fb8_e778_11ea_958a_42010a8a0004row5_col1,#T_b8731fb8_e778_11ea_958a_42010a8a0004row5_col2,#T_b8731fb8_e778_11ea_958a_42010a8a0004row6_col1,#T_b8731fb8_e778_11ea_958a_42010a8a0004row6_col2,#T_b8731fb8_e778_11ea_958a_42010a8a0004row7_col1,#T_b8731fb8_e778_11ea_958a_42010a8a0004row7_col2,#T_b8731fb8_e778_11ea_958a_42010a8a0004row8_col1,#T_b8731fb8_e778_11ea_958a_42010a8a0004row8_col2,#T_b8731fb8_e778_11ea_958a_42010a8a0004row9_col1,#T_b8731fb8_e778_11ea_958a_42010a8a0004row9_col2,#T_b8731fb8_e778_11ea_958a_42010a8a0004row10_col1,#T_b8731fb8_e778_11ea_958a_42010a8a0004row10_col2,#T_b8731fb8_e778_11ea_958a_42010a8a0004row11_col1,#T_b8731fb8_e778_11ea_958a_42010a8a0004row11_col2,#T_b8731fb8_e778_11ea_958a_42010a8a0004row12_col1,#T_b8731fb8_e778_11ea_958a_42010a8a0004row12_col2,#T_b8731fb8_e778_11ea_958a_42010a8a0004row13_col1,#T_b8731fb8_e778_11ea_958a_42010a8a0004row13_col2,#T_b8731fb8_e778_11ea_958a_42010a8a0004row14_col1,#T_b8731fb8_e778_11ea_958a_42010a8a0004row14_col2,#T_b8731fb8_e778_11ea_958a_42010a8a0004row15_col1,#T_b8731fb8_e778_11ea_958a_42010a8a0004row15_col2,#T_b8731fb8_e778_11ea_958a_42010a8a0004row16_col1,#T_b8731fb8_e778_11ea_958a_42010a8a0004row16_col2,#T_b8731fb8_e778_11ea_958a_42010a8a0004row17_col1,#T_b8731fb8_e778_11ea_958a_42010a8a0004row17_col2,#T_b8731fb8_e778_11ea_958a_42010a8a0004row18_col1,#T_b8731fb8_e778_11ea_958a_42010a8a0004row18_col2{\n",
       "            width:  20em;\n",
       "            text-align:  center;\n",
       "        }</style><table id=\"T_b8731fb8_e778_11ea_958a_42010a8a0004\" ><thead>    <tr>        <th class=\"col_heading level0 col0\" >Date</th>        <th class=\"col_heading level0 col1\" >Time</th>        <th class=\"col_heading level0 col2\" ></th>    </tr></thead><tbody>\n",
       "                <tr>\n",
       "                                <td id=\"T_b8731fb8_e778_11ea_958a_42010a8a0004row0_col0\" class=\"data row0 col0\" >2020-08-26</td>\n",
       "                        <td id=\"T_b8731fb8_e778_11ea_958a_42010a8a0004row0_col1\" class=\"data row0 col1\" >222.1</td>\n",
       "                        <td id=\"T_b8731fb8_e778_11ea_958a_42010a8a0004row0_col2\" class=\"data row0 col2\" > ✔</td>\n",
       "            </tr>\n",
       "            <tr>\n",
       "                                <td id=\"T_b8731fb8_e778_11ea_958a_42010a8a0004row1_col0\" class=\"data row1 col0\" >2020-08-26</td>\n",
       "                        <td id=\"T_b8731fb8_e778_11ea_958a_42010a8a0004row1_col1\" class=\"data row1 col1\" >222.1</td>\n",
       "                        <td id=\"T_b8731fb8_e778_11ea_958a_42010a8a0004row1_col2\" class=\"data row1 col2\" > ✔</td>\n",
       "            </tr>\n",
       "            <tr>\n",
       "                                <td id=\"T_b8731fb8_e778_11ea_958a_42010a8a0004row2_col0\" class=\"data row2 col0\" >2020-08-26</td>\n",
       "                        <td id=\"T_b8731fb8_e778_11ea_958a_42010a8a0004row2_col1\" class=\"data row2 col1\" >222.1</td>\n",
       "                        <td id=\"T_b8731fb8_e778_11ea_958a_42010a8a0004row2_col2\" class=\"data row2 col2\" > ✔</td>\n",
       "            </tr>\n",
       "            <tr>\n",
       "                                <td id=\"T_b8731fb8_e778_11ea_958a_42010a8a0004row3_col0\" class=\"data row3 col0\" >2020-08-26</td>\n",
       "                        <td id=\"T_b8731fb8_e778_11ea_958a_42010a8a0004row3_col1\" class=\"data row3 col1\" >222.1</td>\n",
       "                        <td id=\"T_b8731fb8_e778_11ea_958a_42010a8a0004row3_col2\" class=\"data row3 col2\" > ✔</td>\n",
       "            </tr>\n",
       "            <tr>\n",
       "                                <td id=\"T_b8731fb8_e778_11ea_958a_42010a8a0004row4_col0\" class=\"data row4 col0\" >2020-08-26</td>\n",
       "                        <td id=\"T_b8731fb8_e778_11ea_958a_42010a8a0004row4_col1\" class=\"data row4 col1\" >222.1</td>\n",
       "                        <td id=\"T_b8731fb8_e778_11ea_958a_42010a8a0004row4_col2\" class=\"data row4 col2\" > ✔</td>\n",
       "            </tr>\n",
       "            <tr>\n",
       "                                <td id=\"T_b8731fb8_e778_11ea_958a_42010a8a0004row5_col0\" class=\"data row5 col0\" >2020-08-26</td>\n",
       "                        <td id=\"T_b8731fb8_e778_11ea_958a_42010a8a0004row5_col1\" class=\"data row5 col1\" >222.1</td>\n",
       "                        <td id=\"T_b8731fb8_e778_11ea_958a_42010a8a0004row5_col2\" class=\"data row5 col2\" > ✔</td>\n",
       "            </tr>\n",
       "            <tr>\n",
       "                                <td id=\"T_b8731fb8_e778_11ea_958a_42010a8a0004row6_col0\" class=\"data row6 col0\" >2020-08-26</td>\n",
       "                        <td id=\"T_b8731fb8_e778_11ea_958a_42010a8a0004row6_col1\" class=\"data row6 col1\" >222.1</td>\n",
       "                        <td id=\"T_b8731fb8_e778_11ea_958a_42010a8a0004row6_col2\" class=\"data row6 col2\" > ✔</td>\n",
       "            </tr>\n",
       "            <tr>\n",
       "                                <td id=\"T_b8731fb8_e778_11ea_958a_42010a8a0004row7_col0\" class=\"data row7 col0\" >2020-08-26</td>\n",
       "                        <td id=\"T_b8731fb8_e778_11ea_958a_42010a8a0004row7_col1\" class=\"data row7 col1\" >222.1</td>\n",
       "                        <td id=\"T_b8731fb8_e778_11ea_958a_42010a8a0004row7_col2\" class=\"data row7 col2\" > ✔</td>\n",
       "            </tr>\n",
       "            <tr>\n",
       "                                <td id=\"T_b8731fb8_e778_11ea_958a_42010a8a0004row8_col0\" class=\"data row8 col0\" >2020-08-26</td>\n",
       "                        <td id=\"T_b8731fb8_e778_11ea_958a_42010a8a0004row8_col1\" class=\"data row8 col1\" >222.1</td>\n",
       "                        <td id=\"T_b8731fb8_e778_11ea_958a_42010a8a0004row8_col2\" class=\"data row8 col2\" > ✔</td>\n",
       "            </tr>\n",
       "            <tr>\n",
       "                                <td id=\"T_b8731fb8_e778_11ea_958a_42010a8a0004row9_col0\" class=\"data row9 col0\" >2020-08-26</td>\n",
       "                        <td id=\"T_b8731fb8_e778_11ea_958a_42010a8a0004row9_col1\" class=\"data row9 col1\" >222.1</td>\n",
       "                        <td id=\"T_b8731fb8_e778_11ea_958a_42010a8a0004row9_col2\" class=\"data row9 col2\" > ✔</td>\n",
       "            </tr>\n",
       "            <tr>\n",
       "                                <td id=\"T_b8731fb8_e778_11ea_958a_42010a8a0004row10_col0\" class=\"data row10 col0\" >2020-08-26</td>\n",
       "                        <td id=\"T_b8731fb8_e778_11ea_958a_42010a8a0004row10_col1\" class=\"data row10 col1\" >222.1</td>\n",
       "                        <td id=\"T_b8731fb8_e778_11ea_958a_42010a8a0004row10_col2\" class=\"data row10 col2\" > ✔</td>\n",
       "            </tr>\n",
       "            <tr>\n",
       "                                <td id=\"T_b8731fb8_e778_11ea_958a_42010a8a0004row11_col0\" class=\"data row11 col0\" >2020-08-26</td>\n",
       "                        <td id=\"T_b8731fb8_e778_11ea_958a_42010a8a0004row11_col1\" class=\"data row11 col1\" >222.1</td>\n",
       "                        <td id=\"T_b8731fb8_e778_11ea_958a_42010a8a0004row11_col2\" class=\"data row11 col2\" > ✔</td>\n",
       "            </tr>\n",
       "            <tr>\n",
       "                                <td id=\"T_b8731fb8_e778_11ea_958a_42010a8a0004row12_col0\" class=\"data row12 col0\" >2020-08-26</td>\n",
       "                        <td id=\"T_b8731fb8_e778_11ea_958a_42010a8a0004row12_col1\" class=\"data row12 col1\" >222.1</td>\n",
       "                        <td id=\"T_b8731fb8_e778_11ea_958a_42010a8a0004row12_col2\" class=\"data row12 col2\" > ✔</td>\n",
       "            </tr>\n",
       "            <tr>\n",
       "                                <td id=\"T_b8731fb8_e778_11ea_958a_42010a8a0004row13_col0\" class=\"data row13 col0\" >2020-08-26</td>\n",
       "                        <td id=\"T_b8731fb8_e778_11ea_958a_42010a8a0004row13_col1\" class=\"data row13 col1\" >222.1</td>\n",
       "                        <td id=\"T_b8731fb8_e778_11ea_958a_42010a8a0004row13_col2\" class=\"data row13 col2\" > ✔</td>\n",
       "            </tr>\n",
       "            <tr>\n",
       "                                <td id=\"T_b8731fb8_e778_11ea_958a_42010a8a0004row14_col0\" class=\"data row14 col0\" >2020-08-26</td>\n",
       "                        <td id=\"T_b8731fb8_e778_11ea_958a_42010a8a0004row14_col1\" class=\"data row14 col1\" >222.1</td>\n",
       "                        <td id=\"T_b8731fb8_e778_11ea_958a_42010a8a0004row14_col2\" class=\"data row14 col2\" > ✔</td>\n",
       "            </tr>\n",
       "            <tr>\n",
       "                                <td id=\"T_b8731fb8_e778_11ea_958a_42010a8a0004row15_col0\" class=\"data row15 col0\" >2020-08-26</td>\n",
       "                        <td id=\"T_b8731fb8_e778_11ea_958a_42010a8a0004row15_col1\" class=\"data row15 col1\" >222.1</td>\n",
       "                        <td id=\"T_b8731fb8_e778_11ea_958a_42010a8a0004row15_col2\" class=\"data row15 col2\" > ✔</td>\n",
       "            </tr>\n",
       "            <tr>\n",
       "                                <td id=\"T_b8731fb8_e778_11ea_958a_42010a8a0004row16_col0\" class=\"data row16 col0\" >2020-08-26</td>\n",
       "                        <td id=\"T_b8731fb8_e778_11ea_958a_42010a8a0004row16_col1\" class=\"data row16 col1\" >222.1</td>\n",
       "                        <td id=\"T_b8731fb8_e778_11ea_958a_42010a8a0004row16_col2\" class=\"data row16 col2\" > ✔</td>\n",
       "            </tr>\n",
       "            <tr>\n",
       "                                <td id=\"T_b8731fb8_e778_11ea_958a_42010a8a0004row17_col0\" class=\"data row17 col0\" >2020-08-26</td>\n",
       "                        <td id=\"T_b8731fb8_e778_11ea_958a_42010a8a0004row17_col1\" class=\"data row17 col1\" >222.1</td>\n",
       "                        <td id=\"T_b8731fb8_e778_11ea_958a_42010a8a0004row17_col2\" class=\"data row17 col2\" > ✔</td>\n",
       "            </tr>\n",
       "            <tr>\n",
       "                                <td id=\"T_b8731fb8_e778_11ea_958a_42010a8a0004row18_col0\" class=\"data row18 col0\" >2020-08-26</td>\n",
       "                        <td id=\"T_b8731fb8_e778_11ea_958a_42010a8a0004row18_col1\" class=\"data row18 col1\" >222.1</td>\n",
       "                        <td id=\"T_b8731fb8_e778_11ea_958a_42010a8a0004row18_col2\" class=\"data row18 col2\" > ✔</td>\n",
       "            </tr>\n",
       "    </tbody></table>"
      ],
      "text/plain": [
       "<pandas.io.formats.style.Styler at 0x7f5a5d0e6390>"
      ]
     },
     "execution_count": 12,
     "metadata": {},
     "output_type": "execute_result"
    }
   ],
   "source": [
    "# Style the pandas dataframe\n",
    "d = dict(selector=\"th\",\n",
    "         props=[('text-align', 'center')])\n",
    "\n",
    "result.reset_index().style\\\n",
    "    .set_properties(**{'width':'20em', 'text-align':'center'})\\\n",
    "    .set_properties(subset=['Date'], **{'font-weight': 'bold'})\\\n",
    "    .set_table_styles([d])\\\n",
    "    .set_precision(1)\\\n",
    "    .hide_index()"
   ]
  },
  {
   "cell_type": "markdown",
   "metadata": {
    "papermill": {
     "duration": 0.012099,
     "end_time": "2020-08-26T08:47:06.521428",
     "exception": false,
     "start_time": "2020-08-26T08:47:06.509329",
     "status": "completed"
    },
    "tags": []
   },
   "source": [
    "<sup>Notes: (1) 7 day average with a 7-day lag. (2) 14 day average. (3) 7 day average with a 7-day lag. (4) Change in 3 day average.</sup>"
   ]
  },
  {
   "cell_type": "code",
   "execution_count": 13,
   "metadata": {
    "execution": {
     "iopub.execute_input": "2020-08-26T08:47:06.551245Z",
     "iopub.status.busy": "2020-08-26T08:47:06.550717Z",
     "iopub.status.idle": "2020-08-26T08:47:06.553829Z",
     "shell.execute_reply": "2020-08-26T08:47:06.554224Z"
    },
    "papermill": {
     "duration": 0.020797,
     "end_time": "2020-08-26T08:47:06.554379",
     "exception": false,
     "start_time": "2020-08-26T08:47:06.533582",
     "status": "completed"
    },
    "tags": [
     "remove_input"
    ]
   },
   "outputs": [
    {
     "data": {
      "text/markdown": [
       "Table last updated by CDPH on August 25, 2020."
      ],
      "text/plain": [
       "<IPython.core.display.Markdown object>"
      ]
     },
     "execution_count": 13,
     "metadata": {},
     "output_type": "execute_result"
    }
   ],
   "source": [
    "md(update_tag)"
   ]
  },
  {
   "cell_type": "markdown",
   "metadata": {
    "papermill": {
     "duration": 0.012429,
     "end_time": "2020-08-26T08:47:06.579107",
     "exception": false,
     "start_time": "2020-08-26T08:47:06.566678",
     "status": "completed"
    },
    "tags": []
   },
   "source": [
    "## Tracking county closures in Santa Barbara"
   ]
  },
  {
   "cell_type": "markdown",
   "metadata": {
    "papermill": {
     "duration": 0.012296,
     "end_time": "2020-08-26T08:47:06.603599",
     "exception": false,
     "start_time": "2020-08-26T08:47:06.591303",
     "status": "completed"
    },
    "tags": []
   },
   "source": [
    "The state of California is using a data-driven approach informed by scientific evidence to tailor its response to COVID-19. Three dimensions of concern are monitored to assess whether a county should be placed on the County Monitoring List:\n",
    " 1. Elevated Disease Transmission\n",
    " 2. Increasing Hospitalization\n",
    " 3. Limited Hospital Capacity\n",
    "\n",
    "Once a county appears on the County Monitoring List for three consecutive days, indoor operations in the sectors listed in Section 3 of the [July 13th State Health Officer Order](https://www.cdph.ca.gov/Programs/CID/DCDC/CDPH%20Document%20Library/COVID-19/SHO%20Order%20Dimming%20Entire%20State%207-13-2020.pdf) must close.\n",
    "\n",
    "This table tracks where Santa Barbara stands in terms of the criteria for inclusion on the County Monitoring List. As of 20 August 2020, the criteria for inclusion on the monitoring list are:\n",
    "\n",
    "* Case rate >100 OR (Case rate >25 AND Positivity >8%)\n",
    "* \\>10% increase in hospitalizations\n",
    "* <20% ICU beds available OR <25% ventilators available\n",
    "\n",
    "If Santa Barbara meets the criteria for removal from the County Monitoring List for a certain metric, then a checkmark ✔ is displayed in the table.\n",
    "\n",
    "Read more at <https://covid19.ca.gov/roadmap-counties/>.\n",
    "\n",
    "Data source for county metrics: https://www.cdph.ca.gov/Programs/CID/DCDC/Pages/COVID-19/COVID19CountyDataTable.aspx."
   ]
  },
  {
   "cell_type": "markdown",
   "metadata": {
    "papermill": {
     "duration": 0.012175,
     "end_time": "2020-08-26T08:47:06.628116",
     "exception": false,
     "start_time": "2020-08-26T08:47:06.615941",
     "status": "completed"
    },
    "tags": []
   },
   "source": [
    "**See the code used to scrape the data: https://github.com/walice/COVID-SB/.**"
   ]
  },
  {
   "cell_type": "code",
   "execution_count": 14,
   "metadata": {
    "execution": {
     "iopub.execute_input": "2020-08-26T08:47:06.659498Z",
     "iopub.status.busy": "2020-08-26T08:47:06.659004Z",
     "iopub.status.idle": "2020-08-26T08:47:06.661888Z",
     "shell.execute_reply": "2020-08-26T08:47:06.662304Z"
    },
    "papermill": {
     "duration": 0.020843,
     "end_time": "2020-08-26T08:47:06.662445",
     "exception": false,
     "start_time": "2020-08-26T08:47:06.641602",
     "status": "completed"
    },
    "tags": [
     "remove_cell"
    ]
   },
   "outputs": [
    {
     "data": {
      "application/javascript": [
       "IPython.notebook.save_notebook()\n"
      ],
      "text/plain": [
       "<IPython.core.display.Javascript object>"
      ]
     },
     "metadata": {},
     "output_type": "display_data"
    }
   ],
   "source": [
    "%%javascript\n",
    "IPython.notebook.save_notebook()"
   ]
  },
  {
   "cell_type": "code",
   "execution_count": 15,
   "metadata": {
    "execution": {
     "iopub.execute_input": "2020-08-26T08:47:06.695095Z",
     "iopub.status.busy": "2020-08-26T08:47:06.694596Z",
     "iopub.status.idle": "2020-08-26T08:47:06.807201Z",
     "shell.execute_reply": "2020-08-26T08:47:06.806248Z"
    },
    "papermill": {
     "duration": 0.132586,
     "end_time": "2020-08-26T08:47:06.807363",
     "exception": false,
     "start_time": "2020-08-26T08:47:06.674777",
     "status": "completed"
    },
    "slideshow": {
     "slide_type": "skip"
    },
    "tags": [
     "remove_cell"
    ]
   },
   "outputs": [
    {
     "name": "stdout",
     "output_type": "stream",
     "text": [
      "/bin/sh: 1: jupyter: not found\r\n"
     ]
    }
   ],
   "source": [
    "# Convert Jupyter Notebook to HTML\n",
    "! jupyter nbconvert \"index.ipynb\" --to html --TagRemovePreprocessor.enabled=True --TagRemovePreprocessor.remove_cell_tags=\"['remove_cell']\" --TagRemovePreprocessor.remove_input_tags=\"['remove_input']\" --no-prompt"
   ]
  },
  {
   "cell_type": "code",
   "execution_count": 16,
   "metadata": {
    "execution": {
     "iopub.execute_input": "2020-08-26T08:47:06.839533Z",
     "iopub.status.busy": "2020-08-26T08:47:06.837850Z",
     "iopub.status.idle": "2020-08-26T08:47:06.840092Z",
     "shell.execute_reply": "2020-08-26T08:47:06.840453Z"
    },
    "papermill": {
     "duration": 0.019867,
     "end_time": "2020-08-26T08:47:06.840585",
     "exception": false,
     "start_time": "2020-08-26T08:47:06.820718",
     "status": "completed"
    },
    "tags": [
     "remove_cell"
    ]
   },
   "outputs": [],
   "source": [
    "# Create daily commit message\n",
    "now = datetime.datetime.now()\n",
    "commit_message = \"Last scraped on \" + str(now)"
   ]
  },
  {
   "cell_type": "code",
   "execution_count": null,
   "metadata": {
    "execution": {
     "iopub.execute_input": "2020-08-26T08:46:07.182980Z",
     "iopub.status.busy": "2020-08-26T08:46:07.182456Z",
     "iopub.status.idle": "2020-08-26T08:46:11.090052Z",
     "shell.execute_reply": "2020-08-26T08:46:11.088857Z"
    },
    "papermill": {
     "duration": null,
     "end_time": null,
     "exception": false,
     "start_time": "2020-08-26T08:47:06.853116",
     "status": "running"
    },
    "tags": [
     "remove_cell"
    ]
   },
   "outputs": [],
   "source": [
    "# Deploy to GitHub\n",
    "! git add .\n",
    "! echo $commit_message > commit_message.txt\n",
    "! git commit -F commit_message.txt\n",
    "! git push"
   ]
  }
 ],
 "metadata": {
  "celltoolbar": "Tags",
  "kernelspec": {
   "display_name": "Python 3",
   "language": "python",
   "name": "python3"
  },
  "language_info": {
   "codemirror_mode": {
    "name": "ipython",
    "version": 3
   },
   "file_extension": ".py",
   "mimetype": "text/x-python",
   "name": "python",
   "nbconvert_exporter": "python",
   "pygments_lexer": "ipython3",
   "version": "3.7.3"
  },
  "papermill": {
   "duration": null,
   "end_time": null,
   "environment_variables": {},
   "exception": null,
   "input_path": "/home/alice_lepissier/cron-job/index.ipynb",
   "output_path": "/home/alice_lepissier/cron-job/index.ipynb",
   "parameters": {},
   "start_time": "2020-08-26T08:47:01.902076",
   "version": "2.1.3"
  }
 },
 "nbformat": 4,
 "nbformat_minor": 4
}