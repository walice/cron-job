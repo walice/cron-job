{
 "cells": [
  {
   "cell_type": "markdown",
   "metadata": {
    "papermill": {
     "duration": 0.011201,
     "end_time": "2020-08-26T20:01:04.670652",
     "exception": false,
     "start_time": "2020-08-26T20:01:04.659451",
     "status": "completed"
    },
    "tags": []
   },
   "source": [
    "# Daily COVID monitoring data for Santa Barbara county"
   ]
  },
  {
   "cell_type": "code",
   "execution_count": 1,
   "metadata": {
    "execution": {
     "iopub.execute_input": "2020-08-26T20:01:04.698183Z",
     "iopub.status.busy": "2020-08-26T20:01:04.697617Z",
     "iopub.status.idle": "2020-08-26T20:01:04.811376Z",
     "shell.execute_reply": "2020-08-26T20:01:04.810351Z"
    },
    "papermill": {
     "duration": 0.130845,
     "end_time": "2020-08-26T20:01:04.811680",
     "exception": false,
     "start_time": "2020-08-26T20:01:04.680835",
     "status": "completed"
    },
    "tags": [
     "remove_cell"
    ]
   },
   "outputs": [
    {
     "name": "stdout",
     "output_type": "stream",
     "text": [
      "/bin/sh: 1: jt: not found\r\n"
     ]
    }
   ],
   "source": [
    "! jt -t grade3 -tf robotosans -cellw 1100"
   ]
  },
  {
   "cell_type": "markdown",
   "metadata": {
    "papermill": {
     "duration": 0.010143,
     "end_time": "2020-08-26T20:01:04.833144",
     "exception": false,
     "start_time": "2020-08-26T20:01:04.823001",
     "status": "completed"
    },
    "tags": []
   },
   "source": [
    "This table is automatically updated with new daily COVID data for the county of Santa Barbara, CA. Every day, the California Department of Public Health publishes COVID tracking metrics for each county, but does not save the previous day's data. This tool keeps track of the daily metrics that are used to monitor progress towards safe reopening in California."
   ]
  },
  {
   "cell_type": "code",
   "execution_count": 2,
   "metadata": {
    "execution": {
     "iopub.execute_input": "2020-08-26T20:01:04.859589Z",
     "iopub.status.busy": "2020-08-26T20:01:04.859053Z",
     "iopub.status.idle": "2020-08-26T20:01:07.694713Z",
     "shell.execute_reply": "2020-08-26T20:01:07.695565Z"
    },
    "papermill": {
     "duration": 2.852546,
     "end_time": "2020-08-26T20:01:07.695745",
     "exception": false,
     "start_time": "2020-08-26T20:01:04.843199",
     "status": "completed"
    },
    "slideshow": {
     "slide_type": "skip"
    },
    "tags": [
     "remove_cell"
    ]
   },
   "outputs": [],
   "source": [
    "# Preamble\n",
    "import os\n",
    "from IPython.display import Markdown as md\n",
    "import IPython\n",
    "import requests\n",
    "from bs4 import BeautifulSoup\n",
    "import re\n",
    "import pandas as pd\n",
    "import datetime\n",
    "import gspread\n",
    "from oauth2client.service_account import ServiceAccountCredentials"
   ]
  },
  {
   "cell_type": "code",
   "execution_count": 3,
   "metadata": {
    "execution": {
     "iopub.execute_input": "2020-08-26T20:01:07.722250Z",
     "iopub.status.busy": "2020-08-26T20:01:07.721592Z",
     "iopub.status.idle": "2020-08-26T20:01:07.723093Z",
     "shell.execute_reply": "2020-08-26T20:01:07.722695Z"
    },
    "papermill": {
     "duration": 0.01697,
     "end_time": "2020-08-26T20:01:07.723207",
     "exception": false,
     "start_time": "2020-08-26T20:01:07.706237",
     "status": "completed"
    },
    "tags": []
   },
   "outputs": [],
   "source": [
    "# Set working directory\n",
    "os.chdir(\"/home/alice_lepissier/cron-job\")"
   ]
  },
  {
   "cell_type": "code",
   "execution_count": 4,
   "metadata": {
    "execution": {
     "iopub.execute_input": "2020-08-26T20:01:07.750361Z",
     "iopub.status.busy": "2020-08-26T20:01:07.747488Z",
     "iopub.status.idle": "2020-08-26T20:01:10.041218Z",
     "shell.execute_reply": "2020-08-26T20:01:10.042139Z"
    },
    "papermill": {
     "duration": 2.30914,
     "end_time": "2020-08-26T20:01:10.042315",
     "exception": false,
     "start_time": "2020-08-26T20:01:07.733175",
     "status": "completed"
    },
    "slideshow": {
     "slide_type": "skip"
    },
    "tags": [
     "remove_cell"
    ]
   },
   "outputs": [],
   "source": [
    "# Request content from URL\n",
    "html_string = requests.get('https://www.cdph.ca.gov/Programs/CID/DCDC/Pages/COVID-19/COVID19CountyDataTable.aspx').content"
   ]
  },
  {
   "cell_type": "code",
   "execution_count": 5,
   "metadata": {
    "execution": {
     "iopub.execute_input": "2020-08-26T20:01:10.071671Z",
     "iopub.status.busy": "2020-08-26T20:01:10.071050Z",
     "iopub.status.idle": "2020-08-26T20:01:10.165562Z",
     "shell.execute_reply": "2020-08-26T20:01:10.166751Z"
    },
    "papermill": {
     "duration": 0.11407,
     "end_time": "2020-08-26T20:01:10.166936",
     "exception": false,
     "start_time": "2020-08-26T20:01:10.052866",
     "status": "completed"
    },
    "slideshow": {
     "slide_type": "skip"
    },
    "tags": [
     "remove_cell"
    ]
   },
   "outputs": [],
   "source": [
    "# Parse HTML\n",
    "soup = BeautifulSoup(html_string, 'html.parser')"
   ]
  },
  {
   "cell_type": "code",
   "execution_count": 6,
   "metadata": {
    "execution": {
     "iopub.execute_input": "2020-08-26T20:01:10.195606Z",
     "iopub.status.busy": "2020-08-26T20:01:10.195075Z",
     "iopub.status.idle": "2020-08-26T20:01:10.205344Z",
     "shell.execute_reply": "2020-08-26T20:01:10.206230Z"
    },
    "papermill": {
     "duration": 0.028324,
     "end_time": "2020-08-26T20:01:10.206402",
     "exception": false,
     "start_time": "2020-08-26T20:01:10.178078",
     "status": "completed"
    },
    "slideshow": {
     "slide_type": "skip"
    },
    "tags": [
     "remove_cell"
    ]
   },
   "outputs": [],
   "source": [
    "# Extract data for Santa Barbara\n",
    "table = soup.find_all(\"tr\", class_=\"ms-rteTableEvenRow-3\")\n",
    "SB = table[21]"
   ]
  },
  {
   "cell_type": "code",
   "execution_count": 7,
   "metadata": {
    "execution": {
     "iopub.execute_input": "2020-08-26T20:01:10.236878Z",
     "iopub.status.busy": "2020-08-26T20:01:10.236303Z",
     "iopub.status.idle": "2020-08-26T20:01:10.248483Z",
     "shell.execute_reply": "2020-08-26T20:01:10.249403Z"
    },
    "papermill": {
     "duration": 0.032702,
     "end_time": "2020-08-26T20:01:10.249577",
     "exception": false,
     "start_time": "2020-08-26T20:01:10.216875",
     "status": "completed"
    },
    "slideshow": {
     "slide_type": "skip"
    },
    "tags": [
     "remove_cell"
    ]
   },
   "outputs": [],
   "source": [
    "# Avg # tests per day (per 100,000 population)\n",
    "daily_tests = SB.find_all(\"td\", class_=\"ms-rteTableOddCol-3\")[0].text\n",
    "\n",
    "# Case rate per 100,000\n",
    "case_rate = SB.find_all(\"td\", class_=\"ms-rteTableEvenCol-3\")[1].text\n",
    "\n",
    "# Testing positivity (%)\n",
    "test_positivity = SB.find_all(\"td\", class_=\"ms-rteTableOddCol-3\")[1].text\n",
    "\n",
    "# % Change in 3-day avg COVID+ hospitalized patients\n",
    "change_hospit = SB.find_all(\"td\", class_=\"ms-rteTableEvenCol-3\")[2].text\n",
    "\n",
    "# % ICU beds currently available\n",
    "ICU_beds = SB.find_all(\"td\", class_=\"ms-rteTableOddCol-3\")[2].text\n",
    "\n",
    "# % Ventilators currently available\n",
    "ventilators = SB.find_all(\"td\", class_=\"ms-rteTableEvenCol-3\")[3].text\n",
    "\n",
    "# Extract date of last update\n",
    "update_date = soup.find_all(\"span\", class_=\"ms-rteStyle-Accent1\")[1]\\\n",
    "    .find(\"em\").text"
   ]
  },
  {
   "cell_type": "code",
   "execution_count": 8,
   "metadata": {
    "execution": {
     "iopub.execute_input": "2020-08-26T20:01:10.276798Z",
     "iopub.status.busy": "2020-08-26T20:01:10.276125Z",
     "iopub.status.idle": "2020-08-26T20:01:10.277660Z",
     "shell.execute_reply": "2020-08-26T20:01:10.277242Z"
    },
    "papermill": {
     "duration": 0.017577,
     "end_time": "2020-08-26T20:01:10.277780",
     "exception": false,
     "start_time": "2020-08-26T20:01:10.260203",
     "status": "completed"
    },
    "tags": [
     "remove_cell"
    ]
   },
   "outputs": [],
   "source": [
    "# Create updated date string\n",
    "update_tag = \"Table last updated by CDPH on \" + update_date.split(\" on \", 1)[1] + \".\""
   ]
  },
  {
   "cell_type": "code",
   "execution_count": 9,
   "metadata": {
    "execution": {
     "iopub.execute_input": "2020-08-26T20:01:10.303145Z",
     "iopub.status.busy": "2020-08-26T20:01:10.302618Z",
     "iopub.status.idle": "2020-08-26T20:01:10.318752Z",
     "shell.execute_reply": "2020-08-26T20:01:10.319654Z"
    },
    "papermill": {
     "duration": 0.031919,
     "end_time": "2020-08-26T20:01:10.319824",
     "exception": false,
     "start_time": "2020-08-26T20:01:10.287905",
     "status": "completed"
    },
    "slideshow": {
     "slide_type": "skip"
    },
    "tags": [
     "remove_cell"
    ]
   },
   "outputs": [],
   "source": [
    "# Set up Google Sheet API\n",
    "scope = [\"https://spreadsheets.google.com/feeds\",'https://www.googleapis.com/auth/spreadsheets',\"https://www.googleapis.com/auth/drive.file\",\"https://www.googleapis.com/auth/drive\"]\n",
    "creds = ServiceAccountCredentials.from_json_keyfile_name(\"credentials.json\", scope)\n",
    "client = gspread.authorize(creds)"
   ]
  },
  {
   "cell_type": "code",
   "execution_count": 10,
   "metadata": {
    "execution": {
     "iopub.execute_input": "2020-08-26T20:01:10.347547Z",
     "iopub.status.busy": "2020-08-26T20:01:10.347034Z",
     "iopub.status.idle": "2020-08-26T20:01:11.503164Z",
     "shell.execute_reply": "2020-08-26T20:01:11.503946Z"
    },
    "papermill": {
     "duration": 1.17386,
     "end_time": "2020-08-26T20:01:11.504109",
     "exception": false,
     "start_time": "2020-08-26T20:01:10.330249",
     "status": "completed"
    },
    "slideshow": {
     "slide_type": "skip"
    },
    "tags": [
     "remove_cell"
    ]
   },
   "outputs": [
    {
     "data": {
      "text/plain": [
       "{'spreadsheetId': '1pcqdMzKtea2Oq3BDmdAOQ21gZjCssieKI0692VfNLXU',\n",
       " 'updatedRange': 'Sheet1!A2:G2',\n",
       " 'updatedRows': 1,\n",
       " 'updatedColumns': 7,\n",
       " 'updatedCells': 7}"
      ]
     },
     "execution_count": 10,
     "metadata": {},
     "output_type": "execute_result"
    }
   ],
   "source": [
    "# Append daily data as a new row in Google Sheet\n",
    "sheet = client.open(\"Test cron job\").sheet1\n",
    "insertRow = [datetime.date.today().strftime(\"%Y-%m-%d\"),\n",
    "             daily_tests,\n",
    "             case_rate,\n",
    "             test_positivity,\n",
    "             change_hospit,\n",
    "             ICU_beds,\n",
    "             ventilators]\n",
    "sheet.insert_row(insertRow, 2)"
   ]
  },
  {
   "cell_type": "code",
   "execution_count": 11,
   "metadata": {
    "execution": {
     "iopub.execute_input": "2020-08-26T20:01:11.530597Z",
     "iopub.status.busy": "2020-08-26T20:01:11.530026Z",
     "iopub.status.idle": "2020-08-26T20:01:12.491982Z",
     "shell.execute_reply": "2020-08-26T20:01:12.492869Z"
    },
    "papermill": {
     "duration": 0.9781,
     "end_time": "2020-08-26T20:01:12.493040",
     "exception": false,
     "start_time": "2020-08-26T20:01:11.514940",
     "status": "completed"
    },
    "scrolled": true,
    "slideshow": {
     "slide_type": "slide"
    },
    "tags": [
     "remove_cell"
    ]
   },
   "outputs": [],
   "source": [
    "# Extract data from Google Sheet as pandas dataframe\n",
    "sheet = client.open(\"Test cron job\").sheet1\n",
    "data = sheet.get_all_records()\n",
    "result = pd.DataFrame(data).set_index(\"Date\")"
   ]
  },
  {
   "cell_type": "code",
   "execution_count": 12,
   "metadata": {
    "execution": {
     "iopub.execute_input": "2020-08-26T20:01:12.519555Z",
     "iopub.status.busy": "2020-08-26T20:01:12.519047Z",
     "iopub.status.idle": "2020-08-26T20:01:13.477700Z",
     "shell.execute_reply": "2020-08-26T20:01:13.478506Z"
    },
    "papermill": {
     "duration": 0.974834,
     "end_time": "2020-08-26T20:01:13.478671",
     "exception": false,
     "start_time": "2020-08-26T20:01:12.503837",
     "status": "completed"
    },
    "scrolled": true,
    "tags": [
     "remove_input"
    ]
   },
   "outputs": [
    {
     "data": {
      "text/html": [
       "<style  type=\"text/css\" >\n",
       "    #T_e4ba46ce_e7d6_11ea_9066_42010a8a0004 th {\n",
       "          text-align: center;\n",
       "    }#T_e4ba46ce_e7d6_11ea_9066_42010a8a0004row0_col0,#T_e4ba46ce_e7d6_11ea_9066_42010a8a0004row1_col0,#T_e4ba46ce_e7d6_11ea_9066_42010a8a0004row2_col0,#T_e4ba46ce_e7d6_11ea_9066_42010a8a0004row3_col0,#T_e4ba46ce_e7d6_11ea_9066_42010a8a0004row4_col0,#T_e4ba46ce_e7d6_11ea_9066_42010a8a0004row5_col0,#T_e4ba46ce_e7d6_11ea_9066_42010a8a0004row6_col0,#T_e4ba46ce_e7d6_11ea_9066_42010a8a0004row7_col0,#T_e4ba46ce_e7d6_11ea_9066_42010a8a0004row8_col0,#T_e4ba46ce_e7d6_11ea_9066_42010a8a0004row9_col0,#T_e4ba46ce_e7d6_11ea_9066_42010a8a0004row10_col0,#T_e4ba46ce_e7d6_11ea_9066_42010a8a0004row11_col0,#T_e4ba46ce_e7d6_11ea_9066_42010a8a0004row12_col0,#T_e4ba46ce_e7d6_11ea_9066_42010a8a0004row13_col0,#T_e4ba46ce_e7d6_11ea_9066_42010a8a0004row14_col0,#T_e4ba46ce_e7d6_11ea_9066_42010a8a0004row15_col0,#T_e4ba46ce_e7d6_11ea_9066_42010a8a0004row16_col0,#T_e4ba46ce_e7d6_11ea_9066_42010a8a0004row17_col0{\n",
       "            width:  20em;\n",
       "            text-align:  center;\n",
       "            font-weight:  bold;\n",
       "        }#T_e4ba46ce_e7d6_11ea_9066_42010a8a0004row0_col1,#T_e4ba46ce_e7d6_11ea_9066_42010a8a0004row0_col2,#T_e4ba46ce_e7d6_11ea_9066_42010a8a0004row0_col3,#T_e4ba46ce_e7d6_11ea_9066_42010a8a0004row0_col4,#T_e4ba46ce_e7d6_11ea_9066_42010a8a0004row0_col5,#T_e4ba46ce_e7d6_11ea_9066_42010a8a0004row0_col6,#T_e4ba46ce_e7d6_11ea_9066_42010a8a0004row1_col1,#T_e4ba46ce_e7d6_11ea_9066_42010a8a0004row1_col2,#T_e4ba46ce_e7d6_11ea_9066_42010a8a0004row1_col3,#T_e4ba46ce_e7d6_11ea_9066_42010a8a0004row1_col4,#T_e4ba46ce_e7d6_11ea_9066_42010a8a0004row1_col5,#T_e4ba46ce_e7d6_11ea_9066_42010a8a0004row1_col6,#T_e4ba46ce_e7d6_11ea_9066_42010a8a0004row2_col1,#T_e4ba46ce_e7d6_11ea_9066_42010a8a0004row2_col2,#T_e4ba46ce_e7d6_11ea_9066_42010a8a0004row2_col3,#T_e4ba46ce_e7d6_11ea_9066_42010a8a0004row2_col4,#T_e4ba46ce_e7d6_11ea_9066_42010a8a0004row2_col5,#T_e4ba46ce_e7d6_11ea_9066_42010a8a0004row2_col6,#T_e4ba46ce_e7d6_11ea_9066_42010a8a0004row3_col1,#T_e4ba46ce_e7d6_11ea_9066_42010a8a0004row3_col2,#T_e4ba46ce_e7d6_11ea_9066_42010a8a0004row3_col3,#T_e4ba46ce_e7d6_11ea_9066_42010a8a0004row3_col4,#T_e4ba46ce_e7d6_11ea_9066_42010a8a0004row3_col5,#T_e4ba46ce_e7d6_11ea_9066_42010a8a0004row3_col6,#T_e4ba46ce_e7d6_11ea_9066_42010a8a0004row4_col1,#T_e4ba46ce_e7d6_11ea_9066_42010a8a0004row4_col2,#T_e4ba46ce_e7d6_11ea_9066_42010a8a0004row4_col3,#T_e4ba46ce_e7d6_11ea_9066_42010a8a0004row4_col4,#T_e4ba46ce_e7d6_11ea_9066_42010a8a0004row4_col5,#T_e4ba46ce_e7d6_11ea_9066_42010a8a0004row4_col6,#T_e4ba46ce_e7d6_11ea_9066_42010a8a0004row5_col1,#T_e4ba46ce_e7d6_11ea_9066_42010a8a0004row5_col2,#T_e4ba46ce_e7d6_11ea_9066_42010a8a0004row5_col3,#T_e4ba46ce_e7d6_11ea_9066_42010a8a0004row5_col4,#T_e4ba46ce_e7d6_11ea_9066_42010a8a0004row5_col5,#T_e4ba46ce_e7d6_11ea_9066_42010a8a0004row5_col6,#T_e4ba46ce_e7d6_11ea_9066_42010a8a0004row6_col1,#T_e4ba46ce_e7d6_11ea_9066_42010a8a0004row6_col2,#T_e4ba46ce_e7d6_11ea_9066_42010a8a0004row6_col3,#T_e4ba46ce_e7d6_11ea_9066_42010a8a0004row6_col4,#T_e4ba46ce_e7d6_11ea_9066_42010a8a0004row6_col5,#T_e4ba46ce_e7d6_11ea_9066_42010a8a0004row6_col6,#T_e4ba46ce_e7d6_11ea_9066_42010a8a0004row7_col1,#T_e4ba46ce_e7d6_11ea_9066_42010a8a0004row7_col2,#T_e4ba46ce_e7d6_11ea_9066_42010a8a0004row7_col3,#T_e4ba46ce_e7d6_11ea_9066_42010a8a0004row7_col4,#T_e4ba46ce_e7d6_11ea_9066_42010a8a0004row7_col5,#T_e4ba46ce_e7d6_11ea_9066_42010a8a0004row7_col6,#T_e4ba46ce_e7d6_11ea_9066_42010a8a0004row8_col1,#T_e4ba46ce_e7d6_11ea_9066_42010a8a0004row8_col2,#T_e4ba46ce_e7d6_11ea_9066_42010a8a0004row8_col3,#T_e4ba46ce_e7d6_11ea_9066_42010a8a0004row8_col4,#T_e4ba46ce_e7d6_11ea_9066_42010a8a0004row8_col5,#T_e4ba46ce_e7d6_11ea_9066_42010a8a0004row8_col6,#T_e4ba46ce_e7d6_11ea_9066_42010a8a0004row9_col1,#T_e4ba46ce_e7d6_11ea_9066_42010a8a0004row9_col2,#T_e4ba46ce_e7d6_11ea_9066_42010a8a0004row9_col3,#T_e4ba46ce_e7d6_11ea_9066_42010a8a0004row9_col4,#T_e4ba46ce_e7d6_11ea_9066_42010a8a0004row9_col5,#T_e4ba46ce_e7d6_11ea_9066_42010a8a0004row9_col6,#T_e4ba46ce_e7d6_11ea_9066_42010a8a0004row10_col1,#T_e4ba46ce_e7d6_11ea_9066_42010a8a0004row10_col2,#T_e4ba46ce_e7d6_11ea_9066_42010a8a0004row10_col3,#T_e4ba46ce_e7d6_11ea_9066_42010a8a0004row10_col4,#T_e4ba46ce_e7d6_11ea_9066_42010a8a0004row10_col5,#T_e4ba46ce_e7d6_11ea_9066_42010a8a0004row10_col6,#T_e4ba46ce_e7d6_11ea_9066_42010a8a0004row11_col1,#T_e4ba46ce_e7d6_11ea_9066_42010a8a0004row11_col2,#T_e4ba46ce_e7d6_11ea_9066_42010a8a0004row11_col3,#T_e4ba46ce_e7d6_11ea_9066_42010a8a0004row11_col4,#T_e4ba46ce_e7d6_11ea_9066_42010a8a0004row11_col5,#T_e4ba46ce_e7d6_11ea_9066_42010a8a0004row11_col6,#T_e4ba46ce_e7d6_11ea_9066_42010a8a0004row12_col1,#T_e4ba46ce_e7d6_11ea_9066_42010a8a0004row12_col2,#T_e4ba46ce_e7d6_11ea_9066_42010a8a0004row12_col3,#T_e4ba46ce_e7d6_11ea_9066_42010a8a0004row12_col4,#T_e4ba46ce_e7d6_11ea_9066_42010a8a0004row12_col5,#T_e4ba46ce_e7d6_11ea_9066_42010a8a0004row12_col6,#T_e4ba46ce_e7d6_11ea_9066_42010a8a0004row13_col1,#T_e4ba46ce_e7d6_11ea_9066_42010a8a0004row13_col2,#T_e4ba46ce_e7d6_11ea_9066_42010a8a0004row13_col3,#T_e4ba46ce_e7d6_11ea_9066_42010a8a0004row13_col4,#T_e4ba46ce_e7d6_11ea_9066_42010a8a0004row13_col5,#T_e4ba46ce_e7d6_11ea_9066_42010a8a0004row13_col6,#T_e4ba46ce_e7d6_11ea_9066_42010a8a0004row14_col1,#T_e4ba46ce_e7d6_11ea_9066_42010a8a0004row14_col2,#T_e4ba46ce_e7d6_11ea_9066_42010a8a0004row14_col3,#T_e4ba46ce_e7d6_11ea_9066_42010a8a0004row14_col4,#T_e4ba46ce_e7d6_11ea_9066_42010a8a0004row14_col5,#T_e4ba46ce_e7d6_11ea_9066_42010a8a0004row14_col6,#T_e4ba46ce_e7d6_11ea_9066_42010a8a0004row15_col1,#T_e4ba46ce_e7d6_11ea_9066_42010a8a0004row15_col2,#T_e4ba46ce_e7d6_11ea_9066_42010a8a0004row15_col3,#T_e4ba46ce_e7d6_11ea_9066_42010a8a0004row15_col4,#T_e4ba46ce_e7d6_11ea_9066_42010a8a0004row15_col5,#T_e4ba46ce_e7d6_11ea_9066_42010a8a0004row15_col6,#T_e4ba46ce_e7d6_11ea_9066_42010a8a0004row16_col1,#T_e4ba46ce_e7d6_11ea_9066_42010a8a0004row16_col2,#T_e4ba46ce_e7d6_11ea_9066_42010a8a0004row16_col3,#T_e4ba46ce_e7d6_11ea_9066_42010a8a0004row16_col4,#T_e4ba46ce_e7d6_11ea_9066_42010a8a0004row16_col5,#T_e4ba46ce_e7d6_11ea_9066_42010a8a0004row16_col6,#T_e4ba46ce_e7d6_11ea_9066_42010a8a0004row17_col1,#T_e4ba46ce_e7d6_11ea_9066_42010a8a0004row17_col2,#T_e4ba46ce_e7d6_11ea_9066_42010a8a0004row17_col3,#T_e4ba46ce_e7d6_11ea_9066_42010a8a0004row17_col4,#T_e4ba46ce_e7d6_11ea_9066_42010a8a0004row17_col5,#T_e4ba46ce_e7d6_11ea_9066_42010a8a0004row17_col6{\n",
       "            width:  20em;\n",
       "            text-align:  center;\n",
       "        }</style><table id=\"T_e4ba46ce_e7d6_11ea_9066_42010a8a0004\" ><thead>    <tr>        <th class=\"col_heading level0 col0\" >Date</th>        <th class=\"col_heading level0 col1\" >Daily tests (per 100,000)¹</th>        <th class=\"col_heading level0 col2\" >Case rate (per 100,000)²</th>        <th class=\"col_heading level0 col3\" >Testing positivity (%)³</th>        <th class=\"col_heading level0 col4\" >Change in hospitalizations (%)⁴</th>        <th class=\"col_heading level0 col5\" >ICU beds available (%)</th>        <th class=\"col_heading level0 col6\" >Ventilators (available (%)</th>    </tr></thead><tbody>\n",
       "                <tr>\n",
       "                                <td id=\"T_e4ba46ce_e7d6_11ea_9066_42010a8a0004row0_col0\" class=\"data row0 col0\" >2020-08-26</td>\n",
       "                        <td id=\"T_e4ba46ce_e7d6_11ea_9066_42010a8a0004row0_col1\" class=\"data row0 col1\" >219.7</td>\n",
       "                        <td id=\"T_e4ba46ce_e7d6_11ea_9066_42010a8a0004row0_col2\" class=\"data row0 col2\" >133.2</td>\n",
       "                        <td id=\"T_e4ba46ce_e7d6_11ea_9066_42010a8a0004row0_col3\" class=\"data row0 col3\" > ✔</td>\n",
       "                        <td id=\"T_e4ba46ce_e7d6_11ea_9066_42010a8a0004row0_col4\" class=\"data row0 col4\" > ✔</td>\n",
       "                        <td id=\"T_e4ba46ce_e7d6_11ea_9066_42010a8a0004row0_col5\" class=\"data row0 col5\" > ✔</td>\n",
       "                        <td id=\"T_e4ba46ce_e7d6_11ea_9066_42010a8a0004row0_col6\" class=\"data row0 col6\" > ✔</td>\n",
       "            </tr>\n",
       "            <tr>\n",
       "                                <td id=\"T_e4ba46ce_e7d6_11ea_9066_42010a8a0004row1_col0\" class=\"data row1 col0\" >2020-08-26</td>\n",
       "                        <td id=\"T_e4ba46ce_e7d6_11ea_9066_42010a8a0004row1_col1\" class=\"data row1 col1\" >219.7</td>\n",
       "                        <td id=\"T_e4ba46ce_e7d6_11ea_9066_42010a8a0004row1_col2\" class=\"data row1 col2\" >133.2</td>\n",
       "                        <td id=\"T_e4ba46ce_e7d6_11ea_9066_42010a8a0004row1_col3\" class=\"data row1 col3\" > ✔</td>\n",
       "                        <td id=\"T_e4ba46ce_e7d6_11ea_9066_42010a8a0004row1_col4\" class=\"data row1 col4\" > ✔</td>\n",
       "                        <td id=\"T_e4ba46ce_e7d6_11ea_9066_42010a8a0004row1_col5\" class=\"data row1 col5\" > ✔</td>\n",
       "                        <td id=\"T_e4ba46ce_e7d6_11ea_9066_42010a8a0004row1_col6\" class=\"data row1 col6\" > ✔</td>\n",
       "            </tr>\n",
       "            <tr>\n",
       "                                <td id=\"T_e4ba46ce_e7d6_11ea_9066_42010a8a0004row2_col0\" class=\"data row2 col0\" >2020-08-26</td>\n",
       "                        <td id=\"T_e4ba46ce_e7d6_11ea_9066_42010a8a0004row2_col1\" class=\"data row2 col1\" >219.7</td>\n",
       "                        <td id=\"T_e4ba46ce_e7d6_11ea_9066_42010a8a0004row2_col2\" class=\"data row2 col2\" >133.2</td>\n",
       "                        <td id=\"T_e4ba46ce_e7d6_11ea_9066_42010a8a0004row2_col3\" class=\"data row2 col3\" > ✔</td>\n",
       "                        <td id=\"T_e4ba46ce_e7d6_11ea_9066_42010a8a0004row2_col4\" class=\"data row2 col4\" > ✔</td>\n",
       "                        <td id=\"T_e4ba46ce_e7d6_11ea_9066_42010a8a0004row2_col5\" class=\"data row2 col5\" > ✔</td>\n",
       "                        <td id=\"T_e4ba46ce_e7d6_11ea_9066_42010a8a0004row2_col6\" class=\"data row2 col6\" > ✔</td>\n",
       "            </tr>\n",
       "            <tr>\n",
       "                                <td id=\"T_e4ba46ce_e7d6_11ea_9066_42010a8a0004row3_col0\" class=\"data row3 col0\" >2020-08-26</td>\n",
       "                        <td id=\"T_e4ba46ce_e7d6_11ea_9066_42010a8a0004row3_col1\" class=\"data row3 col1\" >219.7</td>\n",
       "                        <td id=\"T_e4ba46ce_e7d6_11ea_9066_42010a8a0004row3_col2\" class=\"data row3 col2\" >133.2</td>\n",
       "                        <td id=\"T_e4ba46ce_e7d6_11ea_9066_42010a8a0004row3_col3\" class=\"data row3 col3\" > ✔</td>\n",
       "                        <td id=\"T_e4ba46ce_e7d6_11ea_9066_42010a8a0004row3_col4\" class=\"data row3 col4\" > ✔</td>\n",
       "                        <td id=\"T_e4ba46ce_e7d6_11ea_9066_42010a8a0004row3_col5\" class=\"data row3 col5\" > ✔</td>\n",
       "                        <td id=\"T_e4ba46ce_e7d6_11ea_9066_42010a8a0004row3_col6\" class=\"data row3 col6\" > ✔</td>\n",
       "            </tr>\n",
       "            <tr>\n",
       "                                <td id=\"T_e4ba46ce_e7d6_11ea_9066_42010a8a0004row4_col0\" class=\"data row4 col0\" >2020-08-26</td>\n",
       "                        <td id=\"T_e4ba46ce_e7d6_11ea_9066_42010a8a0004row4_col1\" class=\"data row4 col1\" >219.7</td>\n",
       "                        <td id=\"T_e4ba46ce_e7d6_11ea_9066_42010a8a0004row4_col2\" class=\"data row4 col2\" >133.2</td>\n",
       "                        <td id=\"T_e4ba46ce_e7d6_11ea_9066_42010a8a0004row4_col3\" class=\"data row4 col3\" > ✔</td>\n",
       "                        <td id=\"T_e4ba46ce_e7d6_11ea_9066_42010a8a0004row4_col4\" class=\"data row4 col4\" > ✔</td>\n",
       "                        <td id=\"T_e4ba46ce_e7d6_11ea_9066_42010a8a0004row4_col5\" class=\"data row4 col5\" > ✔</td>\n",
       "                        <td id=\"T_e4ba46ce_e7d6_11ea_9066_42010a8a0004row4_col6\" class=\"data row4 col6\" > ✔</td>\n",
       "            </tr>\n",
       "            <tr>\n",
       "                                <td id=\"T_e4ba46ce_e7d6_11ea_9066_42010a8a0004row5_col0\" class=\"data row5 col0\" >2020-08-26</td>\n",
       "                        <td id=\"T_e4ba46ce_e7d6_11ea_9066_42010a8a0004row5_col1\" class=\"data row5 col1\" >219.7</td>\n",
       "                        <td id=\"T_e4ba46ce_e7d6_11ea_9066_42010a8a0004row5_col2\" class=\"data row5 col2\" >133.2</td>\n",
       "                        <td id=\"T_e4ba46ce_e7d6_11ea_9066_42010a8a0004row5_col3\" class=\"data row5 col3\" > ✔</td>\n",
       "                        <td id=\"T_e4ba46ce_e7d6_11ea_9066_42010a8a0004row5_col4\" class=\"data row5 col4\" > ✔</td>\n",
       "                        <td id=\"T_e4ba46ce_e7d6_11ea_9066_42010a8a0004row5_col5\" class=\"data row5 col5\" > ✔</td>\n",
       "                        <td id=\"T_e4ba46ce_e7d6_11ea_9066_42010a8a0004row5_col6\" class=\"data row5 col6\" > ✔</td>\n",
       "            </tr>\n",
       "            <tr>\n",
       "                                <td id=\"T_e4ba46ce_e7d6_11ea_9066_42010a8a0004row6_col0\" class=\"data row6 col0\" >2020-08-26</td>\n",
       "                        <td id=\"T_e4ba46ce_e7d6_11ea_9066_42010a8a0004row6_col1\" class=\"data row6 col1\" >219.7</td>\n",
       "                        <td id=\"T_e4ba46ce_e7d6_11ea_9066_42010a8a0004row6_col2\" class=\"data row6 col2\" >133.2</td>\n",
       "                        <td id=\"T_e4ba46ce_e7d6_11ea_9066_42010a8a0004row6_col3\" class=\"data row6 col3\" > ✔</td>\n",
       "                        <td id=\"T_e4ba46ce_e7d6_11ea_9066_42010a8a0004row6_col4\" class=\"data row6 col4\" > ✔</td>\n",
       "                        <td id=\"T_e4ba46ce_e7d6_11ea_9066_42010a8a0004row6_col5\" class=\"data row6 col5\" > ✔</td>\n",
       "                        <td id=\"T_e4ba46ce_e7d6_11ea_9066_42010a8a0004row6_col6\" class=\"data row6 col6\" > ✔</td>\n",
       "            </tr>\n",
       "            <tr>\n",
       "                                <td id=\"T_e4ba46ce_e7d6_11ea_9066_42010a8a0004row7_col0\" class=\"data row7 col0\" >2020-08-26</td>\n",
       "                        <td id=\"T_e4ba46ce_e7d6_11ea_9066_42010a8a0004row7_col1\" class=\"data row7 col1\" >219.7</td>\n",
       "                        <td id=\"T_e4ba46ce_e7d6_11ea_9066_42010a8a0004row7_col2\" class=\"data row7 col2\" >133.2</td>\n",
       "                        <td id=\"T_e4ba46ce_e7d6_11ea_9066_42010a8a0004row7_col3\" class=\"data row7 col3\" > ✔</td>\n",
       "                        <td id=\"T_e4ba46ce_e7d6_11ea_9066_42010a8a0004row7_col4\" class=\"data row7 col4\" > ✔</td>\n",
       "                        <td id=\"T_e4ba46ce_e7d6_11ea_9066_42010a8a0004row7_col5\" class=\"data row7 col5\" > ✔</td>\n",
       "                        <td id=\"T_e4ba46ce_e7d6_11ea_9066_42010a8a0004row7_col6\" class=\"data row7 col6\" > ✔</td>\n",
       "            </tr>\n",
       "            <tr>\n",
       "                                <td id=\"T_e4ba46ce_e7d6_11ea_9066_42010a8a0004row8_col0\" class=\"data row8 col0\" >2020-08-26</td>\n",
       "                        <td id=\"T_e4ba46ce_e7d6_11ea_9066_42010a8a0004row8_col1\" class=\"data row8 col1\" >219.7</td>\n",
       "                        <td id=\"T_e4ba46ce_e7d6_11ea_9066_42010a8a0004row8_col2\" class=\"data row8 col2\" >133.2</td>\n",
       "                        <td id=\"T_e4ba46ce_e7d6_11ea_9066_42010a8a0004row8_col3\" class=\"data row8 col3\" > ✔</td>\n",
       "                        <td id=\"T_e4ba46ce_e7d6_11ea_9066_42010a8a0004row8_col4\" class=\"data row8 col4\" > ✔</td>\n",
       "                        <td id=\"T_e4ba46ce_e7d6_11ea_9066_42010a8a0004row8_col5\" class=\"data row8 col5\" > ✔</td>\n",
       "                        <td id=\"T_e4ba46ce_e7d6_11ea_9066_42010a8a0004row8_col6\" class=\"data row8 col6\" > ✔</td>\n",
       "            </tr>\n",
       "            <tr>\n",
       "                                <td id=\"T_e4ba46ce_e7d6_11ea_9066_42010a8a0004row9_col0\" class=\"data row9 col0\" >2020-08-26</td>\n",
       "                        <td id=\"T_e4ba46ce_e7d6_11ea_9066_42010a8a0004row9_col1\" class=\"data row9 col1\" >219.7</td>\n",
       "                        <td id=\"T_e4ba46ce_e7d6_11ea_9066_42010a8a0004row9_col2\" class=\"data row9 col2\" >133.2</td>\n",
       "                        <td id=\"T_e4ba46ce_e7d6_11ea_9066_42010a8a0004row9_col3\" class=\"data row9 col3\" > ✔</td>\n",
       "                        <td id=\"T_e4ba46ce_e7d6_11ea_9066_42010a8a0004row9_col4\" class=\"data row9 col4\" > ✔</td>\n",
       "                        <td id=\"T_e4ba46ce_e7d6_11ea_9066_42010a8a0004row9_col5\" class=\"data row9 col5\" > ✔</td>\n",
       "                        <td id=\"T_e4ba46ce_e7d6_11ea_9066_42010a8a0004row9_col6\" class=\"data row9 col6\" > ✔</td>\n",
       "            </tr>\n",
       "            <tr>\n",
       "                                <td id=\"T_e4ba46ce_e7d6_11ea_9066_42010a8a0004row10_col0\" class=\"data row10 col0\" >2020-08-26</td>\n",
       "                        <td id=\"T_e4ba46ce_e7d6_11ea_9066_42010a8a0004row10_col1\" class=\"data row10 col1\" >219.7</td>\n",
       "                        <td id=\"T_e4ba46ce_e7d6_11ea_9066_42010a8a0004row10_col2\" class=\"data row10 col2\" >133.2</td>\n",
       "                        <td id=\"T_e4ba46ce_e7d6_11ea_9066_42010a8a0004row10_col3\" class=\"data row10 col3\" > ✔</td>\n",
       "                        <td id=\"T_e4ba46ce_e7d6_11ea_9066_42010a8a0004row10_col4\" class=\"data row10 col4\" > ✔</td>\n",
       "                        <td id=\"T_e4ba46ce_e7d6_11ea_9066_42010a8a0004row10_col5\" class=\"data row10 col5\" > ✔</td>\n",
       "                        <td id=\"T_e4ba46ce_e7d6_11ea_9066_42010a8a0004row10_col6\" class=\"data row10 col6\" > ✔</td>\n",
       "            </tr>\n",
       "            <tr>\n",
       "                                <td id=\"T_e4ba46ce_e7d6_11ea_9066_42010a8a0004row11_col0\" class=\"data row11 col0\" >2020-08-26</td>\n",
       "                        <td id=\"T_e4ba46ce_e7d6_11ea_9066_42010a8a0004row11_col1\" class=\"data row11 col1\" >219.7</td>\n",
       "                        <td id=\"T_e4ba46ce_e7d6_11ea_9066_42010a8a0004row11_col2\" class=\"data row11 col2\" >133.2</td>\n",
       "                        <td id=\"T_e4ba46ce_e7d6_11ea_9066_42010a8a0004row11_col3\" class=\"data row11 col3\" > ✔</td>\n",
       "                        <td id=\"T_e4ba46ce_e7d6_11ea_9066_42010a8a0004row11_col4\" class=\"data row11 col4\" > ✔</td>\n",
       "                        <td id=\"T_e4ba46ce_e7d6_11ea_9066_42010a8a0004row11_col5\" class=\"data row11 col5\" > ✔</td>\n",
       "                        <td id=\"T_e4ba46ce_e7d6_11ea_9066_42010a8a0004row11_col6\" class=\"data row11 col6\" > ✔</td>\n",
       "            </tr>\n",
       "            <tr>\n",
       "                                <td id=\"T_e4ba46ce_e7d6_11ea_9066_42010a8a0004row12_col0\" class=\"data row12 col0\" >2020-08-26</td>\n",
       "                        <td id=\"T_e4ba46ce_e7d6_11ea_9066_42010a8a0004row12_col1\" class=\"data row12 col1\" >219.7</td>\n",
       "                        <td id=\"T_e4ba46ce_e7d6_11ea_9066_42010a8a0004row12_col2\" class=\"data row12 col2\" >133.2</td>\n",
       "                        <td id=\"T_e4ba46ce_e7d6_11ea_9066_42010a8a0004row12_col3\" class=\"data row12 col3\" > ✔</td>\n",
       "                        <td id=\"T_e4ba46ce_e7d6_11ea_9066_42010a8a0004row12_col4\" class=\"data row12 col4\" > ✔</td>\n",
       "                        <td id=\"T_e4ba46ce_e7d6_11ea_9066_42010a8a0004row12_col5\" class=\"data row12 col5\" > ✔</td>\n",
       "                        <td id=\"T_e4ba46ce_e7d6_11ea_9066_42010a8a0004row12_col6\" class=\"data row12 col6\" > ✔</td>\n",
       "            </tr>\n",
       "            <tr>\n",
       "                                <td id=\"T_e4ba46ce_e7d6_11ea_9066_42010a8a0004row13_col0\" class=\"data row13 col0\" >2020-08-26</td>\n",
       "                        <td id=\"T_e4ba46ce_e7d6_11ea_9066_42010a8a0004row13_col1\" class=\"data row13 col1\" >219.7</td>\n",
       "                        <td id=\"T_e4ba46ce_e7d6_11ea_9066_42010a8a0004row13_col2\" class=\"data row13 col2\" >133.2</td>\n",
       "                        <td id=\"T_e4ba46ce_e7d6_11ea_9066_42010a8a0004row13_col3\" class=\"data row13 col3\" > ✔</td>\n",
       "                        <td id=\"T_e4ba46ce_e7d6_11ea_9066_42010a8a0004row13_col4\" class=\"data row13 col4\" > ✔</td>\n",
       "                        <td id=\"T_e4ba46ce_e7d6_11ea_9066_42010a8a0004row13_col5\" class=\"data row13 col5\" > ✔</td>\n",
       "                        <td id=\"T_e4ba46ce_e7d6_11ea_9066_42010a8a0004row13_col6\" class=\"data row13 col6\" > ✔</td>\n",
       "            </tr>\n",
       "            <tr>\n",
       "                                <td id=\"T_e4ba46ce_e7d6_11ea_9066_42010a8a0004row14_col0\" class=\"data row14 col0\" >2020-08-26</td>\n",
       "                        <td id=\"T_e4ba46ce_e7d6_11ea_9066_42010a8a0004row14_col1\" class=\"data row14 col1\" >219.7</td>\n",
       "                        <td id=\"T_e4ba46ce_e7d6_11ea_9066_42010a8a0004row14_col2\" class=\"data row14 col2\" >133.2</td>\n",
       "                        <td id=\"T_e4ba46ce_e7d6_11ea_9066_42010a8a0004row14_col3\" class=\"data row14 col3\" > ✔</td>\n",
       "                        <td id=\"T_e4ba46ce_e7d6_11ea_9066_42010a8a0004row14_col4\" class=\"data row14 col4\" > ✔</td>\n",
       "                        <td id=\"T_e4ba46ce_e7d6_11ea_9066_42010a8a0004row14_col5\" class=\"data row14 col5\" > ✔</td>\n",
       "                        <td id=\"T_e4ba46ce_e7d6_11ea_9066_42010a8a0004row14_col6\" class=\"data row14 col6\" > ✔</td>\n",
       "            </tr>\n",
       "            <tr>\n",
       "                                <td id=\"T_e4ba46ce_e7d6_11ea_9066_42010a8a0004row15_col0\" class=\"data row15 col0\" >2020-08-26</td>\n",
       "                        <td id=\"T_e4ba46ce_e7d6_11ea_9066_42010a8a0004row15_col1\" class=\"data row15 col1\" >219.7</td>\n",
       "                        <td id=\"T_e4ba46ce_e7d6_11ea_9066_42010a8a0004row15_col2\" class=\"data row15 col2\" >133.2</td>\n",
       "                        <td id=\"T_e4ba46ce_e7d6_11ea_9066_42010a8a0004row15_col3\" class=\"data row15 col3\" > ✔</td>\n",
       "                        <td id=\"T_e4ba46ce_e7d6_11ea_9066_42010a8a0004row15_col4\" class=\"data row15 col4\" > ✔</td>\n",
       "                        <td id=\"T_e4ba46ce_e7d6_11ea_9066_42010a8a0004row15_col5\" class=\"data row15 col5\" > ✔</td>\n",
       "                        <td id=\"T_e4ba46ce_e7d6_11ea_9066_42010a8a0004row15_col6\" class=\"data row15 col6\" > ✔</td>\n",
       "            </tr>\n",
       "            <tr>\n",
       "                                <td id=\"T_e4ba46ce_e7d6_11ea_9066_42010a8a0004row16_col0\" class=\"data row16 col0\" >2020-08-26</td>\n",
       "                        <td id=\"T_e4ba46ce_e7d6_11ea_9066_42010a8a0004row16_col1\" class=\"data row16 col1\" >219.7</td>\n",
       "                        <td id=\"T_e4ba46ce_e7d6_11ea_9066_42010a8a0004row16_col2\" class=\"data row16 col2\" >133.2</td>\n",
       "                        <td id=\"T_e4ba46ce_e7d6_11ea_9066_42010a8a0004row16_col3\" class=\"data row16 col3\" > ✔</td>\n",
       "                        <td id=\"T_e4ba46ce_e7d6_11ea_9066_42010a8a0004row16_col4\" class=\"data row16 col4\" > ✔</td>\n",
       "                        <td id=\"T_e4ba46ce_e7d6_11ea_9066_42010a8a0004row16_col5\" class=\"data row16 col5\" > ✔</td>\n",
       "                        <td id=\"T_e4ba46ce_e7d6_11ea_9066_42010a8a0004row16_col6\" class=\"data row16 col6\" > ✔</td>\n",
       "            </tr>\n",
       "            <tr>\n",
       "                                <td id=\"T_e4ba46ce_e7d6_11ea_9066_42010a8a0004row17_col0\" class=\"data row17 col0\" >2020-08-26</td>\n",
       "                        <td id=\"T_e4ba46ce_e7d6_11ea_9066_42010a8a0004row17_col1\" class=\"data row17 col1\" >219.7</td>\n",
       "                        <td id=\"T_e4ba46ce_e7d6_11ea_9066_42010a8a0004row17_col2\" class=\"data row17 col2\" >133.2</td>\n",
       "                        <td id=\"T_e4ba46ce_e7d6_11ea_9066_42010a8a0004row17_col3\" class=\"data row17 col3\" > ✔</td>\n",
       "                        <td id=\"T_e4ba46ce_e7d6_11ea_9066_42010a8a0004row17_col4\" class=\"data row17 col4\" > ✔</td>\n",
       "                        <td id=\"T_e4ba46ce_e7d6_11ea_9066_42010a8a0004row17_col5\" class=\"data row17 col5\" > ✔</td>\n",
       "                        <td id=\"T_e4ba46ce_e7d6_11ea_9066_42010a8a0004row17_col6\" class=\"data row17 col6\" > ✔</td>\n",
       "            </tr>\n",
       "    </tbody></table>"
      ],
      "text/plain": [
       "<pandas.io.formats.style.Styler at 0x7f5c7948a0b8>"
      ]
     },
     "execution_count": 12,
     "metadata": {},
     "output_type": "execute_result"
    }
   ],
   "source": [
    "# Style the pandas dataframe\n",
    "d = dict(selector=\"th\",\n",
    "         props=[('text-align', 'center')])\n",
    "\n",
    "result.reset_index().style\\\n",
    "    .set_properties(**{'width':'20em', 'text-align':'center'})\\\n",
    "    .set_properties(subset=['Date'], **{'font-weight': 'bold'})\\\n",
    "    .set_table_styles([d])\\\n",
    "    .set_precision(1)\\\n",
    "    .hide_index()"
   ]
  },
  {
   "cell_type": "markdown",
   "metadata": {
    "papermill": {
     "duration": 0.010886,
     "end_time": "2020-08-26T20:01:13.501037",
     "exception": false,
     "start_time": "2020-08-26T20:01:13.490151",
     "status": "completed"
    },
    "tags": []
   },
   "source": [
    "<sup>Notes: (1) 7 day average with a 7-day lag. (2) 14 day average. (3) 7 day average with a 7-day lag. (4) Change in 3 day average.</sup>"
   ]
  },
  {
   "cell_type": "code",
   "execution_count": 13,
   "metadata": {
    "execution": {
     "iopub.execute_input": "2020-08-26T20:01:13.528467Z",
     "iopub.status.busy": "2020-08-26T20:01:13.527958Z",
     "iopub.status.idle": "2020-08-26T20:01:13.531023Z",
     "shell.execute_reply": "2020-08-26T20:01:13.531377Z"
    },
    "papermill": {
     "duration": 0.0196,
     "end_time": "2020-08-26T20:01:13.531552",
     "exception": false,
     "start_time": "2020-08-26T20:01:13.511952",
     "status": "completed"
    },
    "tags": [
     "remove_input"
    ]
   },
   "outputs": [
    {
     "data": {
      "text/markdown": [
       "Table last updated by CDPH on August 26, 2020."
      ],
      "text/plain": [
       "<IPython.core.display.Markdown object>"
      ]
     },
     "execution_count": 13,
     "metadata": {},
     "output_type": "execute_result"
    }
   ],
   "source": [
    "md(update_tag)"
   ]
  },
  {
   "cell_type": "markdown",
   "metadata": {
    "papermill": {
     "duration": 0.011082,
     "end_time": "2020-08-26T20:01:13.553693",
     "exception": false,
     "start_time": "2020-08-26T20:01:13.542611",
     "status": "completed"
    },
    "tags": []
   },
   "source": [
    "## Tracking county closures in Santa Barbara"
   ]
  },
  {
   "cell_type": "markdown",
   "metadata": {
    "papermill": {
     "duration": 0.010998,
     "end_time": "2020-08-26T20:01:13.575878",
     "exception": false,
     "start_time": "2020-08-26T20:01:13.564880",
     "status": "completed"
    },
    "tags": []
   },
   "source": [
    "The state of California is using a data-driven approach informed by scientific evidence to tailor its response to COVID-19. Three dimensions of concern are monitored to assess whether a county should be placed on the County Monitoring List:\n",
    " 1. Elevated Disease Transmission\n",
    " 2. Increasing Hospitalization\n",
    " 3. Limited Hospital Capacity\n",
    "\n",
    "Once a county appears on the County Monitoring List for three consecutive days, indoor operations in the sectors listed in Section 3 of the [July 13th State Health Officer Order](https://www.cdph.ca.gov/Programs/CID/DCDC/CDPH%20Document%20Library/COVID-19/SHO%20Order%20Dimming%20Entire%20State%207-13-2020.pdf) must close.\n",
    "\n",
    "This table tracks where Santa Barbara stands in terms of the criteria for inclusion on the County Monitoring List. As of 20 August 2020, the criteria for inclusion on the monitoring list are:\n",
    "\n",
    "* Case rate >100 OR (Case rate >25 AND Positivity >8%)\n",
    "* \\>10% increase in hospitalizations\n",
    "* <20% ICU beds available OR <25% ventilators available\n",
    "\n",
    "If Santa Barbara meets the criteria for removal from the County Monitoring List for a certain metric, then a checkmark ✔ is displayed in the table.\n",
    "\n",
    "Read more at <https://covid19.ca.gov/roadmap-counties/>.\n",
    "\n",
    "Data source for county metrics: https://www.cdph.ca.gov/Programs/CID/DCDC/Pages/COVID-19/COVID19CountyDataTable.aspx."
   ]
  },
  {
   "cell_type": "markdown",
   "metadata": {
    "papermill": {
     "duration": 0.010844,
     "end_time": "2020-08-26T20:01:13.597868",
     "exception": false,
     "start_time": "2020-08-26T20:01:13.587024",
     "status": "completed"
    },
    "tags": []
   },
   "source": [
    "**See the code used to scrape the data: https://github.com/walice/COVID-SB/.**"
   ]
  },
  {
   "cell_type": "code",
   "execution_count": 14,
   "metadata": {
    "execution": {
     "iopub.execute_input": "2020-08-26T20:01:13.626039Z",
     "iopub.status.busy": "2020-08-26T20:01:13.625506Z",
     "iopub.status.idle": "2020-08-26T20:01:13.628889Z",
     "shell.execute_reply": "2020-08-26T20:01:13.629278Z"
    },
    "papermill": {
     "duration": 0.020066,
     "end_time": "2020-08-26T20:01:13.629427",
     "exception": false,
     "start_time": "2020-08-26T20:01:13.609361",
     "status": "completed"
    },
    "tags": [
     "remove_cell"
    ]
   },
   "outputs": [
    {
     "data": {
      "application/javascript": [
       "IPython.notebook.save_notebook()\n"
      ],
      "text/plain": [
       "<IPython.core.display.Javascript object>"
      ]
     },
     "metadata": {},
     "output_type": "display_data"
    }
   ],
   "source": [
    "%%javascript\n",
    "IPython.notebook.save_notebook()"
   ]
  },
  {
   "cell_type": "code",
   "execution_count": 15,
   "metadata": {
    "execution": {
     "iopub.execute_input": "2020-08-26T20:01:13.659536Z",
     "iopub.status.busy": "2020-08-26T20:01:13.659015Z",
     "iopub.status.idle": "2020-08-26T20:01:13.778174Z",
     "shell.execute_reply": "2020-08-26T20:01:13.777173Z"
    },
    "papermill": {
     "duration": 0.137542,
     "end_time": "2020-08-26T20:01:13.778310",
     "exception": false,
     "start_time": "2020-08-26T20:01:13.640768",
     "status": "completed"
    },
    "slideshow": {
     "slide_type": "skip"
    },
    "tags": [
     "remove_cell"
    ]
   },
   "outputs": [
    {
     "name": "stdout",
     "output_type": "stream",
     "text": [
      "/bin/sh: 1: jupyter: not found\r\n"
     ]
    }
   ],
   "source": [
    "# Convert Jupyter Notebook to HTML\n",
    "! jupyter nbconvert \"index.ipynb\" --to html --TagRemovePreprocessor.enabled=True --TagRemovePreprocessor.remove_cell_tags=\"['remove_cell']\" --TagRemovePreprocessor.remove_input_tags=\"['remove_input']\" --no-prompt"
   ]
  },
  {
   "cell_type": "code",
   "execution_count": 16,
   "metadata": {
    "execution": {
     "iopub.execute_input": "2020-08-26T20:01:13.807521Z",
     "iopub.status.busy": "2020-08-26T20:01:13.807026Z",
     "iopub.status.idle": "2020-08-26T20:01:13.809361Z",
     "shell.execute_reply": "2020-08-26T20:01:13.809750Z"
    },
    "papermill": {
     "duration": 0.019324,
     "end_time": "2020-08-26T20:01:13.809900",
     "exception": false,
     "start_time": "2020-08-26T20:01:13.790576",
     "status": "completed"
    },
    "tags": [
     "remove_cell"
    ]
   },
   "outputs": [],
   "source": [
    "# Create daily commit message\n",
    "now = datetime.datetime.now()\n",
    "commit_message = \"Last scraped on \" + str(now)"
   ]
  },
  {
   "cell_type": "code",
   "execution_count": null,
   "metadata": {
    "execution": {
     "iopub.execute_input": "2020-08-26T19:59:11.319141Z",
     "iopub.status.busy": "2020-08-26T19:59:11.318615Z",
     "iopub.status.idle": "2020-08-26T19:59:15.218867Z",
     "shell.execute_reply": "2020-08-26T19:59:15.217627Z"
    },
    "papermill": {
     "duration": null,
     "end_time": null,
     "exception": false,
     "start_time": "2020-08-26T20:01:13.821656",
     "status": "running"
    },
    "tags": [
     "remove_cell"
    ]
   },
   "outputs": [],
   "source": [
    "# Deploy to GitHub\n",
    "! git add .\n",
    "! echo $commit_message > commit_message.txt\n",
    "! git commit -F commit_message.txt\n",
    "! git push"
   ]
  }
 ],
 "metadata": {
  "celltoolbar": "Tags",
  "kernelspec": {
   "display_name": "Python 3",
   "language": "python",
   "name": "python3"
  },
  "language_info": {
   "codemirror_mode": {
    "name": "ipython",
    "version": 3
   },
   "file_extension": ".py",
   "mimetype": "text/x-python",
   "name": "python",
   "nbconvert_exporter": "python",
   "pygments_lexer": "ipython3",
   "version": "3.7.3"
  },
  "papermill": {
   "duration": null,
   "end_time": null,
   "environment_variables": {},
   "exception": null,
   "input_path": "/home/alice_lepissier/cron-job/index.ipynb",
   "output_path": "/home/alice_lepissier/cron-job/index.ipynb",
   "parameters": {},
   "start_time": "2020-08-26T20:01:03.450218",
   "version": "2.1.3"
  }
 },
 "nbformat": 4,
 "nbformat_minor": 4
}