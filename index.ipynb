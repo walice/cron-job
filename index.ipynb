{
 "cells": [
  {
   "cell_type": "markdown",
   "metadata": {
    "papermill": {
     "duration": 0.01185,
     "end_time": "2020-08-26T08:43:02.489710",
     "exception": false,
     "start_time": "2020-08-26T08:43:02.477860",
     "status": "completed"
    },
    "tags": []
   },
   "source": [
    "# Daily COVID monitoring data for Santa Barbara county"
   ]
  },
  {
   "cell_type": "code",
   "execution_count": 1,
   "metadata": {
    "execution": {
     "iopub.execute_input": "2020-08-26T08:43:02.518862Z",
     "iopub.status.busy": "2020-08-26T08:43:02.518337Z",
     "iopub.status.idle": "2020-08-26T08:43:02.631299Z",
     "shell.execute_reply": "2020-08-26T08:43:02.630364Z"
    },
    "papermill": {
     "duration": 0.130486,
     "end_time": "2020-08-26T08:43:02.631449",
     "exception": false,
     "start_time": "2020-08-26T08:43:02.500963",
     "status": "completed"
    },
    "tags": [
     "remove_cell"
    ]
   },
   "outputs": [
    {
     "name": "stdout",
     "output_type": "stream",
     "text": [
      "/bin/sh: 1: jt: not found\r\n"
     ]
    }
   ],
   "source": [
    "! jt -t grade3 -tf robotosans -cellw 1100"
   ]
  },
  {
   "cell_type": "markdown",
   "metadata": {
    "papermill": {
     "duration": 0.011159,
     "end_time": "2020-08-26T08:43:02.654354",
     "exception": false,
     "start_time": "2020-08-26T08:43:02.643195",
     "status": "completed"
    },
    "tags": []
   },
   "source": [
    "This table is automatically updated with new daily COVID data for the county of Santa Barbara, CA. Every day, the California Department of Public Health publishes COVID tracking metrics for each county, but does not save the previous day's data. This tool keeps track of the daily metrics that are used to monitor progress towards safe reopening in California."
   ]
  },
  {
   "cell_type": "code",
   "execution_count": 2,
   "metadata": {
    "execution": {
     "iopub.execute_input": "2020-08-26T08:43:02.683592Z",
     "iopub.status.busy": "2020-08-26T08:43:02.683076Z",
     "iopub.status.idle": "2020-08-26T08:43:03.097696Z",
     "shell.execute_reply": "2020-08-26T08:43:03.098555Z"
    },
    "papermill": {
     "duration": 0.4333,
     "end_time": "2020-08-26T08:43:03.098718",
     "exception": false,
     "start_time": "2020-08-26T08:43:02.665418",
     "status": "completed"
    },
    "slideshow": {
     "slide_type": "skip"
    },
    "tags": [
     "remove_cell"
    ]
   },
   "outputs": [],
   "source": [
    "# Preamble\n",
    "import os\n",
    "from IPython.display import Markdown as md\n",
    "import IPython\n",
    "import requests\n",
    "from bs4 import BeautifulSoup\n",
    "import re\n",
    "import pandas as pd\n",
    "import datetime\n",
    "import gspread\n",
    "from oauth2client.service_account import ServiceAccountCredentials"
   ]
  },
  {
   "cell_type": "code",
   "execution_count": 3,
   "metadata": {
    "execution": {
     "iopub.execute_input": "2020-08-26T08:43:03.126748Z",
     "iopub.status.busy": "2020-08-26T08:43:03.126138Z",
     "iopub.status.idle": "2020-08-26T08:43:03.127576Z",
     "shell.execute_reply": "2020-08-26T08:43:03.127185Z"
    },
    "papermill": {
     "duration": 0.017504,
     "end_time": "2020-08-26T08:43:03.127686",
     "exception": false,
     "start_time": "2020-08-26T08:43:03.110182",
     "status": "completed"
    },
    "tags": []
   },
   "outputs": [],
   "source": [
    "# Set working directory\n",
    "os.chdir(\"/home/alice_lepissier/cron-job\")"
   ]
  },
  {
   "cell_type": "code",
   "execution_count": 4,
   "metadata": {
    "execution": {
     "iopub.execute_input": "2020-08-26T08:43:03.155509Z",
     "iopub.status.busy": "2020-08-26T08:43:03.155013Z",
     "iopub.status.idle": "2020-08-26T08:43:03.468312Z",
     "shell.execute_reply": "2020-08-26T08:43:03.469245Z"
    },
    "papermill": {
     "duration": 0.330633,
     "end_time": "2020-08-26T08:43:03.469417",
     "exception": false,
     "start_time": "2020-08-26T08:43:03.138784",
     "status": "completed"
    },
    "slideshow": {
     "slide_type": "skip"
    },
    "tags": [
     "remove_cell"
    ]
   },
   "outputs": [],
   "source": [
    "# Request content from URL\n",
    "html_string = requests.get('https://www.cdph.ca.gov/Programs/CID/DCDC/Pages/COVID-19/COVID19CountyDataTable.aspx').content"
   ]
  },
  {
   "cell_type": "code",
   "execution_count": 5,
   "metadata": {
    "execution": {
     "iopub.execute_input": "2020-08-26T08:43:03.499645Z",
     "iopub.status.busy": "2020-08-26T08:43:03.499109Z",
     "iopub.status.idle": "2020-08-26T08:43:03.584585Z",
     "shell.execute_reply": "2020-08-26T08:43:03.585459Z"
    },
    "papermill": {
     "duration": 0.104464,
     "end_time": "2020-08-26T08:43:03.585628",
     "exception": false,
     "start_time": "2020-08-26T08:43:03.481164",
     "status": "completed"
    },
    "slideshow": {
     "slide_type": "skip"
    },
    "tags": [
     "remove_cell"
    ]
   },
   "outputs": [],
   "source": [
    "# Parse HTML\n",
    "soup = BeautifulSoup(html_string, 'html.parser')"
   ]
  },
  {
   "cell_type": "code",
   "execution_count": 6,
   "metadata": {
    "execution": {
     "iopub.execute_input": "2020-08-26T08:43:03.615550Z",
     "iopub.status.busy": "2020-08-26T08:43:03.615053Z",
     "iopub.status.idle": "2020-08-26T08:43:03.624119Z",
     "shell.execute_reply": "2020-08-26T08:43:03.624888Z"
    },
    "papermill": {
     "duration": 0.027696,
     "end_time": "2020-08-26T08:43:03.625048",
     "exception": false,
     "start_time": "2020-08-26T08:43:03.597352",
     "status": "completed"
    },
    "slideshow": {
     "slide_type": "skip"
    },
    "tags": [
     "remove_cell"
    ]
   },
   "outputs": [],
   "source": [
    "# Extract data for Santa Barbara\n",
    "table = soup.find_all(\"tr\", class_=\"ms-rteTableEvenRow-3\")\n",
    "SB = table[21]"
   ]
  },
  {
   "cell_type": "code",
   "execution_count": 7,
   "metadata": {
    "execution": {
     "iopub.execute_input": "2020-08-26T08:43:03.655636Z",
     "iopub.status.busy": "2020-08-26T08:43:03.655087Z",
     "iopub.status.idle": "2020-08-26T08:43:03.667406Z",
     "shell.execute_reply": "2020-08-26T08:43:03.668177Z"
    },
    "papermill": {
     "duration": 0.031717,
     "end_time": "2020-08-26T08:43:03.668340",
     "exception": false,
     "start_time": "2020-08-26T08:43:03.636623",
     "status": "completed"
    },
    "slideshow": {
     "slide_type": "skip"
    },
    "tags": [
     "remove_cell"
    ]
   },
   "outputs": [],
   "source": [
    "# Avg # tests per day (per 100,000 population)\n",
    "daily_tests = SB.find_all(\"td\", class_=\"ms-rteTableOddCol-3\")[0].text\n",
    "\n",
    "# Case rate per 100,000\n",
    "case_rate = SB.find_all(\"td\", class_=\"ms-rteTableEvenCol-3\")[1].text\n",
    "\n",
    "# Testing positivity (%)\n",
    "test_positivity = SB.find_all(\"td\", class_=\"ms-rteTableOddCol-3\")[1].text\n",
    "\n",
    "# % Change in 3-day avg COVID+ hospitalized patients\n",
    "change_hospit = SB.find_all(\"td\", class_=\"ms-rteTableEvenCol-3\")[2].text\n",
    "\n",
    "# % ICU beds currently available\n",
    "ICU_beds = SB.find_all(\"td\", class_=\"ms-rteTableOddCol-3\")[2].text\n",
    "\n",
    "# % Ventilators currently available\n",
    "ventilators = SB.find_all(\"td\", class_=\"ms-rteTableEvenCol-3\")[3].text\n",
    "\n",
    "# Extract date of last update\n",
    "update_date = soup.find_all(\"span\", class_=\"ms-rteStyle-Accent1\")[1]\\\n",
    "    .find(\"em\").text"
   ]
  },
  {
   "cell_type": "code",
   "execution_count": 8,
   "metadata": {
    "execution": {
     "iopub.execute_input": "2020-08-26T08:43:03.696848Z",
     "iopub.status.busy": "2020-08-26T08:43:03.696231Z",
     "iopub.status.idle": "2020-08-26T08:43:03.697689Z",
     "shell.execute_reply": "2020-08-26T08:43:03.697284Z"
    },
    "papermill": {
     "duration": 0.017872,
     "end_time": "2020-08-26T08:43:03.697803",
     "exception": false,
     "start_time": "2020-08-26T08:43:03.679931",
     "status": "completed"
    },
    "tags": [
     "remove_cell"
    ]
   },
   "outputs": [],
   "source": [
    "# Create updated date string\n",
    "update_tag = \"Table last updated by CDPH on \" + update_date.split(\" on \", 1)[1] + \".\""
   ]
  },
  {
   "cell_type": "code",
   "execution_count": 9,
   "metadata": {
    "execution": {
     "iopub.execute_input": "2020-08-26T08:43:03.727479Z",
     "iopub.status.busy": "2020-08-26T08:43:03.726980Z",
     "iopub.status.idle": "2020-08-26T08:43:03.729986Z",
     "shell.execute_reply": "2020-08-26T08:43:03.730709Z"
    },
    "papermill": {
     "duration": 0.021663,
     "end_time": "2020-08-26T08:43:03.730867",
     "exception": false,
     "start_time": "2020-08-26T08:43:03.709204",
     "status": "completed"
    },
    "slideshow": {
     "slide_type": "skip"
    },
    "tags": [
     "remove_cell"
    ]
   },
   "outputs": [],
   "source": [
    "# Set up Google Sheet API\n",
    "scope = [\"https://spreadsheets.google.com/feeds\",'https://www.googleapis.com/auth/spreadsheets',\"https://www.googleapis.com/auth/drive.file\",\"https://www.googleapis.com/auth/drive\"]\n",
    "creds = ServiceAccountCredentials.from_json_keyfile_name(\"credentials.json\", scope)\n",
    "client = gspread.authorize(creds)"
   ]
  },
  {
   "cell_type": "code",
   "execution_count": 10,
   "metadata": {
    "execution": {
     "iopub.execute_input": "2020-08-26T08:43:03.759538Z",
     "iopub.status.busy": "2020-08-26T08:43:03.759037Z",
     "iopub.status.idle": "2020-08-26T08:43:05.034860Z",
     "shell.execute_reply": "2020-08-26T08:43:05.035581Z"
    },
    "papermill": {
     "duration": 1.293565,
     "end_time": "2020-08-26T08:43:05.035736",
     "exception": false,
     "start_time": "2020-08-26T08:43:03.742171",
     "status": "completed"
    },
    "slideshow": {
     "slide_type": "skip"
    },
    "tags": [
     "remove_cell"
    ]
   },
   "outputs": [
    {
     "data": {
      "text/plain": [
       "{'spreadsheetId': '1pcqdMzKtea2Oq3BDmdAOQ21gZjCssieKI0692VfNLXU',\n",
       " 'updatedRange': 'Sheet1!A2:G2',\n",
       " 'updatedRows': 1,\n",
       " 'updatedColumns': 7,\n",
       " 'updatedCells': 7}"
      ]
     },
     "execution_count": 10,
     "metadata": {},
     "output_type": "execute_result"
    }
   ],
   "source": [
    "# Append daily data as a new row in Google Sheet\n",
    "sheet = client.open(\"Test cron job\").sheet1\n",
    "insertRow = [datetime.date.today().strftime(\"%Y-%m-%d\"),\n",
    "             daily_tests,\n",
    "             case_rate,\n",
    "             test_positivity,\n",
    "             change_hospit,\n",
    "             ICU_beds,\n",
    "             ventilators]\n",
    "sheet.insert_row(insertRow, 2)"
   ]
  },
  {
   "cell_type": "code",
   "execution_count": 11,
   "metadata": {
    "execution": {
     "iopub.execute_input": "2020-08-26T08:43:05.065152Z",
     "iopub.status.busy": "2020-08-26T08:43:05.064655Z",
     "iopub.status.idle": "2020-08-26T08:43:05.865696Z",
     "shell.execute_reply": "2020-08-26T08:43:05.866611Z"
    },
    "papermill": {
     "duration": 0.818452,
     "end_time": "2020-08-26T08:43:05.866787",
     "exception": false,
     "start_time": "2020-08-26T08:43:05.048335",
     "status": "completed"
    },
    "scrolled": true,
    "slideshow": {
     "slide_type": "slide"
    },
    "tags": [
     "remove_cell"
    ]
   },
   "outputs": [],
   "source": [
    "# Extract data from Google Sheet as pandas dataframe\n",
    "sheet = client.open(\"Test cron job\").sheet1\n",
    "data = sheet.get_all_records()\n",
    "result = pd.DataFrame(data).set_index(\"Date\")"
   ]
  },
  {
   "cell_type": "code",
   "execution_count": 12,
   "metadata": {
    "execution": {
     "iopub.execute_input": "2020-08-26T08:43:05.895919Z",
     "iopub.status.busy": "2020-08-26T08:43:05.895413Z",
     "iopub.status.idle": "2020-08-26T08:43:06.215273Z",
     "shell.execute_reply": "2020-08-26T08:43:06.215995Z"
    },
    "papermill": {
     "duration": 0.33729,
     "end_time": "2020-08-26T08:43:06.216149",
     "exception": false,
     "start_time": "2020-08-26T08:43:05.878859",
     "status": "completed"
    },
    "scrolled": true,
    "tags": [
     "remove_input"
    ]
   },
   "outputs": [
    {
     "data": {
      "text/html": [
       "<style  type=\"text/css\" >\n",
       "    #T_293b5d74_e778_11ea_9bd7_42010a8a0004 th {\n",
       "          text-align: center;\n",
       "    }#T_293b5d74_e778_11ea_9bd7_42010a8a0004row0_col0,#T_293b5d74_e778_11ea_9bd7_42010a8a0004row1_col0,#T_293b5d74_e778_11ea_9bd7_42010a8a0004row2_col0,#T_293b5d74_e778_11ea_9bd7_42010a8a0004row3_col0,#T_293b5d74_e778_11ea_9bd7_42010a8a0004row4_col0,#T_293b5d74_e778_11ea_9bd7_42010a8a0004row5_col0,#T_293b5d74_e778_11ea_9bd7_42010a8a0004row6_col0,#T_293b5d74_e778_11ea_9bd7_42010a8a0004row7_col0,#T_293b5d74_e778_11ea_9bd7_42010a8a0004row8_col0,#T_293b5d74_e778_11ea_9bd7_42010a8a0004row9_col0,#T_293b5d74_e778_11ea_9bd7_42010a8a0004row10_col0,#T_293b5d74_e778_11ea_9bd7_42010a8a0004row11_col0,#T_293b5d74_e778_11ea_9bd7_42010a8a0004row12_col0,#T_293b5d74_e778_11ea_9bd7_42010a8a0004row13_col0,#T_293b5d74_e778_11ea_9bd7_42010a8a0004row14_col0{\n",
       "            width:  20em;\n",
       "            text-align:  center;\n",
       "            font-weight:  bold;\n",
       "        }#T_293b5d74_e778_11ea_9bd7_42010a8a0004row0_col1,#T_293b5d74_e778_11ea_9bd7_42010a8a0004row0_col2,#T_293b5d74_e778_11ea_9bd7_42010a8a0004row1_col1,#T_293b5d74_e778_11ea_9bd7_42010a8a0004row1_col2,#T_293b5d74_e778_11ea_9bd7_42010a8a0004row2_col1,#T_293b5d74_e778_11ea_9bd7_42010a8a0004row2_col2,#T_293b5d74_e778_11ea_9bd7_42010a8a0004row3_col1,#T_293b5d74_e778_11ea_9bd7_42010a8a0004row3_col2,#T_293b5d74_e778_11ea_9bd7_42010a8a0004row4_col1,#T_293b5d74_e778_11ea_9bd7_42010a8a0004row4_col2,#T_293b5d74_e778_11ea_9bd7_42010a8a0004row5_col1,#T_293b5d74_e778_11ea_9bd7_42010a8a0004row5_col2,#T_293b5d74_e778_11ea_9bd7_42010a8a0004row6_col1,#T_293b5d74_e778_11ea_9bd7_42010a8a0004row6_col2,#T_293b5d74_e778_11ea_9bd7_42010a8a0004row7_col1,#T_293b5d74_e778_11ea_9bd7_42010a8a0004row7_col2,#T_293b5d74_e778_11ea_9bd7_42010a8a0004row8_col1,#T_293b5d74_e778_11ea_9bd7_42010a8a0004row8_col2,#T_293b5d74_e778_11ea_9bd7_42010a8a0004row9_col1,#T_293b5d74_e778_11ea_9bd7_42010a8a0004row9_col2,#T_293b5d74_e778_11ea_9bd7_42010a8a0004row10_col1,#T_293b5d74_e778_11ea_9bd7_42010a8a0004row10_col2,#T_293b5d74_e778_11ea_9bd7_42010a8a0004row11_col1,#T_293b5d74_e778_11ea_9bd7_42010a8a0004row11_col2,#T_293b5d74_e778_11ea_9bd7_42010a8a0004row12_col1,#T_293b5d74_e778_11ea_9bd7_42010a8a0004row12_col2,#T_293b5d74_e778_11ea_9bd7_42010a8a0004row13_col1,#T_293b5d74_e778_11ea_9bd7_42010a8a0004row13_col2,#T_293b5d74_e778_11ea_9bd7_42010a8a0004row14_col1,#T_293b5d74_e778_11ea_9bd7_42010a8a0004row14_col2{\n",
       "            width:  20em;\n",
       "            text-align:  center;\n",
       "        }</style><table id=\"T_293b5d74_e778_11ea_9bd7_42010a8a0004\" ><thead>    <tr>        <th class=\"col_heading level0 col0\" >Date</th>        <th class=\"col_heading level0 col1\" >Time</th>        <th class=\"col_heading level0 col2\" ></th>    </tr></thead><tbody>\n",
       "                <tr>\n",
       "                                <td id=\"T_293b5d74_e778_11ea_9bd7_42010a8a0004row0_col0\" class=\"data row0 col0\" >2020-08-26</td>\n",
       "                        <td id=\"T_293b5d74_e778_11ea_9bd7_42010a8a0004row0_col1\" class=\"data row0 col1\" >222.1</td>\n",
       "                        <td id=\"T_293b5d74_e778_11ea_9bd7_42010a8a0004row0_col2\" class=\"data row0 col2\" > ✔</td>\n",
       "            </tr>\n",
       "            <tr>\n",
       "                                <td id=\"T_293b5d74_e778_11ea_9bd7_42010a8a0004row1_col0\" class=\"data row1 col0\" >2020-08-26</td>\n",
       "                        <td id=\"T_293b5d74_e778_11ea_9bd7_42010a8a0004row1_col1\" class=\"data row1 col1\" >222.1</td>\n",
       "                        <td id=\"T_293b5d74_e778_11ea_9bd7_42010a8a0004row1_col2\" class=\"data row1 col2\" > ✔</td>\n",
       "            </tr>\n",
       "            <tr>\n",
       "                                <td id=\"T_293b5d74_e778_11ea_9bd7_42010a8a0004row2_col0\" class=\"data row2 col0\" >2020-08-26</td>\n",
       "                        <td id=\"T_293b5d74_e778_11ea_9bd7_42010a8a0004row2_col1\" class=\"data row2 col1\" >222.1</td>\n",
       "                        <td id=\"T_293b5d74_e778_11ea_9bd7_42010a8a0004row2_col2\" class=\"data row2 col2\" > ✔</td>\n",
       "            </tr>\n",
       "            <tr>\n",
       "                                <td id=\"T_293b5d74_e778_11ea_9bd7_42010a8a0004row3_col0\" class=\"data row3 col0\" >2020-08-26</td>\n",
       "                        <td id=\"T_293b5d74_e778_11ea_9bd7_42010a8a0004row3_col1\" class=\"data row3 col1\" >222.1</td>\n",
       "                        <td id=\"T_293b5d74_e778_11ea_9bd7_42010a8a0004row3_col2\" class=\"data row3 col2\" > ✔</td>\n",
       "            </tr>\n",
       "            <tr>\n",
       "                                <td id=\"T_293b5d74_e778_11ea_9bd7_42010a8a0004row4_col0\" class=\"data row4 col0\" >2020-08-26</td>\n",
       "                        <td id=\"T_293b5d74_e778_11ea_9bd7_42010a8a0004row4_col1\" class=\"data row4 col1\" >222.1</td>\n",
       "                        <td id=\"T_293b5d74_e778_11ea_9bd7_42010a8a0004row4_col2\" class=\"data row4 col2\" > ✔</td>\n",
       "            </tr>\n",
       "            <tr>\n",
       "                                <td id=\"T_293b5d74_e778_11ea_9bd7_42010a8a0004row5_col0\" class=\"data row5 col0\" >2020-08-26</td>\n",
       "                        <td id=\"T_293b5d74_e778_11ea_9bd7_42010a8a0004row5_col1\" class=\"data row5 col1\" >222.1</td>\n",
       "                        <td id=\"T_293b5d74_e778_11ea_9bd7_42010a8a0004row5_col2\" class=\"data row5 col2\" > ✔</td>\n",
       "            </tr>\n",
       "            <tr>\n",
       "                                <td id=\"T_293b5d74_e778_11ea_9bd7_42010a8a0004row6_col0\" class=\"data row6 col0\" >2020-08-26</td>\n",
       "                        <td id=\"T_293b5d74_e778_11ea_9bd7_42010a8a0004row6_col1\" class=\"data row6 col1\" >222.1</td>\n",
       "                        <td id=\"T_293b5d74_e778_11ea_9bd7_42010a8a0004row6_col2\" class=\"data row6 col2\" > ✔</td>\n",
       "            </tr>\n",
       "            <tr>\n",
       "                                <td id=\"T_293b5d74_e778_11ea_9bd7_42010a8a0004row7_col0\" class=\"data row7 col0\" >2020-08-26</td>\n",
       "                        <td id=\"T_293b5d74_e778_11ea_9bd7_42010a8a0004row7_col1\" class=\"data row7 col1\" >222.1</td>\n",
       "                        <td id=\"T_293b5d74_e778_11ea_9bd7_42010a8a0004row7_col2\" class=\"data row7 col2\" > ✔</td>\n",
       "            </tr>\n",
       "            <tr>\n",
       "                                <td id=\"T_293b5d74_e778_11ea_9bd7_42010a8a0004row8_col0\" class=\"data row8 col0\" >2020-08-26</td>\n",
       "                        <td id=\"T_293b5d74_e778_11ea_9bd7_42010a8a0004row8_col1\" class=\"data row8 col1\" >222.1</td>\n",
       "                        <td id=\"T_293b5d74_e778_11ea_9bd7_42010a8a0004row8_col2\" class=\"data row8 col2\" > ✔</td>\n",
       "            </tr>\n",
       "            <tr>\n",
       "                                <td id=\"T_293b5d74_e778_11ea_9bd7_42010a8a0004row9_col0\" class=\"data row9 col0\" >2020-08-26</td>\n",
       "                        <td id=\"T_293b5d74_e778_11ea_9bd7_42010a8a0004row9_col1\" class=\"data row9 col1\" >222.1</td>\n",
       "                        <td id=\"T_293b5d74_e778_11ea_9bd7_42010a8a0004row9_col2\" class=\"data row9 col2\" > ✔</td>\n",
       "            </tr>\n",
       "            <tr>\n",
       "                                <td id=\"T_293b5d74_e778_11ea_9bd7_42010a8a0004row10_col0\" class=\"data row10 col0\" >2020-08-26</td>\n",
       "                        <td id=\"T_293b5d74_e778_11ea_9bd7_42010a8a0004row10_col1\" class=\"data row10 col1\" >222.1</td>\n",
       "                        <td id=\"T_293b5d74_e778_11ea_9bd7_42010a8a0004row10_col2\" class=\"data row10 col2\" > ✔</td>\n",
       "            </tr>\n",
       "            <tr>\n",
       "                                <td id=\"T_293b5d74_e778_11ea_9bd7_42010a8a0004row11_col0\" class=\"data row11 col0\" >2020-08-26</td>\n",
       "                        <td id=\"T_293b5d74_e778_11ea_9bd7_42010a8a0004row11_col1\" class=\"data row11 col1\" >222.1</td>\n",
       "                        <td id=\"T_293b5d74_e778_11ea_9bd7_42010a8a0004row11_col2\" class=\"data row11 col2\" > ✔</td>\n",
       "            </tr>\n",
       "            <tr>\n",
       "                                <td id=\"T_293b5d74_e778_11ea_9bd7_42010a8a0004row12_col0\" class=\"data row12 col0\" >2020-08-26</td>\n",
       "                        <td id=\"T_293b5d74_e778_11ea_9bd7_42010a8a0004row12_col1\" class=\"data row12 col1\" >222.1</td>\n",
       "                        <td id=\"T_293b5d74_e778_11ea_9bd7_42010a8a0004row12_col2\" class=\"data row12 col2\" > ✔</td>\n",
       "            </tr>\n",
       "            <tr>\n",
       "                                <td id=\"T_293b5d74_e778_11ea_9bd7_42010a8a0004row13_col0\" class=\"data row13 col0\" >2020-08-26</td>\n",
       "                        <td id=\"T_293b5d74_e778_11ea_9bd7_42010a8a0004row13_col1\" class=\"data row13 col1\" >222.1</td>\n",
       "                        <td id=\"T_293b5d74_e778_11ea_9bd7_42010a8a0004row13_col2\" class=\"data row13 col2\" > ✔</td>\n",
       "            </tr>\n",
       "            <tr>\n",
       "                                <td id=\"T_293b5d74_e778_11ea_9bd7_42010a8a0004row14_col0\" class=\"data row14 col0\" >2020-08-26</td>\n",
       "                        <td id=\"T_293b5d74_e778_11ea_9bd7_42010a8a0004row14_col1\" class=\"data row14 col1\" >222.1</td>\n",
       "                        <td id=\"T_293b5d74_e778_11ea_9bd7_42010a8a0004row14_col2\" class=\"data row14 col2\" > ✔</td>\n",
       "            </tr>\n",
       "    </tbody></table>"
      ],
      "text/plain": [
       "<pandas.io.formats.style.Styler at 0x7f78ab6ee320>"
      ]
     },
     "execution_count": 12,
     "metadata": {},
     "output_type": "execute_result"
    }
   ],
   "source": [
    "# Style the pandas dataframe\n",
    "d = dict(selector=\"th\",\n",
    "         props=[('text-align', 'center')])\n",
    "\n",
    "result.reset_index().style\\\n",
    "    .set_properties(**{'width':'20em', 'text-align':'center'})\\\n",
    "    .set_properties(subset=['Date'], **{'font-weight': 'bold'})\\\n",
    "    .set_table_styles([d])\\\n",
    "    .set_precision(1)\\\n",
    "    .hide_index()"
   ]
  },
  {
   "cell_type": "markdown",
   "metadata": {
    "papermill": {
     "duration": 0.011823,
     "end_time": "2020-08-26T08:43:06.240118",
     "exception": false,
     "start_time": "2020-08-26T08:43:06.228295",
     "status": "completed"
    },
    "tags": []
   },
   "source": [
    "<sup>Notes: (1) 7 day average with a 7-day lag. (2) 14 day average. (3) 7 day average with a 7-day lag. (4) Change in 3 day average.</sup>"
   ]
  },
  {
   "cell_type": "code",
   "execution_count": 13,
   "metadata": {
    "execution": {
     "iopub.execute_input": "2020-08-26T08:43:06.268977Z",
     "iopub.status.busy": "2020-08-26T08:43:06.268490Z",
     "iopub.status.idle": "2020-08-26T08:43:06.271445Z",
     "shell.execute_reply": "2020-08-26T08:43:06.271829Z"
    },
    "papermill": {
     "duration": 0.019943,
     "end_time": "2020-08-26T08:43:06.271969",
     "exception": false,
     "start_time": "2020-08-26T08:43:06.252026",
     "status": "completed"
    },
    "tags": [
     "remove_input"
    ]
   },
   "outputs": [
    {
     "data": {
      "text/markdown": [
       "Table last updated by CDPH on August 25, 2020."
      ],
      "text/plain": [
       "<IPython.core.display.Markdown object>"
      ]
     },
     "execution_count": 13,
     "metadata": {},
     "output_type": "execute_result"
    }
   ],
   "source": [
    "md(update_tag)"
   ]
  },
  {
   "cell_type": "markdown",
   "metadata": {
    "papermill": {
     "duration": 0.012028,
     "end_time": "2020-08-26T08:43:06.295949",
     "exception": false,
     "start_time": "2020-08-26T08:43:06.283921",
     "status": "completed"
    },
    "tags": []
   },
   "source": [
    "## Tracking county closures in Santa Barbara"
   ]
  },
  {
   "cell_type": "markdown",
   "metadata": {
    "papermill": {
     "duration": 0.012029,
     "end_time": "2020-08-26T08:43:06.319986",
     "exception": false,
     "start_time": "2020-08-26T08:43:06.307957",
     "status": "completed"
    },
    "tags": []
   },
   "source": [
    "The state of California is using a data-driven approach informed by scientific evidence to tailor its response to COVID-19. Three dimensions of concern are monitored to assess whether a county should be placed on the County Monitoring List:\n",
    " 1. Elevated Disease Transmission\n",
    " 2. Increasing Hospitalization\n",
    " 3. Limited Hospital Capacity\n",
    "\n",
    "Once a county appears on the County Monitoring List for three consecutive days, indoor operations in the sectors listed in Section 3 of the [July 13th State Health Officer Order](https://www.cdph.ca.gov/Programs/CID/DCDC/CDPH%20Document%20Library/COVID-19/SHO%20Order%20Dimming%20Entire%20State%207-13-2020.pdf) must close.\n",
    "\n",
    "This table tracks where Santa Barbara stands in terms of the criteria for inclusion on the County Monitoring List. As of 20 August 2020, the criteria for inclusion on the monitoring list are:\n",
    "\n",
    "* Case rate >100 OR (Case rate >25 AND Positivity >8%)\n",
    "* \\>10% increase in hospitalizations\n",
    "* <20% ICU beds available OR <25% ventilators available\n",
    "\n",
    "If Santa Barbara meets the criteria for removal from the County Monitoring List for a certain metric, then a checkmark ✔ is displayed in the table.\n",
    "\n",
    "Read more at <https://covid19.ca.gov/roadmap-counties/>.\n",
    "\n",
    "Data source for county metrics: https://www.cdph.ca.gov/Programs/CID/DCDC/Pages/COVID-19/COVID19CountyDataTable.aspx."
   ]
  },
  {
   "cell_type": "markdown",
   "metadata": {
    "papermill": {
     "duration": 0.012193,
     "end_time": "2020-08-26T08:43:06.344389",
     "exception": false,
     "start_time": "2020-08-26T08:43:06.332196",
     "status": "completed"
    },
    "tags": []
   },
   "source": [
    "**See the code used to scrape the data: https://github.com/walice/COVID-SB/.**"
   ]
  },
  {
   "cell_type": "code",
   "execution_count": 14,
   "metadata": {
    "execution": {
     "iopub.execute_input": "2020-08-26T08:43:06.376582Z",
     "iopub.status.busy": "2020-08-26T08:43:06.376059Z",
     "iopub.status.idle": "2020-08-26T08:43:06.379868Z",
     "shell.execute_reply": "2020-08-26T08:43:06.380241Z"
    },
    "papermill": {
     "duration": 0.02358,
     "end_time": "2020-08-26T08:43:06.380401",
     "exception": false,
     "start_time": "2020-08-26T08:43:06.356821",
     "status": "completed"
    },
    "tags": [
     "remove_cell"
    ]
   },
   "outputs": [
    {
     "data": {
      "application/javascript": [
       "IPython.notebook.save_notebook()\n"
      ],
      "text/plain": [
       "<IPython.core.display.Javascript object>"
      ]
     },
     "metadata": {},
     "output_type": "display_data"
    }
   ],
   "source": [
    "%%javascript\n",
    "IPython.notebook.save_notebook()"
   ]
  },
  {
   "cell_type": "code",
   "execution_count": 15,
   "metadata": {
    "execution": {
     "iopub.execute_input": "2020-08-26T08:43:06.411597Z",
     "iopub.status.busy": "2020-08-26T08:43:06.411053Z",
     "iopub.status.idle": "2020-08-26T08:43:06.527300Z",
     "shell.execute_reply": "2020-08-26T08:43:06.526258Z"
    },
    "papermill": {
     "duration": 0.133997,
     "end_time": "2020-08-26T08:43:06.527432",
     "exception": false,
     "start_time": "2020-08-26T08:43:06.393435",
     "status": "completed"
    },
    "slideshow": {
     "slide_type": "skip"
    },
    "tags": [
     "remove_cell"
    ]
   },
   "outputs": [
    {
     "name": "stdout",
     "output_type": "stream",
     "text": [
      "/bin/sh: 1: jupyter: not found\r\n"
     ]
    }
   ],
   "source": [
    "# Convert Jupyter Notebook to HTML\n",
    "! jupyter nbconvert \"index.ipynb\" --to html --TagRemovePreprocessor.enabled=True --TagRemovePreprocessor.remove_cell_tags=\"['remove_cell']\" --TagRemovePreprocessor.remove_input_tags=\"['remove_input']\" --no-prompt"
   ]
  },
  {
   "cell_type": "code",
   "execution_count": 16,
   "metadata": {
    "execution": {
     "iopub.execute_input": "2020-08-26T08:43:06.559607Z",
     "iopub.status.busy": "2020-08-26T08:43:06.559100Z",
     "iopub.status.idle": "2020-08-26T08:43:06.561519Z",
     "shell.execute_reply": "2020-08-26T08:43:06.561893Z"
    },
    "papermill": {
     "duration": 0.021244,
     "end_time": "2020-08-26T08:43:06.562052",
     "exception": false,
     "start_time": "2020-08-26T08:43:06.540808",
     "status": "completed"
    },
    "tags": [
     "remove_cell"
    ]
   },
   "outputs": [],
   "source": [
    "# Create daily commit message\n",
    "now = datetime.datetime.now()\n",
    "commit_message = \"Last scraped on \" + str(now)"
   ]
  },
  {
   "cell_type": "code",
   "execution_count": null,
   "metadata": {
    "execution": {
     "iopub.execute_input": "2020-08-26T08:42:07.125975Z",
     "iopub.status.busy": "2020-08-26T08:42:07.125481Z",
     "iopub.status.idle": "2020-08-26T08:42:11.062037Z",
     "shell.execute_reply": "2020-08-26T08:42:11.060857Z"
    },
    "papermill": {
     "duration": null,
     "end_time": null,
     "exception": false,
     "start_time": "2020-08-26T08:43:06.574787",
     "status": "running"
    },
    "tags": [
     "remove_cell"
    ]
   },
   "outputs": [],
   "source": [
    "# Deploy to GitHub\n",
    "! git add .\n",
    "! echo $commit_message > commit_message.txt\n",
    "! git commit -F commit_message.txt\n",
    "! git push"
   ]
  }
 ],
 "metadata": {
  "celltoolbar": "Tags",
  "kernelspec": {
   "display_name": "Python 3",
   "language": "python",
   "name": "python3"
  },
  "language_info": {
   "codemirror_mode": {
    "name": "ipython",
    "version": 3
   },
   "file_extension": ".py",
   "mimetype": "text/x-python",
   "name": "python",
   "nbconvert_exporter": "python",
   "pygments_lexer": "ipython3",
   "version": "3.7.3"
  },
  "papermill": {
   "duration": null,
   "end_time": null,
   "environment_variables": {},
   "exception": null,
   "input_path": "/home/alice_lepissier/cron-job/index.ipynb",
   "output_path": "/home/alice_lepissier/cron-job/index.ipynb",
   "parameters": {},
   "start_time": "2020-08-26T08:43:01.628925",
   "version": "2.1.3"
  }
 },
 "nbformat": 4,
 "nbformat_minor": 4
}