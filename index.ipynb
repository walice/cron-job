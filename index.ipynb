{
 "cells": [
  {
   "cell_type": "markdown",
   "metadata": {
    "papermill": {
     "duration": 0.010953,
     "end_time": "2020-08-26T20:19:04.273937",
     "exception": false,
     "start_time": "2020-08-26T20:19:04.262984",
     "status": "completed"
    },
    "tags": []
   },
   "source": [
    "# Daily COVID monitoring data for Santa Barbara county"
   ]
  },
  {
   "cell_type": "code",
   "execution_count": 1,
   "metadata": {
    "execution": {
     "iopub.execute_input": "2020-08-26T20:19:04.303387Z",
     "iopub.status.busy": "2020-08-26T20:19:04.302762Z",
     "iopub.status.idle": "2020-08-26T20:19:06.202436Z",
     "shell.execute_reply": "2020-08-26T20:19:06.203347Z"
    },
    "papermill": {
     "duration": 1.919334,
     "end_time": "2020-08-26T20:19:06.203560",
     "exception": false,
     "start_time": "2020-08-26T20:19:04.284226",
     "status": "completed"
    },
    "tags": [
     "remove_cell"
    ]
   },
   "outputs": [],
   "source": [
    "! jt -t grade3 -tf robotosans -cellw 1100"
   ]
  },
  {
   "cell_type": "markdown",
   "metadata": {
    "papermill": {
     "duration": 0.009511,
     "end_time": "2020-08-26T20:19:06.223222",
     "exception": false,
     "start_time": "2020-08-26T20:19:06.213711",
     "status": "completed"
    },
    "tags": []
   },
   "source": [
    "This table is automatically updated with new daily COVID data for the county of Santa Barbara, CA. Every day, the California Department of Public Health publishes COVID tracking metrics for each county, but does not save the previous day's data. This tool keeps track of the daily metrics that are used to monitor progress towards safe reopening in California."
   ]
  },
  {
   "cell_type": "code",
   "execution_count": 2,
   "metadata": {
    "execution": {
     "iopub.execute_input": "2020-08-26T20:19:06.251646Z",
     "iopub.status.busy": "2020-08-26T20:19:06.251075Z",
     "iopub.status.idle": "2020-08-26T20:19:09.400388Z",
     "shell.execute_reply": "2020-08-26T20:19:09.401281Z"
    },
    "papermill": {
     "duration": 3.168447,
     "end_time": "2020-08-26T20:19:09.401451",
     "exception": false,
     "start_time": "2020-08-26T20:19:06.233004",
     "status": "completed"
    },
    "slideshow": {
     "slide_type": "skip"
    },
    "tags": [
     "remove_cell"
    ]
   },
   "outputs": [],
   "source": [
    "# Preamble\n",
    "import os\n",
    "from IPython.display import Markdown as md\n",
    "import IPython\n",
    "import requests\n",
    "from bs4 import BeautifulSoup\n",
    "import re\n",
    "import pandas as pd\n",
    "import datetime\n",
    "import gspread\n",
    "from oauth2client.service_account import ServiceAccountCredentials"
   ]
  },
  {
   "cell_type": "code",
   "execution_count": 3,
   "metadata": {
    "execution": {
     "iopub.execute_input": "2020-08-26T20:19:09.428313Z",
     "iopub.status.busy": "2020-08-26T20:19:09.427745Z",
     "iopub.status.idle": "2020-08-26T20:19:09.429155Z",
     "shell.execute_reply": "2020-08-26T20:19:09.428754Z"
    },
    "papermill": {
     "duration": 0.01672,
     "end_time": "2020-08-26T20:19:09.429266",
     "exception": false,
     "start_time": "2020-08-26T20:19:09.412546",
     "status": "completed"
    },
    "tags": []
   },
   "outputs": [],
   "source": [
    "# Set working directory\n",
    "os.chdir(\"/home/alice_lepissier/cron-job\")"
   ]
  },
  {
   "cell_type": "code",
   "execution_count": 4,
   "metadata": {
    "execution": {
     "iopub.execute_input": "2020-08-26T20:19:09.455029Z",
     "iopub.status.busy": "2020-08-26T20:19:09.454393Z",
     "iopub.status.idle": "2020-08-26T20:19:09.722343Z",
     "shell.execute_reply": "2020-08-26T20:19:09.723145Z"
    },
    "papermill": {
     "duration": 0.284284,
     "end_time": "2020-08-26T20:19:09.723309",
     "exception": false,
     "start_time": "2020-08-26T20:19:09.439025",
     "status": "completed"
    },
    "slideshow": {
     "slide_type": "skip"
    },
    "tags": [
     "remove_cell"
    ]
   },
   "outputs": [],
   "source": [
    "# Request content from URL\n",
    "html_string = requests.get('https://www.cdph.ca.gov/Programs/CID/DCDC/Pages/COVID-19/COVID19CountyDataTable.aspx').content"
   ]
  },
  {
   "cell_type": "code",
   "execution_count": 5,
   "metadata": {
    "execution": {
     "iopub.execute_input": "2020-08-26T20:19:09.751695Z",
     "iopub.status.busy": "2020-08-26T20:19:09.751066Z",
     "iopub.status.idle": "2020-08-26T20:19:09.852473Z",
     "shell.execute_reply": "2020-08-26T20:19:09.853329Z"
    },
    "papermill": {
     "duration": 0.120023,
     "end_time": "2020-08-26T20:19:09.853496",
     "exception": false,
     "start_time": "2020-08-26T20:19:09.733473",
     "status": "completed"
    },
    "slideshow": {
     "slide_type": "skip"
    },
    "tags": [
     "remove_cell"
    ]
   },
   "outputs": [],
   "source": [
    "# Parse HTML\n",
    "soup = BeautifulSoup(html_string, 'html.parser')"
   ]
  },
  {
   "cell_type": "code",
   "execution_count": 6,
   "metadata": {
    "execution": {
     "iopub.execute_input": "2020-08-26T20:19:09.884852Z",
     "iopub.status.busy": "2020-08-26T20:19:09.884326Z",
     "iopub.status.idle": "2020-08-26T20:19:09.889934Z",
     "shell.execute_reply": "2020-08-26T20:19:09.890778Z"
    },
    "papermill": {
     "duration": 0.027034,
     "end_time": "2020-08-26T20:19:09.890943",
     "exception": false,
     "start_time": "2020-08-26T20:19:09.863909",
     "status": "completed"
    },
    "slideshow": {
     "slide_type": "skip"
    },
    "tags": [
     "remove_cell"
    ]
   },
   "outputs": [],
   "source": [
    "# Extract data for Santa Barbara\n",
    "table = soup.find_all(\"tr\", class_=\"ms-rteTableEvenRow-3\")\n",
    "SB = table[21]"
   ]
  },
  {
   "cell_type": "code",
   "execution_count": 7,
   "metadata": {
    "execution": {
     "iopub.execute_input": "2020-08-26T20:19:09.919597Z",
     "iopub.status.busy": "2020-08-26T20:19:09.919058Z",
     "iopub.status.idle": "2020-08-26T20:19:09.930286Z",
     "shell.execute_reply": "2020-08-26T20:19:09.931095Z"
    },
    "papermill": {
     "duration": 0.029947,
     "end_time": "2020-08-26T20:19:09.931259",
     "exception": false,
     "start_time": "2020-08-26T20:19:09.901312",
     "status": "completed"
    },
    "slideshow": {
     "slide_type": "skip"
    },
    "tags": [
     "remove_cell"
    ]
   },
   "outputs": [],
   "source": [
    "# Avg # tests per day (per 100,000 population)\n",
    "daily_tests = SB.find_all(\"td\", class_=\"ms-rteTableOddCol-3\")[0].text\n",
    "\n",
    "# Case rate per 100,000\n",
    "case_rate = SB.find_all(\"td\", class_=\"ms-rteTableEvenCol-3\")[1].text\n",
    "\n",
    "# Testing positivity (%)\n",
    "test_positivity = SB.find_all(\"td\", class_=\"ms-rteTableOddCol-3\")[1].text\n",
    "\n",
    "# % Change in 3-day avg COVID+ hospitalized patients\n",
    "change_hospit = SB.find_all(\"td\", class_=\"ms-rteTableEvenCol-3\")[2].text\n",
    "\n",
    "# % ICU beds currently available\n",
    "ICU_beds = SB.find_all(\"td\", class_=\"ms-rteTableOddCol-3\")[2].text\n",
    "\n",
    "# % Ventilators currently available\n",
    "ventilators = SB.find_all(\"td\", class_=\"ms-rteTableEvenCol-3\")[3].text\n",
    "\n",
    "# Extract date of last update\n",
    "update_date = soup.find_all(\"span\", class_=\"ms-rteStyle-Accent1\")[1]\\\n",
    "    .find(\"em\").text"
   ]
  },
  {
   "cell_type": "code",
   "execution_count": 8,
   "metadata": {
    "execution": {
     "iopub.execute_input": "2020-08-26T20:19:09.957951Z",
     "iopub.status.busy": "2020-08-26T20:19:09.957362Z",
     "iopub.status.idle": "2020-08-26T20:19:09.958836Z",
     "shell.execute_reply": "2020-08-26T20:19:09.958423Z"
    },
    "papermill": {
     "duration": 0.016513,
     "end_time": "2020-08-26T20:19:09.958950",
     "exception": false,
     "start_time": "2020-08-26T20:19:09.942437",
     "status": "completed"
    },
    "tags": [
     "remove_cell"
    ]
   },
   "outputs": [],
   "source": [
    "# Create updated date string\n",
    "update_tag = \"Table last updated by CDPH on \" + update_date.split(\" on \", 1)[1] + \".\""
   ]
  },
  {
   "cell_type": "code",
   "execution_count": 9,
   "metadata": {
    "execution": {
     "iopub.execute_input": "2020-08-26T20:19:09.983145Z",
     "iopub.status.busy": "2020-08-26T20:19:09.982639Z",
     "iopub.status.idle": "2020-08-26T20:19:09.993381Z",
     "shell.execute_reply": "2020-08-26T20:19:09.994460Z"
    },
    "papermill": {
     "duration": 0.025904,
     "end_time": "2020-08-26T20:19:09.994646",
     "exception": false,
     "start_time": "2020-08-26T20:19:09.968742",
     "status": "completed"
    },
    "slideshow": {
     "slide_type": "skip"
    },
    "tags": [
     "remove_cell"
    ]
   },
   "outputs": [],
   "source": [
    "# Set up Google Sheet API\n",
    "scope = [\"https://spreadsheets.google.com/feeds\",'https://www.googleapis.com/auth/spreadsheets',\"https://www.googleapis.com/auth/drive.file\",\"https://www.googleapis.com/auth/drive\"]\n",
    "creds = ServiceAccountCredentials.from_json_keyfile_name(\"credentials.json\", scope)\n",
    "client = gspread.authorize(creds)"
   ]
  },
  {
   "cell_type": "code",
   "execution_count": 10,
   "metadata": {
    "execution": {
     "iopub.execute_input": "2020-08-26T20:19:10.022134Z",
     "iopub.status.busy": "2020-08-26T20:19:10.021563Z",
     "iopub.status.idle": "2020-08-26T20:19:10.958076Z",
     "shell.execute_reply": "2020-08-26T20:19:10.958899Z"
    },
    "papermill": {
     "duration": 0.954606,
     "end_time": "2020-08-26T20:19:10.959067",
     "exception": false,
     "start_time": "2020-08-26T20:19:10.004461",
     "status": "completed"
    },
    "slideshow": {
     "slide_type": "skip"
    },
    "tags": [
     "remove_cell"
    ]
   },
   "outputs": [
    {
     "data": {
      "text/plain": [
       "{'spreadsheetId': '1pcqdMzKtea2Oq3BDmdAOQ21gZjCssieKI0692VfNLXU',\n",
       " 'updatedRange': 'Sheet1!A2:G2',\n",
       " 'updatedRows': 1,\n",
       " 'updatedColumns': 7,\n",
       " 'updatedCells': 7}"
      ]
     },
     "execution_count": 10,
     "metadata": {},
     "output_type": "execute_result"
    }
   ],
   "source": [
    "# Append daily data as a new row in Google Sheet\n",
    "sheet = client.open(\"Test cron job\").sheet1\n",
    "insertRow = [datetime.date.today().strftime(\"%Y-%m-%d\"),\n",
    "             daily_tests,\n",
    "             case_rate,\n",
    "             test_positivity,\n",
    "             change_hospit,\n",
    "             ICU_beds,\n",
    "             ventilators]\n",
    "sheet.insert_row(insertRow, 2)"
   ]
  },
  {
   "cell_type": "code",
   "execution_count": 11,
   "metadata": {
    "execution": {
     "iopub.execute_input": "2020-08-26T20:19:10.990478Z",
     "iopub.status.busy": "2020-08-26T20:19:10.989893Z",
     "iopub.status.idle": "2020-08-26T20:19:11.448927Z",
     "shell.execute_reply": "2020-08-26T20:19:11.449709Z"
    },
    "papermill": {
     "duration": 0.479711,
     "end_time": "2020-08-26T20:19:11.449885",
     "exception": false,
     "start_time": "2020-08-26T20:19:10.970174",
     "status": "completed"
    },
    "scrolled": true,
    "slideshow": {
     "slide_type": "slide"
    },
    "tags": [
     "remove_cell"
    ]
   },
   "outputs": [],
   "source": [
    "# Extract data from Google Sheet as pandas dataframe\n",
    "sheet = client.open(\"Test cron job\").sheet1\n",
    "data = sheet.get_all_records()\n",
    "result = pd.DataFrame(data).set_index(\"Date\")"
   ]
  },
  {
   "cell_type": "code",
   "execution_count": 12,
   "metadata": {
    "execution": {
     "iopub.execute_input": "2020-08-26T20:19:11.477340Z",
     "iopub.status.busy": "2020-08-26T20:19:11.476764Z",
     "iopub.status.idle": "2020-08-26T20:19:12.678621Z",
     "shell.execute_reply": "2020-08-26T20:19:12.679419Z"
    },
    "papermill": {
     "duration": 1.218941,
     "end_time": "2020-08-26T20:19:12.679590",
     "exception": false,
     "start_time": "2020-08-26T20:19:11.460649",
     "status": "completed"
    },
    "scrolled": true,
    "tags": [
     "remove_input"
    ]
   },
   "outputs": [
    {
     "data": {
      "text/html": [
       "<style  type=\"text/css\" >\n",
       "    #T_67fbb55c_e7d9_11ea_b76a_42010a8a0004 th {\n",
       "          text-align: center;\n",
       "    }#T_67fbb55c_e7d9_11ea_b76a_42010a8a0004row0_col0,#T_67fbb55c_e7d9_11ea_b76a_42010a8a0004row1_col0,#T_67fbb55c_e7d9_11ea_b76a_42010a8a0004row2_col0,#T_67fbb55c_e7d9_11ea_b76a_42010a8a0004row3_col0{\n",
       "            width:  20em;\n",
       "            text-align:  center;\n",
       "            font-weight:  bold;\n",
       "        }#T_67fbb55c_e7d9_11ea_b76a_42010a8a0004row0_col1,#T_67fbb55c_e7d9_11ea_b76a_42010a8a0004row0_col2,#T_67fbb55c_e7d9_11ea_b76a_42010a8a0004row0_col3,#T_67fbb55c_e7d9_11ea_b76a_42010a8a0004row0_col4,#T_67fbb55c_e7d9_11ea_b76a_42010a8a0004row0_col5,#T_67fbb55c_e7d9_11ea_b76a_42010a8a0004row0_col6,#T_67fbb55c_e7d9_11ea_b76a_42010a8a0004row1_col1,#T_67fbb55c_e7d9_11ea_b76a_42010a8a0004row1_col2,#T_67fbb55c_e7d9_11ea_b76a_42010a8a0004row1_col3,#T_67fbb55c_e7d9_11ea_b76a_42010a8a0004row1_col4,#T_67fbb55c_e7d9_11ea_b76a_42010a8a0004row1_col5,#T_67fbb55c_e7d9_11ea_b76a_42010a8a0004row1_col6,#T_67fbb55c_e7d9_11ea_b76a_42010a8a0004row2_col1,#T_67fbb55c_e7d9_11ea_b76a_42010a8a0004row2_col2,#T_67fbb55c_e7d9_11ea_b76a_42010a8a0004row2_col3,#T_67fbb55c_e7d9_11ea_b76a_42010a8a0004row2_col4,#T_67fbb55c_e7d9_11ea_b76a_42010a8a0004row2_col5,#T_67fbb55c_e7d9_11ea_b76a_42010a8a0004row2_col6,#T_67fbb55c_e7d9_11ea_b76a_42010a8a0004row3_col1,#T_67fbb55c_e7d9_11ea_b76a_42010a8a0004row3_col2,#T_67fbb55c_e7d9_11ea_b76a_42010a8a0004row3_col3,#T_67fbb55c_e7d9_11ea_b76a_42010a8a0004row3_col4,#T_67fbb55c_e7d9_11ea_b76a_42010a8a0004row3_col5,#T_67fbb55c_e7d9_11ea_b76a_42010a8a0004row3_col6{\n",
       "            width:  20em;\n",
       "            text-align:  center;\n",
       "        }</style><table id=\"T_67fbb55c_e7d9_11ea_b76a_42010a8a0004\" ><thead>    <tr>        <th class=\"col_heading level0 col0\" >Date</th>        <th class=\"col_heading level0 col1\" >Daily tests (per 100,000)¹</th>        <th class=\"col_heading level0 col2\" >Case rate (per 100,000)²</th>        <th class=\"col_heading level0 col3\" >Testing positivity (%)³</th>        <th class=\"col_heading level0 col4\" >Change in hospitalizations (%)⁴</th>        <th class=\"col_heading level0 col5\" >ICU beds available (%)</th>        <th class=\"col_heading level0 col6\" >Ventilators (available (%)</th>    </tr></thead><tbody>\n",
       "                <tr>\n",
       "                                <td id=\"T_67fbb55c_e7d9_11ea_b76a_42010a8a0004row0_col0\" class=\"data row0 col0\" >2020-08-26</td>\n",
       "                        <td id=\"T_67fbb55c_e7d9_11ea_b76a_42010a8a0004row0_col1\" class=\"data row0 col1\" >219.7</td>\n",
       "                        <td id=\"T_67fbb55c_e7d9_11ea_b76a_42010a8a0004row0_col2\" class=\"data row0 col2\" >133.2</td>\n",
       "                        <td id=\"T_67fbb55c_e7d9_11ea_b76a_42010a8a0004row0_col3\" class=\"data row0 col3\" > ✔</td>\n",
       "                        <td id=\"T_67fbb55c_e7d9_11ea_b76a_42010a8a0004row0_col4\" class=\"data row0 col4\" > ✔</td>\n",
       "                        <td id=\"T_67fbb55c_e7d9_11ea_b76a_42010a8a0004row0_col5\" class=\"data row0 col5\" > ✔</td>\n",
       "                        <td id=\"T_67fbb55c_e7d9_11ea_b76a_42010a8a0004row0_col6\" class=\"data row0 col6\" > ✔</td>\n",
       "            </tr>\n",
       "            <tr>\n",
       "                                <td id=\"T_67fbb55c_e7d9_11ea_b76a_42010a8a0004row1_col0\" class=\"data row1 col0\" >2020-08-26</td>\n",
       "                        <td id=\"T_67fbb55c_e7d9_11ea_b76a_42010a8a0004row1_col1\" class=\"data row1 col1\" >219.7</td>\n",
       "                        <td id=\"T_67fbb55c_e7d9_11ea_b76a_42010a8a0004row1_col2\" class=\"data row1 col2\" >133.2</td>\n",
       "                        <td id=\"T_67fbb55c_e7d9_11ea_b76a_42010a8a0004row1_col3\" class=\"data row1 col3\" > ✔</td>\n",
       "                        <td id=\"T_67fbb55c_e7d9_11ea_b76a_42010a8a0004row1_col4\" class=\"data row1 col4\" > ✔</td>\n",
       "                        <td id=\"T_67fbb55c_e7d9_11ea_b76a_42010a8a0004row1_col5\" class=\"data row1 col5\" > ✔</td>\n",
       "                        <td id=\"T_67fbb55c_e7d9_11ea_b76a_42010a8a0004row1_col6\" class=\"data row1 col6\" > ✔</td>\n",
       "            </tr>\n",
       "            <tr>\n",
       "                                <td id=\"T_67fbb55c_e7d9_11ea_b76a_42010a8a0004row2_col0\" class=\"data row2 col0\" >2020-08-26</td>\n",
       "                        <td id=\"T_67fbb55c_e7d9_11ea_b76a_42010a8a0004row2_col1\" class=\"data row2 col1\" >219.7</td>\n",
       "                        <td id=\"T_67fbb55c_e7d9_11ea_b76a_42010a8a0004row2_col2\" class=\"data row2 col2\" >133.2</td>\n",
       "                        <td id=\"T_67fbb55c_e7d9_11ea_b76a_42010a8a0004row2_col3\" class=\"data row2 col3\" > ✔</td>\n",
       "                        <td id=\"T_67fbb55c_e7d9_11ea_b76a_42010a8a0004row2_col4\" class=\"data row2 col4\" > ✔</td>\n",
       "                        <td id=\"T_67fbb55c_e7d9_11ea_b76a_42010a8a0004row2_col5\" class=\"data row2 col5\" > ✔</td>\n",
       "                        <td id=\"T_67fbb55c_e7d9_11ea_b76a_42010a8a0004row2_col6\" class=\"data row2 col6\" > ✔</td>\n",
       "            </tr>\n",
       "            <tr>\n",
       "                                <td id=\"T_67fbb55c_e7d9_11ea_b76a_42010a8a0004row3_col0\" class=\"data row3 col0\" >2020-08-26</td>\n",
       "                        <td id=\"T_67fbb55c_e7d9_11ea_b76a_42010a8a0004row3_col1\" class=\"data row3 col1\" >219.7</td>\n",
       "                        <td id=\"T_67fbb55c_e7d9_11ea_b76a_42010a8a0004row3_col2\" class=\"data row3 col2\" >133.2</td>\n",
       "                        <td id=\"T_67fbb55c_e7d9_11ea_b76a_42010a8a0004row3_col3\" class=\"data row3 col3\" > ✔</td>\n",
       "                        <td id=\"T_67fbb55c_e7d9_11ea_b76a_42010a8a0004row3_col4\" class=\"data row3 col4\" > ✔</td>\n",
       "                        <td id=\"T_67fbb55c_e7d9_11ea_b76a_42010a8a0004row3_col5\" class=\"data row3 col5\" > ✔</td>\n",
       "                        <td id=\"T_67fbb55c_e7d9_11ea_b76a_42010a8a0004row3_col6\" class=\"data row3 col6\" > ✔</td>\n",
       "            </tr>\n",
       "    </tbody></table>"
      ],
      "text/plain": [
       "<pandas.io.formats.style.Styler at 0x7f127c86b128>"
      ]
     },
     "execution_count": 12,
     "metadata": {},
     "output_type": "execute_result"
    }
   ],
   "source": [
    "# Style the pandas dataframe\n",
    "d = dict(selector=\"th\",\n",
    "         props=[('text-align', 'center')])\n",
    "\n",
    "result.reset_index().style\\\n",
    "    .set_properties(**{'width':'20em', 'text-align':'center'})\\\n",
    "    .set_properties(subset=['Date'], **{'font-weight': 'bold'})\\\n",
    "    .set_table_styles([d])\\\n",
    "    .set_precision(1)\\\n",
    "    .hide_index()"
   ]
  },
  {
   "cell_type": "markdown",
   "metadata": {
    "papermill": {
     "duration": 0.010455,
     "end_time": "2020-08-26T20:19:12.700910",
     "exception": false,
     "start_time": "2020-08-26T20:19:12.690455",
     "status": "completed"
    },
    "tags": []
   },
   "source": [
    "<sup>Notes: (1) 7 day average with a 7-day lag. (2) 14 day average. (3) 7 day average with a 7-day lag. (4) Change in 3 day average.</sup>"
   ]
  },
  {
   "cell_type": "code",
   "execution_count": 13,
   "metadata": {
    "execution": {
     "iopub.execute_input": "2020-08-26T20:19:12.727259Z",
     "iopub.status.busy": "2020-08-26T20:19:12.726715Z",
     "iopub.status.idle": "2020-08-26T20:19:12.729860Z",
     "shell.execute_reply": "2020-08-26T20:19:12.730269Z"
    },
    "papermill": {
     "duration": 0.019205,
     "end_time": "2020-08-26T20:19:12.730423",
     "exception": false,
     "start_time": "2020-08-26T20:19:12.711218",
     "status": "completed"
    },
    "tags": [
     "remove_input"
    ]
   },
   "outputs": [
    {
     "data": {
      "text/markdown": [
       "Table last updated by CDPH on August 26, 2020."
      ],
      "text/plain": [
       "<IPython.core.display.Markdown object>"
      ]
     },
     "execution_count": 13,
     "metadata": {},
     "output_type": "execute_result"
    }
   ],
   "source": [
    "md(update_tag)"
   ]
  },
  {
   "cell_type": "markdown",
   "metadata": {
    "papermill": {
     "duration": 0.010717,
     "end_time": "2020-08-26T20:19:12.751901",
     "exception": false,
     "start_time": "2020-08-26T20:19:12.741184",
     "status": "completed"
    },
    "tags": []
   },
   "source": [
    "## Tracking county closures in Santa Barbara"
   ]
  },
  {
   "cell_type": "markdown",
   "metadata": {
    "papermill": {
     "duration": 0.010745,
     "end_time": "2020-08-26T20:19:12.773482",
     "exception": false,
     "start_time": "2020-08-26T20:19:12.762737",
     "status": "completed"
    },
    "tags": []
   },
   "source": [
    "The state of California is using a data-driven approach informed by scientific evidence to tailor its response to COVID-19. Three dimensions of concern are monitored to assess whether a county should be placed on the County Monitoring List:\n",
    " 1. Elevated Disease Transmission\n",
    " 2. Increasing Hospitalization\n",
    " 3. Limited Hospital Capacity\n",
    "\n",
    "Once a county appears on the County Monitoring List for three consecutive days, indoor operations in the sectors listed in Section 3 of the [July 13th State Health Officer Order](https://www.cdph.ca.gov/Programs/CID/DCDC/CDPH%20Document%20Library/COVID-19/SHO%20Order%20Dimming%20Entire%20State%207-13-2020.pdf) must close.\n",
    "\n",
    "This table tracks where Santa Barbara stands in terms of the criteria for inclusion on the County Monitoring List. As of 20 August 2020, the criteria for inclusion on the monitoring list are:\n",
    "\n",
    "* Case rate >100 OR (Case rate >25 AND Positivity >8%)\n",
    "* \\>10% increase in hospitalizations\n",
    "* <20% ICU beds available OR <25% ventilators available\n",
    "\n",
    "If Santa Barbara meets the criteria for removal from the County Monitoring List for a certain metric, then a checkmark ✔ is displayed in the table.\n",
    "\n",
    "Read more at <https://covid19.ca.gov/roadmap-counties/>.\n",
    "\n",
    "Data source for county metrics: https://www.cdph.ca.gov/Programs/CID/DCDC/Pages/COVID-19/COVID19CountyDataTable.aspx."
   ]
  },
  {
   "cell_type": "markdown",
   "metadata": {
    "papermill": {
     "duration": 0.01067,
     "end_time": "2020-08-26T20:19:12.794869",
     "exception": false,
     "start_time": "2020-08-26T20:19:12.784199",
     "status": "completed"
    },
    "tags": []
   },
   "source": [
    "**See the code used to scrape the data: https://github.com/walice/COVID-SB/.**"
   ]
  },
  {
   "cell_type": "code",
   "execution_count": 14,
   "metadata": {
    "execution": {
     "iopub.execute_input": "2020-08-26T20:19:12.821994Z",
     "iopub.status.busy": "2020-08-26T20:19:12.821482Z",
     "iopub.status.idle": "2020-08-26T20:19:12.824950Z",
     "shell.execute_reply": "2020-08-26T20:19:12.825330Z"
    },
    "papermill": {
     "duration": 0.019773,
     "end_time": "2020-08-26T20:19:12.825475",
     "exception": false,
     "start_time": "2020-08-26T20:19:12.805702",
     "status": "completed"
    },
    "tags": [
     "remove_cell"
    ]
   },
   "outputs": [
    {
     "data": {
      "application/javascript": [
       "IPython.notebook.save_notebook()\n"
      ],
      "text/plain": [
       "<IPython.core.display.Javascript object>"
      ]
     },
     "metadata": {},
     "output_type": "display_data"
    }
   ],
   "source": [
    "%%javascript\n",
    "IPython.notebook.save_notebook()"
   ]
  },
  {
   "cell_type": "code",
   "execution_count": 15,
   "metadata": {
    "execution": {
     "iopub.execute_input": "2020-08-26T20:19:12.855277Z",
     "iopub.status.busy": "2020-08-26T20:19:12.854784Z",
     "iopub.status.idle": "2020-08-26T20:19:16.154642Z",
     "shell.execute_reply": "2020-08-26T20:19:16.155549Z"
    },
    "papermill": {
     "duration": 3.319157,
     "end_time": "2020-08-26T20:19:16.155737",
     "exception": false,
     "start_time": "2020-08-26T20:19:12.836580",
     "status": "completed"
    },
    "slideshow": {
     "slide_type": "skip"
    },
    "tags": [
     "remove_cell"
    ]
   },
   "outputs": [
    {
     "name": "stdout",
     "output_type": "stream",
     "text": [
      "[NbConvertApp] Converting notebook index.ipynb to html\r\n"
     ]
    },
    {
     "name": "stdout",
     "output_type": "stream",
     "text": [
      "[NbConvertApp] Writing 354622 bytes to index.html\r\n"
     ]
    }
   ],
   "source": [
    "# Convert Jupyter Notebook to HTML\n",
    "! jupyter nbconvert \"index.ipynb\" --to html --TagRemovePreprocessor.enabled=True --TagRemovePreprocessor.remove_cell_tags=\"['remove_cell']\" --TagRemovePreprocessor.remove_input_tags=\"['remove_input']\" --no-prompt"
   ]
  },
  {
   "cell_type": "code",
   "execution_count": 16,
   "metadata": {
    "execution": {
     "iopub.execute_input": "2020-08-26T20:19:16.184024Z",
     "iopub.status.busy": "2020-08-26T20:19:16.183516Z",
     "iopub.status.idle": "2020-08-26T20:19:16.185833Z",
     "shell.execute_reply": "2020-08-26T20:19:16.186238Z"
    },
    "papermill": {
     "duration": 0.018693,
     "end_time": "2020-08-26T20:19:16.186391",
     "exception": false,
     "start_time": "2020-08-26T20:19:16.167698",
     "status": "completed"
    },
    "tags": [
     "remove_cell"
    ]
   },
   "outputs": [],
   "source": [
    "# Create daily commit message\n",
    "now = datetime.datetime.now()\n",
    "commit_message = \"Last scraped on \" + str(now)"
   ]
  },
  {
   "cell_type": "code",
   "execution_count": null,
   "metadata": {
    "execution": {
     "iopub.execute_input": "2020-08-26T20:18:15.455584Z",
     "iopub.status.busy": "2020-08-26T20:18:15.455085Z",
     "iopub.status.idle": "2020-08-26T20:18:20.710540Z",
     "shell.execute_reply": "2020-08-26T20:18:20.709226Z"
    },
    "papermill": {
     "duration": null,
     "end_time": null,
     "exception": false,
     "start_time": "2020-08-26T20:19:16.198203",
     "status": "running"
    },
    "tags": [
     "remove_cell"
    ]
   },
   "outputs": [],
   "source": [
    "# Deploy to GitHub\n",
    "! git add .\n",
    "! echo $commit_message > commit_message.txt\n",
    "! git commit -F commit_message.txt\n",
    "! git push"
   ]
  }
 ],
 "metadata": {
  "celltoolbar": "Tags",
  "kernelspec": {
   "display_name": "Python 3",
   "language": "python",
   "name": "python3"
  },
  "language_info": {
   "codemirror_mode": {
    "name": "ipython",
    "version": 3
   },
   "file_extension": ".py",
   "mimetype": "text/x-python",
   "name": "python",
   "nbconvert_exporter": "python",
   "pygments_lexer": "ipython3",
   "version": "3.7.3"
  },
  "papermill": {
   "duration": null,
   "end_time": null,
   "environment_variables": {},
   "exception": null,
   "input_path": "/home/alice_lepissier/cron-job/index.ipynb",
   "output_path": "/home/alice_lepissier/cron-job/index.ipynb",
   "parameters": {},
   "start_time": "2020-08-26T20:19:02.971063",
   "version": "2.1.3"
  }
 },
 "nbformat": 4,
 "nbformat_minor": 4
}