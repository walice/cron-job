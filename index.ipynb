{
 "cells": [
  {
   "cell_type": "markdown",
   "metadata": {
    "papermill": {
     "duration": 0.01899,
     "end_time": "2020-08-25T19:00:08.886055",
     "exception": false,
     "start_time": "2020-08-25T19:00:08.867065",
     "status": "completed"
    },
    "tags": []
   },
   "source": [
    "# Daily COVID monitoring data for Santa Barbara county"
   ]
  },
  {
   "cell_type": "code",
   "execution_count": 1,
   "metadata": {
    "papermill": {
     "duration": 1.855935,
     "end_time": "2020-08-25T19:00:10.761982",
     "exception": false,
     "start_time": "2020-08-25T19:00:08.906047",
     "status": "completed"
    },
    "tags": [
     "remove_cell"
    ]
   },
   "outputs": [],
   "source": [
    "! jt -t grade3 -tf robotosans -cellw 1100"
   ]
  },
  {
   "cell_type": "markdown",
   "metadata": {
    "papermill": {
     "duration": 0.018994,
     "end_time": "2020-08-25T19:00:10.804961",
     "exception": false,
     "start_time": "2020-08-25T19:00:10.785967",
     "status": "completed"
    },
    "tags": []
   },
   "source": [
    "This table is automatically updated with new daily COVID data for the county of Santa Barbara, CA. Every day, the California Department of Public Health publishes COVID tracking metrics for each county, but does not save the previous day's data. This tool keeps track of the daily metrics that are used to monitor progress towards safe reopening in California."
   ]
  },
  {
   "cell_type": "code",
   "execution_count": 2,
   "metadata": {
    "papermill": {
     "duration": 4.569789,
     "end_time": "2020-08-25T19:00:15.399732",
     "exception": false,
     "start_time": "2020-08-25T19:00:10.829943",
     "status": "completed"
    },
    "slideshow": {
     "slide_type": "skip"
    },
    "tags": [
     "remove_cell"
    ]
   },
   "outputs": [],
   "source": [
    "# Preamble\n",
    "import os\n",
    "from IPython.display import Markdown as md\n",
    "import IPython\n",
    "import requests\n",
    "from bs4 import BeautifulSoup\n",
    "import re\n",
    "import pandas as pd\n",
    "import datetime\n",
    "import gspread\n",
    "from oauth2client.service_account import ServiceAccountCredentials"
   ]
  },
  {
   "cell_type": "code",
   "execution_count": 3,
   "metadata": {
    "papermill": {
     "duration": 0.032983,
     "end_time": "2020-08-25T19:00:15.449707",
     "exception": false,
     "start_time": "2020-08-25T19:00:15.416724",
     "status": "completed"
    },
    "tags": [
     "remove_cell"
    ]
   },
   "outputs": [],
   "source": [
    "# Change working directory (so that Windows task scheduler does not complain)\n",
    "# os.chdir(\"/home/alice_lepissier/cron-job\")"
   ]
  },
  {
   "cell_type": "code",
   "execution_count": 4,
   "metadata": {
    "papermill": {
     "duration": 1.486289,
     "end_time": "2020-08-25T19:00:16.958981",
     "exception": false,
     "start_time": "2020-08-25T19:00:15.472692",
     "status": "completed"
    },
    "slideshow": {
     "slide_type": "skip"
    },
    "tags": [
     "remove_cell"
    ]
   },
   "outputs": [],
   "source": [
    "# Request content from URL\n",
    "html_string = requests.get('https://www.cdph.ca.gov/Programs/CID/DCDC/Pages/COVID-19/COVID19CountyDataTable.aspx').content"
   ]
  },
  {
   "cell_type": "code",
   "execution_count": 5,
   "metadata": {
    "papermill": {
     "duration": 0.917474,
     "end_time": "2020-08-25T19:00:17.969403",
     "exception": false,
     "start_time": "2020-08-25T19:00:17.051929",
     "status": "completed"
    },
    "slideshow": {
     "slide_type": "skip"
    },
    "tags": [
     "remove_cell"
    ]
   },
   "outputs": [],
   "source": [
    "# Parse HTML\n",
    "soup = BeautifulSoup(html_string, 'html.parser')"
   ]
  },
  {
   "cell_type": "code",
   "execution_count": 6,
   "metadata": {
    "papermill": {
     "duration": 0.076956,
     "end_time": "2020-08-25T19:00:18.074345",
     "exception": false,
     "start_time": "2020-08-25T19:00:17.997389",
     "status": "completed"
    },
    "slideshow": {
     "slide_type": "skip"
    },
    "tags": [
     "remove_cell"
    ]
   },
   "outputs": [],
   "source": [
    "# Extract data for Santa Barbara\n",
    "table = soup.find_all(\"tr\", class_=\"ms-rteTableEvenRow-3\")\n",
    "SB = table[21]"
   ]
  },
  {
   "cell_type": "code",
   "execution_count": 7,
   "metadata": {
    "papermill": {
     "duration": 0.05397,
     "end_time": "2020-08-25T19:00:18.158297",
     "exception": false,
     "start_time": "2020-08-25T19:00:18.104327",
     "status": "completed"
    },
    "slideshow": {
     "slide_type": "skip"
    },
    "tags": [
     "remove_cell"
    ]
   },
   "outputs": [],
   "source": [
    "# Avg # tests per day (per 100,000 population)\n",
    "daily_tests = SB.find_all(\"td\", class_=\"ms-rteTableOddCol-3\")[0].text\n",
    "\n",
    "# Case rate per 100,000\n",
    "case_rate = SB.find_all(\"td\", class_=\"ms-rteTableEvenCol-3\")[1].text\n",
    "\n",
    "# Testing positivity (%)\n",
    "test_positivity = SB.find_all(\"td\", class_=\"ms-rteTableOddCol-3\")[1].text\n",
    "\n",
    "# % Change in 3-day avg COVID+ hospitalized patients\n",
    "change_hospit = SB.find_all(\"td\", class_=\"ms-rteTableEvenCol-3\")[2].text\n",
    "\n",
    "# % ICU beds currently available\n",
    "ICU_beds = SB.find_all(\"td\", class_=\"ms-rteTableOddCol-3\")[2].text\n",
    "\n",
    "# % Ventilators currently available\n",
    "ventilators = SB.find_all(\"td\", class_=\"ms-rteTableEvenCol-3\")[3].text\n",
    "\n",
    "# Extract date of last update\n",
    "update_date = soup.find_all(\"span\", class_=\"ms-rteStyle-Accent1\")[1]\\\n",
    "    .find(\"em\").text"
   ]
  },
  {
   "cell_type": "code",
   "execution_count": 8,
   "metadata": {
    "papermill": {
     "duration": 0.035979,
     "end_time": "2020-08-25T19:00:18.215263",
     "exception": false,
     "start_time": "2020-08-25T19:00:18.179284",
     "status": "completed"
    },
    "tags": [
     "remove_cell"
    ]
   },
   "outputs": [],
   "source": [
    "# Create updated date string\n",
    "update_tag = \"Table last updated by CDPH on \" + update_date.split(\" on \", 1)[1] + \".\""
   ]
  },
  {
   "cell_type": "code",
   "execution_count": 9,
   "metadata": {
    "papermill": {
     "duration": 0.047515,
     "end_time": "2020-08-25T19:00:18.282767",
     "exception": false,
     "start_time": "2020-08-25T19:00:18.235252",
     "status": "completed"
    },
    "slideshow": {
     "slide_type": "skip"
    },
    "tags": [
     "remove_cell"
    ]
   },
   "outputs": [],
   "source": [
    "# Set up Google Sheet API\n",
    "scope = [\"https://spreadsheets.google.com/feeds\",'https://www.googleapis.com/auth/spreadsheets',\"https://www.googleapis.com/auth/drive.file\",\"https://www.googleapis.com/auth/drive\"]\n",
    "creds = ServiceAccountCredentials.from_json_keyfile_name(\"credentials.json\", scope)\n",
    "client = gspread.authorize(creds)"
   ]
  },
  {
   "cell_type": "code",
   "execution_count": 10,
   "metadata": {
    "papermill": {
     "duration": 3.814421,
     "end_time": "2020-08-25T19:00:22.117179",
     "exception": false,
     "start_time": "2020-08-25T19:00:18.302758",
     "status": "completed"
    },
    "slideshow": {
     "slide_type": "skip"
    },
    "tags": [
     "remove_cell"
    ]
   },
   "outputs": [
    {
     "data": {
      "text/plain": [
       "{'spreadsheetId': '1pcqdMzKtea2Oq3BDmdAOQ21gZjCssieKI0692VfNLXU',\n",
       " 'updatedRange': 'Sheet1!A2:G2',\n",
       " 'updatedRows': 1,\n",
       " 'updatedColumns': 7,\n",
       " 'updatedCells': 7}"
      ]
     },
     "execution_count": 10,
     "metadata": {},
     "output_type": "execute_result"
    }
   ],
   "source": [
    "# Append daily data as a new row in Google Sheet\n",
    "sheet = client.open(\"Test cron job\").sheet1\n",
    "insertRow = [datetime.date.today().strftime(\"%Y-%m-%d\"),\n",
    "             daily_tests,\n",
    "             case_rate,\n",
    "             test_positivity,\n",
    "             change_hospit,\n",
    "             ICU_beds,\n",
    "             ventilators]\n",
    "sheet.insert_row(insertRow, 2)"
   ]
  },
  {
   "cell_type": "code",
   "execution_count": 11,
   "metadata": {
    "papermill": {
     "duration": 0.657861,
     "end_time": "2020-08-25T19:00:22.797028",
     "exception": false,
     "start_time": "2020-08-25T19:00:22.139167",
     "status": "completed"
    },
    "scrolled": true,
    "slideshow": {
     "slide_type": "slide"
    },
    "tags": [
     "remove_cell"
    ]
   },
   "outputs": [],
   "source": [
    "# Extract data from Google Sheet as pandas dataframe\n",
    "sheet = client.open(\"Test cron job\").sheet1\n",
    "data = sheet.get_all_records()\n",
    "result = pd.DataFrame(data).set_index(\"Date\")"
   ]
  },
  {
   "cell_type": "code",
   "execution_count": 12,
   "metadata": {
    "papermill": {
     "duration": 0.647047,
     "end_time": "2020-08-25T19:00:23.459065",
     "exception": false,
     "start_time": "2020-08-25T19:00:22.812018",
     "status": "completed"
    },
    "scrolled": true,
    "tags": [
     "remove_input"
    ]
   },
   "outputs": [
    {
     "data": {
      "text/html": [
       "<style  type=\"text/css\" >\n",
       "    #T_025a0b44_e767_11ea_b8b9_0242ac180002 th {\n",
       "          text-align: center;\n",
       "    }#T_025a0b44_e767_11ea_b8b9_0242ac180002row0_col0,#T_025a0b44_e767_11ea_b8b9_0242ac180002row1_col0,#T_025a0b44_e767_11ea_b8b9_0242ac180002row2_col0,#T_025a0b44_e767_11ea_b8b9_0242ac180002row3_col0,#T_025a0b44_e767_11ea_b8b9_0242ac180002row4_col0,#T_025a0b44_e767_11ea_b8b9_0242ac180002row5_col0,#T_025a0b44_e767_11ea_b8b9_0242ac180002row6_col0,#T_025a0b44_e767_11ea_b8b9_0242ac180002row7_col0,#T_025a0b44_e767_11ea_b8b9_0242ac180002row8_col0,#T_025a0b44_e767_11ea_b8b9_0242ac180002row9_col0,#T_025a0b44_e767_11ea_b8b9_0242ac180002row10_col0,#T_025a0b44_e767_11ea_b8b9_0242ac180002row11_col0,#T_025a0b44_e767_11ea_b8b9_0242ac180002row12_col0,#T_025a0b44_e767_11ea_b8b9_0242ac180002row13_col0,#T_025a0b44_e767_11ea_b8b9_0242ac180002row14_col0,#T_025a0b44_e767_11ea_b8b9_0242ac180002row15_col0,#T_025a0b44_e767_11ea_b8b9_0242ac180002row16_col0{\n",
       "            width:  20em;\n",
       "            text-align:  center;\n",
       "            font-weight:  bold;\n",
       "        }#T_025a0b44_e767_11ea_b8b9_0242ac180002row0_col1,#T_025a0b44_e767_11ea_b8b9_0242ac180002row0_col2,#T_025a0b44_e767_11ea_b8b9_0242ac180002row1_col1,#T_025a0b44_e767_11ea_b8b9_0242ac180002row1_col2,#T_025a0b44_e767_11ea_b8b9_0242ac180002row2_col1,#T_025a0b44_e767_11ea_b8b9_0242ac180002row2_col2,#T_025a0b44_e767_11ea_b8b9_0242ac180002row3_col1,#T_025a0b44_e767_11ea_b8b9_0242ac180002row3_col2,#T_025a0b44_e767_11ea_b8b9_0242ac180002row4_col1,#T_025a0b44_e767_11ea_b8b9_0242ac180002row4_col2,#T_025a0b44_e767_11ea_b8b9_0242ac180002row5_col1,#T_025a0b44_e767_11ea_b8b9_0242ac180002row5_col2,#T_025a0b44_e767_11ea_b8b9_0242ac180002row6_col1,#T_025a0b44_e767_11ea_b8b9_0242ac180002row6_col2,#T_025a0b44_e767_11ea_b8b9_0242ac180002row7_col1,#T_025a0b44_e767_11ea_b8b9_0242ac180002row7_col2,#T_025a0b44_e767_11ea_b8b9_0242ac180002row8_col1,#T_025a0b44_e767_11ea_b8b9_0242ac180002row8_col2,#T_025a0b44_e767_11ea_b8b9_0242ac180002row9_col1,#T_025a0b44_e767_11ea_b8b9_0242ac180002row9_col2,#T_025a0b44_e767_11ea_b8b9_0242ac180002row10_col1,#T_025a0b44_e767_11ea_b8b9_0242ac180002row10_col2,#T_025a0b44_e767_11ea_b8b9_0242ac180002row11_col1,#T_025a0b44_e767_11ea_b8b9_0242ac180002row11_col2,#T_025a0b44_e767_11ea_b8b9_0242ac180002row12_col1,#T_025a0b44_e767_11ea_b8b9_0242ac180002row12_col2,#T_025a0b44_e767_11ea_b8b9_0242ac180002row13_col1,#T_025a0b44_e767_11ea_b8b9_0242ac180002row13_col2,#T_025a0b44_e767_11ea_b8b9_0242ac180002row14_col1,#T_025a0b44_e767_11ea_b8b9_0242ac180002row14_col2,#T_025a0b44_e767_11ea_b8b9_0242ac180002row15_col1,#T_025a0b44_e767_11ea_b8b9_0242ac180002row15_col2,#T_025a0b44_e767_11ea_b8b9_0242ac180002row16_col1,#T_025a0b44_e767_11ea_b8b9_0242ac180002row16_col2{\n",
       "            width:  20em;\n",
       "            text-align:  center;\n",
       "        }</style><table id=\"T_025a0b44_e767_11ea_b8b9_0242ac180002\" ><thead>    <tr>        <th class=\"col_heading level0 col0\" >Date</th>        <th class=\"col_heading level0 col1\" >Time</th>        <th class=\"col_heading level0 col2\" ></th>    </tr></thead><tbody>\n",
       "                <tr>\n",
       "                                <td id=\"T_025a0b44_e767_11ea_b8b9_0242ac180002row0_col0\" class=\"data row0 col0\" >2020-08-26</td>\n",
       "                        <td id=\"T_025a0b44_e767_11ea_b8b9_0242ac180002row0_col1\" class=\"data row0 col1\" >222.1</td>\n",
       "                        <td id=\"T_025a0b44_e767_11ea_b8b9_0242ac180002row0_col2\" class=\"data row0 col2\" > ✔</td>\n",
       "            </tr>\n",
       "            <tr>\n",
       "                                <td id=\"T_025a0b44_e767_11ea_b8b9_0242ac180002row1_col0\" class=\"data row1 col0\" >2020-08-26</td>\n",
       "                        <td id=\"T_025a0b44_e767_11ea_b8b9_0242ac180002row1_col1\" class=\"data row1 col1\" >222.1</td>\n",
       "                        <td id=\"T_025a0b44_e767_11ea_b8b9_0242ac180002row1_col2\" class=\"data row1 col2\" > ✔</td>\n",
       "            </tr>\n",
       "            <tr>\n",
       "                                <td id=\"T_025a0b44_e767_11ea_b8b9_0242ac180002row2_col0\" class=\"data row2 col0\" >2020-08-26</td>\n",
       "                        <td id=\"T_025a0b44_e767_11ea_b8b9_0242ac180002row2_col1\" class=\"data row2 col1\" >222.1</td>\n",
       "                        <td id=\"T_025a0b44_e767_11ea_b8b9_0242ac180002row2_col2\" class=\"data row2 col2\" > ✔</td>\n",
       "            </tr>\n",
       "            <tr>\n",
       "                                <td id=\"T_025a0b44_e767_11ea_b8b9_0242ac180002row3_col0\" class=\"data row3 col0\" >2020-08-26</td>\n",
       "                        <td id=\"T_025a0b44_e767_11ea_b8b9_0242ac180002row3_col1\" class=\"data row3 col1\" >23:18:03</td>\n",
       "                        <td id=\"T_025a0b44_e767_11ea_b8b9_0242ac180002row3_col2\" class=\"data row3 col2\" ></td>\n",
       "            </tr>\n",
       "            <tr>\n",
       "                                <td id=\"T_025a0b44_e767_11ea_b8b9_0242ac180002row4_col0\" class=\"data row4 col0\" >2020-08-26</td>\n",
       "                        <td id=\"T_025a0b44_e767_11ea_b8b9_0242ac180002row4_col1\" class=\"data row4 col1\" >23:17:03</td>\n",
       "                        <td id=\"T_025a0b44_e767_11ea_b8b9_0242ac180002row4_col2\" class=\"data row4 col2\" ></td>\n",
       "            </tr>\n",
       "            <tr>\n",
       "                                <td id=\"T_025a0b44_e767_11ea_b8b9_0242ac180002row5_col0\" class=\"data row5 col0\" >2020-08-26</td>\n",
       "                        <td id=\"T_025a0b44_e767_11ea_b8b9_0242ac180002row5_col1\" class=\"data row5 col1\" >23:16:03</td>\n",
       "                        <td id=\"T_025a0b44_e767_11ea_b8b9_0242ac180002row5_col2\" class=\"data row5 col2\" ></td>\n",
       "            </tr>\n",
       "            <tr>\n",
       "                                <td id=\"T_025a0b44_e767_11ea_b8b9_0242ac180002row6_col0\" class=\"data row6 col0\" >2020-08-26</td>\n",
       "                        <td id=\"T_025a0b44_e767_11ea_b8b9_0242ac180002row6_col1\" class=\"data row6 col1\" >23:15:04</td>\n",
       "                        <td id=\"T_025a0b44_e767_11ea_b8b9_0242ac180002row6_col2\" class=\"data row6 col2\" ></td>\n",
       "            </tr>\n",
       "            <tr>\n",
       "                                <td id=\"T_025a0b44_e767_11ea_b8b9_0242ac180002row7_col0\" class=\"data row7 col0\" >2020-08-26</td>\n",
       "                        <td id=\"T_025a0b44_e767_11ea_b8b9_0242ac180002row7_col1\" class=\"data row7 col1\" >23:13:46</td>\n",
       "                        <td id=\"T_025a0b44_e767_11ea_b8b9_0242ac180002row7_col2\" class=\"data row7 col2\" ></td>\n",
       "            </tr>\n",
       "            <tr>\n",
       "                                <td id=\"T_025a0b44_e767_11ea_b8b9_0242ac180002row8_col0\" class=\"data row8 col0\" >2020-08-26</td>\n",
       "                        <td id=\"T_025a0b44_e767_11ea_b8b9_0242ac180002row8_col1\" class=\"data row8 col1\" >22:57:26</td>\n",
       "                        <td id=\"T_025a0b44_e767_11ea_b8b9_0242ac180002row8_col2\" class=\"data row8 col2\" ></td>\n",
       "            </tr>\n",
       "            <tr>\n",
       "                                <td id=\"T_025a0b44_e767_11ea_b8b9_0242ac180002row9_col0\" class=\"data row9 col0\" >2020-08-26</td>\n",
       "                        <td id=\"T_025a0b44_e767_11ea_b8b9_0242ac180002row9_col1\" class=\"data row9 col1\" >22:54:28</td>\n",
       "                        <td id=\"T_025a0b44_e767_11ea_b8b9_0242ac180002row9_col2\" class=\"data row9 col2\" ></td>\n",
       "            </tr>\n",
       "            <tr>\n",
       "                                <td id=\"T_025a0b44_e767_11ea_b8b9_0242ac180002row10_col0\" class=\"data row10 col0\" >2020-08-26</td>\n",
       "                        <td id=\"T_025a0b44_e767_11ea_b8b9_0242ac180002row10_col1\" class=\"data row10 col1\" >22:40:42</td>\n",
       "                        <td id=\"T_025a0b44_e767_11ea_b8b9_0242ac180002row10_col2\" class=\"data row10 col2\" ></td>\n",
       "            </tr>\n",
       "            <tr>\n",
       "                                <td id=\"T_025a0b44_e767_11ea_b8b9_0242ac180002row11_col0\" class=\"data row11 col0\" >2020-08-26</td>\n",
       "                        <td id=\"T_025a0b44_e767_11ea_b8b9_0242ac180002row11_col1\" class=\"data row11 col1\" >22:12:23</td>\n",
       "                        <td id=\"T_025a0b44_e767_11ea_b8b9_0242ac180002row11_col2\" class=\"data row11 col2\" ></td>\n",
       "            </tr>\n",
       "            <tr>\n",
       "                                <td id=\"T_025a0b44_e767_11ea_b8b9_0242ac180002row12_col0\" class=\"data row12 col0\" >2020-08-26</td>\n",
       "                        <td id=\"T_025a0b44_e767_11ea_b8b9_0242ac180002row12_col1\" class=\"data row12 col1\" >20:23:02</td>\n",
       "                        <td id=\"T_025a0b44_e767_11ea_b8b9_0242ac180002row12_col2\" class=\"data row12 col2\" ></td>\n",
       "            </tr>\n",
       "            <tr>\n",
       "                                <td id=\"T_025a0b44_e767_11ea_b8b9_0242ac180002row13_col0\" class=\"data row13 col0\" >2020-08-26</td>\n",
       "                        <td id=\"T_025a0b44_e767_11ea_b8b9_0242ac180002row13_col1\" class=\"data row13 col1\" >20:14:20</td>\n",
       "                        <td id=\"T_025a0b44_e767_11ea_b8b9_0242ac180002row13_col2\" class=\"data row13 col2\" ></td>\n",
       "            </tr>\n",
       "            <tr>\n",
       "                                <td id=\"T_025a0b44_e767_11ea_b8b9_0242ac180002row14_col0\" class=\"data row14 col0\" >2020-08-26</td>\n",
       "                        <td id=\"T_025a0b44_e767_11ea_b8b9_0242ac180002row14_col1\" class=\"data row14 col1\" >20:11:24</td>\n",
       "                        <td id=\"T_025a0b44_e767_11ea_b8b9_0242ac180002row14_col2\" class=\"data row14 col2\" ></td>\n",
       "            </tr>\n",
       "            <tr>\n",
       "                                <td id=\"T_025a0b44_e767_11ea_b8b9_0242ac180002row15_col0\" class=\"data row15 col0\" >2020-08-26</td>\n",
       "                        <td id=\"T_025a0b44_e767_11ea_b8b9_0242ac180002row15_col1\" class=\"data row15 col1\" >19:18:55</td>\n",
       "                        <td id=\"T_025a0b44_e767_11ea_b8b9_0242ac180002row15_col2\" class=\"data row15 col2\" ></td>\n",
       "            </tr>\n",
       "            <tr>\n",
       "                                <td id=\"T_025a0b44_e767_11ea_b8b9_0242ac180002row16_col0\" class=\"data row16 col0\" >Date</td>\n",
       "                        <td id=\"T_025a0b44_e767_11ea_b8b9_0242ac180002row16_col1\" class=\"data row16 col1\" >Daily tests (per 100,000)¹</td>\n",
       "                        <td id=\"T_025a0b44_e767_11ea_b8b9_0242ac180002row16_col2\" class=\"data row16 col2\" >Ventilators (available (%)</td>\n",
       "            </tr>\n",
       "    </tbody></table>"
      ],
      "text/plain": [
       "<pandas.io.formats.style.Styler at 0x7f4240423580>"
      ]
     },
     "execution_count": 12,
     "metadata": {},
     "output_type": "execute_result"
    }
   ],
   "source": [
    "# Style the pandas dataframe\n",
    "d = dict(selector=\"th\",\n",
    "         props=[('text-align', 'center')])\n",
    "\n",
    "result.reset_index().style\\\n",
    "    .set_properties(**{'width':'20em', 'text-align':'center'})\\\n",
    "    .set_properties(subset=['Date'], **{'font-weight': 'bold'})\\\n",
    "    .set_table_styles([d])\\\n",
    "    .set_precision(1)\\\n",
    "    .hide_index()"
   ]
  },
  {
   "cell_type": "markdown",
   "metadata": {
    "papermill": {
     "duration": 0.015971,
     "end_time": "2020-08-25T19:00:23.490046",
     "exception": false,
     "start_time": "2020-08-25T19:00:23.474075",
     "status": "completed"
    },
    "tags": []
   },
   "source": [
    "<sup>Notes: (1) 7 day average with a 7-day lag. (2) 14 day average. (3) 7 day average with a 7-day lag. (4) Change in 3 day average.</sup>"
   ]
  },
  {
   "cell_type": "code",
   "execution_count": 13,
   "metadata": {
    "papermill": {
     "duration": 0.022987,
     "end_time": "2020-08-25T19:00:23.531023",
     "exception": false,
     "start_time": "2020-08-25T19:00:23.508036",
     "status": "completed"
    },
    "tags": [
     "remove_input"
    ]
   },
   "outputs": [
    {
     "data": {
      "text/markdown": [
       "Table last updated by CDPH on August 25, 2020."
      ],
      "text/plain": [
       "<IPython.core.display.Markdown object>"
      ]
     },
     "execution_count": 13,
     "metadata": {},
     "output_type": "execute_result"
    }
   ],
   "source": [
    "md(update_tag)"
   ]
  },
  {
   "cell_type": "markdown",
   "metadata": {
    "papermill": {
     "duration": 0.014988,
     "end_time": "2020-08-25T19:00:23.563004",
     "exception": false,
     "start_time": "2020-08-25T19:00:23.548016",
     "status": "completed"
    },
    "tags": []
   },
   "source": [
    "## Tracking county closures in Santa Barbara"
   ]
  },
  {
   "cell_type": "markdown",
   "metadata": {
    "papermill": {
     "duration": 0.018973,
     "end_time": "2020-08-25T19:00:23.597987",
     "exception": false,
     "start_time": "2020-08-25T19:00:23.579014",
     "status": "completed"
    },
    "tags": []
   },
   "source": [
    "The state of California is using a data-driven approach informed by scientific evidence to tailor its response to COVID-19. Three dimensions of concern are monitored to assess whether a county should be placed on the County Monitoring List:\n",
    " 1. Elevated Disease Transmission\n",
    " 2. Increasing Hospitalization\n",
    " 3. Limited Hospital Capacity\n",
    "\n",
    "Once a county appears on the County Monitoring List for three consecutive days, indoor operations in the sectors listed in Section 3 of the [July 13th State Health Officer Order](https://www.cdph.ca.gov/Programs/CID/DCDC/CDPH%20Document%20Library/COVID-19/SHO%20Order%20Dimming%20Entire%20State%207-13-2020.pdf) must close.\n",
    "\n",
    "This table tracks where Santa Barbara stands in terms of the criteria for inclusion on the County Monitoring List. As of 20 August 2020, the criteria for inclusion on the monitoring list are:\n",
    "\n",
    "* Case rate >100 OR (Case rate >25 AND Positivity >8%)\n",
    "* \\>10% increase in hospitalizations\n",
    "* <20% ICU beds available OR <25% ventilators available\n",
    "\n",
    "If Santa Barbara meets the criteria for removal from the County Monitoring List for a certain metric, then a checkmark ✔ is displayed in the table.\n",
    "\n",
    "Read more at <https://covid19.ca.gov/roadmap-counties/>.\n",
    "\n",
    "Data source for county metrics: https://www.cdph.ca.gov/Programs/CID/DCDC/Pages/COVID-19/COVID19CountyDataTable.aspx."
   ]
  },
  {
   "cell_type": "markdown",
   "metadata": {
    "papermill": {
     "duration": 0.01799,
     "end_time": "2020-08-25T19:00:23.635963",
     "exception": false,
     "start_time": "2020-08-25T19:00:23.617973",
     "status": "completed"
    },
    "tags": []
   },
   "source": [
    "**See the code used to scrape the data: https://github.com/walice/COVID-SB/.**"
   ]
  },
  {
   "cell_type": "code",
   "execution_count": 14,
   "metadata": {
    "papermill": {
     "duration": 0.029983,
     "end_time": "2020-08-25T19:00:23.687934",
     "exception": false,
     "start_time": "2020-08-25T19:00:23.657951",
     "status": "completed"
    },
    "tags": [
     "remove_cell"
    ]
   },
   "outputs": [
    {
     "data": {
      "application/javascript": [
       "IPython.notebook.save_notebook()\n"
      ],
      "text/plain": [
       "<IPython.core.display.Javascript object>"
      ]
     },
     "metadata": {},
     "output_type": "display_data"
    }
   ],
   "source": [
    "%%javascript\n",
    "IPython.notebook.save_notebook()"
   ]
  },
  {
   "cell_type": "code",
   "execution_count": 15,
   "metadata": {
    "execution": {
     "iopub.execute_input": "2020-08-25T19:00:23.858836Z",
     "iopub.status.busy": "2020-08-25T19:00:23.854840Z",
     "iopub.status.idle": "2020-08-25T19:00:25.884343Z",
     "shell.execute_reply": "2020-08-25T19:00:25.884343Z"
    },
    "papermill": {
     "duration": 2.155432,
     "end_time": "2020-08-25T19:00:25.884343",
     "exception": false,
     "start_time": "2020-08-25T19:00:23.728911",
     "status": "completed"
    },
    "slideshow": {
     "slide_type": "skip"
    },
    "tags": [
     "remove_cell"
    ]
   },
   "outputs": [
    {
     "name": "stdout",
     "output_type": "stream",
     "text": [
      "[NbConvertApp] Converting notebook index.ipynb to html\n",
      "[NbConvertApp] Writing 358333 bytes to index.html\n"
     ]
    }
   ],
   "source": [
    "# Convert Jupyter Notebook to HTML\n",
    "! jupyter nbconvert \"index.ipynb\" --to html --TagRemovePreprocessor.enabled=True --TagRemovePreprocessor.remove_cell_tags=\"['remove_cell']\" --TagRemovePreprocessor.remove_input_tags=\"['remove_input']\" --no-prompt"
   ]
  },
  {
   "cell_type": "code",
   "execution_count": 16,
   "metadata": {
    "execution": {
     "iopub.execute_input": "2020-08-25T19:00:25.941311Z",
     "iopub.status.busy": "2020-08-25T19:00:25.939314Z",
     "iopub.status.idle": "2020-08-25T19:00:25.945308Z",
     "shell.execute_reply": "2020-08-25T19:00:25.946307Z"
    },
    "papermill": {
     "duration": 0.036978,
     "end_time": "2020-08-25T19:00:25.946307",
     "exception": false,
     "start_time": "2020-08-25T19:00:25.909329",
     "status": "completed"
    },
    "tags": [
     "remove_cell"
    ]
   },
   "outputs": [],
   "source": [
    "# Create daily commit message\n",
    "now = datetime.datetime.now()\n",
    "commit_message = \"Last scraped on \" + str(now)"
   ]
  },
  {
   "cell_type": "code",
   "execution_count": 20,
   "metadata": {
    "execution": {
     "iopub.execute_input": "2020-08-25T19:00:26.048251Z",
     "iopub.status.busy": "2020-08-25T19:00:26.046254Z",
     "iopub.status.idle": "2020-08-25T19:00:32.252111Z",
     "shell.execute_reply": "2020-08-25T19:00:32.251109Z"
    },
    "papermill": {
     "duration": 6.284813,
     "end_time": "2020-08-25T19:00:32.252111",
     "exception": false,
     "start_time": "2020-08-25T19:00:25.967298",
     "status": "completed"
    },
    "tags": [
     "remove_cell"
    ]
   },
   "outputs": [
    {
     "name": "stdout",
     "output_type": "stream",
     "text": [
      "\n",
      "*** Please tell me who you are.\n",
      "\n",
      "Run\n",
      "\n",
      "  git config --global user.email \"you@example.com\"\n",
      "  git config --global user.name \"Your Name\"\n",
      "\n",
      "to set your account's default identity.\n",
      "Omit --global to set the identity only in this repository.\n",
      "\n",
      "fatal: unable to auto-detect email address (got 'jovyan@c24ab084f584.(none)')\n",
      "Username for 'https://github.com': ^C\n"
     ]
    }
   ],
   "source": [
    "# Deploy to GitHub\n",
    "! git add .\n",
    "! echo $commit_message > commit_message.txt\n",
    "! git commit -F commit_message.txt\n",
    "! git push"
   ]
  }
 ],
 "metadata": {
  "celltoolbar": "Tags",
  "kernelspec": {
   "display_name": "Python 3",
   "language": "python",
   "name": "python3"
  },
  "language_info": {
   "codemirror_mode": {
    "name": "ipython",
    "version": 3
   },
   "file_extension": ".py",
   "mimetype": "text/x-python",
   "name": "python",
   "nbconvert_exporter": "python",
   "pygments_lexer": "ipython3",
   "version": "3.8.5"
  },
  "papermill": {
   "duration": 26.18827,
   "end_time": "2020-08-25T19:00:32.713913",
   "environment_variables": {},
   "exception": null,
   "input_path": "C:/Users/Alice/Box Sync/PhD/Software/Python/COVID/COVID-SB/index.ipynb",
   "output_path": "C:/Users/Alice/Box Sync/PhD/Software/Python/COVID/COVID-SB/index.ipynb",
   "parameters": {},
   "start_time": "2020-08-25T19:00:06.525643",
   "version": "2.1.3"
  }
 },
 "nbformat": 4,
 "nbformat_minor": 4
}
