{
 "cells": [
  {
   "cell_type": "markdown",
   "metadata": {
    "papermill": {
     "duration": 0.01079,
     "end_time": "2020-08-26T19:58:05.242808",
     "exception": false,
     "start_time": "2020-08-26T19:58:05.232018",
     "status": "completed"
    },
    "tags": []
   },
   "source": [
    "# Daily COVID monitoring data for Santa Barbara county"
   ]
  },
  {
   "cell_type": "code",
   "execution_count": 1,
   "metadata": {
    "execution": {
     "iopub.execute_input": "2020-08-26T19:58:05.270257Z",
     "iopub.status.busy": "2020-08-26T19:58:05.269706Z",
     "iopub.status.idle": "2020-08-26T19:58:05.383041Z",
     "shell.execute_reply": "2020-08-26T19:58:05.382134Z"
    },
    "papermill": {
     "duration": 0.130351,
     "end_time": "2020-08-26T19:58:05.383197",
     "exception": false,
     "start_time": "2020-08-26T19:58:05.252846",
     "status": "completed"
    },
    "tags": [
     "remove_cell"
    ]
   },
   "outputs": [
    {
     "name": "stdout",
     "output_type": "stream",
     "text": [
      "/bin/sh: 1: jt: not found\r\n"
     ]
    }
   ],
   "source": [
    "! jt -t grade3 -tf robotosans -cellw 1100"
   ]
  },
  {
   "cell_type": "markdown",
   "metadata": {
    "papermill": {
     "duration": 0.009694,
     "end_time": "2020-08-26T19:58:05.403213",
     "exception": false,
     "start_time": "2020-08-26T19:58:05.393519",
     "status": "completed"
    },
    "tags": []
   },
   "source": [
    "This table is automatically updated with new daily COVID data for the county of Santa Barbara, CA. Every day, the California Department of Public Health publishes COVID tracking metrics for each county, but does not save the previous day's data. This tool keeps track of the daily metrics that are used to monitor progress towards safe reopening in California."
   ]
  },
  {
   "cell_type": "code",
   "execution_count": 2,
   "metadata": {
    "execution": {
     "iopub.execute_input": "2020-08-26T19:58:05.431536Z",
     "iopub.status.busy": "2020-08-26T19:58:05.430997Z",
     "iopub.status.idle": "2020-08-26T19:58:08.447955Z",
     "shell.execute_reply": "2020-08-26T19:58:08.448846Z"
    },
    "papermill": {
     "duration": 3.03618,
     "end_time": "2020-08-26T19:58:08.449021",
     "exception": false,
     "start_time": "2020-08-26T19:58:05.412841",
     "status": "completed"
    },
    "slideshow": {
     "slide_type": "skip"
    },
    "tags": [
     "remove_cell"
    ]
   },
   "outputs": [],
   "source": [
    "# Preamble\n",
    "import os\n",
    "from IPython.display import Markdown as md\n",
    "import IPython\n",
    "import requests\n",
    "from bs4 import BeautifulSoup\n",
    "import re\n",
    "import pandas as pd\n",
    "import datetime\n",
    "import gspread\n",
    "from oauth2client.service_account import ServiceAccountCredentials"
   ]
  },
  {
   "cell_type": "code",
   "execution_count": 3,
   "metadata": {
    "execution": {
     "iopub.execute_input": "2020-08-26T19:58:08.475509Z",
     "iopub.status.busy": "2020-08-26T19:58:08.474912Z",
     "iopub.status.idle": "2020-08-26T19:58:08.476361Z",
     "shell.execute_reply": "2020-08-26T19:58:08.475964Z"
    },
    "papermill": {
     "duration": 0.01695,
     "end_time": "2020-08-26T19:58:08.476473",
     "exception": false,
     "start_time": "2020-08-26T19:58:08.459523",
     "status": "completed"
    },
    "tags": []
   },
   "outputs": [],
   "source": [
    "# Set working directory\n",
    "os.chdir(\"/home/alice_lepissier/cron-job\")"
   ]
  },
  {
   "cell_type": "code",
   "execution_count": 4,
   "metadata": {
    "execution": {
     "iopub.execute_input": "2020-08-26T19:58:08.502550Z",
     "iopub.status.busy": "2020-08-26T19:58:08.501951Z",
     "iopub.status.idle": "2020-08-26T19:58:08.799545Z",
     "shell.execute_reply": "2020-08-26T19:58:08.800351Z"
    },
    "papermill": {
     "duration": 0.314345,
     "end_time": "2020-08-26T19:58:08.800514",
     "exception": false,
     "start_time": "2020-08-26T19:58:08.486169",
     "status": "completed"
    },
    "slideshow": {
     "slide_type": "skip"
    },
    "tags": [
     "remove_cell"
    ]
   },
   "outputs": [],
   "source": [
    "# Request content from URL\n",
    "html_string = requests.get('https://www.cdph.ca.gov/Programs/CID/DCDC/Pages/COVID-19/COVID19CountyDataTable.aspx').content"
   ]
  },
  {
   "cell_type": "code",
   "execution_count": 5,
   "metadata": {
    "execution": {
     "iopub.execute_input": "2020-08-26T19:58:08.831512Z",
     "iopub.status.busy": "2020-08-26T19:58:08.830996Z",
     "iopub.status.idle": "2020-08-26T19:58:08.921524Z",
     "shell.execute_reply": "2020-08-26T19:58:08.922388Z"
    },
    "papermill": {
     "duration": 0.110266,
     "end_time": "2020-08-26T19:58:08.922560",
     "exception": false,
     "start_time": "2020-08-26T19:58:08.812294",
     "status": "completed"
    },
    "slideshow": {
     "slide_type": "skip"
    },
    "tags": [
     "remove_cell"
    ]
   },
   "outputs": [],
   "source": [
    "# Parse HTML\n",
    "soup = BeautifulSoup(html_string, 'html.parser')"
   ]
  },
  {
   "cell_type": "code",
   "execution_count": 6,
   "metadata": {
    "execution": {
     "iopub.execute_input": "2020-08-26T19:58:08.952717Z",
     "iopub.status.busy": "2020-08-26T19:58:08.952212Z",
     "iopub.status.idle": "2020-08-26T19:58:08.957521Z",
     "shell.execute_reply": "2020-08-26T19:58:08.958258Z"
    },
    "papermill": {
     "duration": 0.025612,
     "end_time": "2020-08-26T19:58:08.958410",
     "exception": false,
     "start_time": "2020-08-26T19:58:08.932798",
     "status": "completed"
    },
    "slideshow": {
     "slide_type": "skip"
    },
    "tags": [
     "remove_cell"
    ]
   },
   "outputs": [],
   "source": [
    "# Extract data for Santa Barbara\n",
    "table = soup.find_all(\"tr\", class_=\"ms-rteTableEvenRow-3\")\n",
    "SB = table[21]"
   ]
  },
  {
   "cell_type": "code",
   "execution_count": 7,
   "metadata": {
    "execution": {
     "iopub.execute_input": "2020-08-26T19:58:08.988911Z",
     "iopub.status.busy": "2020-08-26T19:58:08.988335Z",
     "iopub.status.idle": "2020-08-26T19:58:08.998420Z",
     "shell.execute_reply": "2020-08-26T19:58:08.999208Z"
    },
    "papermill": {
     "duration": 0.031064,
     "end_time": "2020-08-26T19:58:08.999370",
     "exception": false,
     "start_time": "2020-08-26T19:58:08.968306",
     "status": "completed"
    },
    "slideshow": {
     "slide_type": "skip"
    },
    "tags": [
     "remove_cell"
    ]
   },
   "outputs": [],
   "source": [
    "# Avg # tests per day (per 100,000 population)\n",
    "daily_tests = SB.find_all(\"td\", class_=\"ms-rteTableOddCol-3\")[0].text\n",
    "\n",
    "# Case rate per 100,000\n",
    "case_rate = SB.find_all(\"td\", class_=\"ms-rteTableEvenCol-3\")[1].text\n",
    "\n",
    "# Testing positivity (%)\n",
    "test_positivity = SB.find_all(\"td\", class_=\"ms-rteTableOddCol-3\")[1].text\n",
    "\n",
    "# % Change in 3-day avg COVID+ hospitalized patients\n",
    "change_hospit = SB.find_all(\"td\", class_=\"ms-rteTableEvenCol-3\")[2].text\n",
    "\n",
    "# % ICU beds currently available\n",
    "ICU_beds = SB.find_all(\"td\", class_=\"ms-rteTableOddCol-3\")[2].text\n",
    "\n",
    "# % Ventilators currently available\n",
    "ventilators = SB.find_all(\"td\", class_=\"ms-rteTableEvenCol-3\")[3].text\n",
    "\n",
    "# Extract date of last update\n",
    "update_date = soup.find_all(\"span\", class_=\"ms-rteStyle-Accent1\")[1]\\\n",
    "    .find(\"em\").text"
   ]
  },
  {
   "cell_type": "code",
   "execution_count": 8,
   "metadata": {
    "execution": {
     "iopub.execute_input": "2020-08-26T19:58:09.024993Z",
     "iopub.status.busy": "2020-08-26T19:58:09.024396Z",
     "iopub.status.idle": "2020-08-26T19:58:09.025824Z",
     "shell.execute_reply": "2020-08-26T19:58:09.025423Z"
    },
    "papermill": {
     "duration": 0.016349,
     "end_time": "2020-08-26T19:58:09.025936",
     "exception": false,
     "start_time": "2020-08-26T19:58:09.009587",
     "status": "completed"
    },
    "tags": [
     "remove_cell"
    ]
   },
   "outputs": [],
   "source": [
    "# Create updated date string\n",
    "update_tag = \"Table last updated by CDPH on \" + update_date.split(\" on \", 1)[1] + \".\""
   ]
  },
  {
   "cell_type": "code",
   "execution_count": 9,
   "metadata": {
    "execution": {
     "iopub.execute_input": "2020-08-26T19:58:09.049400Z",
     "iopub.status.busy": "2020-08-26T19:58:09.048925Z",
     "iopub.status.idle": "2020-08-26T19:58:09.066788Z",
     "shell.execute_reply": "2020-08-26T19:58:09.067530Z"
    },
    "papermill": {
     "duration": 0.032055,
     "end_time": "2020-08-26T19:58:09.067684",
     "exception": false,
     "start_time": "2020-08-26T19:58:09.035629",
     "status": "completed"
    },
    "slideshow": {
     "slide_type": "skip"
    },
    "tags": [
     "remove_cell"
    ]
   },
   "outputs": [],
   "source": [
    "# Set up Google Sheet API\n",
    "scope = [\"https://spreadsheets.google.com/feeds\",'https://www.googleapis.com/auth/spreadsheets',\"https://www.googleapis.com/auth/drive.file\",\"https://www.googleapis.com/auth/drive\"]\n",
    "creds = ServiceAccountCredentials.from_json_keyfile_name(\"credentials.json\", scope)\n",
    "client = gspread.authorize(creds)"
   ]
  },
  {
   "cell_type": "code",
   "execution_count": 10,
   "metadata": {
    "execution": {
     "iopub.execute_input": "2020-08-26T19:58:09.092504Z",
     "iopub.status.busy": "2020-08-26T19:58:09.092026Z",
     "iopub.status.idle": "2020-08-26T19:58:09.991851Z",
     "shell.execute_reply": "2020-08-26T19:58:09.992547Z"
    },
    "papermill": {
     "duration": 0.915049,
     "end_time": "2020-08-26T19:58:09.992726",
     "exception": false,
     "start_time": "2020-08-26T19:58:09.077677",
     "status": "completed"
    },
    "slideshow": {
     "slide_type": "skip"
    },
    "tags": [
     "remove_cell"
    ]
   },
   "outputs": [
    {
     "data": {
      "text/plain": [
       "{'spreadsheetId': '1pcqdMzKtea2Oq3BDmdAOQ21gZjCssieKI0692VfNLXU',\n",
       " 'updatedRange': 'Sheet1!A2:G2',\n",
       " 'updatedRows': 1,\n",
       " 'updatedColumns': 7,\n",
       " 'updatedCells': 7}"
      ]
     },
     "execution_count": 10,
     "metadata": {},
     "output_type": "execute_result"
    }
   ],
   "source": [
    "# Append daily data as a new row in Google Sheet\n",
    "sheet = client.open(\"Test cron job\").sheet1\n",
    "insertRow = [datetime.date.today().strftime(\"%Y-%m-%d\"),\n",
    "             daily_tests,\n",
    "             case_rate,\n",
    "             test_positivity,\n",
    "             change_hospit,\n",
    "             ICU_beds,\n",
    "             ventilators]\n",
    "sheet.insert_row(insertRow, 2)"
   ]
  },
  {
   "cell_type": "code",
   "execution_count": 11,
   "metadata": {
    "execution": {
     "iopub.execute_input": "2020-08-26T19:58:10.018413Z",
     "iopub.status.busy": "2020-08-26T19:58:10.017879Z",
     "iopub.status.idle": "2020-08-26T19:58:10.623569Z",
     "shell.execute_reply": "2020-08-26T19:58:10.624433Z"
    },
    "papermill": {
     "duration": 0.621402,
     "end_time": "2020-08-26T19:58:10.624604",
     "exception": false,
     "start_time": "2020-08-26T19:58:10.003202",
     "status": "completed"
    },
    "scrolled": true,
    "slideshow": {
     "slide_type": "slide"
    },
    "tags": [
     "remove_cell"
    ]
   },
   "outputs": [],
   "source": [
    "# Extract data from Google Sheet as pandas dataframe\n",
    "sheet = client.open(\"Test cron job\").sheet1\n",
    "data = sheet.get_all_records()\n",
    "result = pd.DataFrame(data).set_index(\"Date\")"
   ]
  },
  {
   "cell_type": "code",
   "execution_count": 12,
   "metadata": {
    "execution": {
     "iopub.execute_input": "2020-08-26T19:58:10.651564Z",
     "iopub.status.busy": "2020-08-26T19:58:10.651021Z",
     "iopub.status.idle": "2020-08-26T19:58:11.831905Z",
     "shell.execute_reply": "2020-08-26T19:58:11.832601Z"
    },
    "papermill": {
     "duration": 1.197545,
     "end_time": "2020-08-26T19:58:11.832754",
     "exception": false,
     "start_time": "2020-08-26T19:58:10.635209",
     "status": "completed"
    },
    "scrolled": true,
    "tags": [
     "remove_input"
    ]
   },
   "outputs": [
    {
     "data": {
      "text/html": [
       "<style  type=\"text/css\" >\n",
       "    #T_78755580_e7d6_11ea_9396_42010a8a0004 th {\n",
       "          text-align: center;\n",
       "    }#T_78755580_e7d6_11ea_9396_42010a8a0004row0_col0,#T_78755580_e7d6_11ea_9396_42010a8a0004row1_col0,#T_78755580_e7d6_11ea_9396_42010a8a0004row2_col0,#T_78755580_e7d6_11ea_9396_42010a8a0004row3_col0,#T_78755580_e7d6_11ea_9396_42010a8a0004row4_col0,#T_78755580_e7d6_11ea_9396_42010a8a0004row5_col0,#T_78755580_e7d6_11ea_9396_42010a8a0004row6_col0,#T_78755580_e7d6_11ea_9396_42010a8a0004row7_col0,#T_78755580_e7d6_11ea_9396_42010a8a0004row8_col0,#T_78755580_e7d6_11ea_9396_42010a8a0004row9_col0,#T_78755580_e7d6_11ea_9396_42010a8a0004row10_col0,#T_78755580_e7d6_11ea_9396_42010a8a0004row11_col0,#T_78755580_e7d6_11ea_9396_42010a8a0004row12_col0,#T_78755580_e7d6_11ea_9396_42010a8a0004row13_col0,#T_78755580_e7d6_11ea_9396_42010a8a0004row14_col0,#T_78755580_e7d6_11ea_9396_42010a8a0004row15_col0{\n",
       "            width:  20em;\n",
       "            text-align:  center;\n",
       "            font-weight:  bold;\n",
       "        }#T_78755580_e7d6_11ea_9396_42010a8a0004row0_col1,#T_78755580_e7d6_11ea_9396_42010a8a0004row0_col2,#T_78755580_e7d6_11ea_9396_42010a8a0004row0_col3,#T_78755580_e7d6_11ea_9396_42010a8a0004row0_col4,#T_78755580_e7d6_11ea_9396_42010a8a0004row0_col5,#T_78755580_e7d6_11ea_9396_42010a8a0004row0_col6,#T_78755580_e7d6_11ea_9396_42010a8a0004row1_col1,#T_78755580_e7d6_11ea_9396_42010a8a0004row1_col2,#T_78755580_e7d6_11ea_9396_42010a8a0004row1_col3,#T_78755580_e7d6_11ea_9396_42010a8a0004row1_col4,#T_78755580_e7d6_11ea_9396_42010a8a0004row1_col5,#T_78755580_e7d6_11ea_9396_42010a8a0004row1_col6,#T_78755580_e7d6_11ea_9396_42010a8a0004row2_col1,#T_78755580_e7d6_11ea_9396_42010a8a0004row2_col2,#T_78755580_e7d6_11ea_9396_42010a8a0004row2_col3,#T_78755580_e7d6_11ea_9396_42010a8a0004row2_col4,#T_78755580_e7d6_11ea_9396_42010a8a0004row2_col5,#T_78755580_e7d6_11ea_9396_42010a8a0004row2_col6,#T_78755580_e7d6_11ea_9396_42010a8a0004row3_col1,#T_78755580_e7d6_11ea_9396_42010a8a0004row3_col2,#T_78755580_e7d6_11ea_9396_42010a8a0004row3_col3,#T_78755580_e7d6_11ea_9396_42010a8a0004row3_col4,#T_78755580_e7d6_11ea_9396_42010a8a0004row3_col5,#T_78755580_e7d6_11ea_9396_42010a8a0004row3_col6,#T_78755580_e7d6_11ea_9396_42010a8a0004row4_col1,#T_78755580_e7d6_11ea_9396_42010a8a0004row4_col2,#T_78755580_e7d6_11ea_9396_42010a8a0004row4_col3,#T_78755580_e7d6_11ea_9396_42010a8a0004row4_col4,#T_78755580_e7d6_11ea_9396_42010a8a0004row4_col5,#T_78755580_e7d6_11ea_9396_42010a8a0004row4_col6,#T_78755580_e7d6_11ea_9396_42010a8a0004row5_col1,#T_78755580_e7d6_11ea_9396_42010a8a0004row5_col2,#T_78755580_e7d6_11ea_9396_42010a8a0004row5_col3,#T_78755580_e7d6_11ea_9396_42010a8a0004row5_col4,#T_78755580_e7d6_11ea_9396_42010a8a0004row5_col5,#T_78755580_e7d6_11ea_9396_42010a8a0004row5_col6,#T_78755580_e7d6_11ea_9396_42010a8a0004row6_col1,#T_78755580_e7d6_11ea_9396_42010a8a0004row6_col2,#T_78755580_e7d6_11ea_9396_42010a8a0004row6_col3,#T_78755580_e7d6_11ea_9396_42010a8a0004row6_col4,#T_78755580_e7d6_11ea_9396_42010a8a0004row6_col5,#T_78755580_e7d6_11ea_9396_42010a8a0004row6_col6,#T_78755580_e7d6_11ea_9396_42010a8a0004row7_col1,#T_78755580_e7d6_11ea_9396_42010a8a0004row7_col2,#T_78755580_e7d6_11ea_9396_42010a8a0004row7_col3,#T_78755580_e7d6_11ea_9396_42010a8a0004row7_col4,#T_78755580_e7d6_11ea_9396_42010a8a0004row7_col5,#T_78755580_e7d6_11ea_9396_42010a8a0004row7_col6,#T_78755580_e7d6_11ea_9396_42010a8a0004row8_col1,#T_78755580_e7d6_11ea_9396_42010a8a0004row8_col2,#T_78755580_e7d6_11ea_9396_42010a8a0004row8_col3,#T_78755580_e7d6_11ea_9396_42010a8a0004row8_col4,#T_78755580_e7d6_11ea_9396_42010a8a0004row8_col5,#T_78755580_e7d6_11ea_9396_42010a8a0004row8_col6,#T_78755580_e7d6_11ea_9396_42010a8a0004row9_col1,#T_78755580_e7d6_11ea_9396_42010a8a0004row9_col2,#T_78755580_e7d6_11ea_9396_42010a8a0004row9_col3,#T_78755580_e7d6_11ea_9396_42010a8a0004row9_col4,#T_78755580_e7d6_11ea_9396_42010a8a0004row9_col5,#T_78755580_e7d6_11ea_9396_42010a8a0004row9_col6,#T_78755580_e7d6_11ea_9396_42010a8a0004row10_col1,#T_78755580_e7d6_11ea_9396_42010a8a0004row10_col2,#T_78755580_e7d6_11ea_9396_42010a8a0004row10_col3,#T_78755580_e7d6_11ea_9396_42010a8a0004row10_col4,#T_78755580_e7d6_11ea_9396_42010a8a0004row10_col5,#T_78755580_e7d6_11ea_9396_42010a8a0004row10_col6,#T_78755580_e7d6_11ea_9396_42010a8a0004row11_col1,#T_78755580_e7d6_11ea_9396_42010a8a0004row11_col2,#T_78755580_e7d6_11ea_9396_42010a8a0004row11_col3,#T_78755580_e7d6_11ea_9396_42010a8a0004row11_col4,#T_78755580_e7d6_11ea_9396_42010a8a0004row11_col5,#T_78755580_e7d6_11ea_9396_42010a8a0004row11_col6,#T_78755580_e7d6_11ea_9396_42010a8a0004row12_col1,#T_78755580_e7d6_11ea_9396_42010a8a0004row12_col2,#T_78755580_e7d6_11ea_9396_42010a8a0004row12_col3,#T_78755580_e7d6_11ea_9396_42010a8a0004row12_col4,#T_78755580_e7d6_11ea_9396_42010a8a0004row12_col5,#T_78755580_e7d6_11ea_9396_42010a8a0004row12_col6,#T_78755580_e7d6_11ea_9396_42010a8a0004row13_col1,#T_78755580_e7d6_11ea_9396_42010a8a0004row13_col2,#T_78755580_e7d6_11ea_9396_42010a8a0004row13_col3,#T_78755580_e7d6_11ea_9396_42010a8a0004row13_col4,#T_78755580_e7d6_11ea_9396_42010a8a0004row13_col5,#T_78755580_e7d6_11ea_9396_42010a8a0004row13_col6,#T_78755580_e7d6_11ea_9396_42010a8a0004row14_col1,#T_78755580_e7d6_11ea_9396_42010a8a0004row14_col2,#T_78755580_e7d6_11ea_9396_42010a8a0004row14_col3,#T_78755580_e7d6_11ea_9396_42010a8a0004row14_col4,#T_78755580_e7d6_11ea_9396_42010a8a0004row14_col5,#T_78755580_e7d6_11ea_9396_42010a8a0004row14_col6,#T_78755580_e7d6_11ea_9396_42010a8a0004row15_col1,#T_78755580_e7d6_11ea_9396_42010a8a0004row15_col2,#T_78755580_e7d6_11ea_9396_42010a8a0004row15_col3,#T_78755580_e7d6_11ea_9396_42010a8a0004row15_col4,#T_78755580_e7d6_11ea_9396_42010a8a0004row15_col5,#T_78755580_e7d6_11ea_9396_42010a8a0004row15_col6{\n",
       "            width:  20em;\n",
       "            text-align:  center;\n",
       "        }</style><table id=\"T_78755580_e7d6_11ea_9396_42010a8a0004\" ><thead>    <tr>        <th class=\"col_heading level0 col0\" >Date</th>        <th class=\"col_heading level0 col1\" >Daily tests (per 100,000)¹</th>        <th class=\"col_heading level0 col2\" >Case rate (per 100,000)²</th>        <th class=\"col_heading level0 col3\" >Testing positivity (%)³</th>        <th class=\"col_heading level0 col4\" >Change in hospitalizations (%)⁴</th>        <th class=\"col_heading level0 col5\" >ICU beds available (%)</th>        <th class=\"col_heading level0 col6\" >Ventilators (available (%)</th>    </tr></thead><tbody>\n",
       "                <tr>\n",
       "                                <td id=\"T_78755580_e7d6_11ea_9396_42010a8a0004row0_col0\" class=\"data row0 col0\" >2020-08-26</td>\n",
       "                        <td id=\"T_78755580_e7d6_11ea_9396_42010a8a0004row0_col1\" class=\"data row0 col1\" >219.7</td>\n",
       "                        <td id=\"T_78755580_e7d6_11ea_9396_42010a8a0004row0_col2\" class=\"data row0 col2\" >133.2</td>\n",
       "                        <td id=\"T_78755580_e7d6_11ea_9396_42010a8a0004row0_col3\" class=\"data row0 col3\" > ✔</td>\n",
       "                        <td id=\"T_78755580_e7d6_11ea_9396_42010a8a0004row0_col4\" class=\"data row0 col4\" > ✔</td>\n",
       "                        <td id=\"T_78755580_e7d6_11ea_9396_42010a8a0004row0_col5\" class=\"data row0 col5\" > ✔</td>\n",
       "                        <td id=\"T_78755580_e7d6_11ea_9396_42010a8a0004row0_col6\" class=\"data row0 col6\" > ✔</td>\n",
       "            </tr>\n",
       "            <tr>\n",
       "                                <td id=\"T_78755580_e7d6_11ea_9396_42010a8a0004row1_col0\" class=\"data row1 col0\" >2020-08-26</td>\n",
       "                        <td id=\"T_78755580_e7d6_11ea_9396_42010a8a0004row1_col1\" class=\"data row1 col1\" >219.7</td>\n",
       "                        <td id=\"T_78755580_e7d6_11ea_9396_42010a8a0004row1_col2\" class=\"data row1 col2\" >133.2</td>\n",
       "                        <td id=\"T_78755580_e7d6_11ea_9396_42010a8a0004row1_col3\" class=\"data row1 col3\" > ✔</td>\n",
       "                        <td id=\"T_78755580_e7d6_11ea_9396_42010a8a0004row1_col4\" class=\"data row1 col4\" > ✔</td>\n",
       "                        <td id=\"T_78755580_e7d6_11ea_9396_42010a8a0004row1_col5\" class=\"data row1 col5\" > ✔</td>\n",
       "                        <td id=\"T_78755580_e7d6_11ea_9396_42010a8a0004row1_col6\" class=\"data row1 col6\" > ✔</td>\n",
       "            </tr>\n",
       "            <tr>\n",
       "                                <td id=\"T_78755580_e7d6_11ea_9396_42010a8a0004row2_col0\" class=\"data row2 col0\" >2020-08-26</td>\n",
       "                        <td id=\"T_78755580_e7d6_11ea_9396_42010a8a0004row2_col1\" class=\"data row2 col1\" >219.7</td>\n",
       "                        <td id=\"T_78755580_e7d6_11ea_9396_42010a8a0004row2_col2\" class=\"data row2 col2\" >133.2</td>\n",
       "                        <td id=\"T_78755580_e7d6_11ea_9396_42010a8a0004row2_col3\" class=\"data row2 col3\" > ✔</td>\n",
       "                        <td id=\"T_78755580_e7d6_11ea_9396_42010a8a0004row2_col4\" class=\"data row2 col4\" > ✔</td>\n",
       "                        <td id=\"T_78755580_e7d6_11ea_9396_42010a8a0004row2_col5\" class=\"data row2 col5\" > ✔</td>\n",
       "                        <td id=\"T_78755580_e7d6_11ea_9396_42010a8a0004row2_col6\" class=\"data row2 col6\" > ✔</td>\n",
       "            </tr>\n",
       "            <tr>\n",
       "                                <td id=\"T_78755580_e7d6_11ea_9396_42010a8a0004row3_col0\" class=\"data row3 col0\" >2020-08-26</td>\n",
       "                        <td id=\"T_78755580_e7d6_11ea_9396_42010a8a0004row3_col1\" class=\"data row3 col1\" >219.7</td>\n",
       "                        <td id=\"T_78755580_e7d6_11ea_9396_42010a8a0004row3_col2\" class=\"data row3 col2\" >133.2</td>\n",
       "                        <td id=\"T_78755580_e7d6_11ea_9396_42010a8a0004row3_col3\" class=\"data row3 col3\" > ✔</td>\n",
       "                        <td id=\"T_78755580_e7d6_11ea_9396_42010a8a0004row3_col4\" class=\"data row3 col4\" > ✔</td>\n",
       "                        <td id=\"T_78755580_e7d6_11ea_9396_42010a8a0004row3_col5\" class=\"data row3 col5\" > ✔</td>\n",
       "                        <td id=\"T_78755580_e7d6_11ea_9396_42010a8a0004row3_col6\" class=\"data row3 col6\" > ✔</td>\n",
       "            </tr>\n",
       "            <tr>\n",
       "                                <td id=\"T_78755580_e7d6_11ea_9396_42010a8a0004row4_col0\" class=\"data row4 col0\" >2020-08-26</td>\n",
       "                        <td id=\"T_78755580_e7d6_11ea_9396_42010a8a0004row4_col1\" class=\"data row4 col1\" >219.7</td>\n",
       "                        <td id=\"T_78755580_e7d6_11ea_9396_42010a8a0004row4_col2\" class=\"data row4 col2\" >133.2</td>\n",
       "                        <td id=\"T_78755580_e7d6_11ea_9396_42010a8a0004row4_col3\" class=\"data row4 col3\" > ✔</td>\n",
       "                        <td id=\"T_78755580_e7d6_11ea_9396_42010a8a0004row4_col4\" class=\"data row4 col4\" > ✔</td>\n",
       "                        <td id=\"T_78755580_e7d6_11ea_9396_42010a8a0004row4_col5\" class=\"data row4 col5\" > ✔</td>\n",
       "                        <td id=\"T_78755580_e7d6_11ea_9396_42010a8a0004row4_col6\" class=\"data row4 col6\" > ✔</td>\n",
       "            </tr>\n",
       "            <tr>\n",
       "                                <td id=\"T_78755580_e7d6_11ea_9396_42010a8a0004row5_col0\" class=\"data row5 col0\" >2020-08-26</td>\n",
       "                        <td id=\"T_78755580_e7d6_11ea_9396_42010a8a0004row5_col1\" class=\"data row5 col1\" >219.7</td>\n",
       "                        <td id=\"T_78755580_e7d6_11ea_9396_42010a8a0004row5_col2\" class=\"data row5 col2\" >133.2</td>\n",
       "                        <td id=\"T_78755580_e7d6_11ea_9396_42010a8a0004row5_col3\" class=\"data row5 col3\" > ✔</td>\n",
       "                        <td id=\"T_78755580_e7d6_11ea_9396_42010a8a0004row5_col4\" class=\"data row5 col4\" > ✔</td>\n",
       "                        <td id=\"T_78755580_e7d6_11ea_9396_42010a8a0004row5_col5\" class=\"data row5 col5\" > ✔</td>\n",
       "                        <td id=\"T_78755580_e7d6_11ea_9396_42010a8a0004row5_col6\" class=\"data row5 col6\" > ✔</td>\n",
       "            </tr>\n",
       "            <tr>\n",
       "                                <td id=\"T_78755580_e7d6_11ea_9396_42010a8a0004row6_col0\" class=\"data row6 col0\" >2020-08-26</td>\n",
       "                        <td id=\"T_78755580_e7d6_11ea_9396_42010a8a0004row6_col1\" class=\"data row6 col1\" >219.7</td>\n",
       "                        <td id=\"T_78755580_e7d6_11ea_9396_42010a8a0004row6_col2\" class=\"data row6 col2\" >133.2</td>\n",
       "                        <td id=\"T_78755580_e7d6_11ea_9396_42010a8a0004row6_col3\" class=\"data row6 col3\" > ✔</td>\n",
       "                        <td id=\"T_78755580_e7d6_11ea_9396_42010a8a0004row6_col4\" class=\"data row6 col4\" > ✔</td>\n",
       "                        <td id=\"T_78755580_e7d6_11ea_9396_42010a8a0004row6_col5\" class=\"data row6 col5\" > ✔</td>\n",
       "                        <td id=\"T_78755580_e7d6_11ea_9396_42010a8a0004row6_col6\" class=\"data row6 col6\" > ✔</td>\n",
       "            </tr>\n",
       "            <tr>\n",
       "                                <td id=\"T_78755580_e7d6_11ea_9396_42010a8a0004row7_col0\" class=\"data row7 col0\" >2020-08-26</td>\n",
       "                        <td id=\"T_78755580_e7d6_11ea_9396_42010a8a0004row7_col1\" class=\"data row7 col1\" >219.7</td>\n",
       "                        <td id=\"T_78755580_e7d6_11ea_9396_42010a8a0004row7_col2\" class=\"data row7 col2\" >133.2</td>\n",
       "                        <td id=\"T_78755580_e7d6_11ea_9396_42010a8a0004row7_col3\" class=\"data row7 col3\" > ✔</td>\n",
       "                        <td id=\"T_78755580_e7d6_11ea_9396_42010a8a0004row7_col4\" class=\"data row7 col4\" > ✔</td>\n",
       "                        <td id=\"T_78755580_e7d6_11ea_9396_42010a8a0004row7_col5\" class=\"data row7 col5\" > ✔</td>\n",
       "                        <td id=\"T_78755580_e7d6_11ea_9396_42010a8a0004row7_col6\" class=\"data row7 col6\" > ✔</td>\n",
       "            </tr>\n",
       "            <tr>\n",
       "                                <td id=\"T_78755580_e7d6_11ea_9396_42010a8a0004row8_col0\" class=\"data row8 col0\" >2020-08-26</td>\n",
       "                        <td id=\"T_78755580_e7d6_11ea_9396_42010a8a0004row8_col1\" class=\"data row8 col1\" >219.7</td>\n",
       "                        <td id=\"T_78755580_e7d6_11ea_9396_42010a8a0004row8_col2\" class=\"data row8 col2\" >133.2</td>\n",
       "                        <td id=\"T_78755580_e7d6_11ea_9396_42010a8a0004row8_col3\" class=\"data row8 col3\" > ✔</td>\n",
       "                        <td id=\"T_78755580_e7d6_11ea_9396_42010a8a0004row8_col4\" class=\"data row8 col4\" > ✔</td>\n",
       "                        <td id=\"T_78755580_e7d6_11ea_9396_42010a8a0004row8_col5\" class=\"data row8 col5\" > ✔</td>\n",
       "                        <td id=\"T_78755580_e7d6_11ea_9396_42010a8a0004row8_col6\" class=\"data row8 col6\" > ✔</td>\n",
       "            </tr>\n",
       "            <tr>\n",
       "                                <td id=\"T_78755580_e7d6_11ea_9396_42010a8a0004row9_col0\" class=\"data row9 col0\" >2020-08-26</td>\n",
       "                        <td id=\"T_78755580_e7d6_11ea_9396_42010a8a0004row9_col1\" class=\"data row9 col1\" >219.7</td>\n",
       "                        <td id=\"T_78755580_e7d6_11ea_9396_42010a8a0004row9_col2\" class=\"data row9 col2\" >133.2</td>\n",
       "                        <td id=\"T_78755580_e7d6_11ea_9396_42010a8a0004row9_col3\" class=\"data row9 col3\" > ✔</td>\n",
       "                        <td id=\"T_78755580_e7d6_11ea_9396_42010a8a0004row9_col4\" class=\"data row9 col4\" > ✔</td>\n",
       "                        <td id=\"T_78755580_e7d6_11ea_9396_42010a8a0004row9_col5\" class=\"data row9 col5\" > ✔</td>\n",
       "                        <td id=\"T_78755580_e7d6_11ea_9396_42010a8a0004row9_col6\" class=\"data row9 col6\" > ✔</td>\n",
       "            </tr>\n",
       "            <tr>\n",
       "                                <td id=\"T_78755580_e7d6_11ea_9396_42010a8a0004row10_col0\" class=\"data row10 col0\" >2020-08-26</td>\n",
       "                        <td id=\"T_78755580_e7d6_11ea_9396_42010a8a0004row10_col1\" class=\"data row10 col1\" >219.7</td>\n",
       "                        <td id=\"T_78755580_e7d6_11ea_9396_42010a8a0004row10_col2\" class=\"data row10 col2\" >133.2</td>\n",
       "                        <td id=\"T_78755580_e7d6_11ea_9396_42010a8a0004row10_col3\" class=\"data row10 col3\" > ✔</td>\n",
       "                        <td id=\"T_78755580_e7d6_11ea_9396_42010a8a0004row10_col4\" class=\"data row10 col4\" > ✔</td>\n",
       "                        <td id=\"T_78755580_e7d6_11ea_9396_42010a8a0004row10_col5\" class=\"data row10 col5\" > ✔</td>\n",
       "                        <td id=\"T_78755580_e7d6_11ea_9396_42010a8a0004row10_col6\" class=\"data row10 col6\" > ✔</td>\n",
       "            </tr>\n",
       "            <tr>\n",
       "                                <td id=\"T_78755580_e7d6_11ea_9396_42010a8a0004row11_col0\" class=\"data row11 col0\" >2020-08-26</td>\n",
       "                        <td id=\"T_78755580_e7d6_11ea_9396_42010a8a0004row11_col1\" class=\"data row11 col1\" >219.7</td>\n",
       "                        <td id=\"T_78755580_e7d6_11ea_9396_42010a8a0004row11_col2\" class=\"data row11 col2\" >133.2</td>\n",
       "                        <td id=\"T_78755580_e7d6_11ea_9396_42010a8a0004row11_col3\" class=\"data row11 col3\" > ✔</td>\n",
       "                        <td id=\"T_78755580_e7d6_11ea_9396_42010a8a0004row11_col4\" class=\"data row11 col4\" > ✔</td>\n",
       "                        <td id=\"T_78755580_e7d6_11ea_9396_42010a8a0004row11_col5\" class=\"data row11 col5\" > ✔</td>\n",
       "                        <td id=\"T_78755580_e7d6_11ea_9396_42010a8a0004row11_col6\" class=\"data row11 col6\" > ✔</td>\n",
       "            </tr>\n",
       "            <tr>\n",
       "                                <td id=\"T_78755580_e7d6_11ea_9396_42010a8a0004row12_col0\" class=\"data row12 col0\" >2020-08-26</td>\n",
       "                        <td id=\"T_78755580_e7d6_11ea_9396_42010a8a0004row12_col1\" class=\"data row12 col1\" >219.7</td>\n",
       "                        <td id=\"T_78755580_e7d6_11ea_9396_42010a8a0004row12_col2\" class=\"data row12 col2\" >133.2</td>\n",
       "                        <td id=\"T_78755580_e7d6_11ea_9396_42010a8a0004row12_col3\" class=\"data row12 col3\" > ✔</td>\n",
       "                        <td id=\"T_78755580_e7d6_11ea_9396_42010a8a0004row12_col4\" class=\"data row12 col4\" > ✔</td>\n",
       "                        <td id=\"T_78755580_e7d6_11ea_9396_42010a8a0004row12_col5\" class=\"data row12 col5\" > ✔</td>\n",
       "                        <td id=\"T_78755580_e7d6_11ea_9396_42010a8a0004row12_col6\" class=\"data row12 col6\" > ✔</td>\n",
       "            </tr>\n",
       "            <tr>\n",
       "                                <td id=\"T_78755580_e7d6_11ea_9396_42010a8a0004row13_col0\" class=\"data row13 col0\" >2020-08-26</td>\n",
       "                        <td id=\"T_78755580_e7d6_11ea_9396_42010a8a0004row13_col1\" class=\"data row13 col1\" >219.7</td>\n",
       "                        <td id=\"T_78755580_e7d6_11ea_9396_42010a8a0004row13_col2\" class=\"data row13 col2\" >133.2</td>\n",
       "                        <td id=\"T_78755580_e7d6_11ea_9396_42010a8a0004row13_col3\" class=\"data row13 col3\" > ✔</td>\n",
       "                        <td id=\"T_78755580_e7d6_11ea_9396_42010a8a0004row13_col4\" class=\"data row13 col4\" > ✔</td>\n",
       "                        <td id=\"T_78755580_e7d6_11ea_9396_42010a8a0004row13_col5\" class=\"data row13 col5\" > ✔</td>\n",
       "                        <td id=\"T_78755580_e7d6_11ea_9396_42010a8a0004row13_col6\" class=\"data row13 col6\" > ✔</td>\n",
       "            </tr>\n",
       "            <tr>\n",
       "                                <td id=\"T_78755580_e7d6_11ea_9396_42010a8a0004row14_col0\" class=\"data row14 col0\" >2020-08-26</td>\n",
       "                        <td id=\"T_78755580_e7d6_11ea_9396_42010a8a0004row14_col1\" class=\"data row14 col1\" >219.7</td>\n",
       "                        <td id=\"T_78755580_e7d6_11ea_9396_42010a8a0004row14_col2\" class=\"data row14 col2\" >133.2</td>\n",
       "                        <td id=\"T_78755580_e7d6_11ea_9396_42010a8a0004row14_col3\" class=\"data row14 col3\" > ✔</td>\n",
       "                        <td id=\"T_78755580_e7d6_11ea_9396_42010a8a0004row14_col4\" class=\"data row14 col4\" > ✔</td>\n",
       "                        <td id=\"T_78755580_e7d6_11ea_9396_42010a8a0004row14_col5\" class=\"data row14 col5\" > ✔</td>\n",
       "                        <td id=\"T_78755580_e7d6_11ea_9396_42010a8a0004row14_col6\" class=\"data row14 col6\" > ✔</td>\n",
       "            </tr>\n",
       "            <tr>\n",
       "                                <td id=\"T_78755580_e7d6_11ea_9396_42010a8a0004row15_col0\" class=\"data row15 col0\" >2020-08-26</td>\n",
       "                        <td id=\"T_78755580_e7d6_11ea_9396_42010a8a0004row15_col1\" class=\"data row15 col1\" >219.7</td>\n",
       "                        <td id=\"T_78755580_e7d6_11ea_9396_42010a8a0004row15_col2\" class=\"data row15 col2\" >133.2</td>\n",
       "                        <td id=\"T_78755580_e7d6_11ea_9396_42010a8a0004row15_col3\" class=\"data row15 col3\" > ✔</td>\n",
       "                        <td id=\"T_78755580_e7d6_11ea_9396_42010a8a0004row15_col4\" class=\"data row15 col4\" > ✔</td>\n",
       "                        <td id=\"T_78755580_e7d6_11ea_9396_42010a8a0004row15_col5\" class=\"data row15 col5\" > ✔</td>\n",
       "                        <td id=\"T_78755580_e7d6_11ea_9396_42010a8a0004row15_col6\" class=\"data row15 col6\" > ✔</td>\n",
       "            </tr>\n",
       "    </tbody></table>"
      ],
      "text/plain": [
       "<pandas.io.formats.style.Styler at 0x7f6701d7a0b8>"
      ]
     },
     "execution_count": 12,
     "metadata": {},
     "output_type": "execute_result"
    }
   ],
   "source": [
    "# Style the pandas dataframe\n",
    "d = dict(selector=\"th\",\n",
    "         props=[('text-align', 'center')])\n",
    "\n",
    "result.reset_index().style\\\n",
    "    .set_properties(**{'width':'20em', 'text-align':'center'})\\\n",
    "    .set_properties(subset=['Date'], **{'font-weight': 'bold'})\\\n",
    "    .set_table_styles([d])\\\n",
    "    .set_precision(1)\\\n",
    "    .hide_index()"
   ]
  },
  {
   "cell_type": "markdown",
   "metadata": {
    "papermill": {
     "duration": 0.01068,
     "end_time": "2020-08-26T19:58:11.854710",
     "exception": false,
     "start_time": "2020-08-26T19:58:11.844030",
     "status": "completed"
    },
    "tags": []
   },
   "source": [
    "<sup>Notes: (1) 7 day average with a 7-day lag. (2) 14 day average. (3) 7 day average with a 7-day lag. (4) Change in 3 day average.</sup>"
   ]
  },
  {
   "cell_type": "code",
   "execution_count": 13,
   "metadata": {
    "execution": {
     "iopub.execute_input": "2020-08-26T19:58:11.881093Z",
     "iopub.status.busy": "2020-08-26T19:58:11.880626Z",
     "iopub.status.idle": "2020-08-26T19:58:11.883653Z",
     "shell.execute_reply": "2020-08-26T19:58:11.884013Z"
    },
    "papermill": {
     "duration": 0.018793,
     "end_time": "2020-08-26T19:58:11.884155",
     "exception": false,
     "start_time": "2020-08-26T19:58:11.865362",
     "status": "completed"
    },
    "tags": [
     "remove_input"
    ]
   },
   "outputs": [
    {
     "data": {
      "text/markdown": [
       "Table last updated by CDPH on August 26, 2020."
      ],
      "text/plain": [
       "<IPython.core.display.Markdown object>"
      ]
     },
     "execution_count": 13,
     "metadata": {},
     "output_type": "execute_result"
    }
   ],
   "source": [
    "md(update_tag)"
   ]
  },
  {
   "cell_type": "markdown",
   "metadata": {
    "papermill": {
     "duration": 0.010849,
     "end_time": "2020-08-26T19:58:11.906044",
     "exception": false,
     "start_time": "2020-08-26T19:58:11.895195",
     "status": "completed"
    },
    "tags": []
   },
   "source": [
    "## Tracking county closures in Santa Barbara"
   ]
  },
  {
   "cell_type": "markdown",
   "metadata": {
    "papermill": {
     "duration": 0.010809,
     "end_time": "2020-08-26T19:58:11.927852",
     "exception": false,
     "start_time": "2020-08-26T19:58:11.917043",
     "status": "completed"
    },
    "tags": []
   },
   "source": [
    "The state of California is using a data-driven approach informed by scientific evidence to tailor its response to COVID-19. Three dimensions of concern are monitored to assess whether a county should be placed on the County Monitoring List:\n",
    " 1. Elevated Disease Transmission\n",
    " 2. Increasing Hospitalization\n",
    " 3. Limited Hospital Capacity\n",
    "\n",
    "Once a county appears on the County Monitoring List for three consecutive days, indoor operations in the sectors listed in Section 3 of the [July 13th State Health Officer Order](https://www.cdph.ca.gov/Programs/CID/DCDC/CDPH%20Document%20Library/COVID-19/SHO%20Order%20Dimming%20Entire%20State%207-13-2020.pdf) must close.\n",
    "\n",
    "This table tracks where Santa Barbara stands in terms of the criteria for inclusion on the County Monitoring List. As of 20 August 2020, the criteria for inclusion on the monitoring list are:\n",
    "\n",
    "* Case rate >100 OR (Case rate >25 AND Positivity >8%)\n",
    "* \\>10% increase in hospitalizations\n",
    "* <20% ICU beds available OR <25% ventilators available\n",
    "\n",
    "If Santa Barbara meets the criteria for removal from the County Monitoring List for a certain metric, then a checkmark ✔ is displayed in the table.\n",
    "\n",
    "Read more at <https://covid19.ca.gov/roadmap-counties/>.\n",
    "\n",
    "Data source for county metrics: https://www.cdph.ca.gov/Programs/CID/DCDC/Pages/COVID-19/COVID19CountyDataTable.aspx."
   ]
  },
  {
   "cell_type": "markdown",
   "metadata": {
    "papermill": {
     "duration": 0.011003,
     "end_time": "2020-08-26T19:58:11.950027",
     "exception": false,
     "start_time": "2020-08-26T19:58:11.939024",
     "status": "completed"
    },
    "tags": []
   },
   "source": [
    "**See the code used to scrape the data: https://github.com/walice/COVID-SB/.**"
   ]
  },
  {
   "cell_type": "code",
   "execution_count": 14,
   "metadata": {
    "execution": {
     "iopub.execute_input": "2020-08-26T19:58:11.977411Z",
     "iopub.status.busy": "2020-08-26T19:58:11.976900Z",
     "iopub.status.idle": "2020-08-26T19:58:11.981202Z",
     "shell.execute_reply": "2020-08-26T19:58:11.981583Z"
    },
    "papermill": {
     "duration": 0.020414,
     "end_time": "2020-08-26T19:58:11.981726",
     "exception": false,
     "start_time": "2020-08-26T19:58:11.961312",
     "status": "completed"
    },
    "tags": [
     "remove_cell"
    ]
   },
   "outputs": [
    {
     "data": {
      "application/javascript": [
       "IPython.notebook.save_notebook()\n"
      ],
      "text/plain": [
       "<IPython.core.display.Javascript object>"
      ]
     },
     "metadata": {},
     "output_type": "display_data"
    }
   ],
   "source": [
    "%%javascript\n",
    "IPython.notebook.save_notebook()"
   ]
  },
  {
   "cell_type": "code",
   "execution_count": 15,
   "metadata": {
    "execution": {
     "iopub.execute_input": "2020-08-26T19:58:12.011517Z",
     "iopub.status.busy": "2020-08-26T19:58:12.010988Z",
     "iopub.status.idle": "2020-08-26T19:58:12.147522Z",
     "shell.execute_reply": "2020-08-26T19:58:12.146596Z"
    },
    "papermill": {
     "duration": 0.15457,
     "end_time": "2020-08-26T19:58:12.147664",
     "exception": false,
     "start_time": "2020-08-26T19:58:11.993094",
     "status": "completed"
    },
    "slideshow": {
     "slide_type": "skip"
    },
    "tags": [
     "remove_cell"
    ]
   },
   "outputs": [
    {
     "name": "stdout",
     "output_type": "stream",
     "text": [
      "/bin/sh: 1: jupyter: not found\r\n"
     ]
    }
   ],
   "source": [
    "# Convert Jupyter Notebook to HTML\n",
    "! jupyter nbconvert \"index.ipynb\" --to html --TagRemovePreprocessor.enabled=True --TagRemovePreprocessor.remove_cell_tags=\"['remove_cell']\" --TagRemovePreprocessor.remove_input_tags=\"['remove_input']\" --no-prompt"
   ]
  },
  {
   "cell_type": "code",
   "execution_count": 16,
   "metadata": {
    "execution": {
     "iopub.execute_input": "2020-08-26T19:58:12.177930Z",
     "iopub.status.busy": "2020-08-26T19:58:12.176087Z",
     "iopub.status.idle": "2020-08-26T19:58:12.178584Z",
     "shell.execute_reply": "2020-08-26T19:58:12.178995Z"
    },
    "papermill": {
     "duration": 0.019182,
     "end_time": "2020-08-26T19:58:12.179144",
     "exception": false,
     "start_time": "2020-08-26T19:58:12.159962",
     "status": "completed"
    },
    "tags": [
     "remove_cell"
    ]
   },
   "outputs": [],
   "source": [
    "# Create daily commit message\n",
    "now = datetime.datetime.now()\n",
    "commit_message = \"Last scraped on \" + str(now)"
   ]
  },
  {
   "cell_type": "code",
   "execution_count": null,
   "metadata": {
    "execution": {
     "iopub.execute_input": "2020-08-26T19:55:14.399516Z",
     "iopub.status.busy": "2020-08-26T19:55:14.399009Z",
     "iopub.status.idle": "2020-08-26T19:55:19.235034Z",
     "shell.execute_reply": "2020-08-26T19:55:19.233750Z"
    },
    "papermill": {
     "duration": null,
     "end_time": null,
     "exception": false,
     "start_time": "2020-08-26T19:58:12.191894",
     "status": "running"
    },
    "tags": [
     "remove_cell"
    ]
   },
   "outputs": [],
   "source": [
    "# Deploy to GitHub\n",
    "! git add .\n",
    "! echo $commit_message > commit_message.txt\n",
    "! git commit -F commit_message.txt\n",
    "! git push"
   ]
  }
 ],
 "metadata": {
  "celltoolbar": "Tags",
  "kernelspec": {
   "display_name": "Python 3",
   "language": "python",
   "name": "python3"
  },
  "language_info": {
   "codemirror_mode": {
    "name": "ipython",
    "version": 3
   },
   "file_extension": ".py",
   "mimetype": "text/x-python",
   "name": "python",
   "nbconvert_exporter": "python",
   "pygments_lexer": "ipython3",
   "version": "3.7.3"
  },
  "papermill": {
   "duration": null,
   "end_time": null,
   "environment_variables": {},
   "exception": null,
   "input_path": "/home/alice_lepissier/cron-job/index.ipynb",
   "output_path": "/home/alice_lepissier/cron-job/index.ipynb",
   "parameters": {},
   "start_time": "2020-08-26T19:58:03.572490",
   "version": "2.1.3"
  }
 },
 "nbformat": 4,
 "nbformat_minor": 4
}