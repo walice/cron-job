{
 "cells": [
  {
   "cell_type": "markdown",
   "metadata": {
    "papermill": {
     "duration": 0.010716,
     "end_time": "2020-08-26T20:05:04.855406",
     "exception": false,
     "start_time": "2020-08-26T20:05:04.844690",
     "status": "completed"
    },
    "tags": []
   },
   "source": [
    "# Daily COVID monitoring data for Santa Barbara county"
   ]
  },
  {
   "cell_type": "code",
   "execution_count": 1,
   "metadata": {
    "execution": {
     "iopub.execute_input": "2020-08-26T20:05:04.882075Z",
     "iopub.status.busy": "2020-08-26T20:05:04.881557Z",
     "iopub.status.idle": "2020-08-26T20:05:06.599162Z",
     "shell.execute_reply": "2020-08-26T20:05:06.600109Z"
    },
    "papermill": {
     "duration": 1.734971,
     "end_time": "2020-08-26T20:05:06.600334",
     "exception": false,
     "start_time": "2020-08-26T20:05:04.865363",
     "status": "completed"
    },
    "tags": [
     "remove_cell"
    ]
   },
   "outputs": [],
   "source": [
    "! jt -t grade3 -tf robotosans -cellw 1100"
   ]
  },
  {
   "cell_type": "markdown",
   "metadata": {
    "papermill": {
     "duration": 0.009407,
     "end_time": "2020-08-26T20:05:06.619970",
     "exception": false,
     "start_time": "2020-08-26T20:05:06.610563",
     "status": "completed"
    },
    "tags": []
   },
   "source": [
    "This table is automatically updated with new daily COVID data for the county of Santa Barbara, CA. Every day, the California Department of Public Health publishes COVID tracking metrics for each county, but does not save the previous day's data. This tool keeps track of the daily metrics that are used to monitor progress towards safe reopening in California."
   ]
  },
  {
   "cell_type": "code",
   "execution_count": 2,
   "metadata": {
    "execution": {
     "iopub.execute_input": "2020-08-26T20:05:06.647559Z",
     "iopub.status.busy": "2020-08-26T20:05:06.647029Z",
     "iopub.status.idle": "2020-08-26T20:05:09.103241Z",
     "shell.execute_reply": "2020-08-26T20:05:09.104110Z"
    },
    "papermill": {
     "duration": 2.474745,
     "end_time": "2020-08-26T20:05:09.104275",
     "exception": false,
     "start_time": "2020-08-26T20:05:06.629530",
     "status": "completed"
    },
    "slideshow": {
     "slide_type": "skip"
    },
    "tags": [
     "remove_cell"
    ]
   },
   "outputs": [],
   "source": [
    "# Preamble\n",
    "import os\n",
    "from IPython.display import Markdown as md\n",
    "import IPython\n",
    "import requests\n",
    "from bs4 import BeautifulSoup\n",
    "import re\n",
    "import pandas as pd\n",
    "import datetime\n",
    "import gspread\n",
    "from oauth2client.service_account import ServiceAccountCredentials"
   ]
  },
  {
   "cell_type": "code",
   "execution_count": 3,
   "metadata": {
    "execution": {
     "iopub.execute_input": "2020-08-26T20:05:09.129828Z",
     "iopub.status.busy": "2020-08-26T20:05:09.129185Z",
     "iopub.status.idle": "2020-08-26T20:05:09.130724Z",
     "shell.execute_reply": "2020-08-26T20:05:09.130303Z"
    },
    "papermill": {
     "duration": 0.016555,
     "end_time": "2020-08-26T20:05:09.130846",
     "exception": false,
     "start_time": "2020-08-26T20:05:09.114291",
     "status": "completed"
    },
    "tags": []
   },
   "outputs": [],
   "source": [
    "# Set working directory\n",
    "os.chdir(\"/home/alice_lepissier/cron-job\")"
   ]
  },
  {
   "cell_type": "code",
   "execution_count": 4,
   "metadata": {
    "execution": {
     "iopub.execute_input": "2020-08-26T20:05:09.156344Z",
     "iopub.status.busy": "2020-08-26T20:05:09.155722Z",
     "iopub.status.idle": "2020-08-26T20:05:10.730068Z",
     "shell.execute_reply": "2020-08-26T20:05:10.730941Z"
    },
    "papermill": {
     "duration": 1.590811,
     "end_time": "2020-08-26T20:05:10.731111",
     "exception": false,
     "start_time": "2020-08-26T20:05:09.140300",
     "status": "completed"
    },
    "slideshow": {
     "slide_type": "skip"
    },
    "tags": [
     "remove_cell"
    ]
   },
   "outputs": [],
   "source": [
    "# Request content from URL\n",
    "html_string = requests.get('https://www.cdph.ca.gov/Programs/CID/DCDC/Pages/COVID-19/COVID19CountyDataTable.aspx').content"
   ]
  },
  {
   "cell_type": "code",
   "execution_count": 5,
   "metadata": {
    "execution": {
     "iopub.execute_input": "2020-08-26T20:05:10.759459Z",
     "iopub.status.busy": "2020-08-26T20:05:10.758942Z",
     "iopub.status.idle": "2020-08-26T20:05:10.843926Z",
     "shell.execute_reply": "2020-08-26T20:05:10.844732Z"
    },
    "papermill": {
     "duration": 0.103873,
     "end_time": "2020-08-26T20:05:10.844908",
     "exception": false,
     "start_time": "2020-08-26T20:05:10.741035",
     "status": "completed"
    },
    "slideshow": {
     "slide_type": "skip"
    },
    "tags": [
     "remove_cell"
    ]
   },
   "outputs": [],
   "source": [
    "# Parse HTML\n",
    "soup = BeautifulSoup(html_string, 'html.parser')"
   ]
  },
  {
   "cell_type": "code",
   "execution_count": 6,
   "metadata": {
    "execution": {
     "iopub.execute_input": "2020-08-26T20:05:10.872808Z",
     "iopub.status.busy": "2020-08-26T20:05:10.872282Z",
     "iopub.status.idle": "2020-08-26T20:05:10.879501Z",
     "shell.execute_reply": "2020-08-26T20:05:10.880258Z"
    },
    "papermill": {
     "duration": 0.025429,
     "end_time": "2020-08-26T20:05:10.880420",
     "exception": false,
     "start_time": "2020-08-26T20:05:10.854991",
     "status": "completed"
    },
    "slideshow": {
     "slide_type": "skip"
    },
    "tags": [
     "remove_cell"
    ]
   },
   "outputs": [],
   "source": [
    "# Extract data for Santa Barbara\n",
    "table = soup.find_all(\"tr\", class_=\"ms-rteTableEvenRow-3\")\n",
    "SB = table[21]"
   ]
  },
  {
   "cell_type": "code",
   "execution_count": 7,
   "metadata": {
    "execution": {
     "iopub.execute_input": "2020-08-26T20:05:10.907535Z",
     "iopub.status.busy": "2020-08-26T20:05:10.907024Z",
     "iopub.status.idle": "2020-08-26T20:05:10.918315Z",
     "shell.execute_reply": "2020-08-26T20:05:10.919051Z"
    },
    "papermill": {
     "duration": 0.029012,
     "end_time": "2020-08-26T20:05:10.919210",
     "exception": false,
     "start_time": "2020-08-26T20:05:10.890198",
     "status": "completed"
    },
    "slideshow": {
     "slide_type": "skip"
    },
    "tags": [
     "remove_cell"
    ]
   },
   "outputs": [],
   "source": [
    "# Avg # tests per day (per 100,000 population)\n",
    "daily_tests = SB.find_all(\"td\", class_=\"ms-rteTableOddCol-3\")[0].text\n",
    "\n",
    "# Case rate per 100,000\n",
    "case_rate = SB.find_all(\"td\", class_=\"ms-rteTableEvenCol-3\")[1].text\n",
    "\n",
    "# Testing positivity (%)\n",
    "test_positivity = SB.find_all(\"td\", class_=\"ms-rteTableOddCol-3\")[1].text\n",
    "\n",
    "# % Change in 3-day avg COVID+ hospitalized patients\n",
    "change_hospit = SB.find_all(\"td\", class_=\"ms-rteTableEvenCol-3\")[2].text\n",
    "\n",
    "# % ICU beds currently available\n",
    "ICU_beds = SB.find_all(\"td\", class_=\"ms-rteTableOddCol-3\")[2].text\n",
    "\n",
    "# % Ventilators currently available\n",
    "ventilators = SB.find_all(\"td\", class_=\"ms-rteTableEvenCol-3\")[3].text\n",
    "\n",
    "# Extract date of last update\n",
    "update_date = soup.find_all(\"span\", class_=\"ms-rteStyle-Accent1\")[1]\\\n",
    "    .find(\"em\").text"
   ]
  },
  {
   "cell_type": "code",
   "execution_count": 8,
   "metadata": {
    "execution": {
     "iopub.execute_input": "2020-08-26T20:05:10.945343Z",
     "iopub.status.busy": "2020-08-26T20:05:10.944734Z",
     "iopub.status.idle": "2020-08-26T20:05:10.946227Z",
     "shell.execute_reply": "2020-08-26T20:05:10.945782Z"
    },
    "papermill": {
     "duration": 0.016437,
     "end_time": "2020-08-26T20:05:10.946368",
     "exception": false,
     "start_time": "2020-08-26T20:05:10.929931",
     "status": "completed"
    },
    "tags": [
     "remove_cell"
    ]
   },
   "outputs": [],
   "source": [
    "# Create updated date string\n",
    "update_tag = \"Table last updated by CDPH on \" + update_date.split(\" on \", 1)[1] + \".\""
   ]
  },
  {
   "cell_type": "code",
   "execution_count": 9,
   "metadata": {
    "execution": {
     "iopub.execute_input": "2020-08-26T20:05:10.969917Z",
     "iopub.status.busy": "2020-08-26T20:05:10.969412Z",
     "iopub.status.idle": "2020-08-26T20:05:10.978190Z",
     "shell.execute_reply": "2020-08-26T20:05:10.978998Z"
    },
    "papermill": {
     "duration": 0.023181,
     "end_time": "2020-08-26T20:05:10.979161",
     "exception": false,
     "start_time": "2020-08-26T20:05:10.955980",
     "status": "completed"
    },
    "slideshow": {
     "slide_type": "skip"
    },
    "tags": [
     "remove_cell"
    ]
   },
   "outputs": [],
   "source": [
    "# Set up Google Sheet API\n",
    "scope = [\"https://spreadsheets.google.com/feeds\",'https://www.googleapis.com/auth/spreadsheets',\"https://www.googleapis.com/auth/drive.file\",\"https://www.googleapis.com/auth/drive\"]\n",
    "creds = ServiceAccountCredentials.from_json_keyfile_name(\"credentials.json\", scope)\n",
    "client = gspread.authorize(creds)"
   ]
  },
  {
   "cell_type": "code",
   "execution_count": 10,
   "metadata": {
    "execution": {
     "iopub.execute_input": "2020-08-26T20:05:11.003946Z",
     "iopub.status.busy": "2020-08-26T20:05:11.003410Z",
     "iopub.status.idle": "2020-08-26T20:05:12.029841Z",
     "shell.execute_reply": "2020-08-26T20:05:12.030672Z"
    },
    "papermill": {
     "duration": 1.041756,
     "end_time": "2020-08-26T20:05:12.030841",
     "exception": false,
     "start_time": "2020-08-26T20:05:10.989085",
     "status": "completed"
    },
    "slideshow": {
     "slide_type": "skip"
    },
    "tags": [
     "remove_cell"
    ]
   },
   "outputs": [
    {
     "data": {
      "text/plain": [
       "{'spreadsheetId': '1pcqdMzKtea2Oq3BDmdAOQ21gZjCssieKI0692VfNLXU',\n",
       " 'updatedRange': 'Sheet1!A2:G2',\n",
       " 'updatedRows': 1,\n",
       " 'updatedColumns': 7,\n",
       " 'updatedCells': 7}"
      ]
     },
     "execution_count": 10,
     "metadata": {},
     "output_type": "execute_result"
    }
   ],
   "source": [
    "# Append daily data as a new row in Google Sheet\n",
    "sheet = client.open(\"Test cron job\").sheet1\n",
    "insertRow = [datetime.date.today().strftime(\"%Y-%m-%d\"),\n",
    "             daily_tests,\n",
    "             case_rate,\n",
    "             test_positivity,\n",
    "             change_hospit,\n",
    "             ICU_beds,\n",
    "             ventilators]\n",
    "sheet.insert_row(insertRow, 2)"
   ]
  },
  {
   "cell_type": "code",
   "execution_count": 11,
   "metadata": {
    "execution": {
     "iopub.execute_input": "2020-08-26T20:05:12.058575Z",
     "iopub.status.busy": "2020-08-26T20:05:12.057952Z",
     "iopub.status.idle": "2020-08-26T20:05:12.599170Z",
     "shell.execute_reply": "2020-08-26T20:05:12.600058Z"
    },
    "papermill": {
     "duration": 0.557532,
     "end_time": "2020-08-26T20:05:12.600238",
     "exception": false,
     "start_time": "2020-08-26T20:05:12.042706",
     "status": "completed"
    },
    "scrolled": true,
    "slideshow": {
     "slide_type": "slide"
    },
    "tags": [
     "remove_cell"
    ]
   },
   "outputs": [],
   "source": [
    "# Extract data from Google Sheet as pandas dataframe\n",
    "sheet = client.open(\"Test cron job\").sheet1\n",
    "data = sheet.get_all_records()\n",
    "result = pd.DataFrame(data).set_index(\"Date\")"
   ]
  },
  {
   "cell_type": "code",
   "execution_count": 12,
   "metadata": {
    "execution": {
     "iopub.execute_input": "2020-08-26T20:05:12.626990Z",
     "iopub.status.busy": "2020-08-26T20:05:12.626458Z",
     "iopub.status.idle": "2020-08-26T20:05:13.358351Z",
     "shell.execute_reply": "2020-08-26T20:05:13.359104Z"
    },
    "papermill": {
     "duration": 0.748543,
     "end_time": "2020-08-26T20:05:13.359272",
     "exception": false,
     "start_time": "2020-08-26T20:05:12.610729",
     "status": "completed"
    },
    "scrolled": true,
    "tags": [
     "remove_input"
    ]
   },
   "outputs": [
    {
     "data": {
      "text/html": [
       "<style  type=\"text/css\" >\n",
       "    #T_73b5227c_e7d7_11ea_a813_42010a8a0004 th {\n",
       "          text-align: center;\n",
       "    }#T_73b5227c_e7d7_11ea_a813_42010a8a0004row0_col0,#T_73b5227c_e7d7_11ea_a813_42010a8a0004row1_col0,#T_73b5227c_e7d7_11ea_a813_42010a8a0004row2_col0,#T_73b5227c_e7d7_11ea_a813_42010a8a0004row3_col0,#T_73b5227c_e7d7_11ea_a813_42010a8a0004row4_col0,#T_73b5227c_e7d7_11ea_a813_42010a8a0004row5_col0,#T_73b5227c_e7d7_11ea_a813_42010a8a0004row6_col0,#T_73b5227c_e7d7_11ea_a813_42010a8a0004row7_col0,#T_73b5227c_e7d7_11ea_a813_42010a8a0004row8_col0,#T_73b5227c_e7d7_11ea_a813_42010a8a0004row9_col0,#T_73b5227c_e7d7_11ea_a813_42010a8a0004row10_col0,#T_73b5227c_e7d7_11ea_a813_42010a8a0004row11_col0,#T_73b5227c_e7d7_11ea_a813_42010a8a0004row12_col0,#T_73b5227c_e7d7_11ea_a813_42010a8a0004row13_col0,#T_73b5227c_e7d7_11ea_a813_42010a8a0004row14_col0,#T_73b5227c_e7d7_11ea_a813_42010a8a0004row15_col0,#T_73b5227c_e7d7_11ea_a813_42010a8a0004row16_col0,#T_73b5227c_e7d7_11ea_a813_42010a8a0004row17_col0,#T_73b5227c_e7d7_11ea_a813_42010a8a0004row18_col0{\n",
       "            width:  20em;\n",
       "            text-align:  center;\n",
       "            font-weight:  bold;\n",
       "        }#T_73b5227c_e7d7_11ea_a813_42010a8a0004row0_col1,#T_73b5227c_e7d7_11ea_a813_42010a8a0004row0_col2,#T_73b5227c_e7d7_11ea_a813_42010a8a0004row0_col3,#T_73b5227c_e7d7_11ea_a813_42010a8a0004row0_col4,#T_73b5227c_e7d7_11ea_a813_42010a8a0004row0_col5,#T_73b5227c_e7d7_11ea_a813_42010a8a0004row0_col6,#T_73b5227c_e7d7_11ea_a813_42010a8a0004row1_col1,#T_73b5227c_e7d7_11ea_a813_42010a8a0004row1_col2,#T_73b5227c_e7d7_11ea_a813_42010a8a0004row1_col3,#T_73b5227c_e7d7_11ea_a813_42010a8a0004row1_col4,#T_73b5227c_e7d7_11ea_a813_42010a8a0004row1_col5,#T_73b5227c_e7d7_11ea_a813_42010a8a0004row1_col6,#T_73b5227c_e7d7_11ea_a813_42010a8a0004row2_col1,#T_73b5227c_e7d7_11ea_a813_42010a8a0004row2_col2,#T_73b5227c_e7d7_11ea_a813_42010a8a0004row2_col3,#T_73b5227c_e7d7_11ea_a813_42010a8a0004row2_col4,#T_73b5227c_e7d7_11ea_a813_42010a8a0004row2_col5,#T_73b5227c_e7d7_11ea_a813_42010a8a0004row2_col6,#T_73b5227c_e7d7_11ea_a813_42010a8a0004row3_col1,#T_73b5227c_e7d7_11ea_a813_42010a8a0004row3_col2,#T_73b5227c_e7d7_11ea_a813_42010a8a0004row3_col3,#T_73b5227c_e7d7_11ea_a813_42010a8a0004row3_col4,#T_73b5227c_e7d7_11ea_a813_42010a8a0004row3_col5,#T_73b5227c_e7d7_11ea_a813_42010a8a0004row3_col6,#T_73b5227c_e7d7_11ea_a813_42010a8a0004row4_col1,#T_73b5227c_e7d7_11ea_a813_42010a8a0004row4_col2,#T_73b5227c_e7d7_11ea_a813_42010a8a0004row4_col3,#T_73b5227c_e7d7_11ea_a813_42010a8a0004row4_col4,#T_73b5227c_e7d7_11ea_a813_42010a8a0004row4_col5,#T_73b5227c_e7d7_11ea_a813_42010a8a0004row4_col6,#T_73b5227c_e7d7_11ea_a813_42010a8a0004row5_col1,#T_73b5227c_e7d7_11ea_a813_42010a8a0004row5_col2,#T_73b5227c_e7d7_11ea_a813_42010a8a0004row5_col3,#T_73b5227c_e7d7_11ea_a813_42010a8a0004row5_col4,#T_73b5227c_e7d7_11ea_a813_42010a8a0004row5_col5,#T_73b5227c_e7d7_11ea_a813_42010a8a0004row5_col6,#T_73b5227c_e7d7_11ea_a813_42010a8a0004row6_col1,#T_73b5227c_e7d7_11ea_a813_42010a8a0004row6_col2,#T_73b5227c_e7d7_11ea_a813_42010a8a0004row6_col3,#T_73b5227c_e7d7_11ea_a813_42010a8a0004row6_col4,#T_73b5227c_e7d7_11ea_a813_42010a8a0004row6_col5,#T_73b5227c_e7d7_11ea_a813_42010a8a0004row6_col6,#T_73b5227c_e7d7_11ea_a813_42010a8a0004row7_col1,#T_73b5227c_e7d7_11ea_a813_42010a8a0004row7_col2,#T_73b5227c_e7d7_11ea_a813_42010a8a0004row7_col3,#T_73b5227c_e7d7_11ea_a813_42010a8a0004row7_col4,#T_73b5227c_e7d7_11ea_a813_42010a8a0004row7_col5,#T_73b5227c_e7d7_11ea_a813_42010a8a0004row7_col6,#T_73b5227c_e7d7_11ea_a813_42010a8a0004row8_col1,#T_73b5227c_e7d7_11ea_a813_42010a8a0004row8_col2,#T_73b5227c_e7d7_11ea_a813_42010a8a0004row8_col3,#T_73b5227c_e7d7_11ea_a813_42010a8a0004row8_col4,#T_73b5227c_e7d7_11ea_a813_42010a8a0004row8_col5,#T_73b5227c_e7d7_11ea_a813_42010a8a0004row8_col6,#T_73b5227c_e7d7_11ea_a813_42010a8a0004row9_col1,#T_73b5227c_e7d7_11ea_a813_42010a8a0004row9_col2,#T_73b5227c_e7d7_11ea_a813_42010a8a0004row9_col3,#T_73b5227c_e7d7_11ea_a813_42010a8a0004row9_col4,#T_73b5227c_e7d7_11ea_a813_42010a8a0004row9_col5,#T_73b5227c_e7d7_11ea_a813_42010a8a0004row9_col6,#T_73b5227c_e7d7_11ea_a813_42010a8a0004row10_col1,#T_73b5227c_e7d7_11ea_a813_42010a8a0004row10_col2,#T_73b5227c_e7d7_11ea_a813_42010a8a0004row10_col3,#T_73b5227c_e7d7_11ea_a813_42010a8a0004row10_col4,#T_73b5227c_e7d7_11ea_a813_42010a8a0004row10_col5,#T_73b5227c_e7d7_11ea_a813_42010a8a0004row10_col6,#T_73b5227c_e7d7_11ea_a813_42010a8a0004row11_col1,#T_73b5227c_e7d7_11ea_a813_42010a8a0004row11_col2,#T_73b5227c_e7d7_11ea_a813_42010a8a0004row11_col3,#T_73b5227c_e7d7_11ea_a813_42010a8a0004row11_col4,#T_73b5227c_e7d7_11ea_a813_42010a8a0004row11_col5,#T_73b5227c_e7d7_11ea_a813_42010a8a0004row11_col6,#T_73b5227c_e7d7_11ea_a813_42010a8a0004row12_col1,#T_73b5227c_e7d7_11ea_a813_42010a8a0004row12_col2,#T_73b5227c_e7d7_11ea_a813_42010a8a0004row12_col3,#T_73b5227c_e7d7_11ea_a813_42010a8a0004row12_col4,#T_73b5227c_e7d7_11ea_a813_42010a8a0004row12_col5,#T_73b5227c_e7d7_11ea_a813_42010a8a0004row12_col6,#T_73b5227c_e7d7_11ea_a813_42010a8a0004row13_col1,#T_73b5227c_e7d7_11ea_a813_42010a8a0004row13_col2,#T_73b5227c_e7d7_11ea_a813_42010a8a0004row13_col3,#T_73b5227c_e7d7_11ea_a813_42010a8a0004row13_col4,#T_73b5227c_e7d7_11ea_a813_42010a8a0004row13_col5,#T_73b5227c_e7d7_11ea_a813_42010a8a0004row13_col6,#T_73b5227c_e7d7_11ea_a813_42010a8a0004row14_col1,#T_73b5227c_e7d7_11ea_a813_42010a8a0004row14_col2,#T_73b5227c_e7d7_11ea_a813_42010a8a0004row14_col3,#T_73b5227c_e7d7_11ea_a813_42010a8a0004row14_col4,#T_73b5227c_e7d7_11ea_a813_42010a8a0004row14_col5,#T_73b5227c_e7d7_11ea_a813_42010a8a0004row14_col6,#T_73b5227c_e7d7_11ea_a813_42010a8a0004row15_col1,#T_73b5227c_e7d7_11ea_a813_42010a8a0004row15_col2,#T_73b5227c_e7d7_11ea_a813_42010a8a0004row15_col3,#T_73b5227c_e7d7_11ea_a813_42010a8a0004row15_col4,#T_73b5227c_e7d7_11ea_a813_42010a8a0004row15_col5,#T_73b5227c_e7d7_11ea_a813_42010a8a0004row15_col6,#T_73b5227c_e7d7_11ea_a813_42010a8a0004row16_col1,#T_73b5227c_e7d7_11ea_a813_42010a8a0004row16_col2,#T_73b5227c_e7d7_11ea_a813_42010a8a0004row16_col3,#T_73b5227c_e7d7_11ea_a813_42010a8a0004row16_col4,#T_73b5227c_e7d7_11ea_a813_42010a8a0004row16_col5,#T_73b5227c_e7d7_11ea_a813_42010a8a0004row16_col6,#T_73b5227c_e7d7_11ea_a813_42010a8a0004row17_col1,#T_73b5227c_e7d7_11ea_a813_42010a8a0004row17_col2,#T_73b5227c_e7d7_11ea_a813_42010a8a0004row17_col3,#T_73b5227c_e7d7_11ea_a813_42010a8a0004row17_col4,#T_73b5227c_e7d7_11ea_a813_42010a8a0004row17_col5,#T_73b5227c_e7d7_11ea_a813_42010a8a0004row17_col6,#T_73b5227c_e7d7_11ea_a813_42010a8a0004row18_col1,#T_73b5227c_e7d7_11ea_a813_42010a8a0004row18_col2,#T_73b5227c_e7d7_11ea_a813_42010a8a0004row18_col3,#T_73b5227c_e7d7_11ea_a813_42010a8a0004row18_col4,#T_73b5227c_e7d7_11ea_a813_42010a8a0004row18_col5,#T_73b5227c_e7d7_11ea_a813_42010a8a0004row18_col6{\n",
       "            width:  20em;\n",
       "            text-align:  center;\n",
       "        }</style><table id=\"T_73b5227c_e7d7_11ea_a813_42010a8a0004\" ><thead>    <tr>        <th class=\"col_heading level0 col0\" >Date</th>        <th class=\"col_heading level0 col1\" >Daily tests (per 100,000)¹</th>        <th class=\"col_heading level0 col2\" >Case rate (per 100,000)²</th>        <th class=\"col_heading level0 col3\" >Testing positivity (%)³</th>        <th class=\"col_heading level0 col4\" >Change in hospitalizations (%)⁴</th>        <th class=\"col_heading level0 col5\" >ICU beds available (%)</th>        <th class=\"col_heading level0 col6\" >Ventilators (available (%)</th>    </tr></thead><tbody>\n",
       "                <tr>\n",
       "                                <td id=\"T_73b5227c_e7d7_11ea_a813_42010a8a0004row0_col0\" class=\"data row0 col0\" >2020-08-26</td>\n",
       "                        <td id=\"T_73b5227c_e7d7_11ea_a813_42010a8a0004row0_col1\" class=\"data row0 col1\" >219.7</td>\n",
       "                        <td id=\"T_73b5227c_e7d7_11ea_a813_42010a8a0004row0_col2\" class=\"data row0 col2\" >133.2</td>\n",
       "                        <td id=\"T_73b5227c_e7d7_11ea_a813_42010a8a0004row0_col3\" class=\"data row0 col3\" > ✔</td>\n",
       "                        <td id=\"T_73b5227c_e7d7_11ea_a813_42010a8a0004row0_col4\" class=\"data row0 col4\" > ✔</td>\n",
       "                        <td id=\"T_73b5227c_e7d7_11ea_a813_42010a8a0004row0_col5\" class=\"data row0 col5\" > ✔</td>\n",
       "                        <td id=\"T_73b5227c_e7d7_11ea_a813_42010a8a0004row0_col6\" class=\"data row0 col6\" > ✔</td>\n",
       "            </tr>\n",
       "            <tr>\n",
       "                                <td id=\"T_73b5227c_e7d7_11ea_a813_42010a8a0004row1_col0\" class=\"data row1 col0\" >2020-08-26</td>\n",
       "                        <td id=\"T_73b5227c_e7d7_11ea_a813_42010a8a0004row1_col1\" class=\"data row1 col1\" >219.7</td>\n",
       "                        <td id=\"T_73b5227c_e7d7_11ea_a813_42010a8a0004row1_col2\" class=\"data row1 col2\" >133.2</td>\n",
       "                        <td id=\"T_73b5227c_e7d7_11ea_a813_42010a8a0004row1_col3\" class=\"data row1 col3\" > ✔</td>\n",
       "                        <td id=\"T_73b5227c_e7d7_11ea_a813_42010a8a0004row1_col4\" class=\"data row1 col4\" > ✔</td>\n",
       "                        <td id=\"T_73b5227c_e7d7_11ea_a813_42010a8a0004row1_col5\" class=\"data row1 col5\" > ✔</td>\n",
       "                        <td id=\"T_73b5227c_e7d7_11ea_a813_42010a8a0004row1_col6\" class=\"data row1 col6\" > ✔</td>\n",
       "            </tr>\n",
       "            <tr>\n",
       "                                <td id=\"T_73b5227c_e7d7_11ea_a813_42010a8a0004row2_col0\" class=\"data row2 col0\" >2020-08-26</td>\n",
       "                        <td id=\"T_73b5227c_e7d7_11ea_a813_42010a8a0004row2_col1\" class=\"data row2 col1\" >219.7</td>\n",
       "                        <td id=\"T_73b5227c_e7d7_11ea_a813_42010a8a0004row2_col2\" class=\"data row2 col2\" >133.2</td>\n",
       "                        <td id=\"T_73b5227c_e7d7_11ea_a813_42010a8a0004row2_col3\" class=\"data row2 col3\" > ✔</td>\n",
       "                        <td id=\"T_73b5227c_e7d7_11ea_a813_42010a8a0004row2_col4\" class=\"data row2 col4\" > ✔</td>\n",
       "                        <td id=\"T_73b5227c_e7d7_11ea_a813_42010a8a0004row2_col5\" class=\"data row2 col5\" > ✔</td>\n",
       "                        <td id=\"T_73b5227c_e7d7_11ea_a813_42010a8a0004row2_col6\" class=\"data row2 col6\" > ✔</td>\n",
       "            </tr>\n",
       "            <tr>\n",
       "                                <td id=\"T_73b5227c_e7d7_11ea_a813_42010a8a0004row3_col0\" class=\"data row3 col0\" >2020-08-26</td>\n",
       "                        <td id=\"T_73b5227c_e7d7_11ea_a813_42010a8a0004row3_col1\" class=\"data row3 col1\" >219.7</td>\n",
       "                        <td id=\"T_73b5227c_e7d7_11ea_a813_42010a8a0004row3_col2\" class=\"data row3 col2\" >133.2</td>\n",
       "                        <td id=\"T_73b5227c_e7d7_11ea_a813_42010a8a0004row3_col3\" class=\"data row3 col3\" > ✔</td>\n",
       "                        <td id=\"T_73b5227c_e7d7_11ea_a813_42010a8a0004row3_col4\" class=\"data row3 col4\" > ✔</td>\n",
       "                        <td id=\"T_73b5227c_e7d7_11ea_a813_42010a8a0004row3_col5\" class=\"data row3 col5\" > ✔</td>\n",
       "                        <td id=\"T_73b5227c_e7d7_11ea_a813_42010a8a0004row3_col6\" class=\"data row3 col6\" > ✔</td>\n",
       "            </tr>\n",
       "            <tr>\n",
       "                                <td id=\"T_73b5227c_e7d7_11ea_a813_42010a8a0004row4_col0\" class=\"data row4 col0\" >2020-08-26</td>\n",
       "                        <td id=\"T_73b5227c_e7d7_11ea_a813_42010a8a0004row4_col1\" class=\"data row4 col1\" >219.7</td>\n",
       "                        <td id=\"T_73b5227c_e7d7_11ea_a813_42010a8a0004row4_col2\" class=\"data row4 col2\" >133.2</td>\n",
       "                        <td id=\"T_73b5227c_e7d7_11ea_a813_42010a8a0004row4_col3\" class=\"data row4 col3\" > ✔</td>\n",
       "                        <td id=\"T_73b5227c_e7d7_11ea_a813_42010a8a0004row4_col4\" class=\"data row4 col4\" > ✔</td>\n",
       "                        <td id=\"T_73b5227c_e7d7_11ea_a813_42010a8a0004row4_col5\" class=\"data row4 col5\" > ✔</td>\n",
       "                        <td id=\"T_73b5227c_e7d7_11ea_a813_42010a8a0004row4_col6\" class=\"data row4 col6\" > ✔</td>\n",
       "            </tr>\n",
       "            <tr>\n",
       "                                <td id=\"T_73b5227c_e7d7_11ea_a813_42010a8a0004row5_col0\" class=\"data row5 col0\" >2020-08-26</td>\n",
       "                        <td id=\"T_73b5227c_e7d7_11ea_a813_42010a8a0004row5_col1\" class=\"data row5 col1\" >219.7</td>\n",
       "                        <td id=\"T_73b5227c_e7d7_11ea_a813_42010a8a0004row5_col2\" class=\"data row5 col2\" >133.2</td>\n",
       "                        <td id=\"T_73b5227c_e7d7_11ea_a813_42010a8a0004row5_col3\" class=\"data row5 col3\" > ✔</td>\n",
       "                        <td id=\"T_73b5227c_e7d7_11ea_a813_42010a8a0004row5_col4\" class=\"data row5 col4\" > ✔</td>\n",
       "                        <td id=\"T_73b5227c_e7d7_11ea_a813_42010a8a0004row5_col5\" class=\"data row5 col5\" > ✔</td>\n",
       "                        <td id=\"T_73b5227c_e7d7_11ea_a813_42010a8a0004row5_col6\" class=\"data row5 col6\" > ✔</td>\n",
       "            </tr>\n",
       "            <tr>\n",
       "                                <td id=\"T_73b5227c_e7d7_11ea_a813_42010a8a0004row6_col0\" class=\"data row6 col0\" >2020-08-26</td>\n",
       "                        <td id=\"T_73b5227c_e7d7_11ea_a813_42010a8a0004row6_col1\" class=\"data row6 col1\" >219.7</td>\n",
       "                        <td id=\"T_73b5227c_e7d7_11ea_a813_42010a8a0004row6_col2\" class=\"data row6 col2\" >133.2</td>\n",
       "                        <td id=\"T_73b5227c_e7d7_11ea_a813_42010a8a0004row6_col3\" class=\"data row6 col3\" > ✔</td>\n",
       "                        <td id=\"T_73b5227c_e7d7_11ea_a813_42010a8a0004row6_col4\" class=\"data row6 col4\" > ✔</td>\n",
       "                        <td id=\"T_73b5227c_e7d7_11ea_a813_42010a8a0004row6_col5\" class=\"data row6 col5\" > ✔</td>\n",
       "                        <td id=\"T_73b5227c_e7d7_11ea_a813_42010a8a0004row6_col6\" class=\"data row6 col6\" > ✔</td>\n",
       "            </tr>\n",
       "            <tr>\n",
       "                                <td id=\"T_73b5227c_e7d7_11ea_a813_42010a8a0004row7_col0\" class=\"data row7 col0\" >2020-08-26</td>\n",
       "                        <td id=\"T_73b5227c_e7d7_11ea_a813_42010a8a0004row7_col1\" class=\"data row7 col1\" >219.7</td>\n",
       "                        <td id=\"T_73b5227c_e7d7_11ea_a813_42010a8a0004row7_col2\" class=\"data row7 col2\" >133.2</td>\n",
       "                        <td id=\"T_73b5227c_e7d7_11ea_a813_42010a8a0004row7_col3\" class=\"data row7 col3\" > ✔</td>\n",
       "                        <td id=\"T_73b5227c_e7d7_11ea_a813_42010a8a0004row7_col4\" class=\"data row7 col4\" > ✔</td>\n",
       "                        <td id=\"T_73b5227c_e7d7_11ea_a813_42010a8a0004row7_col5\" class=\"data row7 col5\" > ✔</td>\n",
       "                        <td id=\"T_73b5227c_e7d7_11ea_a813_42010a8a0004row7_col6\" class=\"data row7 col6\" > ✔</td>\n",
       "            </tr>\n",
       "            <tr>\n",
       "                                <td id=\"T_73b5227c_e7d7_11ea_a813_42010a8a0004row8_col0\" class=\"data row8 col0\" >2020-08-26</td>\n",
       "                        <td id=\"T_73b5227c_e7d7_11ea_a813_42010a8a0004row8_col1\" class=\"data row8 col1\" >219.7</td>\n",
       "                        <td id=\"T_73b5227c_e7d7_11ea_a813_42010a8a0004row8_col2\" class=\"data row8 col2\" >133.2</td>\n",
       "                        <td id=\"T_73b5227c_e7d7_11ea_a813_42010a8a0004row8_col3\" class=\"data row8 col3\" > ✔</td>\n",
       "                        <td id=\"T_73b5227c_e7d7_11ea_a813_42010a8a0004row8_col4\" class=\"data row8 col4\" > ✔</td>\n",
       "                        <td id=\"T_73b5227c_e7d7_11ea_a813_42010a8a0004row8_col5\" class=\"data row8 col5\" > ✔</td>\n",
       "                        <td id=\"T_73b5227c_e7d7_11ea_a813_42010a8a0004row8_col6\" class=\"data row8 col6\" > ✔</td>\n",
       "            </tr>\n",
       "            <tr>\n",
       "                                <td id=\"T_73b5227c_e7d7_11ea_a813_42010a8a0004row9_col0\" class=\"data row9 col0\" >2020-08-26</td>\n",
       "                        <td id=\"T_73b5227c_e7d7_11ea_a813_42010a8a0004row9_col1\" class=\"data row9 col1\" >219.7</td>\n",
       "                        <td id=\"T_73b5227c_e7d7_11ea_a813_42010a8a0004row9_col2\" class=\"data row9 col2\" >133.2</td>\n",
       "                        <td id=\"T_73b5227c_e7d7_11ea_a813_42010a8a0004row9_col3\" class=\"data row9 col3\" > ✔</td>\n",
       "                        <td id=\"T_73b5227c_e7d7_11ea_a813_42010a8a0004row9_col4\" class=\"data row9 col4\" > ✔</td>\n",
       "                        <td id=\"T_73b5227c_e7d7_11ea_a813_42010a8a0004row9_col5\" class=\"data row9 col5\" > ✔</td>\n",
       "                        <td id=\"T_73b5227c_e7d7_11ea_a813_42010a8a0004row9_col6\" class=\"data row9 col6\" > ✔</td>\n",
       "            </tr>\n",
       "            <tr>\n",
       "                                <td id=\"T_73b5227c_e7d7_11ea_a813_42010a8a0004row10_col0\" class=\"data row10 col0\" >2020-08-26</td>\n",
       "                        <td id=\"T_73b5227c_e7d7_11ea_a813_42010a8a0004row10_col1\" class=\"data row10 col1\" >219.7</td>\n",
       "                        <td id=\"T_73b5227c_e7d7_11ea_a813_42010a8a0004row10_col2\" class=\"data row10 col2\" >133.2</td>\n",
       "                        <td id=\"T_73b5227c_e7d7_11ea_a813_42010a8a0004row10_col3\" class=\"data row10 col3\" > ✔</td>\n",
       "                        <td id=\"T_73b5227c_e7d7_11ea_a813_42010a8a0004row10_col4\" class=\"data row10 col4\" > ✔</td>\n",
       "                        <td id=\"T_73b5227c_e7d7_11ea_a813_42010a8a0004row10_col5\" class=\"data row10 col5\" > ✔</td>\n",
       "                        <td id=\"T_73b5227c_e7d7_11ea_a813_42010a8a0004row10_col6\" class=\"data row10 col6\" > ✔</td>\n",
       "            </tr>\n",
       "            <tr>\n",
       "                                <td id=\"T_73b5227c_e7d7_11ea_a813_42010a8a0004row11_col0\" class=\"data row11 col0\" >2020-08-26</td>\n",
       "                        <td id=\"T_73b5227c_e7d7_11ea_a813_42010a8a0004row11_col1\" class=\"data row11 col1\" >219.7</td>\n",
       "                        <td id=\"T_73b5227c_e7d7_11ea_a813_42010a8a0004row11_col2\" class=\"data row11 col2\" >133.2</td>\n",
       "                        <td id=\"T_73b5227c_e7d7_11ea_a813_42010a8a0004row11_col3\" class=\"data row11 col3\" > ✔</td>\n",
       "                        <td id=\"T_73b5227c_e7d7_11ea_a813_42010a8a0004row11_col4\" class=\"data row11 col4\" > ✔</td>\n",
       "                        <td id=\"T_73b5227c_e7d7_11ea_a813_42010a8a0004row11_col5\" class=\"data row11 col5\" > ✔</td>\n",
       "                        <td id=\"T_73b5227c_e7d7_11ea_a813_42010a8a0004row11_col6\" class=\"data row11 col6\" > ✔</td>\n",
       "            </tr>\n",
       "            <tr>\n",
       "                                <td id=\"T_73b5227c_e7d7_11ea_a813_42010a8a0004row12_col0\" class=\"data row12 col0\" >2020-08-26</td>\n",
       "                        <td id=\"T_73b5227c_e7d7_11ea_a813_42010a8a0004row12_col1\" class=\"data row12 col1\" >219.7</td>\n",
       "                        <td id=\"T_73b5227c_e7d7_11ea_a813_42010a8a0004row12_col2\" class=\"data row12 col2\" >133.2</td>\n",
       "                        <td id=\"T_73b5227c_e7d7_11ea_a813_42010a8a0004row12_col3\" class=\"data row12 col3\" > ✔</td>\n",
       "                        <td id=\"T_73b5227c_e7d7_11ea_a813_42010a8a0004row12_col4\" class=\"data row12 col4\" > ✔</td>\n",
       "                        <td id=\"T_73b5227c_e7d7_11ea_a813_42010a8a0004row12_col5\" class=\"data row12 col5\" > ✔</td>\n",
       "                        <td id=\"T_73b5227c_e7d7_11ea_a813_42010a8a0004row12_col6\" class=\"data row12 col6\" > ✔</td>\n",
       "            </tr>\n",
       "            <tr>\n",
       "                                <td id=\"T_73b5227c_e7d7_11ea_a813_42010a8a0004row13_col0\" class=\"data row13 col0\" >2020-08-26</td>\n",
       "                        <td id=\"T_73b5227c_e7d7_11ea_a813_42010a8a0004row13_col1\" class=\"data row13 col1\" >219.7</td>\n",
       "                        <td id=\"T_73b5227c_e7d7_11ea_a813_42010a8a0004row13_col2\" class=\"data row13 col2\" >133.2</td>\n",
       "                        <td id=\"T_73b5227c_e7d7_11ea_a813_42010a8a0004row13_col3\" class=\"data row13 col3\" > ✔</td>\n",
       "                        <td id=\"T_73b5227c_e7d7_11ea_a813_42010a8a0004row13_col4\" class=\"data row13 col4\" > ✔</td>\n",
       "                        <td id=\"T_73b5227c_e7d7_11ea_a813_42010a8a0004row13_col5\" class=\"data row13 col5\" > ✔</td>\n",
       "                        <td id=\"T_73b5227c_e7d7_11ea_a813_42010a8a0004row13_col6\" class=\"data row13 col6\" > ✔</td>\n",
       "            </tr>\n",
       "            <tr>\n",
       "                                <td id=\"T_73b5227c_e7d7_11ea_a813_42010a8a0004row14_col0\" class=\"data row14 col0\" >2020-08-26</td>\n",
       "                        <td id=\"T_73b5227c_e7d7_11ea_a813_42010a8a0004row14_col1\" class=\"data row14 col1\" >219.7</td>\n",
       "                        <td id=\"T_73b5227c_e7d7_11ea_a813_42010a8a0004row14_col2\" class=\"data row14 col2\" >133.2</td>\n",
       "                        <td id=\"T_73b5227c_e7d7_11ea_a813_42010a8a0004row14_col3\" class=\"data row14 col3\" > ✔</td>\n",
       "                        <td id=\"T_73b5227c_e7d7_11ea_a813_42010a8a0004row14_col4\" class=\"data row14 col4\" > ✔</td>\n",
       "                        <td id=\"T_73b5227c_e7d7_11ea_a813_42010a8a0004row14_col5\" class=\"data row14 col5\" > ✔</td>\n",
       "                        <td id=\"T_73b5227c_e7d7_11ea_a813_42010a8a0004row14_col6\" class=\"data row14 col6\" > ✔</td>\n",
       "            </tr>\n",
       "            <tr>\n",
       "                                <td id=\"T_73b5227c_e7d7_11ea_a813_42010a8a0004row15_col0\" class=\"data row15 col0\" >2020-08-26</td>\n",
       "                        <td id=\"T_73b5227c_e7d7_11ea_a813_42010a8a0004row15_col1\" class=\"data row15 col1\" >219.7</td>\n",
       "                        <td id=\"T_73b5227c_e7d7_11ea_a813_42010a8a0004row15_col2\" class=\"data row15 col2\" >133.2</td>\n",
       "                        <td id=\"T_73b5227c_e7d7_11ea_a813_42010a8a0004row15_col3\" class=\"data row15 col3\" > ✔</td>\n",
       "                        <td id=\"T_73b5227c_e7d7_11ea_a813_42010a8a0004row15_col4\" class=\"data row15 col4\" > ✔</td>\n",
       "                        <td id=\"T_73b5227c_e7d7_11ea_a813_42010a8a0004row15_col5\" class=\"data row15 col5\" > ✔</td>\n",
       "                        <td id=\"T_73b5227c_e7d7_11ea_a813_42010a8a0004row15_col6\" class=\"data row15 col6\" > ✔</td>\n",
       "            </tr>\n",
       "            <tr>\n",
       "                                <td id=\"T_73b5227c_e7d7_11ea_a813_42010a8a0004row16_col0\" class=\"data row16 col0\" >2020-08-26</td>\n",
       "                        <td id=\"T_73b5227c_e7d7_11ea_a813_42010a8a0004row16_col1\" class=\"data row16 col1\" >219.7</td>\n",
       "                        <td id=\"T_73b5227c_e7d7_11ea_a813_42010a8a0004row16_col2\" class=\"data row16 col2\" >133.2</td>\n",
       "                        <td id=\"T_73b5227c_e7d7_11ea_a813_42010a8a0004row16_col3\" class=\"data row16 col3\" > ✔</td>\n",
       "                        <td id=\"T_73b5227c_e7d7_11ea_a813_42010a8a0004row16_col4\" class=\"data row16 col4\" > ✔</td>\n",
       "                        <td id=\"T_73b5227c_e7d7_11ea_a813_42010a8a0004row16_col5\" class=\"data row16 col5\" > ✔</td>\n",
       "                        <td id=\"T_73b5227c_e7d7_11ea_a813_42010a8a0004row16_col6\" class=\"data row16 col6\" > ✔</td>\n",
       "            </tr>\n",
       "            <tr>\n",
       "                                <td id=\"T_73b5227c_e7d7_11ea_a813_42010a8a0004row17_col0\" class=\"data row17 col0\" >2020-08-26</td>\n",
       "                        <td id=\"T_73b5227c_e7d7_11ea_a813_42010a8a0004row17_col1\" class=\"data row17 col1\" >219.7</td>\n",
       "                        <td id=\"T_73b5227c_e7d7_11ea_a813_42010a8a0004row17_col2\" class=\"data row17 col2\" >133.2</td>\n",
       "                        <td id=\"T_73b5227c_e7d7_11ea_a813_42010a8a0004row17_col3\" class=\"data row17 col3\" > ✔</td>\n",
       "                        <td id=\"T_73b5227c_e7d7_11ea_a813_42010a8a0004row17_col4\" class=\"data row17 col4\" > ✔</td>\n",
       "                        <td id=\"T_73b5227c_e7d7_11ea_a813_42010a8a0004row17_col5\" class=\"data row17 col5\" > ✔</td>\n",
       "                        <td id=\"T_73b5227c_e7d7_11ea_a813_42010a8a0004row17_col6\" class=\"data row17 col6\" > ✔</td>\n",
       "            </tr>\n",
       "            <tr>\n",
       "                                <td id=\"T_73b5227c_e7d7_11ea_a813_42010a8a0004row18_col0\" class=\"data row18 col0\" >2020-08-26</td>\n",
       "                        <td id=\"T_73b5227c_e7d7_11ea_a813_42010a8a0004row18_col1\" class=\"data row18 col1\" >219.7</td>\n",
       "                        <td id=\"T_73b5227c_e7d7_11ea_a813_42010a8a0004row18_col2\" class=\"data row18 col2\" >133.2</td>\n",
       "                        <td id=\"T_73b5227c_e7d7_11ea_a813_42010a8a0004row18_col3\" class=\"data row18 col3\" > ✔</td>\n",
       "                        <td id=\"T_73b5227c_e7d7_11ea_a813_42010a8a0004row18_col4\" class=\"data row18 col4\" > ✔</td>\n",
       "                        <td id=\"T_73b5227c_e7d7_11ea_a813_42010a8a0004row18_col5\" class=\"data row18 col5\" > ✔</td>\n",
       "                        <td id=\"T_73b5227c_e7d7_11ea_a813_42010a8a0004row18_col6\" class=\"data row18 col6\" > ✔</td>\n",
       "            </tr>\n",
       "    </tbody></table>"
      ],
      "text/plain": [
       "<pandas.io.formats.style.Styler at 0x7ff4a78db0b8>"
      ]
     },
     "execution_count": 12,
     "metadata": {},
     "output_type": "execute_result"
    }
   ],
   "source": [
    "# Style the pandas dataframe\n",
    "d = dict(selector=\"th\",\n",
    "         props=[('text-align', 'center')])\n",
    "\n",
    "result.reset_index().style\\\n",
    "    .set_properties(**{'width':'20em', 'text-align':'center'})\\\n",
    "    .set_properties(subset=['Date'], **{'font-weight': 'bold'})\\\n",
    "    .set_table_styles([d])\\\n",
    "    .set_precision(1)\\\n",
    "    .hide_index()"
   ]
  },
  {
   "cell_type": "markdown",
   "metadata": {
    "papermill": {
     "duration": 0.010983,
     "end_time": "2020-08-26T20:05:13.381496",
     "exception": false,
     "start_time": "2020-08-26T20:05:13.370513",
     "status": "completed"
    },
    "tags": []
   },
   "source": [
    "<sup>Notes: (1) 7 day average with a 7-day lag. (2) 14 day average. (3) 7 day average with a 7-day lag. (4) Change in 3 day average.</sup>"
   ]
  },
  {
   "cell_type": "code",
   "execution_count": 13,
   "metadata": {
    "execution": {
     "iopub.execute_input": "2020-08-26T20:05:13.408757Z",
     "iopub.status.busy": "2020-08-26T20:05:13.408258Z",
     "iopub.status.idle": "2020-08-26T20:05:13.411380Z",
     "shell.execute_reply": "2020-08-26T20:05:13.411779Z"
    },
    "papermill": {
     "duration": 0.019703,
     "end_time": "2020-08-26T20:05:13.411939",
     "exception": false,
     "start_time": "2020-08-26T20:05:13.392236",
     "status": "completed"
    },
    "tags": [
     "remove_input"
    ]
   },
   "outputs": [
    {
     "data": {
      "text/markdown": [
       "Table last updated by CDPH on August 26, 2020."
      ],
      "text/plain": [
       "<IPython.core.display.Markdown object>"
      ]
     },
     "execution_count": 13,
     "metadata": {},
     "output_type": "execute_result"
    }
   ],
   "source": [
    "md(update_tag)"
   ]
  },
  {
   "cell_type": "markdown",
   "metadata": {
    "papermill": {
     "duration": 0.010784,
     "end_time": "2020-08-26T20:05:13.434338",
     "exception": false,
     "start_time": "2020-08-26T20:05:13.423554",
     "status": "completed"
    },
    "tags": []
   },
   "source": [
    "## Tracking county closures in Santa Barbara"
   ]
  },
  {
   "cell_type": "markdown",
   "metadata": {
    "papermill": {
     "duration": 0.010757,
     "end_time": "2020-08-26T20:05:13.456027",
     "exception": false,
     "start_time": "2020-08-26T20:05:13.445270",
     "status": "completed"
    },
    "tags": []
   },
   "source": [
    "The state of California is using a data-driven approach informed by scientific evidence to tailor its response to COVID-19. Three dimensions of concern are monitored to assess whether a county should be placed on the County Monitoring List:\n",
    " 1. Elevated Disease Transmission\n",
    " 2. Increasing Hospitalization\n",
    " 3. Limited Hospital Capacity\n",
    "\n",
    "Once a county appears on the County Monitoring List for three consecutive days, indoor operations in the sectors listed in Section 3 of the [July 13th State Health Officer Order](https://www.cdph.ca.gov/Programs/CID/DCDC/CDPH%20Document%20Library/COVID-19/SHO%20Order%20Dimming%20Entire%20State%207-13-2020.pdf) must close.\n",
    "\n",
    "This table tracks where Santa Barbara stands in terms of the criteria for inclusion on the County Monitoring List. As of 20 August 2020, the criteria for inclusion on the monitoring list are:\n",
    "\n",
    "* Case rate >100 OR (Case rate >25 AND Positivity >8%)\n",
    "* \\>10% increase in hospitalizations\n",
    "* <20% ICU beds available OR <25% ventilators available\n",
    "\n",
    "If Santa Barbara meets the criteria for removal from the County Monitoring List for a certain metric, then a checkmark ✔ is displayed in the table.\n",
    "\n",
    "Read more at <https://covid19.ca.gov/roadmap-counties/>.\n",
    "\n",
    "Data source for county metrics: https://www.cdph.ca.gov/Programs/CID/DCDC/Pages/COVID-19/COVID19CountyDataTable.aspx."
   ]
  },
  {
   "cell_type": "markdown",
   "metadata": {
    "papermill": {
     "duration": 0.010921,
     "end_time": "2020-08-26T20:05:13.477750",
     "exception": false,
     "start_time": "2020-08-26T20:05:13.466829",
     "status": "completed"
    },
    "tags": []
   },
   "source": [
    "**See the code used to scrape the data: https://github.com/walice/COVID-SB/.**"
   ]
  },
  {
   "cell_type": "code",
   "execution_count": 14,
   "metadata": {
    "execution": {
     "iopub.execute_input": "2020-08-26T20:05:13.505410Z",
     "iopub.status.busy": "2020-08-26T20:05:13.504923Z",
     "iopub.status.idle": "2020-08-26T20:05:13.508985Z",
     "shell.execute_reply": "2020-08-26T20:05:13.509370Z"
    },
    "papermill": {
     "duration": 0.020832,
     "end_time": "2020-08-26T20:05:13.509538",
     "exception": false,
     "start_time": "2020-08-26T20:05:13.488706",
     "status": "completed"
    },
    "tags": [
     "remove_cell"
    ]
   },
   "outputs": [
    {
     "data": {
      "application/javascript": [
       "IPython.notebook.save_notebook()\n"
      ],
      "text/plain": [
       "<IPython.core.display.Javascript object>"
      ]
     },
     "metadata": {},
     "output_type": "display_data"
    }
   ],
   "source": [
    "%%javascript\n",
    "IPython.notebook.save_notebook()"
   ]
  },
  {
   "cell_type": "code",
   "execution_count": 15,
   "metadata": {
    "execution": {
     "iopub.execute_input": "2020-08-26T20:05:13.539608Z",
     "iopub.status.busy": "2020-08-26T20:05:13.539087Z",
     "iopub.status.idle": "2020-08-26T20:05:15.703180Z",
     "shell.execute_reply": "2020-08-26T20:05:15.704134Z"
    },
    "papermill": {
     "duration": 2.183459,
     "end_time": "2020-08-26T20:05:15.704311",
     "exception": false,
     "start_time": "2020-08-26T20:05:13.520852",
     "status": "completed"
    },
    "slideshow": {
     "slide_type": "skip"
    },
    "tags": [
     "remove_cell"
    ]
   },
   "outputs": [
    {
     "name": "stdout",
     "output_type": "stream",
     "text": [
      "[NbConvertApp] Converting notebook index.ipynb to html\r\n"
     ]
    },
    {
     "name": "stdout",
     "output_type": "stream",
     "text": [
      "[NbConvertApp] Writing 372676 bytes to index.html\r\n"
     ]
    }
   ],
   "source": [
    "# Convert Jupyter Notebook to HTML\n",
    "! jupyter nbconvert \"index.ipynb\" --to html --TagRemovePreprocessor.enabled=True --TagRemovePreprocessor.remove_cell_tags=\"['remove_cell']\" --TagRemovePreprocessor.remove_input_tags=\"['remove_input']\" --no-prompt"
   ]
  },
  {
   "cell_type": "code",
   "execution_count": 16,
   "metadata": {
    "execution": {
     "iopub.execute_input": "2020-08-26T20:05:15.736113Z",
     "iopub.status.busy": "2020-08-26T20:05:15.735433Z",
     "iopub.status.idle": "2020-08-26T20:05:15.736988Z",
     "shell.execute_reply": "2020-08-26T20:05:15.736565Z"
    },
    "papermill": {
     "duration": 0.019487,
     "end_time": "2020-08-26T20:05:15.737107",
     "exception": false,
     "start_time": "2020-08-26T20:05:15.717620",
     "status": "completed"
    },
    "tags": [
     "remove_cell"
    ]
   },
   "outputs": [],
   "source": [
    "# Create daily commit message\n",
    "now = datetime.datetime.now()\n",
    "commit_message = \"Last scraped on \" + str(now)"
   ]
  },
  {
   "cell_type": "code",
   "execution_count": null,
   "metadata": {
    "execution": {
     "iopub.execute_input": "2020-08-26T20:01:13.843519Z",
     "iopub.status.busy": "2020-08-26T20:01:13.842562Z",
     "iopub.status.idle": "2020-08-26T20:01:18.650487Z",
     "shell.execute_reply": "2020-08-26T20:01:18.649167Z"
    },
    "papermill": {
     "duration": null,
     "end_time": null,
     "exception": false,
     "start_time": "2020-08-26T20:05:15.748567",
     "status": "running"
    },
    "tags": [
     "remove_cell"
    ]
   },
   "outputs": [],
   "source": [
    "# Deploy to GitHub\n",
    "! git add .\n",
    "! echo $commit_message > commit_message.txt\n",
    "! git commit -F commit_message.txt\n",
    "! git push"
   ]
  }
 ],
 "metadata": {
  "celltoolbar": "Tags",
  "kernelspec": {
   "display_name": "Python 3",
   "language": "python",
   "name": "python3"
  },
  "language_info": {
   "codemirror_mode": {
    "name": "ipython",
    "version": 3
   },
   "file_extension": ".py",
   "mimetype": "text/x-python",
   "name": "python",
   "nbconvert_exporter": "python",
   "pygments_lexer": "ipython3",
   "version": "3.7.3"
  },
  "papermill": {
   "duration": null,
   "end_time": null,
   "environment_variables": {},
   "exception": null,
   "input_path": "/home/alice_lepissier/cron-job/index.ipynb",
   "output_path": "/home/alice_lepissier/cron-job/index.ipynb",
   "parameters": {},
   "start_time": "2020-08-26T20:05:03.091994",
   "version": "2.1.3"
  }
 },
 "nbformat": 4,
 "nbformat_minor": 4
}