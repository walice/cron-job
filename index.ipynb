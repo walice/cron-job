{
 "cells": [
  {
   "cell_type": "markdown",
   "metadata": {
    "papermill": {
     "duration": 0.010886,
     "end_time": "2020-08-26T20:22:04.278887",
     "exception": false,
     "start_time": "2020-08-26T20:22:04.268001",
     "status": "completed"
    },
    "tags": []
   },
   "source": [
    "# Daily COVID monitoring data for Santa Barbara county"
   ]
  },
  {
   "cell_type": "code",
   "execution_count": 1,
   "metadata": {
    "execution": {
     "iopub.execute_input": "2020-08-26T20:22:04.306546Z",
     "iopub.status.busy": "2020-08-26T20:22:04.305959Z",
     "iopub.status.idle": "2020-08-26T20:22:06.506716Z",
     "shell.execute_reply": "2020-08-26T20:22:06.507647Z"
    },
    "papermill": {
     "duration": 2.218717,
     "end_time": "2020-08-26T20:22:06.507885",
     "exception": false,
     "start_time": "2020-08-26T20:22:04.289168",
     "status": "completed"
    },
    "tags": [
     "remove_cell"
    ]
   },
   "outputs": [],
   "source": [
    "! jt -t grade3 -tf robotosans -cellw 1100"
   ]
  },
  {
   "cell_type": "markdown",
   "metadata": {
    "papermill": {
     "duration": 0.009909,
     "end_time": "2020-08-26T20:22:06.528941",
     "exception": false,
     "start_time": "2020-08-26T20:22:06.519032",
     "status": "completed"
    },
    "tags": []
   },
   "source": [
    "This table is automatically updated with new daily COVID data for the county of Santa Barbara, CA. Every day, the California Department of Public Health publishes COVID tracking metrics for each county, but does not save the previous day's data. This tool keeps track of the daily metrics that are used to monitor progress towards safe reopening in California."
   ]
  },
  {
   "cell_type": "code",
   "execution_count": 2,
   "metadata": {
    "execution": {
     "iopub.execute_input": "2020-08-26T20:22:06.555333Z",
     "iopub.status.busy": "2020-08-26T20:22:06.554734Z",
     "iopub.status.idle": "2020-08-26T20:22:09.978613Z",
     "shell.execute_reply": "2020-08-26T20:22:09.979586Z"
    },
    "papermill": {
     "duration": 3.440348,
     "end_time": "2020-08-26T20:22:09.979763",
     "exception": false,
     "start_time": "2020-08-26T20:22:06.539415",
     "status": "completed"
    },
    "slideshow": {
     "slide_type": "skip"
    },
    "tags": [
     "remove_cell"
    ]
   },
   "outputs": [],
   "source": [
    "# Preamble\n",
    "import os\n",
    "from IPython.display import Markdown as md\n",
    "import IPython\n",
    "import requests\n",
    "from bs4 import BeautifulSoup\n",
    "import re\n",
    "import pandas as pd\n",
    "import datetime\n",
    "import gspread\n",
    "from oauth2client.service_account import ServiceAccountCredentials"
   ]
  },
  {
   "cell_type": "code",
   "execution_count": 3,
   "metadata": {
    "execution": {
     "iopub.execute_input": "2020-08-26T20:22:10.007085Z",
     "iopub.status.busy": "2020-08-26T20:22:10.006429Z",
     "iopub.status.idle": "2020-08-26T20:22:10.007930Z",
     "shell.execute_reply": "2020-08-26T20:22:10.007524Z"
    },
    "papermill": {
     "duration": 0.017137,
     "end_time": "2020-08-26T20:22:10.008053",
     "exception": false,
     "start_time": "2020-08-26T20:22:09.990916",
     "status": "completed"
    },
    "tags": [
     "remove_cell"
    ]
   },
   "outputs": [],
   "source": [
    "# Set working directory\n",
    "os.chdir(\"/home/alice_lepissier/cron-job\")"
   ]
  },
  {
   "cell_type": "code",
   "execution_count": 4,
   "metadata": {
    "execution": {
     "iopub.execute_input": "2020-08-26T20:22:10.034233Z",
     "iopub.status.busy": "2020-08-26T20:22:10.033591Z",
     "iopub.status.idle": "2020-08-26T20:22:11.566285Z",
     "shell.execute_reply": "2020-08-26T20:22:11.567106Z"
    },
    "papermill": {
     "duration": 1.549478,
     "end_time": "2020-08-26T20:22:11.567275",
     "exception": false,
     "start_time": "2020-08-26T20:22:10.017797",
     "status": "completed"
    },
    "slideshow": {
     "slide_type": "skip"
    },
    "tags": [
     "remove_cell"
    ]
   },
   "outputs": [],
   "source": [
    "# Request content from URL\n",
    "html_string = requests.get('https://www.cdph.ca.gov/Programs/CID/DCDC/Pages/COVID-19/COVID19CountyDataTable.aspx').content"
   ]
  },
  {
   "cell_type": "code",
   "execution_count": 5,
   "metadata": {
    "execution": {
     "iopub.execute_input": "2020-08-26T20:22:11.595558Z",
     "iopub.status.busy": "2020-08-26T20:22:11.595066Z",
     "iopub.status.idle": "2020-08-26T20:22:11.682260Z",
     "shell.execute_reply": "2020-08-26T20:22:11.683053Z"
    },
    "papermill": {
     "duration": 0.105532,
     "end_time": "2020-08-26T20:22:11.683231",
     "exception": false,
     "start_time": "2020-08-26T20:22:11.577699",
     "status": "completed"
    },
    "slideshow": {
     "slide_type": "skip"
    },
    "tags": [
     "remove_cell"
    ]
   },
   "outputs": [],
   "source": [
    "# Parse HTML\n",
    "soup = BeautifulSoup(html_string, 'html.parser')"
   ]
  },
  {
   "cell_type": "code",
   "execution_count": 6,
   "metadata": {
    "execution": {
     "iopub.execute_input": "2020-08-26T20:22:11.711603Z",
     "iopub.status.busy": "2020-08-26T20:22:11.711054Z",
     "iopub.status.idle": "2020-08-26T20:22:11.719276Z",
     "shell.execute_reply": "2020-08-26T20:22:11.720086Z"
    },
    "papermill": {
     "duration": 0.026468,
     "end_time": "2020-08-26T20:22:11.720251",
     "exception": false,
     "start_time": "2020-08-26T20:22:11.693783",
     "status": "completed"
    },
    "slideshow": {
     "slide_type": "skip"
    },
    "tags": [
     "remove_cell"
    ]
   },
   "outputs": [],
   "source": [
    "# Extract data for Santa Barbara\n",
    "table = soup.find_all(\"tr\", class_=\"ms-rteTableEvenRow-3\")\n",
    "SB = table[21]"
   ]
  },
  {
   "cell_type": "code",
   "execution_count": 7,
   "metadata": {
    "execution": {
     "iopub.execute_input": "2020-08-26T20:22:11.747518Z",
     "iopub.status.busy": "2020-08-26T20:22:11.747015Z",
     "iopub.status.idle": "2020-08-26T20:22:11.759252Z",
     "shell.execute_reply": "2020-08-26T20:22:11.760048Z"
    },
    "papermill": {
     "duration": 0.029814,
     "end_time": "2020-08-26T20:22:11.760212",
     "exception": false,
     "start_time": "2020-08-26T20:22:11.730398",
     "status": "completed"
    },
    "slideshow": {
     "slide_type": "skip"
    },
    "tags": [
     "remove_cell"
    ]
   },
   "outputs": [],
   "source": [
    "# Avg # tests per day (per 100,000 population)\n",
    "daily_tests = SB.find_all(\"td\", class_=\"ms-rteTableOddCol-3\")[0].text\n",
    "\n",
    "# Case rate per 100,000\n",
    "case_rate = SB.find_all(\"td\", class_=\"ms-rteTableEvenCol-3\")[1].text\n",
    "\n",
    "# Testing positivity (%)\n",
    "test_positivity = SB.find_all(\"td\", class_=\"ms-rteTableOddCol-3\")[1].text\n",
    "\n",
    "# % Change in 3-day avg COVID+ hospitalized patients\n",
    "change_hospit = SB.find_all(\"td\", class_=\"ms-rteTableEvenCol-3\")[2].text\n",
    "\n",
    "# % ICU beds currently available\n",
    "ICU_beds = SB.find_all(\"td\", class_=\"ms-rteTableOddCol-3\")[2].text\n",
    "\n",
    "# % Ventilators currently available\n",
    "ventilators = SB.find_all(\"td\", class_=\"ms-rteTableEvenCol-3\")[3].text\n",
    "\n",
    "# Extract date of last update\n",
    "update_date = soup.find_all(\"span\", class_=\"ms-rteStyle-Accent1\")[1]\\\n",
    "    .find(\"em\").text"
   ]
  },
  {
   "cell_type": "code",
   "execution_count": 8,
   "metadata": {
    "execution": {
     "iopub.execute_input": "2020-08-26T20:22:11.787380Z",
     "iopub.status.busy": "2020-08-26T20:22:11.786778Z",
     "iopub.status.idle": "2020-08-26T20:22:11.788221Z",
     "shell.execute_reply": "2020-08-26T20:22:11.787814Z"
    },
    "papermill": {
     "duration": 0.016699,
     "end_time": "2020-08-26T20:22:11.788343",
     "exception": false,
     "start_time": "2020-08-26T20:22:11.771644",
     "status": "completed"
    },
    "tags": [
     "remove_cell"
    ]
   },
   "outputs": [],
   "source": [
    "# Create updated date string\n",
    "update_tag = \"Table last updated by CDPH on \" + update_date.split(\" on \", 1)[1] + \".\""
   ]
  },
  {
   "cell_type": "code",
   "execution_count": 9,
   "metadata": {
    "execution": {
     "iopub.execute_input": "2020-08-26T20:22:11.812886Z",
     "iopub.status.busy": "2020-08-26T20:22:11.812380Z",
     "iopub.status.idle": "2020-08-26T20:22:11.839686Z",
     "shell.execute_reply": "2020-08-26T20:22:11.840482Z"
    },
    "papermill": {
     "duration": 0.042233,
     "end_time": "2020-08-26T20:22:11.840657",
     "exception": false,
     "start_time": "2020-08-26T20:22:11.798424",
     "status": "completed"
    },
    "slideshow": {
     "slide_type": "skip"
    },
    "tags": [
     "remove_cell"
    ]
   },
   "outputs": [],
   "source": [
    "# Set up Google Sheet API\n",
    "scope = [\"https://spreadsheets.google.com/feeds\",'https://www.googleapis.com/auth/spreadsheets',\"https://www.googleapis.com/auth/drive.file\",\"https://www.googleapis.com/auth/drive\"]\n",
    "creds = ServiceAccountCredentials.from_json_keyfile_name(\"credentials.json\", scope)\n",
    "client = gspread.authorize(creds)"
   ]
  },
  {
   "cell_type": "code",
   "execution_count": 10,
   "metadata": {
    "execution": {
     "iopub.execute_input": "2020-08-26T20:22:11.867491Z",
     "iopub.status.busy": "2020-08-26T20:22:11.867005Z",
     "iopub.status.idle": "2020-08-26T20:22:12.889773Z",
     "shell.execute_reply": "2020-08-26T20:22:12.890578Z"
    },
    "papermill": {
     "duration": 1.039885,
     "end_time": "2020-08-26T20:22:12.890750",
     "exception": false,
     "start_time": "2020-08-26T20:22:11.850865",
     "status": "completed"
    },
    "slideshow": {
     "slide_type": "skip"
    },
    "tags": [
     "remove_cell"
    ]
   },
   "outputs": [
    {
     "data": {
      "text/plain": [
       "{'spreadsheetId': '1pcqdMzKtea2Oq3BDmdAOQ21gZjCssieKI0692VfNLXU',\n",
       " 'updatedRange': 'Sheet1!A2:G2',\n",
       " 'updatedRows': 1,\n",
       " 'updatedColumns': 7,\n",
       " 'updatedCells': 7}"
      ]
     },
     "execution_count": 10,
     "metadata": {},
     "output_type": "execute_result"
    }
   ],
   "source": [
    "# Append daily data as a new row in Google Sheet\n",
    "sheet = client.open(\"Test cron job\").sheet1\n",
    "insertRow = [datetime.date.today().strftime(\"%Y-%m-%d\"),\n",
    "             daily_tests,\n",
    "             case_rate,\n",
    "             test_positivity,\n",
    "             change_hospit,\n",
    "             ICU_beds,\n",
    "             ventilators]\n",
    "sheet.insert_row(insertRow, 2)"
   ]
  },
  {
   "cell_type": "code",
   "execution_count": 11,
   "metadata": {
    "execution": {
     "iopub.execute_input": "2020-08-26T20:22:12.917462Z",
     "iopub.status.busy": "2020-08-26T20:22:12.916934Z",
     "iopub.status.idle": "2020-08-26T20:22:13.458021Z",
     "shell.execute_reply": "2020-08-26T20:22:13.459053Z"
    },
    "papermill": {
     "duration": 0.557876,
     "end_time": "2020-08-26T20:22:13.459236",
     "exception": false,
     "start_time": "2020-08-26T20:22:12.901360",
     "status": "completed"
    },
    "scrolled": true,
    "slideshow": {
     "slide_type": "slide"
    },
    "tags": [
     "remove_cell"
    ]
   },
   "outputs": [],
   "source": [
    "# Extract data from Google Sheet as pandas dataframe\n",
    "sheet = client.open(\"Test cron job\").sheet1\n",
    "data = sheet.get_all_records()\n",
    "result = pd.DataFrame(data).set_index(\"Date\")"
   ]
  },
  {
   "cell_type": "code",
   "execution_count": 12,
   "metadata": {
    "execution": {
     "iopub.execute_input": "2020-08-26T20:22:13.487213Z",
     "iopub.status.busy": "2020-08-26T20:22:13.486696Z",
     "iopub.status.idle": "2020-08-26T20:22:14.523570Z",
     "shell.execute_reply": "2020-08-26T20:22:14.524287Z"
    },
    "papermill": {
     "duration": 1.054277,
     "end_time": "2020-08-26T20:22:14.524445",
     "exception": false,
     "start_time": "2020-08-26T20:22:13.470168",
     "status": "completed"
    },
    "scrolled": true,
    "tags": [
     "remove_input"
    ]
   },
   "outputs": [
    {
     "data": {
      "text/html": [
       "<style  type=\"text/css\" >\n",
       "    #T_d45f754e_e7d9_11ea_a903_42010a8a0004 th {\n",
       "          text-align: center;\n",
       "    }#T_d45f754e_e7d9_11ea_a903_42010a8a0004row0_col0{\n",
       "            width:  20em;\n",
       "            text-align:  center;\n",
       "            font-weight:  bold;\n",
       "        }#T_d45f754e_e7d9_11ea_a903_42010a8a0004row0_col1,#T_d45f754e_e7d9_11ea_a903_42010a8a0004row0_col2,#T_d45f754e_e7d9_11ea_a903_42010a8a0004row0_col3,#T_d45f754e_e7d9_11ea_a903_42010a8a0004row0_col4,#T_d45f754e_e7d9_11ea_a903_42010a8a0004row0_col5,#T_d45f754e_e7d9_11ea_a903_42010a8a0004row0_col6{\n",
       "            width:  20em;\n",
       "            text-align:  center;\n",
       "        }</style><table id=\"T_d45f754e_e7d9_11ea_a903_42010a8a0004\" ><thead>    <tr>        <th class=\"col_heading level0 col0\" >Date</th>        <th class=\"col_heading level0 col1\" >Daily tests (per 100,000)¹</th>        <th class=\"col_heading level0 col2\" >Case rate (per 100,000)²</th>        <th class=\"col_heading level0 col3\" >Testing positivity (%)³</th>        <th class=\"col_heading level0 col4\" >Change in hospitalizations (%)⁴</th>        <th class=\"col_heading level0 col5\" >ICU beds available (%)</th>        <th class=\"col_heading level0 col6\" >Ventilators (available (%)</th>    </tr></thead><tbody>\n",
       "                <tr>\n",
       "                                <td id=\"T_d45f754e_e7d9_11ea_a903_42010a8a0004row0_col0\" class=\"data row0 col0\" >2020-08-26</td>\n",
       "                        <td id=\"T_d45f754e_e7d9_11ea_a903_42010a8a0004row0_col1\" class=\"data row0 col1\" >219.7</td>\n",
       "                        <td id=\"T_d45f754e_e7d9_11ea_a903_42010a8a0004row0_col2\" class=\"data row0 col2\" >133.2</td>\n",
       "                        <td id=\"T_d45f754e_e7d9_11ea_a903_42010a8a0004row0_col3\" class=\"data row0 col3\" > ✔</td>\n",
       "                        <td id=\"T_d45f754e_e7d9_11ea_a903_42010a8a0004row0_col4\" class=\"data row0 col4\" > ✔</td>\n",
       "                        <td id=\"T_d45f754e_e7d9_11ea_a903_42010a8a0004row0_col5\" class=\"data row0 col5\" > ✔</td>\n",
       "                        <td id=\"T_d45f754e_e7d9_11ea_a903_42010a8a0004row0_col6\" class=\"data row0 col6\" > ✔</td>\n",
       "            </tr>\n",
       "    </tbody></table>"
      ],
      "text/plain": [
       "<pandas.io.formats.style.Styler at 0x7fd4db29e128>"
      ]
     },
     "execution_count": 12,
     "metadata": {},
     "output_type": "execute_result"
    }
   ],
   "source": [
    "# Style the pandas dataframe\n",
    "d = dict(selector=\"th\",\n",
    "         props=[('text-align', 'center')])\n",
    "\n",
    "result.reset_index().style\\\n",
    "    .set_properties(**{'width':'20em', 'text-align':'center'})\\\n",
    "    .set_properties(subset=['Date'], **{'font-weight': 'bold'})\\\n",
    "    .set_table_styles([d])\\\n",
    "    .set_precision(1)\\\n",
    "    .hide_index()"
   ]
  },
  {
   "cell_type": "markdown",
   "metadata": {
    "papermill": {
     "duration": 0.010264,
     "end_time": "2020-08-26T20:22:14.545542",
     "exception": false,
     "start_time": "2020-08-26T20:22:14.535278",
     "status": "completed"
    },
    "tags": []
   },
   "source": [
    "<sup>Notes: (1) 7 day average with a 7-day lag. (2) 14 day average. (3) 7 day average with a 7-day lag. (4) Change in 3 day average.</sup>"
   ]
  },
  {
   "cell_type": "code",
   "execution_count": 13,
   "metadata": {
    "execution": {
     "iopub.execute_input": "2020-08-26T20:22:14.571937Z",
     "iopub.status.busy": "2020-08-26T20:22:14.571440Z",
     "iopub.status.idle": "2020-08-26T20:22:14.575523Z",
     "shell.execute_reply": "2020-08-26T20:22:14.575887Z"
    },
    "papermill": {
     "duration": 0.019876,
     "end_time": "2020-08-26T20:22:14.576040",
     "exception": false,
     "start_time": "2020-08-26T20:22:14.556164",
     "status": "completed"
    },
    "tags": [
     "remove_input"
    ]
   },
   "outputs": [
    {
     "data": {
      "text/markdown": [
       "Table last updated by CDPH on August 26, 2020."
      ],
      "text/plain": [
       "<IPython.core.display.Markdown object>"
      ]
     },
     "execution_count": 13,
     "metadata": {},
     "output_type": "execute_result"
    }
   ],
   "source": [
    "md(update_tag)"
   ]
  },
  {
   "cell_type": "markdown",
   "metadata": {
    "papermill": {
     "duration": 0.010539,
     "end_time": "2020-08-26T20:22:14.596977",
     "exception": false,
     "start_time": "2020-08-26T20:22:14.586438",
     "status": "completed"
    },
    "tags": []
   },
   "source": [
    "## Tracking county closures in Santa Barbara"
   ]
  },
  {
   "cell_type": "markdown",
   "metadata": {
    "papermill": {
     "duration": 0.010363,
     "end_time": "2020-08-26T20:22:14.618011",
     "exception": false,
     "start_time": "2020-08-26T20:22:14.607648",
     "status": "completed"
    },
    "tags": []
   },
   "source": [
    "The state of California is using a data-driven approach informed by scientific evidence to tailor its response to COVID-19. Three dimensions of concern are monitored to assess whether a county should be placed on the County Monitoring List:\n",
    " 1. Elevated Disease Transmission\n",
    " 2. Increasing Hospitalization\n",
    " 3. Limited Hospital Capacity\n",
    "\n",
    "Once a county appears on the County Monitoring List for three consecutive days, indoor operations in the sectors listed in Section 3 of the [July 13th State Health Officer Order](https://www.cdph.ca.gov/Programs/CID/DCDC/CDPH%20Document%20Library/COVID-19/SHO%20Order%20Dimming%20Entire%20State%207-13-2020.pdf) must close.\n",
    "\n",
    "This table tracks where Santa Barbara stands in terms of the criteria for inclusion on the County Monitoring List. As of 20 August 2020, the criteria for inclusion on the monitoring list are:\n",
    "\n",
    "* Case rate >100 OR (Case rate >25 AND Positivity >8%)\n",
    "* \\>10% increase in hospitalizations\n",
    "* <20% ICU beds available OR <25% ventilators available\n",
    "\n",
    "If Santa Barbara meets the criteria for removal from the County Monitoring List for a certain metric, then a checkmark ✔ is displayed in the table.\n",
    "\n",
    "Read more at <https://covid19.ca.gov/roadmap-counties/>.\n",
    "\n",
    "Data source for county metrics: https://www.cdph.ca.gov/Programs/CID/DCDC/Pages/COVID-19/COVID19CountyDataTable.aspx."
   ]
  },
  {
   "cell_type": "markdown",
   "metadata": {
    "papermill": {
     "duration": 0.010718,
     "end_time": "2020-08-26T20:22:14.639250",
     "exception": false,
     "start_time": "2020-08-26T20:22:14.628532",
     "status": "completed"
    },
    "tags": []
   },
   "source": [
    "**See the code used to scrape the data: https://github.com/walice/COVID-SB/.**"
   ]
  },
  {
   "cell_type": "code",
   "execution_count": 14,
   "metadata": {
    "execution": {
     "iopub.execute_input": "2020-08-26T20:22:14.665940Z",
     "iopub.status.busy": "2020-08-26T20:22:14.665449Z",
     "iopub.status.idle": "2020-08-26T20:22:14.668784Z",
     "shell.execute_reply": "2020-08-26T20:22:14.669158Z"
    },
    "papermill": {
     "duration": 0.019335,
     "end_time": "2020-08-26T20:22:14.669304",
     "exception": false,
     "start_time": "2020-08-26T20:22:14.649969",
     "status": "completed"
    },
    "tags": [
     "remove_cell"
    ]
   },
   "outputs": [
    {
     "data": {
      "application/javascript": [
       "IPython.notebook.save_notebook()\n"
      ],
      "text/plain": [
       "<IPython.core.display.Javascript object>"
      ]
     },
     "metadata": {},
     "output_type": "display_data"
    }
   ],
   "source": [
    "%%javascript\n",
    "IPython.notebook.save_notebook()"
   ]
  },
  {
   "cell_type": "code",
   "execution_count": 15,
   "metadata": {
    "execution": {
     "iopub.execute_input": "2020-08-26T20:22:14.695928Z",
     "iopub.status.busy": "2020-08-26T20:22:14.695402Z",
     "iopub.status.idle": "2020-08-26T20:22:16.411777Z",
     "shell.execute_reply": "2020-08-26T20:22:16.412752Z"
    },
    "papermill": {
     "duration": 1.73293,
     "end_time": "2020-08-26T20:22:16.412922",
     "exception": false,
     "start_time": "2020-08-26T20:22:14.679992",
     "status": "completed"
    },
    "slideshow": {
     "slide_type": "skip"
    },
    "tags": [
     "remove_cell"
    ]
   },
   "outputs": [
    {
     "name": "stdout",
     "output_type": "stream",
     "text": [
      "[NbConvertApp] Converting notebook index.ipynb to html\r\n"
     ]
    },
    {
     "name": "stdout",
     "output_type": "stream",
     "text": [
      "[NbConvertApp] Writing 350577 bytes to index.html\r\n"
     ]
    }
   ],
   "source": [
    "# Convert Jupyter Notebook to HTML\n",
    "! jupyter nbconvert \"index.ipynb\" --to html --TagRemovePreprocessor.enabled=True --TagRemovePreprocessor.remove_cell_tags=\"['remove_cell']\" --TagRemovePreprocessor.remove_input_tags=\"['remove_input']\" --no-prompt"
   ]
  },
  {
   "cell_type": "code",
   "execution_count": 16,
   "metadata": {
    "execution": {
     "iopub.execute_input": "2020-08-26T20:22:16.441608Z",
     "iopub.status.busy": "2020-08-26T20:22:16.441091Z",
     "iopub.status.idle": "2020-08-26T20:22:16.443643Z",
     "shell.execute_reply": "2020-08-26T20:22:16.444024Z"
    },
    "papermill": {
     "duration": 0.019088,
     "end_time": "2020-08-26T20:22:16.444190",
     "exception": false,
     "start_time": "2020-08-26T20:22:16.425102",
     "status": "completed"
    },
    "tags": [
     "remove_cell"
    ]
   },
   "outputs": [],
   "source": [
    "# Create daily commit message\n",
    "now = datetime.datetime.now()\n",
    "commit_message = \"Last scraped on \" + str(now)"
   ]
  },
  {
   "cell_type": "code",
   "execution_count": null,
   "metadata": {
    "execution": {
     "iopub.execute_input": "2020-08-26T20:19:16.215442Z",
     "iopub.status.busy": "2020-08-26T20:19:16.214964Z",
     "iopub.status.idle": "2020-08-26T20:19:21.308753Z",
     "shell.execute_reply": "2020-08-26T20:19:21.307574Z"
    },
    "papermill": {
     "duration": null,
     "end_time": null,
     "exception": false,
     "start_time": "2020-08-26T20:22:16.455357",
     "status": "running"
    },
    "tags": [
     "remove_cell"
    ]
   },
   "outputs": [],
   "source": [
    "# Deploy to GitHub\n",
    "! git add .\n",
    "! echo $commit_message > commit_message.txt\n",
    "! git commit -F commit_message.txt\n",
    "! git push"
   ]
  }
 ],
 "metadata": {
  "celltoolbar": "Tags",
  "kernelspec": {
   "display_name": "Python 3",
   "language": "python",
   "name": "python3"
  },
  "language_info": {
   "codemirror_mode": {
    "name": "ipython",
    "version": 3
   },
   "file_extension": ".py",
   "mimetype": "text/x-python",
   "name": "python",
   "nbconvert_exporter": "python",
   "pygments_lexer": "ipython3",
   "version": "3.8.5"
  },
  "papermill": {
   "duration": null,
   "end_time": null,
   "environment_variables": {},
   "exception": null,
   "input_path": "/home/alice_lepissier/cron-job/index.ipynb",
   "output_path": "/home/alice_lepissier/cron-job/index.ipynb",
   "parameters": {},
   "start_time": "2020-08-26T20:22:02.661176",
   "version": "2.1.3"
  }
 },
 "nbformat": 4,
 "nbformat_minor": 4
}