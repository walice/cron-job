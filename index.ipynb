{
 "cells": [
  {
   "cell_type": "markdown",
   "metadata": {
    "papermill": {
     "duration": 0.010757,
     "end_time": "2020-08-26T20:16:03.789273",
     "exception": false,
     "start_time": "2020-08-26T20:16:03.778516",
     "status": "completed"
    },
    "tags": []
   },
   "source": [
    "# Daily COVID monitoring data for Santa Barbara county"
   ]
  },
  {
   "cell_type": "code",
   "execution_count": 1,
   "metadata": {
    "execution": {
     "iopub.execute_input": "2020-08-26T20:16:03.816453Z",
     "iopub.status.busy": "2020-08-26T20:16:03.813764Z",
     "iopub.status.idle": "2020-08-26T20:16:06.037382Z",
     "shell.execute_reply": "2020-08-26T20:16:06.038333Z"
    },
    "papermill": {
     "duration": 2.239077,
     "end_time": "2020-08-26T20:16:06.038547",
     "exception": false,
     "start_time": "2020-08-26T20:16:03.799470",
     "status": "completed"
    },
    "tags": [
     "remove_cell"
    ]
   },
   "outputs": [],
   "source": [
    "! jt -t grade3 -tf robotosans -cellw 1100"
   ]
  },
  {
   "cell_type": "markdown",
   "metadata": {
    "papermill": {
     "duration": 0.009616,
     "end_time": "2020-08-26T20:16:06.058238",
     "exception": false,
     "start_time": "2020-08-26T20:16:06.048622",
     "status": "completed"
    },
    "tags": []
   },
   "source": [
    "This table is automatically updated with new daily COVID data for the county of Santa Barbara, CA. Every day, the California Department of Public Health publishes COVID tracking metrics for each county, but does not save the previous day's data. This tool keeps track of the daily metrics that are used to monitor progress towards safe reopening in California."
   ]
  },
  {
   "cell_type": "code",
   "execution_count": 2,
   "metadata": {
    "execution": {
     "iopub.execute_input": "2020-08-26T20:16:06.082883Z",
     "iopub.status.busy": "2020-08-26T20:16:06.082344Z",
     "iopub.status.idle": "2020-08-26T20:16:09.961559Z",
     "shell.execute_reply": "2020-08-26T20:16:09.962469Z"
    },
    "papermill": {
     "duration": 3.894867,
     "end_time": "2020-08-26T20:16:09.962642",
     "exception": false,
     "start_time": "2020-08-26T20:16:06.067775",
     "status": "completed"
    },
    "slideshow": {
     "slide_type": "skip"
    },
    "tags": [
     "remove_cell"
    ]
   },
   "outputs": [],
   "source": [
    "# Preamble\n",
    "import os\n",
    "from IPython.display import Markdown as md\n",
    "import IPython\n",
    "import requests\n",
    "from bs4 import BeautifulSoup\n",
    "import re\n",
    "import pandas as pd\n",
    "import datetime\n",
    "import gspread\n",
    "from oauth2client.service_account import ServiceAccountCredentials"
   ]
  },
  {
   "cell_type": "code",
   "execution_count": 3,
   "metadata": {
    "execution": {
     "iopub.execute_input": "2020-08-26T20:16:09.988289Z",
     "iopub.status.busy": "2020-08-26T20:16:09.987713Z",
     "iopub.status.idle": "2020-08-26T20:16:09.989110Z",
     "shell.execute_reply": "2020-08-26T20:16:09.988709Z"
    },
    "papermill": {
     "duration": 0.016324,
     "end_time": "2020-08-26T20:16:09.989220",
     "exception": false,
     "start_time": "2020-08-26T20:16:09.972896",
     "status": "completed"
    },
    "tags": []
   },
   "outputs": [],
   "source": [
    "# Set working directory\n",
    "os.chdir(\"/home/alice_lepissier/cron-job\")"
   ]
  },
  {
   "cell_type": "code",
   "execution_count": 4,
   "metadata": {
    "execution": {
     "iopub.execute_input": "2020-08-26T20:16:10.015006Z",
     "iopub.status.busy": "2020-08-26T20:16:10.014391Z",
     "iopub.status.idle": "2020-08-26T20:16:12.247863Z",
     "shell.execute_reply": "2020-08-26T20:16:12.248662Z"
    },
    "papermill": {
     "duration": 2.250066,
     "end_time": "2020-08-26T20:16:12.248823",
     "exception": false,
     "start_time": "2020-08-26T20:16:09.998757",
     "status": "completed"
    },
    "slideshow": {
     "slide_type": "skip"
    },
    "tags": [
     "remove_cell"
    ]
   },
   "outputs": [],
   "source": [
    "# Request content from URL\n",
    "html_string = requests.get('https://www.cdph.ca.gov/Programs/CID/DCDC/Pages/COVID-19/COVID19CountyDataTable.aspx').content"
   ]
  },
  {
   "cell_type": "code",
   "execution_count": 5,
   "metadata": {
    "execution": {
     "iopub.execute_input": "2020-08-26T20:16:12.275499Z",
     "iopub.status.busy": "2020-08-26T20:16:12.275017Z",
     "iopub.status.idle": "2020-08-26T20:16:12.365680Z",
     "shell.execute_reply": "2020-08-26T20:16:12.366512Z"
    },
    "papermill": {
     "duration": 0.107402,
     "end_time": "2020-08-26T20:16:12.366681",
     "exception": false,
     "start_time": "2020-08-26T20:16:12.259279",
     "status": "completed"
    },
    "slideshow": {
     "slide_type": "skip"
    },
    "tags": [
     "remove_cell"
    ]
   },
   "outputs": [],
   "source": [
    "# Parse HTML\n",
    "soup = BeautifulSoup(html_string, 'html.parser')"
   ]
  },
  {
   "cell_type": "code",
   "execution_count": 6,
   "metadata": {
    "execution": {
     "iopub.execute_input": "2020-08-26T20:16:12.396778Z",
     "iopub.status.busy": "2020-08-26T20:16:12.396269Z",
     "iopub.status.idle": "2020-08-26T20:16:12.401921Z",
     "shell.execute_reply": "2020-08-26T20:16:12.402769Z"
    },
    "papermill": {
     "duration": 0.025914,
     "end_time": "2020-08-26T20:16:12.402936",
     "exception": false,
     "start_time": "2020-08-26T20:16:12.377022",
     "status": "completed"
    },
    "slideshow": {
     "slide_type": "skip"
    },
    "tags": [
     "remove_cell"
    ]
   },
   "outputs": [],
   "source": [
    "# Extract data for Santa Barbara\n",
    "table = soup.find_all(\"tr\", class_=\"ms-rteTableEvenRow-3\")\n",
    "SB = table[21]"
   ]
  },
  {
   "cell_type": "code",
   "execution_count": 7,
   "metadata": {
    "execution": {
     "iopub.execute_input": "2020-08-26T20:16:12.431602Z",
     "iopub.status.busy": "2020-08-26T20:16:12.431050Z",
     "iopub.status.idle": "2020-08-26T20:16:12.442325Z",
     "shell.execute_reply": "2020-08-26T20:16:12.443159Z"
    },
    "papermill": {
     "duration": 0.029824,
     "end_time": "2020-08-26T20:16:12.443324",
     "exception": false,
     "start_time": "2020-08-26T20:16:12.413500",
     "status": "completed"
    },
    "slideshow": {
     "slide_type": "skip"
    },
    "tags": [
     "remove_cell"
    ]
   },
   "outputs": [],
   "source": [
    "# Avg # tests per day (per 100,000 population)\n",
    "daily_tests = SB.find_all(\"td\", class_=\"ms-rteTableOddCol-3\")[0].text\n",
    "\n",
    "# Case rate per 100,000\n",
    "case_rate = SB.find_all(\"td\", class_=\"ms-rteTableEvenCol-3\")[1].text\n",
    "\n",
    "# Testing positivity (%)\n",
    "test_positivity = SB.find_all(\"td\", class_=\"ms-rteTableOddCol-3\")[1].text\n",
    "\n",
    "# % Change in 3-day avg COVID+ hospitalized patients\n",
    "change_hospit = SB.find_all(\"td\", class_=\"ms-rteTableEvenCol-3\")[2].text\n",
    "\n",
    "# % ICU beds currently available\n",
    "ICU_beds = SB.find_all(\"td\", class_=\"ms-rteTableOddCol-3\")[2].text\n",
    "\n",
    "# % Ventilators currently available\n",
    "ventilators = SB.find_all(\"td\", class_=\"ms-rteTableEvenCol-3\")[3].text\n",
    "\n",
    "# Extract date of last update\n",
    "update_date = soup.find_all(\"span\", class_=\"ms-rteStyle-Accent1\")[1]\\\n",
    "    .find(\"em\").text"
   ]
  },
  {
   "cell_type": "code",
   "execution_count": 8,
   "metadata": {
    "execution": {
     "iopub.execute_input": "2020-08-26T20:16:12.470624Z",
     "iopub.status.busy": "2020-08-26T20:16:12.469888Z",
     "iopub.status.idle": "2020-08-26T20:16:12.471530Z",
     "shell.execute_reply": "2020-08-26T20:16:12.471071Z"
    },
    "papermill": {
     "duration": 0.01726,
     "end_time": "2020-08-26T20:16:12.471653",
     "exception": false,
     "start_time": "2020-08-26T20:16:12.454393",
     "status": "completed"
    },
    "tags": [
     "remove_cell"
    ]
   },
   "outputs": [],
   "source": [
    "# Create updated date string\n",
    "update_tag = \"Table last updated by CDPH on \" + update_date.split(\" on \", 1)[1] + \".\""
   ]
  },
  {
   "cell_type": "code",
   "execution_count": 9,
   "metadata": {
    "execution": {
     "iopub.execute_input": "2020-08-26T20:16:12.495980Z",
     "iopub.status.busy": "2020-08-26T20:16:12.495461Z",
     "iopub.status.idle": "2020-08-26T20:16:12.511579Z",
     "shell.execute_reply": "2020-08-26T20:16:12.512441Z"
    },
    "papermill": {
     "duration": 0.03107,
     "end_time": "2020-08-26T20:16:12.512606",
     "exception": false,
     "start_time": "2020-08-26T20:16:12.481536",
     "status": "completed"
    },
    "slideshow": {
     "slide_type": "skip"
    },
    "tags": [
     "remove_cell"
    ]
   },
   "outputs": [],
   "source": [
    "# Set up Google Sheet API\n",
    "scope = [\"https://spreadsheets.google.com/feeds\",'https://www.googleapis.com/auth/spreadsheets',\"https://www.googleapis.com/auth/drive.file\",\"https://www.googleapis.com/auth/drive\"]\n",
    "creds = ServiceAccountCredentials.from_json_keyfile_name(\"credentials.json\", scope)\n",
    "client = gspread.authorize(creds)"
   ]
  },
  {
   "cell_type": "code",
   "execution_count": 10,
   "metadata": {
    "execution": {
     "iopub.execute_input": "2020-08-26T20:16:12.539549Z",
     "iopub.status.busy": "2020-08-26T20:16:12.539059Z",
     "iopub.status.idle": "2020-08-26T20:16:13.519956Z",
     "shell.execute_reply": "2020-08-26T20:16:13.520712Z"
    },
    "papermill": {
     "duration": 0.998132,
     "end_time": "2020-08-26T20:16:13.520888",
     "exception": false,
     "start_time": "2020-08-26T20:16:12.522756",
     "status": "completed"
    },
    "slideshow": {
     "slide_type": "skip"
    },
    "tags": [
     "remove_cell"
    ]
   },
   "outputs": [
    {
     "data": {
      "text/plain": [
       "{'spreadsheetId': '1pcqdMzKtea2Oq3BDmdAOQ21gZjCssieKI0692VfNLXU',\n",
       " 'updatedRange': 'Sheet1!A2:G2',\n",
       " 'updatedRows': 1,\n",
       " 'updatedColumns': 7,\n",
       " 'updatedCells': 7}"
      ]
     },
     "execution_count": 10,
     "metadata": {},
     "output_type": "execute_result"
    }
   ],
   "source": [
    "# Append daily data as a new row in Google Sheet\n",
    "sheet = client.open(\"Test cron job\").sheet1\n",
    "insertRow = [datetime.date.today().strftime(\"%Y-%m-%d\"),\n",
    "             daily_tests,\n",
    "             case_rate,\n",
    "             test_positivity,\n",
    "             change_hospit,\n",
    "             ICU_beds,\n",
    "             ventilators]\n",
    "sheet.insert_row(insertRow, 2)"
   ]
  },
  {
   "cell_type": "code",
   "execution_count": 11,
   "metadata": {
    "execution": {
     "iopub.execute_input": "2020-08-26T20:16:13.562922Z",
     "iopub.status.busy": "2020-08-26T20:16:13.562412Z",
     "iopub.status.idle": "2020-08-26T20:16:14.044375Z",
     "shell.execute_reply": "2020-08-26T20:16:14.045244Z"
    },
    "papermill": {
     "duration": 0.514263,
     "end_time": "2020-08-26T20:16:14.045411",
     "exception": false,
     "start_time": "2020-08-26T20:16:13.531148",
     "status": "completed"
    },
    "scrolled": true,
    "slideshow": {
     "slide_type": "slide"
    },
    "tags": [
     "remove_cell"
    ]
   },
   "outputs": [],
   "source": [
    "# Extract data from Google Sheet as pandas dataframe\n",
    "sheet = client.open(\"Test cron job\").sheet1\n",
    "data = sheet.get_all_records()\n",
    "result = pd.DataFrame(data).set_index(\"Date\")"
   ]
  },
  {
   "cell_type": "code",
   "execution_count": 12,
   "metadata": {
    "execution": {
     "iopub.execute_input": "2020-08-26T20:16:14.071495Z",
     "iopub.status.busy": "2020-08-26T20:16:14.070988Z",
     "iopub.status.idle": "2020-08-26T20:16:15.006690Z",
     "shell.execute_reply": "2020-08-26T20:16:15.007565Z"
    },
    "papermill": {
     "duration": 0.951862,
     "end_time": "2020-08-26T20:16:15.007744",
     "exception": false,
     "start_time": "2020-08-26T20:16:14.055882",
     "status": "completed"
    },
    "scrolled": true,
    "tags": [
     "remove_input"
    ]
   },
   "outputs": [
    {
     "data": {
      "text/html": [
       "<style  type=\"text/css\" >\n",
       "    #T_fe1583f2_e7d8_11ea_a94c_42010a8a0004 th {\n",
       "          text-align: center;\n",
       "    }#T_fe1583f2_e7d8_11ea_a94c_42010a8a0004row0_col0{\n",
       "            width:  20em;\n",
       "            text-align:  center;\n",
       "            font-weight:  bold;\n",
       "        }#T_fe1583f2_e7d8_11ea_a94c_42010a8a0004row0_col1,#T_fe1583f2_e7d8_11ea_a94c_42010a8a0004row0_col2,#T_fe1583f2_e7d8_11ea_a94c_42010a8a0004row0_col3,#T_fe1583f2_e7d8_11ea_a94c_42010a8a0004row0_col4,#T_fe1583f2_e7d8_11ea_a94c_42010a8a0004row0_col5,#T_fe1583f2_e7d8_11ea_a94c_42010a8a0004row0_col6{\n",
       "            width:  20em;\n",
       "            text-align:  center;\n",
       "        }</style><table id=\"T_fe1583f2_e7d8_11ea_a94c_42010a8a0004\" ><thead>    <tr>        <th class=\"col_heading level0 col0\" >Date</th>        <th class=\"col_heading level0 col1\" >Daily tests (per 100,000)¹</th>        <th class=\"col_heading level0 col2\" >Case rate (per 100,000)²</th>        <th class=\"col_heading level0 col3\" >Testing positivity (%)³</th>        <th class=\"col_heading level0 col4\" >Change in hospitalizations (%)⁴</th>        <th class=\"col_heading level0 col5\" >ICU beds available (%)</th>        <th class=\"col_heading level0 col6\" >Ventilators (available (%)</th>    </tr></thead><tbody>\n",
       "                <tr>\n",
       "                                <td id=\"T_fe1583f2_e7d8_11ea_a94c_42010a8a0004row0_col0\" class=\"data row0 col0\" >2020-08-26</td>\n",
       "                        <td id=\"T_fe1583f2_e7d8_11ea_a94c_42010a8a0004row0_col1\" class=\"data row0 col1\" >219.7</td>\n",
       "                        <td id=\"T_fe1583f2_e7d8_11ea_a94c_42010a8a0004row0_col2\" class=\"data row0 col2\" >133.2</td>\n",
       "                        <td id=\"T_fe1583f2_e7d8_11ea_a94c_42010a8a0004row0_col3\" class=\"data row0 col3\" > ✔</td>\n",
       "                        <td id=\"T_fe1583f2_e7d8_11ea_a94c_42010a8a0004row0_col4\" class=\"data row0 col4\" > ✔</td>\n",
       "                        <td id=\"T_fe1583f2_e7d8_11ea_a94c_42010a8a0004row0_col5\" class=\"data row0 col5\" > ✔</td>\n",
       "                        <td id=\"T_fe1583f2_e7d8_11ea_a94c_42010a8a0004row0_col6\" class=\"data row0 col6\" > ✔</td>\n",
       "            </tr>\n",
       "    </tbody></table>"
      ],
      "text/plain": [
       "<pandas.io.formats.style.Styler at 0x7f25b5f73128>"
      ]
     },
     "execution_count": 12,
     "metadata": {},
     "output_type": "execute_result"
    }
   ],
   "source": [
    "# Style the pandas dataframe\n",
    "d = dict(selector=\"th\",\n",
    "         props=[('text-align', 'center')])\n",
    "\n",
    "result.reset_index().style\\\n",
    "    .set_properties(**{'width':'20em', 'text-align':'center'})\\\n",
    "    .set_properties(subset=['Date'], **{'font-weight': 'bold'})\\\n",
    "    .set_table_styles([d])\\\n",
    "    .set_precision(1)\\\n",
    "    .hide_index()"
   ]
  },
  {
   "cell_type": "markdown",
   "metadata": {
    "papermill": {
     "duration": 0.011042,
     "end_time": "2020-08-26T20:16:15.031214",
     "exception": false,
     "start_time": "2020-08-26T20:16:15.020172",
     "status": "completed"
    },
    "tags": []
   },
   "source": [
    "<sup>Notes: (1) 7 day average with a 7-day lag. (2) 14 day average. (3) 7 day average with a 7-day lag. (4) Change in 3 day average.</sup>"
   ]
  },
  {
   "cell_type": "code",
   "execution_count": 13,
   "metadata": {
    "execution": {
     "iopub.execute_input": "2020-08-26T20:16:15.057090Z",
     "iopub.status.busy": "2020-08-26T20:16:15.056600Z",
     "iopub.status.idle": "2020-08-26T20:16:15.059597Z",
     "shell.execute_reply": "2020-08-26T20:16:15.059985Z"
    },
    "papermill": {
     "duration": 0.018751,
     "end_time": "2020-08-26T20:16:15.060134",
     "exception": false,
     "start_time": "2020-08-26T20:16:15.041383",
     "status": "completed"
    },
    "tags": [
     "remove_input"
    ]
   },
   "outputs": [
    {
     "data": {
      "text/markdown": [
       "Table last updated by CDPH on August 26, 2020."
      ],
      "text/plain": [
       "<IPython.core.display.Markdown object>"
      ]
     },
     "execution_count": 13,
     "metadata": {},
     "output_type": "execute_result"
    }
   ],
   "source": [
    "md(update_tag)"
   ]
  },
  {
   "cell_type": "markdown",
   "metadata": {
    "papermill": {
     "duration": 0.010361,
     "end_time": "2020-08-26T20:16:15.080669",
     "exception": false,
     "start_time": "2020-08-26T20:16:15.070308",
     "status": "completed"
    },
    "tags": []
   },
   "source": [
    "## Tracking county closures in Santa Barbara"
   ]
  },
  {
   "cell_type": "markdown",
   "metadata": {
    "papermill": {
     "duration": 0.010162,
     "end_time": "2020-08-26T20:16:15.101129",
     "exception": false,
     "start_time": "2020-08-26T20:16:15.090967",
     "status": "completed"
    },
    "tags": []
   },
   "source": [
    "The state of California is using a data-driven approach informed by scientific evidence to tailor its response to COVID-19. Three dimensions of concern are monitored to assess whether a county should be placed on the County Monitoring List:\n",
    " 1. Elevated Disease Transmission\n",
    " 2. Increasing Hospitalization\n",
    " 3. Limited Hospital Capacity\n",
    "\n",
    "Once a county appears on the County Monitoring List for three consecutive days, indoor operations in the sectors listed in Section 3 of the [July 13th State Health Officer Order](https://www.cdph.ca.gov/Programs/CID/DCDC/CDPH%20Document%20Library/COVID-19/SHO%20Order%20Dimming%20Entire%20State%207-13-2020.pdf) must close.\n",
    "\n",
    "This table tracks where Santa Barbara stands in terms of the criteria for inclusion on the County Monitoring List. As of 20 August 2020, the criteria for inclusion on the monitoring list are:\n",
    "\n",
    "* Case rate >100 OR (Case rate >25 AND Positivity >8%)\n",
    "* \\>10% increase in hospitalizations\n",
    "* <20% ICU beds available OR <25% ventilators available\n",
    "\n",
    "If Santa Barbara meets the criteria for removal from the County Monitoring List for a certain metric, then a checkmark ✔ is displayed in the table.\n",
    "\n",
    "Read more at <https://covid19.ca.gov/roadmap-counties/>.\n",
    "\n",
    "Data source for county metrics: https://www.cdph.ca.gov/Programs/CID/DCDC/Pages/COVID-19/COVID19CountyDataTable.aspx."
   ]
  },
  {
   "cell_type": "markdown",
   "metadata": {
    "papermill": {
     "duration": 0.010252,
     "end_time": "2020-08-26T20:16:15.121585",
     "exception": false,
     "start_time": "2020-08-26T20:16:15.111333",
     "status": "completed"
    },
    "tags": []
   },
   "source": [
    "**See the code used to scrape the data: https://github.com/walice/COVID-SB/.**"
   ]
  },
  {
   "cell_type": "code",
   "execution_count": 14,
   "metadata": {
    "execution": {
     "iopub.execute_input": "2020-08-26T20:16:15.148128Z",
     "iopub.status.busy": "2020-08-26T20:16:15.147622Z",
     "iopub.status.idle": "2020-08-26T20:16:15.151646Z",
     "shell.execute_reply": "2020-08-26T20:16:15.152015Z"
    },
    "papermill": {
     "duration": 0.020033,
     "end_time": "2020-08-26T20:16:15.152166",
     "exception": false,
     "start_time": "2020-08-26T20:16:15.132133",
     "status": "completed"
    },
    "tags": [
     "remove_cell"
    ]
   },
   "outputs": [
    {
     "data": {
      "application/javascript": [
       "IPython.notebook.save_notebook()\n"
      ],
      "text/plain": [
       "<IPython.core.display.Javascript object>"
      ]
     },
     "metadata": {},
     "output_type": "display_data"
    }
   ],
   "source": [
    "%%javascript\n",
    "IPython.notebook.save_notebook()"
   ]
  },
  {
   "cell_type": "code",
   "execution_count": 15,
   "metadata": {
    "execution": {
     "iopub.execute_input": "2020-08-26T20:16:15.178649Z",
     "iopub.status.busy": "2020-08-26T20:16:15.178077Z",
     "iopub.status.idle": "2020-08-26T20:16:17.833426Z",
     "shell.execute_reply": "2020-08-26T20:16:17.834370Z"
    },
    "papermill": {
     "duration": 2.671782,
     "end_time": "2020-08-26T20:16:17.834546",
     "exception": false,
     "start_time": "2020-08-26T20:16:15.162764",
     "status": "completed"
    },
    "slideshow": {
     "slide_type": "skip"
    },
    "tags": [
     "remove_cell"
    ]
   },
   "outputs": [
    {
     "name": "stdout",
     "output_type": "stream",
     "text": [
      "[NbConvertApp] Converting notebook index.ipynb to html\r\n"
     ]
    },
    {
     "name": "stdout",
     "output_type": "stream",
     "text": [
      "[NbConvertApp] Writing 351049 bytes to index.html\r\n"
     ]
    }
   ],
   "source": [
    "# Convert Jupyter Notebook to HTML\n",
    "! jupyter nbconvert \"index.ipynb\" --to html --TagRemovePreprocessor.enabled=True --TagRemovePreprocessor.remove_cell_tags=\"['remove_cell']\" --TagRemovePreprocessor.remove_input_tags=\"['remove_input']\" --no-prompt"
   ]
  },
  {
   "cell_type": "code",
   "execution_count": 16,
   "metadata": {
    "execution": {
     "iopub.execute_input": "2020-08-26T20:16:17.863352Z",
     "iopub.status.busy": "2020-08-26T20:16:17.861621Z",
     "iopub.status.idle": "2020-08-26T20:16:17.863932Z",
     "shell.execute_reply": "2020-08-26T20:16:17.864294Z"
    },
    "papermill": {
     "duration": 0.018383,
     "end_time": "2020-08-26T20:16:17.864428",
     "exception": false,
     "start_time": "2020-08-26T20:16:17.846045",
     "status": "completed"
    },
    "tags": [
     "remove_cell"
    ]
   },
   "outputs": [],
   "source": [
    "# Create daily commit message\n",
    "now = datetime.datetime.now()\n",
    "commit_message = \"Last scraped on \" + str(now)"
   ]
  },
  {
   "cell_type": "code",
   "execution_count": null,
   "metadata": {
    "execution": {
     "iopub.execute_input": "2020-08-26T20:11:16.631546Z",
     "iopub.status.busy": "2020-08-26T20:11:16.631039Z",
     "iopub.status.idle": "2020-08-26T20:11:21.365182Z",
     "shell.execute_reply": "2020-08-26T20:11:21.363950Z"
    },
    "papermill": {
     "duration": null,
     "end_time": null,
     "exception": false,
     "start_time": "2020-08-26T20:16:17.875277",
     "status": "running"
    },
    "tags": [
     "remove_cell"
    ]
   },
   "outputs": [],
   "source": [
    "# Deploy to GitHub\n",
    "! git add .\n",
    "! echo $commit_message > commit_message.txt\n",
    "! git commit -F commit_message.txt\n",
    "! git push"
   ]
  }
 ],
 "metadata": {
  "celltoolbar": "Tags",
  "kernelspec": {
   "display_name": "Python 3",
   "language": "python",
   "name": "python3"
  },
  "language_info": {
   "codemirror_mode": {
    "name": "ipython",
    "version": 3
   },
   "file_extension": ".py",
   "mimetype": "text/x-python",
   "name": "python",
   "nbconvert_exporter": "python",
   "pygments_lexer": "ipython3",
   "version": "3.8.5"
  },
  "papermill": {
   "duration": null,
   "end_time": null,
   "environment_variables": {},
   "exception": null,
   "input_path": "/home/alice_lepissier/cron-job/index.ipynb",
   "output_path": "/home/alice_lepissier/cron-job/index.ipynb",
   "parameters": {},
   "start_time": "2020-08-26T20:16:01.725995",
   "version": "2.1.3"
  }
 },
 "nbformat": 4,
 "nbformat_minor": 4
}