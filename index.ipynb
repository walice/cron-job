{
 "cells": [
  {
   "cell_type": "markdown",
   "metadata": {
    "papermill": {
     "duration": 0.012226,
     "end_time": "2020-08-26T08:40:02.424997",
     "exception": false,
     "start_time": "2020-08-26T08:40:02.412771",
     "status": "completed"
    },
    "tags": []
   },
   "source": [
    "# Daily COVID monitoring data for Santa Barbara county"
   ]
  },
  {
   "cell_type": "code",
   "execution_count": 1,
   "metadata": {
    "execution": {
     "iopub.execute_input": "2020-08-26T08:40:02.454230Z",
     "iopub.status.busy": "2020-08-26T08:40:02.453623Z",
     "iopub.status.idle": "2020-08-26T08:40:02.565951Z",
     "shell.execute_reply": "2020-08-26T08:40:02.565016Z"
    },
    "papermill": {
     "duration": 0.129769,
     "end_time": "2020-08-26T08:40:02.566114",
     "exception": false,
     "start_time": "2020-08-26T08:40:02.436345",
     "status": "completed"
    },
    "tags": [
     "remove_cell"
    ]
   },
   "outputs": [
    {
     "name": "stdout",
     "output_type": "stream",
     "text": [
      "/bin/sh: 1: jt: not found\r\n"
     ]
    }
   ],
   "source": [
    "! jt -t grade3 -tf robotosans -cellw 1100"
   ]
  },
  {
   "cell_type": "markdown",
   "metadata": {
    "papermill": {
     "duration": 0.011033,
     "end_time": "2020-08-26T08:40:02.588746",
     "exception": false,
     "start_time": "2020-08-26T08:40:02.577713",
     "status": "completed"
    },
    "tags": []
   },
   "source": [
    "This table is automatically updated with new daily COVID data for the county of Santa Barbara, CA. Every day, the California Department of Public Health publishes COVID tracking metrics for each county, but does not save the previous day's data. This tool keeps track of the daily metrics that are used to monitor progress towards safe reopening in California."
   ]
  },
  {
   "cell_type": "code",
   "execution_count": 2,
   "metadata": {
    "execution": {
     "iopub.execute_input": "2020-08-26T08:40:02.619572Z",
     "iopub.status.busy": "2020-08-26T08:40:02.619035Z",
     "iopub.status.idle": "2020-08-26T08:40:03.026450Z",
     "shell.execute_reply": "2020-08-26T08:40:03.027344Z"
    },
    "papermill": {
     "duration": 0.427765,
     "end_time": "2020-08-26T08:40:03.027507",
     "exception": false,
     "start_time": "2020-08-26T08:40:02.599742",
     "status": "completed"
    },
    "slideshow": {
     "slide_type": "skip"
    },
    "tags": [
     "remove_cell"
    ]
   },
   "outputs": [],
   "source": [
    "# Preamble\n",
    "import os\n",
    "from IPython.display import Markdown as md\n",
    "import IPython\n",
    "import requests\n",
    "from bs4 import BeautifulSoup\n",
    "import re\n",
    "import pandas as pd\n",
    "import datetime\n",
    "import gspread\n",
    "from oauth2client.service_account import ServiceAccountCredentials"
   ]
  },
  {
   "cell_type": "code",
   "execution_count": 3,
   "metadata": {
    "execution": {
     "iopub.execute_input": "2020-08-26T08:40:03.056024Z",
     "iopub.status.busy": "2020-08-26T08:40:03.055391Z",
     "iopub.status.idle": "2020-08-26T08:40:03.056901Z",
     "shell.execute_reply": "2020-08-26T08:40:03.056486Z"
    },
    "papermill": {
     "duration": 0.017912,
     "end_time": "2020-08-26T08:40:03.057014",
     "exception": false,
     "start_time": "2020-08-26T08:40:03.039102",
     "status": "completed"
    },
    "tags": []
   },
   "outputs": [],
   "source": [
    "# Set working directory\n",
    "os.chdir(\"/home/alice_lepissier/cron-job\")"
   ]
  },
  {
   "cell_type": "code",
   "execution_count": 4,
   "metadata": {
    "execution": {
     "iopub.execute_input": "2020-08-26T08:40:03.085329Z",
     "iopub.status.busy": "2020-08-26T08:40:03.084829Z",
     "iopub.status.idle": "2020-08-26T08:40:03.383391Z",
     "shell.execute_reply": "2020-08-26T08:40:03.384196Z"
    },
    "papermill": {
     "duration": 0.31633,
     "end_time": "2020-08-26T08:40:03.384356",
     "exception": false,
     "start_time": "2020-08-26T08:40:03.068026",
     "status": "completed"
    },
    "slideshow": {
     "slide_type": "skip"
    },
    "tags": [
     "remove_cell"
    ]
   },
   "outputs": [],
   "source": [
    "# Request content from URL\n",
    "html_string = requests.get('https://www.cdph.ca.gov/Programs/CID/DCDC/Pages/COVID-19/COVID19CountyDataTable.aspx').content"
   ]
  },
  {
   "cell_type": "code",
   "execution_count": 5,
   "metadata": {
    "execution": {
     "iopub.execute_input": "2020-08-26T08:40:03.415554Z",
     "iopub.status.busy": "2020-08-26T08:40:03.415052Z",
     "iopub.status.idle": "2020-08-26T08:40:03.500230Z",
     "shell.execute_reply": "2020-08-26T08:40:03.501128Z"
    },
    "papermill": {
     "duration": 0.104908,
     "end_time": "2020-08-26T08:40:03.501296",
     "exception": false,
     "start_time": "2020-08-26T08:40:03.396388",
     "status": "completed"
    },
    "slideshow": {
     "slide_type": "skip"
    },
    "tags": [
     "remove_cell"
    ]
   },
   "outputs": [],
   "source": [
    "# Parse HTML\n",
    "soup = BeautifulSoup(html_string, 'html.parser')"
   ]
  },
  {
   "cell_type": "code",
   "execution_count": 6,
   "metadata": {
    "execution": {
     "iopub.execute_input": "2020-08-26T08:40:03.531706Z",
     "iopub.status.busy": "2020-08-26T08:40:03.531122Z",
     "iopub.status.idle": "2020-08-26T08:40:03.540404Z",
     "shell.execute_reply": "2020-08-26T08:40:03.541305Z"
    },
    "papermill": {
     "duration": 0.028274,
     "end_time": "2020-08-26T08:40:03.541470",
     "exception": false,
     "start_time": "2020-08-26T08:40:03.513196",
     "status": "completed"
    },
    "slideshow": {
     "slide_type": "skip"
    },
    "tags": [
     "remove_cell"
    ]
   },
   "outputs": [],
   "source": [
    "# Extract data for Santa Barbara\n",
    "table = soup.find_all(\"tr\", class_=\"ms-rteTableEvenRow-3\")\n",
    "SB = table[21]"
   ]
  },
  {
   "cell_type": "code",
   "execution_count": 7,
   "metadata": {
    "execution": {
     "iopub.execute_input": "2020-08-26T08:40:03.571612Z",
     "iopub.status.busy": "2020-08-26T08:40:03.571072Z",
     "iopub.status.idle": "2020-08-26T08:40:03.582984Z",
     "shell.execute_reply": "2020-08-26T08:40:03.583794Z"
    },
    "papermill": {
     "duration": 0.030841,
     "end_time": "2020-08-26T08:40:03.583956",
     "exception": false,
     "start_time": "2020-08-26T08:40:03.553115",
     "status": "completed"
    },
    "slideshow": {
     "slide_type": "skip"
    },
    "tags": [
     "remove_cell"
    ]
   },
   "outputs": [],
   "source": [
    "# Avg # tests per day (per 100,000 population)\n",
    "daily_tests = SB.find_all(\"td\", class_=\"ms-rteTableOddCol-3\")[0].text\n",
    "\n",
    "# Case rate per 100,000\n",
    "case_rate = SB.find_all(\"td\", class_=\"ms-rteTableEvenCol-3\")[1].text\n",
    "\n",
    "# Testing positivity (%)\n",
    "test_positivity = SB.find_all(\"td\", class_=\"ms-rteTableOddCol-3\")[1].text\n",
    "\n",
    "# % Change in 3-day avg COVID+ hospitalized patients\n",
    "change_hospit = SB.find_all(\"td\", class_=\"ms-rteTableEvenCol-3\")[2].text\n",
    "\n",
    "# % ICU beds currently available\n",
    "ICU_beds = SB.find_all(\"td\", class_=\"ms-rteTableOddCol-3\")[2].text\n",
    "\n",
    "# % Ventilators currently available\n",
    "ventilators = SB.find_all(\"td\", class_=\"ms-rteTableEvenCol-3\")[3].text\n",
    "\n",
    "# Extract date of last update\n",
    "update_date = soup.find_all(\"span\", class_=\"ms-rteStyle-Accent1\")[1]\\\n",
    "    .find(\"em\").text"
   ]
  },
  {
   "cell_type": "code",
   "execution_count": 8,
   "metadata": {
    "execution": {
     "iopub.execute_input": "2020-08-26T08:40:03.612844Z",
     "iopub.status.busy": "2020-08-26T08:40:03.612229Z",
     "iopub.status.idle": "2020-08-26T08:40:03.613685Z",
     "shell.execute_reply": "2020-08-26T08:40:03.613281Z"
    },
    "papermill": {
     "duration": 0.018266,
     "end_time": "2020-08-26T08:40:03.613809",
     "exception": false,
     "start_time": "2020-08-26T08:40:03.595543",
     "status": "completed"
    },
    "tags": [
     "remove_cell"
    ]
   },
   "outputs": [],
   "source": [
    "# Create updated date string\n",
    "update_tag = \"Table last updated by CDPH on \" + update_date.split(\" on \", 1)[1] + \".\""
   ]
  },
  {
   "cell_type": "code",
   "execution_count": 9,
   "metadata": {
    "execution": {
     "iopub.execute_input": "2020-08-26T08:40:03.642768Z",
     "iopub.status.busy": "2020-08-26T08:40:03.642262Z",
     "iopub.status.idle": "2020-08-26T08:40:03.645193Z",
     "shell.execute_reply": "2020-08-26T08:40:03.645869Z"
    },
    "papermill": {
     "duration": 0.021048,
     "end_time": "2020-08-26T08:40:03.646018",
     "exception": false,
     "start_time": "2020-08-26T08:40:03.624970",
     "status": "completed"
    },
    "slideshow": {
     "slide_type": "skip"
    },
    "tags": [
     "remove_cell"
    ]
   },
   "outputs": [],
   "source": [
    "# Set up Google Sheet API\n",
    "scope = [\"https://spreadsheets.google.com/feeds\",'https://www.googleapis.com/auth/spreadsheets',\"https://www.googleapis.com/auth/drive.file\",\"https://www.googleapis.com/auth/drive\"]\n",
    "creds = ServiceAccountCredentials.from_json_keyfile_name(\"credentials.json\", scope)\n",
    "client = gspread.authorize(creds)"
   ]
  },
  {
   "cell_type": "code",
   "execution_count": 10,
   "metadata": {
    "execution": {
     "iopub.execute_input": "2020-08-26T08:40:03.675492Z",
     "iopub.status.busy": "2020-08-26T08:40:03.675005Z",
     "iopub.status.idle": "2020-08-26T08:40:05.035608Z",
     "shell.execute_reply": "2020-08-26T08:40:05.036417Z"
    },
    "papermill": {
     "duration": 1.379429,
     "end_time": "2020-08-26T08:40:05.036577",
     "exception": false,
     "start_time": "2020-08-26T08:40:03.657148",
     "status": "completed"
    },
    "slideshow": {
     "slide_type": "skip"
    },
    "tags": [
     "remove_cell"
    ]
   },
   "outputs": [
    {
     "data": {
      "text/plain": [
       "{'spreadsheetId': '1pcqdMzKtea2Oq3BDmdAOQ21gZjCssieKI0692VfNLXU',\n",
       " 'updatedRange': 'Sheet1!A2:G2',\n",
       " 'updatedRows': 1,\n",
       " 'updatedColumns': 7,\n",
       " 'updatedCells': 7}"
      ]
     },
     "execution_count": 10,
     "metadata": {},
     "output_type": "execute_result"
    }
   ],
   "source": [
    "# Append daily data as a new row in Google Sheet\n",
    "sheet = client.open(\"Test cron job\").sheet1\n",
    "insertRow = [datetime.date.today().strftime(\"%Y-%m-%d\"),\n",
    "             daily_tests,\n",
    "             case_rate,\n",
    "             test_positivity,\n",
    "             change_hospit,\n",
    "             ICU_beds,\n",
    "             ventilators]\n",
    "sheet.insert_row(insertRow, 2)"
   ]
  },
  {
   "cell_type": "code",
   "execution_count": 11,
   "metadata": {
    "execution": {
     "iopub.execute_input": "2020-08-26T08:40:05.064947Z",
     "iopub.status.busy": "2020-08-26T08:40:05.064431Z",
     "iopub.status.idle": "2020-08-26T08:40:06.065420Z",
     "shell.execute_reply": "2020-08-26T08:40:06.066252Z"
    },
    "papermill": {
     "duration": 1.01809,
     "end_time": "2020-08-26T08:40:06.066420",
     "exception": false,
     "start_time": "2020-08-26T08:40:05.048330",
     "status": "completed"
    },
    "scrolled": true,
    "slideshow": {
     "slide_type": "slide"
    },
    "tags": [
     "remove_cell"
    ]
   },
   "outputs": [],
   "source": [
    "# Extract data from Google Sheet as pandas dataframe\n",
    "sheet = client.open(\"Test cron job\").sheet1\n",
    "data = sheet.get_all_records()\n",
    "result = pd.DataFrame(data).set_index(\"Date\")"
   ]
  },
  {
   "cell_type": "code",
   "execution_count": 12,
   "metadata": {
    "execution": {
     "iopub.execute_input": "2020-08-26T08:40:06.096068Z",
     "iopub.status.busy": "2020-08-26T08:40:06.095569Z",
     "iopub.status.idle": "2020-08-26T08:40:06.415662Z",
     "shell.execute_reply": "2020-08-26T08:40:06.416442Z"
    },
    "papermill": {
     "duration": 0.33821,
     "end_time": "2020-08-26T08:40:06.416601",
     "exception": false,
     "start_time": "2020-08-26T08:40:06.078391",
     "status": "completed"
    },
    "scrolled": true,
    "tags": [
     "remove_input"
    ]
   },
   "outputs": [
    {
     "data": {
      "text/html": [
       "<style  type=\"text/css\" >\n",
       "    #T_be1030c4_e777_11ea_afad_42010a8a0004 th {\n",
       "          text-align: center;\n",
       "    }#T_be1030c4_e777_11ea_afad_42010a8a0004row0_col0,#T_be1030c4_e777_11ea_afad_42010a8a0004row1_col0,#T_be1030c4_e777_11ea_afad_42010a8a0004row2_col0,#T_be1030c4_e777_11ea_afad_42010a8a0004row3_col0,#T_be1030c4_e777_11ea_afad_42010a8a0004row4_col0,#T_be1030c4_e777_11ea_afad_42010a8a0004row5_col0,#T_be1030c4_e777_11ea_afad_42010a8a0004row6_col0,#T_be1030c4_e777_11ea_afad_42010a8a0004row7_col0,#T_be1030c4_e777_11ea_afad_42010a8a0004row8_col0,#T_be1030c4_e777_11ea_afad_42010a8a0004row9_col0,#T_be1030c4_e777_11ea_afad_42010a8a0004row10_col0,#T_be1030c4_e777_11ea_afad_42010a8a0004row11_col0{\n",
       "            width:  20em;\n",
       "            text-align:  center;\n",
       "            font-weight:  bold;\n",
       "        }#T_be1030c4_e777_11ea_afad_42010a8a0004row0_col1,#T_be1030c4_e777_11ea_afad_42010a8a0004row0_col2,#T_be1030c4_e777_11ea_afad_42010a8a0004row1_col1,#T_be1030c4_e777_11ea_afad_42010a8a0004row1_col2,#T_be1030c4_e777_11ea_afad_42010a8a0004row2_col1,#T_be1030c4_e777_11ea_afad_42010a8a0004row2_col2,#T_be1030c4_e777_11ea_afad_42010a8a0004row3_col1,#T_be1030c4_e777_11ea_afad_42010a8a0004row3_col2,#T_be1030c4_e777_11ea_afad_42010a8a0004row4_col1,#T_be1030c4_e777_11ea_afad_42010a8a0004row4_col2,#T_be1030c4_e777_11ea_afad_42010a8a0004row5_col1,#T_be1030c4_e777_11ea_afad_42010a8a0004row5_col2,#T_be1030c4_e777_11ea_afad_42010a8a0004row6_col1,#T_be1030c4_e777_11ea_afad_42010a8a0004row6_col2,#T_be1030c4_e777_11ea_afad_42010a8a0004row7_col1,#T_be1030c4_e777_11ea_afad_42010a8a0004row7_col2,#T_be1030c4_e777_11ea_afad_42010a8a0004row8_col1,#T_be1030c4_e777_11ea_afad_42010a8a0004row8_col2,#T_be1030c4_e777_11ea_afad_42010a8a0004row9_col1,#T_be1030c4_e777_11ea_afad_42010a8a0004row9_col2,#T_be1030c4_e777_11ea_afad_42010a8a0004row10_col1,#T_be1030c4_e777_11ea_afad_42010a8a0004row10_col2,#T_be1030c4_e777_11ea_afad_42010a8a0004row11_col1,#T_be1030c4_e777_11ea_afad_42010a8a0004row11_col2{\n",
       "            width:  20em;\n",
       "            text-align:  center;\n",
       "        }</style><table id=\"T_be1030c4_e777_11ea_afad_42010a8a0004\" ><thead>    <tr>        <th class=\"col_heading level0 col0\" >Date</th>        <th class=\"col_heading level0 col1\" >Time</th>        <th class=\"col_heading level0 col2\" ></th>    </tr></thead><tbody>\n",
       "                <tr>\n",
       "                                <td id=\"T_be1030c4_e777_11ea_afad_42010a8a0004row0_col0\" class=\"data row0 col0\" >2020-08-26</td>\n",
       "                        <td id=\"T_be1030c4_e777_11ea_afad_42010a8a0004row0_col1\" class=\"data row0 col1\" >222.1</td>\n",
       "                        <td id=\"T_be1030c4_e777_11ea_afad_42010a8a0004row0_col2\" class=\"data row0 col2\" > ✔</td>\n",
       "            </tr>\n",
       "            <tr>\n",
       "                                <td id=\"T_be1030c4_e777_11ea_afad_42010a8a0004row1_col0\" class=\"data row1 col0\" >2020-08-26</td>\n",
       "                        <td id=\"T_be1030c4_e777_11ea_afad_42010a8a0004row1_col1\" class=\"data row1 col1\" >222.1</td>\n",
       "                        <td id=\"T_be1030c4_e777_11ea_afad_42010a8a0004row1_col2\" class=\"data row1 col2\" > ✔</td>\n",
       "            </tr>\n",
       "            <tr>\n",
       "                                <td id=\"T_be1030c4_e777_11ea_afad_42010a8a0004row2_col0\" class=\"data row2 col0\" >2020-08-26</td>\n",
       "                        <td id=\"T_be1030c4_e777_11ea_afad_42010a8a0004row2_col1\" class=\"data row2 col1\" >222.1</td>\n",
       "                        <td id=\"T_be1030c4_e777_11ea_afad_42010a8a0004row2_col2\" class=\"data row2 col2\" > ✔</td>\n",
       "            </tr>\n",
       "            <tr>\n",
       "                                <td id=\"T_be1030c4_e777_11ea_afad_42010a8a0004row3_col0\" class=\"data row3 col0\" >2020-08-26</td>\n",
       "                        <td id=\"T_be1030c4_e777_11ea_afad_42010a8a0004row3_col1\" class=\"data row3 col1\" >222.1</td>\n",
       "                        <td id=\"T_be1030c4_e777_11ea_afad_42010a8a0004row3_col2\" class=\"data row3 col2\" > ✔</td>\n",
       "            </tr>\n",
       "            <tr>\n",
       "                                <td id=\"T_be1030c4_e777_11ea_afad_42010a8a0004row4_col0\" class=\"data row4 col0\" >2020-08-26</td>\n",
       "                        <td id=\"T_be1030c4_e777_11ea_afad_42010a8a0004row4_col1\" class=\"data row4 col1\" >222.1</td>\n",
       "                        <td id=\"T_be1030c4_e777_11ea_afad_42010a8a0004row4_col2\" class=\"data row4 col2\" > ✔</td>\n",
       "            </tr>\n",
       "            <tr>\n",
       "                                <td id=\"T_be1030c4_e777_11ea_afad_42010a8a0004row5_col0\" class=\"data row5 col0\" >2020-08-26</td>\n",
       "                        <td id=\"T_be1030c4_e777_11ea_afad_42010a8a0004row5_col1\" class=\"data row5 col1\" >222.1</td>\n",
       "                        <td id=\"T_be1030c4_e777_11ea_afad_42010a8a0004row5_col2\" class=\"data row5 col2\" > ✔</td>\n",
       "            </tr>\n",
       "            <tr>\n",
       "                                <td id=\"T_be1030c4_e777_11ea_afad_42010a8a0004row6_col0\" class=\"data row6 col0\" >2020-08-26</td>\n",
       "                        <td id=\"T_be1030c4_e777_11ea_afad_42010a8a0004row6_col1\" class=\"data row6 col1\" >222.1</td>\n",
       "                        <td id=\"T_be1030c4_e777_11ea_afad_42010a8a0004row6_col2\" class=\"data row6 col2\" > ✔</td>\n",
       "            </tr>\n",
       "            <tr>\n",
       "                                <td id=\"T_be1030c4_e777_11ea_afad_42010a8a0004row7_col0\" class=\"data row7 col0\" >2020-08-26</td>\n",
       "                        <td id=\"T_be1030c4_e777_11ea_afad_42010a8a0004row7_col1\" class=\"data row7 col1\" >222.1</td>\n",
       "                        <td id=\"T_be1030c4_e777_11ea_afad_42010a8a0004row7_col2\" class=\"data row7 col2\" > ✔</td>\n",
       "            </tr>\n",
       "            <tr>\n",
       "                                <td id=\"T_be1030c4_e777_11ea_afad_42010a8a0004row8_col0\" class=\"data row8 col0\" >2020-08-26</td>\n",
       "                        <td id=\"T_be1030c4_e777_11ea_afad_42010a8a0004row8_col1\" class=\"data row8 col1\" >222.1</td>\n",
       "                        <td id=\"T_be1030c4_e777_11ea_afad_42010a8a0004row8_col2\" class=\"data row8 col2\" > ✔</td>\n",
       "            </tr>\n",
       "            <tr>\n",
       "                                <td id=\"T_be1030c4_e777_11ea_afad_42010a8a0004row9_col0\" class=\"data row9 col0\" >2020-08-26</td>\n",
       "                        <td id=\"T_be1030c4_e777_11ea_afad_42010a8a0004row9_col1\" class=\"data row9 col1\" >222.1</td>\n",
       "                        <td id=\"T_be1030c4_e777_11ea_afad_42010a8a0004row9_col2\" class=\"data row9 col2\" > ✔</td>\n",
       "            </tr>\n",
       "            <tr>\n",
       "                                <td id=\"T_be1030c4_e777_11ea_afad_42010a8a0004row10_col0\" class=\"data row10 col0\" >2020-08-26</td>\n",
       "                        <td id=\"T_be1030c4_e777_11ea_afad_42010a8a0004row10_col1\" class=\"data row10 col1\" >222.1</td>\n",
       "                        <td id=\"T_be1030c4_e777_11ea_afad_42010a8a0004row10_col2\" class=\"data row10 col2\" > ✔</td>\n",
       "            </tr>\n",
       "            <tr>\n",
       "                                <td id=\"T_be1030c4_e777_11ea_afad_42010a8a0004row11_col0\" class=\"data row11 col0\" >2020-08-26</td>\n",
       "                        <td id=\"T_be1030c4_e777_11ea_afad_42010a8a0004row11_col1\" class=\"data row11 col1\" >222.1</td>\n",
       "                        <td id=\"T_be1030c4_e777_11ea_afad_42010a8a0004row11_col2\" class=\"data row11 col2\" > ✔</td>\n",
       "            </tr>\n",
       "    </tbody></table>"
      ],
      "text/plain": [
       "<pandas.io.formats.style.Styler at 0x7f987425f390>"
      ]
     },
     "execution_count": 12,
     "metadata": {},
     "output_type": "execute_result"
    }
   ],
   "source": [
    "# Style the pandas dataframe\n",
    "d = dict(selector=\"th\",\n",
    "         props=[('text-align', 'center')])\n",
    "\n",
    "result.reset_index().style\\\n",
    "    .set_properties(**{'width':'20em', 'text-align':'center'})\\\n",
    "    .set_properties(subset=['Date'], **{'font-weight': 'bold'})\\\n",
    "    .set_table_styles([d])\\\n",
    "    .set_precision(1)\\\n",
    "    .hide_index()"
   ]
  },
  {
   "cell_type": "markdown",
   "metadata": {
    "papermill": {
     "duration": 0.01196,
     "end_time": "2020-08-26T08:40:06.442801",
     "exception": false,
     "start_time": "2020-08-26T08:40:06.430841",
     "status": "completed"
    },
    "tags": []
   },
   "source": [
    "<sup>Notes: (1) 7 day average with a 7-day lag. (2) 14 day average. (3) 7 day average with a 7-day lag. (4) Change in 3 day average.</sup>"
   ]
  },
  {
   "cell_type": "code",
   "execution_count": 13,
   "metadata": {
    "execution": {
     "iopub.execute_input": "2020-08-26T08:40:06.472342Z",
     "iopub.status.busy": "2020-08-26T08:40:06.471803Z",
     "iopub.status.idle": "2020-08-26T08:40:06.475084Z",
     "shell.execute_reply": "2020-08-26T08:40:06.475459Z"
    },
    "papermill": {
     "duration": 0.020877,
     "end_time": "2020-08-26T08:40:06.475615",
     "exception": false,
     "start_time": "2020-08-26T08:40:06.454738",
     "status": "completed"
    },
    "tags": [
     "remove_input"
    ]
   },
   "outputs": [
    {
     "data": {
      "text/markdown": [
       "Table last updated by CDPH on August 25, 2020."
      ],
      "text/plain": [
       "<IPython.core.display.Markdown object>"
      ]
     },
     "execution_count": 13,
     "metadata": {},
     "output_type": "execute_result"
    }
   ],
   "source": [
    "md(update_tag)"
   ]
  },
  {
   "cell_type": "markdown",
   "metadata": {
    "papermill": {
     "duration": 0.0123,
     "end_time": "2020-08-26T08:40:06.499936",
     "exception": false,
     "start_time": "2020-08-26T08:40:06.487636",
     "status": "completed"
    },
    "tags": []
   },
   "source": [
    "## Tracking county closures in Santa Barbara"
   ]
  },
  {
   "cell_type": "markdown",
   "metadata": {
    "papermill": {
     "duration": 0.011979,
     "end_time": "2020-08-26T08:40:06.524030",
     "exception": false,
     "start_time": "2020-08-26T08:40:06.512051",
     "status": "completed"
    },
    "tags": []
   },
   "source": [
    "The state of California is using a data-driven approach informed by scientific evidence to tailor its response to COVID-19. Three dimensions of concern are monitored to assess whether a county should be placed on the County Monitoring List:\n",
    " 1. Elevated Disease Transmission\n",
    " 2. Increasing Hospitalization\n",
    " 3. Limited Hospital Capacity\n",
    "\n",
    "Once a county appears on the County Monitoring List for three consecutive days, indoor operations in the sectors listed in Section 3 of the [July 13th State Health Officer Order](https://www.cdph.ca.gov/Programs/CID/DCDC/CDPH%20Document%20Library/COVID-19/SHO%20Order%20Dimming%20Entire%20State%207-13-2020.pdf) must close.\n",
    "\n",
    "This table tracks where Santa Barbara stands in terms of the criteria for inclusion on the County Monitoring List. As of 20 August 2020, the criteria for inclusion on the monitoring list are:\n",
    "\n",
    "* Case rate >100 OR (Case rate >25 AND Positivity >8%)\n",
    "* \\>10% increase in hospitalizations\n",
    "* <20% ICU beds available OR <25% ventilators available\n",
    "\n",
    "If Santa Barbara meets the criteria for removal from the County Monitoring List for a certain metric, then a checkmark ✔ is displayed in the table.\n",
    "\n",
    "Read more at <https://covid19.ca.gov/roadmap-counties/>.\n",
    "\n",
    "Data source for county metrics: https://www.cdph.ca.gov/Programs/CID/DCDC/Pages/COVID-19/COVID19CountyDataTable.aspx."
   ]
  },
  {
   "cell_type": "markdown",
   "metadata": {
    "papermill": {
     "duration": 0.011975,
     "end_time": "2020-08-26T08:40:06.548255",
     "exception": false,
     "start_time": "2020-08-26T08:40:06.536280",
     "status": "completed"
    },
    "tags": []
   },
   "source": [
    "**See the code used to scrape the data: https://github.com/walice/COVID-SB/.**"
   ]
  },
  {
   "cell_type": "code",
   "execution_count": 14,
   "metadata": {
    "execution": {
     "iopub.execute_input": "2020-08-26T08:40:06.580105Z",
     "iopub.status.busy": "2020-08-26T08:40:06.578031Z",
     "iopub.status.idle": "2020-08-26T08:40:06.581926Z",
     "shell.execute_reply": "2020-08-26T08:40:06.581496Z"
    },
    "papermill": {
     "duration": 0.021342,
     "end_time": "2020-08-26T08:40:06.582045",
     "exception": false,
     "start_time": "2020-08-26T08:40:06.560703",
     "status": "completed"
    },
    "tags": [
     "remove_cell"
    ]
   },
   "outputs": [
    {
     "data": {
      "application/javascript": [
       "IPython.notebook.save_notebook()\n"
      ],
      "text/plain": [
       "<IPython.core.display.Javascript object>"
      ]
     },
     "metadata": {},
     "output_type": "display_data"
    }
   ],
   "source": [
    "%%javascript\n",
    "IPython.notebook.save_notebook()"
   ]
  },
  {
   "cell_type": "code",
   "execution_count": 15,
   "metadata": {
    "execution": {
     "iopub.execute_input": "2020-08-26T08:40:06.614005Z",
     "iopub.status.busy": "2020-08-26T08:40:06.613514Z",
     "iopub.status.idle": "2020-08-26T08:40:06.726923Z",
     "shell.execute_reply": "2020-08-26T08:40:06.726008Z"
    },
    "papermill": {
     "duration": 0.132658,
     "end_time": "2020-08-26T08:40:06.727058",
     "exception": false,
     "start_time": "2020-08-26T08:40:06.594400",
     "status": "completed"
    },
    "slideshow": {
     "slide_type": "skip"
    },
    "tags": [
     "remove_cell"
    ]
   },
   "outputs": [
    {
     "name": "stdout",
     "output_type": "stream",
     "text": [
      "/bin/sh: 1: jupyter: not found\r\n"
     ]
    }
   ],
   "source": [
    "# Convert Jupyter Notebook to HTML\n",
    "! jupyter nbconvert \"index.ipynb\" --to html --TagRemovePreprocessor.enabled=True --TagRemovePreprocessor.remove_cell_tags=\"['remove_cell']\" --TagRemovePreprocessor.remove_input_tags=\"['remove_input']\" --no-prompt"
   ]
  },
  {
   "cell_type": "code",
   "execution_count": 16,
   "metadata": {
    "execution": {
     "iopub.execute_input": "2020-08-26T08:40:06.757619Z",
     "iopub.status.busy": "2020-08-26T08:40:06.757141Z",
     "iopub.status.idle": "2020-08-26T08:40:06.759483Z",
     "shell.execute_reply": "2020-08-26T08:40:06.759867Z"
    },
    "papermill": {
     "duration": 0.019859,
     "end_time": "2020-08-26T08:40:06.760020",
     "exception": false,
     "start_time": "2020-08-26T08:40:06.740161",
     "status": "completed"
    },
    "tags": [
     "remove_cell"
    ]
   },
   "outputs": [],
   "source": [
    "# Create daily commit message\n",
    "now = datetime.datetime.now()\n",
    "commit_message = \"Last scraped on \" + str(now)"
   ]
  },
  {
   "cell_type": "code",
   "execution_count": null,
   "metadata": {
    "execution": {
     "iopub.execute_input": "2020-08-26T08:39:08.617263Z",
     "iopub.status.busy": "2020-08-26T08:39:08.616759Z",
     "iopub.status.idle": "2020-08-26T08:39:12.642446Z",
     "shell.execute_reply": "2020-08-26T08:39:12.641133Z"
    },
    "papermill": {
     "duration": null,
     "end_time": null,
     "exception": false,
     "start_time": "2020-08-26T08:40:06.772317",
     "status": "running"
    },
    "tags": [
     "remove_cell"
    ]
   },
   "outputs": [],
   "source": [
    "# Deploy to GitHub\n",
    "! git add .\n",
    "! echo $commit_message > commit_message.txt\n",
    "! git commit -F commit_message.txt\n",
    "! git push"
   ]
  }
 ],
 "metadata": {
  "celltoolbar": "Tags",
  "kernelspec": {
   "display_name": "Python 3",
   "language": "python",
   "name": "python3"
  },
  "language_info": {
   "codemirror_mode": {
    "name": "ipython",
    "version": 3
   },
   "file_extension": ".py",
   "mimetype": "text/x-python",
   "name": "python",
   "nbconvert_exporter": "python",
   "pygments_lexer": "ipython3",
   "version": "3.7.3"
  },
  "papermill": {
   "duration": null,
   "end_time": null,
   "environment_variables": {},
   "exception": null,
   "input_path": "/home/alice_lepissier/cron-job/index.ipynb",
   "output_path": "/home/alice_lepissier/cron-job/index.ipynb",
   "parameters": {},
   "start_time": "2020-08-26T08:40:01.555867",
   "version": "2.1.3"
  }
 },
 "nbformat": 4,
 "nbformat_minor": 4
}