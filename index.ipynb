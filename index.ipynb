{
 "cells": [
  {
   "cell_type": "markdown",
   "metadata": {
    "papermill": {
     "duration": 0.010674,
     "end_time": "2020-08-26T20:25:03.986342",
     "exception": false,
     "start_time": "2020-08-26T20:25:03.975668",
     "status": "completed"
    },
    "tags": []
   },
   "source": [
    "# Daily COVID monitoring data for Santa Barbara county"
   ]
  },
  {
   "cell_type": "code",
   "execution_count": 1,
   "metadata": {
    "execution": {
     "iopub.execute_input": "2020-08-26T20:25:04.016187Z",
     "iopub.status.busy": "2020-08-26T20:25:04.015625Z",
     "iopub.status.idle": "2020-08-26T20:25:05.682425Z",
     "shell.execute_reply": "2020-08-26T20:25:05.683335Z"
    },
    "papermill": {
     "duration": 1.687315,
     "end_time": "2020-08-26T20:25:05.683540",
     "exception": false,
     "start_time": "2020-08-26T20:25:03.996225",
     "status": "completed"
    },
    "tags": [
     "remove_cell"
    ]
   },
   "outputs": [],
   "source": [
    "! jt -t grade3 -tf robotosans -cellw 1100"
   ]
  },
  {
   "cell_type": "markdown",
   "metadata": {
    "papermill": {
     "duration": 0.009399,
     "end_time": "2020-08-26T20:25:05.703183",
     "exception": false,
     "start_time": "2020-08-26T20:25:05.693784",
     "status": "completed"
    },
    "tags": []
   },
   "source": [
    "This table is automatically updated with new daily COVID data for the county of Santa Barbara, CA. Every day, the California Department of Public Health publishes COVID tracking metrics for each county, but does not save the previous day's data. This tool keeps track of the daily metrics that are used to monitor progress towards safe reopening in California."
   ]
  },
  {
   "cell_type": "code",
   "execution_count": 2,
   "metadata": {
    "execution": {
     "iopub.execute_input": "2020-08-26T20:25:05.727522Z",
     "iopub.status.busy": "2020-08-26T20:25:05.727006Z",
     "iopub.status.idle": "2020-08-26T20:25:08.263195Z",
     "shell.execute_reply": "2020-08-26T20:25:08.264025Z"
    },
    "papermill": {
     "duration": 2.5515,
     "end_time": "2020-08-26T20:25:08.264188",
     "exception": false,
     "start_time": "2020-08-26T20:25:05.712688",
     "status": "completed"
    },
    "slideshow": {
     "slide_type": "skip"
    },
    "tags": [
     "remove_cell"
    ]
   },
   "outputs": [],
   "source": [
    "# Preamble\n",
    "import os\n",
    "from IPython.display import Markdown as md\n",
    "import IPython\n",
    "import requests\n",
    "from bs4 import BeautifulSoup\n",
    "import re\n",
    "import pandas as pd\n",
    "import datetime\n",
    "import gspread\n",
    "from oauth2client.service_account import ServiceAccountCredentials"
   ]
  },
  {
   "cell_type": "code",
   "execution_count": 3,
   "metadata": {
    "execution": {
     "iopub.execute_input": "2020-08-26T20:25:08.289238Z",
     "iopub.status.busy": "2020-08-26T20:25:08.288634Z",
     "iopub.status.idle": "2020-08-26T20:25:08.290121Z",
     "shell.execute_reply": "2020-08-26T20:25:08.289671Z"
    },
    "papermill": {
     "duration": 0.016108,
     "end_time": "2020-08-26T20:25:08.290245",
     "exception": false,
     "start_time": "2020-08-26T20:25:08.274137",
     "status": "completed"
    },
    "tags": [
     "remove_cell"
    ]
   },
   "outputs": [],
   "source": [
    "# Set working directory\n",
    "os.chdir(\"/home/alice_lepissier/cron-job\")"
   ]
  },
  {
   "cell_type": "code",
   "execution_count": 4,
   "metadata": {
    "execution": {
     "iopub.execute_input": "2020-08-26T20:25:08.316527Z",
     "iopub.status.busy": "2020-08-26T20:25:08.313795Z",
     "iopub.status.idle": "2020-08-26T20:25:08.591368Z",
     "shell.execute_reply": "2020-08-26T20:25:08.592202Z"
    },
    "papermill": {
     "duration": 0.292632,
     "end_time": "2020-08-26T20:25:08.592363",
     "exception": false,
     "start_time": "2020-08-26T20:25:08.299731",
     "status": "completed"
    },
    "slideshow": {
     "slide_type": "skip"
    },
    "tags": [
     "remove_cell"
    ]
   },
   "outputs": [],
   "source": [
    "# Request content from URL\n",
    "html_string = requests.get('https://www.cdph.ca.gov/Programs/CID/DCDC/Pages/COVID-19/COVID19CountyDataTable.aspx').content"
   ]
  },
  {
   "cell_type": "code",
   "execution_count": 5,
   "metadata": {
    "execution": {
     "iopub.execute_input": "2020-08-26T20:25:08.627499Z",
     "iopub.status.busy": "2020-08-26T20:25:08.627025Z",
     "iopub.status.idle": "2020-08-26T20:25:08.755110Z",
     "shell.execute_reply": "2020-08-26T20:25:08.755890Z"
    },
    "papermill": {
     "duration": 0.14951,
     "end_time": "2020-08-26T20:25:08.756054",
     "exception": false,
     "start_time": "2020-08-26T20:25:08.606544",
     "status": "completed"
    },
    "slideshow": {
     "slide_type": "skip"
    },
    "tags": [
     "remove_cell"
    ]
   },
   "outputs": [],
   "source": [
    "# Parse HTML\n",
    "soup = BeautifulSoup(html_string, 'html.parser')"
   ]
  },
  {
   "cell_type": "code",
   "execution_count": 6,
   "metadata": {
    "execution": {
     "iopub.execute_input": "2020-08-26T20:25:08.784725Z",
     "iopub.status.busy": "2020-08-26T20:25:08.784222Z",
     "iopub.status.idle": "2020-08-26T20:25:08.790441Z",
     "shell.execute_reply": "2020-08-26T20:25:08.791217Z"
    },
    "papermill": {
     "duration": 0.02533,
     "end_time": "2020-08-26T20:25:08.791380",
     "exception": false,
     "start_time": "2020-08-26T20:25:08.766050",
     "status": "completed"
    },
    "slideshow": {
     "slide_type": "skip"
    },
    "tags": [
     "remove_cell"
    ]
   },
   "outputs": [],
   "source": [
    "# Extract data for Santa Barbara\n",
    "table = soup.find_all(\"tr\", class_=\"ms-rteTableEvenRow-3\")\n",
    "SB = table[21]"
   ]
  },
  {
   "cell_type": "code",
   "execution_count": 7,
   "metadata": {
    "execution": {
     "iopub.execute_input": "2020-08-26T20:25:08.820903Z",
     "iopub.status.busy": "2020-08-26T20:25:08.820240Z",
     "iopub.status.idle": "2020-08-26T20:25:08.828992Z",
     "shell.execute_reply": "2020-08-26T20:25:08.829721Z"
    },
    "papermill": {
     "duration": 0.028738,
     "end_time": "2020-08-26T20:25:08.829888",
     "exception": false,
     "start_time": "2020-08-26T20:25:08.801150",
     "status": "completed"
    },
    "slideshow": {
     "slide_type": "skip"
    },
    "tags": [
     "remove_cell"
    ]
   },
   "outputs": [],
   "source": [
    "# Avg # tests per day (per 100,000 population)\n",
    "daily_tests = SB.find_all(\"td\", class_=\"ms-rteTableOddCol-3\")[0].text\n",
    "\n",
    "# Case rate per 100,000\n",
    "case_rate = SB.find_all(\"td\", class_=\"ms-rteTableEvenCol-3\")[1].text\n",
    "\n",
    "# Testing positivity (%)\n",
    "test_positivity = SB.find_all(\"td\", class_=\"ms-rteTableOddCol-3\")[1].text\n",
    "\n",
    "# % Change in 3-day avg COVID+ hospitalized patients\n",
    "change_hospit = SB.find_all(\"td\", class_=\"ms-rteTableEvenCol-3\")[2].text\n",
    "\n",
    "# % ICU beds currently available\n",
    "ICU_beds = SB.find_all(\"td\", class_=\"ms-rteTableOddCol-3\")[2].text\n",
    "\n",
    "# % Ventilators currently available\n",
    "ventilators = SB.find_all(\"td\", class_=\"ms-rteTableEvenCol-3\")[3].text\n",
    "\n",
    "# Extract date of last update\n",
    "update_date = soup.find_all(\"span\", class_=\"ms-rteStyle-Accent1\")[1]\\\n",
    "    .find(\"em\").text"
   ]
  },
  {
   "cell_type": "code",
   "execution_count": 8,
   "metadata": {
    "execution": {
     "iopub.execute_input": "2020-08-26T20:25:08.855679Z",
     "iopub.status.busy": "2020-08-26T20:25:08.855094Z",
     "iopub.status.idle": "2020-08-26T20:25:08.856649Z",
     "shell.execute_reply": "2020-08-26T20:25:08.856227Z"
    },
    "papermill": {
     "duration": 0.015991,
     "end_time": "2020-08-26T20:25:08.856763",
     "exception": false,
     "start_time": "2020-08-26T20:25:08.840772",
     "status": "completed"
    },
    "tags": [
     "remove_cell"
    ]
   },
   "outputs": [],
   "source": [
    "# Create updated date string\n",
    "update_tag = \"Table last updated by CDPH on \" + update_date.split(\" on \", 1)[1] + \".\""
   ]
  },
  {
   "cell_type": "code",
   "execution_count": 9,
   "metadata": {
    "execution": {
     "iopub.execute_input": "2020-08-26T20:25:08.879867Z",
     "iopub.status.busy": "2020-08-26T20:25:08.879364Z",
     "iopub.status.idle": "2020-08-26T20:25:08.896415Z",
     "shell.execute_reply": "2020-08-26T20:25:08.897174Z"
    },
    "papermill": {
     "duration": 0.031052,
     "end_time": "2020-08-26T20:25:08.897346",
     "exception": false,
     "start_time": "2020-08-26T20:25:08.866294",
     "status": "completed"
    },
    "slideshow": {
     "slide_type": "skip"
    },
    "tags": [
     "remove_cell"
    ]
   },
   "outputs": [],
   "source": [
    "# Set up Google Sheet API\n",
    "scope = [\"https://spreadsheets.google.com/feeds\",'https://www.googleapis.com/auth/spreadsheets',\"https://www.googleapis.com/auth/drive.file\",\"https://www.googleapis.com/auth/drive\"]\n",
    "creds = ServiceAccountCredentials.from_json_keyfile_name(\"credentials.json\", scope)\n",
    "client = gspread.authorize(creds)"
   ]
  },
  {
   "cell_type": "code",
   "execution_count": 10,
   "metadata": {
    "execution": {
     "iopub.execute_input": "2020-08-26T20:25:08.923455Z",
     "iopub.status.busy": "2020-08-26T20:25:08.922967Z",
     "iopub.status.idle": "2020-08-26T20:25:09.760258Z",
     "shell.execute_reply": "2020-08-26T20:25:09.760960Z"
    },
    "papermill": {
     "duration": 0.85389,
     "end_time": "2020-08-26T20:25:09.761117",
     "exception": false,
     "start_time": "2020-08-26T20:25:08.907227",
     "status": "completed"
    },
    "slideshow": {
     "slide_type": "skip"
    },
    "tags": [
     "remove_cell"
    ]
   },
   "outputs": [
    {
     "data": {
      "text/plain": [
       "{'spreadsheetId': '1pcqdMzKtea2Oq3BDmdAOQ21gZjCssieKI0692VfNLXU',\n",
       " 'updatedRange': 'Sheet1!A2:G2',\n",
       " 'updatedRows': 1,\n",
       " 'updatedColumns': 7,\n",
       " 'updatedCells': 7}"
      ]
     },
     "execution_count": 10,
     "metadata": {},
     "output_type": "execute_result"
    }
   ],
   "source": [
    "# Append daily data as a new row in Google Sheet\n",
    "sheet = client.open(\"Test cron job\").sheet1\n",
    "insertRow = [datetime.date.today().strftime(\"%Y-%m-%d\"),\n",
    "             daily_tests,\n",
    "             case_rate,\n",
    "             test_positivity,\n",
    "             change_hospit,\n",
    "             ICU_beds,\n",
    "             ventilators]\n",
    "sheet.insert_row(insertRow, 2)"
   ]
  },
  {
   "cell_type": "code",
   "execution_count": 11,
   "metadata": {
    "execution": {
     "iopub.execute_input": "2020-08-26T20:25:09.786854Z",
     "iopub.status.busy": "2020-08-26T20:25:09.786328Z",
     "iopub.status.idle": "2020-08-26T20:25:10.262535Z",
     "shell.execute_reply": "2020-08-26T20:25:10.263352Z"
    },
    "papermill": {
     "duration": 0.492197,
     "end_time": "2020-08-26T20:25:10.263515",
     "exception": false,
     "start_time": "2020-08-26T20:25:09.771318",
     "status": "completed"
    },
    "scrolled": true,
    "slideshow": {
     "slide_type": "slide"
    },
    "tags": [
     "remove_cell"
    ]
   },
   "outputs": [],
   "source": [
    "# Extract data from Google Sheet as pandas dataframe\n",
    "sheet = client.open(\"Test cron job\").sheet1\n",
    "data = sheet.get_all_records()\n",
    "result = pd.DataFrame(data).set_index(\"Date\")"
   ]
  },
  {
   "cell_type": "code",
   "execution_count": 12,
   "metadata": {
    "execution": {
     "iopub.execute_input": "2020-08-26T20:25:10.289510Z",
     "iopub.status.busy": "2020-08-26T20:25:10.288966Z",
     "iopub.status.idle": "2020-08-26T20:25:11.296547Z",
     "shell.execute_reply": "2020-08-26T20:25:11.297331Z"
    },
    "papermill": {
     "duration": 1.023679,
     "end_time": "2020-08-26T20:25:11.297499",
     "exception": false,
     "start_time": "2020-08-26T20:25:10.273820",
     "status": "completed"
    },
    "scrolled": true,
    "tags": [
     "remove_input"
    ]
   },
   "outputs": [
    {
     "data": {
      "text/html": [
       "<style  type=\"text/css\" >\n",
       "    #T_3dbcb3f8_e7da_11ea_b9f3_42010a8a0004 th {\n",
       "          text-align: center;\n",
       "    }#T_3dbcb3f8_e7da_11ea_b9f3_42010a8a0004row0_col0,#T_3dbcb3f8_e7da_11ea_b9f3_42010a8a0004row1_col0,#T_3dbcb3f8_e7da_11ea_b9f3_42010a8a0004row2_col0,#T_3dbcb3f8_e7da_11ea_b9f3_42010a8a0004row3_col0{\n",
       "            width:  20em;\n",
       "            text-align:  center;\n",
       "            font-weight:  bold;\n",
       "        }#T_3dbcb3f8_e7da_11ea_b9f3_42010a8a0004row0_col1,#T_3dbcb3f8_e7da_11ea_b9f3_42010a8a0004row0_col2,#T_3dbcb3f8_e7da_11ea_b9f3_42010a8a0004row0_col3,#T_3dbcb3f8_e7da_11ea_b9f3_42010a8a0004row0_col4,#T_3dbcb3f8_e7da_11ea_b9f3_42010a8a0004row0_col5,#T_3dbcb3f8_e7da_11ea_b9f3_42010a8a0004row0_col6,#T_3dbcb3f8_e7da_11ea_b9f3_42010a8a0004row1_col1,#T_3dbcb3f8_e7da_11ea_b9f3_42010a8a0004row1_col2,#T_3dbcb3f8_e7da_11ea_b9f3_42010a8a0004row1_col3,#T_3dbcb3f8_e7da_11ea_b9f3_42010a8a0004row1_col4,#T_3dbcb3f8_e7da_11ea_b9f3_42010a8a0004row1_col5,#T_3dbcb3f8_e7da_11ea_b9f3_42010a8a0004row1_col6,#T_3dbcb3f8_e7da_11ea_b9f3_42010a8a0004row2_col1,#T_3dbcb3f8_e7da_11ea_b9f3_42010a8a0004row2_col2,#T_3dbcb3f8_e7da_11ea_b9f3_42010a8a0004row2_col3,#T_3dbcb3f8_e7da_11ea_b9f3_42010a8a0004row2_col4,#T_3dbcb3f8_e7da_11ea_b9f3_42010a8a0004row2_col5,#T_3dbcb3f8_e7da_11ea_b9f3_42010a8a0004row2_col6,#T_3dbcb3f8_e7da_11ea_b9f3_42010a8a0004row3_col1,#T_3dbcb3f8_e7da_11ea_b9f3_42010a8a0004row3_col2,#T_3dbcb3f8_e7da_11ea_b9f3_42010a8a0004row3_col3,#T_3dbcb3f8_e7da_11ea_b9f3_42010a8a0004row3_col4,#T_3dbcb3f8_e7da_11ea_b9f3_42010a8a0004row3_col5,#T_3dbcb3f8_e7da_11ea_b9f3_42010a8a0004row3_col6{\n",
       "            width:  20em;\n",
       "            text-align:  center;\n",
       "        }</style><table id=\"T_3dbcb3f8_e7da_11ea_b9f3_42010a8a0004\" ><thead>    <tr>        <th class=\"col_heading level0 col0\" >Date</th>        <th class=\"col_heading level0 col1\" >Daily tests (per 100,000)¹</th>        <th class=\"col_heading level0 col2\" >Case rate (per 100,000)²</th>        <th class=\"col_heading level0 col3\" >Testing positivity (%)³</th>        <th class=\"col_heading level0 col4\" >Change in hospitalizations (%)⁴</th>        <th class=\"col_heading level0 col5\" >ICU beds available (%)</th>        <th class=\"col_heading level0 col6\" >Ventilators (available (%)</th>    </tr></thead><tbody>\n",
       "                <tr>\n",
       "                                <td id=\"T_3dbcb3f8_e7da_11ea_b9f3_42010a8a0004row0_col0\" class=\"data row0 col0\" >2020-08-26</td>\n",
       "                        <td id=\"T_3dbcb3f8_e7da_11ea_b9f3_42010a8a0004row0_col1\" class=\"data row0 col1\" >219.7</td>\n",
       "                        <td id=\"T_3dbcb3f8_e7da_11ea_b9f3_42010a8a0004row0_col2\" class=\"data row0 col2\" >133.2</td>\n",
       "                        <td id=\"T_3dbcb3f8_e7da_11ea_b9f3_42010a8a0004row0_col3\" class=\"data row0 col3\" > ✔</td>\n",
       "                        <td id=\"T_3dbcb3f8_e7da_11ea_b9f3_42010a8a0004row0_col4\" class=\"data row0 col4\" > ✔</td>\n",
       "                        <td id=\"T_3dbcb3f8_e7da_11ea_b9f3_42010a8a0004row0_col5\" class=\"data row0 col5\" > ✔</td>\n",
       "                        <td id=\"T_3dbcb3f8_e7da_11ea_b9f3_42010a8a0004row0_col6\" class=\"data row0 col6\" > ✔</td>\n",
       "            </tr>\n",
       "            <tr>\n",
       "                                <td id=\"T_3dbcb3f8_e7da_11ea_b9f3_42010a8a0004row1_col0\" class=\"data row1 col0\" >2020-08-26</td>\n",
       "                        <td id=\"T_3dbcb3f8_e7da_11ea_b9f3_42010a8a0004row1_col1\" class=\"data row1 col1\" >219.7</td>\n",
       "                        <td id=\"T_3dbcb3f8_e7da_11ea_b9f3_42010a8a0004row1_col2\" class=\"data row1 col2\" >133.2</td>\n",
       "                        <td id=\"T_3dbcb3f8_e7da_11ea_b9f3_42010a8a0004row1_col3\" class=\"data row1 col3\" > ✔</td>\n",
       "                        <td id=\"T_3dbcb3f8_e7da_11ea_b9f3_42010a8a0004row1_col4\" class=\"data row1 col4\" > ✔</td>\n",
       "                        <td id=\"T_3dbcb3f8_e7da_11ea_b9f3_42010a8a0004row1_col5\" class=\"data row1 col5\" > ✔</td>\n",
       "                        <td id=\"T_3dbcb3f8_e7da_11ea_b9f3_42010a8a0004row1_col6\" class=\"data row1 col6\" > ✔</td>\n",
       "            </tr>\n",
       "            <tr>\n",
       "                                <td id=\"T_3dbcb3f8_e7da_11ea_b9f3_42010a8a0004row2_col0\" class=\"data row2 col0\" >2020-08-26</td>\n",
       "                        <td id=\"T_3dbcb3f8_e7da_11ea_b9f3_42010a8a0004row2_col1\" class=\"data row2 col1\" >219.7</td>\n",
       "                        <td id=\"T_3dbcb3f8_e7da_11ea_b9f3_42010a8a0004row2_col2\" class=\"data row2 col2\" >133.2</td>\n",
       "                        <td id=\"T_3dbcb3f8_e7da_11ea_b9f3_42010a8a0004row2_col3\" class=\"data row2 col3\" > ✔</td>\n",
       "                        <td id=\"T_3dbcb3f8_e7da_11ea_b9f3_42010a8a0004row2_col4\" class=\"data row2 col4\" > ✔</td>\n",
       "                        <td id=\"T_3dbcb3f8_e7da_11ea_b9f3_42010a8a0004row2_col5\" class=\"data row2 col5\" > ✔</td>\n",
       "                        <td id=\"T_3dbcb3f8_e7da_11ea_b9f3_42010a8a0004row2_col6\" class=\"data row2 col6\" > ✔</td>\n",
       "            </tr>\n",
       "            <tr>\n",
       "                                <td id=\"T_3dbcb3f8_e7da_11ea_b9f3_42010a8a0004row3_col0\" class=\"data row3 col0\" >2020-08-26</td>\n",
       "                        <td id=\"T_3dbcb3f8_e7da_11ea_b9f3_42010a8a0004row3_col1\" class=\"data row3 col1\" >219.7</td>\n",
       "                        <td id=\"T_3dbcb3f8_e7da_11ea_b9f3_42010a8a0004row3_col2\" class=\"data row3 col2\" >133.2</td>\n",
       "                        <td id=\"T_3dbcb3f8_e7da_11ea_b9f3_42010a8a0004row3_col3\" class=\"data row3 col3\" > ✔</td>\n",
       "                        <td id=\"T_3dbcb3f8_e7da_11ea_b9f3_42010a8a0004row3_col4\" class=\"data row3 col4\" > ✔</td>\n",
       "                        <td id=\"T_3dbcb3f8_e7da_11ea_b9f3_42010a8a0004row3_col5\" class=\"data row3 col5\" > ✔</td>\n",
       "                        <td id=\"T_3dbcb3f8_e7da_11ea_b9f3_42010a8a0004row3_col6\" class=\"data row3 col6\" > ✔</td>\n",
       "            </tr>\n",
       "    </tbody></table>"
      ],
      "text/plain": [
       "<pandas.io.formats.style.Styler at 0x7f7120b15128>"
      ]
     },
     "execution_count": 12,
     "metadata": {},
     "output_type": "execute_result"
    }
   ],
   "source": [
    "# Style the pandas dataframe\n",
    "d = dict(selector=\"th\",\n",
    "         props=[('text-align', 'center')])\n",
    "\n",
    "result.reset_index().style\\\n",
    "    .set_properties(**{'width':'20em', 'text-align':'center'})\\\n",
    "    .set_properties(subset=['Date'], **{'font-weight': 'bold'})\\\n",
    "    .set_table_styles([d])\\\n",
    "    .set_precision(1)\\\n",
    "    .hide_index()"
   ]
  },
  {
   "cell_type": "markdown",
   "metadata": {
    "papermill": {
     "duration": 0.010279,
     "end_time": "2020-08-26T20:25:11.318469",
     "exception": false,
     "start_time": "2020-08-26T20:25:11.308190",
     "status": "completed"
    },
    "tags": []
   },
   "source": [
    "<sup>Notes: (1) 7 day average with a 7-day lag. (2) 14 day average. (3) 7 day average with a 7-day lag. (4) Change in 3 day average.</sup>"
   ]
  },
  {
   "cell_type": "code",
   "execution_count": 13,
   "metadata": {
    "execution": {
     "iopub.execute_input": "2020-08-26T20:25:11.346638Z",
     "iopub.status.busy": "2020-08-26T20:25:11.345985Z",
     "iopub.status.idle": "2020-08-26T20:25:11.348225Z",
     "shell.execute_reply": "2020-08-26T20:25:11.347081Z"
    },
    "papermill": {
     "duration": 0.019745,
     "end_time": "2020-08-26T20:25:11.348352",
     "exception": false,
     "start_time": "2020-08-26T20:25:11.328607",
     "status": "completed"
    },
    "tags": [
     "remove_input"
    ]
   },
   "outputs": [
    {
     "data": {
      "text/markdown": [
       "Table last updated by CDPH on August 26, 2020."
      ],
      "text/plain": [
       "<IPython.core.display.Markdown object>"
      ]
     },
     "execution_count": 13,
     "metadata": {},
     "output_type": "execute_result"
    }
   ],
   "source": [
    "md(update_tag)"
   ]
  },
  {
   "cell_type": "markdown",
   "metadata": {
    "papermill": {
     "duration": 0.02654,
     "end_time": "2020-08-26T20:25:11.385648",
     "exception": false,
     "start_time": "2020-08-26T20:25:11.359108",
     "status": "completed"
    },
    "tags": []
   },
   "source": [
    "## Tracking county closures in Santa Barbara"
   ]
  },
  {
   "cell_type": "markdown",
   "metadata": {
    "papermill": {
     "duration": 0.01041,
     "end_time": "2020-08-26T20:25:11.406844",
     "exception": false,
     "start_time": "2020-08-26T20:25:11.396434",
     "status": "completed"
    },
    "tags": []
   },
   "source": [
    "The state of California is using a data-driven approach informed by scientific evidence to tailor its response to COVID-19. Three dimensions of concern are monitored to assess whether a county should be placed on the County Monitoring List:\n",
    " 1. Elevated Disease Transmission\n",
    " 2. Increasing Hospitalization\n",
    " 3. Limited Hospital Capacity\n",
    "\n",
    "Once a county appears on the County Monitoring List for three consecutive days, indoor operations in the sectors listed in Section 3 of the [July 13th State Health Officer Order](https://www.cdph.ca.gov/Programs/CID/DCDC/CDPH%20Document%20Library/COVID-19/SHO%20Order%20Dimming%20Entire%20State%207-13-2020.pdf) must close.\n",
    "\n",
    "This table tracks where Santa Barbara stands in terms of the criteria for inclusion on the County Monitoring List. As of 20 August 2020, the criteria for inclusion on the monitoring list are:\n",
    "\n",
    "* Case rate >100 OR (Case rate >25 AND Positivity >8%)\n",
    "* \\>10% increase in hospitalizations\n",
    "* <20% ICU beds available OR <25% ventilators available\n",
    "\n",
    "If Santa Barbara meets the criteria for removal from the County Monitoring List for a certain metric, then a checkmark ✔ is displayed in the table.\n",
    "\n",
    "Read more at <https://covid19.ca.gov/roadmap-counties/>.\n",
    "\n",
    "Data source for county metrics: https://www.cdph.ca.gov/Programs/CID/DCDC/Pages/COVID-19/COVID19CountyDataTable.aspx."
   ]
  },
  {
   "cell_type": "markdown",
   "metadata": {
    "papermill": {
     "duration": 0.010376,
     "end_time": "2020-08-26T20:25:11.428020",
     "exception": false,
     "start_time": "2020-08-26T20:25:11.417644",
     "status": "completed"
    },
    "tags": []
   },
   "source": [
    "**See the code used to scrape the data: https://github.com/walice/COVID-SB/.**"
   ]
  },
  {
   "cell_type": "code",
   "execution_count": 14,
   "metadata": {
    "execution": {
     "iopub.execute_input": "2020-08-26T20:25:11.454669Z",
     "iopub.status.busy": "2020-08-26T20:25:11.453819Z",
     "iopub.status.idle": "2020-08-26T20:25:11.457188Z",
     "shell.execute_reply": "2020-08-26T20:25:11.457565Z"
    },
    "papermill": {
     "duration": 0.019229,
     "end_time": "2020-08-26T20:25:11.457703",
     "exception": false,
     "start_time": "2020-08-26T20:25:11.438474",
     "status": "completed"
    },
    "tags": [
     "remove_cell"
    ]
   },
   "outputs": [
    {
     "data": {
      "application/javascript": [
       "IPython.notebook.save_notebook()\n"
      ],
      "text/plain": [
       "<IPython.core.display.Javascript object>"
      ]
     },
     "metadata": {},
     "output_type": "display_data"
    }
   ],
   "source": [
    "%%javascript\n",
    "IPython.notebook.save_notebook()"
   ]
  },
  {
   "cell_type": "code",
   "execution_count": 15,
   "metadata": {
    "execution": {
     "iopub.execute_input": "2020-08-26T20:25:11.488642Z",
     "iopub.status.busy": "2020-08-26T20:25:11.488139Z",
     "iopub.status.idle": "2020-08-26T20:25:13.571696Z",
     "shell.execute_reply": "2020-08-26T20:25:13.572707Z"
    },
    "papermill": {
     "duration": 2.104629,
     "end_time": "2020-08-26T20:25:13.572890",
     "exception": false,
     "start_time": "2020-08-26T20:25:11.468261",
     "status": "completed"
    },
    "slideshow": {
     "slide_type": "skip"
    },
    "tags": [
     "remove_cell"
    ]
   },
   "outputs": [
    {
     "name": "stdout",
     "output_type": "stream",
     "text": [
      "[NbConvertApp] Converting notebook index.ipynb to html\r\n"
     ]
    },
    {
     "name": "stdout",
     "output_type": "stream",
     "text": [
      "[NbConvertApp] Writing 354150 bytes to index.html\r\n"
     ]
    }
   ],
   "source": [
    "# Convert Jupyter Notebook to HTML\n",
    "! jupyter nbconvert \"index.ipynb\" --to html --TagRemovePreprocessor.enabled=True --TagRemovePreprocessor.remove_cell_tags=\"['remove_cell']\" --TagRemovePreprocessor.remove_input_tags=\"['remove_input']\" --no-prompt"
   ]
  },
  {
   "cell_type": "code",
   "execution_count": 16,
   "metadata": {
    "execution": {
     "iopub.execute_input": "2020-08-26T20:25:13.601668Z",
     "iopub.status.busy": "2020-08-26T20:25:13.601171Z",
     "iopub.status.idle": "2020-08-26T20:25:13.603677Z",
     "shell.execute_reply": "2020-08-26T20:25:13.604052Z"
    },
    "papermill": {
     "duration": 0.019344,
     "end_time": "2020-08-26T20:25:13.604203",
     "exception": false,
     "start_time": "2020-08-26T20:25:13.584859",
     "status": "completed"
    },
    "tags": [
     "remove_cell"
    ]
   },
   "outputs": [],
   "source": [
    "# Create daily commit message\n",
    "now = datetime.datetime.now()\n",
    "commit_message = \"Last scraped on \" + str(now)"
   ]
  },
  {
   "cell_type": "code",
   "execution_count": null,
   "metadata": {
    "execution": {
     "iopub.execute_input": "2020-08-26T20:24:15.415478Z",
     "iopub.status.busy": "2020-08-26T20:24:15.414989Z",
     "iopub.status.idle": "2020-08-26T20:24:20.603664Z",
     "shell.execute_reply": "2020-08-26T20:24:20.602468Z"
    },
    "papermill": {
     "duration": null,
     "end_time": null,
     "exception": false,
     "start_time": "2020-08-26T20:25:13.615289",
     "status": "running"
    },
    "tags": [
     "remove_cell"
    ]
   },
   "outputs": [],
   "source": [
    "# Deploy to GitHub\n",
    "! git add .\n",
    "! echo $commit_message > commit_message.txt\n",
    "! git commit -F commit_message.txt\n",
    "! git push"
   ]
  }
 ],
 "metadata": {
  "celltoolbar": "Tags",
  "kernelspec": {
   "display_name": "Python 3",
   "language": "python",
   "name": "python3"
  },
  "language_info": {
   "codemirror_mode": {
    "name": "ipython",
    "version": 3
   },
   "file_extension": ".py",
   "mimetype": "text/x-python",
   "name": "python",
   "nbconvert_exporter": "python",
   "pygments_lexer": "ipython3",
   "version": "3.7.3"
  },
  "papermill": {
   "duration": null,
   "end_time": null,
   "environment_variables": {},
   "exception": null,
   "input_path": "/home/alice_lepissier/cron-job/index.ipynb",
   "output_path": "/home/alice_lepissier/cron-job/index.ipynb",
   "parameters": {},
   "start_time": "2020-08-26T20:25:02.126039",
   "version": "2.1.3"
  }
 },
 "nbformat": 4,
 "nbformat_minor": 4
}