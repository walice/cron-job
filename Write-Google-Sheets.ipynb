{
 "cells": [
  {
   "cell_type": "code",
   "execution_count": 1,
   "metadata": {
    "execution": {
     "iopub.execute_input": "2020-08-26T06:18:02.907601Z",
     "iopub.status.busy": "2020-08-26T06:18:02.907091Z",
     "iopub.status.idle": "2020-08-26T06:18:03.030613Z",
     "shell.execute_reply": "2020-08-26T06:18:03.031412Z"
    },
    "papermill": {
     "duration": 0.135102,
     "end_time": "2020-08-26T06:18:03.031633",
     "exception": false,
     "start_time": "2020-08-26T06:18:02.896531",
     "status": "completed"
    },
    "tags": []
   },
   "outputs": [],
   "source": [
    "# Preamble\n",
    "import datetime, time, pytz\n",
    "import gspread\n",
    "from oauth2client.service_account import ServiceAccountCredentials"
   ]
  },
  {
   "cell_type": "code",
   "execution_count": 2,
   "metadata": {
    "execution": {
     "iopub.execute_input": "2020-08-26T06:18:03.044439Z",
     "iopub.status.busy": "2020-08-26T06:18:03.043912Z",
     "iopub.status.idle": "2020-08-26T06:18:03.046948Z",
     "shell.execute_reply": "2020-08-26T06:18:03.047655Z"
    },
    "papermill": {
     "duration": 0.013302,
     "end_time": "2020-08-26T06:18:03.047823",
     "exception": false,
     "start_time": "2020-08-26T06:18:03.034521",
     "status": "completed"
    },
    "tags": []
   },
   "outputs": [],
   "source": [
    "# Set up Google Sheet API\n",
    "scope = [\"https://spreadsheets.google.com/feeds\",'https://www.googleapis.com/auth/spreadsheets',\"https://www.googleapis.com/auth/drive.file\",\"https://www.googleapis.com/auth/drive\"]\n",
    "creds = ServiceAccountCredentials.from_json_keyfile_name(\"/home/alice_lepissier/cron-job/credentials.json\", scope)\n",
    "client = gspread.authorize(creds)"
   ]
  },
  {
   "cell_type": "code",
   "execution_count": 3,
   "metadata": {
    "execution": {
     "iopub.execute_input": "2020-08-26T06:18:03.059323Z",
     "iopub.status.busy": "2020-08-26T06:18:03.058820Z",
     "iopub.status.idle": "2020-08-26T06:18:04.696680Z",
     "shell.execute_reply": "2020-08-26T06:18:04.697485Z"
    },
    "papermill": {
     "duration": 1.647247,
     "end_time": "2020-08-26T06:18:04.697654",
     "exception": false,
     "start_time": "2020-08-26T06:18:03.050407",
     "status": "completed"
    },
    "tags": []
   },
   "outputs": [
    {
     "data": {
      "text/plain": [
       "{'spreadsheetId': '1pcqdMzKtea2Oq3BDmdAOQ21gZjCssieKI0692VfNLXU',\n",
       " 'updatedRange': 'Sheet1!A2:B2',\n",
       " 'updatedRows': 1,\n",
       " 'updatedColumns': 2,\n",
       " 'updatedCells': 2}"
      ]
     },
     "execution_count": 3,
     "metadata": {},
     "output_type": "execute_result"
    }
   ],
   "source": [
    "# Append data as a new row in Google Sheet\n",
    "sheet = client.open(\"Test cron job\").sheet1\n",
    "insertRow = [datetime.datetime.today().strftime(\"%Y-%m-%d\"),\n",
    "             datetime.datetime.now(pytz.timezone('America/Los_Angeles')).strftime(\"%H:%M:%S\")]\n",
    "sheet.insert_row(insertRow, 2)"
   ]
  }
 ],
 "metadata": {
  "kernelspec": {
   "display_name": "Python 3",
   "language": "python",
   "name": "python3"
  },
  "language_info": {
   "codemirror_mode": {
    "name": "ipython",
    "version": 3
   },
   "file_extension": ".py",
   "mimetype": "text/x-python",
   "name": "python",
   "nbconvert_exporter": "python",
   "pygments_lexer": "ipython3",
   "version": "3.8.5"
  },
  "papermill": {
   "duration": 2.95591,
   "end_time": "2020-08-26T06:18:05.009289",
   "environment_variables": {},
   "exception": null,
   "input_path": "/home/alice_lepissier/cron-job/Write-Google-Sheets.ipynb",
   "output_path": "/home/alice_lepissier/cron-job/Write-Google-Sheets.ipynb",
   "parameters": {},
   "start_time": "2020-08-26T06:18:02.053379",
   "version": "2.1.3"
  }
 },
 "nbformat": 4,
 "nbformat_minor": 4
}
